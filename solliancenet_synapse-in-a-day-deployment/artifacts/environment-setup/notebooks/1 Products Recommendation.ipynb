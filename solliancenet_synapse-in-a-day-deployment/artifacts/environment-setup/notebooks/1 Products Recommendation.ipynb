{
  "metadata": {
    "saveOutput": true,
    "language_info": {
      "name": "python"
    }
  },
  "nbformat": 4,
  "nbformat_minor": 2,
  "cells": [
    {
      "cell_type": "markdown",
      "metadata": {},
      "source": [
        "<p style=\"font-size:25px; color:black;\"><u><i><b>Product Recommendations</b></i></u></p>\n",
        "<p style=\"font-size:16px; color:#117d30;\">\n",
        "    Product recommendations is a filtering system that predicts and shows the items that a user would likely purchase based on their purchase history.\n",
        "</p>\n",
        "\n",
        "<p style=\"font-size:15px; color:#318f50;\">\n",
        "Note:\n",
        "</p>\n",
        "<p style=\"font-size:15px; color:#117d30;\">\n",
        " This notebook is written in Scala, and there is interoperability between Scala and Python code.\n",
        "</p>\n",
        "<p style=\"font-size:15px; color:#117d30;\">\n",
        "    <u> Steps: </u>\n",
        "</p>\n",
        "<p style=\"font-size:15px; color:#117d30;\">\n",
        "1) Data is ingested from Azure Synapse Data Warehouse using PySpark.\n",
        "</p>\n",
        "<p style=\"font-size:15px; color:#117d30;\">\n",
        "2) The model is trained using the PySpark ML-Lib recommendations module.\n",
        "</p>\n",
        "<p style=\"font-size:15px; color:#117d30;\">\n",
        "3) Product recommendations are generated for the user.\n",
        "</p>"
      ],
      "attachments": {}
    },
    {
      "cell_type": "markdown",
      "metadata": {},
      "source": [
        "## *Connecting to Azure Synapse Data Warehouse*\n",
        "<p style=\"font-size:16px; color:#117d30;\">\n",
        "    Connection to Azure Synapse Data Warehouse is initiated and the required data is ingested for processing.\n",
        "    The warehouse is connected with a single line of code. Just point to actions in a table, click on a new notebook, and then click on \"Load to DataFrame\".  </p>\n",
        "   <p style=\"font-size:16px; color:#117d30;\"> After providing the necessary details,  the required data is loaded in the form of a Spark dataframe.\n",
        "One magical line of code converts a dataframe from Scala to Python!\n",
        "</p>"
      ],
      "attachments": {}
    },
    {
      "cell_type": "code",
      "execution_count": 3,
      "outputs": [],
      "metadata": {},
      "source": [
        "%%pyspark\n",
        "import os\n",
        "import sys\n",
        "import pandas as pd \n",
        "import numpy as np\n",
        "import re\n",
        "import pandas as pd\n",
        "from scipy import spatial\n",
        "from IPython.display import display\n",
        "from pyspark.sql.functions import *\n",
        "from pyspark.sql.types import *\n",
        "from pyspark.sql.window import Window\n",
        "from pyspark.mllib.recommendation import ALS, MatrixFactorizationModel, Rating\n",
        "from pyspark import SparkContext\n",
        "\n",
        "import traceback"
      ],
      "attachments": {}
    },
    {
      "cell_type": "code",
      "execution_count": 4,
      "outputs": [
        {
          "output_type": "execute_result",
          "data": {
            "text/plain": "+-----------+----------+------+--------------------+\n|customer_id|product_id|rating|        product_name|\n+-----------+----------+------+--------------------+\n|       1402|        29|     5|Gray with white s...|\n|      51036|         4|     3|     Brown SurfBoard|\n|      33662|        23|     5|   Crystal Wineglass|\n|      73162|         3|     5|    Blue Surf Board |\n|      14164|        17|     5|Wood and Cork Coa...|\n|      36731|        30|     5|         Brown Shoes|\n|      90545|        14|     1|    Designer Coaster|\n|      36574|         2|     5|     Retro surfboard|\n|      20246|        26|     3|         Black Shoes|\n|      14262|        14|     1|    Designer Coaster|\n+-----------+----------+------+--------------------+\nonly showing top 10 rows"
          },
          "execution_count": 4,
          "metadata": {}
        }
      ],
      "metadata": {},
      "source": [
        "%%pyspark\n",
        "customer_data = spark.read.load('abfss://machine-learning@#DATA_LAKE_NAME#.dfs.core.windows.net/customer-sales-latest.csv'\n",
        "    ,format='csv'\n",
        "    ,header=True)\n",
        "customer_data.show(10)"
      ],
      "attachments": {}
    },
    {
      "cell_type": "code",
      "execution_count": 5,
      "outputs": [
        {
          "output_type": "execute_result",
          "data": {
            "text/plain": "+----------+--------------------+\n|product_id|        product_name|\n+----------+--------------------+\n|        19|Yellow mature Dut...|\n|        16|        Turkish Lira|\n|        12|        Blue Coaster|\n|        25|         White Shoes|\n|        31|          Blue Shoes|\n|        27|          Pink Shoes|\n|        11|     Black corkscrew|\n|        28|Black with red so...|\n|         8|       Red Corkscrew|\n|        29|Gray with white s...|\n+----------+--------------------+\nonly showing top 10 rows"
          },
          "execution_count": 5,
          "metadata": {}
        }
      ],
      "metadata": {},
      "source": [
        "%%pyspark\n",
        "product_info = customer_data.select('product_id', 'product_name').distinct()\n",
        "product_info.show(10)"
      ],
      "attachments": {}
    },
    {
      "cell_type": "markdown",
      "metadata": {},
      "source": [
        "## ***Training the model***\n",
        "<p style=\"font-size:16px; color:#117d30;\">\n",
        "    \n",
        "    The machine learning model used is the recommendation module present in\n",
        "    pyspark.mllib.\n",
        "</p>\n",
        "<p style=\"font-size:16px; color:#117d30;\">\n",
        "    Using the ALS (alternating least square) method, we can train the model, which takes a list of tuples consisting mainly of \"userID\", \"productID\" and \"rating\".\n",
        "</p>\n",
        "<p style=\"font-size:16px; color:#117d30;\">\n",
        "    The parameters passed in training the model are a list of tuples, no. of iterations, and rank.\n",
        "</p>\n",
        "<!-- <p style=\"font-size:16px; color:#117d30;\">\n",
        "    Rank is the no. of features to use while training the model.\n",
        "</p> -->\n",
        ""
      ],
      "attachments": {}
    },
    {
      "cell_type": "code",
      "execution_count": 6,
      "outputs": [],
      "metadata": {},
      "source": [
        "%%pyspark\n",
        "\n",
        "def train_model():\n",
        "  \"\"\"\n",
        "    Training model for predicting the recommendation on given set of input\n",
        "  \"\"\"\n",
        "  try:\n",
        "    rank = 5\n",
        "    numIterations = 10\n",
        "    print(\"Training model.........\")\n",
        "    \n",
        "    model = ALS.train(customer_data.select('customer_id', 'product_id', 'rating'), rank, numIterations, seed=30)\n",
        "    # model.save(sc, PATH)\n",
        "    return model\n",
        "  except:\n",
        "    traceback.print_exc()\n",
        "    return \"Error while loading model\""
      ],
      "attachments": {}
    },
    {
      "cell_type": "code",
      "execution_count": 7,
      "outputs": [
        {
          "output_type": "execute_result",
          "data": {
            "text/plain": "Training model........."
          },
          "execution_count": 7,
          "metadata": {}
        }
      ],
      "metadata": {},
      "source": [
        "%%pyspark\n",
        "trained_model = train_model()"
      ],
      "attachments": {}
    },
    {
      "cell_type": "code",
      "execution_count": 8,
      "outputs": [],
      "metadata": {},
      "source": [
        "%%pyspark\n",
        "def calculate_similarities(product_id, product_vector, threshold):\n",
        "    similarities = trained_model.productFeatures() \\\n",
        "        .map(lambda products: [product_id, products[0], float(1 - spatial.distance.cosine(products[1], product_vector))]) \\\n",
        "        .filter(lambda x: x[2] >= threshold) \\\n",
        "        .collect()\n",
        "    return similarities"
      ],
      "attachments": {}
    },
    {
      "cell_type": "code",
      "execution_count": 9,
      "outputs": [],
      "metadata": {},
      "source": [
        "%%pyspark\n",
        "product_recommendations = []\n",
        "\n",
        "for key,value in trained_model.productFeatures().collect():\n",
        "    product_recommendations += calculate_similarities(key, value, 0.75)"
      ],
      "attachments": {}
    },
    {
      "cell_type": "code",
      "execution_count": 10,
      "outputs": [
        {
          "output_type": "execute_result",
          "data": {
            "text/plain": "+---------+--------------------+--------------------+----------------------+------------------+\n|ProductId|         ProductName|RecommendedProductId|RecommendedProductName|        Similarity|\n+---------+--------------------+--------------------+----------------------+------------------+\n|        2|     Retro surfboard|                   2|       Retro surfboard|               1.0|\n|        2|     Retro surfboard|                  15|      Brown Cupholders|0.9053134954610791|\n|        2|     Retro surfboard|                  19|  Yellow mature Dut...| 0.823542595663269|\n|        2|     Retro surfboard|                  25|           White Shoes|0.8958373087190166|\n|        3|    Blue Surf Board |                  27|            Pink Shoes|0.7562873258519358|\n|        3|    Blue Surf Board |                  31|            Blue Shoes|0.7836240001945383|\n|        3|    Blue Surf Board |                   3|      Blue Surf Board |               1.0|\n|        3|    Blue Surf Board |                  21|         Cheese circle| 0.863556204429556|\n|        4|     Brown SurfBoard|                  29|  Gray with white s...|0.8621612510689206|\n|        4|     Brown SurfBoard|                   4|       Brown SurfBoard|               1.0|\n|        4|     Brown SurfBoard|                  14|      Designer Coaster|0.8078842567083846|\n|        4|     Brown SurfBoard|                   7|         Red Surfboard|0.8351011661754266|\n|        4|     Brown SurfBoard|                  24|  Unbreakable wineg...|0.8156577101510575|\n|        5|    Orange SurfBoard|                  10|       Steel corkscrew|0.8455631051308501|\n|        5|    Orange SurfBoard|                   5|      Orange SurfBoard|               1.0|\n|        5|    Orange SurfBoard|                   9|        Wine corkscrew|0.7668548454674974|\n|        5|    Orange SurfBoard|                  16|          Turkish Lira|0.7545608629774414|\n|        6|Blue Stripped Sur...|                  25|           White Shoes|0.8531141851594023|\n|        6|Blue Stripped Sur...|                  15|      Brown Cupholders|0.8366453942705667|\n|        6|Blue Stripped Sur...|                   6|  Blue Stripped Sur...|               1.0|\n|        6|Blue Stripped Sur...|                  13|         Brown Coaster|0.8853523157067046|\n|        7|       Red Surfboard|                   7|         Red Surfboard|               1.0|\n|        7|       Red Surfboard|                  29|  Gray with white s...| 0.788370071801426|\n|        7|       Red Surfboard|                   4|       Brown SurfBoard|0.8351011661754266|\n|        8|       Red Corkscrew|                  12|          Blue Coaster|0.9567298352775614|\n|        8|       Red Corkscrew|                  28|  Black with red so...|0.7668994862051393|\n|        8|       Red Corkscrew|                   8|         Red Corkscrew|               1.0|\n|        8|       Red Corkscrew|                  32|           Beach Shoes| 0.759050145099239|\n|        9|      Wine corkscrew|                   5|      Orange SurfBoard|0.7668548454674974|\n|        9|      Wine corkscrew|                  21|         Cheese circle|0.8447028464987419|\n|        9|      Wine corkscrew|                  28|  Black with red so...|0.8323387361546503|\n|        9|      Wine corkscrew|                   9|        Wine corkscrew|               1.0|\n|       10|     Steel corkscrew|                  10|       Steel corkscrew|               1.0|\n|       10|     Steel corkscrew|                  31|            Blue Shoes|0.7542318899283764|\n|       10|     Steel corkscrew|                   5|      Orange SurfBoard|0.8455631051308501|\n|       10|     Steel corkscrew|                  16|          Turkish Lira|0.8185468131850703|\n|       10|     Steel corkscrew|                  30|           Brown Shoes| 0.754519117277862|\n|       11|     Black corkscrew|                  27|            Pink Shoes| 0.829772070801043|\n|       11|     Black corkscrew|                  11|       Black corkscrew|               1.0|\n|       11|     Black corkscrew|                  23|     Crystal Wineglass|0.7634615492067875|\n|       11|     Black corkscrew|                  32|           Beach Shoes| 0.755776436511104|\n|       11|     Black corkscrew|                  20|          Cheese chunk|0.8001594386140062|\n|       12|        Blue Coaster|                  12|          Blue Coaster|               1.0|\n|       12|        Blue Coaster|                  20|          Cheese chunk|0.7598116525067583|\n|       12|        Blue Coaster|                   8|         Red Corkscrew|0.9567298352775614|\n|       12|        Blue Coaster|                  32|           Beach Shoes| 0.862560966915383|\n|       13|       Brown Coaster|                   6|  Blue Stripped Sur...|0.8853523157067046|\n|       13|       Brown Coaster|                  15|      Brown Cupholders|0.8649641500888217|\n|       13|       Brown Coaster|                  13|         Brown Coaster|               1.0|\n|       13|       Brown Coaster|                  25|           White Shoes|0.7763709159749947|\n|       14|    Designer Coaster|                  14|      Designer Coaster|               1.0|\n|       14|    Designer Coaster|                  31|            Blue Shoes|0.7792083507080739|\n|       14|    Designer Coaster|                   4|       Brown SurfBoard|0.8078842567083846|\n|       15|    Brown Cupholders|                  13|         Brown Coaster|0.8649641500888217|\n|       15|    Brown Cupholders|                  25|           White Shoes|0.9437451750066331|\n|       15|    Brown Cupholders|                  30|           Brown Shoes| 0.790812117113433|\n|       15|    Brown Cupholders|                  15|      Brown Cupholders|               1.0|\n|       15|    Brown Cupholders|                   2|       Retro surfboard|0.9053134954610791|\n|       15|    Brown Cupholders|                   6|  Blue Stripped Sur...|0.8366453942705667|\n|       16|        Turkish Lira|                  10|       Steel corkscrew|0.8185468131850703|\n|       16|        Turkish Lira|                   5|      Orange SurfBoard|0.7545608629774414|\n|       16|        Turkish Lira|                  30|           Brown Shoes|0.8162579657185814|\n|       16|        Turkish Lira|                  16|          Turkish Lira|               1.0|\n|       17|Wood and Cork Coa...|                  26|           Black Shoes|0.8871440147588218|\n|       17|Wood and Cork Coa...|                  32|           Beach Shoes|0.8703507215819061|\n|       17|Wood and Cork Coa...|                  17|  Wood and Cork Coa...|               1.0|\n|       18|       French cheese|                  18|         French cheese|               1.0|\n|       19|Yellow mature Dut...|                  19|  Yellow mature Dut...|               1.0|\n|       19|Yellow mature Dut...|                   2|       Retro surfboard| 0.823542595663269|\n|       20|        Cheese chunk|                  26|           Black Shoes|0.8083022502201348|\n|       20|        Cheese chunk|                  12|          Blue Coaster|0.7598116525067583|\n|       20|        Cheese chunk|                  11|       Black corkscrew|0.8001594386140062|\n|       20|        Cheese chunk|                  20|          Cheese chunk|               1.0|\n|       20|        Cheese chunk|                  32|           Beach Shoes|0.8750189796333415|\n|       21|       Cheese circle|                  21|         Cheese circle|               1.0|\n|       21|       Cheese circle|                   9|        Wine corkscrew|0.8447028464987419|\n|       21|       Cheese circle|                   3|      Blue Surf Board | 0.863556204429556|\n|       22|          Wineglass |                  27|            Pink Shoes|0.8422219416645899|\n|       22|          Wineglass |                  22|            Wineglass |               1.0|\n|       23|   Crystal Wineglass|                  11|       Black corkscrew|0.7634615492067875|\n|       23|   Crystal Wineglass|                  23|     Crystal Wineglass|               1.0|\n|       24|Unbreakable wineg...|                   4|       Brown SurfBoard|0.8156577101510575|\n|       24|Unbreakable wineg...|                  24|  Unbreakable wineg...|               1.0|\n|       25|         White Shoes|                   2|       Retro surfboard|0.8958373087190166|\n|       25|         White Shoes|                  13|         Brown Coaster|0.7763709159749947|\n|       25|         White Shoes|                  25|           White Shoes|               1.0|\n|       25|         White Shoes|                  30|           Brown Shoes|0.7736331535587679|\n|       25|         White Shoes|                  15|      Brown Cupholders|0.9437451750066331|\n|       25|         White Shoes|                   6|  Blue Stripped Sur...|0.8531141851594023|\n|       26|         Black Shoes|                  20|          Cheese chunk|0.8083022502201348|\n|       26|         Black Shoes|                  32|           Beach Shoes|0.8836899109321862|\n|       26|         Black Shoes|                  26|           Black Shoes|               1.0|\n|       26|         Black Shoes|                  17|  Wood and Cork Coa...|0.8871440147588218|\n|       27|          Pink Shoes|                   3|      Blue Surf Board |0.7562873258519358|\n|       27|          Pink Shoes|                  27|            Pink Shoes|               1.0|\n|       27|          Pink Shoes|                  11|       Black corkscrew| 0.829772070801043|\n|       27|          Pink Shoes|                  22|            Wineglass |0.8422219416645899|\n|       28|Black with red so...|                   9|        Wine corkscrew|0.8323387361546503|\n|       28|Black with red so...|                  28|  Black with red so...|               1.0|\n|       28|Black with red so...|                   8|         Red Corkscrew|0.7668994862051393|\n+---------+--------------------+--------------------+----------------------+------------------+\nonly showing top 100 rows"
          },
          "execution_count": 10,
          "metadata": {}
        }
      ],
      "metadata": {},
      "source": [
        "%%pyspark\n",
        "\n",
        "recommend_df = spark.createDataFrame(product_recommendations, ['ProductId', 'RecommendedProductId', 'Similarity'])\n",
        "\n",
        "result = recommend_df \\\n",
        "    .join(product_info, recommend_df.ProductId == product_info.product_id, how='inner') \\\n",
        "    .withColumnRenamed('product_name', 'ProductName') \\\n",
        "    .select('ProductId', 'ProductName', 'RecommendedProductId', 'Similarity') \\\n",
        "    .join(product_info, recommend_df.RecommendedProductId == product_info.product_id, how='inner') \\\n",
        "    .withColumnRenamed('product_name', 'RecommendedProductName') \\\n",
        "    .select('ProductId', 'ProductName', 'RecommendedProductId', 'RecommendedProductName', 'Similarity') \\\n",
        "    .orderBy('ProductId')\n",
        "result.show(100)"
      ],
      "attachments": {}
    },
    {
      "cell_type": "code",
      "execution_count": 11,
      "outputs": [],
      "metadata": {},
      "source": [
        "result \\\n",
        "    .repartition(1) \\\n",
        "    .write.format('csv') \\\n",
        "    .option(\"header\", \"true\") \\\n",
        "    .mode(\"overwrite\") \\\n",
        "    .save('abfss://machine-learning@#DATA_LAKE_NAME#.dfs.core.windows.net/product-recommendations.csv')"
      ],
      "attachments": {}
    }
  ]
}