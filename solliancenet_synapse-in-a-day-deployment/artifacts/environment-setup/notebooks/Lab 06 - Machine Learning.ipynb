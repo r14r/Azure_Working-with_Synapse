{
  "cells": [
    {
      "cell_type": "markdown",
      "metadata": {},
      "source": [
        "# Train a classifier to determine product seasonality\n",
        ""
      ],
      "attachments": {}
    },
    {
      "cell_type": "markdown",
      "metadata": {},
      "source": [
        "First, check if XGBoost is properly installed in the Spark environment (shoud have version 1.0.2)\n",
        ""
      ],
      "attachments": {}
    },
    {
      "cell_type": "code",
      "execution_count": null,
      "outputs": [],
      "metadata": {},
      "source": [
        "import pip\n",
        "pip.get_installed_distributions()"
      ],
      "attachments": {}
    },
    {
      "cell_type": "markdown",
      "metadata": {},
      "source": [
        "Import all necessary libraries.\n",
        ""
      ],
      "attachments": {}
    },
    {
      "cell_type": "code",
      "execution_count": null,
      "outputs": [],
      "metadata": {},
      "source": [
        "from sklearn.preprocessing import StandardScaler, MinMaxScaler, Normalizer\n",
        "from sklearn.decomposition import PCA\n",
        "from sklearn.model_selection import train_test_split\n",
        "from sklearn.metrics import accuracy_score\n",
        "\n",
        "from xgboost import XGBClassifier\n",
        "\n",
        "from onnxmltools.convert import convert_xgboost\n",
        "from onnxmltools.convert.common.data_types import FloatTensorType\n",
        "\n",
        "import numpy as np\n",
        "import pandas as pd\n",
        "import matplotlib.pyplot as plt"
      ],
      "attachments": {}
    },
    {
      "cell_type": "markdown",
      "metadata": {},
      "source": [
        "## Exploratory data analysis (basic stats)\n",
        "\n",
        "Create Spark temporary views for sales and products.\n",
        "\n",
        "**IMPORTANT!** Make sure the name of the SQL pool (`#SQL_POOL_NAME#` below) matches the name of your SQL pool.\n",
        ""
      ],
      "attachments": {}
    },
    {
      "cell_type": "code",
      "execution_count": null,
      "outputs": [],
      "metadata": {
        "diagram": {
          "activateDiagramType": 1,
          "chartConfig": {
            "category": "bar",
            "keys": [
              "Seasonality"
            ],
            "values": [
              "ProductId"
            ],
            "yLabel": "ProductId",
            "xLabel": "Seasonality",
            "aggregation": "SUM",
            "aggByBackend": false
          },
          "aggData": {
            "ProductId": {
              "1": 2345398,
              "2": 810051,
              "3": 732812
            }
          },
          "isSummary": false,
          "previewData": {
            "rows": [
              {
                "ProductId": 3901,
                "Seasonality": 1,
                "Price": 14.08,
                "Profit": 3.57
              },
              {
                "ProductId": 3902,
                "Seasonality": 1,
                "Price": 31.3,
                "Profit": 7.85
              },
              {
                "ProductId": 3903,
                "Seasonality": 1,
                "Price": 29.39,
                "Profit": 7.83
              },
              {
                "ProductId": 3904,
                "Seasonality": 1,
                "Price": 20.64,
                "Profit": 5.92
              },
              {
                "ProductId": 3905,
                "Seasonality": 1,
                "Price": 31.22,
                "Profit": 11.66
              },
              {
                "ProductId": 3906,
                "Seasonality": 1,
                "Price": 23.69,
                "Profit": 6.5
              },
              {
                "ProductId": 3907,
                "Seasonality": 3,
                "Price": 29.05,
                "Profit": 10.1
              },
              {
                "ProductId": 3908,
                "Seasonality": 3,
                "Price": 18.5,
                "Profit": 4.75
              },
              {
                "ProductId": 3909,
                "Seasonality": 1,
                "Price": 26.09,
                "Profit": 7.7
              },
              {
                "ProductId": 3910,
                "Seasonality": 1,
                "Price": 25.87,
                "Profit": 6.74
              },
              {
                "ProductId": 3911,
                "Seasonality": 1,
                "Price": 34.56,
                "Profit": 8.97
              },
              {
                "ProductId": 3912,
                "Seasonality": 3,
                "Price": 21.28,
                "Profit": 4.94
              },
              {
                "ProductId": 3913,
                "Seasonality": 1,
                "Price": 22.16,
                "Profit": 5.72
              },
              {
                "ProductId": 3914,
                "Seasonality": 1,
                "Price": 33.19,
                "Profit": 10.3
              },
              {
                "ProductId": 3915,
                "Seasonality": 1,
                "Price": 36.84,
                "Profit": 10.62
              },
              {
                "ProductId": 3916,
                "Seasonality": 1,
                "Price": 33.23,
                "Profit": 11.25
              },
              {
                "ProductId": 3917,
                "Seasonality": 3,
                "Price": 31.41,
                "Profit": 10.65
              },
              {
                "ProductId": 3918,
                "Seasonality": 3,
                "Price": 24.82,
                "Profit": 6.92
              },
              {
                "ProductId": 3919,
                "Seasonality": 2,
                "Price": 28.91,
                "Profit": 9.54
              },
              {
                "ProductId": 3920,
                "Seasonality": 1,
                "Price": 26.62,
                "Profit": 6.8
              },
              {
                "ProductId": 3921,
                "Seasonality": 1,
                "Price": 20.87,
                "Profit": 7.15
              },
              {
                "ProductId": 3922,
                "Seasonality": 1,
                "Price": 32.73,
                "Profit": 9.29
              },
              {
                "ProductId": 3923,
                "Seasonality": 1,
                "Price": 29.1,
                "Profit": 8.39
              },
              {
                "ProductId": 3924,
                "Seasonality": 1,
                "Price": 19.41,
                "Profit": 6.42
              },
              {
                "ProductId": 3925,
                "Seasonality": 1,
                "Price": 26.35,
                "Profit": 7.71
              },
              {
                "ProductId": 3926,
                "Seasonality": 1,
                "Price": 29.3,
                "Profit": 8.89
              },
              {
                "ProductId": 3927,
                "Seasonality": 1,
                "Price": 34.03,
                "Profit": 10.58
              },
              {
                "ProductId": 3928,
                "Seasonality": 3,
                "Price": 34.3,
                "Profit": 10.1
              },
              {
                "ProductId": 3929,
                "Seasonality": 3,
                "Price": 40,
                "Profit": 14.16
              },
              {
                "ProductId": 3930,
                "Seasonality": 2,
                "Price": 29.02,
                "Profit": 9.99
              },
              {
                "ProductId": 3931,
                "Seasonality": 1,
                "Price": 29.56,
                "Profit": 7.88
              },
              {
                "ProductId": 3932,
                "Seasonality": 1,
                "Price": 28.78,
                "Profit": 7.66
              },
              {
                "ProductId": 3933,
                "Seasonality": 3,
                "Price": 14.68,
                "Profit": 4.46
              },
              {
                "ProductId": 3934,
                "Seasonality": 1,
                "Price": 32.7,
                "Profit": 8.61
              },
              {
                "ProductId": 3935,
                "Seasonality": 1,
                "Price": 28.85,
                "Profit": 12.05
              },
              {
                "ProductId": 3936,
                "Seasonality": 2,
                "Price": 32.01,
                "Profit": 10.46
              },
              {
                "ProductId": 3937,
                "Seasonality": 1,
                "Price": 25.79,
                "Profit": 7.11
              },
              {
                "ProductId": 3938,
                "Seasonality": 3,
                "Price": 26.02,
                "Profit": 6.61
              },
              {
                "ProductId": 3939,
                "Seasonality": 1,
                "Price": 24.57,
                "Profit": 8.04
              },
              {
                "ProductId": 3940,
                "Seasonality": 1,
                "Price": 29.62,
                "Profit": 10.11
              },
              {
                "ProductId": 3941,
                "Seasonality": 2,
                "Price": 27.81,
                "Profit": 10.17
              },
              {
                "ProductId": 3942,
                "Seasonality": 2,
                "Price": 23.74,
                "Profit": 6.94
              },
              {
                "ProductId": 3943,
                "Seasonality": 3,
                "Price": 33.97,
                "Profit": 8.97
              },
              {
                "ProductId": 3944,
                "Seasonality": 3,
                "Price": 31.76,
                "Profit": 9.78
              },
              {
                "ProductId": 3945,
                "Seasonality": 3,
                "Price": 22.96,
                "Profit": 6.1
              },
              {
                "ProductId": 3946,
                "Seasonality": 3,
                "Price": 25.54,
                "Profit": 9.31
              },
              {
                "ProductId": 3947,
                "Seasonality": 1,
                "Price": 30.53,
                "Profit": 9.57
              },
              {
                "ProductId": 3948,
                "Seasonality": 2,
                "Price": 34.92,
                "Profit": 11.5
              },
              {
                "ProductId": 3949,
                "Seasonality": 3,
                "Price": 28.19,
                "Profit": 8.73
              },
              {
                "ProductId": 3950,
                "Seasonality": 1,
                "Price": 32.23,
                "Profit": 7.49
              },
              {
                "ProductId": 3951,
                "Seasonality": 1,
                "Price": 38.73,
                "Profit": 10.36
              },
              {
                "ProductId": 3952,
                "Seasonality": 2,
                "Price": 33.66,
                "Profit": 10.52
              },
              {
                "ProductId": 3953,
                "Seasonality": 1,
                "Price": 28.8,
                "Profit": 8.92
              },
              {
                "ProductId": 3954,
                "Seasonality": 2,
                "Price": 27.88,
                "Profit": 8.4
              },
              {
                "ProductId": 3955,
                "Seasonality": 1,
                "Price": 27.41,
                "Profit": 7.8
              },
              {
                "ProductId": 3956,
                "Seasonality": 1,
                "Price": 26.24,
                "Profit": 8.06
              },
              {
                "ProductId": 3957,
                "Seasonality": 3,
                "Price": 28.33,
                "Profit": 8.28
              },
              {
                "ProductId": 3958,
                "Seasonality": 2,
                "Price": 30.08,
                "Profit": 10.18
              },
              {
                "ProductId": 3959,
                "Seasonality": 1,
                "Price": 25.86,
                "Profit": 8.87
              },
              {
                "ProductId": 3960,
                "Seasonality": 1,
                "Price": 22.99,
                "Profit": 6.31
              },
              {
                "ProductId": 3961,
                "Seasonality": 1,
                "Price": 35.88,
                "Profit": 8.87
              },
              {
                "ProductId": 3962,
                "Seasonality": 2,
                "Price": 20.99,
                "Profit": 6.29
              },
              {
                "ProductId": 3963,
                "Seasonality": 2,
                "Price": 35.53,
                "Profit": 11.97
              },
              {
                "ProductId": 3964,
                "Seasonality": 2,
                "Price": 19.2,
                "Profit": 5.85
              },
              {
                "ProductId": 3965,
                "Seasonality": 2,
                "Price": 31.25,
                "Profit": 9.69
              },
              {
                "ProductId": 3966,
                "Seasonality": 1,
                "Price": 15.17,
                "Profit": 4.75
              },
              {
                "ProductId": 3967,
                "Seasonality": 1,
                "Price": 22.88,
                "Profit": 6.74
              },
              {
                "ProductId": 3968,
                "Seasonality": 2,
                "Price": 27.24,
                "Profit": 8.03
              },
              {
                "ProductId": 3969,
                "Seasonality": 1,
                "Price": 27.36,
                "Profit": 9.11
              },
              {
                "ProductId": 3970,
                "Seasonality": 1,
                "Price": 26.98,
                "Profit": 8.31
              },
              {
                "ProductId": 3971,
                "Seasonality": 1,
                "Price": 31.01,
                "Profit": 11.44
              },
              {
                "ProductId": 3972,
                "Seasonality": 1,
                "Price": 38.22,
                "Profit": 12.1
              },
              {
                "ProductId": 3973,
                "Seasonality": 3,
                "Price": 29.62,
                "Profit": 8.48
              },
              {
                "ProductId": 3974,
                "Seasonality": 1,
                "Price": 32.58,
                "Profit": 10.64
              },
              {
                "ProductId": 3975,
                "Seasonality": 1,
                "Price": 20.42,
                "Profit": 6.95
              },
              {
                "ProductId": 3976,
                "Seasonality": 1,
                "Price": 22.44,
                "Profit": 5.29
              },
              {
                "ProductId": 3977,
                "Seasonality": 3,
                "Price": 31.78,
                "Profit": 8.91
              },
              {
                "ProductId": 3978,
                "Seasonality": 2,
                "Price": 31.51,
                "Profit": 10.99
              },
              {
                "ProductId": 3979,
                "Seasonality": 1,
                "Price": 18.27,
                "Profit": 4.93
              },
              {
                "ProductId": 3980,
                "Seasonality": 1,
                "Price": 34.85,
                "Profit": 13
              },
              {
                "ProductId": 3981,
                "Seasonality": 1,
                "Price": 26.52,
                "Profit": 8.51
              },
              {
                "ProductId": 3982,
                "Seasonality": 1,
                "Price": 21.57,
                "Profit": 6.92
              },
              {
                "ProductId": 3983,
                "Seasonality": 3,
                "Price": 36.37,
                "Profit": 8.92
              },
              {
                "ProductId": 3984,
                "Seasonality": 1,
                "Price": 22.06,
                "Profit": 5.97
              },
              {
                "ProductId": 3985,
                "Seasonality": 1,
                "Price": 25.45,
                "Profit": 6.98
              },
              {
                "ProductId": 3986,
                "Seasonality": 3,
                "Price": 34.64,
                "Profit": 10.53
              },
              {
                "ProductId": 3987,
                "Seasonality": 1,
                "Price": 31.79,
                "Profit": 11.26
              },
              {
                "ProductId": 3988,
                "Seasonality": 1,
                "Price": 21.11,
                "Profit": 6.46
              },
              {
                "ProductId": 3989,
                "Seasonality": 2,
                "Price": 25.26,
                "Profit": 10.47
              },
              {
                "ProductId": 3990,
                "Seasonality": 1,
                "Price": 25.45,
                "Profit": 8.85
              },
              {
                "ProductId": 3991,
                "Seasonality": 2,
                "Price": 23.66,
                "Profit": 8.7
              },
              {
                "ProductId": 3992,
                "Seasonality": 2,
                "Price": 19.87,
                "Profit": 7.18
              },
              {
                "ProductId": 3993,
                "Seasonality": 1,
                "Price": 6.65,
                "Profit": 1.92
              },
              {
                "ProductId": 3994,
                "Seasonality": 1,
                "Price": 22.47,
                "Profit": 6.1
              },
              {
                "ProductId": 3995,
                "Seasonality": 1,
                "Price": 24.84,
                "Profit": 7.51
              },
              {
                "ProductId": 3996,
                "Seasonality": 1,
                "Price": 23.53,
                "Profit": 7.49
              },
              {
                "ProductId": 3997,
                "Seasonality": 1,
                "Price": 40.43,
                "Profit": 13
              },
              {
                "ProductId": 3998,
                "Seasonality": 1,
                "Price": 23.07,
                "Profit": 6.82
              },
              {
                "ProductId": 3999,
                "Seasonality": 2,
                "Price": 23.78,
                "Profit": 6.95
              },
              {
                "ProductId": 4000,
                "Seasonality": 1,
                "Price": 38.94,
                "Profit": 12.87
              },
              {
                "ProductId": 4001,
                "Seasonality": 1,
                "Price": 24.24,
                "Profit": 7.09
              },
              {
                "ProductId": 4002,
                "Seasonality": 1,
                "Price": 20.38,
                "Profit": 6.78
              },
              {
                "ProductId": 4003,
                "Seasonality": 1,
                "Price": 20.45,
                "Profit": 6.54
              },
              {
                "ProductId": 4004,
                "Seasonality": 1,
                "Price": 29.77,
                "Profit": 8.17
              },
              {
                "ProductId": 4005,
                "Seasonality": 3,
                "Price": 25.88,
                "Profit": 8.55
              },
              {
                "ProductId": 4006,
                "Seasonality": 3,
                "Price": 31.34,
                "Profit": 8.3
              },
              {
                "ProductId": 4007,
                "Seasonality": 1,
                "Price": 31.25,
                "Profit": 9.53
              },
              {
                "ProductId": 4008,
                "Seasonality": 1,
                "Price": 26.73,
                "Profit": 8.19
              },
              {
                "ProductId": 4009,
                "Seasonality": 1,
                "Price": 27.57,
                "Profit": 8.38
              },
              {
                "ProductId": 4010,
                "Seasonality": 2,
                "Price": 30.43,
                "Profit": 10.12
              },
              {
                "ProductId": 4011,
                "Seasonality": 3,
                "Price": 36.74,
                "Profit": 12.84
              },
              {
                "ProductId": 4012,
                "Seasonality": 3,
                "Price": 35.92,
                "Profit": 13.01
              },
              {
                "ProductId": 4013,
                "Seasonality": 1,
                "Price": 38.22,
                "Profit": 12.41
              },
              {
                "ProductId": 4014,
                "Seasonality": 2,
                "Price": 29.99,
                "Profit": 6.8
              },
              {
                "ProductId": 4015,
                "Seasonality": 2,
                "Price": 31.72,
                "Profit": 9.86
              },
              {
                "ProductId": 4016,
                "Seasonality": 2,
                "Price": 33.06,
                "Profit": 11.12
              },
              {
                "ProductId": 4017,
                "Seasonality": 1,
                "Price": 31.62,
                "Profit": 10.01
              },
              {
                "ProductId": 4018,
                "Seasonality": 2,
                "Price": 24.94,
                "Profit": 7.03
              },
              {
                "ProductId": 4019,
                "Seasonality": 2,
                "Price": 27.3,
                "Profit": 6.09
              },
              {
                "ProductId": 4020,
                "Seasonality": 1,
                "Price": 19.03,
                "Profit": 6.58
              },
              {
                "ProductId": 4021,
                "Seasonality": 3,
                "Price": 31.12,
                "Profit": 9.37
              },
              {
                "ProductId": 4022,
                "Seasonality": 2,
                "Price": 21.59,
                "Profit": 6.23
              },
              {
                "ProductId": 4023,
                "Seasonality": 1,
                "Price": 36.93,
                "Profit": 7.69
              },
              {
                "ProductId": 4024,
                "Seasonality": 1,
                "Price": 25.97,
                "Profit": 6.98
              },
              {
                "ProductId": 4025,
                "Seasonality": 3,
                "Price": 24.55,
                "Profit": 7.69
              },
              {
                "ProductId": 4026,
                "Seasonality": 3,
                "Price": 30.54,
                "Profit": 11.15
              },
              {
                "ProductId": 4027,
                "Seasonality": 1,
                "Price": 23.3,
                "Profit": 8.01
              },
              {
                "ProductId": 4028,
                "Seasonality": 1,
                "Price": 25.13,
                "Profit": 7.02
              },
              {
                "ProductId": 4029,
                "Seasonality": 1,
                "Price": 31.57,
                "Profit": 9.27
              },
              {
                "ProductId": 4030,
                "Seasonality": 1,
                "Price": 33.55,
                "Profit": 11.43
              },
              {
                "ProductId": 4031,
                "Seasonality": 1,
                "Price": 25.26,
                "Profit": 8.74
              },
              {
                "ProductId": 4032,
                "Seasonality": 3,
                "Price": 24.45,
                "Profit": 6.77
              },
              {
                "ProductId": 4033,
                "Seasonality": 1,
                "Price": 37.14,
                "Profit": 12.28
              },
              {
                "ProductId": 4034,
                "Seasonality": 1,
                "Price": 28.31,
                "Profit": 9.21
              },
              {
                "ProductId": 4035,
                "Seasonality": 1,
                "Price": 33.14,
                "Profit": 8.95
              },
              {
                "ProductId": 4036,
                "Seasonality": 1,
                "Price": 21.53,
                "Profit": 6.8
              },
              {
                "ProductId": 4037,
                "Seasonality": 1,
                "Price": 27.63,
                "Profit": 7.88
              },
              {
                "ProductId": 4038,
                "Seasonality": 2,
                "Price": 26.07,
                "Profit": 7.77
              },
              {
                "ProductId": 4039,
                "Seasonality": 2,
                "Price": 28.3,
                "Profit": 8.5
              },
              {
                "ProductId": 4040,
                "Seasonality": 2,
                "Price": 28.68,
                "Profit": 9.43
              },
              {
                "ProductId": 4041,
                "Seasonality": 3,
                "Price": 28.12,
                "Profit": 8.72
              },
              {
                "ProductId": 4042,
                "Seasonality": 1,
                "Price": 29.38,
                "Profit": 11.07
              },
              {
                "ProductId": 4043,
                "Seasonality": 2,
                "Price": 30.16,
                "Profit": 9.67
              },
              {
                "ProductId": 4044,
                "Seasonality": 1,
                "Price": 12.56,
                "Profit": 3.13
              },
              {
                "ProductId": 4045,
                "Seasonality": 1,
                "Price": 30.86,
                "Profit": 9.3
              },
              {
                "ProductId": 4046,
                "Seasonality": 1,
                "Price": 28.64,
                "Profit": 9.88
              },
              {
                "ProductId": 4047,
                "Seasonality": 1,
                "Price": 25.08,
                "Profit": 6.77
              },
              {
                "ProductId": 4048,
                "Seasonality": 1,
                "Price": 35.11,
                "Profit": 12.22
              },
              {
                "ProductId": 4049,
                "Seasonality": 3,
                "Price": 33.53,
                "Profit": 11.11
              },
              {
                "ProductId": 4050,
                "Seasonality": 1,
                "Price": 22.34,
                "Profit": 6.04
              },
              {
                "ProductId": 4051,
                "Seasonality": 2,
                "Price": 21.06,
                "Profit": 6.48
              },
              {
                "ProductId": 4052,
                "Seasonality": 1,
                "Price": 23.59,
                "Profit": 6.68
              },
              {
                "ProductId": 4053,
                "Seasonality": 1,
                "Price": 30.97,
                "Profit": 9
              },
              {
                "ProductId": 4054,
                "Seasonality": 1,
                "Price": 31.13,
                "Profit": 11.33
              },
              {
                "ProductId": 4055,
                "Seasonality": 1,
                "Price": 22.84,
                "Profit": 7.11
              },
              {
                "ProductId": 4056,
                "Seasonality": 2,
                "Price": 14.72,
                "Profit": 4.87
              },
              {
                "ProductId": 4057,
                "Seasonality": 2,
                "Price": 30.35,
                "Profit": 10.07
              },
              {
                "ProductId": 4058,
                "Seasonality": 2,
                "Price": 25.34,
                "Profit": 7.96
              },
              {
                "ProductId": 4059,
                "Seasonality": 1,
                "Price": 20.42,
                "Profit": 6.4
              },
              {
                "ProductId": 4060,
                "Seasonality": 1,
                "Price": 28.94,
                "Profit": 6.95
              },
              {
                "ProductId": 4061,
                "Seasonality": 1,
                "Price": 28.59,
                "Profit": 8.68
              },
              {
                "ProductId": 4062,
                "Seasonality": 2,
                "Price": 37.98,
                "Profit": 9.94
              },
              {
                "ProductId": 4063,
                "Seasonality": 1,
                "Price": 20.56,
                "Profit": 7
              },
              {
                "ProductId": 4064,
                "Seasonality": 3,
                "Price": 21.99,
                "Profit": 3.8
              },
              {
                "ProductId": 4065,
                "Seasonality": 3,
                "Price": 29.57,
                "Profit": 11.38
              },
              {
                "ProductId": 4066,
                "Seasonality": 2,
                "Price": 19.84,
                "Profit": 4.54
              },
              {
                "ProductId": 4067,
                "Seasonality": 2,
                "Price": 23.66,
                "Profit": 6.86
              },
              {
                "ProductId": 4068,
                "Seasonality": 1,
                "Price": 30.97,
                "Profit": 8.9
              },
              {
                "ProductId": 4069,
                "Seasonality": 3,
                "Price": 29.16,
                "Profit": 7.18
              },
              {
                "ProductId": 4070,
                "Seasonality": 1,
                "Price": 35.76,
                "Profit": 9.16
              },
              {
                "ProductId": 4071,
                "Seasonality": 1,
                "Price": 33.3,
                "Profit": 8.98
              },
              {
                "ProductId": 4072,
                "Seasonality": 1,
                "Price": 27.38,
                "Profit": 9.08
              },
              {
                "ProductId": 4073,
                "Seasonality": 3,
                "Price": 22.3,
                "Profit": 7.57
              },
              {
                "ProductId": 4074,
                "Seasonality": 1,
                "Price": 29.39,
                "Profit": 7.32
              },
              {
                "ProductId": 4075,
                "Seasonality": 1,
                "Price": 15.83,
                "Profit": 4.78
              },
              {
                "ProductId": 4076,
                "Seasonality": 1,
                "Price": 23.02,
                "Profit": 6.43
              },
              {
                "ProductId": 4077,
                "Seasonality": 3,
                "Price": 23.87,
                "Profit": 9.24
              },
              {
                "ProductId": 4078,
                "Seasonality": 1,
                "Price": 25.5,
                "Profit": 8.49
              },
              {
                "ProductId": 4079,
                "Seasonality": 1,
                "Price": 19.04,
                "Profit": 5.94
              },
              {
                "ProductId": 4080,
                "Seasonality": 1,
                "Price": 25.46,
                "Profit": 8.76
              },
              {
                "ProductId": 4081,
                "Seasonality": 1,
                "Price": 19.52,
                "Profit": 5.59
              },
              {
                "ProductId": 4082,
                "Seasonality": 3,
                "Price": 22.39,
                "Profit": 7.1
              },
              {
                "ProductId": 4083,
                "Seasonality": 1,
                "Price": 27.64,
                "Profit": 7.9
              },
              {
                "ProductId": 4084,
                "Seasonality": 3,
                "Price": 36.87,
                "Profit": 11.43
              },
              {
                "ProductId": 4085,
                "Seasonality": 1,
                "Price": 32.75,
                "Profit": 9.92
              },
              {
                "ProductId": 4086,
                "Seasonality": 1,
                "Price": 15.36,
                "Profit": 4.61
              },
              {
                "ProductId": 4087,
                "Seasonality": 2,
                "Price": 24.24,
                "Profit": 6.75
              },
              {
                "ProductId": 4088,
                "Seasonality": 1,
                "Price": 26.96,
                "Profit": 8.67
              },
              {
                "ProductId": 4089,
                "Seasonality": 1,
                "Price": 29.04,
                "Profit": 7.89
              },
              {
                "ProductId": 4090,
                "Seasonality": 1,
                "Price": 26.43,
                "Profit": 6.87
              },
              {
                "ProductId": 4091,
                "Seasonality": 2,
                "Price": 24.96,
                "Profit": 6.61
              },
              {
                "ProductId": 4092,
                "Seasonality": 2,
                "Price": 33.37,
                "Profit": 9.04
              },
              {
                "ProductId": 4093,
                "Seasonality": 1,
                "Price": 26.7,
                "Profit": 8.78
              },
              {
                "ProductId": 4094,
                "Seasonality": 2,
                "Price": 19.49,
                "Profit": 5.13
              },
              {
                "ProductId": 4095,
                "Seasonality": 1,
                "Price": 36.62,
                "Profit": 10.91
              },
              {
                "ProductId": 4096,
                "Seasonality": 2,
                "Price": 25.55,
                "Profit": 8.63
              },
              {
                "ProductId": 4097,
                "Seasonality": 3,
                "Price": 23.33,
                "Profit": 5.65
              },
              {
                "ProductId": 4098,
                "Seasonality": 1,
                "Price": 22.73,
                "Profit": 7.11
              },
              {
                "ProductId": 4099,
                "Seasonality": 1,
                "Price": 31.25,
                "Profit": 8.14
              },
              {
                "ProductId": 4100,
                "Seasonality": 3,
                "Price": 29.86,
                "Profit": 9.02
              },
              {
                "ProductId": 4101,
                "Seasonality": 1,
                "Price": 25.83,
                "Profit": 9.75
              },
              {
                "ProductId": 4102,
                "Seasonality": 2,
                "Price": 18.9,
                "Profit": 6.1
              },
              {
                "ProductId": 4103,
                "Seasonality": 2,
                "Price": 27.02,
                "Profit": 7.43
              },
              {
                "ProductId": 4104,
                "Seasonality": 1,
                "Price": 34.07,
                "Profit": 10.67
              },
              {
                "ProductId": 4105,
                "Seasonality": 2,
                "Price": 28.77,
                "Profit": 7.89
              },
              {
                "ProductId": 4106,
                "Seasonality": 1,
                "Price": 30.14,
                "Profit": 9.56
              },
              {
                "ProductId": 4107,
                "Seasonality": 1,
                "Price": 26,
                "Profit": 6.45
              },
              {
                "ProductId": 4108,
                "Seasonality": 3,
                "Price": 34.83,
                "Profit": 10.46
              },
              {
                "ProductId": 4109,
                "Seasonality": 1,
                "Price": 29.74,
                "Profit": 7.55
              },
              {
                "ProductId": 4110,
                "Seasonality": 1,
                "Price": 23.81,
                "Profit": 6.46
              },
              {
                "ProductId": 4111,
                "Seasonality": 2,
                "Price": 32.06,
                "Profit": 9.27
              },
              {
                "ProductId": 4112,
                "Seasonality": 2,
                "Price": 29.44,
                "Profit": 8.87
              },
              {
                "ProductId": 4113,
                "Seasonality": 1,
                "Price": 23.29,
                "Profit": 6.19
              },
              {
                "ProductId": 4114,
                "Seasonality": 2,
                "Price": 25.17,
                "Profit": 8.9
              },
              {
                "ProductId": 4115,
                "Seasonality": 1,
                "Price": 25.75,
                "Profit": 7.9
              },
              {
                "ProductId": 4116,
                "Seasonality": 3,
                "Price": 25.74,
                "Profit": 8.86
              },
              {
                "ProductId": 4117,
                "Seasonality": 1,
                "Price": 26.15,
                "Profit": 8.84
              },
              {
                "ProductId": 4118,
                "Seasonality": 1,
                "Price": 24.17,
                "Profit": 6.71
              },
              {
                "ProductId": 4119,
                "Seasonality": 1,
                "Price": 28.72,
                "Profit": 9.12
              },
              {
                "ProductId": 4120,
                "Seasonality": 1,
                "Price": 17.63,
                "Profit": 5.58
              },
              {
                "ProductId": 4121,
                "Seasonality": 2,
                "Price": 30.14,
                "Profit": 7.68
              },
              {
                "ProductId": 4122,
                "Seasonality": 1,
                "Price": 32.31,
                "Profit": 10.28
              },
              {
                "ProductId": 4123,
                "Seasonality": 2,
                "Price": 29.77,
                "Profit": 7.15
              },
              {
                "ProductId": 4124,
                "Seasonality": 1,
                "Price": 27.49,
                "Profit": 7.47
              },
              {
                "ProductId": 4125,
                "Seasonality": 2,
                "Price": 34.12,
                "Profit": 11.65
              },
              {
                "ProductId": 4126,
                "Seasonality": 2,
                "Price": 29.1,
                "Profit": 9.35
              },
              {
                "ProductId": 4127,
                "Seasonality": 3,
                "Price": 26.59,
                "Profit": 9.5
              },
              {
                "ProductId": 4128,
                "Seasonality": 1,
                "Price": 28.28,
                "Profit": 9.14
              },
              {
                "ProductId": 4129,
                "Seasonality": 1,
                "Price": 28.02,
                "Profit": 7.3
              },
              {
                "ProductId": 4130,
                "Seasonality": 2,
                "Price": 23.8,
                "Profit": 7.02
              },
              {
                "ProductId": 4131,
                "Seasonality": 3,
                "Price": 27.51,
                "Profit": 8.46
              },
              {
                "ProductId": 4132,
                "Seasonality": 1,
                "Price": 39.3,
                "Profit": 9.44
              },
              {
                "ProductId": 4133,
                "Seasonality": 3,
                "Price": 36.94,
                "Profit": 13.29
              },
              {
                "ProductId": 4134,
                "Seasonality": 1,
                "Price": 27.6,
                "Profit": 9.24
              },
              {
                "ProductId": 4135,
                "Seasonality": 2,
                "Price": 32.05,
                "Profit": 8.59
              },
              {
                "ProductId": 4136,
                "Seasonality": 1,
                "Price": 23.73,
                "Profit": 7.12
              },
              {
                "ProductId": 4137,
                "Seasonality": 2,
                "Price": 27.47,
                "Profit": 8.6
              },
              {
                "ProductId": 4138,
                "Seasonality": 1,
                "Price": 19.56,
                "Profit": 5.88
              },
              {
                "ProductId": 4139,
                "Seasonality": 1,
                "Price": 28.24,
                "Profit": 8.57
              },
              {
                "ProductId": 4140,
                "Seasonality": 1,
                "Price": 30.78,
                "Profit": 9.18
              },
              {
                "ProductId": 4141,
                "Seasonality": 3,
                "Price": 19.84,
                "Profit": 6.5
              },
              {
                "ProductId": 4142,
                "Seasonality": 1,
                "Price": 30.84,
                "Profit": 10.26
              },
              {
                "ProductId": 4143,
                "Seasonality": 1,
                "Price": 22.22,
                "Profit": 5.32
              },
              {
                "ProductId": 4144,
                "Seasonality": 1,
                "Price": 15.19,
                "Profit": 3.97
              },
              {
                "ProductId": 4145,
                "Seasonality": 3,
                "Price": 24.41,
                "Profit": 7.55
              },
              {
                "ProductId": 4146,
                "Seasonality": 1,
                "Price": 25.44,
                "Profit": 8.89
              },
              {
                "ProductId": 4147,
                "Seasonality": 2,
                "Price": 25.5,
                "Profit": 8.82
              },
              {
                "ProductId": 4148,
                "Seasonality": 2,
                "Price": 28.41,
                "Profit": 7.5
              },
              {
                "ProductId": 4149,
                "Seasonality": 2,
                "Price": 20.33,
                "Profit": 6.61
              },
              {
                "ProductId": 4150,
                "Seasonality": 1,
                "Price": 18.21,
                "Profit": 4.84
              },
              {
                "ProductId": 4151,
                "Seasonality": 3,
                "Price": 31.11,
                "Profit": 11.18
              },
              {
                "ProductId": 4152,
                "Seasonality": 3,
                "Price": 22.22,
                "Profit": 6.64
              },
              {
                "ProductId": 4153,
                "Seasonality": 2,
                "Price": 24.92,
                "Profit": 8.4
              },
              {
                "ProductId": 4154,
                "Seasonality": 1,
                "Price": 25.15,
                "Profit": 6.66
              },
              {
                "ProductId": 4155,
                "Seasonality": 1,
                "Price": 23.9,
                "Profit": 6.92
              },
              {
                "ProductId": 4156,
                "Seasonality": 1,
                "Price": 23.54,
                "Profit": 8.32
              },
              {
                "ProductId": 4157,
                "Seasonality": 1,
                "Price": 29.14,
                "Profit": 10.53
              },
              {
                "ProductId": 4158,
                "Seasonality": 2,
                "Price": 30.96,
                "Profit": 10.17
              },
              {
                "ProductId": 4159,
                "Seasonality": 3,
                "Price": 28.09,
                "Profit": 10.35
              },
              {
                "ProductId": 4160,
                "Seasonality": 1,
                "Price": 31.34,
                "Profit": 7.77
              },
              {
                "ProductId": 4161,
                "Seasonality": 3,
                "Price": 27.46,
                "Profit": 8.1
              },
              {
                "ProductId": 4162,
                "Seasonality": 3,
                "Price": 19.13,
                "Profit": 6.33
              },
              {
                "ProductId": 4163,
                "Seasonality": 1,
                "Price": 31.5,
                "Profit": 8.36
              },
              {
                "ProductId": 4164,
                "Seasonality": 3,
                "Price": 28.79,
                "Profit": 8.07
              },
              {
                "ProductId": 4165,
                "Seasonality": 2,
                "Price": 27.58,
                "Profit": 7.13
              },
              {
                "ProductId": 4166,
                "Seasonality": 3,
                "Price": 32.64,
                "Profit": 9.36
              },
              {
                "ProductId": 4167,
                "Seasonality": 1,
                "Price": 29.67,
                "Profit": 7.77
              },
              {
                "ProductId": 4168,
                "Seasonality": 2,
                "Price": 22.66,
                "Profit": 6.18
              },
              {
                "ProductId": 4169,
                "Seasonality": 3,
                "Price": 23.98,
                "Profit": 6.01
              },
              {
                "ProductId": 4170,
                "Seasonality": 2,
                "Price": 42.08,
                "Profit": 13.58
              },
              {
                "ProductId": 4171,
                "Seasonality": 1,
                "Price": 17.87,
                "Profit": 6.03
              },
              {
                "ProductId": 4172,
                "Seasonality": 1,
                "Price": 35.74,
                "Profit": 11.41
              },
              {
                "ProductId": 4173,
                "Seasonality": 1,
                "Price": 17.33,
                "Profit": 5.95
              },
              {
                "ProductId": 4174,
                "Seasonality": 2,
                "Price": 34.24,
                "Profit": 11.86
              },
              {
                "ProductId": 4175,
                "Seasonality": 1,
                "Price": 30.3,
                "Profit": 7.82
              },
              {
                "ProductId": 4176,
                "Seasonality": 1,
                "Price": 23.69,
                "Profit": 7.15
              },
              {
                "ProductId": 4177,
                "Seasonality": 1,
                "Price": 29.71,
                "Profit": 8.13
              },
              {
                "ProductId": 4178,
                "Seasonality": 1,
                "Price": 30.59,
                "Profit": 9.01
              },
              {
                "ProductId": 4179,
                "Seasonality": 2,
                "Price": 29.62,
                "Profit": 9.22
              },
              {
                "ProductId": 4180,
                "Seasonality": 1,
                "Price": 22.62,
                "Profit": 6.99
              },
              {
                "ProductId": 4181,
                "Seasonality": 1,
                "Price": 30.54,
                "Profit": 10.5
              },
              {
                "ProductId": 4182,
                "Seasonality": 1,
                "Price": 27.8,
                "Profit": 7.44
              },
              {
                "ProductId": 4183,
                "Seasonality": 1,
                "Price": 18.01,
                "Profit": 5.32
              },
              {
                "ProductId": 4184,
                "Seasonality": 1,
                "Price": 33.25,
                "Profit": 8.27
              },
              {
                "ProductId": 4185,
                "Seasonality": 2,
                "Price": 24.76,
                "Profit": 7.68
              },
              {
                "ProductId": 4186,
                "Seasonality": 2,
                "Price": 29.24,
                "Profit": 9.01
              },
              {
                "ProductId": 4187,
                "Seasonality": 1,
                "Price": 20.77,
                "Profit": 5.99
              },
              {
                "ProductId": 4188,
                "Seasonality": 1,
                "Price": 22.91,
                "Profit": 6.75
              },
              {
                "ProductId": 4189,
                "Seasonality": 1,
                "Price": 23.97,
                "Profit": 7.3
              },
              {
                "ProductId": 4190,
                "Seasonality": 1,
                "Price": 27.61,
                "Profit": 5.73
              },
              {
                "ProductId": 4191,
                "Seasonality": 1,
                "Price": 24.19,
                "Profit": 8
              },
              {
                "ProductId": 4192,
                "Seasonality": 3,
                "Price": 21.39,
                "Profit": 6.47
              },
              {
                "ProductId": 4193,
                "Seasonality": 1,
                "Price": 26.62,
                "Profit": 8.28
              },
              {
                "ProductId": 4194,
                "Seasonality": 1,
                "Price": 20.74,
                "Profit": 6.42
              },
              {
                "ProductId": 4195,
                "Seasonality": 3,
                "Price": 34.02,
                "Profit": 10.27
              },
              {
                "ProductId": 4196,
                "Seasonality": 1,
                "Price": 30.54,
                "Profit": 8.9
              },
              {
                "ProductId": 4197,
                "Seasonality": 1,
                "Price": 34.66,
                "Profit": 9.75
              },
              {
                "ProductId": 4198,
                "Seasonality": 1,
                "Price": 27.48,
                "Profit": 7.61
              },
              {
                "ProductId": 4199,
                "Seasonality": 2,
                "Price": 22.06,
                "Profit": 7.99
              },
              {
                "ProductId": 4200,
                "Seasonality": 1,
                "Price": 27.89,
                "Profit": 6.64
              },
              {
                "ProductId": 4201,
                "Seasonality": 1,
                "Price": 23.19,
                "Profit": 6.75
              },
              {
                "ProductId": 4202,
                "Seasonality": 1,
                "Price": 29.98,
                "Profit": 8.06
              },
              {
                "ProductId": 4203,
                "Seasonality": 1,
                "Price": 19.71,
                "Profit": 6.67
              },
              {
                "ProductId": 4204,
                "Seasonality": 2,
                "Price": 22.74,
                "Profit": 5.99
              },
              {
                "ProductId": 4205,
                "Seasonality": 1,
                "Price": 19.99,
                "Profit": 5.97
              },
              {
                "ProductId": 4206,
                "Seasonality": 1,
                "Price": 23.52,
                "Profit": 8.81
              },
              {
                "ProductId": 4207,
                "Seasonality": 1,
                "Price": 25.99,
                "Profit": 8.35
              },
              {
                "ProductId": 4208,
                "Seasonality": 2,
                "Price": 30.51,
                "Profit": 11.62
              },
              {
                "ProductId": 4209,
                "Seasonality": 2,
                "Price": 32.49,
                "Profit": 9.36
              },
              {
                "ProductId": 4210,
                "Seasonality": 2,
                "Price": 25.78,
                "Profit": 8.07
              },
              {
                "ProductId": 4211,
                "Seasonality": 1,
                "Price": 21.74,
                "Profit": 6.82
              },
              {
                "ProductId": 4212,
                "Seasonality": 1,
                "Price": 34.28,
                "Profit": 6.8
              },
              {
                "ProductId": 4213,
                "Seasonality": 3,
                "Price": 37.87,
                "Profit": 9.95
              },
              {
                "ProductId": 4214,
                "Seasonality": 1,
                "Price": 25.29,
                "Profit": 7.43
              },
              {
                "ProductId": 4215,
                "Seasonality": 1,
                "Price": 18.48,
                "Profit": 5.81
              },
              {
                "ProductId": 4216,
                "Seasonality": 1,
                "Price": 29.24,
                "Profit": 8.14
              },
              {
                "ProductId": 4217,
                "Seasonality": 1,
                "Price": 36.35,
                "Profit": 12.24
              },
              {
                "ProductId": 4218,
                "Seasonality": 3,
                "Price": 31.89,
                "Profit": 8.9
              },
              {
                "ProductId": 4219,
                "Seasonality": 2,
                "Price": 34.1,
                "Profit": 7.63
              },
              {
                "ProductId": 4220,
                "Seasonality": 1,
                "Price": 25.42,
                "Profit": 7.3
              },
              {
                "ProductId": 4221,
                "Seasonality": 1,
                "Price": 24.77,
                "Profit": 8.7
              },
              {
                "ProductId": 4222,
                "Seasonality": 2,
                "Price": 31.17,
                "Profit": 10.53
              },
              {
                "ProductId": 4223,
                "Seasonality": 2,
                "Price": 23.84,
                "Profit": 7.64
              },
              {
                "ProductId": 4224,
                "Seasonality": 1,
                "Price": 19.68,
                "Profit": 5.79
              },
              {
                "ProductId": 4225,
                "Seasonality": 1,
                "Price": 34.56,
                "Profit": 9.8
              },
              {
                "ProductId": 4226,
                "Seasonality": 1,
                "Price": 24.78,
                "Profit": 8.41
              },
              {
                "ProductId": 4227,
                "Seasonality": 2,
                "Price": 23.1,
                "Profit": 7.25
              },
              {
                "ProductId": 4228,
                "Seasonality": 1,
                "Price": 40.22,
                "Profit": 10.75
              },
              {
                "ProductId": 4229,
                "Seasonality": 1,
                "Price": 32.2,
                "Profit": 10.13
              },
              {
                "ProductId": 4230,
                "Seasonality": 2,
                "Price": 35.05,
                "Profit": 8.69
              },
              {
                "ProductId": 4231,
                "Seasonality": 2,
                "Price": 21.47,
                "Profit": 6.74
              },
              {
                "ProductId": 4232,
                "Seasonality": 3,
                "Price": 24.43,
                "Profit": 7.1
              },
              {
                "ProductId": 4233,
                "Seasonality": 1,
                "Price": 18.62,
                "Profit": 6.07
              },
              {
                "ProductId": 4234,
                "Seasonality": 3,
                "Price": 28.34,
                "Profit": 9.88
              },
              {
                "ProductId": 4235,
                "Seasonality": 2,
                "Price": 27.77,
                "Profit": 7.56
              },
              {
                "ProductId": 4236,
                "Seasonality": 3,
                "Price": 28.27,
                "Profit": 7.9
              },
              {
                "ProductId": 4237,
                "Seasonality": 1,
                "Price": 32.54,
                "Profit": 10.34
              },
              {
                "ProductId": 4238,
                "Seasonality": 1,
                "Price": 28.08,
                "Profit": 7.37
              },
              {
                "ProductId": 4239,
                "Seasonality": 2,
                "Price": 20.62,
                "Profit": 5.93
              },
              {
                "ProductId": 4240,
                "Seasonality": 2,
                "Price": 32.66,
                "Profit": 9.4
              },
              {
                "ProductId": 4241,
                "Seasonality": 2,
                "Price": 24.95,
                "Profit": 6.56
              },
              {
                "ProductId": 4242,
                "Seasonality": 1,
                "Price": 24.1,
                "Profit": 8.47
              },
              {
                "ProductId": 4243,
                "Seasonality": 1,
                "Price": 35.52,
                "Profit": 9.97
              },
              {
                "ProductId": 4244,
                "Seasonality": 2,
                "Price": 26.41,
                "Profit": 8.55
              },
              {
                "ProductId": 4245,
                "Seasonality": 1,
                "Price": 30.77,
                "Profit": 8.1
              },
              {
                "ProductId": 4246,
                "Seasonality": 1,
                "Price": 26.58,
                "Profit": 8.14
              },
              {
                "ProductId": 4247,
                "Seasonality": 1,
                "Price": 18.51,
                "Profit": 5.42
              },
              {
                "ProductId": 4248,
                "Seasonality": 1,
                "Price": 29.56,
                "Profit": 8.24
              },
              {
                "ProductId": 4249,
                "Seasonality": 1,
                "Price": 34.87,
                "Profit": 11.35
              },
              {
                "ProductId": 4250,
                "Seasonality": 3,
                "Price": 28.43,
                "Profit": 8.58
              },
              {
                "ProductId": 4251,
                "Seasonality": 1,
                "Price": 22.1,
                "Profit": 7.39
              },
              {
                "ProductId": 4252,
                "Seasonality": 3,
                "Price": 26.23,
                "Profit": 7.81
              },
              {
                "ProductId": 4253,
                "Seasonality": 1,
                "Price": 21.85,
                "Profit": 7.37
              },
              {
                "ProductId": 4254,
                "Seasonality": 1,
                "Price": 27.41,
                "Profit": 9.85
              },
              {
                "ProductId": 4255,
                "Seasonality": 1,
                "Price": 32.14,
                "Profit": 9.99
              },
              {
                "ProductId": 4256,
                "Seasonality": 1,
                "Price": 26.47,
                "Profit": 7.54
              },
              {
                "ProductId": 4257,
                "Seasonality": 3,
                "Price": 22.95,
                "Profit": 6.65
              },
              {
                "ProductId": 4258,
                "Seasonality": 1,
                "Price": 28.61,
                "Profit": 9.36
              },
              {
                "ProductId": 4259,
                "Seasonality": 1,
                "Price": 28.36,
                "Profit": 11.76
              },
              {
                "ProductId": 4260,
                "Seasonality": 1,
                "Price": 38.65,
                "Profit": 12.69
              },
              {
                "ProductId": 4261,
                "Seasonality": 1,
                "Price": 30.19,
                "Profit": 7.92
              },
              {
                "ProductId": 4262,
                "Seasonality": 1,
                "Price": 21.49,
                "Profit": 6.65
              },
              {
                "ProductId": 4263,
                "Seasonality": 3,
                "Price": 32.47,
                "Profit": 10.31
              },
              {
                "ProductId": 4264,
                "Seasonality": 2,
                "Price": 23.74,
                "Profit": 6.33
              },
              {
                "ProductId": 4265,
                "Seasonality": 1,
                "Price": 29.92,
                "Profit": 8.4
              },
              {
                "ProductId": 4266,
                "Seasonality": 1,
                "Price": 21.78,
                "Profit": 5.91
              },
              {
                "ProductId": 4267,
                "Seasonality": 1,
                "Price": 24.85,
                "Profit": 5.66
              },
              {
                "ProductId": 4268,
                "Seasonality": 2,
                "Price": 22.32,
                "Profit": 6.94
              },
              {
                "ProductId": 4269,
                "Seasonality": 1,
                "Price": 26.44,
                "Profit": 8.3
              },
              {
                "ProductId": 4270,
                "Seasonality": 2,
                "Price": 28.77,
                "Profit": 9.9
              },
              {
                "ProductId": 4271,
                "Seasonality": 2,
                "Price": 26.89,
                "Profit": 7.38
              },
              {
                "ProductId": 4272,
                "Seasonality": 3,
                "Price": 22.8,
                "Profit": 6.59
              },
              {
                "ProductId": 4273,
                "Seasonality": 1,
                "Price": 26.21,
                "Profit": 7.56
              },
              {
                "ProductId": 4274,
                "Seasonality": 1,
                "Price": 23.61,
                "Profit": 6.59
              },
              {
                "ProductId": 4275,
                "Seasonality": 1,
                "Price": 31.51,
                "Profit": 10.39
              },
              {
                "ProductId": 4276,
                "Seasonality": 3,
                "Price": 28.97,
                "Profit": 9.19
              },
              {
                "ProductId": 4277,
                "Seasonality": 2,
                "Price": 24.55,
                "Profit": 7.25
              },
              {
                "ProductId": 4278,
                "Seasonality": 3,
                "Price": 15.58,
                "Profit": 4.37
              },
              {
                "ProductId": 4279,
                "Seasonality": 1,
                "Price": 24.32,
                "Profit": 7.03
              },
              {
                "ProductId": 4280,
                "Seasonality": 1,
                "Price": 19.07,
                "Profit": 6.52
              },
              {
                "ProductId": 4281,
                "Seasonality": 1,
                "Price": 25.65,
                "Profit": 8.63
              },
              {
                "ProductId": 4282,
                "Seasonality": 1,
                "Price": 35.58,
                "Profit": 13.25
              },
              {
                "ProductId": 4283,
                "Seasonality": 2,
                "Price": 30.41,
                "Profit": 9.79
              },
              {
                "ProductId": 4284,
                "Seasonality": 3,
                "Price": 31.22,
                "Profit": 8.66
              },
              {
                "ProductId": 4285,
                "Seasonality": 1,
                "Price": 30.53,
                "Profit": 8.46
              },
              {
                "ProductId": 4286,
                "Seasonality": 1,
                "Price": 26.66,
                "Profit": 7.09
              },
              {
                "ProductId": 4287,
                "Seasonality": 1,
                "Price": 23.07,
                "Profit": 8.2
              },
              {
                "ProductId": 4288,
                "Seasonality": 1,
                "Price": 32.71,
                "Profit": 9.21
              },
              {
                "ProductId": 4289,
                "Seasonality": 1,
                "Price": 27.89,
                "Profit": 8.31
              },
              {
                "ProductId": 4290,
                "Seasonality": 2,
                "Price": 29.74,
                "Profit": 9.64
              },
              {
                "ProductId": 4291,
                "Seasonality": 2,
                "Price": 31.13,
                "Profit": 10.05
              },
              {
                "ProductId": 4292,
                "Seasonality": 2,
                "Price": 28.91,
                "Profit": 8.05
              },
              {
                "ProductId": 4293,
                "Seasonality": 2,
                "Price": 22.38,
                "Profit": 7.14
              },
              {
                "ProductId": 4294,
                "Seasonality": 1,
                "Price": 31.44,
                "Profit": 8.05
              },
              {
                "ProductId": 4295,
                "Seasonality": 2,
                "Price": 26.51,
                "Profit": 6.21
              },
              {
                "ProductId": 4296,
                "Seasonality": 1,
                "Price": 24.28,
                "Profit": 7.94
              },
              {
                "ProductId": 4297,
                "Seasonality": 1,
                "Price": 30.56,
                "Profit": 8.55
              },
              {
                "ProductId": 4298,
                "Seasonality": 1,
                "Price": 25.25,
                "Profit": 6.73
              },
              {
                "ProductId": 4299,
                "Seasonality": 2,
                "Price": 29.8,
                "Profit": 7.8
              },
              {
                "ProductId": 4300,
                "Seasonality": 2,
                "Price": 31.85,
                "Profit": 8.46
              },
              {
                "ProductId": 4301,
                "Seasonality": 1,
                "Price": 22.05,
                "Profit": 7.32
              },
              {
                "ProductId": 4302,
                "Seasonality": 3,
                "Price": 23.43,
                "Profit": 6.36
              },
              {
                "ProductId": 4303,
                "Seasonality": 2,
                "Price": 36.19,
                "Profit": 12.99
              },
              {
                "ProductId": 4304,
                "Seasonality": 1,
                "Price": 28.78,
                "Profit": 9.42
              },
              {
                "ProductId": 4305,
                "Seasonality": 1,
                "Price": 23.57,
                "Profit": 7.34
              },
              {
                "ProductId": 4306,
                "Seasonality": 1,
                "Price": 32.92,
                "Profit": 8.42
              },
              {
                "ProductId": 4307,
                "Seasonality": 3,
                "Price": 37.27,
                "Profit": 12.38
              },
              {
                "ProductId": 4308,
                "Seasonality": 3,
                "Price": 29.33,
                "Profit": 7.54
              },
              {
                "ProductId": 4309,
                "Seasonality": 2,
                "Price": 22.12,
                "Profit": 6.47
              },
              {
                "ProductId": 4310,
                "Seasonality": 3,
                "Price": 18.14,
                "Profit": 5.6
              },
              {
                "ProductId": 4311,
                "Seasonality": 1,
                "Price": 32.52,
                "Profit": 8.5
              },
              {
                "ProductId": 4312,
                "Seasonality": 3,
                "Price": 36.76,
                "Profit": 12.13
              },
              {
                "ProductId": 4313,
                "Seasonality": 1,
                "Price": 27.75,
                "Profit": 9.24
              },
              {
                "ProductId": 4314,
                "Seasonality": 2,
                "Price": 13.7,
                "Profit": 4.05
              },
              {
                "ProductId": 4315,
                "Seasonality": 3,
                "Price": 23.67,
                "Profit": 6.66
              },
              {
                "ProductId": 4316,
                "Seasonality": 3,
                "Price": 24.55,
                "Profit": 7.24
              },
              {
                "ProductId": 4317,
                "Seasonality": 1,
                "Price": 25.08,
                "Profit": 6.93
              },
              {
                "ProductId": 4318,
                "Seasonality": 1,
                "Price": 36.46,
                "Profit": 9.82
              },
              {
                "ProductId": 4319,
                "Seasonality": 1,
                "Price": 36.01,
                "Profit": 9.09
              },
              {
                "ProductId": 4320,
                "Seasonality": 1,
                "Price": 19.67,
                "Profit": 5.49
              },
              {
                "ProductId": 4321,
                "Seasonality": 1,
                "Price": 28.04,
                "Profit": 6.47
              },
              {
                "ProductId": 4322,
                "Seasonality": 1,
                "Price": 28.5,
                "Profit": 9.33
              },
              {
                "ProductId": 4323,
                "Seasonality": 1,
                "Price": 27.53,
                "Profit": 9.26
              },
              {
                "ProductId": 4324,
                "Seasonality": 1,
                "Price": 22.79,
                "Profit": 8.65
              },
              {
                "ProductId": 4325,
                "Seasonality": 1,
                "Price": 29.66,
                "Profit": 5.85
              },
              {
                "ProductId": 4326,
                "Seasonality": 2,
                "Price": 23.03,
                "Profit": 6.82
              },
              {
                "ProductId": 4327,
                "Seasonality": 1,
                "Price": 30.17,
                "Profit": 10.07
              },
              {
                "ProductId": 4328,
                "Seasonality": 1,
                "Price": 28.56,
                "Profit": 7.44
              },
              {
                "ProductId": 4329,
                "Seasonality": 2,
                "Price": 18.36,
                "Profit": 4.81
              },
              {
                "ProductId": 4330,
                "Seasonality": 3,
                "Price": 22.32,
                "Profit": 5.69
              },
              {
                "ProductId": 4331,
                "Seasonality": 1,
                "Price": 28.81,
                "Profit": 7.68
              },
              {
                "ProductId": 4332,
                "Seasonality": 2,
                "Price": 27.54,
                "Profit": 9.2
              },
              {
                "ProductId": 4333,
                "Seasonality": 1,
                "Price": 35.3,
                "Profit": 10.21
              },
              {
                "ProductId": 4334,
                "Seasonality": 1,
                "Price": 19.77,
                "Profit": 6.4
              },
              {
                "ProductId": 4335,
                "Seasonality": 1,
                "Price": 20.27,
                "Profit": 5.82
              },
              {
                "ProductId": 4336,
                "Seasonality": 1,
                "Price": 33.93,
                "Profit": 10.13
              },
              {
                "ProductId": 4337,
                "Seasonality": 3,
                "Price": 34.4,
                "Profit": 8.48
              },
              {
                "ProductId": 4338,
                "Seasonality": 1,
                "Price": 26.42,
                "Profit": 6.76
              },
              {
                "ProductId": 4339,
                "Seasonality": 1,
                "Price": 12.62,
                "Profit": 4.13
              },
              {
                "ProductId": 4340,
                "Seasonality": 1,
                "Price": 22.68,
                "Profit": 6.9
              },
              {
                "ProductId": 4341,
                "Seasonality": 1,
                "Price": 36.37,
                "Profit": 9.58
              },
              {
                "ProductId": 4342,
                "Seasonality": 3,
                "Price": 21.39,
                "Profit": 5.18
              },
              {
                "ProductId": 4343,
                "Seasonality": 2,
                "Price": 35.81,
                "Profit": 9.25
              },
              {
                "ProductId": 4344,
                "Seasonality": 1,
                "Price": 20.55,
                "Profit": 5.68
              },
              {
                "ProductId": 4345,
                "Seasonality": 1,
                "Price": 35.87,
                "Profit": 8.62
              },
              {
                "ProductId": 4346,
                "Seasonality": 1,
                "Price": 28.27,
                "Profit": 7.37
              },
              {
                "ProductId": 4347,
                "Seasonality": 1,
                "Price": 35.28,
                "Profit": 10.69
              },
              {
                "ProductId": 4348,
                "Seasonality": 1,
                "Price": 26.63,
                "Profit": 8.03
              },
              {
                "ProductId": 4349,
                "Seasonality": 1,
                "Price": 27.72,
                "Profit": 8.62
              },
              {
                "ProductId": 4350,
                "Seasonality": 1,
                "Price": 29.81,
                "Profit": 8.02
              },
              {
                "ProductId": 4351,
                "Seasonality": 1,
                "Price": 25.86,
                "Profit": 9.58
              },
              {
                "ProductId": 4352,
                "Seasonality": 2,
                "Price": 31.73,
                "Profit": 9.57
              },
              {
                "ProductId": 4353,
                "Seasonality": 2,
                "Price": 36.3,
                "Profit": 9.32
              },
              {
                "ProductId": 4354,
                "Seasonality": 1,
                "Price": 34.07,
                "Profit": 11.33
              },
              {
                "ProductId": 4355,
                "Seasonality": 2,
                "Price": 38.22,
                "Profit": 11.66
              },
              {
                "ProductId": 4356,
                "Seasonality": 1,
                "Price": 25.16,
                "Profit": 8.06
              },
              {
                "ProductId": 4357,
                "Seasonality": 1,
                "Price": 23.13,
                "Profit": 7.34
              },
              {
                "ProductId": 4358,
                "Seasonality": 2,
                "Price": 33.52,
                "Profit": 10.56
              },
              {
                "ProductId": 4359,
                "Seasonality": 1,
                "Price": 25.23,
                "Profit": 6.67
              },
              {
                "ProductId": 4360,
                "Seasonality": 3,
                "Price": 19.21,
                "Profit": 5.35
              },
              {
                "ProductId": 4361,
                "Seasonality": 3,
                "Price": 19.87,
                "Profit": 5.55
              },
              {
                "ProductId": 4362,
                "Seasonality": 2,
                "Price": 18.64,
                "Profit": 5.47
              },
              {
                "ProductId": 4363,
                "Seasonality": 1,
                "Price": 32.99,
                "Profit": 9.51
              },
              {
                "ProductId": 4364,
                "Seasonality": 1,
                "Price": 16.15,
                "Profit": 5.36
              },
              {
                "ProductId": 4365,
                "Seasonality": 2,
                "Price": 29.09,
                "Profit": 8.09
              },
              {
                "ProductId": 4366,
                "Seasonality": 1,
                "Price": 22.21,
                "Profit": 6.1
              },
              {
                "ProductId": 4367,
                "Seasonality": 1,
                "Price": 33.86,
                "Profit": 11.96
              },
              {
                "ProductId": 4368,
                "Seasonality": 1,
                "Price": 35.04,
                "Profit": 9.13
              },
              {
                "ProductId": 4369,
                "Seasonality": 1,
                "Price": 18.51,
                "Profit": 5.73
              },
              {
                "ProductId": 4370,
                "Seasonality": 1,
                "Price": 32.85,
                "Profit": 8.81
              },
              {
                "ProductId": 4371,
                "Seasonality": 1,
                "Price": 22.57,
                "Profit": 5.59
              },
              {
                "ProductId": 4372,
                "Seasonality": 2,
                "Price": 18.67,
                "Profit": 4.98
              },
              {
                "ProductId": 4373,
                "Seasonality": 1,
                "Price": 17.68,
                "Profit": 5.04
              },
              {
                "ProductId": 4374,
                "Seasonality": 3,
                "Price": 21.77,
                "Profit": 5.79
              },
              {
                "ProductId": 4375,
                "Seasonality": 3,
                "Price": 24.9,
                "Profit": 7.38
              },
              {
                "ProductId": 4376,
                "Seasonality": 2,
                "Price": 25.06,
                "Profit": 6.38
              },
              {
                "ProductId": 4377,
                "Seasonality": 1,
                "Price": 27.15,
                "Profit": 9.44
              },
              {
                "ProductId": 4378,
                "Seasonality": 3,
                "Price": 25.91,
                "Profit": 6.68
              },
              {
                "ProductId": 4379,
                "Seasonality": 2,
                "Price": 29.78,
                "Profit": 7.42
              },
              {
                "ProductId": 4380,
                "Seasonality": 1,
                "Price": 32.2,
                "Profit": 8.61
              },
              {
                "ProductId": 4381,
                "Seasonality": 2,
                "Price": 22.71,
                "Profit": 8.18
              },
              {
                "ProductId": 4382,
                "Seasonality": 1,
                "Price": 29.74,
                "Profit": 9.62
              },
              {
                "ProductId": 4383,
                "Seasonality": 1,
                "Price": 24.02,
                "Profit": 6.26
              },
              {
                "ProductId": 4384,
                "Seasonality": 3,
                "Price": 26.99,
                "Profit": 9.58
              },
              {
                "ProductId": 4385,
                "Seasonality": 2,
                "Price": 28.31,
                "Profit": 7.73
              },
              {
                "ProductId": 4386,
                "Seasonality": 1,
                "Price": 34.49,
                "Profit": 12.01
              },
              {
                "ProductId": 4387,
                "Seasonality": 1,
                "Price": 30.33,
                "Profit": 10.3
              },
              {
                "ProductId": 4388,
                "Seasonality": 3,
                "Price": 27.1,
                "Profit": 8.18
              },
              {
                "ProductId": 4389,
                "Seasonality": 3,
                "Price": 33.76,
                "Profit": 11.63
              },
              {
                "ProductId": 4390,
                "Seasonality": 1,
                "Price": 26.11,
                "Profit": 8.22
              },
              {
                "ProductId": 4391,
                "Seasonality": 1,
                "Price": 33.09,
                "Profit": 9.58
              },
              {
                "ProductId": 4392,
                "Seasonality": 1,
                "Price": 22.98,
                "Profit": 5.91
              },
              {
                "ProductId": 4393,
                "Seasonality": 3,
                "Price": 26.2,
                "Profit": 7.42
              },
              {
                "ProductId": 4394,
                "Seasonality": 1,
                "Price": 24.81,
                "Profit": 8.62
              },
              {
                "ProductId": 4395,
                "Seasonality": 2,
                "Price": 23.67,
                "Profit": 6.84
              },
              {
                "ProductId": 4396,
                "Seasonality": 1,
                "Price": 26.66,
                "Profit": 8.11
              },
              {
                "ProductId": 4397,
                "Seasonality": 2,
                "Price": 29.16,
                "Profit": 9.62
              },
              {
                "ProductId": 4398,
                "Seasonality": 1,
                "Price": 30.88,
                "Profit": 11.09
              },
              {
                "ProductId": 4399,
                "Seasonality": 1,
                "Price": 32.68,
                "Profit": 8.78
              },
              {
                "ProductId": 4400,
                "Seasonality": 1,
                "Price": 28.47,
                "Profit": 7.52
              },
              {
                "ProductId": 4401,
                "Seasonality": 1,
                "Price": 19.54,
                "Profit": 5.72
              },
              {
                "ProductId": 4402,
                "Seasonality": 2,
                "Price": 19.16,
                "Profit": 6.49
              },
              {
                "ProductId": 4403,
                "Seasonality": 1,
                "Price": 21,
                "Profit": 6.35
              },
              {
                "ProductId": 4404,
                "Seasonality": 1,
                "Price": 30.63,
                "Profit": 8.83
              },
              {
                "ProductId": 4405,
                "Seasonality": 1,
                "Price": 40.21,
                "Profit": 12.47
              },
              {
                "ProductId": 4406,
                "Seasonality": 2,
                "Price": 37.14,
                "Profit": 12.49
              },
              {
                "ProductId": 4407,
                "Seasonality": 1,
                "Price": 32.16,
                "Profit": 8.99
              },
              {
                "ProductId": 4408,
                "Seasonality": 1,
                "Price": 33.45,
                "Profit": 12.27
              },
              {
                "ProductId": 4409,
                "Seasonality": 1,
                "Price": 20.52,
                "Profit": 6.22
              },
              {
                "ProductId": 4410,
                "Seasonality": 1,
                "Price": 25.87,
                "Profit": 7.5
              },
              {
                "ProductId": 4411,
                "Seasonality": 1,
                "Price": 29.1,
                "Profit": 9.06
              },
              {
                "ProductId": 4412,
                "Seasonality": 3,
                "Price": 32.4,
                "Profit": 9.63
              },
              {
                "ProductId": 4413,
                "Seasonality": 1,
                "Price": 28.92,
                "Profit": 9.49
              },
              {
                "ProductId": 4414,
                "Seasonality": 1,
                "Price": 22.5,
                "Profit": 8.35
              },
              {
                "ProductId": 4415,
                "Seasonality": 1,
                "Price": 36.41,
                "Profit": 12.17
              },
              {
                "ProductId": 4416,
                "Seasonality": 1,
                "Price": 27.79,
                "Profit": 9.08
              },
              {
                "ProductId": 4417,
                "Seasonality": 1,
                "Price": 18.14,
                "Profit": 4.22
              },
              {
                "ProductId": 4418,
                "Seasonality": 3,
                "Price": 15.94,
                "Profit": 4.85
              },
              {
                "ProductId": 4419,
                "Seasonality": 1,
                "Price": 25.54,
                "Profit": 9.33
              },
              {
                "ProductId": 4420,
                "Seasonality": 2,
                "Price": 30.57,
                "Profit": 9.4
              },
              {
                "ProductId": 4421,
                "Seasonality": 1,
                "Price": 31.04,
                "Profit": 10.11
              },
              {
                "ProductId": 4422,
                "Seasonality": 2,
                "Price": 26.85,
                "Profit": 8.02
              },
              {
                "ProductId": 4423,
                "Seasonality": 1,
                "Price": 36.27,
                "Profit": 10.59
              },
              {
                "ProductId": 4424,
                "Seasonality": 2,
                "Price": 31.2,
                "Profit": 8.79
              },
              {
                "ProductId": 4425,
                "Seasonality": 1,
                "Price": 35.5,
                "Profit": 10.6
              },
              {
                "ProductId": 4426,
                "Seasonality": 2,
                "Price": 28.67,
                "Profit": 8.43
              },
              {
                "ProductId": 4427,
                "Seasonality": 3,
                "Price": 25.69,
                "Profit": 7.44
              },
              {
                "ProductId": 4428,
                "Seasonality": 1,
                "Price": 26.31,
                "Profit": 7.43
              },
              {
                "ProductId": 4429,
                "Seasonality": 2,
                "Price": 36.15,
                "Profit": 10.96
              },
              {
                "ProductId": 4430,
                "Seasonality": 3,
                "Price": 26.8,
                "Profit": 7.71
              },
              {
                "ProductId": 4431,
                "Seasonality": 1,
                "Price": 24.47,
                "Profit": 10.27
              },
              {
                "ProductId": 4432,
                "Seasonality": 1,
                "Price": 28.35,
                "Profit": 8.33
              },
              {
                "ProductId": 4433,
                "Seasonality": 1,
                "Price": 18.16,
                "Profit": 5
              },
              {
                "ProductId": 4434,
                "Seasonality": 3,
                "Price": 24.22,
                "Profit": 7.03
              },
              {
                "ProductId": 4435,
                "Seasonality": 2,
                "Price": 29.08,
                "Profit": 9.14
              },
              {
                "ProductId": 4436,
                "Seasonality": 2,
                "Price": 24.85,
                "Profit": 7.37
              },
              {
                "ProductId": 4437,
                "Seasonality": 1,
                "Price": 20.83,
                "Profit": 6.43
              },
              {
                "ProductId": 4438,
                "Seasonality": 3,
                "Price": 23.15,
                "Profit": 6.55
              },
              {
                "ProductId": 4439,
                "Seasonality": 1,
                "Price": 23.2,
                "Profit": 7.59
              },
              {
                "ProductId": 4440,
                "Seasonality": 3,
                "Price": 19.66,
                "Profit": 6.03
              },
              {
                "ProductId": 4441,
                "Seasonality": 1,
                "Price": 17.55,
                "Profit": 5.77
              },
              {
                "ProductId": 4442,
                "Seasonality": 1,
                "Price": 21.54,
                "Profit": 7.11
              },
              {
                "ProductId": 4443,
                "Seasonality": 1,
                "Price": 27.28,
                "Profit": 7.88
              },
              {
                "ProductId": 4444,
                "Seasonality": 1,
                "Price": 30.86,
                "Profit": 8.71
              },
              {
                "ProductId": 4445,
                "Seasonality": 1,
                "Price": 30.32,
                "Profit": 10.14
              },
              {
                "ProductId": 4446,
                "Seasonality": 1,
                "Price": 21.13,
                "Profit": 4.75
              },
              {
                "ProductId": 4447,
                "Seasonality": 3,
                "Price": 14.94,
                "Profit": 3.64
              },
              {
                "ProductId": 4448,
                "Seasonality": 2,
                "Price": 16.76,
                "Profit": 5.68
              },
              {
                "ProductId": 4449,
                "Seasonality": 1,
                "Price": 28.06,
                "Profit": 8.78
              },
              {
                "ProductId": 4450,
                "Seasonality": 3,
                "Price": 30.91,
                "Profit": 9.82
              },
              {
                "ProductId": 4451,
                "Seasonality": 1,
                "Price": 23.33,
                "Profit": 6.89
              },
              {
                "ProductId": 4452,
                "Seasonality": 1,
                "Price": 25.57,
                "Profit": 6.99
              },
              {
                "ProductId": 4453,
                "Seasonality": 1,
                "Price": 29.82,
                "Profit": 11.29
              },
              {
                "ProductId": 4454,
                "Seasonality": 1,
                "Price": 23.28,
                "Profit": 5.64
              },
              {
                "ProductId": 4455,
                "Seasonality": 1,
                "Price": 29.99,
                "Profit": 9.55
              },
              {
                "ProductId": 4456,
                "Seasonality": 1,
                "Price": 28.22,
                "Profit": 6.71
              },
              {
                "ProductId": 4457,
                "Seasonality": 1,
                "Price": 21.11,
                "Profit": 6.19
              },
              {
                "ProductId": 4458,
                "Seasonality": 3,
                "Price": 34.27,
                "Profit": 11.62
              },
              {
                "ProductId": 4459,
                "Seasonality": 1,
                "Price": 25.4,
                "Profit": 6.43
              },
              {
                "ProductId": 4460,
                "Seasonality": 3,
                "Price": 24.99,
                "Profit": 6.22
              },
              {
                "ProductId": 4461,
                "Seasonality": 3,
                "Price": 29.22,
                "Profit": 8.56
              },
              {
                "ProductId": 4462,
                "Seasonality": 1,
                "Price": 31.03,
                "Profit": 9.91
              },
              {
                "ProductId": 4463,
                "Seasonality": 2,
                "Price": 27.95,
                "Profit": 9.16
              },
              {
                "ProductId": 4464,
                "Seasonality": 1,
                "Price": 38.96,
                "Profit": 10.57
              },
              {
                "ProductId": 4465,
                "Seasonality": 2,
                "Price": 25.01,
                "Profit": 8
              },
              {
                "ProductId": 4466,
                "Seasonality": 1,
                "Price": 26.43,
                "Profit": 7.86
              },
              {
                "ProductId": 4467,
                "Seasonality": 3,
                "Price": 33.38,
                "Profit": 9.13
              },
              {
                "ProductId": 4468,
                "Seasonality": 2,
                "Price": 23.55,
                "Profit": 7.31
              },
              {
                "ProductId": 4469,
                "Seasonality": 3,
                "Price": 27.79,
                "Profit": 7.92
              },
              {
                "ProductId": 4470,
                "Seasonality": 1,
                "Price": 36.68,
                "Profit": 12.28
              },
              {
                "ProductId": 4471,
                "Seasonality": 1,
                "Price": 25.56,
                "Profit": 9.07
              },
              {
                "ProductId": 4472,
                "Seasonality": 3,
                "Price": 25.26,
                "Profit": 7.23
              },
              {
                "ProductId": 4473,
                "Seasonality": 2,
                "Price": 34.67,
                "Profit": 10.32
              },
              {
                "ProductId": 4474,
                "Seasonality": 1,
                "Price": 36.55,
                "Profit": 10.68
              },
              {
                "ProductId": 4475,
                "Seasonality": 1,
                "Price": 21.66,
                "Profit": 6.12
              },
              {
                "ProductId": 4476,
                "Seasonality": 1,
                "Price": 29.38,
                "Profit": 10.73
              },
              {
                "ProductId": 4477,
                "Seasonality": 3,
                "Price": 42.34,
                "Profit": 14.46
              },
              {
                "ProductId": 4478,
                "Seasonality": 3,
                "Price": 24.63,
                "Profit": 6.85
              },
              {
                "ProductId": 4479,
                "Seasonality": 1,
                "Price": 30.42,
                "Profit": 10.2
              },
              {
                "ProductId": 4480,
                "Seasonality": 2,
                "Price": 27.09,
                "Profit": 6.58
              },
              {
                "ProductId": 4481,
                "Seasonality": 1,
                "Price": 33.76,
                "Profit": 8.59
              },
              {
                "ProductId": 4482,
                "Seasonality": 1,
                "Price": 31.62,
                "Profit": 10.37
              },
              {
                "ProductId": 4483,
                "Seasonality": 1,
                "Price": 30.86,
                "Profit": 9.4
              },
              {
                "ProductId": 4484,
                "Seasonality": 3,
                "Price": 23.6,
                "Profit": 6.77
              },
              {
                "ProductId": 4485,
                "Seasonality": 3,
                "Price": 23.18,
                "Profit": 5.01
              },
              {
                "ProductId": 4486,
                "Seasonality": 3,
                "Price": 27.51,
                "Profit": 7.84
              },
              {
                "ProductId": 4487,
                "Seasonality": 1,
                "Price": 36.54,
                "Profit": 10.2
              },
              {
                "ProductId": 4488,
                "Seasonality": 3,
                "Price": 24.24,
                "Profit": 7.25
              },
              {
                "ProductId": 4489,
                "Seasonality": 1,
                "Price": 22.26,
                "Profit": 5.38
              },
              {
                "ProductId": 4490,
                "Seasonality": 1,
                "Price": 32.1,
                "Profit": 8.35
              },
              {
                "ProductId": 4491,
                "Seasonality": 1,
                "Price": 26.52,
                "Profit": 8.59
              },
              {
                "ProductId": 4492,
                "Seasonality": 1,
                "Price": 17.51,
                "Profit": 5.75
              },
              {
                "ProductId": 4493,
                "Seasonality": 1,
                "Price": 28.81,
                "Profit": 9.11
              },
              {
                "ProductId": 4494,
                "Seasonality": 3,
                "Price": 24.39,
                "Profit": 6.67
              },
              {
                "ProductId": 4495,
                "Seasonality": 3,
                "Price": 26.8,
                "Profit": 6.87
              },
              {
                "ProductId": 4496,
                "Seasonality": 1,
                "Price": 23.94,
                "Profit": 5.91
              },
              {
                "ProductId": 4497,
                "Seasonality": 1,
                "Price": 36.24,
                "Profit": 10.54
              },
              {
                "ProductId": 4498,
                "Seasonality": 1,
                "Price": 29.95,
                "Profit": 10.06
              },
              {
                "ProductId": 4499,
                "Seasonality": 1,
                "Price": 29.28,
                "Profit": 8.86
              },
              {
                "ProductId": 4500,
                "Seasonality": 1,
                "Price": 33.11,
                "Profit": 8.71
              },
              {
                "ProductId": 4501,
                "Seasonality": 3,
                "Price": 35.03,
                "Profit": 10.58
              },
              {
                "ProductId": 4502,
                "Seasonality": 3,
                "Price": 32.02,
                "Profit": 10.67
              },
              {
                "ProductId": 4503,
                "Seasonality": 2,
                "Price": 30.02,
                "Profit": 11.01
              },
              {
                "ProductId": 4504,
                "Seasonality": 1,
                "Price": 26.63,
                "Profit": 8.37
              },
              {
                "ProductId": 4505,
                "Seasonality": 3,
                "Price": 28.89,
                "Profit": 7.22
              },
              {
                "ProductId": 4506,
                "Seasonality": 3,
                "Price": 18.95,
                "Profit": 5.81
              },
              {
                "ProductId": 4507,
                "Seasonality": 2,
                "Price": 21.28,
                "Profit": 7.02
              },
              {
                "ProductId": 4508,
                "Seasonality": 3,
                "Price": 20.27,
                "Profit": 6.49
              },
              {
                "ProductId": 4509,
                "Seasonality": 1,
                "Price": 27.83,
                "Profit": 8.67
              },
              {
                "ProductId": 4510,
                "Seasonality": 3,
                "Price": 26.54,
                "Profit": 7.32
              },
              {
                "ProductId": 4511,
                "Seasonality": 3,
                "Price": 32.75,
                "Profit": 9.99
              },
              {
                "ProductId": 4512,
                "Seasonality": 1,
                "Price": 28.71,
                "Profit": 9.48
              },
              {
                "ProductId": 4513,
                "Seasonality": 1,
                "Price": 30.21,
                "Profit": 8.28
              },
              {
                "ProductId": 4514,
                "Seasonality": 1,
                "Price": 24.36,
                "Profit": 7.49
              },
              {
                "ProductId": 4515,
                "Seasonality": 1,
                "Price": 25.17,
                "Profit": 7.85
              },
              {
                "ProductId": 4516,
                "Seasonality": 1,
                "Price": 20.02,
                "Profit": 6.74
              },
              {
                "ProductId": 4517,
                "Seasonality": 1,
                "Price": 34.06,
                "Profit": 10.88
              },
              {
                "ProductId": 4518,
                "Seasonality": 1,
                "Price": 23.51,
                "Profit": 4.95
              },
              {
                "ProductId": 4519,
                "Seasonality": 1,
                "Price": 20.07,
                "Profit": 7.45
              },
              {
                "ProductId": 4520,
                "Seasonality": 1,
                "Price": 29.67,
                "Profit": 9.52
              },
              {
                "ProductId": 4521,
                "Seasonality": 3,
                "Price": 20.55,
                "Profit": 5.88
              },
              {
                "ProductId": 4522,
                "Seasonality": 1,
                "Price": 41.95,
                "Profit": 11.45
              },
              {
                "ProductId": 4523,
                "Seasonality": 2,
                "Price": 25.37,
                "Profit": 7.91
              },
              {
                "ProductId": 4524,
                "Seasonality": 1,
                "Price": 21.33,
                "Profit": 5.8
              },
              {
                "ProductId": 4525,
                "Seasonality": 1,
                "Price": 15.69,
                "Profit": 4.57
              },
              {
                "ProductId": 4526,
                "Seasonality": 1,
                "Price": 27.93,
                "Profit": 8.92
              },
              {
                "ProductId": 4527,
                "Seasonality": 3,
                "Price": 23.49,
                "Profit": 8.24
              },
              {
                "ProductId": 4528,
                "Seasonality": 1,
                "Price": 36.18,
                "Profit": 10.9
              },
              {
                "ProductId": 4529,
                "Seasonality": 1,
                "Price": 34.24,
                "Profit": 11.71
              },
              {
                "ProductId": 4530,
                "Seasonality": 1,
                "Price": 21.09,
                "Profit": 5.81
              },
              {
                "ProductId": 4531,
                "Seasonality": 1,
                "Price": 24.74,
                "Profit": 6.39
              },
              {
                "ProductId": 4532,
                "Seasonality": 1,
                "Price": 27.18,
                "Profit": 9.67
              },
              {
                "ProductId": 4533,
                "Seasonality": 1,
                "Price": 31.91,
                "Profit": 8.93
              },
              {
                "ProductId": 4534,
                "Seasonality": 2,
                "Price": 19.8,
                "Profit": 6.69
              },
              {
                "ProductId": 4535,
                "Seasonality": 1,
                "Price": 24.72,
                "Profit": 5.68
              },
              {
                "ProductId": 4536,
                "Seasonality": 3,
                "Price": 32.77,
                "Profit": 9.8
              },
              {
                "ProductId": 4537,
                "Seasonality": 1,
                "Price": 24.97,
                "Profit": 8.99
              },
              {
                "ProductId": 4538,
                "Seasonality": 2,
                "Price": 23,
                "Profit": 7.91
              },
              {
                "ProductId": 4539,
                "Seasonality": 1,
                "Price": 29.46,
                "Profit": 7.86
              },
              {
                "ProductId": 4540,
                "Seasonality": 2,
                "Price": 30.28,
                "Profit": 10.35
              },
              {
                "ProductId": 4541,
                "Seasonality": 3,
                "Price": 21.02,
                "Profit": 5.91
              },
              {
                "ProductId": 4542,
                "Seasonality": 2,
                "Price": 20.36,
                "Profit": 6.28
              },
              {
                "ProductId": 4543,
                "Seasonality": 1,
                "Price": 32.41,
                "Profit": 9.29
              },
              {
                "ProductId": 4544,
                "Seasonality": 1,
                "Price": 24.52,
                "Profit": 5.85
              },
              {
                "ProductId": 4545,
                "Seasonality": 2,
                "Price": 25.24,
                "Profit": 9.08
              },
              {
                "ProductId": 4546,
                "Seasonality": 1,
                "Price": 25.88,
                "Profit": 7.68
              },
              {
                "ProductId": 4547,
                "Seasonality": 1,
                "Price": 26.95,
                "Profit": 7.95
              },
              {
                "ProductId": 4548,
                "Seasonality": 3,
                "Price": 34.33,
                "Profit": 13.04
              },
              {
                "ProductId": 4549,
                "Seasonality": 3,
                "Price": 17.75,
                "Profit": 5.16
              },
              {
                "ProductId": 4550,
                "Seasonality": 3,
                "Price": 31.82,
                "Profit": 10.56
              },
              {
                "ProductId": 4551,
                "Seasonality": 2,
                "Price": 31.02,
                "Profit": 8.74
              },
              {
                "ProductId": 4552,
                "Seasonality": 3,
                "Price": 29.48,
                "Profit": 7.87
              },
              {
                "ProductId": 4553,
                "Seasonality": 1,
                "Price": 23.89,
                "Profit": 7.73
              },
              {
                "ProductId": 4554,
                "Seasonality": 1,
                "Price": 21.83,
                "Profit": 6.85
              },
              {
                "ProductId": 4555,
                "Seasonality": 3,
                "Price": 27.59,
                "Profit": 7.98
              },
              {
                "ProductId": 4556,
                "Seasonality": 1,
                "Price": 31.1,
                "Profit": 8.04
              },
              {
                "ProductId": 4557,
                "Seasonality": 2,
                "Price": 25.65,
                "Profit": 7.09
              },
              {
                "ProductId": 4558,
                "Seasonality": 1,
                "Price": 31.17,
                "Profit": 8.66
              },
              {
                "ProductId": 4559,
                "Seasonality": 1,
                "Price": 28.49,
                "Profit": 7.15
              },
              {
                "ProductId": 4560,
                "Seasonality": 1,
                "Price": 29.6,
                "Profit": 8.06
              },
              {
                "ProductId": 4561,
                "Seasonality": 1,
                "Price": 32.78,
                "Profit": 10.18
              },
              {
                "ProductId": 4562,
                "Seasonality": 1,
                "Price": 14.17,
                "Profit": 4.51
              },
              {
                "ProductId": 4563,
                "Seasonality": 2,
                "Price": 18.55,
                "Profit": 5.95
              },
              {
                "ProductId": 4564,
                "Seasonality": 1,
                "Price": 27.98,
                "Profit": 6.78
              },
              {
                "ProductId": 4565,
                "Seasonality": 1,
                "Price": 31.92,
                "Profit": 9.15
              },
              {
                "ProductId": 4566,
                "Seasonality": 1,
                "Price": 22.09,
                "Profit": 5.97
              },
              {
                "ProductId": 4567,
                "Seasonality": 1,
                "Price": 22.15,
                "Profit": 6.32
              },
              {
                "ProductId": 4568,
                "Seasonality": 3,
                "Price": 25.93,
                "Profit": 10.03
              },
              {
                "ProductId": 4569,
                "Seasonality": 1,
                "Price": 29.59,
                "Profit": 10.75
              },
              {
                "ProductId": 4570,
                "Seasonality": 1,
                "Price": 24.29,
                "Profit": 6.44
              },
              {
                "ProductId": 4571,
                "Seasonality": 1,
                "Price": 32.35,
                "Profit": 9.11
              },
              {
                "ProductId": 4572,
                "Seasonality": 1,
                "Price": 26.05,
                "Profit": 8.82
              },
              {
                "ProductId": 4573,
                "Seasonality": 1,
                "Price": 24.34,
                "Profit": 7.9
              },
              {
                "ProductId": 4574,
                "Seasonality": 2,
                "Price": 30.83,
                "Profit": 9.21
              },
              {
                "ProductId": 4575,
                "Seasonality": 1,
                "Price": 28.14,
                "Profit": 7.96
              },
              {
                "ProductId": 4576,
                "Seasonality": 2,
                "Price": 29.88,
                "Profit": 7.78
              },
              {
                "ProductId": 4577,
                "Seasonality": 2,
                "Price": 25.03,
                "Profit": 7.91
              },
              {
                "ProductId": 4578,
                "Seasonality": 1,
                "Price": 35.02,
                "Profit": 8.61
              },
              {
                "ProductId": 4579,
                "Seasonality": 2,
                "Price": 30.97,
                "Profit": 9.5
              },
              {
                "ProductId": 4580,
                "Seasonality": 1,
                "Price": 27.26,
                "Profit": 8.84
              },
              {
                "ProductId": 4581,
                "Seasonality": 1,
                "Price": 20.84,
                "Profit": 5.92
              },
              {
                "ProductId": 4582,
                "Seasonality": 2,
                "Price": 29.76,
                "Profit": 8.39
              },
              {
                "ProductId": 4583,
                "Seasonality": 1,
                "Price": 27.78,
                "Profit": 8.47
              },
              {
                "ProductId": 4584,
                "Seasonality": 1,
                "Price": 22.3,
                "Profit": 7.65
              },
              {
                "ProductId": 4585,
                "Seasonality": 1,
                "Price": 28.81,
                "Profit": 8.5
              },
              {
                "ProductId": 4586,
                "Seasonality": 1,
                "Price": 23.5,
                "Profit": 6.31
              },
              {
                "ProductId": 4587,
                "Seasonality": 1,
                "Price": 39.42,
                "Profit": 11.96
              },
              {
                "ProductId": 4588,
                "Seasonality": 2,
                "Price": 18.61,
                "Profit": 6.36
              },
              {
                "ProductId": 4589,
                "Seasonality": 1,
                "Price": 28.91,
                "Profit": 9.69
              },
              {
                "ProductId": 4590,
                "Seasonality": 2,
                "Price": 32.21,
                "Profit": 9.78
              },
              {
                "ProductId": 4591,
                "Seasonality": 1,
                "Price": 33.04,
                "Profit": 11.25
              },
              {
                "ProductId": 4592,
                "Seasonality": 1,
                "Price": 31.9,
                "Profit": 7.31
              },
              {
                "ProductId": 4593,
                "Seasonality": 3,
                "Price": 23.27,
                "Profit": 4.73
              },
              {
                "ProductId": 4594,
                "Seasonality": 1,
                "Price": 23.4,
                "Profit": 5.86
              },
              {
                "ProductId": 4595,
                "Seasonality": 1,
                "Price": 28.61,
                "Profit": 9.79
              },
              {
                "ProductId": 4596,
                "Seasonality": 1,
                "Price": 29.65,
                "Profit": 8.37
              },
              {
                "ProductId": 4597,
                "Seasonality": 2,
                "Price": 31.11,
                "Profit": 11.16
              },
              {
                "ProductId": 4598,
                "Seasonality": 1,
                "Price": 30.23,
                "Profit": 10.17
              },
              {
                "ProductId": 4599,
                "Seasonality": 2,
                "Price": 31.89,
                "Profit": 6.74
              },
              {
                "ProductId": 4600,
                "Seasonality": 1,
                "Price": 22.83,
                "Profit": 6.36
              },
              {
                "ProductId": 4601,
                "Seasonality": 1,
                "Price": 25.33,
                "Profit": 5.87
              },
              {
                "ProductId": 4602,
                "Seasonality": 1,
                "Price": 23.17,
                "Profit": 8.02
              },
              {
                "ProductId": 4603,
                "Seasonality": 1,
                "Price": 30.23,
                "Profit": 8.77
              },
              {
                "ProductId": 4604,
                "Seasonality": 3,
                "Price": 23.66,
                "Profit": 6.81
              },
              {
                "ProductId": 4605,
                "Seasonality": 1,
                "Price": 20.33,
                "Profit": 5.69
              },
              {
                "ProductId": 4606,
                "Seasonality": 1,
                "Price": 20.43,
                "Profit": 4.98
              },
              {
                "ProductId": 4607,
                "Seasonality": 1,
                "Price": 27.33,
                "Profit": 9.4
              },
              {
                "ProductId": 4608,
                "Seasonality": 1,
                "Price": 32.37,
                "Profit": 6.91
              },
              {
                "ProductId": 4609,
                "Seasonality": 3,
                "Price": 20.21,
                "Profit": 6.29
              },
              {
                "ProductId": 4610,
                "Seasonality": 1,
                "Price": 30.91,
                "Profit": 8.49
              },
              {
                "ProductId": 4611,
                "Seasonality": 2,
                "Price": 28.07,
                "Profit": 8.45
              },
              {
                "ProductId": 4612,
                "Seasonality": 1,
                "Price": 24.92,
                "Profit": 5.76
              },
              {
                "ProductId": 4613,
                "Seasonality": 3,
                "Price": 26.8,
                "Profit": 8.28
              },
              {
                "ProductId": 4614,
                "Seasonality": 3,
                "Price": 30.97,
                "Profit": 9.83
              },
              {
                "ProductId": 4615,
                "Seasonality": 1,
                "Price": 42.96,
                "Profit": 10.73
              },
              {
                "ProductId": 4616,
                "Seasonality": 3,
                "Price": 32.82,
                "Profit": 11.94
              },
              {
                "ProductId": 4617,
                "Seasonality": 3,
                "Price": 27.43,
                "Profit": 6.91
              },
              {
                "ProductId": 4618,
                "Seasonality": 3,
                "Price": 28.35,
                "Profit": 8.88
              },
              {
                "ProductId": 4619,
                "Seasonality": 1,
                "Price": 40.97,
                "Profit": 13.93
              },
              {
                "ProductId": 4620,
                "Seasonality": 2,
                "Price": 27.38,
                "Profit": 8.16
              },
              {
                "ProductId": 4621,
                "Seasonality": 1,
                "Price": 32.93,
                "Profit": 10.79
              },
              {
                "ProductId": 4622,
                "Seasonality": 1,
                "Price": 24.33,
                "Profit": 7.42
              },
              {
                "ProductId": 4623,
                "Seasonality": 1,
                "Price": 30.49,
                "Profit": 7.64
              },
              {
                "ProductId": 4624,
                "Seasonality": 1,
                "Price": 23.27,
                "Profit": 8.04
              },
              {
                "ProductId": 4625,
                "Seasonality": 1,
                "Price": 38.12,
                "Profit": 14.3
              },
              {
                "ProductId": 4626,
                "Seasonality": 3,
                "Price": 21.22,
                "Profit": 6.15
              },
              {
                "ProductId": 4627,
                "Seasonality": 1,
                "Price": 31.53,
                "Profit": 9.44
              },
              {
                "ProductId": 4628,
                "Seasonality": 1,
                "Price": 25.1,
                "Profit": 8.01
              },
              {
                "ProductId": 4629,
                "Seasonality": 1,
                "Price": 35.98,
                "Profit": 11.07
              },
              {
                "ProductId": 4630,
                "Seasonality": 1,
                "Price": 27.7,
                "Profit": 8.09
              },
              {
                "ProductId": 4631,
                "Seasonality": 2,
                "Price": 24.66,
                "Profit": 8.31
              },
              {
                "ProductId": 4632,
                "Seasonality": 2,
                "Price": 33.36,
                "Profit": 12.64
              },
              {
                "ProductId": 4633,
                "Seasonality": 1,
                "Price": 26.21,
                "Profit": 7.29
              },
              {
                "ProductId": 4634,
                "Seasonality": 3,
                "Price": 18.92,
                "Profit": 5.4
              },
              {
                "ProductId": 4635,
                "Seasonality": 3,
                "Price": 30.47,
                "Profit": 10.33
              },
              {
                "ProductId": 4636,
                "Seasonality": 1,
                "Price": 28.9,
                "Profit": 7.28
              },
              {
                "ProductId": 4637,
                "Seasonality": 1,
                "Price": 25.72,
                "Profit": 8.62
              },
              {
                "ProductId": 4638,
                "Seasonality": 1,
                "Price": 14.85,
                "Profit": 3.8
              },
              {
                "ProductId": 4639,
                "Seasonality": 3,
                "Price": 18.57,
                "Profit": 4.17
              },
              {
                "ProductId": 4640,
                "Seasonality": 2,
                "Price": 32.75,
                "Profit": 9.58
              },
              {
                "ProductId": 4641,
                "Seasonality": 1,
                "Price": 33.46,
                "Profit": 11.44
              },
              {
                "ProductId": 4642,
                "Seasonality": 3,
                "Price": 35.57,
                "Profit": 10.56
              },
              {
                "ProductId": 4643,
                "Seasonality": 1,
                "Price": 27.69,
                "Profit": 8.41
              },
              {
                "ProductId": 4644,
                "Seasonality": 1,
                "Price": 32.94,
                "Profit": 9.77
              },
              {
                "ProductId": 4645,
                "Seasonality": 1,
                "Price": 23.69,
                "Profit": 7.31
              },
              {
                "ProductId": 4646,
                "Seasonality": 1,
                "Price": 24.05,
                "Profit": 7.54
              },
              {
                "ProductId": 4647,
                "Seasonality": 1,
                "Price": 33.51,
                "Profit": 9.63
              },
              {
                "ProductId": 4648,
                "Seasonality": 3,
                "Price": 23.6,
                "Profit": 8.25
              },
              {
                "ProductId": 4649,
                "Seasonality": 1,
                "Price": 27.84,
                "Profit": 8.58
              },
              {
                "ProductId": 4650,
                "Seasonality": 3,
                "Price": 18.31,
                "Profit": 6.1
              },
              {
                "ProductId": 4651,
                "Seasonality": 1,
                "Price": 32.8,
                "Profit": 12.33
              },
              {
                "ProductId": 4652,
                "Seasonality": 1,
                "Price": 18.58,
                "Profit": 5.15
              },
              {
                "ProductId": 4653,
                "Seasonality": 2,
                "Price": 25.97,
                "Profit": 8.41
              },
              {
                "ProductId": 4654,
                "Seasonality": 3,
                "Price": 35.09,
                "Profit": 10.62
              },
              {
                "ProductId": 4655,
                "Seasonality": 1,
                "Price": 33.07,
                "Profit": 9.82
              },
              {
                "ProductId": 4656,
                "Seasonality": 1,
                "Price": 31.84,
                "Profit": 10.42
              },
              {
                "ProductId": 4657,
                "Seasonality": 2,
                "Price": 36.96,
                "Profit": 14.12
              },
              {
                "ProductId": 4658,
                "Seasonality": 2,
                "Price": 31.8,
                "Profit": 11.07
              },
              {
                "ProductId": 4659,
                "Seasonality": 3,
                "Price": 26.47,
                "Profit": 8.33
              },
              {
                "ProductId": 4660,
                "Seasonality": 1,
                "Price": 15.89,
                "Profit": 4.88
              },
              {
                "ProductId": 4661,
                "Seasonality": 1,
                "Price": 29.53,
                "Profit": 7.4
              },
              {
                "ProductId": 4662,
                "Seasonality": 3,
                "Price": 36.4,
                "Profit": 9.83
              },
              {
                "ProductId": 4663,
                "Seasonality": 1,
                "Price": 25.49,
                "Profit": 7.9
              },
              {
                "ProductId": 4664,
                "Seasonality": 1,
                "Price": 27.3,
                "Profit": 7.72
              },
              {
                "ProductId": 4665,
                "Seasonality": 3,
                "Price": 31.63,
                "Profit": 9.96
              },
              {
                "ProductId": 4666,
                "Seasonality": 2,
                "Price": 14.57,
                "Profit": 4.1
              },
              {
                "ProductId": 4667,
                "Seasonality": 2,
                "Price": 28.13,
                "Profit": 9.3
              },
              {
                "ProductId": 4668,
                "Seasonality": 2,
                "Price": 37.27,
                "Profit": 11.45
              },
              {
                "ProductId": 4669,
                "Seasonality": 1,
                "Price": 20.41,
                "Profit": 5.2
              },
              {
                "ProductId": 4670,
                "Seasonality": 2,
                "Price": 30.93,
                "Profit": 9.05
              },
              {
                "ProductId": 4671,
                "Seasonality": 1,
                "Price": 30.29,
                "Profit": 9.57
              },
              {
                "ProductId": 4672,
                "Seasonality": 1,
                "Price": 9.46,
                "Profit": 3.09
              },
              {
                "ProductId": 4673,
                "Seasonality": 2,
                "Price": 22.96,
                "Profit": 8.17
              },
              {
                "ProductId": 4674,
                "Seasonality": 3,
                "Price": 12.32,
                "Profit": 3.74
              },
              {
                "ProductId": 4675,
                "Seasonality": 1,
                "Price": 34.52,
                "Profit": 11.38
              },
              {
                "ProductId": 4676,
                "Seasonality": 1,
                "Price": 36.15,
                "Profit": 12.15
              },
              {
                "ProductId": 4677,
                "Seasonality": 1,
                "Price": 20.98,
                "Profit": 5.94
              },
              {
                "ProductId": 4678,
                "Seasonality": 2,
                "Price": 32.23,
                "Profit": 9.59
              },
              {
                "ProductId": 4679,
                "Seasonality": 1,
                "Price": 35.88,
                "Profit": 10.83
              },
              {
                "ProductId": 4680,
                "Seasonality": 1,
                "Price": 36.77,
                "Profit": 10.33
              },
              {
                "ProductId": 2341,
                "Seasonality": 2,
                "Price": 28.88,
                "Profit": 6.95
              },
              {
                "ProductId": 2342,
                "Seasonality": 1,
                "Price": 28.23,
                "Profit": 9.09
              },
              {
                "ProductId": 2343,
                "Seasonality": 1,
                "Price": 23.19,
                "Profit": 6.86
              },
              {
                "ProductId": 2344,
                "Seasonality": 3,
                "Price": 29.49,
                "Profit": 8.53
              },
              {
                "ProductId": 2345,
                "Seasonality": 1,
                "Price": 24.21,
                "Profit": 7.62
              },
              {
                "ProductId": 2346,
                "Seasonality": 1,
                "Price": 27.81,
                "Profit": 9.12
              },
              {
                "ProductId": 2347,
                "Seasonality": 3,
                "Price": 24.07,
                "Profit": 8.52
              },
              {
                "ProductId": 2348,
                "Seasonality": 1,
                "Price": 26.91,
                "Profit": 7.64
              },
              {
                "ProductId": 2349,
                "Seasonality": 2,
                "Price": 30.9,
                "Profit": 8.81
              },
              {
                "ProductId": 2350,
                "Seasonality": 3,
                "Price": 27.55,
                "Profit": 7.78
              },
              {
                "ProductId": 2351,
                "Seasonality": 1,
                "Price": 26.29,
                "Profit": 9.56
              },
              {
                "ProductId": 2352,
                "Seasonality": 1,
                "Price": 30.49,
                "Profit": 9.24
              },
              {
                "ProductId": 2353,
                "Seasonality": 1,
                "Price": 33.4,
                "Profit": 11.94
              },
              {
                "ProductId": 2354,
                "Seasonality": 3,
                "Price": 22.53,
                "Profit": 6.89
              },
              {
                "ProductId": 2355,
                "Seasonality": 1,
                "Price": 24.42,
                "Profit": 6.3
              },
              {
                "ProductId": 2356,
                "Seasonality": 1,
                "Price": 24.59,
                "Profit": 7.03
              },
              {
                "ProductId": 2357,
                "Seasonality": 1,
                "Price": 27,
                "Profit": 6.82
              },
              {
                "ProductId": 2358,
                "Seasonality": 1,
                "Price": 23.29,
                "Profit": 8.31
              },
              {
                "ProductId": 2359,
                "Seasonality": 2,
                "Price": 35.44,
                "Profit": 9.76
              },
              {
                "ProductId": 2360,
                "Seasonality": 2,
                "Price": 30.26,
                "Profit": 10.15
              },
              {
                "ProductId": 2361,
                "Seasonality": 1,
                "Price": 29.62,
                "Profit": 7.56
              },
              {
                "ProductId": 2362,
                "Seasonality": 1,
                "Price": 35.52,
                "Profit": 10.34
              },
              {
                "ProductId": 2363,
                "Seasonality": 3,
                "Price": 26.67,
                "Profit": 8.26
              },
              {
                "ProductId": 2364,
                "Seasonality": 1,
                "Price": 34.87,
                "Profit": 9.76
              },
              {
                "ProductId": 2365,
                "Seasonality": 1,
                "Price": 22.73,
                "Profit": 5.07
              },
              {
                "ProductId": 2366,
                "Seasonality": 2,
                "Price": 27.11,
                "Profit": 7.88
              },
              {
                "ProductId": 2367,
                "Seasonality": 1,
                "Price": 32.45,
                "Profit": 9.43
              },
              {
                "ProductId": 2368,
                "Seasonality": 1,
                "Price": 20.17,
                "Profit": 5.96
              },
              {
                "ProductId": 2369,
                "Seasonality": 2,
                "Price": 25.69,
                "Profit": 7.15
              },
              {
                "ProductId": 2370,
                "Seasonality": 1,
                "Price": 17.37,
                "Profit": 4.85
              },
              {
                "ProductId": 2371,
                "Seasonality": 2,
                "Price": 31.04,
                "Profit": 9.73
              },
              {
                "ProductId": 2372,
                "Seasonality": 1,
                "Price": 33.38,
                "Profit": 8.38
              },
              {
                "ProductId": 2373,
                "Seasonality": 1,
                "Price": 31.28,
                "Profit": 11.14
              },
              {
                "ProductId": 2374,
                "Seasonality": 1,
                "Price": 16.18,
                "Profit": 5
              },
              {
                "ProductId": 2375,
                "Seasonality": 1,
                "Price": 33.64,
                "Profit": 9.81
              },
              {
                "ProductId": 2376,
                "Seasonality": 1,
                "Price": 36.29,
                "Profit": 10.35
              },
              {
                "ProductId": 2377,
                "Seasonality": 3,
                "Price": 29.56,
                "Profit": 7.62
              },
              {
                "ProductId": 2378,
                "Seasonality": 1,
                "Price": 21.05,
                "Profit": 5.85
              },
              {
                "ProductId": 2379,
                "Seasonality": 1,
                "Price": 27.37,
                "Profit": 9.99
              },
              {
                "ProductId": 2380,
                "Seasonality": 1,
                "Price": 29.64,
                "Profit": 11.66
              },
              {
                "ProductId": 2381,
                "Seasonality": 3,
                "Price": 25.68,
                "Profit": 8.18
              },
              {
                "ProductId": 2382,
                "Seasonality": 2,
                "Price": 27.43,
                "Profit": 7.42
              },
              {
                "ProductId": 2383,
                "Seasonality": 2,
                "Price": 28.68,
                "Profit": 7.87
              },
              {
                "ProductId": 2384,
                "Seasonality": 2,
                "Price": 33.55,
                "Profit": 10.4
              },
              {
                "ProductId": 2385,
                "Seasonality": 1,
                "Price": 34.2,
                "Profit": 7.59
              },
              {
                "ProductId": 2386,
                "Seasonality": 1,
                "Price": 28.01,
                "Profit": 8.91
              },
              {
                "ProductId": 2387,
                "Seasonality": 3,
                "Price": 24.85,
                "Profit": 8.61
              },
              {
                "ProductId": 2388,
                "Seasonality": 3,
                "Price": 25.92,
                "Profit": 9.54
              },
              {
                "ProductId": 2389,
                "Seasonality": 1,
                "Price": 31.52,
                "Profit": 7.29
              },
              {
                "ProductId": 2390,
                "Seasonality": 1,
                "Price": 27.41,
                "Profit": 8.49
              },
              {
                "ProductId": 2391,
                "Seasonality": 3,
                "Price": 12.08,
                "Profit": 3.85
              },
              {
                "ProductId": 2392,
                "Seasonality": 1,
                "Price": 32.9,
                "Profit": 9.47
              },
              {
                "ProductId": 2393,
                "Seasonality": 3,
                "Price": 17.65,
                "Profit": 4.23
              },
              {
                "ProductId": 2394,
                "Seasonality": 1,
                "Price": 25.83,
                "Profit": 8.74
              },
              {
                "ProductId": 2395,
                "Seasonality": 2,
                "Price": 30.33,
                "Profit": 12.54
              },
              {
                "ProductId": 2396,
                "Seasonality": 3,
                "Price": 23.53,
                "Profit": 6.3
              },
              {
                "ProductId": 2397,
                "Seasonality": 1,
                "Price": 26.42,
                "Profit": 10.09
              },
              {
                "ProductId": 2398,
                "Seasonality": 3,
                "Price": 23.35,
                "Profit": 6.89
              },
              {
                "ProductId": 2399,
                "Seasonality": 2,
                "Price": 17.34,
                "Profit": 5.42
              },
              {
                "ProductId": 2400,
                "Seasonality": 1,
                "Price": 18.25,
                "Profit": 5.64
              },
              {
                "ProductId": 2401,
                "Seasonality": 3,
                "Price": 20.75,
                "Profit": 6.8
              },
              {
                "ProductId": 2402,
                "Seasonality": 1,
                "Price": 25.55,
                "Profit": 7.79
              },
              {
                "ProductId": 2403,
                "Seasonality": 2,
                "Price": 43.43,
                "Profit": 15.28
              },
              {
                "ProductId": 2404,
                "Seasonality": 3,
                "Price": 18.85,
                "Profit": 6.13
              },
              {
                "ProductId": 2405,
                "Seasonality": 1,
                "Price": 34.5,
                "Profit": 9.49
              },
              {
                "ProductId": 2406,
                "Seasonality": 2,
                "Price": 29.83,
                "Profit": 8.54
              },
              {
                "ProductId": 2407,
                "Seasonality": 2,
                "Price": 28.28,
                "Profit": 8.4
              },
              {
                "ProductId": 2408,
                "Seasonality": 2,
                "Price": 26.91,
                "Profit": 8.7
              },
              {
                "ProductId": 2409,
                "Seasonality": 1,
                "Price": 30.29,
                "Profit": 7.46
              },
              {
                "ProductId": 2410,
                "Seasonality": 1,
                "Price": 28.23,
                "Profit": 9.25
              },
              {
                "ProductId": 2411,
                "Seasonality": 1,
                "Price": 11.86,
                "Profit": 4.35
              },
              {
                "ProductId": 2412,
                "Seasonality": 1,
                "Price": 26.76,
                "Profit": 8.35
              },
              {
                "ProductId": 2413,
                "Seasonality": 1,
                "Price": 25.61,
                "Profit": 6.12
              },
              {
                "ProductId": 2414,
                "Seasonality": 2,
                "Price": 25.97,
                "Profit": 6.38
              },
              {
                "ProductId": 2415,
                "Seasonality": 2,
                "Price": 19.27,
                "Profit": 6.16
              },
              {
                "ProductId": 2416,
                "Seasonality": 1,
                "Price": 33.38,
                "Profit": 10.24
              },
              {
                "ProductId": 2417,
                "Seasonality": 2,
                "Price": 33.61,
                "Profit": 11.72
              },
              {
                "ProductId": 2418,
                "Seasonality": 1,
                "Price": 25.27,
                "Profit": 9.01
              },
              {
                "ProductId": 2419,
                "Seasonality": 2,
                "Price": 26.12,
                "Profit": 7.98
              },
              {
                "ProductId": 2420,
                "Seasonality": 3,
                "Price": 21.97,
                "Profit": 6.26
              },
              {
                "ProductId": 2421,
                "Seasonality": 2,
                "Price": 27.15,
                "Profit": 6.17
              },
              {
                "ProductId": 2422,
                "Seasonality": 2,
                "Price": 26.98,
                "Profit": 8.4
              },
              {
                "ProductId": 2423,
                "Seasonality": 1,
                "Price": 28.31,
                "Profit": 7.29
              },
              {
                "ProductId": 2424,
                "Seasonality": 1,
                "Price": 25.77,
                "Profit": 8.35
              },
              {
                "ProductId": 2425,
                "Seasonality": 2,
                "Price": 36.05,
                "Profit": 11.32
              },
              {
                "ProductId": 2426,
                "Seasonality": 1,
                "Price": 24.26,
                "Profit": 8.89
              },
              {
                "ProductId": 2427,
                "Seasonality": 1,
                "Price": 26.62,
                "Profit": 7
              },
              {
                "ProductId": 2428,
                "Seasonality": 3,
                "Price": 36.19,
                "Profit": 12.4
              },
              {
                "ProductId": 2429,
                "Seasonality": 1,
                "Price": 38.2,
                "Profit": 10.07
              },
              {
                "ProductId": 2430,
                "Seasonality": 1,
                "Price": 20.49,
                "Profit": 5.43
              },
              {
                "ProductId": 2431,
                "Seasonality": 1,
                "Price": 28.69,
                "Profit": 7.5
              },
              {
                "ProductId": 2432,
                "Seasonality": 1,
                "Price": 19.83,
                "Profit": 5.98
              },
              {
                "ProductId": 2433,
                "Seasonality": 1,
                "Price": 22.76,
                "Profit": 7.2
              },
              {
                "ProductId": 2434,
                "Seasonality": 1,
                "Price": 28.21,
                "Profit": 8.72
              },
              {
                "ProductId": 2435,
                "Seasonality": 1,
                "Price": 38.05,
                "Profit": 10.47
              },
              {
                "ProductId": 2436,
                "Seasonality": 3,
                "Price": 11.59,
                "Profit": 2.76
              },
              {
                "ProductId": 2437,
                "Seasonality": 1,
                "Price": 20.84,
                "Profit": 5.44
              },
              {
                "ProductId": 2438,
                "Seasonality": 2,
                "Price": 19.44,
                "Profit": 5.45
              },
              {
                "ProductId": 2439,
                "Seasonality": 1,
                "Price": 30.54,
                "Profit": 8.13
              },
              {
                "ProductId": 2440,
                "Seasonality": 1,
                "Price": 19.33,
                "Profit": 5.15
              },
              {
                "ProductId": 2441,
                "Seasonality": 2,
                "Price": 32.09,
                "Profit": 9.81
              },
              {
                "ProductId": 2442,
                "Seasonality": 2,
                "Price": 38.22,
                "Profit": 13.56
              },
              {
                "ProductId": 2443,
                "Seasonality": 1,
                "Price": 34.78,
                "Profit": 11.1
              },
              {
                "ProductId": 2444,
                "Seasonality": 1,
                "Price": 28.42,
                "Profit": 6.88
              },
              {
                "ProductId": 2445,
                "Seasonality": 1,
                "Price": 30.92,
                "Profit": 8.78
              },
              {
                "ProductId": 2446,
                "Seasonality": 1,
                "Price": 30.1,
                "Profit": 8.73
              },
              {
                "ProductId": 2447,
                "Seasonality": 1,
                "Price": 28.99,
                "Profit": 10.44
              },
              {
                "ProductId": 2448,
                "Seasonality": 3,
                "Price": 24.21,
                "Profit": 9.15
              },
              {
                "ProductId": 2449,
                "Seasonality": 2,
                "Price": 37.29,
                "Profit": 10.26
              },
              {
                "ProductId": 2450,
                "Seasonality": 3,
                "Price": 43.98,
                "Profit": 10.93
              },
              {
                "ProductId": 2451,
                "Seasonality": 3,
                "Price": 32.05,
                "Profit": 8.75
              },
              {
                "ProductId": 2452,
                "Seasonality": 1,
                "Price": 31.59,
                "Profit": 8.45
              },
              {
                "ProductId": 2453,
                "Seasonality": 1,
                "Price": 33.9,
                "Profit": 7.24
              },
              {
                "ProductId": 2454,
                "Seasonality": 1,
                "Price": 27.26,
                "Profit": 7.14
              },
              {
                "ProductId": 2455,
                "Seasonality": 2,
                "Price": 30.71,
                "Profit": 10.29
              },
              {
                "ProductId": 2456,
                "Seasonality": 1,
                "Price": 22.98,
                "Profit": 7.63
              },
              {
                "ProductId": 2457,
                "Seasonality": 2,
                "Price": 24.98,
                "Profit": 6.79
              },
              {
                "ProductId": 2458,
                "Seasonality": 2,
                "Price": 29.17,
                "Profit": 7.84
              },
              {
                "ProductId": 2459,
                "Seasonality": 1,
                "Price": 22.81,
                "Profit": 6.11
              },
              {
                "ProductId": 2460,
                "Seasonality": 1,
                "Price": 25.79,
                "Profit": 8.62
              },
              {
                "ProductId": 2461,
                "Seasonality": 1,
                "Price": 27.64,
                "Profit": 8.19
              },
              {
                "ProductId": 2462,
                "Seasonality": 1,
                "Price": 29.74,
                "Profit": 9.05
              },
              {
                "ProductId": 2463,
                "Seasonality": 1,
                "Price": 28.13,
                "Profit": 8.36
              },
              {
                "ProductId": 2464,
                "Seasonality": 1,
                "Price": 18.57,
                "Profit": 4.54
              },
              {
                "ProductId": 2465,
                "Seasonality": 1,
                "Price": 23.97,
                "Profit": 6.16
              },
              {
                "ProductId": 2466,
                "Seasonality": 1,
                "Price": 23.5,
                "Profit": 6.39
              },
              {
                "ProductId": 2467,
                "Seasonality": 1,
                "Price": 30.48,
                "Profit": 8.56
              },
              {
                "ProductId": 2468,
                "Seasonality": 3,
                "Price": 37.23,
                "Profit": 8.39
              },
              {
                "ProductId": 2469,
                "Seasonality": 3,
                "Price": 32.63,
                "Profit": 9.24
              },
              {
                "ProductId": 2470,
                "Seasonality": 3,
                "Price": 41.83,
                "Profit": 12.2
              },
              {
                "ProductId": 2471,
                "Seasonality": 3,
                "Price": 23.02,
                "Profit": 8.72
              },
              {
                "ProductId": 2472,
                "Seasonality": 1,
                "Price": 36.81,
                "Profit": 9.6
              },
              {
                "ProductId": 2473,
                "Seasonality": 3,
                "Price": 27.51,
                "Profit": 8.13
              },
              {
                "ProductId": 2474,
                "Seasonality": 1,
                "Price": 28.11,
                "Profit": 10.21
              },
              {
                "ProductId": 2475,
                "Seasonality": 1,
                "Price": 36.01,
                "Profit": 9.9
              },
              {
                "ProductId": 2476,
                "Seasonality": 2,
                "Price": 32.48,
                "Profit": 9.1
              },
              {
                "ProductId": 2477,
                "Seasonality": 1,
                "Price": 27.16,
                "Profit": 7.05
              },
              {
                "ProductId": 2478,
                "Seasonality": 1,
                "Price": 21.95,
                "Profit": 7.26
              },
              {
                "ProductId": 2479,
                "Seasonality": 3,
                "Price": 29.4,
                "Profit": 8.72
              },
              {
                "ProductId": 2480,
                "Seasonality": 3,
                "Price": 13.96,
                "Profit": 4.31
              },
              {
                "ProductId": 2481,
                "Seasonality": 1,
                "Price": 27.9,
                "Profit": 10.55
              },
              {
                "ProductId": 2482,
                "Seasonality": 1,
                "Price": 26.27,
                "Profit": 5.88
              },
              {
                "ProductId": 2483,
                "Seasonality": 2,
                "Price": 26.7,
                "Profit": 8.59
              },
              {
                "ProductId": 2484,
                "Seasonality": 1,
                "Price": 22.84,
                "Profit": 6.88
              },
              {
                "ProductId": 2485,
                "Seasonality": 1,
                "Price": 29.26,
                "Profit": 8.87
              },
              {
                "ProductId": 2486,
                "Seasonality": 3,
                "Price": 32.09,
                "Profit": 11.15
              },
              {
                "ProductId": 2487,
                "Seasonality": 3,
                "Price": 21.8,
                "Profit": 6.37
              },
              {
                "ProductId": 2488,
                "Seasonality": 3,
                "Price": 34.21,
                "Profit": 10.1
              },
              {
                "ProductId": 2489,
                "Seasonality": 1,
                "Price": 30.49,
                "Profit": 10.51
              },
              {
                "ProductId": 2490,
                "Seasonality": 1,
                "Price": 18.11,
                "Profit": 4.95
              },
              {
                "ProductId": 2491,
                "Seasonality": 1,
                "Price": 28.41,
                "Profit": 8.38
              },
              {
                "ProductId": 2492,
                "Seasonality": 1,
                "Price": 34.07,
                "Profit": 9.76
              },
              {
                "ProductId": 2493,
                "Seasonality": 2,
                "Price": 28.46,
                "Profit": 9.26
              },
              {
                "ProductId": 2494,
                "Seasonality": 1,
                "Price": 39.43,
                "Profit": 12.79
              },
              {
                "ProductId": 2495,
                "Seasonality": 1,
                "Price": 38.12,
                "Profit": 8.29
              },
              {
                "ProductId": 2496,
                "Seasonality": 1,
                "Price": 22.56,
                "Profit": 6.11
              },
              {
                "ProductId": 2497,
                "Seasonality": 1,
                "Price": 30.8,
                "Profit": 9.08
              },
              {
                "ProductId": 2498,
                "Seasonality": 2,
                "Price": 19.12,
                "Profit": 5.81
              },
              {
                "ProductId": 2499,
                "Seasonality": 1,
                "Price": 26.51,
                "Profit": 9.54
              },
              {
                "ProductId": 2500,
                "Seasonality": 2,
                "Price": 22.07,
                "Profit": 6.95
              },
              {
                "ProductId": 2501,
                "Seasonality": 3,
                "Price": 29.58,
                "Profit": 9.73
              },
              {
                "ProductId": 2502,
                "Seasonality": 1,
                "Price": 23.72,
                "Profit": 6.08
              },
              {
                "ProductId": 2503,
                "Seasonality": 1,
                "Price": 36.71,
                "Profit": 11.2
              },
              {
                "ProductId": 2504,
                "Seasonality": 1,
                "Price": 21.42,
                "Profit": 7.03
              },
              {
                "ProductId": 2505,
                "Seasonality": 3,
                "Price": 37.62,
                "Profit": 12.01
              },
              {
                "ProductId": 2506,
                "Seasonality": 3,
                "Price": 18.79,
                "Profit": 6.51
              },
              {
                "ProductId": 2507,
                "Seasonality": 1,
                "Price": 26.89,
                "Profit": 8.64
              },
              {
                "ProductId": 2508,
                "Seasonality": 1,
                "Price": 21.36,
                "Profit": 6.16
              },
              {
                "ProductId": 2509,
                "Seasonality": 2,
                "Price": 28.15,
                "Profit": 7.6
              },
              {
                "ProductId": 2510,
                "Seasonality": 3,
                "Price": 31.02,
                "Profit": 10.25
              },
              {
                "ProductId": 2511,
                "Seasonality": 1,
                "Price": 23.45,
                "Profit": 6.26
              },
              {
                "ProductId": 2512,
                "Seasonality": 1,
                "Price": 25.97,
                "Profit": 7.74
              },
              {
                "ProductId": 2513,
                "Seasonality": 1,
                "Price": 36.23,
                "Profit": 11.39
              },
              {
                "ProductId": 2514,
                "Seasonality": 3,
                "Price": 26.78,
                "Profit": 7.79
              },
              {
                "ProductId": 2515,
                "Seasonality": 1,
                "Price": 24.37,
                "Profit": 6.18
              },
              {
                "ProductId": 2516,
                "Seasonality": 1,
                "Price": 28.51,
                "Profit": 8.02
              },
              {
                "ProductId": 2517,
                "Seasonality": 1,
                "Price": 39.56,
                "Profit": 12.49
              },
              {
                "ProductId": 2518,
                "Seasonality": 1,
                "Price": 16.77,
                "Profit": 4.5
              },
              {
                "ProductId": 2519,
                "Seasonality": 2,
                "Price": 24.58,
                "Profit": 6.75
              },
              {
                "ProductId": 2520,
                "Seasonality": 2,
                "Price": 34.21,
                "Profit": 8.17
              },
              {
                "ProductId": 2521,
                "Seasonality": 1,
                "Price": 25.28,
                "Profit": 6.27
              },
              {
                "ProductId": 2522,
                "Seasonality": 1,
                "Price": 35.81,
                "Profit": 10.01
              },
              {
                "ProductId": 2523,
                "Seasonality": 1,
                "Price": 26.45,
                "Profit": 7.58
              },
              {
                "ProductId": 2524,
                "Seasonality": 3,
                "Price": 34,
                "Profit": 7.57
              },
              {
                "ProductId": 2525,
                "Seasonality": 1,
                "Price": 19.8,
                "Profit": 6.05
              },
              {
                "ProductId": 2526,
                "Seasonality": 1,
                "Price": 27.49,
                "Profit": 7.41
              },
              {
                "ProductId": 2527,
                "Seasonality": 1,
                "Price": 31.65,
                "Profit": 8.44
              },
              {
                "ProductId": 2528,
                "Seasonality": 1,
                "Price": 22.61,
                "Profit": 5.7
              },
              {
                "ProductId": 2529,
                "Seasonality": 1,
                "Price": 18.12,
                "Profit": 4.37
              },
              {
                "ProductId": 2530,
                "Seasonality": 1,
                "Price": 38.26,
                "Profit": 10.4
              },
              {
                "ProductId": 2531,
                "Seasonality": 1,
                "Price": 25.07,
                "Profit": 8.19
              },
              {
                "ProductId": 2532,
                "Seasonality": 1,
                "Price": 16.68,
                "Profit": 4.73
              },
              {
                "ProductId": 2533,
                "Seasonality": 1,
                "Price": 14.5,
                "Profit": 4.08
              },
              {
                "ProductId": 2534,
                "Seasonality": 1,
                "Price": 30.24,
                "Profit": 8.28
              },
              {
                "ProductId": 2535,
                "Seasonality": 1,
                "Price": 20.37,
                "Profit": 6.17
              },
              {
                "ProductId": 2536,
                "Seasonality": 2,
                "Price": 30.96,
                "Profit": 9.69
              },
              {
                "ProductId": 2537,
                "Seasonality": 1,
                "Price": 26.03,
                "Profit": 7.74
              },
              {
                "ProductId": 2538,
                "Seasonality": 3,
                "Price": 31.65,
                "Profit": 8.74
              },
              {
                "ProductId": 2539,
                "Seasonality": 1,
                "Price": 18.76,
                "Profit": 5.15
              },
              {
                "ProductId": 2540,
                "Seasonality": 3,
                "Price": 25.42,
                "Profit": 8.41
              },
              {
                "ProductId": 2541,
                "Seasonality": 1,
                "Price": 36.44,
                "Profit": 11.42
              },
              {
                "ProductId": 2542,
                "Seasonality": 2,
                "Price": 32.24,
                "Profit": 7.24
              },
              {
                "ProductId": 2543,
                "Seasonality": 1,
                "Price": 30.34,
                "Profit": 8.45
              },
              {
                "ProductId": 2544,
                "Seasonality": 2,
                "Price": 23.75,
                "Profit": 7.46
              },
              {
                "ProductId": 2545,
                "Seasonality": 1,
                "Price": 32.97,
                "Profit": 8.77
              },
              {
                "ProductId": 2546,
                "Seasonality": 1,
                "Price": 26.72,
                "Profit": 8.87
              },
              {
                "ProductId": 2547,
                "Seasonality": 1,
                "Price": 32.35,
                "Profit": 8.5
              },
              {
                "ProductId": 2548,
                "Seasonality": 1,
                "Price": 29.13,
                "Profit": 9.05
              },
              {
                "ProductId": 2549,
                "Seasonality": 1,
                "Price": 28.45,
                "Profit": 7.43
              },
              {
                "ProductId": 2550,
                "Seasonality": 2,
                "Price": 29.75,
                "Profit": 8.53
              },
              {
                "ProductId": 2551,
                "Seasonality": 1,
                "Price": 30.77,
                "Profit": 10.89
              },
              {
                "ProductId": 2552,
                "Seasonality": 2,
                "Price": 33.15,
                "Profit": 10.57
              },
              {
                "ProductId": 2553,
                "Seasonality": 3,
                "Price": 23.41,
                "Profit": 5.37
              },
              {
                "ProductId": 2554,
                "Seasonality": 1,
                "Price": 32.92,
                "Profit": 10.64
              },
              {
                "ProductId": 2555,
                "Seasonality": 1,
                "Price": 20.79,
                "Profit": 7.07
              },
              {
                "ProductId": 2556,
                "Seasonality": 1,
                "Price": 18.12,
                "Profit": 6.15
              },
              {
                "ProductId": 2557,
                "Seasonality": 1,
                "Price": 35.82,
                "Profit": 10.83
              },
              {
                "ProductId": 2558,
                "Seasonality": 1,
                "Price": 45.35,
                "Profit": 13.93
              },
              {
                "ProductId": 2559,
                "Seasonality": 1,
                "Price": 33.02,
                "Profit": 9.51
              },
              {
                "ProductId": 2560,
                "Seasonality": 1,
                "Price": 26.88,
                "Profit": 10
              },
              {
                "ProductId": 2561,
                "Seasonality": 3,
                "Price": 22.3,
                "Profit": 7.89
              }
            ],
            "schema": {
              "ProductId": "int",
              "Seasonality": "int",
              "Price": "object",
              "Profit": "object"
            },
            "filter": null
          },
          "showRightPanel": false,
          "isSql": false
        }
      },
      "source": [
        "%%spark\n",
        "val df = spark.read.sqlanalytics(\"#SQL_POOL_NAME#.wwi.SaleSmall\") \n",
        "df.createOrReplaceTempView(\"sale\")\n",
        "\n",
        "val df2 = spark.read.sqlanalytics(\"#SQL_POOL_NAME#.wwi.Product\") \n",
        "df2.createOrReplaceTempView(\"product\")\n",
        "display(df2)"
      ],
      "attachments": {}
    },
    {
      "cell_type": "markdown",
      "metadata": {},
      "source": [
        "Load daily product sales from the SQL pool.\n",
        ""
      ],
      "attachments": {}
    },
    {
      "cell_type": "code",
      "execution_count": null,
      "outputs": [],
      "metadata": {},
      "source": [
        "sqlQuery = \"\"\"\n",
        "SELECT\n",
        "    P.ProductId\n",
        "    ,P.Seasonality\n",
        "    ,S.TransactionDateId\n",
        "    ,COUNT(*) as TransactionItemsCount\n",
        "FROM\n",
        "    sale S\n",
        "    JOIN product P ON\n",
        "        S.ProductId = P.ProductId\n",
        "WHERE\n",
        "    S.TransactionDateId NOT IN (20120229, 20160229)\n",
        "GROUP BY\n",
        "    P.ProductId\n",
        "    ,P.Seasonality\n",
        "    ,S.TransactionDateId\n",
        "\"\"\"\n",
        "\n",
        "prod_df = spark.sql(sqlQuery)\n",
        "prod_df.cache()"
      ],
      "attachments": {}
    },
    {
      "cell_type": "markdown",
      "metadata": {},
      "source": [
        "Check the number of records in the data farame (should be around 13 million rows)."
      ],
      "attachments": {}
    },
    {
      "cell_type": "code",
      "execution_count": null,
      "outputs": [],
      "metadata": {},
      "source": [
        "prod_df.count()"
      ],
      "attachments": {}
    },
    {
      "cell_type": "markdown",
      "metadata": {},
      "source": [
        "Display some statistics about the data frame.\n",
        ""
      ],
      "attachments": {}
    },
    {
      "cell_type": "code",
      "execution_count": null,
      "outputs": [],
      "metadata": {},
      "source": [
        "display(prod_df.describe())"
      ],
      "attachments": {}
    },
    {
      "cell_type": "markdown",
      "metadata": {},
      "source": [
        "Pivot the data frame to make daily sale items counts columns. \n",
        ""
      ],
      "attachments": {}
    },
    {
      "cell_type": "code",
      "execution_count": null,
      "outputs": [],
      "metadata": {},
      "source": [
        "prod_prep_df = prod_df.groupBy(['ProductId', 'Seasonality']).pivot('TransactionDateId').sum('TransactionItemsCount').toPandas()"
      ],
      "attachments": {}
    },
    {
      "cell_type": "markdown",
      "metadata": {},
      "source": [
        "Clean up the nulls and take a look at the result.\n",
        ""
      ],
      "attachments": {}
    },
    {
      "cell_type": "code",
      "execution_count": null,
      "outputs": [],
      "metadata": {},
      "source": [
        "prod_prep_df = prod_prep_df.fillna(0)\n",
        "prod_prep_df.head(10)"
      ],
      "attachments": {}
    },
    {
      "cell_type": "markdown",
      "metadata": {},
      "source": [
        "Isloate features and prediction classes.\n",
        "\n",
        "Standardize features by removing the mean and scaling to unit variance.\n",
        ""
      ],
      "attachments": {}
    },
    {
      "cell_type": "code",
      "execution_count": null,
      "outputs": [],
      "metadata": {},
      "source": [
        "X = prod_prep_df.iloc[:, 2:].values\n",
        "y = prod_prep_df['Seasonality'].values\n",
        "\n",
        "X_scale = StandardScaler().fit_transform(X)"
      ],
      "attachments": {}
    },
    {
      "cell_type": "markdown",
      "metadata": {},
      "source": [
        "## Use PCA for dimensionality reduction\n",
        "\n",
        "Perform dimensionality reduction using Principal Components Analysis and two target components.\n",
        ""
      ],
      "attachments": {}
    },
    {
      "cell_type": "code",
      "execution_count": null,
      "outputs": [],
      "metadata": {},
      "source": [
        "pca = PCA(n_components=2)\n",
        "principal_components = pca.fit_transform(X_scale)\n",
        "principal_components = MinMaxScaler().fit_transform(principal_components)\n",
        "\n",
        "pca_df = pd.DataFrame(data = principal_components, columns = ['pc1', 'pc2'])\n",
        "pca_df = pd.concat([pca_df, prod_prep_df[['Seasonality']]], axis = 1)"
      ],
      "attachments": {}
    },
    {
      "cell_type": "markdown",
      "metadata": {},
      "source": [
        "Display the products data frame in two dimensions (mapped to the two principal components).\n",
        "\n",
        "Note the clear separation of clusters.\n",
        ""
      ],
      "attachments": {}
    },
    {
      "cell_type": "code",
      "execution_count": null,
      "outputs": [],
      "metadata": {},
      "source": [
        "fig = plt.figure(figsize = (6,6))\n",
        "ax = fig.add_subplot(1,1,1) \n",
        "ax.set_xlabel('Principal Component 1', fontsize = 15)\n",
        "ax.set_ylabel('Principal Component 2', fontsize = 15)\n",
        "ax.set_title('2 component PCA', fontsize = 20)\n",
        "targets = [1, 2, 3]\n",
        "colors = ['r', 'g', 'b']\n",
        "for target, color in zip(targets,colors):\n",
        "    indicesToKeep = pca_df['Seasonality'] == target\n",
        "    ax.scatter(pca_df.loc[indicesToKeep, 'pc1']\n",
        "               , pca_df.loc[indicesToKeep, 'pc2']\n",
        "               , c = color\n",
        "               , s = 1)\n",
        "ax.legend(['All Season Products', 'Summer Products', 'Winter Products'])\n",
        "ax.plot([-0.05, 1.05], [0.77, 1.0], linestyle=':', linewidth=1, color='y')\n",
        "ax.plot([-0.05, 1.05], [0.37, 0.6], linestyle=':', linewidth=1, color='y')\n",
        "ax.grid()\n",
        "\n",
        "plt.show()\n",
        "plt.close()"
      ],
      "attachments": {}
    },
    {
      "cell_type": "markdown",
      "metadata": {},
      "source": [
        "Redo the Principal Components Analysis, this time with twenty dimensions.\n",
        ""
      ],
      "attachments": {}
    },
    {
      "cell_type": "code",
      "execution_count": null,
      "outputs": [],
      "metadata": {},
      "source": [
        "def col_name(x):\n",
        "    return f'f{x:02}'\n",
        "\n",
        "pca = PCA(n_components=20)\n",
        "principal_components = pca.fit_transform(X_scale)\n",
        "principal_components = MinMaxScaler().fit_transform(principal_components)\n",
        "\n",
        "X = pd.DataFrame(data = principal_components, columns = list(map(col_name, np.arange(0, 20))))\n",
        "pca_df = pd.concat([X, prod_prep_df[['ProductId']]], axis = 1)\n",
        "pca_automl_df = pd.concat([X, prod_prep_df[['Seasonality']]], axis = 1)\n",
        "\n",
        "X = X[:4500]\n",
        "y = prod_prep_df['Seasonality'][:4500]\n",
        "pca_automl_df = pca_automl_df[:4500]"
      ],
      "attachments": {}
    },
    {
      "cell_type": "markdown",
      "metadata": {},
      "source": [
        "Save the PCA components to the SQL pool.\n",
        ""
      ],
      "attachments": {}
    },
    {
      "cell_type": "code",
      "execution_count": null,
      "outputs": [],
      "metadata": {},
      "source": [
        "pca_sdf = spark.createDataFrame(pca_df)\n",
        "pca_sdf.createOrReplaceTempView(\"productpca\")"
      ],
      "attachments": {}
    },
    {
      "cell_type": "code",
      "execution_count": null,
      "outputs": [],
      "metadata": {},
      "source": [
        "%%spark\n",
        "// Make sure the name of the SQL pool (#SQL_POOL_NAME# below) matches the name of your SQL pool.\n",
        "val df = spark.sqlContext.sql(\"select * from productpca\")\n",
        "df.write.sqlanalytics(\"#SQL_POOL_NAME#.wwi_ml.ProductPCA\", Constants.INTERNAL)"
      ],
      "attachments": {}
    },
    {
      "cell_type": "markdown",
      "metadata": {},
      "source": [
        "## Train ensemble of trees classifier (using XGBoost)\n",
        "\n",
        "Split into test and training data sets.\n",
        ""
      ],
      "attachments": {}
    },
    {
      "cell_type": "code",
      "execution_count": null,
      "outputs": [],
      "metadata": {},
      "source": [
        "X_train, X_test, y_train, y_test = train_test_split(X, y, test_size=0.25, random_state=123)"
      ],
      "attachments": {}
    },
    {
      "cell_type": "markdown",
      "metadata": {},
      "source": [
        "Train the ensemble classifier using XGBoost.\n",
        ""
      ],
      "attachments": {}
    },
    {
      "cell_type": "code",
      "execution_count": null,
      "outputs": [],
      "metadata": {},
      "source": [
        "model = XGBClassifier()\n",
        "model.fit(X_train, y_train)"
      ],
      "attachments": {}
    },
    {
      "cell_type": "markdown",
      "metadata": {},
      "source": [
        "Perform predictions with the newly trained model.\n",
        ""
      ],
      "attachments": {}
    },
    {
      "cell_type": "code",
      "execution_count": null,
      "outputs": [],
      "metadata": {},
      "source": [
        "y_pred = model.predict(X_test)"
      ],
      "attachments": {}
    },
    {
      "cell_type": "markdown",
      "metadata": {},
      "source": [
        "Calculate the accuracy of the model using test data.\n",
        ""
      ],
      "attachments": {}
    },
    {
      "cell_type": "code",
      "execution_count": null,
      "outputs": [],
      "metadata": {},
      "source": [
        "accuracy = accuracy_score(y_test, y_pred)\n",
        "print(\"Accuracy: %.2f%%\" % (accuracy * 100.0))"
      ],
      "attachments": {}
    },
    {
      "cell_type": "markdown",
      "metadata": {},
      "source": [
        "Convert trained model to ONNX format.\n",
        ""
      ],
      "attachments": {}
    },
    {
      "cell_type": "code",
      "execution_count": null,
      "outputs": [],
      "metadata": {},
      "source": [
        "initial_types = [\n",
        "    ('input', FloatTensorType([1, 20]))\n",
        "]\n",
        "\n",
        "onnx_model = convert_xgboost(model, initial_types=initial_types)"
      ],
      "attachments": {}
    },
    {
      "cell_type": "code",
      "execution_count": null,
      "outputs": [],
      "metadata": {
        "outputCollapsed": true
      },
      "source": [
        "\n",
        "#model.get_booster().get_dump(with_stats=True, dump_format='json')\n",
        "#model.get_booster().feature_names\n",
        "#onnx_model"
      ],
      "attachments": {}
    },
    {
      "cell_type": "markdown",
      "metadata": {},
      "source": [
        "## Train classifier using Auto ML\n",
        ""
      ],
      "attachments": {}
    },
    {
      "cell_type": "code",
      "execution_count": null,
      "outputs": [],
      "metadata": {},
      "source": [
        "from azureml.core.experiment import Experiment\n",
        "from azureml.core.workspace import Workspace\n",
        "from azureml.train.automl.run import AutoMLRun\n",
        "from azureml.train.automl import AutoMLConfig\n",
        "from azureml.automl.runtime.onnx_convert import OnnxConverter"
      ],
      "attachments": {}
    },
    {
      "cell_type": "code",
      "execution_count": null,
      "outputs": [],
      "metadata": {},
      "source": [
        "pca_automl_df.head(10)"
      ],
      "attachments": {}
    },
    {
      "cell_type": "markdown",
      "metadata": {},
      "source": [
        "Configure the connection to the Azure Machine Learning workspace. The Azure portal provides all the values below.\n",
        ""
      ],
      "attachments": {}
    },
    {
      "cell_type": "code",
      "execution_count": null,
      "outputs": [],
      "metadata": {},
      "source": [
        "subscription_id='#SUBSCRIPTION_ID#'         # ensure it matches your Azure subscription id\n",
        "resource_group='#RESOURCE_GROUP_NAME#'      # ensure it matches your resource group name\n",
        "workspace_name='#AML_WORKSPACE_NAME#'       # ensure it matches your Azure Machine Learning workspace name\n",
        "ws = Workspace(subscription_id = subscription_id, resource_group = resource_group, workspace_name = workspace_name)\n",
        "ws.write_config()\n",
        "ws = Workspace.from_config()\n",
        "experiment = Experiment(ws, \"Product_Seasonality\")"
      ],
      "attachments": {}
    },
    {
      "cell_type": "markdown",
      "metadata": {},
      "source": [
        "Configure the Automated Machine Learning experiment and start it (will run on local compute resources).\n",
        ""
      ],
      "attachments": {}
    },
    {
      "cell_type": "code",
      "execution_count": null,
      "outputs": [],
      "metadata": {},
      "source": [
        "automl_classifier_config = AutoMLConfig(\n",
        "        task='classification',\n",
        "        #experiment_exit_score = 0.995,\n",
        "        experiment_timeout_minutes=15,\n",
        "        enable_onnx_compatible_models=True,\n",
        "        training_data=pca_automl_df,\n",
        "        label_column_name='Seasonality',\n",
        "        n_cross_validations=5,\n",
        "        enable_voting_ensemble=False,\n",
        "        enable_stack_ensemble=False\n",
        "        )\n",
        "\n",
        "local_run = experiment.submit(automl_classifier_config, show_output=True)"
      ],
      "attachments": {}
    },
    {
      "cell_type": "markdown",
      "metadata": {},
      "source": [
        "Retrieve the best model directly in ONNX format and take a look at it.\n",
        ""
      ],
      "attachments": {}
    },
    {
      "cell_type": "code",
      "execution_count": null,
      "outputs": [],
      "metadata": {},
      "source": [
        "best_run, onnx_model2 = local_run.get_output(return_onnx_model=True)\n",
        "#onnx_fl_path = \"./best_model.onnx\"\n",
        "#OnnxConverter.save_onnx_model(onnx_mdl, onnx_fl_path)"
      ],
      "attachments": {}
    },
    {
      "cell_type": "code",
      "execution_count": null,
      "outputs": [],
      "metadata": {},
      "source": [
        "onnx_model2"
      ],
      "attachments": {}
    },
    {
      "cell_type": "markdown",
      "metadata": {},
      "source": [
        "Replace below the placeholders with the name of the primary data lake account and one of it's security keys."
      ],
      "attachments": {}
    },
    {
      "cell_type": "code",
      "execution_count": null,
      "outputs": [],
      "metadata": {},
      "source": [
        "from azure.storage.blob import BlockBlobService\n",
        "\n",
        "block_blob_service = BlockBlobService(\n",
        "    account_name='#DATA_LAKE_ACCOUNT_NAME#', account_key='#DATA_LAKE_ACCOUNT_KEY#') \n",
        "\n",
        "block_blob_service.create_blob_from_text('wwi-02', '/ml/onnx/product_seasonality_classifier.onnx', onnx_model2.SerializeToString())"
      ],
      "attachments": {}
    }
  ],
  "metadata": {
    "saveOutput": true,
    "language_info": {
      "name": "python"
    }
  },
  "nbformat": 4,
  "nbformat_minor": 2
}