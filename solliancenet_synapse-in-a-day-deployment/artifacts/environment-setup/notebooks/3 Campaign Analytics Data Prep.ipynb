{
  "metadata": {
    "saveOutput": true,
    "language_info": {
      "name": "python"
    }
  },
  "nbformat": 4,
  "nbformat_minor": 2,
  "cells": [
    {
      "cell_type": "markdown",
      "metadata": {},
      "source": [
        "## Fetch Marketing Campaigns data into DataFrame and Calculate Revenue Variance\n",
        ""
      ],
      "attachments": {}
    },
    {
      "cell_type": "code",
      "execution_count": 33,
      "outputs": [
        {
          "output_type": "execute_result",
          "data": {
            "text/plain": "+--------------------+---------+--------------------+--------------------+----------+--------------+\n|              Region|  Country|    Product_Category|       Campaign_Name|   Revenue|Revenue_Target|\n+--------------------+---------+--------------------+--------------------+----------+--------------+\n|North & Central A...|   Canada|               Books|EnjoyTheMoment; B...|$13,873.00|    $10,617.00|\n|              Europe|  Germany|Apparel and Footwear|     Fun with Colors|$14,865.00|    $15,960.00|\n|       South America|   Brazil|               Books|EnjoyTheMoment; B...|$16,611.00|     $7,917.00|\n|        Asia Pacific|      USA|               Books|EnjoyTheMoment; B...|$12,174.00|     $6,996.00|\n|              Europe|    Italy|               Books|EnjoyTheMoment; B...| $5,867.00|    $19,049.00|\n|North & Central A...|Australia|               Books|EnjoyTheMoment; B...| $9,112.00|    $11,930.00|\n|       South America|   Canada|               Books|EnjoyTheMoment; B...|$16,386.00|     $9,989.00|\n|        Asia Pacific|   Brazil|               Books|EnjoyTheMoment; B...|$14,691.00|    $14,601.00|\n|              Europe|Indonesia|               Books|EnjoyTheMoment; B...|$12,974.00|    $19,462.00|\n|North & Central A...|Indonesia|               Books|EnjoyTheMoment; B...|$10,246.00|    $18,683.00|\n+--------------------+---------+--------------------+--------------------+----------+--------------+\nonly showing top 10 rows"
          },
          "execution_count": 33,
          "metadata": {}
        }
      ],
      "metadata": {},
      "source": [
        "%%pyspark\n",
        "data_path = spark.read.load('abfss://marketingdb-staging@#DATA_LAKE_NAME#.dfs.core.windows.net/CampaignAnalytics.csv', format='csv'\n",
        ", header=True \n",
        ")\n",
        "data_path.show(10)"
      ],
      "attachments": {}
    },
    {
      "cell_type": "markdown",
      "metadata": {},
      "source": [
        "## Data Transformation - Calculate Revenue Variance\n",
        ""
      ],
      "attachments": {}
    },
    {
      "cell_type": "code",
      "execution_count": 34,
      "outputs": [
        {
          "output_type": "execute_result",
          "data": {
            "application/json": {
              "rows": [
                [
                  "Europe",
                  "Germany",
                  "Apparel and Footwear",
                  "Fun with Colors",
                  14865,
                  15960,
                  1095
                ],
                [
                  "South America",
                  "Brazil",
                  "Books",
                  "EnjoyTheMoment; BeUnique; TailoredForYou",
                  16611,
                  7917,
                  -8694
                ],
                [
                  "Asia Pacific",
                  "USA",
                  "Books",
                  "EnjoyTheMoment; BeUnique; TailoredForYou",
                  12174,
                  6996,
                  -5178
                ],
                [
                  "Europe",
                  "Italy",
                  "Books",
                  "EnjoyTheMoment; BeUnique; TailoredForYou",
                  5867,
                  19049,
                  13182
                ]
              ],
              "schema": [
                "Region",
                "Country",
                "Product_Category",
                "Campaign_Name",
                "Revenue",
                "Revenue_Target",
                "Revenue_Variance"
              ]
            }
          },
          "execution_count": 34,
          "metadata": {}
        }
      ],
      "metadata": {},
      "source": [
        "%%pyspark\n",
        "from pyspark.sql.functions import *\n",
        "from pyspark.sql.types import *\n",
        "\n",
        "import numpy as np\n",
        "\n",
        "pd_df = data_path.select(\"*\").toPandas()\n",
        "pd_df['Revenue']= pd_df['Revenue'].replace('[\\$,]', '', regex=True).astype(float)\n",
        "pd_df['Revenue_Target']= pd_df['Revenue_Target'].replace('[\\$,]', '', regex=True).astype(float)\n",
        "\n",
        "#Create new column\n",
        "pd_df['Revenue_Variance'] = pd_df['Revenue_Target'] - pd_df['Revenue']\n",
        "\n",
        "display(pd_df[1:5])"
      ],
      "attachments": {}
    },
    {
      "cell_type": "markdown",
      "metadata": {},
      "source": [
        "## Move data to Azure Data Lake Gen2\n",
        ""
      ],
      "attachments": {}
    },
    {
      "cell_type": "code",
      "execution_count": 43,
      "outputs": [
        {
          "output_type": "execute_result",
          "data": {
            "text/plain": "+--------------------+-------+--------------------+--------------------+-------+--------------+----------------+\n|              Region|Country|    Product_Category|       Campaign_Name|Revenue|Revenue_Target|Revenue_Variance|\n+--------------------+-------+--------------------+--------------------+-------+--------------+----------------+\n|North & Central A...| Canada|               Books|EnjoyTheMoment; B...|13873.0|       10617.0|         -3256.0|\n|              Europe|Germany|Apparel and Footwear|     Fun with Colors|14865.0|       15960.0|          1095.0|\n|       South America| Brazil|               Books|EnjoyTheMoment; B...|16611.0|        7917.0|         -8694.0|\n|        Asia Pacific|    USA|               Books|EnjoyTheMoment; B...|12174.0|        6996.0|         -5178.0|\n|              Europe|  Italy|               Books|EnjoyTheMoment; B...| 5867.0|       19049.0|         13182.0|\n+--------------------+-------+--------------------+--------------------+-------+--------------+----------------+\nonly showing top 5 rows"
          },
          "execution_count": 43,
          "metadata": {}
        }
      ],
      "metadata": {},
      "source": [
        "%%pyspark\n",
        "df = spark.createDataFrame(pd_df)\n",
        "df.show(5)\n",
        "\n",
        "(df\n",
        " .coalesce(1)\n",
        " .write\n",
        " .mode(\"overwrite\")\n",
        " .option(\"header\", \"true\")\n",
        " .format(\"com.databricks.spark.csv\")\n",
        " .save('abfss://processed-campaigndata@#DATA_LAKE_NAME#.dfs.core.windows.net/campaigndata'))"
      ],
      "attachments": {}
    }
  ]
}