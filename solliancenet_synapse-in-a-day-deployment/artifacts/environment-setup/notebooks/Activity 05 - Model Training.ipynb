{
  "cells": [
    {
      "cell_type": "markdown",
      "metadata": {},
      "source": [
        "# Model training and registration\n",
        "This notebook show the process for training the model, converting the model to ONNX and uploading the ONNX model to Azure Storage."
      ],
      "attachments": {}
    },
    {
      "cell_type": "markdown",
      "metadata": {},
      "source": [
        "## Explore the training data\n",
        "The following cells load the source CSV file into a Spark DataFrame and create a temporary view that can be used to query the data with Spark SQL.\n",
        "\n",
        "WWI has provided a small CSV file you can use for showing the process of training a simple model.\n",
        "\n",
        "They have already loaded for you in the data lake. \n",
        "It is located under the `wwi-02` container with the path `/sale-csv/wwi-factsale.csv`.\n",
        "You need to build the correct path to the file and the run the cells that follow to load and query the data.\n",
        ""
      ],
      "attachments": {}
    },
    {
      "cell_type": "code",
      "execution_count": null,
      "outputs": [],
      "metadata": {},
      "source": [
        "df = spark.read.load('abfss://<REPLACE-WITH-YOUR-PATH>', format=\"csv\"\n",
        ", header=True, sep=\"|\"\n",
        ")"
      ]
    },
    {
      "cell_type": "markdown",
      "metadata": {},
      "source": [
        "Next, WWI would like you to show them how create a temporary view over the loaded dataframe.\n",
        "\n",
        "The view should be named `facts`.\n",
        "\n",
        "Complete the code in the cell and run it.\n",
        ""
      ],
      "attachments": {}
    },
    {
      "cell_type": "code",
      "execution_count": null,
      "outputs": [],
      "metadata": {},
      "source": [
        "df.#<- can you complete this?"
      ],
      "attachments": {}
    },
    {
      "cell_type": "markdown",
      "metadata": {},
      "source": [
        "In the next cell, WWI would like you to explore the data with an initial query.\n",
        "\n",
        "You want to preview all of the sales having the `Customer Key` of `11`.\n",
        "\n",
        "You should order the results by `Stock Item Key`.\n"
      ],
      "attachments": {}
    },
    {
      "cell_type": "code",
      "execution_count": null,
      "outputs": [],
      "metadata": {},
      "source": [
        "display(spark.sql(\"<INSERT YOUR SQL QUERY HERE>\"))"
      ],
      "attachments": {}
    },
    {
      "cell_type": "markdown",
      "metadata": {},
      "source": [
        "## Predict Quantity given Customer Key and Stock Item Key\n",
        "In the following cells we load a subset of the data that just contains the fields needed for training. \n",
        "\n",
        "WWI's data scientists have already provided some of the code for you. \n",
        "\n",
        "Read thru and run the following cells.\n",
        "\n",
        ""
      ],
      "attachments": {}
    },
    {
      "cell_type": "code",
      "execution_count": null,
      "outputs": [],
      "metadata": {},
      "source": [
        "from pyspark.sql.functions import col\n",
        "df3 = spark.sql(\"SELECT double(`Customer Key`) as customerkey, double(`Stock Item Key`) as stockitemkey, double(`Quantity`) as quantity FROM facts\").where(col(\"quantity\").isNotNull())\n",
        "df3.cache()"
      ],
      "attachments": {}
    },
    {
      "cell_type": "markdown",
      "metadata": {},
      "source": [
        "Next, we package the data into the format expected by Spark ML's LinearRegression. It requires a DataFrame with two columns- `features` and a column with the labels to predict (`quantity` in this case).\n",
        ""
      ],
      "attachments": {}
    },
    {
      "cell_type": "code",
      "execution_count": null,
      "outputs": [],
      "metadata": {},
      "source": [
        "from pyspark.ml.feature import VectorAssembler\n",
        "\n",
        "vectorAssembler = VectorAssembler(inputCols = ['customerkey', 'stockitemkey'], outputCol = 'features')\n",
        "df4 = vectorAssembler.transform(df3)\n",
        "df5 = df4.select(['features', 'quantity'])\n",
        "df5.show(10)"
      ],
      "attachments": {}
    },
    {
      "cell_type": "markdown",
      "metadata": {},
      "source": [
        "Now, we split our DataFrame into training and testing DataFrames.\n",
        ""
      ],
      "attachments": {}
    },
    {
      "cell_type": "markdown",
      "metadata": {},
      "source": [
        "A best practice is to split data into training and test sets.\n",
        "\n",
        "WWI would like you to complete the final line that produces the train and test dataframes. \n",
        "\n",
        "Once you have completed the cell, run it.\n",
        ""
      ],
      "attachments": {}
    },
    {
      "cell_type": "code",
      "execution_count": null,
      "outputs": [],
      "metadata": {},
      "source": [
        "trainingFraction = 0.7\n",
        "testingFraction = (1-trainingFraction)\n",
        "seed = 42\n",
        "\n",
        "# Split the dataframe into test and training dataframes\n",
        "df_train, df_test = # use df5 to create the two dataframes"
      ],
      "attachments": {}
    },
    {
      "cell_type": "markdown",
      "metadata": {},
      "source": [
        "In the following cell, you will train your LinearRegression model.\n",
        "\n",
        "The goal of this regressor is to predict the `quantity` field given all of the features. \n",
        "\n",
        "Complete the missing parameters and the last line to train the model.\n",
        ""
      ],
      "attachments": {}
    },
    {
      "cell_type": "code",
      "execution_count": null,
      "outputs": [],
      "metadata": {},
      "source": [
        "from pyspark.ml.regression import LinearRegression\n",
        "\n",
        "lin_reg = LinearRegression(featuresCol = '<REPLACE WITH YOUR ANSWER>', labelCol='<REPLACE WITH YOUR ANSWER>', maxIter = 10, regParam=0.3)\n",
        "lin_reg_model = # complete this line, using df_train to train the linear regression model "
      ],
      "attachments": {}
    },
    {
      "cell_type": "markdown",
      "metadata": {},
      "source": [
        "Now that you have a trained model in hand, WWI wants to verify you can use it to make predictions against the test DataFrame.\n",
        "\n",
        "Complete the first line to use your trained model to make predictions against the `df_test` dataframe.\n",
        ""
      ],
      "attachments": {}
    },
    {
      "cell_type": "code",
      "execution_count": null,
      "outputs": [],
      "metadata": {},
      "source": [
        "df_pred = #<-complete this to use your model to make predictions against df_test \n",
        "display(df_pred)"
      ],
      "attachments": {}
    },
    {
      "cell_type": "markdown",
      "metadata": {},
      "source": [
        "## Convert model to ONNX\n",
        "In the cells that follow, WWI wants you to show how you convert the model to ONNX and show how an output of how ONNX represents the Spark ML model.\n",
        "\n",
        "They have already provided you the code, you just need to run the cells.\n",
        ""
      ],
      "attachments": {}
    },
    {
      "cell_type": "code",
      "execution_count": null,
      "outputs": [],
      "metadata": {},
      "source": [
        "from onnxmltools import convert_sparkml\n",
        "from onnxmltools.convert.common.data_types import FloatTensorType\n",
        "\n",
        "initial_types = [ \n",
        "    (\"features\", FloatTensorType([1, lin_reg_model.numFeatures])),\n",
        "    # (repeat for the required inputs)\n",
        "]"
      ],
      "attachments": {}
    },
    {
      "cell_type": "code",
      "execution_count": null,
      "outputs": [],
      "metadata": {},
      "source": [
        "model_onnx = convert_sparkml(lin_reg_model, 'sparkml GeneralizedLinearRegression', initial_types)\n",
        "model_onnx"
      ],
      "attachments": {}
    },
    {
      "cell_type": "markdown",
      "metadata": {},
      "source": [
        "## Upload the model to Azure Storage\n",
        "\n",
        "In order for an ONNX model to be used by the T-SQL predict statement, it must be uploaded to Azure Storage.\n",
        "\n",
        "WWI wants you to show them how they would serialize the model to disk and then upload the model file to Azure Storage.\n",
        "\n",
        "Run the following cell to save  the ONNX model to the storage of the Spark driver node temporarily. "
      ],
      "attachments": {}
    },
    {
      "cell_type": "code",
      "execution_count": null,
      "outputs": [],
      "metadata": {},
      "source": [
        "with open(\"model.onnx\", \"wb\") as f:\n",
        "    f.write(model_onnx.SerializeToString())"
      ],
      "attachments": {}
    },
    {
      "cell_type": "markdown",
      "metadata": {},
      "source": [
        "Next, you need to show WWI how to use the Azure Storage Python SDK to upload the ONNX model to Azure Storage.\n",
        "\n",
        "Complete the connection string with the correct values for your non-hierarchical Storage Account.\n",
        ""
      ],
      "attachments": {}
    },
    {
      "cell_type": "code",
      "execution_count": null,
      "outputs": [],
      "metadata": {},
      "source": [
        "from azure.storage.blob import BlockBlobService\n",
        " \n",
        "block_blob_service = BlockBlobService(\n",
        " account_name='#DATA_LAKE_ACCOUNT_NAME#', account_key='#DATA_LAKE_ACCOUNT_KEY#') \n",
        " \n",
        "block_blob_service.create_blob_from_text('wwi-02', '/ml/onnx/model.onnx', model_onnx.SerializeToString())"
      ],
      "attachments": {}
    }
  ],
  "metadata": {
    "saveOutput": true,
    "language_info": {
      "name": "python"
    }
  },
  "nbformat": 4,
  "nbformat_minor": 2
}