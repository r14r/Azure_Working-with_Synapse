{
  "metadata": {
    "saveOutput": true,
    "language_info": {
      "name": "scala"
    }
  },
  "nbformat": 4,
  "nbformat_minor": 2,
  "cells": [
    {
      "cell_type": "markdown",
      "metadata": {},
      "source": [
        "# Using Linux Foundation Delta Lake in Azure Synapse Analytics Spark\n",
        "Azure Synapse is compatible with Linux Foundation Delta Lake. Delta Lake is an open-source storage layer that brings ACID (atomicity, consistency, isolation, and durability) transactions to Apache Spark and big data workloads.\n",
        "\n",
        "This notebook provides examples of how to update, merge and delete delta lake tables in Synapse.\n",
        "\n",
        "## Pre-requisites\n",
        "In this notebook you will save your tables in Delta Lake format to your workspace's primary storage account. You are required to be a **Blob Storage Contributor** in the ADLS Gen2 account (or folder) you will access.\n",
        ""
      ],
      "attachments": {}
    },
    {
      "cell_type": "markdown",
      "metadata": {},
      "source": [
        "## Load sample data\n",
        "\n",
        "First you will load the [public holidays](https://azure.microsoft.com/en-us/services/open-datasets/catalog/public-holidays/) data from last 6 months via Azure Open datasets.\n",
        ""
      ],
      "attachments": {}
    },
    {
      "cell_type": "code",
      "execution_count": 72,
      "outputs": [
        {
          "output_type": "execute_result",
          "execution_count": 72,
          "data": {
            "text/plain": "hol_blob_account_name: String = azureopendatastorage\nhol_blob_container_name: String = holidaydatacontainer\nhol_blob_relative_path: String = Processed\nhol_blob_sas_token: String = \"\"\nhol_wasbs_path: String = wasbs://holidaydatacontainer@azureopendatastorage.blob.core.windows.net/Processed\nhol_df_raw: org.apache.spark.sql.DataFrame = [countryOrRegion: string, holidayName: string ... 4 more fields]"
          },
          "metadata": {}
        }
      ],
      "metadata": {},
      "source": [
        "// Load sample data from azure open dataset\n",
        "val hol_blob_account_name = \"azureopendatastorage\"\n",
        "val hol_blob_container_name = \"holidaydatacontainer\"\n",
        "val hol_blob_relative_path = \"Processed\"\n",
        "val hol_blob_sas_token = \"\"\n",
        "\n",
        "val hol_wasbs_path = f\"wasbs://$hol_blob_container_name@$hol_blob_account_name.blob.core.windows.net/$hol_blob_relative_path\"\n",
        "spark.conf.set(f\"fs.azure.sas.$hol_blob_container_name.$hol_blob_account_name.blob.core.windows.net\",hol_blob_sas_token)\n",
        "\n",
        "val hol_df_raw = spark.read.parquet(hol_wasbs_path)"
      ],
      "attachments": {}
    },
    {
      "cell_type": "code",
      "execution_count": 73,
      "outputs": [
        {
          "output_type": "execute_result",
          "execution_count": 73,
          "data": {
            "application/json": {
              "rows": [
                [
                  "Argentina",
                  "Año Nuevo [New Year's Day]",
                  "Año Nuevo [New Year's Day]",
                  "AR",
                  "1970-01-01T00:00:00.000Z"
                ],
                [
                  "Australia",
                  "New Year's Day",
                  "New Year's Day",
                  "AU",
                  "1970-01-01T00:00:00.000Z"
                ],
                [
                  "Austria",
                  "Neujahr",
                  "Neujahr",
                  "AT",
                  "1970-01-01T00:00:00.000Z"
                ],
                [
                  "Belgium",
                  "Nieuwjaarsdag",
                  "Nieuwjaarsdag",
                  "BE",
                  "1970-01-01T00:00:00.000Z"
                ],
                [
                  "Brazil",
                  "Ano novo",
                  "Ano novo",
                  "BR",
                  "1970-01-01T00:00:00.000Z"
                ],
                [
                  "Canada",
                  "New Year's Day",
                  "New Year's Day",
                  "CA",
                  "1970-01-01T00:00:00.000Z"
                ],
                [
                  "Colombia",
                  "Año Nuevo [New Year's Day]",
                  "Año Nuevo [New Year's Day]",
                  "CO",
                  "1970-01-01T00:00:00.000Z"
                ],
                [
                  "Croatia",
                  "Nova Godina",
                  "Nova Godina",
                  "HR",
                  "1970-01-01T00:00:00.000Z"
                ],
                [
                  "Czech",
                  "Nový rok",
                  "Nový rok",
                  "CZ",
                  "1970-01-01T00:00:00.000Z"
                ],
                [
                  "Denmark",
                  "Nytårsdag",
                  "Nytårsdag",
                  "DK",
                  "1970-01-01T00:00:00.000Z"
                ],
                [
                  "Finland",
                  "Uudenvuodenpäivä",
                  "Uudenvuodenpäivä",
                  "FI",
                  "1970-01-01T00:00:00.000Z"
                ],
                [
                  "France",
                  "Jour de l'an",
                  "Jour de l'an",
                  "FR",
                  "1970-01-01T00:00:00.000Z"
                ],
                [
                  "Hungary",
                  "Újév",
                  "Újév",
                  "HU",
                  "1970-01-01T00:00:00.000Z"
                ],
                [
                  "Italy",
                  "Capodanno",
                  "Capodanno",
                  "IT",
                  "1970-01-01T00:00:00.000Z"
                ],
                [
                  "Japan",
                  "元日",
                  "元日",
                  "JP",
                  "1970-01-01T00:00:00.000Z"
                ],
                [
                  "Mexico",
                  "Año Nuevo [New Year's Day]",
                  "Año Nuevo [New Year's Day]",
                  "MX",
                  "1970-01-01T00:00:00.000Z"
                ],
                [
                  "Netherlands",
                  "Nieuwjaarsdag",
                  "Nieuwjaarsdag",
                  "NL",
                  "1970-01-01T00:00:00.000Z"
                ],
                [
                  "New Zealand",
                  "New Year's Day",
                  "New Year's Day",
                  "NZ",
                  "1970-01-01T00:00:00.000Z"
                ],
                [
                  "Norway",
                  "Første nyttårsdag",
                  "Første nyttårsdag",
                  "NO",
                  "1970-01-01T00:00:00.000Z"
                ],
                [
                  "Poland",
                  "Nowy Rok",
                  "Nowy Rok",
                  "PL",
                  "1970-01-01T00:00:00.000Z"
                ],
                [
                  "Portugal",
                  "Ano Novo",
                  "Ano Novo",
                  "PT",
                  "1970-01-01T00:00:00.000Z"
                ],
                [
                  "South Africa",
                  "New Year's Day",
                  "New Year's Day",
                  "ZA",
                  "1970-01-01T00:00:00.000Z"
                ],
                [
                  "Spain",
                  "Año nuevo",
                  "Año nuevo",
                  "ES",
                  "1970-01-01T00:00:00.000Z"
                ],
                [
                  "Sweden",
                  "Nyårsdagen",
                  "Nyårsdagen",
                  "SE",
                  "1970-01-01T00:00:00.000Z"
                ],
                [
                  "Switzerland",
                  "Neujahrestag",
                  "Neujahrestag",
                  "CH",
                  "1970-01-01T00:00:00.000Z"
                ],
                [
                  "Ukraine",
                  "Новий рік",
                  "Новий рік",
                  "UA",
                  "1970-01-01T00:00:00.000Z"
                ],
                [
                  "United States",
                  "New Year's Day",
                  "New Year's Day",
                  "US",
                  "1970-01-01T00:00:00.000Z"
                ],
                [
                  "New Zealand",
                  "Day after New Year's Day",
                  "Day after New Year's Day",
                  "NZ",
                  "1970-01-02T00:00:00.000Z"
                ],
                [
                  "Scotland",
                  "New Year Holiday",
                  "New Year Holiday",
                  null,
                  "1970-01-02T00:00:00.000Z"
                ],
                [
                  "United Kingdom",
                  "New Year Holiday [Scotland]",
                  "New Year Holiday",
                  "GB",
                  "1970-01-02T00:00:00.000Z"
                ],
                [
                  "Norway",
                  "Søndag",
                  "Søndag",
                  "NO",
                  "1970-01-04T00:00:00.000Z"
                ],
                [
                  "Sweden",
                  "Söndag",
                  "Söndag",
                  "SE",
                  "1970-01-04T00:00:00.000Z"
                ],
                [
                  "Austria",
                  "Heilige Drei Könige",
                  "Heilige Drei Könige",
                  "AT",
                  "1970-01-06T00:00:00.000Z"
                ],
                [
                  "Croatia",
                  "Sveta tri kralja",
                  "Sveta tri kralja",
                  "HR",
                  "1970-01-06T00:00:00.000Z"
                ],
                [
                  "Finland",
                  "Loppiainen",
                  "Loppiainen",
                  "FI",
                  "1970-01-06T00:00:00.000Z"
                ],
                [
                  "Italy",
                  "Epifania del Signore",
                  "Epifania del Signore",
                  "IT",
                  "1970-01-06T00:00:00.000Z"
                ],
                [
                  "Spain",
                  "Epifanía del Señor",
                  "Epifanía del Señor",
                  "ES",
                  "1970-01-06T00:00:00.000Z"
                ],
                [
                  "Sweden",
                  "Trettondedag jul",
                  "Trettondedag jul",
                  "SE",
                  "1970-01-06T00:00:00.000Z"
                ],
                [
                  "Norway",
                  "Søndag",
                  "Søndag",
                  "NO",
                  "1970-01-11T00:00:00.000Z"
                ],
                [
                  "Sweden",
                  "Söndag",
                  "Söndag",
                  "SE",
                  "1970-01-11T00:00:00.000Z"
                ],
                [
                  "Colombia",
                  "Día de los Reyes Magos [Epiphany](Observed)",
                  "Día de los Reyes Magos [Epiphany]",
                  "CO",
                  "1970-01-12T00:00:00.000Z"
                ],
                [
                  "India",
                  "Makar Sankranti / Pongal",
                  "Makar Sankranti / Pongal",
                  "IN",
                  "1970-01-14T00:00:00.000Z"
                ],
                [
                  "Japan",
                  "成人の日",
                  "成人の日",
                  "JP",
                  "1970-01-15T00:00:00.000Z"
                ],
                [
                  "Norway",
                  "Søndag",
                  "Søndag",
                  "NO",
                  "1970-01-18T00:00:00.000Z"
                ],
                [
                  "Sweden",
                  "Söndag",
                  "Söndag",
                  "SE",
                  "1970-01-18T00:00:00.000Z"
                ],
                [
                  "Norway",
                  "Søndag",
                  "Søndag",
                  "NO",
                  "1970-01-25T00:00:00.000Z"
                ],
                [
                  "Sweden",
                  "Söndag",
                  "Söndag",
                  "SE",
                  "1970-01-25T00:00:00.000Z"
                ],
                [
                  "Australia",
                  "Australia Day",
                  "Australia Day",
                  "AU",
                  "1970-01-26T00:00:00.000Z"
                ],
                [
                  "India",
                  "Republic Day",
                  "Republic Day",
                  "IN",
                  "1970-01-26T00:00:00.000Z"
                ],
                [
                  "Norway",
                  "Søndag",
                  "Søndag",
                  "NO",
                  "1970-02-01T00:00:00.000Z"
                ],
                [
                  "Sweden",
                  "Söndag",
                  "Söndag",
                  "SE",
                  "1970-02-01T00:00:00.000Z"
                ],
                [
                  "Mexico",
                  "Día de la Constitución [Constitution Day]",
                  "Día de la Constitución [Constitution Day]",
                  "MX",
                  "1970-02-05T00:00:00.000Z"
                ],
                [
                  "Norway",
                  "Søndag",
                  "Søndag",
                  "NO",
                  "1970-02-08T00:00:00.000Z"
                ],
                [
                  "Sweden",
                  "Söndag",
                  "Söndag",
                  "SE",
                  "1970-02-08T00:00:00.000Z"
                ],
                [
                  "Argentina",
                  "Día de Carnaval [Carnival's Day]",
                  "Día de Carnaval [Carnival's Day]",
                  "AR",
                  "1970-02-09T00:00:00.000Z"
                ],
                [
                  "Argentina",
                  "Día de Carnaval [Carnival's Day]",
                  "Día de Carnaval [Carnival's Day]",
                  "AR",
                  "1970-02-10T00:00:00.000Z"
                ],
                [
                  "Brazil",
                  "Carnaval",
                  "Carnaval",
                  "BR",
                  "1970-02-10T00:00:00.000Z"
                ],
                [
                  "Brazil",
                  "Quarta-feira de cinzas (Início da Quaresma)",
                  "Quarta-feira de cinzas (Início da Quaresma)",
                  "BR",
                  "1970-02-11T00:00:00.000Z"
                ],
                [
                  "Japan",
                  "建国記念の日",
                  "建国記念の日",
                  "JP",
                  "1970-02-11T00:00:00.000Z"
                ],
                [
                  "Norway",
                  "Søndag",
                  "Søndag",
                  "NO",
                  "1970-02-15T00:00:00.000Z"
                ],
                [
                  "Sweden",
                  "Söndag",
                  "Söndag",
                  "SE",
                  "1970-02-15T00:00:00.000Z"
                ],
                [
                  "Norway",
                  "Søndag",
                  "Søndag",
                  "NO",
                  "1970-02-22T00:00:00.000Z"
                ],
                [
                  "Sweden",
                  "Söndag",
                  "Söndag",
                  "SE",
                  "1970-02-22T00:00:00.000Z"
                ],
                [
                  "United States",
                  "Washington's Birthday",
                  "Washington's Birthday",
                  "US",
                  "1970-02-22T00:00:00.000Z"
                ],
                [
                  "Norway",
                  "Søndag",
                  "Søndag",
                  "NO",
                  "1970-03-01T00:00:00.000Z"
                ],
                [
                  "Sweden",
                  "Söndag",
                  "Söndag",
                  "SE",
                  "1970-03-01T00:00:00.000Z"
                ],
                [
                  "Norway",
                  "Søndag",
                  "Søndag",
                  "NO",
                  "1970-03-08T00:00:00.000Z"
                ],
                [
                  "Sweden",
                  "Söndag",
                  "Söndag",
                  "SE",
                  "1970-03-08T00:00:00.000Z"
                ],
                [
                  "Ukraine",
                  "Міжнародний жіночий день",
                  "Міжнародний жіночий день",
                  "UA",
                  "1970-03-08T00:00:00.000Z"
                ],
                [
                  "Norway",
                  "Søndag",
                  "Søndag",
                  "NO",
                  "1970-03-15T00:00:00.000Z"
                ],
                [
                  "Sweden",
                  "Söndag",
                  "Söndag",
                  "SE",
                  "1970-03-15T00:00:00.000Z"
                ],
                [
                  "Ireland",
                  "St. Patrick's Day",
                  "St. Patrick's Day",
                  "IE",
                  "1970-03-17T00:00:00.000Z"
                ],
                [
                  "Northern Ireland",
                  "St. Patrick's Day",
                  "St. Patrick's Day",
                  null,
                  "1970-03-17T00:00:00.000Z"
                ],
                [
                  "United Kingdom",
                  "St. Patrick's Day [Northern Ireland]",
                  "St. Patrick's Day",
                  "GB",
                  "1970-03-17T00:00:00.000Z"
                ],
                [
                  "Hungary",
                  "A Tanácsköztársaság kikiáltásának ünnepe",
                  "A Tanácsköztársaság kikiáltásának ünnepe",
                  "HU",
                  "1970-03-21T00:00:00.000Z"
                ],
                [
                  "Japan",
                  "春分の日",
                  "春分の日",
                  "JP",
                  "1970-03-21T00:00:00.000Z"
                ],
                [
                  "Mexico",
                  "Natalicio de Benito Juárez [Benito Juárez's birthday]",
                  "Natalicio de Benito Juárez [Benito Juárez's birthday]",
                  "MX",
                  "1970-03-21T00:00:00.000Z"
                ],
                [
                  "Denmark",
                  "Palmesøndag",
                  "Palmesøndag",
                  "DK",
                  "1970-03-22T00:00:00.000Z"
                ],
                [
                  "Norway",
                  "Søndag",
                  "Søndag",
                  "NO",
                  "1970-03-22T00:00:00.000Z"
                ],
                [
                  "Sweden",
                  "Söndag",
                  "Söndag",
                  "SE",
                  "1970-03-22T00:00:00.000Z"
                ],
                [
                  "Colombia",
                  "Día de San José [Saint Joseph's Day](Observed)",
                  "Día de San José [Saint Joseph's Day]",
                  "CO",
                  "1970-03-23T00:00:00.000Z"
                ],
                [
                  "Argentina",
                  "Día Nacional de la Memoria por la Verdad y la Justicia [Memory's National Day for the Truth and Justice]",
                  "Día Nacional de la Memoria por la Verdad y la Justicia [Memory's National Day for the Truth and Justice]",
                  "AR",
                  "1970-03-24T00:00:00.000Z"
                ],
                [
                  "Argentina",
                  "Semana Santa (Jueves Santo)  [Holy day (Holy Thursday)]",
                  "Semana Santa (Jueves Santo)  [Holy day (Holy Thursday)]",
                  "AR",
                  "1970-03-26T00:00:00.000Z"
                ],
                [
                  "Colombia",
                  "Jueves Santo [Maundy Thursday]",
                  "Jueves Santo [Maundy Thursday]",
                  "CO",
                  "1970-03-26T00:00:00.000Z"
                ],
                [
                  "Denmark",
                  "Skærtorsdag",
                  "Skærtorsdag",
                  "DK",
                  "1970-03-26T00:00:00.000Z"
                ],
                [
                  "Norway",
                  "Skjærtorsdag",
                  "Skjærtorsdag",
                  "NO",
                  "1970-03-26T00:00:00.000Z"
                ],
                [
                  "Argentina",
                  "Semana Santa (Viernes Santo)  [Holy day (Holy Friday)]",
                  "Semana Santa (Viernes Santo)  [Holy day (Holy Friday)]",
                  "AR",
                  "1970-03-27T00:00:00.000Z"
                ],
                [
                  "Australia",
                  "Good Friday",
                  "Good Friday",
                  "AU",
                  "1970-03-27T00:00:00.000Z"
                ],
                [
                  "Brazil",
                  "Sexta-feira Santa",
                  "Sexta-feira Santa",
                  "BR",
                  "1970-03-27T00:00:00.000Z"
                ],
                [
                  "Canada",
                  "Good Friday",
                  "Good Friday",
                  "CA",
                  "1970-03-27T00:00:00.000Z"
                ],
                [
                  "Colombia",
                  "Viernes Santo [Good Friday]",
                  "Viernes Santo [Good Friday]",
                  "CO",
                  "1970-03-27T00:00:00.000Z"
                ],
                [
                  "Denmark",
                  "Langfredag",
                  "Langfredag",
                  "DK",
                  "1970-03-27T00:00:00.000Z"
                ],
                [
                  "England",
                  "Good Friday",
                  "Good Friday",
                  null,
                  "1970-03-27T00:00:00.000Z"
                ],
                [
                  "Finland",
                  "Pitkäperjantai",
                  "Pitkäperjantai",
                  "FI",
                  "1970-03-27T00:00:00.000Z"
                ],
                [
                  "Isle of Man",
                  "Good Friday",
                  "Good Friday",
                  "IM",
                  "1970-03-27T00:00:00.000Z"
                ],
                [
                  "New Zealand",
                  "Good Friday",
                  "Good Friday",
                  "NZ",
                  "1970-03-27T00:00:00.000Z"
                ],
                [
                  "Northern Ireland",
                  "Good Friday",
                  "Good Friday",
                  null,
                  "1970-03-27T00:00:00.000Z"
                ],
                [
                  "Norway",
                  "Langfredag",
                  "Langfredag",
                  "NO",
                  "1970-03-27T00:00:00.000Z"
                ],
                [
                  "Portugal",
                  "Sexta-feira Santa",
                  "Sexta-feira Santa",
                  "PT",
                  "1970-03-27T00:00:00.000Z"
                ],
                [
                  "Scotland",
                  "Good Friday",
                  "Good Friday",
                  null,
                  "1970-03-27T00:00:00.000Z"
                ],
                [
                  "South Africa",
                  "Good Friday",
                  "Good Friday",
                  "ZA",
                  "1970-03-27T00:00:00.000Z"
                ],
                [
                  "Sweden",
                  "Långfredagen",
                  "Långfredagen",
                  "SE",
                  "1970-03-27T00:00:00.000Z"
                ],
                [
                  "Switzerland",
                  "Karfreitag",
                  "Karfreitag",
                  "CH",
                  "1970-03-27T00:00:00.000Z"
                ],
                [
                  "United Kingdom",
                  "Good Friday",
                  "Good Friday",
                  "GB",
                  "1970-03-27T00:00:00.000Z"
                ],
                [
                  "Wales",
                  "Good Friday",
                  "Good Friday",
                  null,
                  "1970-03-27T00:00:00.000Z"
                ],
                [
                  "Argentina",
                  "Día de Pascuas [Easter Day]",
                  "Día de Pascuas [Easter Day]",
                  "AR",
                  "1970-03-29T00:00:00.000Z"
                ],
                [
                  "Belgium",
                  "Pasen",
                  "Pasen",
                  "BE",
                  "1970-03-29T00:00:00.000Z"
                ],
                [
                  "Brazil",
                  "Páscoa",
                  "Páscoa",
                  "BR",
                  "1970-03-29T00:00:00.000Z"
                ],
                [
                  "Croatia",
                  "Uskrs",
                  "Uskrs",
                  "HR",
                  "1970-03-29T00:00:00.000Z"
                ],
                [
                  "Denmark",
                  "Påskedag",
                  "Påskedag",
                  "DK",
                  "1970-03-29T00:00:00.000Z"
                ],
                [
                  "Finland",
                  "Pääsiäispäivä",
                  "Pääsiäispäivä",
                  "FI",
                  "1970-03-29T00:00:00.000Z"
                ],
                [
                  "Hungary",
                  "Húsvét",
                  "Húsvét",
                  "HU",
                  "1970-03-29T00:00:00.000Z"
                ],
                [
                  "Italy",
                  "Pasqua di Resurrezione",
                  "Pasqua di Resurrezione",
                  "IT",
                  "1970-03-29T00:00:00.000Z"
                ],
                [
                  "Netherlands",
                  "Eerste paasdag",
                  "Eerste paasdag",
                  "NL",
                  "1970-03-29T00:00:00.000Z"
                ],
                [
                  "Norway",
                  "Første påskedag, Søndag",
                  "Første påskedag, Søndag",
                  "NO",
                  "1970-03-29T00:00:00.000Z"
                ],
                [
                  "Poland",
                  "Niedziela Wielkanocna",
                  "Niedziela Wielkanocna",
                  "PL",
                  "1970-03-29T00:00:00.000Z"
                ],
                [
                  "Portugal",
                  "Páscoa",
                  "Páscoa",
                  "PT",
                  "1970-03-29T00:00:00.000Z"
                ],
                [
                  "Sweden",
                  "Påskdagen, Söndag",
                  "Påskdagen, Söndag",
                  "SE",
                  "1970-03-29T00:00:00.000Z"
                ],
                [
                  "Switzerland",
                  "Ostern",
                  "Ostern",
                  "CH",
                  "1970-03-29T00:00:00.000Z"
                ],
                [
                  "Australia",
                  "Easter Monday",
                  "Easter Monday",
                  "AU",
                  "1970-03-30T00:00:00.000Z"
                ],
                [
                  "Austria",
                  "Ostermontag",
                  "Ostermontag",
                  "AT",
                  "1970-03-30T00:00:00.000Z"
                ],
                [
                  "Belgium",
                  "Paasmaandag",
                  "Paasmaandag",
                  "BE",
                  "1970-03-30T00:00:00.000Z"
                ],
                [
                  "Croatia",
                  "Uskrsni ponedjeljak",
                  "Uskrsni ponedjeljak",
                  "HR",
                  "1970-03-30T00:00:00.000Z"
                ],
                [
                  "Czech",
                  "Velikonoční pondělí",
                  "Velikonoční pondělí",
                  "CZ",
                  "1970-03-30T00:00:00.000Z"
                ],
                [
                  "Denmark",
                  "Anden påskedag",
                  "Anden påskedag",
                  "DK",
                  "1970-03-30T00:00:00.000Z"
                ],
                [
                  "England",
                  "Easter Monday",
                  "Easter Monday",
                  null,
                  "1970-03-30T00:00:00.000Z"
                ],
                [
                  "Finland",
                  "2. pääsiäispäivä",
                  "2. pääsiäispäivä",
                  "FI",
                  "1970-03-30T00:00:00.000Z"
                ],
                [
                  "France",
                  "Lundi de Pâques",
                  "Lundi de Pâques",
                  "FR",
                  "1970-03-30T00:00:00.000Z"
                ],
                [
                  "Hungary",
                  "Húsvét Hétfő",
                  "Húsvét Hétfő",
                  "HU",
                  "1970-03-30T00:00:00.000Z"
                ],
                [
                  "Ireland",
                  "Easter Monday",
                  "Easter Monday",
                  "IE",
                  "1970-03-30T00:00:00.000Z"
                ],
                [
                  "Isle of Man",
                  "Easter Monday",
                  "Easter Monday",
                  "IM",
                  "1970-03-30T00:00:00.000Z"
                ],
                [
                  "Italy",
                  "Lunedì dell'Angelo",
                  "Lunedì dell'Angelo",
                  "IT",
                  "1970-03-30T00:00:00.000Z"
                ],
                [
                  "Netherlands",
                  "Tweede paasdag",
                  "Tweede paasdag",
                  "NL",
                  "1970-03-30T00:00:00.000Z"
                ],
                [
                  "New Zealand",
                  "Easter Monday",
                  "Easter Monday",
                  "NZ",
                  "1970-03-30T00:00:00.000Z"
                ],
                [
                  "Northern Ireland",
                  "Easter Monday",
                  "Easter Monday",
                  null,
                  "1970-03-30T00:00:00.000Z"
                ],
                [
                  "Norway",
                  "Andre påskedag",
                  "Andre påskedag",
                  "NO",
                  "1970-03-30T00:00:00.000Z"
                ],
                [
                  "Poland",
                  "Poniedziałek Wielkanocny",
                  "Poniedziałek Wielkanocny",
                  "PL",
                  "1970-03-30T00:00:00.000Z"
                ],
                [
                  "South Africa",
                  "Easter Monday",
                  "Easter Monday",
                  "ZA",
                  "1970-03-30T00:00:00.000Z"
                ],
                [
                  "Sweden",
                  "Annandag påsk",
                  "Annandag påsk",
                  "SE",
                  "1970-03-30T00:00:00.000Z"
                ],
                [
                  "Switzerland",
                  "Ostermontag",
                  "Ostermontag",
                  "CH",
                  "1970-03-30T00:00:00.000Z"
                ],
                [
                  "United Kingdom",
                  "Easter Monday [England, Wales, Northern Ireland]",
                  "Easter Monday",
                  "GB",
                  "1970-03-30T00:00:00.000Z"
                ],
                [
                  "Wales",
                  "Easter Monday",
                  "Easter Monday",
                  null,
                  "1970-03-30T00:00:00.000Z"
                ],
                [
                  "Argentina",
                  "Día del Veterano y de los Caidos en la Guerra de Malvinas [Veterans Day and the Fallen in the Malvinas War]",
                  "Día del Veterano y de los Caidos en la Guerra de Malvinas [Veterans Day and the Fallen in the Malvinas War]",
                  "AR",
                  "1970-04-02T00:00:00.000Z"
                ],
                [
                  "Hungary",
                  "A felszabadulás ünnepe",
                  "A felszabadulás ünnepe",
                  "HU",
                  "1970-04-04T00:00:00.000Z"
                ],
                [
                  "Norway",
                  "Søndag",
                  "Søndag",
                  "NO",
                  "1970-04-05T00:00:00.000Z"
                ],
                [
                  "Sweden",
                  "Söndag",
                  "Söndag",
                  "SE",
                  "1970-04-05T00:00:00.000Z"
                ],
                [
                  "South Africa",
                  "Van Riebeeck's Day",
                  "Van Riebeeck's Day",
                  "ZA",
                  "1970-04-06T00:00:00.000Z"
                ],
                [
                  "Norway",
                  "Søndag",
                  "Søndag",
                  "NO",
                  "1970-04-12T00:00:00.000Z"
                ],
                [
                  "Sweden",
                  "Söndag",
                  "Söndag",
                  "SE",
                  "1970-04-12T00:00:00.000Z"
                ],
                [
                  "Norway",
                  "Søndag",
                  "Søndag",
                  "NO",
                  "1970-04-19T00:00:00.000Z"
                ],
                [
                  "Sweden",
                  "Söndag",
                  "Söndag",
                  "SE",
                  "1970-04-19T00:00:00.000Z"
                ],
                [
                  "Brazil",
                  "Tiradentes",
                  "Tiradentes",
                  "BR",
                  "1970-04-21T00:00:00.000Z"
                ],
                [
                  "Denmark",
                  "Store bededag",
                  "Store bededag",
                  "DK",
                  "1970-04-24T00:00:00.000Z"
                ],
                [
                  "Australia",
                  "Anzac Day",
                  "Anzac Day",
                  "AU",
                  "1970-04-25T00:00:00.000Z"
                ],
                [
                  "Italy",
                  "Festa della Liberazione",
                  "Festa della Liberazione",
                  "IT",
                  "1970-04-25T00:00:00.000Z"
                ],
                [
                  "New Zealand",
                  "Anzac Day",
                  "Anzac Day",
                  "NZ",
                  "1970-04-25T00:00:00.000Z"
                ],
                [
                  "Portugal",
                  "Dia da Liberdade",
                  "Dia da Liberdade",
                  "PT",
                  "1970-04-25T00:00:00.000Z"
                ],
                [
                  "Norway",
                  "Søndag",
                  "Søndag",
                  "NO",
                  "1970-04-26T00:00:00.000Z"
                ],
                [
                  "Sweden",
                  "Söndag",
                  "Söndag",
                  "SE",
                  "1970-04-26T00:00:00.000Z"
                ],
                [
                  "Japan",
                  "天皇誕生日",
                  "天皇誕生日",
                  "JP",
                  "1970-04-29T00:00:00.000Z"
                ],
                [
                  "Netherlands",
                  "Koninginnedag",
                  "Koninginnedag",
                  "NL",
                  "1970-04-30T00:00:00.000Z"
                ],
                [
                  "Argentina",
                  "Día del Trabajo [Labour Day]",
                  "Día del Trabajo [Labour Day]",
                  "AR",
                  "1970-05-01T00:00:00.000Z"
                ],
                [
                  "Austria",
                  "Staatsfeiertag",
                  "Staatsfeiertag",
                  "AT",
                  "1970-05-01T00:00:00.000Z"
                ],
                [
                  "Belgium",
                  "Dag van de Arbeid",
                  "Dag van de Arbeid",
                  "BE",
                  "1970-05-01T00:00:00.000Z"
                ],
                [
                  "Brazil",
                  "Dia Mundial do Trabalho",
                  "Dia Mundial do Trabalho",
                  "BR",
                  "1970-05-01T00:00:00.000Z"
                ],
                [
                  "Colombia",
                  "Día del Trabajo [Labour Day]",
                  "Día del Trabajo [Labour Day]",
                  "CO",
                  "1970-05-01T00:00:00.000Z"
                ],
                [
                  "Croatia",
                  "Međunarodni praznik rada",
                  "Međunarodni praznik rada",
                  "HR",
                  "1970-05-01T00:00:00.000Z"
                ],
                [
                  "Czech",
                  "Svátek práce",
                  "Svátek práce",
                  "CZ",
                  "1970-05-01T00:00:00.000Z"
                ],
                [
                  "Finland",
                  "Vappu",
                  "Vappu",
                  "FI",
                  "1970-05-01T00:00:00.000Z"
                ],
                [
                  "France",
                  "Fête du Travail",
                  "Fête du Travail",
                  "FR",
                  "1970-05-01T00:00:00.000Z"
                ],
                [
                  "Hungary",
                  "A Munka ünnepe",
                  "A Munka ünnepe",
                  "HU",
                  "1970-05-01T00:00:00.000Z"
                ],
                [
                  "India",
                  "Labour Day",
                  "Labour Day",
                  "IN",
                  "1970-05-01T00:00:00.000Z"
                ],
                [
                  "Italy",
                  "Festa dei Lavoratori",
                  "Festa dei Lavoratori",
                  "IT",
                  "1970-05-01T00:00:00.000Z"
                ],
                [
                  "Mexico",
                  "Día del Trabajo [Labour Day]",
                  "Día del Trabajo [Labour Day]",
                  "MX",
                  "1970-05-01T00:00:00.000Z"
                ],
                [
                  "Norway",
                  "Arbeidernes dag",
                  "Arbeidernes dag",
                  "NO",
                  "1970-05-01T00:00:00.000Z"
                ],
                [
                  "Poland",
                  "Święto Państwowe",
                  "Święto Państwowe",
                  "PL",
                  "1970-05-01T00:00:00.000Z"
                ],
                [
                  "Portugal",
                  "Dia do Trabalhador",
                  "Dia do Trabalhador",
                  "PT",
                  "1970-05-01T00:00:00.000Z"
                ],
                [
                  "Sweden",
                  "Första maj",
                  "Första maj",
                  "SE",
                  "1970-05-01T00:00:00.000Z"
                ],
                [
                  "Ukraine",
                  "День міжнародної солідарності трудящих",
                  "День міжнародної солідарності трудящих",
                  "UA",
                  "1970-05-01T00:00:00.000Z"
                ],
                [
                  "Ukraine",
                  "День міжнародної солідарності трудящих",
                  "День міжнародної солідарності трудящих",
                  "UA",
                  "1970-05-02T00:00:00.000Z"
                ],
                [
                  "Japan",
                  "憲法記念日",
                  "憲法記念日",
                  "JP",
                  "1970-05-03T00:00:00.000Z"
                ],
                [
                  "Norway",
                  "Søndag",
                  "Søndag",
                  "NO",
                  "1970-05-03T00:00:00.000Z"
                ],
                [
                  "Poland",
                  "Święto Narodowe Trzeciego Maja",
                  "Święto Narodowe Trzeciego Maja",
                  "PL",
                  "1970-05-03T00:00:00.000Z"
                ],
                [
                  "Sweden",
                  "Söndag",
                  "Söndag",
                  "SE",
                  "1970-05-03T00:00:00.000Z"
                ],
                [
                  "Japan",
                  "こどもの日",
                  "こどもの日",
                  "JP",
                  "1970-05-05T00:00:00.000Z"
                ],
                [
                  "Netherlands",
                  "Bevrijdingsdag",
                  "Bevrijdingsdag",
                  "NL",
                  "1970-05-05T00:00:00.000Z"
                ],
                [
                  "Austria",
                  "Christi Himmelfahrt",
                  "Christi Himmelfahrt",
                  "AT",
                  "1970-05-07T00:00:00.000Z"
                ],
                [
                  "Belgium",
                  "O.L.H. Hemelvaart",
                  "O.L.H. Hemelvaart",
                  "BE",
                  "1970-05-07T00:00:00.000Z"
                ],
                [
                  "Denmark",
                  "Kristi himmelfartsdag",
                  "Kristi himmelfartsdag",
                  "DK",
                  "1970-05-07T00:00:00.000Z"
                ],
                [
                  "Finland",
                  "Helatorstai",
                  "Helatorstai",
                  "FI",
                  "1970-05-07T00:00:00.000Z"
                ],
                [
                  "France",
                  "Ascension",
                  "Ascension",
                  "FR",
                  "1970-05-07T00:00:00.000Z"
                ],
                [
                  "Netherlands",
                  "Hemelvaart",
                  "Hemelvaart",
                  "NL",
                  "1970-05-07T00:00:00.000Z"
                ],
                [
                  "Norway",
                  "Kristi himmelfartsdag",
                  "Kristi himmelfartsdag",
                  "NO",
                  "1970-05-07T00:00:00.000Z"
                ],
                [
                  "Sweden",
                  "Kristi himmelsfärdsdag",
                  "Kristi himmelsfärdsdag",
                  "SE",
                  "1970-05-07T00:00:00.000Z"
                ],
                [
                  "Switzerland",
                  "Auffahrt",
                  "Auffahrt",
                  "CH",
                  "1970-05-07T00:00:00.000Z"
                ],
                [
                  "South Africa",
                  "Ascension Day",
                  "Ascension Day",
                  "ZA",
                  "1970-05-08T00:00:00.000Z"
                ],
                [
                  "Czech",
                  "Den vítězství nad hitlerovským fašismem",
                  "Den vítězství nad hitlerovským fašismem",
                  "CZ",
                  "1970-05-09T00:00:00.000Z"
                ],
                [
                  "Ukraine",
                  "День перемоги",
                  "День перемоги",
                  "UA",
                  "1970-05-09T00:00:00.000Z"
                ],
                [
                  "Norway",
                  "Søndag",
                  "Søndag",
                  "NO",
                  "1970-05-10T00:00:00.000Z"
                ],
                [
                  "Sweden",
                  "Söndag",
                  "Söndag",
                  "SE",
                  "1970-05-10T00:00:00.000Z"
                ],
                [
                  "Colombia",
                  "Ascensión del señor [Ascension of Jesus](Observed)",
                  "Ascensión del señor [Ascension of Jesus]",
                  "CO",
                  "1970-05-11T00:00:00.000Z"
                ],
                [
                  "Belgium",
                  "Pinksteren",
                  "Pinksteren",
                  "BE",
                  "1970-05-17T00:00:00.000Z"
                ],
                [
                  "Denmark",
                  "Pinsedag",
                  "Pinsedag",
                  "DK",
                  "1970-05-17T00:00:00.000Z"
                ],
                [
                  "Finland",
                  "Helluntaipäivä",
                  "Helluntaipäivä",
                  "FI",
                  "1970-05-17T00:00:00.000Z"
                ],
                [
                  "Hungary",
                  "Pünkösd",
                  "Pünkösd",
                  "HU",
                  "1970-05-17T00:00:00.000Z"
                ],
                [
                  "Netherlands",
                  "Eerste Pinksterdag",
                  "Eerste Pinksterdag",
                  "NL",
                  "1970-05-17T00:00:00.000Z"
                ],
                [
                  "Norway",
                  "Første pinsedag, Grunnlovsdag, Søndag",
                  "Første pinsedag, Grunnlovsdag, Søndag",
                  "NO",
                  "1970-05-17T00:00:00.000Z"
                ],
                [
                  "Poland",
                  "Zielone Świątki",
                  "Zielone Świątki",
                  "PL",
                  "1970-05-17T00:00:00.000Z"
                ],
                [
                  "Sweden",
                  "Pingstdagen, Söndag",
                  "Pingstdagen, Söndag",
                  "SE",
                  "1970-05-17T00:00:00.000Z"
                ],
                [
                  "Switzerland",
                  "Pfingsten",
                  "Pfingsten",
                  "CH",
                  "1970-05-17T00:00:00.000Z"
                ],
                [
                  "Austria",
                  "Pfingstmontag",
                  "Pfingstmontag",
                  "AT",
                  "1970-05-18T00:00:00.000Z"
                ],
                [
                  "Belgium",
                  "Pinkstermaandag",
                  "Pinkstermaandag",
                  "BE",
                  "1970-05-18T00:00:00.000Z"
                ],
                [
                  "Canada",
                  "Victoria Day",
                  "Victoria Day",
                  "CA",
                  "1970-05-18T00:00:00.000Z"
                ],
                [
                  "Denmark",
                  "Anden pinsedag",
                  "Anden pinsedag",
                  "DK",
                  "1970-05-18T00:00:00.000Z"
                ],
                [
                  "France",
                  "Lundi de Pentecôte",
                  "Lundi de Pentecôte",
                  "FR",
                  "1970-05-18T00:00:00.000Z"
                ],
                [
                  "Netherlands",
                  "Tweede Pinksterdag",
                  "Tweede Pinksterdag",
                  "NL",
                  "1970-05-18T00:00:00.000Z"
                ],
                [
                  "Norway",
                  "Andre pinsedag",
                  "Andre pinsedag",
                  "NO",
                  "1970-05-18T00:00:00.000Z"
                ],
                [
                  "Sweden",
                  "Annandag pingst",
                  "Annandag pingst",
                  "SE",
                  "1970-05-18T00:00:00.000Z"
                ],
                [
                  "Switzerland",
                  "Pfingstmontag",
                  "Pfingstmontag",
                  "CH",
                  "1970-05-18T00:00:00.000Z"
                ],
                [
                  "Norway",
                  "Søndag",
                  "Søndag",
                  "NO",
                  "1970-05-24T00:00:00.000Z"
                ],
                [
                  "Sweden",
                  "Söndag",
                  "Söndag",
                  "SE",
                  "1970-05-24T00:00:00.000Z"
                ],
                [
                  "Argentina",
                  "Día de la Revolucion de Mayo [May Revolution Day]",
                  "Día de la Revolucion de Mayo [May Revolution Day]",
                  "AR",
                  "1970-05-25T00:00:00.000Z"
                ],
                [
                  "Austria",
                  "Fronleichnam",
                  "Fronleichnam",
                  "AT",
                  "1970-05-28T00:00:00.000Z"
                ],
                [
                  "Brazil",
                  "Corpus Christi",
                  "Corpus Christi",
                  "BR",
                  "1970-05-28T00:00:00.000Z"
                ],
                [
                  "Croatia",
                  "Tijelovo",
                  "Tijelovo",
                  "HR",
                  "1970-05-28T00:00:00.000Z"
                ],
                [
                  "Poland",
                  "Dzień Bożego Ciała",
                  "Dzień Bożego Ciała",
                  "PL",
                  "1970-05-28T00:00:00.000Z"
                ],
                [
                  "Portugal",
                  "Corpo de Deus",
                  "Corpo de Deus",
                  "PT",
                  "1970-05-28T00:00:00.000Z"
                ],
                [
                  "United States",
                  "Memorial Day",
                  "Memorial Day",
                  "US",
                  "1970-05-30T00:00:00.000Z"
                ],
                [
                  "Norway",
                  "Søndag",
                  "Søndag",
                  "NO",
                  "1970-05-31T00:00:00.000Z"
                ],
                [
                  "South Africa",
                  "Republic Day",
                  "Republic Day",
                  "ZA",
                  "1970-05-31T00:00:00.000Z"
                ],
                [
                  "Sweden",
                  "Söndag",
                  "Söndag",
                  "SE",
                  "1970-05-31T00:00:00.000Z"
                ],
                [
                  "Colombia",
                  "Corpus Christi [Corpus Christi](Observed)",
                  "Corpus Christi [Corpus Christi]",
                  "CO",
                  "1970-06-01T00:00:00.000Z"
                ],
                [
                  "Ireland",
                  "June Bank Holiday",
                  "June Bank Holiday",
                  "IE",
                  "1970-06-01T00:00:00.000Z"
                ],
                [
                  "New Zealand",
                  "Queen's Birthday",
                  "Queen's Birthday",
                  "NZ",
                  "1970-06-01T00:00:00.000Z"
                ],
                [
                  "Italy",
                  "Festa della Repubblica",
                  "Festa della Repubblica",
                  "IT",
                  "1970-06-02T00:00:00.000Z"
                ],
                [
                  "Isle of Man",
                  "TT Bank Holiday",
                  "TT Bank Holiday",
                  "IM",
                  "1970-06-05T00:00:00.000Z"
                ],
                [
                  "Norway",
                  "Søndag",
                  "Søndag",
                  "NO",
                  "1970-06-07T00:00:00.000Z"
                ],
                [
                  "Sweden",
                  "Söndag",
                  "Söndag",
                  "SE",
                  "1970-06-07T00:00:00.000Z"
                ],
                [
                  "Colombia",
                  "Sagrado Corazón [Sacred Heart](Observed)",
                  "Sagrado Corazón [Sacred Heart]",
                  "CO",
                  "1970-06-08T00:00:00.000Z"
                ],
                [
                  "Portugal",
                  "Dia de Portugal",
                  "Dia de Portugal",
                  "PT",
                  "1970-06-10T00:00:00.000Z"
                ],
                [
                  "Norway",
                  "Søndag",
                  "Søndag",
                  "NO",
                  "1970-06-14T00:00:00.000Z"
                ],
                [
                  "Sweden",
                  "Söndag",
                  "Söndag",
                  "SE",
                  "1970-06-14T00:00:00.000Z"
                ],
                [
                  "Argentina",
                  "Día Pase a la Inmortalidad del General Martín Miguel de Güemes [Day Pass to the Immortality of General Martín Miguel de Güemes]",
                  "Día Pase a la Inmortalidad del General Martín Miguel de Güemes [Day Pass to the Immortality of General Martín Miguel de Güemes]",
                  "AR",
                  "1970-06-17T00:00:00.000Z"
                ],
                [
                  "Finland",
                  "Juhannusaatto",
                  "Juhannusaatto",
                  "FI",
                  "1970-06-19T00:00:00.000Z"
                ],
                [
                  "Sweden",
                  "Midsommarafton",
                  "Midsommarafton",
                  "SE",
                  "1970-06-19T00:00:00.000Z"
                ],
                [
                  "Argentina",
                  "Día Pase a la Inmortalidad del General D. Manuel Belgrano [Day Pass to the Immortality of General D. Manuel Belgrano]",
                  "Día Pase a la Inmortalidad del General D. Manuel Belgrano [Day Pass to the Immortality of General D. Manuel Belgrano]",
                  "AR",
                  "1970-06-20T00:00:00.000Z"
                ],
                [
                  "Finland",
                  "Juhannuspäivä",
                  "Juhannuspäivä",
                  "FI",
                  "1970-06-20T00:00:00.000Z"
                ],
                [
                  "Sweden",
                  "Midsommardagen",
                  "Midsommardagen",
                  "SE",
                  "1970-06-20T00:00:00.000Z"
                ],
                [
                  "Norway",
                  "Søndag",
                  "Søndag",
                  "NO",
                  "1970-06-21T00:00:00.000Z"
                ],
                [
                  "Sweden",
                  "Söndag",
                  "Söndag",
                  "SE",
                  "1970-06-21T00:00:00.000Z"
                ],
                [
                  "Croatia",
                  "Dan antifašističke borbe",
                  "Dan antifašističke borbe",
                  "HR",
                  "1970-06-22T00:00:00.000Z"
                ],
                [
                  "Croatia",
                  "Dan državnosti",
                  "Dan državnosti",
                  "HR",
                  "1970-06-25T00:00:00.000Z"
                ],
                [
                  "Norway",
                  "Søndag",
                  "Søndag",
                  "NO",
                  "1970-06-28T00:00:00.000Z"
                ],
                [
                  "Sweden",
                  "Söndag",
                  "Söndag",
                  "SE",
                  "1970-06-28T00:00:00.000Z"
                ],
                [
                  "Colombia",
                  "San Pedro y San Pablo [Saint Peter and Saint Paul]",
                  "San Pedro y San Pablo [Saint Peter and Saint Paul]",
                  "CO",
                  "1970-06-29T00:00:00.000Z"
                ],
                [
                  "Canada",
                  "Dominion Day",
                  "Dominion Day",
                  "CA",
                  "1970-07-01T00:00:00.000Z"
                ],
                [
                  "United States",
                  "Independence Day (Observed)",
                  "Independence Day",
                  "US",
                  "1970-07-03T00:00:00.000Z"
                ],
                [
                  "United States",
                  "Independence Day",
                  "Independence Day",
                  "US",
                  "1970-07-04T00:00:00.000Z"
                ],
                [
                  "Czech",
                  "Den slovanských věrozvěstů Cyrila a Metoděje",
                  "Den slovanských věrozvěstů Cyrila a Metoděje",
                  "CZ",
                  "1970-07-05T00:00:00.000Z"
                ],
                [
                  "Isle of Man",
                  "Tynwald Day",
                  "Tynwald Day",
                  "IM",
                  "1970-07-05T00:00:00.000Z"
                ],
                [
                  "Norway",
                  "Søndag",
                  "Søndag",
                  "NO",
                  "1970-07-05T00:00:00.000Z"
                ],
                [
                  "Sweden",
                  "Söndag",
                  "Söndag",
                  "SE",
                  "1970-07-05T00:00:00.000Z"
                ],
                [
                  "Czech",
                  "Den upálení mistra Jana Husa",
                  "Den upálení mistra Jana Husa",
                  "CZ",
                  "1970-07-06T00:00:00.000Z"
                ],
                [
                  "Argentina",
                  "Día de la Independencia [Independence Day]",
                  "Día de la Independencia [Independence Day]",
                  "AR",
                  "1970-07-09T00:00:00.000Z"
                ],
                [
                  "South Africa",
                  "Family Day",
                  "Family Day",
                  "ZA",
                  "1970-07-10T00:00:00.000Z"
                ],
                [
                  "Northern Ireland",
                  "Battle of the Boyne",
                  "Battle of the Boyne",
                  null,
                  "1970-07-12T00:00:00.000Z"
                ],
                [
                  "Norway",
                  "Søndag",
                  "Søndag",
                  "NO",
                  "1970-07-12T00:00:00.000Z"
                ],
                [
                  "Sweden",
                  "Söndag",
                  "Söndag",
                  "SE",
                  "1970-07-12T00:00:00.000Z"
                ],
                [
                  "United Kingdom",
                  "Battle of the Boyne [Northern Ireland]",
                  "Battle of the Boyne",
                  "GB",
                  "1970-07-12T00:00:00.000Z"
                ],
                [
                  "France",
                  "Fête nationale",
                  "Fête nationale",
                  "FR",
                  "1970-07-14T00:00:00.000Z"
                ],
                [
                  "Norway",
                  "Søndag",
                  "Søndag",
                  "NO",
                  "1970-07-19T00:00:00.000Z"
                ],
                [
                  "Sweden",
                  "Söndag",
                  "Söndag",
                  "SE",
                  "1970-07-19T00:00:00.000Z"
                ],
                [
                  "Colombia",
                  "Día de la Independencia [Independence Day]",
                  "Día de la Independencia [Independence Day]",
                  "CO",
                  "1970-07-20T00:00:00.000Z"
                ],
                [
                  "Belgium",
                  "Nationale feestdag",
                  "Nationale feestdag",
                  "BE",
                  "1970-07-21T00:00:00.000Z"
                ],
                [
                  "Norway",
                  "Søndag",
                  "Søndag",
                  "NO",
                  "1970-07-26T00:00:00.000Z"
                ],
                [
                  "Sweden",
                  "Söndag",
                  "Söndag",
                  "SE",
                  "1970-07-26T00:00:00.000Z"
                ],
                [
                  "Switzerland",
                  "Nationalfeiertag",
                  "Nationalfeiertag",
                  "CH",
                  "1970-08-01T00:00:00.000Z"
                ],
                [
                  "Norway",
                  "Søndag",
                  "Søndag",
                  "NO",
                  "1970-08-02T00:00:00.000Z"
                ],
                [
                  "Sweden",
                  "Söndag",
                  "Söndag",
                  "SE",
                  "1970-08-02T00:00:00.000Z"
                ],
                [
                  "Canada",
                  "Civic Holiday",
                  "Civic Holiday",
                  "CA",
                  "1970-08-03T00:00:00.000Z"
                ],
                [
                  "Ireland",
                  "Summer Bank Holiday",
                  "Summer Bank Holiday",
                  "IE",
                  "1970-08-03T00:00:00.000Z"
                ],
                [
                  "Scotland",
                  "Summer Bank Holiday",
                  "Summer Bank Holiday",
                  null,
                  "1970-08-03T00:00:00.000Z"
                ],
                [
                  "United Kingdom",
                  "Summer Bank Holiday [Scotland]",
                  "Summer Bank Holiday",
                  "GB",
                  "1970-08-03T00:00:00.000Z"
                ],
                [
                  "Croatia",
                  "Dan pobjede i domovinske zahvalnosti",
                  "Dan pobjede i domovinske zahvalnosti",
                  "HR",
                  "1970-08-05T00:00:00.000Z"
                ],
                [
                  "Colombia",
                  "Batalla de Boyacá [Battle of Boyacá]",
                  "Batalla de Boyacá [Battle of Boyacá]",
                  "CO",
                  "1970-08-07T00:00:00.000Z"
                ],
                [
                  "Norway",
                  "Søndag",
                  "Søndag",
                  "NO",
                  "1970-08-09T00:00:00.000Z"
                ],
                [
                  "Sweden",
                  "Söndag",
                  "Söndag",
                  "SE",
                  "1970-08-09T00:00:00.000Z"
                ],
                [
                  "Austria",
                  "Mariä Himmelfahrt",
                  "Mariä Himmelfahrt",
                  "AT",
                  "1970-08-15T00:00:00.000Z"
                ],
                [
                  "Belgium",
                  "O.L.V. Hemelvaart",
                  "O.L.V. Hemelvaart",
                  "BE",
                  "1970-08-15T00:00:00.000Z"
                ],
                [
                  "Croatia",
                  "Velika Gospa",
                  "Velika Gospa",
                  "HR",
                  "1970-08-15T00:00:00.000Z"
                ],
                [
                  "France",
                  "Assomption",
                  "Assomption",
                  "FR",
                  "1970-08-15T00:00:00.000Z"
                ],
                [
                  "India",
                  "Independence Day",
                  "Independence Day",
                  "IN",
                  "1970-08-15T00:00:00.000Z"
                ],
                [
                  "Italy",
                  "Assunzione della Vergine",
                  "Assunzione della Vergine",
                  "IT",
                  "1970-08-15T00:00:00.000Z"
                ],
                [
                  "Poland",
                  "Wniebowzięcie Najświętszej Marii Panny",
                  "Wniebowzięcie Najświętszej Marii Panny",
                  "PL",
                  "1970-08-15T00:00:00.000Z"
                ],
                [
                  "Portugal",
                  "Assunção de Nossa Senhora",
                  "Assunção de Nossa Senhora",
                  "PT",
                  "1970-08-15T00:00:00.000Z"
                ],
                [
                  "Spain",
                  "Asunción de la Virgen",
                  "Asunción de la Virgen",
                  "ES",
                  "1970-08-15T00:00:00.000Z"
                ],
                [
                  "Norway",
                  "Søndag",
                  "Søndag",
                  "NO",
                  "1970-08-16T00:00:00.000Z"
                ],
                [
                  "Sweden",
                  "Söndag",
                  "Söndag",
                  "SE",
                  "1970-08-16T00:00:00.000Z"
                ],
                [
                  "Argentina",
                  "Día Pase a la Inmortalidad del General D. José de San Martin [Day Pass to the Immortality of General D. José de San Martin]",
                  "Día Pase a la Inmortalidad del General D. José de San Martin [Day Pass to the Immortality of General D. José de San Martin]",
                  "AR",
                  "1970-08-17T00:00:00.000Z"
                ],
                [
                  "Colombia",
                  "La Asunción [Assumption of Mary](Observed)",
                  "La Asunción [Assumption of Mary]",
                  "CO",
                  "1970-08-17T00:00:00.000Z"
                ],
                [
                  "Hungary",
                  "A kenyér ünnepe",
                  "A kenyér ünnepe",
                  "HU",
                  "1970-08-20T00:00:00.000Z"
                ],
                [
                  "Norway",
                  "Søndag",
                  "Søndag",
                  "NO",
                  "1970-08-23T00:00:00.000Z"
                ],
                [
                  "Sweden",
                  "Söndag",
                  "Söndag",
                  "SE",
                  "1970-08-23T00:00:00.000Z"
                ],
                [
                  "Norway",
                  "Søndag",
                  "Søndag",
                  "NO",
                  "1970-08-30T00:00:00.000Z"
                ],
                [
                  "Sweden",
                  "Söndag",
                  "Söndag",
                  "SE",
                  "1970-08-30T00:00:00.000Z"
                ],
                [
                  "Norway",
                  "Søndag",
                  "Søndag",
                  "NO",
                  "1970-09-06T00:00:00.000Z"
                ],
                [
                  "Sweden",
                  "Söndag",
                  "Söndag",
                  "SE",
                  "1970-09-06T00:00:00.000Z"
                ],
                [
                  "Brazil",
                  "Independência do Brasil",
                  "Independência do Brasil",
                  "BR",
                  "1970-09-07T00:00:00.000Z"
                ],
                [
                  "Canada",
                  "Labour Day",
                  "Labour Day",
                  "CA",
                  "1970-09-07T00:00:00.000Z"
                ],
                [
                  "South Africa",
                  "Settlers' Day",
                  "Settlers' Day",
                  "ZA",
                  "1970-09-07T00:00:00.000Z"
                ],
                [
                  "United States",
                  "Labor Day",
                  "Labor Day",
                  "US",
                  "1970-09-07T00:00:00.000Z"
                ],
                [
                  "Norway",
                  "Søndag",
                  "Søndag",
                  "NO",
                  "1970-09-13T00:00:00.000Z"
                ],
                [
                  "Sweden",
                  "Söndag",
                  "Söndag",
                  "SE",
                  "1970-09-13T00:00:00.000Z"
                ],
                [
                  "Japan",
                  "敬老の日",
                  "敬老の日",
                  "JP",
                  "1970-09-15T00:00:00.000Z"
                ],
                [
                  "Mexico",
                  "Día de la Independencia [Independence Day]",
                  "Día de la Independencia [Independence Day]",
                  "MX",
                  "1970-09-16T00:00:00.000Z"
                ],
                [
                  "Norway",
                  "Søndag",
                  "Søndag",
                  "NO",
                  "1970-09-20T00:00:00.000Z"
                ],
                [
                  "Sweden",
                  "Söndag",
                  "Söndag",
                  "SE",
                  "1970-09-20T00:00:00.000Z"
                ],
                [
                  "Japan",
                  "秋分の日",
                  "秋分の日",
                  "JP",
                  "1970-09-23T00:00:00.000Z"
                ],
                [
                  "Norway",
                  "Søndag",
                  "Søndag",
                  "NO",
                  "1970-09-27T00:00:00.000Z"
                ],
                [
                  "Sweden",
                  "Söndag",
                  "Söndag",
                  "SE",
                  "1970-09-27T00:00:00.000Z"
                ],
                [
                  "India",
                  "Gandhi Jayanti",
                  "Gandhi Jayanti",
                  "IN",
                  "1970-10-02T00:00:00.000Z"
                ],
                [
                  "Norway",
                  "Søndag",
                  "Søndag",
                  "NO",
                  "1970-10-04T00:00:00.000Z"
                ],
                [
                  "Sweden",
                  "Söndag",
                  "Söndag",
                  "SE",
                  "1970-10-04T00:00:00.000Z"
                ],
                [
                  "Portugal",
                  "Implantação da República",
                  "Implantação da República",
                  "PT",
                  "1970-10-05T00:00:00.000Z"
                ],
                [
                  "Croatia",
                  "Dan neovisnosti",
                  "Dan neovisnosti",
                  "HR",
                  "1970-10-08T00:00:00.000Z"
                ],
                [
                  "Japan",
                  "体育の日",
                  "体育の日",
                  "JP",
                  "1970-10-10T00:00:00.000Z"
                ],
                [
                  "South Africa",
                  "Kruger Day",
                  "Kruger Day",
                  "ZA",
                  "1970-10-10T00:00:00.000Z"
                ],
                [
                  "Norway",
                  "Søndag",
                  "Søndag",
                  "NO",
                  "1970-10-11T00:00:00.000Z"
                ],
                [
                  "Sweden",
                  "Söndag",
                  "Söndag",
                  "SE",
                  "1970-10-11T00:00:00.000Z"
                ],
                [
                  "Argentina",
                  "Día de la Raza [Columbus day]",
                  "Día de la Raza [Columbus day]",
                  "AR",
                  "1970-10-12T00:00:00.000Z"
                ],
                [
                  "Brazil",
                  "Nossa Senhora Aparecida",
                  "Nossa Senhora Aparecida",
                  "BR",
                  "1970-10-12T00:00:00.000Z"
                ],
                [
                  "Canada",
                  "Thanksgiving",
                  "Thanksgiving",
                  "CA",
                  "1970-10-12T00:00:00.000Z"
                ],
                [
                  "Colombia",
                  "Descubrimiento de América [Discovery of America]",
                  "Descubrimiento de América [Discovery of America]",
                  "CO",
                  "1970-10-12T00:00:00.000Z"
                ],
                [
                  "Spain",
                  "Día de la Hispanidad",
                  "Día de la Hispanidad",
                  "ES",
                  "1970-10-12T00:00:00.000Z"
                ],
                [
                  "United States",
                  "Columbus Day",
                  "Columbus Day",
                  "US",
                  "1970-10-12T00:00:00.000Z"
                ],
                [
                  "Norway",
                  "Søndag",
                  "Søndag",
                  "NO",
                  "1970-10-18T00:00:00.000Z"
                ],
                [
                  "Sweden",
                  "Söndag",
                  "Söndag",
                  "SE",
                  "1970-10-18T00:00:00.000Z"
                ],
                [
                  "Norway",
                  "Søndag",
                  "Søndag",
                  "NO",
                  "1970-10-25T00:00:00.000Z"
                ],
                [
                  "Sweden",
                  "Söndag",
                  "Söndag",
                  "SE",
                  "1970-10-25T00:00:00.000Z"
                ],
                [
                  "Austria",
                  "Nationalfeiertag",
                  "Nationalfeiertag",
                  "AT",
                  "1970-10-26T00:00:00.000Z"
                ],
                [
                  "Ireland",
                  "October Bank Holiday",
                  "October Bank Holiday",
                  "IE",
                  "1970-10-26T00:00:00.000Z"
                ],
                [
                  "New Zealand",
                  "Labour Day",
                  "Labour Day",
                  "NZ",
                  "1970-10-26T00:00:00.000Z"
                ],
                [
                  "Czech",
                  "Den vzniku samostatného československého státu",
                  "Den vzniku samostatného československého státu",
                  "CZ",
                  "1970-10-28T00:00:00.000Z"
                ],
                [
                  "Finland",
                  "Pyhäinpäivä",
                  "Pyhäinpäivä",
                  "FI",
                  "1970-10-31T00:00:00.000Z"
                ],
                [
                  "Sweden",
                  "Alla helgons dag",
                  "Alla helgons dag",
                  "SE",
                  "1970-10-31T00:00:00.000Z"
                ],
                [
                  "Austria",
                  "Allerheiligen",
                  "Allerheiligen",
                  "AT",
                  "1970-11-01T00:00:00.000Z"
                ],
                [
                  "Belgium",
                  "Allerheiligen",
                  "Allerheiligen",
                  "BE",
                  "1970-11-01T00:00:00.000Z"
                ],
                [
                  "Croatia",
                  "Svi sveti",
                  "Svi sveti",
                  "HR",
                  "1970-11-01T00:00:00.000Z"
                ],
                [
                  "France",
                  "Toussaint",
                  "Toussaint",
                  "FR",
                  "1970-11-01T00:00:00.000Z"
                ],
                [
                  "Italy",
                  "Tutti i Santi",
                  "Tutti i Santi",
                  "IT",
                  "1970-11-01T00:00:00.000Z"
                ],
                [
                  "Norway",
                  "Søndag",
                  "Søndag",
                  "NO",
                  "1970-11-01T00:00:00.000Z"
                ],
                [
                  "Poland",
                  "Uroczystość Wszystkich świętych",
                  "Uroczystość Wszystkich świętych",
                  "PL",
                  "1970-11-01T00:00:00.000Z"
                ],
                [
                  "Portugal",
                  "Dia de Todos os Santos",
                  "Dia de Todos os Santos",
                  "PT",
                  "1970-11-01T00:00:00.000Z"
                ],
                [
                  "Spain",
                  "Todos los Santos",
                  "Todos los Santos",
                  "ES",
                  "1970-11-01T00:00:00.000Z"
                ],
                [
                  "Sweden",
                  "Söndag",
                  "Söndag",
                  "SE",
                  "1970-11-01T00:00:00.000Z"
                ],
                [
                  "Brazil",
                  "Finados",
                  "Finados",
                  "BR",
                  "1970-11-02T00:00:00.000Z"
                ],
                [
                  "Colombia",
                  "Dia de Todos los Santos [All Saint's Day](Observed)",
                  "Dia de Todos los Santos [All Saint's Day]",
                  "CO",
                  "1970-11-02T00:00:00.000Z"
                ],
                [
                  "Japan",
                  "文化の日",
                  "文化の日",
                  "JP",
                  "1970-11-03T00:00:00.000Z"
                ],
                [
                  "Hungary",
                  "A nagy októberi szocialista forradalom ünnepe",
                  "A nagy októberi szocialista forradalom ünnepe",
                  "HU",
                  "1970-11-07T00:00:00.000Z"
                ],
                [
                  "Ukraine",
                  "Річниця Великої Жовтневої соціалістичної революції",
                  "Річниця Великої Жовтневої соціалістичної революції",
                  "UA",
                  "1970-11-07T00:00:00.000Z"
                ],
                [
                  "Norway",
                  "Søndag",
                  "Søndag",
                  "NO",
                  "1970-11-08T00:00:00.000Z"
                ],
                [
                  "Sweden",
                  "Söndag",
                  "Söndag",
                  "SE",
                  "1970-11-08T00:00:00.000Z"
                ],
                [
                  "Ukraine",
                  "Річниця Великої Жовтневої соціалістичної революції",
                  "Річниця Великої Жовтневої соціалістичної революції",
                  "UA",
                  "1970-11-08T00:00:00.000Z"
                ],
                [
                  "Belgium",
                  "Wapenstilstand",
                  "Wapenstilstand",
                  "BE",
                  "1970-11-11T00:00:00.000Z"
                ],
                [
                  "France",
                  "Armistice 1918",
                  "Armistice 1918",
                  "FR",
                  "1970-11-11T00:00:00.000Z"
                ],
                [
                  "United States",
                  "Veterans Day",
                  "Veterans Day",
                  "US",
                  "1970-11-11T00:00:00.000Z"
                ],
                [
                  "Brazil",
                  "Proclamação da República",
                  "Proclamação da República",
                  "BR",
                  "1970-11-15T00:00:00.000Z"
                ],
                [
                  "Norway",
                  "Søndag",
                  "Søndag",
                  "NO",
                  "1970-11-15T00:00:00.000Z"
                ],
                [
                  "Sweden",
                  "Söndag",
                  "Söndag",
                  "SE",
                  "1970-11-15T00:00:00.000Z"
                ],
                [
                  "Colombia",
                  "Independencia de Cartagena [Independence of Cartagena](Observed)",
                  "Independencia de Cartagena [Independence of Cartagena]",
                  "CO",
                  "1970-11-16T00:00:00.000Z"
                ],
                [
                  "Mexico",
                  "Día de la Revolución [Revolution Day]",
                  "Día de la Revolución [Revolution Day]",
                  "MX",
                  "1970-11-20T00:00:00.000Z"
                ],
                [
                  "Norway",
                  "Søndag",
                  "Søndag",
                  "NO",
                  "1970-11-22T00:00:00.000Z"
                ],
                [
                  "Sweden",
                  "Söndag",
                  "Söndag",
                  "SE",
                  "1970-11-22T00:00:00.000Z"
                ],
                [
                  "Japan",
                  "勤労感謝の日",
                  "勤労感謝の日",
                  "JP",
                  "1970-11-23T00:00:00.000Z"
                ],
                [
                  "United States",
                  "Thanksgiving",
                  "Thanksgiving",
                  "US",
                  "1970-11-26T00:00:00.000Z"
                ],
                [
                  "Norway",
                  "Søndag",
                  "Søndag",
                  "NO",
                  "1970-11-29T00:00:00.000Z"
                ],
                [
                  "Sweden",
                  "Söndag",
                  "Söndag",
                  "SE",
                  "1970-11-29T00:00:00.000Z"
                ],
                [
                  "Scotland",
                  "St. Andrew's Day",
                  "St. Andrew's Day",
                  null,
                  "1970-11-30T00:00:00.000Z"
                ],
                [
                  "United Kingdom",
                  "St. Andrew's Day [Scotland]",
                  "St. Andrew's Day",
                  "GB",
                  "1970-11-30T00:00:00.000Z"
                ],
                [
                  "Mexico",
                  "Transmisión del Poder Ejecutivo Federal [Change of Federal Government]",
                  "Transmisión del Poder Ejecutivo Federal [Change of Federal Government]",
                  "MX",
                  "1970-12-01T00:00:00.000Z"
                ],
                [
                  "Portugal",
                  "Restauração da Independência",
                  "Restauração da Independência",
                  "PT",
                  "1970-12-01T00:00:00.000Z"
                ],
                [
                  "Ukraine",
                  "День Конституції СРСР",
                  "День Конституції СРСР",
                  "UA",
                  "1970-12-05T00:00:00.000Z"
                ],
                [
                  "Finland",
                  "Itsenäisyyspäivä",
                  "Itsenäisyyspäivä",
                  "FI",
                  "1970-12-06T00:00:00.000Z"
                ],
                [
                  "Norway",
                  "Søndag",
                  "Søndag",
                  "NO",
                  "1970-12-06T00:00:00.000Z"
                ],
                [
                  "Spain",
                  "Día de la constitución Española",
                  "Día de la constitución Española",
                  "ES",
                  "1970-12-06T00:00:00.000Z"
                ],
                [
                  "Sweden",
                  "Söndag",
                  "Söndag",
                  "SE",
                  "1970-12-06T00:00:00.000Z"
                ],
                [
                  "Argentina",
                  "La Inmaculada Concepción [Immaculate Conception]",
                  "La Inmaculada Concepción [Immaculate Conception]",
                  "AR",
                  "1970-12-08T00:00:00.000Z"
                ],
                [
                  "Austria",
                  "Mariä Empfängnis",
                  "Mariä Empfängnis",
                  "AT",
                  "1970-12-08T00:00:00.000Z"
                ],
                [
                  "Colombia",
                  "La Inmaculada Concepción [Immaculate Conception]",
                  "La Inmaculada Concepción [Immaculate Conception]",
                  "CO",
                  "1970-12-08T00:00:00.000Z"
                ],
                [
                  "Italy",
                  "Immacolata Concezione",
                  "Immacolata Concezione",
                  "IT",
                  "1970-12-08T00:00:00.000Z"
                ],
                [
                  "Portugal",
                  "Imaculada Conceição",
                  "Imaculada Conceição",
                  "PT",
                  "1970-12-08T00:00:00.000Z"
                ],
                [
                  "Spain",
                  "La Inmaculada Concepción",
                  "La Inmaculada Concepción",
                  "ES",
                  "1970-12-08T00:00:00.000Z"
                ],
                [
                  "Norway",
                  "Søndag",
                  "Søndag",
                  "NO",
                  "1970-12-13T00:00:00.000Z"
                ],
                [
                  "Sweden",
                  "Söndag",
                  "Söndag",
                  "SE",
                  "1970-12-13T00:00:00.000Z"
                ],
                [
                  "South Africa",
                  "Day of the Covenant",
                  "Day of the Covenant",
                  "ZA",
                  "1970-12-16T00:00:00.000Z"
                ],
                [
                  "Norway",
                  "Søndag",
                  "Søndag",
                  "NO",
                  "1970-12-20T00:00:00.000Z"
                ],
                [
                  "Sweden",
                  "Söndag",
                  "Söndag",
                  "SE",
                  "1970-12-20T00:00:00.000Z"
                ],
                [
                  "Finland",
                  "Jouluaatto",
                  "Jouluaatto",
                  "FI",
                  "1970-12-24T00:00:00.000Z"
                ],
                [
                  "Sweden",
                  "Julafton",
                  "Julafton",
                  "SE",
                  "1970-12-24T00:00:00.000Z"
                ],
                [
                  "Argentina",
                  "Navidad [Christmas]",
                  "Navidad [Christmas]",
                  "AR",
                  "1970-12-25T00:00:00.000Z"
                ],
                [
                  "Australia",
                  "Christmas Day",
                  "Christmas Day",
                  "AU",
                  "1970-12-25T00:00:00.000Z"
                ],
                [
                  "Austria",
                  "Christtag",
                  "Christtag",
                  "AT",
                  "1970-12-25T00:00:00.000Z"
                ],
                [
                  "Belgium",
                  "Kerstmis",
                  "Kerstmis",
                  "BE",
                  "1970-12-25T00:00:00.000Z"
                ],
                [
                  "Brazil",
                  "Natal",
                  "Natal",
                  "BR",
                  "1970-12-25T00:00:00.000Z"
                ],
                [
                  "Canada",
                  "Christmas Day",
                  "Christmas Day",
                  "CA",
                  "1970-12-25T00:00:00.000Z"
                ],
                [
                  "Colombia",
                  "Navidad [Christmas]",
                  "Navidad [Christmas]",
                  "CO",
                  "1970-12-25T00:00:00.000Z"
                ],
                [
                  "Croatia",
                  "Božić",
                  "Božić",
                  "HR",
                  "1970-12-25T00:00:00.000Z"
                ],
                [
                  "Czech",
                  "1. svátek vánoční",
                  "1. svátek vánoční",
                  "CZ",
                  "1970-12-25T00:00:00.000Z"
                ],
                [
                  "Denmark",
                  "Juledag",
                  "Juledag",
                  "DK",
                  "1970-12-25T00:00:00.000Z"
                ],
                [
                  "England",
                  "Christmas Day",
                  "Christmas Day",
                  null,
                  "1970-12-25T00:00:00.000Z"
                ],
                [
                  "Finland",
                  "Joulupäivä",
                  "Joulupäivä",
                  "FI",
                  "1970-12-25T00:00:00.000Z"
                ],
                [
                  "France",
                  "Noël",
                  "Noël",
                  "FR",
                  "1970-12-25T00:00:00.000Z"
                ],
                [
                  "Hungary",
                  "Karácsony",
                  "Karácsony",
                  "HU",
                  "1970-12-25T00:00:00.000Z"
                ],
                [
                  "India",
                  "Christmas",
                  "Christmas",
                  "IN",
                  "1970-12-25T00:00:00.000Z"
                ],
                [
                  "Ireland",
                  "Christmas Day",
                  "Christmas Day",
                  "IE",
                  "1970-12-25T00:00:00.000Z"
                ],
                [
                  "Isle of Man",
                  "Christmas Day",
                  "Christmas Day",
                  "IM",
                  "1970-12-25T00:00:00.000Z"
                ],
                [
                  "Italy",
                  "Natale",
                  "Natale",
                  "IT",
                  "1970-12-25T00:00:00.000Z"
                ],
                [
                  "Mexico",
                  "Navidad [Christmas]",
                  "Navidad [Christmas]",
                  "MX",
                  "1970-12-25T00:00:00.000Z"
                ],
                [
                  "Netherlands",
                  "Eerste Kerstdag",
                  "Eerste Kerstdag",
                  "NL",
                  "1970-12-25T00:00:00.000Z"
                ],
                [
                  "New Zealand",
                  "Christmas Day",
                  "Christmas Day",
                  "NZ",
                  "1970-12-25T00:00:00.000Z"
                ],
                [
                  "Northern Ireland",
                  "Christmas Day",
                  "Christmas Day",
                  null,
                  "1970-12-25T00:00:00.000Z"
                ],
                [
                  "Norway",
                  "Første juledag",
                  "Første juledag",
                  "NO",
                  "1970-12-25T00:00:00.000Z"
                ],
                [
                  "Poland",
                  "Boże Narodzenie (pierwszy dzień)",
                  "Boże Narodzenie (pierwszy dzień)",
                  "PL",
                  "1970-12-25T00:00:00.000Z"
                ],
                [
                  "Portugal",
                  "Dia de Natal",
                  "Dia de Natal",
                  "PT",
                  "1970-12-25T00:00:00.000Z"
                ],
                [
                  "Scotland",
                  "Christmas Day",
                  "Christmas Day",
                  null,
                  "1970-12-25T00:00:00.000Z"
                ],
                [
                  "South Africa",
                  "Christmas Day",
                  "Christmas Day",
                  "ZA",
                  "1970-12-25T00:00:00.000Z"
                ],
                [
                  "Spain",
                  "Navidad",
                  "Navidad",
                  "ES",
                  "1970-12-25T00:00:00.000Z"
                ],
                [
                  "Sweden",
                  "Juldagen",
                  "Juldagen",
                  "SE",
                  "1970-12-25T00:00:00.000Z"
                ],
                [
                  "Switzerland",
                  "Weihnachten",
                  "Weihnachten",
                  "CH",
                  "1970-12-25T00:00:00.000Z"
                ],
                [
                  "United Kingdom",
                  "Christmas Day",
                  "Christmas Day",
                  "GB",
                  "1970-12-25T00:00:00.000Z"
                ],
                [
                  "United States",
                  "Christmas Day",
                  "Christmas Day",
                  "US",
                  "1970-12-25T00:00:00.000Z"
                ],
                [
                  "Wales",
                  "Christmas Day",
                  "Christmas Day",
                  null,
                  "1970-12-25T00:00:00.000Z"
                ],
                [
                  "Australia",
                  "Boxing Day",
                  "Boxing Day",
                  "AU",
                  "1970-12-26T00:00:00.000Z"
                ],
                [
                  "Austria",
                  "Stefanitag",
                  "Stefanitag",
                  "AT",
                  "1970-12-26T00:00:00.000Z"
                ],
                [
                  "Croatia",
                  "Sveti Stjepan",
                  "Sveti Stjepan",
                  "HR",
                  "1970-12-26T00:00:00.000Z"
                ],
                [
                  "Czech",
                  "2. svátek vánoční",
                  "2. svátek vánoční",
                  "CZ",
                  "1970-12-26T00:00:00.000Z"
                ],
                [
                  "Denmark",
                  "Anden juledag",
                  "Anden juledag",
                  "DK",
                  "1970-12-26T00:00:00.000Z"
                ],
                [
                  "England",
                  "Boxing Day",
                  "Boxing Day",
                  null,
                  "1970-12-26T00:00:00.000Z"
                ],
                [
                  "Finland",
                  "Tapaninpäivä",
                  "Tapaninpäivä",
                  "FI",
                  "1970-12-26T00:00:00.000Z"
                ],
                [
                  "Hungary",
                  "Karácsony másnapja",
                  "Karácsony másnapja",
                  "HU",
                  "1970-12-26T00:00:00.000Z"
                ],
                [
                  "Ireland",
                  "Boxing Day",
                  "Boxing Day",
                  "IE",
                  "1970-12-26T00:00:00.000Z"
                ],
                [
                  "Isle of Man",
                  "Boxing Day",
                  "Boxing Day",
                  "IM",
                  "1970-12-26T00:00:00.000Z"
                ],
                [
                  "Italy",
                  "Santo Stefano",
                  "Santo Stefano",
                  "IT",
                  "1970-12-26T00:00:00.000Z"
                ],
                [
                  "Netherlands",
                  "Tweede Kerstdag",
                  "Tweede Kerstdag",
                  "NL",
                  "1970-12-26T00:00:00.000Z"
                ],
                [
                  "New Zealand",
                  "Boxing Day",
                  "Boxing Day",
                  "NZ",
                  "1970-12-26T00:00:00.000Z"
                ],
                [
                  "Northern Ireland",
                  "Boxing Day",
                  "Boxing Day",
                  null,
                  "1970-12-26T00:00:00.000Z"
                ],
                [
                  "Norway",
                  "Andre juledag",
                  "Andre juledag",
                  "NO",
                  "1970-12-26T00:00:00.000Z"
                ],
                [
                  "Poland",
                  "Boże Narodzenie (drugi dzień)",
                  "Boże Narodzenie (drugi dzień)",
                  "PL",
                  "1970-12-26T00:00:00.000Z"
                ],
                [
                  "Scotland",
                  "Boxing Day",
                  "Boxing Day",
                  null,
                  "1970-12-26T00:00:00.000Z"
                ],
                [
                  "South Africa",
                  "Boxing Day",
                  "Boxing Day",
                  "ZA",
                  "1970-12-26T00:00:00.000Z"
                ],
                [
                  "Sweden",
                  "Annandag jul",
                  "Annandag jul",
                  "SE",
                  "1970-12-26T00:00:00.000Z"
                ],
                [
                  "United Kingdom",
                  "Boxing Day",
                  "Boxing Day",
                  "GB",
                  "1970-12-26T00:00:00.000Z"
                ],
                [
                  "Wales",
                  "Boxing Day",
                  "Boxing Day",
                  null,
                  "1970-12-26T00:00:00.000Z"
                ],
                [
                  "Norway",
                  "Søndag",
                  "Søndag",
                  "NO",
                  "1970-12-27T00:00:00.000Z"
                ],
                [
                  "Sweden",
                  "Söndag",
                  "Söndag",
                  "SE",
                  "1970-12-27T00:00:00.000Z"
                ],
                [
                  "Australia",
                  "Boxing Day (Observed)",
                  "Boxing Day",
                  "AU",
                  "1970-12-28T00:00:00.000Z"
                ],
                [
                  "Canada",
                  "Boxing Day (Observed)",
                  "Boxing Day",
                  "CA",
                  "1970-12-28T00:00:00.000Z"
                ],
                [
                  "England",
                  "Boxing Day (Observed)",
                  "Boxing Day",
                  null,
                  "1970-12-28T00:00:00.000Z"
                ],
                [
                  "Ireland",
                  "Boxing Day (Observed)",
                  "Boxing Day",
                  "IE",
                  "1970-12-28T00:00:00.000Z"
                ],
                [
                  "Isle of Man",
                  "Boxing Day (Observed)",
                  "Boxing Day",
                  "IM",
                  "1970-12-28T00:00:00.000Z"
                ],
                [
                  "New Zealand",
                  "Boxing Day (Observed)",
                  "Boxing Day",
                  "NZ",
                  "1970-12-28T00:00:00.000Z"
                ],
                [
                  "Northern Ireland",
                  "Boxing Day (Observed)",
                  "Boxing Day",
                  null,
                  "1970-12-28T00:00:00.000Z"
                ],
                [
                  "Scotland",
                  "Boxing Day (Observed)",
                  "Boxing Day",
                  null,
                  "1970-12-28T00:00:00.000Z"
                ],
                [
                  "United Kingdom",
                  "Boxing Day (Observed)",
                  "Boxing Day",
                  "GB",
                  "1970-12-28T00:00:00.000Z"
                ],
                [
                  "Wales",
                  "Boxing Day (Observed)",
                  "Boxing Day",
                  null,
                  "1970-12-28T00:00:00.000Z"
                ],
                [
                  "Sweden",
                  "Nyårsafton",
                  "Nyårsafton",
                  "SE",
                  "1970-12-31T00:00:00.000Z"
                ],
                [
                  "Argentina",
                  "Año Nuevo [New Year's Day]",
                  "Año Nuevo [New Year's Day]",
                  "AR",
                  "1971-01-01T00:00:00.000Z"
                ],
                [
                  "Australia",
                  "New Year's Day",
                  "New Year's Day",
                  "AU",
                  "1971-01-01T00:00:00.000Z"
                ],
                [
                  "Austria",
                  "Neujahr",
                  "Neujahr",
                  "AT",
                  "1971-01-01T00:00:00.000Z"
                ],
                [
                  "Belgium",
                  "Nieuwjaarsdag",
                  "Nieuwjaarsdag",
                  "BE",
                  "1971-01-01T00:00:00.000Z"
                ],
                [
                  "Brazil",
                  "Ano novo",
                  "Ano novo",
                  "BR",
                  "1971-01-01T00:00:00.000Z"
                ],
                [
                  "Canada",
                  "New Year's Day",
                  "New Year's Day",
                  "CA",
                  "1971-01-01T00:00:00.000Z"
                ],
                [
                  "Colombia",
                  "Año Nuevo [New Year's Day]",
                  "Año Nuevo [New Year's Day]",
                  "CO",
                  "1971-01-01T00:00:00.000Z"
                ],
                [
                  "Croatia",
                  "Nova Godina",
                  "Nova Godina",
                  "HR",
                  "1971-01-01T00:00:00.000Z"
                ],
                [
                  "Czech",
                  "Nový rok",
                  "Nový rok",
                  "CZ",
                  "1971-01-01T00:00:00.000Z"
                ],
                [
                  "Denmark",
                  "Nytårsdag",
                  "Nytårsdag",
                  "DK",
                  "1971-01-01T00:00:00.000Z"
                ],
                [
                  "Finland",
                  "Uudenvuodenpäivä",
                  "Uudenvuodenpäivä",
                  "FI",
                  "1971-01-01T00:00:00.000Z"
                ],
                [
                  "France",
                  "Jour de l'an",
                  "Jour de l'an",
                  "FR",
                  "1971-01-01T00:00:00.000Z"
                ],
                [
                  "Hungary",
                  "Újév",
                  "Újév",
                  "HU",
                  "1971-01-01T00:00:00.000Z"
                ],
                [
                  "Italy",
                  "Capodanno",
                  "Capodanno",
                  "IT",
                  "1971-01-01T00:00:00.000Z"
                ],
                [
                  "Japan",
                  "元日",
                  "元日",
                  "JP",
                  "1971-01-01T00:00:00.000Z"
                ],
                [
                  "Mexico",
                  "Año Nuevo [New Year's Day]",
                  "Año Nuevo [New Year's Day]",
                  "MX",
                  "1971-01-01T00:00:00.000Z"
                ],
                [
                  "Netherlands",
                  "Nieuwjaarsdag",
                  "Nieuwjaarsdag",
                  "NL",
                  "1971-01-01T00:00:00.000Z"
                ],
                [
                  "New Zealand",
                  "New Year's Day",
                  "New Year's Day",
                  "NZ",
                  "1971-01-01T00:00:00.000Z"
                ],
                [
                  "Norway",
                  "Første nyttårsdag",
                  "Første nyttårsdag",
                  "NO",
                  "1971-01-01T00:00:00.000Z"
                ],
                [
                  "Poland",
                  "Nowy Rok",
                  "Nowy Rok",
                  "PL",
                  "1971-01-01T00:00:00.000Z"
                ],
                [
                  "Portugal",
                  "Ano Novo",
                  "Ano Novo",
                  "PT",
                  "1971-01-01T00:00:00.000Z"
                ],
                [
                  "South Africa",
                  "New Year's Day",
                  "New Year's Day",
                  "ZA",
                  "1971-01-01T00:00:00.000Z"
                ],
                [
                  "Spain",
                  "Año nuevo",
                  "Año nuevo",
                  "ES",
                  "1971-01-01T00:00:00.000Z"
                ],
                [
                  "Sweden",
                  "Nyårsdagen",
                  "Nyårsdagen",
                  "SE",
                  "1971-01-01T00:00:00.000Z"
                ],
                [
                  "Switzerland",
                  "Neujahrestag",
                  "Neujahrestag",
                  "CH",
                  "1971-01-01T00:00:00.000Z"
                ],
                [
                  "Ukraine",
                  "Новий рік",
                  "Новий рік",
                  "UA",
                  "1971-01-01T00:00:00.000Z"
                ],
                [
                  "United States",
                  "New Year's Day",
                  "New Year's Day",
                  "US",
                  "1971-01-01T00:00:00.000Z"
                ],
                [
                  "New Zealand",
                  "Day after New Year's Day",
                  "Day after New Year's Day",
                  "NZ",
                  "1971-01-02T00:00:00.000Z"
                ],
                [
                  "Scotland",
                  "New Year Holiday",
                  "New Year Holiday",
                  null,
                  "1971-01-02T00:00:00.000Z"
                ],
                [
                  "United Kingdom",
                  "New Year Holiday [Scotland]",
                  "New Year Holiday",
                  "GB",
                  "1971-01-02T00:00:00.000Z"
                ],
                [
                  "Norway",
                  "Søndag",
                  "Søndag",
                  "NO",
                  "1971-01-03T00:00:00.000Z"
                ],
                [
                  "Sweden",
                  "Söndag",
                  "Söndag",
                  "SE",
                  "1971-01-03T00:00:00.000Z"
                ],
                [
                  "New Zealand",
                  "Day after New Year's Day (Observed)",
                  "Day after New Year's Day",
                  "NZ",
                  "1971-01-04T00:00:00.000Z"
                ],
                [
                  "Scotland",
                  "New Year Holiday (Observed)",
                  "New Year Holiday",
                  null,
                  "1971-01-04T00:00:00.000Z"
                ],
                [
                  "United Kingdom",
                  "New Year Holiday [Scotland] (Observed)",
                  "New Year Holiday",
                  "GB",
                  "1971-01-04T00:00:00.000Z"
                ],
                [
                  "Austria",
                  "Heilige Drei Könige",
                  "Heilige Drei Könige",
                  "AT",
                  "1971-01-06T00:00:00.000Z"
                ],
                [
                  "Croatia",
                  "Sveta tri kralja",
                  "Sveta tri kralja",
                  "HR",
                  "1971-01-06T00:00:00.000Z"
                ],
                [
                  "Finland",
                  "Loppiainen",
                  "Loppiainen",
                  "FI",
                  "1971-01-06T00:00:00.000Z"
                ],
                [
                  "Italy",
                  "Epifania del Signore",
                  "Epifania del Signore",
                  "IT",
                  "1971-01-06T00:00:00.000Z"
                ],
                [
                  "Spain",
                  "Epifanía del Señor",
                  "Epifanía del Señor",
                  "ES",
                  "1971-01-06T00:00:00.000Z"
                ],
                [
                  "Sweden",
                  "Trettondedag jul",
                  "Trettondedag jul",
                  "SE",
                  "1971-01-06T00:00:00.000Z"
                ],
                [
                  "Norway",
                  "Søndag",
                  "Søndag",
                  "NO",
                  "1971-01-10T00:00:00.000Z"
                ],
                [
                  "Sweden",
                  "Söndag",
                  "Söndag",
                  "SE",
                  "1971-01-10T00:00:00.000Z"
                ],
                [
                  "Colombia",
                  "Día de los Reyes Magos [Epiphany](Observed)",
                  "Día de los Reyes Magos [Epiphany]",
                  "CO",
                  "1971-01-11T00:00:00.000Z"
                ],
                [
                  "India",
                  "Makar Sankranti / Pongal",
                  "Makar Sankranti / Pongal",
                  "IN",
                  "1971-01-14T00:00:00.000Z"
                ],
                [
                  "Japan",
                  "成人の日",
                  "成人の日",
                  "JP",
                  "1971-01-15T00:00:00.000Z"
                ],
                [
                  "Norway",
                  "Søndag",
                  "Søndag",
                  "NO",
                  "1971-01-17T00:00:00.000Z"
                ],
                [
                  "Sweden",
                  "Söndag",
                  "Söndag",
                  "SE",
                  "1971-01-17T00:00:00.000Z"
                ],
                [
                  "Norway",
                  "Søndag",
                  "Søndag",
                  "NO",
                  "1971-01-24T00:00:00.000Z"
                ],
                [
                  "Sweden",
                  "Söndag",
                  "Söndag",
                  "SE",
                  "1971-01-24T00:00:00.000Z"
                ],
                [
                  "Australia",
                  "Australia Day",
                  "Australia Day",
                  "AU",
                  "1971-01-26T00:00:00.000Z"
                ],
                [
                  "India",
                  "Republic Day",
                  "Republic Day",
                  "IN",
                  "1971-01-26T00:00:00.000Z"
                ],
                [
                  "Norway",
                  "Søndag",
                  "Søndag",
                  "NO",
                  "1971-01-31T00:00:00.000Z"
                ],
                [
                  "Sweden",
                  "Söndag",
                  "Söndag",
                  "SE",
                  "1971-01-31T00:00:00.000Z"
                ],
                [
                  "Mexico",
                  "Día de la Constitución [Constitution Day]",
                  "Día de la Constitución [Constitution Day]",
                  "MX",
                  "1971-02-05T00:00:00.000Z"
                ],
                [
                  "Norway",
                  "Søndag",
                  "Søndag",
                  "NO",
                  "1971-02-07T00:00:00.000Z"
                ],
                [
                  "Sweden",
                  "Söndag",
                  "Söndag",
                  "SE",
                  "1971-02-07T00:00:00.000Z"
                ],
                [
                  "Japan",
                  "建国記念の日",
                  "建国記念の日",
                  "JP",
                  "1971-02-11T00:00:00.000Z"
                ],
                [
                  "Norway",
                  "Søndag",
                  "Søndag",
                  "NO",
                  "1971-02-14T00:00:00.000Z"
                ],
                [
                  "Sweden",
                  "Söndag",
                  "Söndag",
                  "SE",
                  "1971-02-14T00:00:00.000Z"
                ],
                [
                  "United States",
                  "Washington's Birthday",
                  "Washington's Birthday",
                  "US",
                  "1971-02-15T00:00:00.000Z"
                ],
                [
                  "Norway",
                  "Søndag",
                  "Søndag",
                  "NO",
                  "1971-02-21T00:00:00.000Z"
                ],
                [
                  "Sweden",
                  "Söndag",
                  "Söndag",
                  "SE",
                  "1971-02-21T00:00:00.000Z"
                ],
                [
                  "Argentina",
                  "Día de Carnaval [Carnival's Day]",
                  "Día de Carnaval [Carnival's Day]",
                  "AR",
                  "1971-02-22T00:00:00.000Z"
                ],
                [
                  "Argentina",
                  "Día de Carnaval [Carnival's Day]",
                  "Día de Carnaval [Carnival's Day]",
                  "AR",
                  "1971-02-23T00:00:00.000Z"
                ],
                [
                  "Brazil",
                  "Carnaval",
                  "Carnaval",
                  "BR",
                  "1971-02-23T00:00:00.000Z"
                ],
                [
                  "Brazil",
                  "Quarta-feira de cinzas (Início da Quaresma)",
                  "Quarta-feira de cinzas (Início da Quaresma)",
                  "BR",
                  "1971-02-24T00:00:00.000Z"
                ],
                [
                  "Norway",
                  "Søndag",
                  "Søndag",
                  "NO",
                  "1971-02-28T00:00:00.000Z"
                ],
                [
                  "Sweden",
                  "Söndag",
                  "Söndag",
                  "SE",
                  "1971-02-28T00:00:00.000Z"
                ],
                [
                  "Norway",
                  "Søndag",
                  "Søndag",
                  "NO",
                  "1971-03-07T00:00:00.000Z"
                ],
                [
                  "Sweden",
                  "Söndag",
                  "Söndag",
                  "SE",
                  "1971-03-07T00:00:00.000Z"
                ],
                [
                  "Ukraine",
                  "Міжнародний жіночий день",
                  "Міжнародний жіночий день",
                  "UA",
                  "1971-03-08T00:00:00.000Z"
                ],
                [
                  "Norway",
                  "Søndag",
                  "Søndag",
                  "NO",
                  "1971-03-14T00:00:00.000Z"
                ],
                [
                  "Sweden",
                  "Söndag",
                  "Söndag",
                  "SE",
                  "1971-03-14T00:00:00.000Z"
                ],
                [
                  "Ireland",
                  "St. Patrick's Day",
                  "St. Patrick's Day",
                  "IE",
                  "1971-03-17T00:00:00.000Z"
                ],
                [
                  "Northern Ireland",
                  "St. Patrick's Day",
                  "St. Patrick's Day",
                  null,
                  "1971-03-17T00:00:00.000Z"
                ],
                [
                  "United Kingdom",
                  "St. Patrick's Day [Northern Ireland]",
                  "St. Patrick's Day",
                  "GB",
                  "1971-03-17T00:00:00.000Z"
                ],
                [
                  "Hungary",
                  "A Tanácsköztársaság kikiáltásának ünnepe",
                  "A Tanácsköztársaság kikiáltásának ünnepe",
                  "HU",
                  "1971-03-21T00:00:00.000Z"
                ],
                [
                  "Japan",
                  "春分の日",
                  "春分の日",
                  "JP",
                  "1971-03-21T00:00:00.000Z"
                ],
                [
                  "Mexico",
                  "Natalicio de Benito Juárez [Benito Juárez's birthday]",
                  "Natalicio de Benito Juárez [Benito Juárez's birthday]",
                  "MX",
                  "1971-03-21T00:00:00.000Z"
                ],
                [
                  "Norway",
                  "Søndag",
                  "Søndag",
                  "NO",
                  "1971-03-21T00:00:00.000Z"
                ],
                [
                  "Sweden",
                  "Söndag",
                  "Söndag",
                  "SE",
                  "1971-03-21T00:00:00.000Z"
                ],
                [
                  "Colombia",
                  "Día de San José [Saint Joseph's Day](Observed)",
                  "Día de San José [Saint Joseph's Day]",
                  "CO",
                  "1971-03-22T00:00:00.000Z"
                ],
                [
                  "Argentina",
                  "Día Nacional de la Memoria por la Verdad y la Justicia [Memory's National Day for the Truth and Justice]",
                  "Día Nacional de la Memoria por la Verdad y la Justicia [Memory's National Day for the Truth and Justice]",
                  "AR",
                  "1971-03-24T00:00:00.000Z"
                ],
                [
                  "Norway",
                  "Søndag",
                  "Søndag",
                  "NO",
                  "1971-03-28T00:00:00.000Z"
                ],
                [
                  "Sweden",
                  "Söndag",
                  "Söndag",
                  "SE",
                  "1971-03-28T00:00:00.000Z"
                ],
                [
                  "Argentina",
                  "Día del Veterano y de los Caidos en la Guerra de Malvinas [Veterans Day and the Fallen in the Malvinas War]",
                  "Día del Veterano y de los Caidos en la Guerra de Malvinas [Veterans Day and the Fallen in the Malvinas War]",
                  "AR",
                  "1971-04-02T00:00:00.000Z"
                ],
                [
                  "Denmark",
                  "Palmesøndag",
                  "Palmesøndag",
                  "DK",
                  "1971-04-04T00:00:00.000Z"
                ],
                [
                  "Hungary",
                  "A felszabadulás ünnepe",
                  "A felszabadulás ünnepe",
                  "HU",
                  "1971-04-04T00:00:00.000Z"
                ],
                [
                  "Norway",
                  "Søndag",
                  "Søndag",
                  "NO",
                  "1971-04-04T00:00:00.000Z"
                ],
                [
                  "Sweden",
                  "Söndag",
                  "Söndag",
                  "SE",
                  "1971-04-04T00:00:00.000Z"
                ],
                [
                  "South Africa",
                  "Van Riebeeck's Day",
                  "Van Riebeeck's Day",
                  "ZA",
                  "1971-04-06T00:00:00.000Z"
                ],
                [
                  "Argentina",
                  "Semana Santa (Jueves Santo)  [Holy day (Holy Thursday)]",
                  "Semana Santa (Jueves Santo)  [Holy day (Holy Thursday)]",
                  "AR",
                  "1971-04-08T00:00:00.000Z"
                ],
                [
                  "Colombia",
                  "Jueves Santo [Maundy Thursday]",
                  "Jueves Santo [Maundy Thursday]",
                  "CO",
                  "1971-04-08T00:00:00.000Z"
                ],
                [
                  "Denmark",
                  "Skærtorsdag",
                  "Skærtorsdag",
                  "DK",
                  "1971-04-08T00:00:00.000Z"
                ],
                [
                  "Norway",
                  "Skjærtorsdag",
                  "Skjærtorsdag",
                  "NO",
                  "1971-04-08T00:00:00.000Z"
                ],
                [
                  "Argentina",
                  "Semana Santa (Viernes Santo)  [Holy day (Holy Friday)]",
                  "Semana Santa (Viernes Santo)  [Holy day (Holy Friday)]",
                  "AR",
                  "1971-04-09T00:00:00.000Z"
                ],
                [
                  "Australia",
                  "Good Friday",
                  "Good Friday",
                  "AU",
                  "1971-04-09T00:00:00.000Z"
                ],
                [
                  "Brazil",
                  "Sexta-feira Santa",
                  "Sexta-feira Santa",
                  "BR",
                  "1971-04-09T00:00:00.000Z"
                ],
                [
                  "Canada",
                  "Good Friday",
                  "Good Friday",
                  "CA",
                  "1971-04-09T00:00:00.000Z"
                ],
                [
                  "Colombia",
                  "Viernes Santo [Good Friday]",
                  "Viernes Santo [Good Friday]",
                  "CO",
                  "1971-04-09T00:00:00.000Z"
                ],
                [
                  "Denmark",
                  "Langfredag",
                  "Langfredag",
                  "DK",
                  "1971-04-09T00:00:00.000Z"
                ],
                [
                  "England",
                  "Good Friday",
                  "Good Friday",
                  null,
                  "1971-04-09T00:00:00.000Z"
                ],
                [
                  "Finland",
                  "Pitkäperjantai",
                  "Pitkäperjantai",
                  "FI",
                  "1971-04-09T00:00:00.000Z"
                ],
                [
                  "Isle of Man",
                  "Good Friday",
                  "Good Friday",
                  "IM",
                  "1971-04-09T00:00:00.000Z"
                ],
                [
                  "New Zealand",
                  "Good Friday",
                  "Good Friday",
                  "NZ",
                  "1971-04-09T00:00:00.000Z"
                ],
                [
                  "Northern Ireland",
                  "Good Friday",
                  "Good Friday",
                  null,
                  "1971-04-09T00:00:00.000Z"
                ],
                [
                  "Norway",
                  "Langfredag",
                  "Langfredag",
                  "NO",
                  "1971-04-09T00:00:00.000Z"
                ],
                [
                  "Portugal",
                  "Sexta-feira Santa",
                  "Sexta-feira Santa",
                  "PT",
                  "1971-04-09T00:00:00.000Z"
                ],
                [
                  "Scotland",
                  "Good Friday",
                  "Good Friday",
                  null,
                  "1971-04-09T00:00:00.000Z"
                ],
                [
                  "South Africa",
                  "Good Friday",
                  "Good Friday",
                  "ZA",
                  "1971-04-09T00:00:00.000Z"
                ],
                [
                  "Sweden",
                  "Långfredagen",
                  "Långfredagen",
                  "SE",
                  "1971-04-09T00:00:00.000Z"
                ],
                [
                  "Switzerland",
                  "Karfreitag",
                  "Karfreitag",
                  "CH",
                  "1971-04-09T00:00:00.000Z"
                ],
                [
                  "United Kingdom",
                  "Good Friday",
                  "Good Friday",
                  "GB",
                  "1971-04-09T00:00:00.000Z"
                ],
                [
                  "Wales",
                  "Good Friday",
                  "Good Friday",
                  null,
                  "1971-04-09T00:00:00.000Z"
                ],
                [
                  "Argentina",
                  "Día de Pascuas [Easter Day]",
                  "Día de Pascuas [Easter Day]",
                  "AR",
                  "1971-04-11T00:00:00.000Z"
                ],
                [
                  "Belgium",
                  "Pasen",
                  "Pasen",
                  "BE",
                  "1971-04-11T00:00:00.000Z"
                ],
                [
                  "Brazil",
                  "Páscoa",
                  "Páscoa",
                  "BR",
                  "1971-04-11T00:00:00.000Z"
                ],
                [
                  "Croatia",
                  "Uskrs",
                  "Uskrs",
                  "HR",
                  "1971-04-11T00:00:00.000Z"
                ],
                [
                  "Denmark",
                  "Påskedag",
                  "Påskedag",
                  "DK",
                  "1971-04-11T00:00:00.000Z"
                ],
                [
                  "Finland",
                  "Pääsiäispäivä",
                  "Pääsiäispäivä",
                  "FI",
                  "1971-04-11T00:00:00.000Z"
                ],
                [
                  "Hungary",
                  "Húsvét",
                  "Húsvét",
                  "HU",
                  "1971-04-11T00:00:00.000Z"
                ],
                [
                  "Italy",
                  "Pasqua di Resurrezione",
                  "Pasqua di Resurrezione",
                  "IT",
                  "1971-04-11T00:00:00.000Z"
                ],
                [
                  "Netherlands",
                  "Eerste paasdag",
                  "Eerste paasdag",
                  "NL",
                  "1971-04-11T00:00:00.000Z"
                ],
                [
                  "Norway",
                  "Første påskedag, Søndag",
                  "Første påskedag, Søndag",
                  "NO",
                  "1971-04-11T00:00:00.000Z"
                ],
                [
                  "Poland",
                  "Niedziela Wielkanocna",
                  "Niedziela Wielkanocna",
                  "PL",
                  "1971-04-11T00:00:00.000Z"
                ],
                [
                  "Portugal",
                  "Páscoa",
                  "Páscoa",
                  "PT",
                  "1971-04-11T00:00:00.000Z"
                ],
                [
                  "Sweden",
                  "Påskdagen, Söndag",
                  "Påskdagen, Söndag",
                  "SE",
                  "1971-04-11T00:00:00.000Z"
                ],
                [
                  "Switzerland",
                  "Ostern",
                  "Ostern",
                  "CH",
                  "1971-04-11T00:00:00.000Z"
                ],
                [
                  "Australia",
                  "Easter Monday",
                  "Easter Monday",
                  "AU",
                  "1971-04-12T00:00:00.000Z"
                ],
                [
                  "Austria",
                  "Ostermontag",
                  "Ostermontag",
                  "AT",
                  "1971-04-12T00:00:00.000Z"
                ],
                [
                  "Belgium",
                  "Paasmaandag",
                  "Paasmaandag",
                  "BE",
                  "1971-04-12T00:00:00.000Z"
                ],
                [
                  "Croatia",
                  "Uskrsni ponedjeljak",
                  "Uskrsni ponedjeljak",
                  "HR",
                  "1971-04-12T00:00:00.000Z"
                ],
                [
                  "Czech",
                  "Velikonoční pondělí",
                  "Velikonoční pondělí",
                  "CZ",
                  "1971-04-12T00:00:00.000Z"
                ],
                [
                  "Denmark",
                  "Anden påskedag",
                  "Anden påskedag",
                  "DK",
                  "1971-04-12T00:00:00.000Z"
                ],
                [
                  "England",
                  "Easter Monday",
                  "Easter Monday",
                  null,
                  "1971-04-12T00:00:00.000Z"
                ],
                [
                  "Finland",
                  "2. pääsiäispäivä",
                  "2. pääsiäispäivä",
                  "FI",
                  "1971-04-12T00:00:00.000Z"
                ],
                [
                  "France",
                  "Lundi de Pâques",
                  "Lundi de Pâques",
                  "FR",
                  "1971-04-12T00:00:00.000Z"
                ],
                [
                  "Hungary",
                  "Húsvét Hétfő",
                  "Húsvét Hétfő",
                  "HU",
                  "1971-04-12T00:00:00.000Z"
                ],
                [
                  "Ireland",
                  "Easter Monday",
                  "Easter Monday",
                  "IE",
                  "1971-04-12T00:00:00.000Z"
                ],
                [
                  "Isle of Man",
                  "Easter Monday",
                  "Easter Monday",
                  "IM",
                  "1971-04-12T00:00:00.000Z"
                ],
                [
                  "Italy",
                  "Lunedì dell'Angelo",
                  "Lunedì dell'Angelo",
                  "IT",
                  "1971-04-12T00:00:00.000Z"
                ],
                [
                  "Netherlands",
                  "Tweede paasdag",
                  "Tweede paasdag",
                  "NL",
                  "1971-04-12T00:00:00.000Z"
                ],
                [
                  "New Zealand",
                  "Easter Monday",
                  "Easter Monday",
                  "NZ",
                  "1971-04-12T00:00:00.000Z"
                ],
                [
                  "Northern Ireland",
                  "Easter Monday",
                  "Easter Monday",
                  null,
                  "1971-04-12T00:00:00.000Z"
                ],
                [
                  "Norway",
                  "Andre påskedag",
                  "Andre påskedag",
                  "NO",
                  "1971-04-12T00:00:00.000Z"
                ],
                [
                  "Poland",
                  "Poniedziałek Wielkanocny",
                  "Poniedziałek Wielkanocny",
                  "PL",
                  "1971-04-12T00:00:00.000Z"
                ],
                [
                  "South Africa",
                  "Easter Monday",
                  "Easter Monday",
                  "ZA",
                  "1971-04-12T00:00:00.000Z"
                ],
                [
                  "Sweden",
                  "Annandag påsk",
                  "Annandag påsk",
                  "SE",
                  "1971-04-12T00:00:00.000Z"
                ],
                [
                  "Switzerland",
                  "Ostermontag",
                  "Ostermontag",
                  "CH",
                  "1971-04-12T00:00:00.000Z"
                ],
                [
                  "United Kingdom",
                  "Easter Monday [England, Wales, Northern Ireland]",
                  "Easter Monday",
                  "GB",
                  "1971-04-12T00:00:00.000Z"
                ],
                [
                  "Wales",
                  "Easter Monday",
                  "Easter Monday",
                  null,
                  "1971-04-12T00:00:00.000Z"
                ],
                [
                  "Norway",
                  "Søndag",
                  "Søndag",
                  "NO",
                  "1971-04-18T00:00:00.000Z"
                ],
                [
                  "Sweden",
                  "Söndag",
                  "Söndag",
                  "SE",
                  "1971-04-18T00:00:00.000Z"
                ],
                [
                  "Brazil",
                  "Tiradentes",
                  "Tiradentes",
                  "BR",
                  "1971-04-21T00:00:00.000Z"
                ],
                [
                  "Australia",
                  "Anzac Day",
                  "Anzac Day",
                  "AU",
                  "1971-04-25T00:00:00.000Z"
                ],
                [
                  "Italy",
                  "Festa della Liberazione",
                  "Festa della Liberazione",
                  "IT",
                  "1971-04-25T00:00:00.000Z"
                ],
                [
                  "New Zealand",
                  "Anzac Day",
                  "Anzac Day",
                  "NZ",
                  "1971-04-25T00:00:00.000Z"
                ],
                [
                  "Norway",
                  "Søndag",
                  "Søndag",
                  "NO",
                  "1971-04-25T00:00:00.000Z"
                ],
                [
                  "Portugal",
                  "Dia da Liberdade",
                  "Dia da Liberdade",
                  "PT",
                  "1971-04-25T00:00:00.000Z"
                ],
                [
                  "Sweden",
                  "Söndag",
                  "Söndag",
                  "SE",
                  "1971-04-25T00:00:00.000Z"
                ],
                [
                  "Japan",
                  "天皇誕生日",
                  "天皇誕生日",
                  "JP",
                  "1971-04-29T00:00:00.000Z"
                ],
                [
                  "Mexico",
                  "Natalicio de Benito Juárez [Benito Juárez's birthday] (Observed)",
                  "Natalicio de Benito Juárez [Benito Juárez's birthday]",
                  "MX",
                  "1971-04-30T00:00:00.000Z"
                ],
                [
                  "Netherlands",
                  "Koninginnedag",
                  "Koninginnedag",
                  "NL",
                  "1971-04-30T00:00:00.000Z"
                ],
                [
                  "Argentina",
                  "Día del Trabajo [Labour Day]",
                  "Día del Trabajo [Labour Day]",
                  "AR",
                  "1971-05-01T00:00:00.000Z"
                ],
                [
                  "Austria",
                  "Staatsfeiertag",
                  "Staatsfeiertag",
                  "AT",
                  "1971-05-01T00:00:00.000Z"
                ],
                [
                  "Belgium",
                  "Dag van de Arbeid",
                  "Dag van de Arbeid",
                  "BE",
                  "1971-05-01T00:00:00.000Z"
                ],
                [
                  "Brazil",
                  "Dia Mundial do Trabalho",
                  "Dia Mundial do Trabalho",
                  "BR",
                  "1971-05-01T00:00:00.000Z"
                ],
                [
                  "Colombia",
                  "Día del Trabajo [Labour Day]",
                  "Día del Trabajo [Labour Day]",
                  "CO",
                  "1971-05-01T00:00:00.000Z"
                ],
                [
                  "Croatia",
                  "Međunarodni praznik rada",
                  "Međunarodni praznik rada",
                  "HR",
                  "1971-05-01T00:00:00.000Z"
                ],
                [
                  "Czech",
                  "Svátek práce",
                  "Svátek práce",
                  "CZ",
                  "1971-05-01T00:00:00.000Z"
                ],
                [
                  "Finland",
                  "Vappu",
                  "Vappu",
                  "FI",
                  "1971-05-01T00:00:00.000Z"
                ],
                [
                  "France",
                  "Fête du Travail",
                  "Fête du Travail",
                  "FR",
                  "1971-05-01T00:00:00.000Z"
                ],
                [
                  "Hungary",
                  "A Munka ünnepe",
                  "A Munka ünnepe",
                  "HU",
                  "1971-05-01T00:00:00.000Z"
                ],
                [
                  "India",
                  "Labour Day",
                  "Labour Day",
                  "IN",
                  "1971-05-01T00:00:00.000Z"
                ],
                [
                  "Italy",
                  "Festa dei Lavoratori",
                  "Festa dei Lavoratori",
                  "IT",
                  "1971-05-01T00:00:00.000Z"
                ],
                [
                  "Mexico",
                  "Día del Trabajo [Labour Day]",
                  "Día del Trabajo [Labour Day]",
                  "MX",
                  "1971-05-01T00:00:00.000Z"
                ],
                [
                  "Norway",
                  "Arbeidernes dag",
                  "Arbeidernes dag",
                  "NO",
                  "1971-05-01T00:00:00.000Z"
                ],
                [
                  "Poland",
                  "Święto Państwowe",
                  "Święto Państwowe",
                  "PL",
                  "1971-05-01T00:00:00.000Z"
                ],
                [
                  "Portugal",
                  "Dia do Trabalhador",
                  "Dia do Trabalhador",
                  "PT",
                  "1971-05-01T00:00:00.000Z"
                ],
                [
                  "Sweden",
                  "Första maj",
                  "Första maj",
                  "SE",
                  "1971-05-01T00:00:00.000Z"
                ],
                [
                  "Ukraine",
                  "День міжнародної солідарності трудящих",
                  "День міжнародної солідарності трудящих",
                  "UA",
                  "1971-05-01T00:00:00.000Z"
                ],
                [
                  "Norway",
                  "Søndag",
                  "Søndag",
                  "NO",
                  "1971-05-02T00:00:00.000Z"
                ],
                [
                  "Sweden",
                  "Söndag",
                  "Söndag",
                  "SE",
                  "1971-05-02T00:00:00.000Z"
                ],
                [
                  "Ukraine",
                  "День міжнародної солідарності трудящих",
                  "День міжнародної солідарності трудящих",
                  "UA",
                  "1971-05-02T00:00:00.000Z"
                ],
                [
                  "Japan",
                  "憲法記念日",
                  "憲法記念日",
                  "JP",
                  "1971-05-03T00:00:00.000Z"
                ],
                [
                  "Poland",
                  "Święto Narodowe Trzeciego Maja",
                  "Święto Narodowe Trzeciego Maja",
                  "PL",
                  "1971-05-03T00:00:00.000Z"
                ],
                [
                  "Japan",
                  "こどもの日",
                  "こどもの日",
                  "JP",
                  "1971-05-05T00:00:00.000Z"
                ],
                [
                  "Denmark",
                  "Store bededag",
                  "Store bededag",
                  "DK",
                  "1971-05-07T00:00:00.000Z"
                ],
                [
                  "Czech",
                  "Den vítězství nad hitlerovským fašismem",
                  "Den vítězství nad hitlerovským fašismem",
                  "CZ",
                  "1971-05-09T00:00:00.000Z"
                ],
                [
                  "Norway",
                  "Søndag",
                  "Søndag",
                  "NO",
                  "1971-05-09T00:00:00.000Z"
                ],
                [
                  "Sweden",
                  "Söndag",
                  "Söndag",
                  "SE",
                  "1971-05-09T00:00:00.000Z"
                ],
                [
                  "Ukraine",
                  "День перемоги",
                  "День перемоги",
                  "UA",
                  "1971-05-09T00:00:00.000Z"
                ],
                [
                  "Norway",
                  "Søndag",
                  "Søndag",
                  "NO",
                  "1971-05-16T00:00:00.000Z"
                ],
                [
                  "Sweden",
                  "Söndag",
                  "Söndag",
                  "SE",
                  "1971-05-16T00:00:00.000Z"
                ],
                [
                  "Norway",
                  "Grunnlovsdag",
                  "Grunnlovsdag",
                  "NO",
                  "1971-05-17T00:00:00.000Z"
                ],
                [
                  "Austria",
                  "Christi Himmelfahrt",
                  "Christi Himmelfahrt",
                  "AT",
                  "1971-05-20T00:00:00.000Z"
                ],
                [
                  "Belgium",
                  "O.L.H. Hemelvaart",
                  "O.L.H. Hemelvaart",
                  "BE",
                  "1971-05-20T00:00:00.000Z"
                ],
                [
                  "Denmark",
                  "Kristi himmelfartsdag",
                  "Kristi himmelfartsdag",
                  "DK",
                  "1971-05-20T00:00:00.000Z"
                ],
                [
                  "Finland",
                  "Helatorstai",
                  "Helatorstai",
                  "FI",
                  "1971-05-20T00:00:00.000Z"
                ],
                [
                  "France",
                  "Ascension",
                  "Ascension",
                  "FR",
                  "1971-05-20T00:00:00.000Z"
                ],
                [
                  "Netherlands",
                  "Hemelvaart",
                  "Hemelvaart",
                  "NL",
                  "1971-05-20T00:00:00.000Z"
                ],
                [
                  "Norway",
                  "Kristi himmelfartsdag",
                  "Kristi himmelfartsdag",
                  "NO",
                  "1971-05-20T00:00:00.000Z"
                ],
                [
                  "Sweden",
                  "Kristi himmelsfärdsdag",
                  "Kristi himmelsfärdsdag",
                  "SE",
                  "1971-05-20T00:00:00.000Z"
                ],
                [
                  "Switzerland",
                  "Auffahrt",
                  "Auffahrt",
                  "CH",
                  "1971-05-20T00:00:00.000Z"
                ],
                [
                  "South Africa",
                  "Ascension Day",
                  "Ascension Day",
                  "ZA",
                  "1971-05-21T00:00:00.000Z"
                ],
                [
                  "Norway",
                  "Søndag",
                  "Søndag",
                  "NO",
                  "1971-05-23T00:00:00.000Z"
                ],
                [
                  "Sweden",
                  "Söndag",
                  "Söndag",
                  "SE",
                  "1971-05-23T00:00:00.000Z"
                ],
                [
                  "Canada",
                  "Victoria Day",
                  "Victoria Day",
                  "CA",
                  "1971-05-24T00:00:00.000Z"
                ],
                [
                  "Colombia",
                  "Ascensión del señor [Ascension of Jesus](Observed)",
                  "Ascensión del señor [Ascension of Jesus]",
                  "CO",
                  "1971-05-24T00:00:00.000Z"
                ],
                [
                  "Argentina",
                  "Día de la Revolucion de Mayo [May Revolution Day]",
                  "Día de la Revolucion de Mayo [May Revolution Day]",
                  "AR",
                  "1971-05-25T00:00:00.000Z"
                ],
                [
                  "Belgium",
                  "Pinksteren",
                  "Pinksteren",
                  "BE",
                  "1971-05-30T00:00:00.000Z"
                ],
                [
                  "Denmark",
                  "Pinsedag",
                  "Pinsedag",
                  "DK",
                  "1971-05-30T00:00:00.000Z"
                ],
                [
                  "Finland",
                  "Helluntaipäivä",
                  "Helluntaipäivä",
                  "FI",
                  "1971-05-30T00:00:00.000Z"
                ],
                [
                  "Hungary",
                  "Pünkösd",
                  "Pünkösd",
                  "HU",
                  "1971-05-30T00:00:00.000Z"
                ],
                [
                  "Netherlands",
                  "Eerste Pinksterdag",
                  "Eerste Pinksterdag",
                  "NL",
                  "1971-05-30T00:00:00.000Z"
                ],
                [
                  "Norway",
                  "Første pinsedag, Søndag",
                  "Første pinsedag, Søndag",
                  "NO",
                  "1971-05-30T00:00:00.000Z"
                ],
                [
                  "Poland",
                  "Zielone Świątki",
                  "Zielone Świątki",
                  "PL",
                  "1971-05-30T00:00:00.000Z"
                ],
                [
                  "Sweden",
                  "Pingstdagen, Söndag",
                  "Pingstdagen, Söndag",
                  "SE",
                  "1971-05-30T00:00:00.000Z"
                ],
                [
                  "Switzerland",
                  "Pfingsten",
                  "Pfingsten",
                  "CH",
                  "1971-05-30T00:00:00.000Z"
                ],
                [
                  "Austria",
                  "Pfingstmontag",
                  "Pfingstmontag",
                  "AT",
                  "1971-05-31T00:00:00.000Z"
                ],
                [
                  "Belgium",
                  "Pinkstermaandag",
                  "Pinkstermaandag",
                  "BE",
                  "1971-05-31T00:00:00.000Z"
                ],
                [
                  "Denmark",
                  "Anden pinsedag",
                  "Anden pinsedag",
                  "DK",
                  "1971-05-31T00:00:00.000Z"
                ],
                [
                  "England",
                  "Spring Bank Holiday",
                  "Spring Bank Holiday",
                  null,
                  "1971-05-31T00:00:00.000Z"
                ],
                [
                  "France",
                  "Lundi de Pentecôte",
                  "Lundi de Pentecôte",
                  "FR",
                  "1971-05-31T00:00:00.000Z"
                ],
                [
                  "Isle of Man",
                  "Spring Bank Holiday",
                  "Spring Bank Holiday",
                  "IM",
                  "1971-05-31T00:00:00.000Z"
                ],
                [
                  "Netherlands",
                  "Tweede Pinksterdag",
                  "Tweede Pinksterdag",
                  "NL",
                  "1971-05-31T00:00:00.000Z"
                ],
                [
                  "Northern Ireland",
                  "Spring Bank Holiday",
                  "Spring Bank Holiday",
                  null,
                  "1971-05-31T00:00:00.000Z"
                ],
                [
                  "Norway",
                  "Andre pinsedag",
                  "Andre pinsedag",
                  "NO",
                  "1971-05-31T00:00:00.000Z"
                ],
                [
                  "Scotland",
                  "Spring Bank Holiday",
                  "Spring Bank Holiday",
                  null,
                  "1971-05-31T00:00:00.000Z"
                ],
                [
                  "South Africa",
                  "Republic Day",
                  "Republic Day",
                  "ZA",
                  "1971-05-31T00:00:00.000Z"
                ],
                [
                  "Sweden",
                  "Annandag pingst",
                  "Annandag pingst",
                  "SE",
                  "1971-05-31T00:00:00.000Z"
                ],
                [
                  "Switzerland",
                  "Pfingstmontag",
                  "Pfingstmontag",
                  "CH",
                  "1971-05-31T00:00:00.000Z"
                ],
                [
                  "United Kingdom",
                  "Spring Bank Holiday",
                  "Spring Bank Holiday",
                  "GB",
                  "1971-05-31T00:00:00.000Z"
                ],
                [
                  "United States",
                  "Memorial Day",
                  "Memorial Day",
                  "US",
                  "1971-05-31T00:00:00.000Z"
                ],
                [
                  "Wales",
                  "Spring Bank Holiday",
                  "Spring Bank Holiday",
                  null,
                  "1971-05-31T00:00:00.000Z"
                ],
                [
                  "Italy",
                  "Festa della Repubblica",
                  "Festa della Repubblica",
                  "IT",
                  "1971-06-02T00:00:00.000Z"
                ],
                [
                  "Isle of Man",
                  "TT Bank Holiday",
                  "TT Bank Holiday",
                  "IM",
                  "1971-06-04T00:00:00.000Z"
                ],
                [
                  "Norway",
                  "Søndag",
                  "Søndag",
                  "NO",
                  "1971-06-06T00:00:00.000Z"
                ],
                [
                  "Sweden",
                  "Söndag",
                  "Söndag",
                  "SE",
                  "1971-06-06T00:00:00.000Z"
                ],
                [
                  "Ireland",
                  "June Bank Holiday",
                  "June Bank Holiday",
                  "IE",
                  "1971-06-07T00:00:00.000Z"
                ],
                [
                  "New Zealand",
                  "Queen's Birthday",
                  "Queen's Birthday",
                  "NZ",
                  "1971-06-07T00:00:00.000Z"
                ],
                [
                  "Austria",
                  "Fronleichnam",
                  "Fronleichnam",
                  "AT",
                  "1971-06-10T00:00:00.000Z"
                ],
                [
                  "Brazil",
                  "Corpus Christi",
                  "Corpus Christi",
                  "BR",
                  "1971-06-10T00:00:00.000Z"
                ],
                [
                  "Croatia",
                  "Tijelovo",
                  "Tijelovo",
                  "HR",
                  "1971-06-10T00:00:00.000Z"
                ],
                [
                  "Poland",
                  "Dzień Bożego Ciała",
                  "Dzień Bożego Ciała",
                  "PL",
                  "1971-06-10T00:00:00.000Z"
                ],
                [
                  "Portugal",
                  "Dia de Portugal, Corpo de Deus",
                  "Dia de Portugal, Corpo de Deus",
                  "PT",
                  "1971-06-10T00:00:00.000Z"
                ],
                [
                  "Norway",
                  "Søndag",
                  "Søndag",
                  "NO",
                  "1971-06-13T00:00:00.000Z"
                ],
                [
                  "Sweden",
                  "Söndag",
                  "Söndag",
                  "SE",
                  "1971-06-13T00:00:00.000Z"
                ],
                [
                  "Colombia",
                  "Corpus Christi [Corpus Christi](Observed)",
                  "Corpus Christi [Corpus Christi]",
                  "CO",
                  "1971-06-14T00:00:00.000Z"
                ],
                [
                  "Argentina",
                  "Día Pase a la Inmortalidad del General Martín Miguel de Güemes [Day Pass to the Immortality of General Martín Miguel de Güemes]",
                  "Día Pase a la Inmortalidad del General Martín Miguel de Güemes [Day Pass to the Immortality of General Martín Miguel de Güemes]",
                  "AR",
                  "1971-06-17T00:00:00.000Z"
                ],
                [
                  "Argentina",
                  "Día Pase a la Inmortalidad del General D. Manuel Belgrano [Day Pass to the Immortality of General D. Manuel Belgrano]",
                  "Día Pase a la Inmortalidad del General D. Manuel Belgrano [Day Pass to the Immortality of General D. Manuel Belgrano]",
                  "AR",
                  "1971-06-20T00:00:00.000Z"
                ],
                [
                  "Norway",
                  "Søndag",
                  "Søndag",
                  "NO",
                  "1971-06-20T00:00:00.000Z"
                ],
                [
                  "Sweden",
                  "Söndag",
                  "Söndag",
                  "SE",
                  "1971-06-20T00:00:00.000Z"
                ],
                [
                  "Colombia",
                  "Sagrado Corazón [Sacred Heart](Observed)",
                  "Sagrado Corazón [Sacred Heart]",
                  "CO",
                  "1971-06-21T00:00:00.000Z"
                ],
                [
                  "Croatia",
                  "Dan antifašističke borbe",
                  "Dan antifašističke borbe",
                  "HR",
                  "1971-06-22T00:00:00.000Z"
                ],
                [
                  "Croatia",
                  "Dan državnosti",
                  "Dan državnosti",
                  "HR",
                  "1971-06-25T00:00:00.000Z"
                ],
                [
                  "Finland",
                  "Juhannusaatto",
                  "Juhannusaatto",
                  "FI",
                  "1971-06-25T00:00:00.000Z"
                ],
                [
                  "Sweden",
                  "Midsommarafton",
                  "Midsommarafton",
                  "SE",
                  "1971-06-25T00:00:00.000Z"
                ],
                [
                  "Finland",
                  "Juhannuspäivä",
                  "Juhannuspäivä",
                  "FI",
                  "1971-06-26T00:00:00.000Z"
                ],
                [
                  "Sweden",
                  "Midsommardagen",
                  "Midsommardagen",
                  "SE",
                  "1971-06-26T00:00:00.000Z"
                ],
                [
                  "Norway",
                  "Søndag",
                  "Søndag",
                  "NO",
                  "1971-06-27T00:00:00.000Z"
                ],
                [
                  "Sweden",
                  "Söndag",
                  "Söndag",
                  "SE",
                  "1971-06-27T00:00:00.000Z"
                ],
                [
                  "Canada",
                  "Dominion Day",
                  "Dominion Day",
                  "CA",
                  "1971-07-01T00:00:00.000Z"
                ],
                [
                  "Norway",
                  "Søndag",
                  "Søndag",
                  "NO",
                  "1971-07-04T00:00:00.000Z"
                ],
                [
                  "Sweden",
                  "Söndag",
                  "Söndag",
                  "SE",
                  "1971-07-04T00:00:00.000Z"
                ],
                [
                  "United States",
                  "Independence Day",
                  "Independence Day",
                  "US",
                  "1971-07-04T00:00:00.000Z"
                ],
                [
                  "Colombia",
                  "San Pedro y San Pablo [Saint Peter and Saint Paul](Observed)",
                  "San Pedro y San Pablo [Saint Peter and Saint Paul]",
                  "CO",
                  "1971-07-05T00:00:00.000Z"
                ],
                [
                  "Czech",
                  "Den slovanských věrozvěstů Cyrila a Metoděje",
                  "Den slovanských věrozvěstů Cyrila a Metoděje",
                  "CZ",
                  "1971-07-05T00:00:00.000Z"
                ],
                [
                  "Isle of Man",
                  "Tynwald Day",
                  "Tynwald Day",
                  "IM",
                  "1971-07-05T00:00:00.000Z"
                ],
                [
                  "United States",
                  "Independence Day (Observed)",
                  "Independence Day",
                  "US",
                  "1971-07-05T00:00:00.000Z"
                ],
                [
                  "Czech",
                  "Den upálení mistra Jana Husa",
                  "Den upálení mistra Jana Husa",
                  "CZ",
                  "1971-07-06T00:00:00.000Z"
                ],
                [
                  "Argentina",
                  "Día de la Independencia [Independence Day]",
                  "Día de la Independencia [Independence Day]",
                  "AR",
                  "1971-07-09T00:00:00.000Z"
                ],
                [
                  "South Africa",
                  "Family Day",
                  "Family Day",
                  "ZA",
                  "1971-07-10T00:00:00.000Z"
                ],
                [
                  "Norway",
                  "Søndag",
                  "Søndag",
                  "NO",
                  "1971-07-11T00:00:00.000Z"
                ],
                [
                  "Sweden",
                  "Söndag",
                  "Söndag",
                  "SE",
                  "1971-07-11T00:00:00.000Z"
                ],
                [
                  "Northern Ireland",
                  "Battle of the Boyne",
                  "Battle of the Boyne",
                  null,
                  "1971-07-12T00:00:00.000Z"
                ],
                [
                  "United Kingdom",
                  "Battle of the Boyne [Northern Ireland]",
                  "Battle of the Boyne",
                  "GB",
                  "1971-07-12T00:00:00.000Z"
                ],
                [
                  "France",
                  "Fête nationale",
                  "Fête nationale",
                  "FR",
                  "1971-07-14T00:00:00.000Z"
                ],
                [
                  "Norway",
                  "Søndag",
                  "Søndag",
                  "NO",
                  "1971-07-18T00:00:00.000Z"
                ],
                [
                  "Sweden",
                  "Söndag",
                  "Söndag",
                  "SE",
                  "1971-07-18T00:00:00.000Z"
                ],
                [
                  "Colombia",
                  "Día de la Independencia [Independence Day]",
                  "Día de la Independencia [Independence Day]",
                  "CO",
                  "1971-07-20T00:00:00.000Z"
                ],
                [
                  "Belgium",
                  "Nationale feestdag",
                  "Nationale feestdag",
                  "BE",
                  "1971-07-21T00:00:00.000Z"
                ],
                [
                  "Norway",
                  "Søndag",
                  "Søndag",
                  "NO",
                  "1971-07-25T00:00:00.000Z"
                ],
                [
                  "Sweden",
                  "Söndag",
                  "Söndag",
                  "SE",
                  "1971-07-25T00:00:00.000Z"
                ],
                [
                  "Norway",
                  "Søndag",
                  "Søndag",
                  "NO",
                  "1971-08-01T00:00:00.000Z"
                ],
                [
                  "Sweden",
                  "Söndag",
                  "Söndag",
                  "SE",
                  "1971-08-01T00:00:00.000Z"
                ],
                [
                  "Switzerland",
                  "Nationalfeiertag",
                  "Nationalfeiertag",
                  "CH",
                  "1971-08-01T00:00:00.000Z"
                ],
                [
                  "Canada",
                  "Civic Holiday",
                  "Civic Holiday",
                  "CA",
                  "1971-08-02T00:00:00.000Z"
                ],
                [
                  "Ireland",
                  "Summer Bank Holiday",
                  "Summer Bank Holiday",
                  "IE",
                  "1971-08-02T00:00:00.000Z"
                ],
                [
                  "Scotland",
                  "Summer Bank Holiday",
                  "Summer Bank Holiday",
                  null,
                  "1971-08-02T00:00:00.000Z"
                ],
                [
                  "United Kingdom",
                  "Summer Bank Holiday [Scotland]",
                  "Summer Bank Holiday",
                  "GB",
                  "1971-08-02T00:00:00.000Z"
                ],
                [
                  "Croatia",
                  "Dan pobjede i domovinske zahvalnosti",
                  "Dan pobjede i domovinske zahvalnosti",
                  "HR",
                  "1971-08-05T00:00:00.000Z"
                ],
                [
                  "Colombia",
                  "Batalla de Boyacá [Battle of Boyacá]",
                  "Batalla de Boyacá [Battle of Boyacá]",
                  "CO",
                  "1971-08-07T00:00:00.000Z"
                ],
                [
                  "Norway",
                  "Søndag",
                  "Søndag",
                  "NO",
                  "1971-08-08T00:00:00.000Z"
                ],
                [
                  "Sweden",
                  "Söndag",
                  "Söndag",
                  "SE",
                  "1971-08-08T00:00:00.000Z"
                ],
                [
                  "Austria",
                  "Mariä Himmelfahrt",
                  "Mariä Himmelfahrt",
                  "AT",
                  "1971-08-15T00:00:00.000Z"
                ],
                [
                  "Belgium",
                  "O.L.V. Hemelvaart",
                  "O.L.V. Hemelvaart",
                  "BE",
                  "1971-08-15T00:00:00.000Z"
                ],
                [
                  "Croatia",
                  "Velika Gospa",
                  "Velika Gospa",
                  "HR",
                  "1971-08-15T00:00:00.000Z"
                ],
                [
                  "France",
                  "Assomption",
                  "Assomption",
                  "FR",
                  "1971-08-15T00:00:00.000Z"
                ],
                [
                  "India",
                  "Independence Day",
                  "Independence Day",
                  "IN",
                  "1971-08-15T00:00:00.000Z"
                ],
                [
                  "Italy",
                  "Assunzione della Vergine",
                  "Assunzione della Vergine",
                  "IT",
                  "1971-08-15T00:00:00.000Z"
                ],
                [
                  "Norway",
                  "Søndag",
                  "Søndag",
                  "NO",
                  "1971-08-15T00:00:00.000Z"
                ],
                [
                  "Poland",
                  "Wniebowzięcie Najświętszej Marii Panny",
                  "Wniebowzięcie Najświętszej Marii Panny",
                  "PL",
                  "1971-08-15T00:00:00.000Z"
                ],
                [
                  "Portugal",
                  "Assunção de Nossa Senhora",
                  "Assunção de Nossa Senhora",
                  "PT",
                  "1971-08-15T00:00:00.000Z"
                ],
                [
                  "Spain",
                  "Asunción de la Virgen",
                  "Asunción de la Virgen",
                  "ES",
                  "1971-08-15T00:00:00.000Z"
                ],
                [
                  "Sweden",
                  "Söndag",
                  "Söndag",
                  "SE",
                  "1971-08-15T00:00:00.000Z"
                ],
                [
                  "Colombia",
                  "La Asunción [Assumption of Mary](Observed)",
                  "La Asunción [Assumption of Mary]",
                  "CO",
                  "1971-08-16T00:00:00.000Z"
                ],
                [
                  "Argentina",
                  "Día Pase a la Inmortalidad del General D. José de San Martin [Day Pass to the Immortality of General D. José de San Martin]",
                  "Día Pase a la Inmortalidad del General D. José de San Martin [Day Pass to the Immortality of General D. José de San Martin]",
                  "AR",
                  "1971-08-17T00:00:00.000Z"
                ],
                [
                  "Hungary",
                  "A kenyér ünnepe",
                  "A kenyér ünnepe",
                  "HU",
                  "1971-08-20T00:00:00.000Z"
                ],
                [
                  "Norway",
                  "Søndag",
                  "Søndag",
                  "NO",
                  "1971-08-22T00:00:00.000Z"
                ],
                [
                  "Sweden",
                  "Söndag",
                  "Söndag",
                  "SE",
                  "1971-08-22T00:00:00.000Z"
                ],
                [
                  "Norway",
                  "Søndag",
                  "Søndag",
                  "NO",
                  "1971-08-29T00:00:00.000Z"
                ],
                [
                  "Sweden",
                  "Söndag",
                  "Söndag",
                  "SE",
                  "1971-08-29T00:00:00.000Z"
                ],
                [
                  "England",
                  "Late Summer Bank Holiday",
                  "Late Summer Bank Holiday",
                  null,
                  "1971-08-30T00:00:00.000Z"
                ],
                [
                  "Isle of Man",
                  "Late Summer Bank Holiday",
                  "Late Summer Bank Holiday",
                  "IM",
                  "1971-08-30T00:00:00.000Z"
                ],
                [
                  "Northern Ireland",
                  "Late Summer Bank Holiday",
                  "Late Summer Bank Holiday",
                  null,
                  "1971-08-30T00:00:00.000Z"
                ],
                [
                  "United Kingdom",
                  "Late Summer Bank Holiday [England, Wales, Northern Ireland]",
                  "Late Summer Bank Holiday",
                  "GB",
                  "1971-08-30T00:00:00.000Z"
                ],
                [
                  "Wales",
                  "Late Summer Bank Holiday",
                  "Late Summer Bank Holiday",
                  null,
                  "1971-08-30T00:00:00.000Z"
                ],
                [
                  "Norway",
                  "Søndag",
                  "Søndag",
                  "NO",
                  "1971-09-05T00:00:00.000Z"
                ],
                [
                  "Sweden",
                  "Söndag",
                  "Söndag",
                  "SE",
                  "1971-09-05T00:00:00.000Z"
                ],
                [
                  "Canada",
                  "Labour Day",
                  "Labour Day",
                  "CA",
                  "1971-09-06T00:00:00.000Z"
                ],
                [
                  "South Africa",
                  "Settlers' Day",
                  "Settlers' Day",
                  "ZA",
                  "1971-09-06T00:00:00.000Z"
                ],
                [
                  "United States",
                  "Labor Day",
                  "Labor Day",
                  "US",
                  "1971-09-06T00:00:00.000Z"
                ],
                [
                  "Brazil",
                  "Independência do Brasil",
                  "Independência do Brasil",
                  "BR",
                  "1971-09-07T00:00:00.000Z"
                ],
                [
                  "Norway",
                  "Søndag",
                  "Søndag",
                  "NO",
                  "1971-09-12T00:00:00.000Z"
                ],
                [
                  "Sweden",
                  "Söndag",
                  "Söndag",
                  "SE",
                  "1971-09-12T00:00:00.000Z"
                ],
                [
                  "Japan",
                  "敬老の日",
                  "敬老の日",
                  "JP",
                  "1971-09-15T00:00:00.000Z"
                ],
                [
                  "Mexico",
                  "Día de la Independencia [Independence Day]",
                  "Día de la Independencia [Independence Day]",
                  "MX",
                  "1971-09-16T00:00:00.000Z"
                ],
                [
                  "Norway",
                  "Søndag",
                  "Søndag",
                  "NO",
                  "1971-09-19T00:00:00.000Z"
                ],
                [
                  "Sweden",
                  "Söndag",
                  "Söndag",
                  "SE",
                  "1971-09-19T00:00:00.000Z"
                ],
                [
                  "Japan",
                  "秋分の日",
                  "秋分の日",
                  "JP",
                  "1971-09-24T00:00:00.000Z"
                ],
                [
                  "Norway",
                  "Søndag",
                  "Søndag",
                  "NO",
                  "1971-09-26T00:00:00.000Z"
                ],
                [
                  "Sweden",
                  "Söndag",
                  "Söndag",
                  "SE",
                  "1971-09-26T00:00:00.000Z"
                ],
                [
                  "India",
                  "Gandhi Jayanti",
                  "Gandhi Jayanti",
                  "IN",
                  "1971-10-02T00:00:00.000Z"
                ],
                [
                  "Norway",
                  "Søndag",
                  "Søndag",
                  "NO",
                  "1971-10-03T00:00:00.000Z"
                ],
                [
                  "Sweden",
                  "Söndag",
                  "Söndag",
                  "SE",
                  "1971-10-03T00:00:00.000Z"
                ],
                [
                  "Portugal",
                  "Implantação da República",
                  "Implantação da República",
                  "PT",
                  "1971-10-05T00:00:00.000Z"
                ],
                [
                  "Croatia",
                  "Dan neovisnosti",
                  "Dan neovisnosti",
                  "HR",
                  "1971-10-08T00:00:00.000Z"
                ],
                [
                  "Japan",
                  "体育の日",
                  "体育の日",
                  "JP",
                  "1971-10-10T00:00:00.000Z"
                ],
                [
                  "Norway",
                  "Søndag",
                  "Søndag",
                  "NO",
                  "1971-10-10T00:00:00.000Z"
                ],
                [
                  "South Africa",
                  "Kruger Day",
                  "Kruger Day",
                  "ZA",
                  "1971-10-10T00:00:00.000Z"
                ],
                [
                  "Sweden",
                  "Söndag",
                  "Söndag",
                  "SE",
                  "1971-10-10T00:00:00.000Z"
                ],
                [
                  "Canada",
                  "Thanksgiving",
                  "Thanksgiving",
                  "CA",
                  "1971-10-11T00:00:00.000Z"
                ],
                [
                  "United States",
                  "Columbus Day",
                  "Columbus Day",
                  "US",
                  "1971-10-11T00:00:00.000Z"
                ],
                [
                  "Argentina",
                  "Día de la Raza [Columbus day]",
                  "Día de la Raza [Columbus day]",
                  "AR",
                  "1971-10-12T00:00:00.000Z"
                ],
                [
                  "Brazil",
                  "Nossa Senhora Aparecida",
                  "Nossa Senhora Aparecida",
                  "BR",
                  "1971-10-12T00:00:00.000Z"
                ],
                [
                  "Spain",
                  "Día de la Hispanidad",
                  "Día de la Hispanidad",
                  "ES",
                  "1971-10-12T00:00:00.000Z"
                ],
                [
                  "Norway",
                  "Søndag",
                  "Søndag",
                  "NO",
                  "1971-10-17T00:00:00.000Z"
                ],
                [
                  "Sweden",
                  "Söndag",
                  "Söndag",
                  "SE",
                  "1971-10-17T00:00:00.000Z"
                ],
                [
                  "Colombia",
                  "Descubrimiento de América [Discovery of America](Observed)",
                  "Descubrimiento de América [Discovery of America]",
                  "CO",
                  "1971-10-18T00:00:00.000Z"
                ],
                [
                  "Norway",
                  "Søndag",
                  "Søndag",
                  "NO",
                  "1971-10-24T00:00:00.000Z"
                ],
                [
                  "Sweden",
                  "Söndag",
                  "Söndag",
                  "SE",
                  "1971-10-24T00:00:00.000Z"
                ],
                [
                  "Ireland",
                  "October Bank Holiday",
                  "October Bank Holiday",
                  "IE",
                  "1971-10-25T00:00:00.000Z"
                ],
                [
                  "New Zealand",
                  "Labour Day",
                  "Labour Day",
                  "NZ",
                  "1971-10-25T00:00:00.000Z"
                ],
                [
                  "United States",
                  "Veterans Day",
                  "Veterans Day",
                  "US",
                  "1971-10-25T00:00:00.000Z"
                ],
                [
                  "Austria",
                  "Nationalfeiertag",
                  "Nationalfeiertag",
                  "AT",
                  "1971-10-26T00:00:00.000Z"
                ],
                [
                  "Czech",
                  "Den vzniku samostatného československého státu",
                  "Den vzniku samostatného československého státu",
                  "CZ",
                  "1971-10-28T00:00:00.000Z"
                ],
                [
                  "Norway",
                  "Søndag",
                  "Søndag",
                  "NO",
                  "1971-10-31T00:00:00.000Z"
                ],
                [
                  "Sweden",
                  "Söndag",
                  "Söndag",
                  "SE",
                  "1971-10-31T00:00:00.000Z"
                ],
                [
                  "Austria",
                  "Allerheiligen",
                  "Allerheiligen",
                  "AT",
                  "1971-11-01T00:00:00.000Z"
                ],
                [
                  "Belgium",
                  "Allerheiligen",
                  "Allerheiligen",
                  "BE",
                  "1971-11-01T00:00:00.000Z"
                ],
                [
                  "Colombia",
                  "Dia de Todos los Santos [All Saint's Day]",
                  "Dia de Todos los Santos [All Saint's Day]",
                  "CO",
                  "1971-11-01T00:00:00.000Z"
                ],
                [
                  "Croatia",
                  "Svi sveti",
                  "Svi sveti",
                  "HR",
                  "1971-11-01T00:00:00.000Z"
                ],
                [
                  "France",
                  "Toussaint",
                  "Toussaint",
                  "FR",
                  "1971-11-01T00:00:00.000Z"
                ],
                [
                  "Italy",
                  "Tutti i Santi",
                  "Tutti i Santi",
                  "IT",
                  "1971-11-01T00:00:00.000Z"
                ],
                [
                  "Poland",
                  "Uroczystość Wszystkich świętych",
                  "Uroczystość Wszystkich świętych",
                  "PL",
                  "1971-11-01T00:00:00.000Z"
                ],
                [
                  "Portugal",
                  "Dia de Todos os Santos",
                  "Dia de Todos os Santos",
                  "PT",
                  "1971-11-01T00:00:00.000Z"
                ],
                [
                  "Spain",
                  "Todos los Santos",
                  "Todos los Santos",
                  "ES",
                  "1971-11-01T00:00:00.000Z"
                ],
                [
                  "Brazil",
                  "Finados",
                  "Finados",
                  "BR",
                  "1971-11-02T00:00:00.000Z"
                ],
                [
                  "Japan",
                  "文化の日",
                  "文化の日",
                  "JP",
                  "1971-11-03T00:00:00.000Z"
                ],
                [
                  "Finland",
                  "Pyhäinpäivä",
                  "Pyhäinpäivä",
                  "FI",
                  "1971-11-06T00:00:00.000Z"
                ],
                [
                  "Sweden",
                  "Alla helgons dag",
                  "Alla helgons dag",
                  "SE",
                  "1971-11-06T00:00:00.000Z"
                ],
                [
                  "Hungary",
                  "A nagy októberi szocialista forradalom ünnepe",
                  "A nagy októberi szocialista forradalom ünnepe",
                  "HU",
                  "1971-11-07T00:00:00.000Z"
                ],
                [
                  "Norway",
                  "Søndag",
                  "Søndag",
                  "NO",
                  "1971-11-07T00:00:00.000Z"
                ],
                [
                  "Sweden",
                  "Söndag",
                  "Söndag",
                  "SE",
                  "1971-11-07T00:00:00.000Z"
                ],
                [
                  "Ukraine",
                  "Річниця Великої Жовтневої соціалістичної революції",
                  "Річниця Великої Жовтневої соціалістичної революції",
                  "UA",
                  "1971-11-07T00:00:00.000Z"
                ],
                [
                  "Ukraine",
                  "Річниця Великої Жовтневої соціалістичної революції",
                  "Річниця Великої Жовтневої соціалістичної революції",
                  "UA",
                  "1971-11-08T00:00:00.000Z"
                ],
                [
                  "Belgium",
                  "Wapenstilstand",
                  "Wapenstilstand",
                  "BE",
                  "1971-11-11T00:00:00.000Z"
                ],
                [
                  "France",
                  "Armistice 1918",
                  "Armistice 1918",
                  "FR",
                  "1971-11-11T00:00:00.000Z"
                ],
                [
                  "Norway",
                  "Søndag",
                  "Søndag",
                  "NO",
                  "1971-11-14T00:00:00.000Z"
                ],
                [
                  "Sweden",
                  "Söndag",
                  "Söndag",
                  "SE",
                  "1971-11-14T00:00:00.000Z"
                ],
                [
                  "Brazil",
                  "Proclamação da República",
                  "Proclamação da República",
                  "BR",
                  "1971-11-15T00:00:00.000Z"
                ],
                [
                  "Colombia",
                  "Independencia de Cartagena [Independence of Cartagena](Observed)",
                  "Independencia de Cartagena [Independence of Cartagena]",
                  "CO",
                  "1971-11-15T00:00:00.000Z"
                ],
                [
                  "Mexico",
                  "Día de la Revolución [Revolution Day]",
                  "Día de la Revolución [Revolution Day]",
                  "MX",
                  "1971-11-20T00:00:00.000Z"
                ],
                [
                  "Norway",
                  "Søndag",
                  "Søndag",
                  "NO",
                  "1971-11-21T00:00:00.000Z"
                ],
                [
                  "Sweden",
                  "Söndag",
                  "Söndag",
                  "SE",
                  "1971-11-21T00:00:00.000Z"
                ],
                [
                  "Japan",
                  "勤労感謝の日",
                  "勤労感謝の日",
                  "JP",
                  "1971-11-23T00:00:00.000Z"
                ],
                [
                  "United States",
                  "Thanksgiving",
                  "Thanksgiving",
                  "US",
                  "1971-11-25T00:00:00.000Z"
                ],
                [
                  "Norway",
                  "Søndag",
                  "Søndag",
                  "NO",
                  "1971-11-28T00:00:00.000Z"
                ],
                [
                  "Sweden",
                  "Söndag",
                  "Söndag",
                  "SE",
                  "1971-11-28T00:00:00.000Z"
                ],
                [
                  "Scotland",
                  "St. Andrew's Day",
                  "St. Andrew's Day",
                  null,
                  "1971-11-30T00:00:00.000Z"
                ],
                [
                  "United Kingdom",
                  "St. Andrew's Day [Scotland]",
                  "St. Andrew's Day",
                  "GB",
                  "1971-11-30T00:00:00.000Z"
                ],
                [
                  "Portugal",
                  "Restauração da Independência",
                  "Restauração da Independência",
                  "PT",
                  "1971-12-01T00:00:00.000Z"
                ],
                [
                  "Norway",
                  "Søndag",
                  "Søndag",
                  "NO",
                  "1971-12-05T00:00:00.000Z"
                ],
                [
                  "Sweden",
                  "Söndag",
                  "Söndag",
                  "SE",
                  "1971-12-05T00:00:00.000Z"
                ],
                [
                  "Ukraine",
                  "День Конституції СРСР",
                  "День Конституції СРСР",
                  "UA",
                  "1971-12-05T00:00:00.000Z"
                ],
                [
                  "Finland",
                  "Itsenäisyyspäivä",
                  "Itsenäisyyspäivä",
                  "FI",
                  "1971-12-06T00:00:00.000Z"
                ],
                [
                  "Spain",
                  "Día de la constitución Española",
                  "Día de la constitución Española",
                  "ES",
                  "1971-12-06T00:00:00.000Z"
                ],
                [
                  "Argentina",
                  "La Inmaculada Concepción [Immaculate Conception]",
                  "La Inmaculada Concepción [Immaculate Conception]",
                  "AR",
                  "1971-12-08T00:00:00.000Z"
                ],
                [
                  "Austria",
                  "Mariä Empfängnis",
                  "Mariä Empfängnis",
                  "AT",
                  "1971-12-08T00:00:00.000Z"
                ],
                [
                  "Colombia",
                  "La Inmaculada Concepción [Immaculate Conception]",
                  "La Inmaculada Concepción [Immaculate Conception]",
                  "CO",
                  "1971-12-08T00:00:00.000Z"
                ],
                [
                  "Italy",
                  "Immacolata Concezione",
                  "Immacolata Concezione",
                  "IT",
                  "1971-12-08T00:00:00.000Z"
                ],
                [
                  "Portugal",
                  "Imaculada Conceição",
                  "Imaculada Conceição",
                  "PT",
                  "1971-12-08T00:00:00.000Z"
                ],
                [
                  "Spain",
                  "La Inmaculada Concepción",
                  "La Inmaculada Concepción",
                  "ES",
                  "1971-12-08T00:00:00.000Z"
                ],
                [
                  "Norway",
                  "Søndag",
                  "Søndag",
                  "NO",
                  "1971-12-12T00:00:00.000Z"
                ],
                [
                  "Sweden",
                  "Söndag",
                  "Söndag",
                  "SE",
                  "1971-12-12T00:00:00.000Z"
                ],
                [
                  "South Africa",
                  "Day of the Covenant",
                  "Day of the Covenant",
                  "ZA",
                  "1971-12-16T00:00:00.000Z"
                ],
                [
                  "Norway",
                  "Søndag",
                  "Søndag",
                  "NO",
                  "1971-12-19T00:00:00.000Z"
                ],
                [
                  "Sweden",
                  "Söndag",
                  "Söndag",
                  "SE",
                  "1971-12-19T00:00:00.000Z"
                ],
                [
                  "Canada",
                  "Christmas Day (Observed)",
                  "Christmas Day",
                  "CA",
                  "1971-12-24T00:00:00.000Z"
                ],
                [
                  "Finland",
                  "Jouluaatto",
                  "Jouluaatto",
                  "FI",
                  "1971-12-24T00:00:00.000Z"
                ],
                [
                  "Mexico",
                  "Transmisión del Poder Ejecutivo Federal [Change of Federal Government] (Observed)",
                  "Transmisión del Poder Ejecutivo Federal [Change of Federal Government]",
                  "MX",
                  "1971-12-24T00:00:00.000Z"
                ],
                [
                  "Sweden",
                  "Julafton",
                  "Julafton",
                  "SE",
                  "1971-12-24T00:00:00.000Z"
                ],
                [
                  "United States",
                  "Christmas Day (Observed)",
                  "Christmas Day",
                  "US",
                  "1971-12-24T00:00:00.000Z"
                ],
                [
                  "Argentina",
                  "Navidad [Christmas]",
                  "Navidad [Christmas]",
                  "AR",
                  "1971-12-25T00:00:00.000Z"
                ],
                [
                  "Australia",
                  "Christmas Day",
                  "Christmas Day",
                  "AU",
                  "1971-12-25T00:00:00.000Z"
                ],
                [
                  "Austria",
                  "Christtag",
                  "Christtag",
                  "AT",
                  "1971-12-25T00:00:00.000Z"
                ],
                [
                  "Belgium",
                  "Kerstmis",
                  "Kerstmis",
                  "BE",
                  "1971-12-25T00:00:00.000Z"
                ],
                [
                  "Brazil",
                  "Natal",
                  "Natal",
                  "BR",
                  "1971-12-25T00:00:00.000Z"
                ],
                [
                  "Canada",
                  "Christmas Day",
                  "Christmas Day",
                  "CA",
                  "1971-12-25T00:00:00.000Z"
                ],
                [
                  "Colombia",
                  "Navidad [Christmas]",
                  "Navidad [Christmas]",
                  "CO",
                  "1971-12-25T00:00:00.000Z"
                ],
                [
                  "Croatia",
                  "Božić",
                  "Božić",
                  "HR",
                  "1971-12-25T00:00:00.000Z"
                ],
                [
                  "Czech",
                  "1. svátek vánoční",
                  "1. svátek vánoční",
                  "CZ",
                  "1971-12-25T00:00:00.000Z"
                ],
                [
                  "Denmark",
                  "Juledag",
                  "Juledag",
                  "DK",
                  "1971-12-25T00:00:00.000Z"
                ],
                [
                  "England",
                  "Christmas Day",
                  "Christmas Day",
                  null,
                  "1971-12-25T00:00:00.000Z"
                ],
                [
                  "Finland",
                  "Joulupäivä",
                  "Joulupäivä",
                  "FI",
                  "1971-12-25T00:00:00.000Z"
                ],
                [
                  "France",
                  "Noël",
                  "Noël",
                  "FR",
                  "1971-12-25T00:00:00.000Z"
                ],
                [
                  "Hungary",
                  "Karácsony",
                  "Karácsony",
                  "HU",
                  "1971-12-25T00:00:00.000Z"
                ],
                [
                  "India",
                  "Christmas",
                  "Christmas",
                  "IN",
                  "1971-12-25T00:00:00.000Z"
                ],
                [
                  "Ireland",
                  "Christmas Day",
                  "Christmas Day",
                  "IE",
                  "1971-12-25T00:00:00.000Z"
                ],
                [
                  "Isle of Man",
                  "Christmas Day",
                  "Christmas Day",
                  "IM",
                  "1971-12-25T00:00:00.000Z"
                ],
                [
                  "Italy",
                  "Natale",
                  "Natale",
                  "IT",
                  "1971-12-25T00:00:00.000Z"
                ],
                [
                  "Mexico",
                  "Navidad [Christmas]",
                  "Navidad [Christmas]",
                  "MX",
                  "1971-12-25T00:00:00.000Z"
                ],
                [
                  "Netherlands",
                  "Eerste Kerstdag",
                  "Eerste Kerstdag",
                  "NL",
                  "1971-12-25T00:00:00.000Z"
                ],
                [
                  "New Zealand",
                  "Christmas Day",
                  "Christmas Day",
                  "NZ",
                  "1971-12-25T00:00:00.000Z"
                ],
                [
                  "Northern Ireland",
                  "Christmas Day",
                  "Christmas Day",
                  null,
                  "1971-12-25T00:00:00.000Z"
                ],
                [
                  "Norway",
                  "Første juledag",
                  "Første juledag",
                  "NO",
                  "1971-12-25T00:00:00.000Z"
                ],
                [
                  "Poland",
                  "Boże Narodzenie (pierwszy dzień)",
                  "Boże Narodzenie (pierwszy dzień)",
                  "PL",
                  "1971-12-25T00:00:00.000Z"
                ],
                [
                  "Portugal",
                  "Dia de Natal",
                  "Dia de Natal",
                  "PT",
                  "1971-12-25T00:00:00.000Z"
                ],
                [
                  "Scotland",
                  "Christmas Day",
                  "Christmas Day",
                  null,
                  "1971-12-25T00:00:00.000Z"
                ],
                [
                  "South Africa",
                  "Christmas Day",
                  "Christmas Day",
                  "ZA",
                  "1971-12-25T00:00:00.000Z"
                ],
                [
                  "Spain",
                  "Navidad",
                  "Navidad",
                  "ES",
                  "1971-12-25T00:00:00.000Z"
                ],
                [
                  "Sweden",
                  "Juldagen",
                  "Juldagen",
                  "SE",
                  "1971-12-25T00:00:00.000Z"
                ],
                [
                  "Switzerland",
                  "Weihnachten",
                  "Weihnachten",
                  "CH",
                  "1971-12-25T00:00:00.000Z"
                ],
                [
                  "United Kingdom",
                  "Christmas Day",
                  "Christmas Day",
                  "GB",
                  "1971-12-25T00:00:00.000Z"
                ],
                [
                  "United States",
                  "Christmas Day",
                  "Christmas Day",
                  "US",
                  "1971-12-25T00:00:00.000Z"
                ],
                [
                  "Wales",
                  "Christmas Day",
                  "Christmas Day",
                  null,
                  "1971-12-25T00:00:00.000Z"
                ],
                [
                  "Australia",
                  "Boxing Day",
                  "Boxing Day",
                  "AU",
                  "1971-12-26T00:00:00.000Z"
                ],
                [
                  "Austria",
                  "Stefanitag",
                  "Stefanitag",
                  "AT",
                  "1971-12-26T00:00:00.000Z"
                ],
                [
                  "Croatia",
                  "Sveti Stjepan",
                  "Sveti Stjepan",
                  "HR",
                  "1971-12-26T00:00:00.000Z"
                ],
                [
                  "Czech",
                  "2. svátek vánoční",
                  "2. svátek vánoční",
                  "CZ",
                  "1971-12-26T00:00:00.000Z"
                ],
                [
                  "Denmark",
                  "Anden juledag",
                  "Anden juledag",
                  "DK",
                  "1971-12-26T00:00:00.000Z"
                ],
                [
                  "England",
                  "Boxing Day",
                  "Boxing Day",
                  null,
                  "1971-12-26T00:00:00.000Z"
                ],
                [
                  "Finland",
                  "Tapaninpäivä",
                  "Tapaninpäivä",
                  "FI",
                  "1971-12-26T00:00:00.000Z"
                ],
                [
                  "Hungary",
                  "Karácsony másnapja",
                  "Karácsony másnapja",
                  "HU",
                  "1971-12-26T00:00:00.000Z"
                ],
                [
                  "Ireland",
                  "Boxing Day",
                  "Boxing Day",
                  "IE",
                  "1971-12-26T00:00:00.000Z"
                ],
                [
                  "Isle of Man",
                  "Boxing Day",
                  "Boxing Day",
                  "IM",
                  "1971-12-26T00:00:00.000Z"
                ],
                [
                  "Italy",
                  "Santo Stefano",
                  "Santo Stefano",
                  "IT",
                  "1971-12-26T00:00:00.000Z"
                ],
                [
                  "Netherlands",
                  "Tweede Kerstdag",
                  "Tweede Kerstdag",
                  "NL",
                  "1971-12-26T00:00:00.000Z"
                ],
                [
                  "New Zealand",
                  "Boxing Day",
                  "Boxing Day",
                  "NZ",
                  "1971-12-26T00:00:00.000Z"
                ],
                [
                  "Northern Ireland",
                  "Boxing Day",
                  "Boxing Day",
                  null,
                  "1971-12-26T00:00:00.000Z"
                ],
                [
                  "Norway",
                  "Andre juledag, Søndag",
                  "Andre juledag, Søndag",
                  "NO",
                  "1971-12-26T00:00:00.000Z"
                ],
                [
                  "Poland",
                  "Boże Narodzenie (drugi dzień)",
                  "Boże Narodzenie (drugi dzień)",
                  "PL",
                  "1971-12-26T00:00:00.000Z"
                ],
                [
                  "Scotland",
                  "Boxing Day",
                  "Boxing Day",
                  null,
                  "1971-12-26T00:00:00.000Z"
                ],
                [
                  "South Africa",
                  "Boxing Day",
                  "Boxing Day",
                  "ZA",
                  "1971-12-26T00:00:00.000Z"
                ],
                [
                  "Sweden",
                  "Annandag jul, Söndag",
                  "Annandag jul, Söndag",
                  "SE",
                  "1971-12-26T00:00:00.000Z"
                ],
                [
                  "United Kingdom",
                  "Boxing Day",
                  "Boxing Day",
                  "GB",
                  "1971-12-26T00:00:00.000Z"
                ],
                [
                  "Wales",
                  "Boxing Day",
                  "Boxing Day",
                  null,
                  "1971-12-26T00:00:00.000Z"
                ],
                [
                  "Australia",
                  "Christmas Day (Observed)",
                  "Christmas Day",
                  "AU",
                  "1971-12-27T00:00:00.000Z"
                ],
                [
                  "Canada",
                  "Boxing Day (Observed)",
                  "Boxing Day",
                  "CA",
                  "1971-12-27T00:00:00.000Z"
                ],
                [
                  "England",
                  "Christmas Day (Observed)",
                  "Christmas Day",
                  null,
                  "1971-12-27T00:00:00.000Z"
                ],
                [
                  "Ireland",
                  "Christmas Day (Observed)",
                  "Christmas Day",
                  "IE",
                  "1971-12-27T00:00:00.000Z"
                ],
                [
                  "Isle of Man",
                  "Christmas Day (Observed)",
                  "Christmas Day",
                  "IM",
                  "1971-12-27T00:00:00.000Z"
                ],
                [
                  "New Zealand",
                  "Christmas Day (Observed)",
                  "Christmas Day",
                  "NZ",
                  "1971-12-27T00:00:00.000Z"
                ],
                [
                  "Northern Ireland",
                  "Christmas Day (Observed)",
                  "Christmas Day",
                  null,
                  "1971-12-27T00:00:00.000Z"
                ],
                [
                  "Scotland",
                  "Christmas Day (Observed)",
                  "Christmas Day",
                  null,
                  "1971-12-27T00:00:00.000Z"
                ],
                [
                  "United Kingdom",
                  "Christmas Day (Observed)",
                  "Christmas Day",
                  "GB",
                  "1971-12-27T00:00:00.000Z"
                ],
                [
                  "Wales",
                  "Christmas Day (Observed)",
                  "Christmas Day",
                  null,
                  "1971-12-27T00:00:00.000Z"
                ],
                [
                  "Australia",
                  "Boxing Day (Observed)",
                  "Boxing Day",
                  "AU",
                  "1971-12-28T00:00:00.000Z"
                ],
                [
                  "England",
                  "Boxing Day (Observed)",
                  "Boxing Day",
                  null,
                  "1971-12-28T00:00:00.000Z"
                ],
                [
                  "Ireland",
                  "Boxing Day (Observed)",
                  "Boxing Day",
                  "IE",
                  "1971-12-28T00:00:00.000Z"
                ],
                [
                  "Isle of Man",
                  "Boxing Day (Observed)",
                  "Boxing Day",
                  "IM",
                  "1971-12-28T00:00:00.000Z"
                ],
                [
                  "New Zealand",
                  "Boxing Day (Observed)",
                  "Boxing Day",
                  "NZ",
                  "1971-12-28T00:00:00.000Z"
                ],
                [
                  "Northern Ireland",
                  "Boxing Day (Observed)",
                  "Boxing Day",
                  null,
                  "1971-12-28T00:00:00.000Z"
                ],
                [
                  "Scotland",
                  "Boxing Day (Observed)",
                  "Boxing Day",
                  null,
                  "1971-12-28T00:00:00.000Z"
                ],
                [
                  "United Kingdom",
                  "Boxing Day (Observed)",
                  "Boxing Day",
                  "GB",
                  "1971-12-28T00:00:00.000Z"
                ],
                [
                  "Wales",
                  "Boxing Day (Observed)",
                  "Boxing Day",
                  null,
                  "1971-12-28T00:00:00.000Z"
                ],
                [
                  "Canada",
                  "New Year's Day (Observed)",
                  "New Year's Day",
                  "CA",
                  "1971-12-31T00:00:00.000Z"
                ],
                [
                  "Mexico",
                  "Año Nuevo [New Year's Day] (Observed)",
                  "Año Nuevo [New Year's Day]",
                  "MX",
                  "1971-12-31T00:00:00.000Z"
                ],
                [
                  "Sweden",
                  "Nyårsafton",
                  "Nyårsafton",
                  "SE",
                  "1971-12-31T00:00:00.000Z"
                ],
                [
                  "United States",
                  "New Year's Day (Observed)",
                  "New Year's Day",
                  "US",
                  "1971-12-31T00:00:00.000Z"
                ],
                [
                  "Argentina",
                  "Año Nuevo [New Year's Day]",
                  "Año Nuevo [New Year's Day]",
                  "AR",
                  "1972-01-01T00:00:00.000Z"
                ],
                [
                  "Australia",
                  "New Year's Day",
                  "New Year's Day",
                  "AU",
                  "1972-01-01T00:00:00.000Z"
                ],
                [
                  "Austria",
                  "Neujahr",
                  "Neujahr",
                  "AT",
                  "1972-01-01T00:00:00.000Z"
                ],
                [
                  "Belgium",
                  "Nieuwjaarsdag",
                  "Nieuwjaarsdag",
                  "BE",
                  "1972-01-01T00:00:00.000Z"
                ],
                [
                  "Brazil",
                  "Ano novo",
                  "Ano novo",
                  "BR",
                  "1972-01-01T00:00:00.000Z"
                ],
                [
                  "Canada",
                  "New Year's Day",
                  "New Year's Day",
                  "CA",
                  "1972-01-01T00:00:00.000Z"
                ],
                [
                  "Croatia",
                  "Nova Godina",
                  "Nova Godina",
                  "HR",
                  "1972-01-01T00:00:00.000Z"
                ],
                [
                  "Czech",
                  "Nový rok",
                  "Nový rok",
                  "CZ",
                  "1972-01-01T00:00:00.000Z"
                ],
                [
                  "Denmark",
                  "Nytårsdag",
                  "Nytårsdag",
                  "DK",
                  "1972-01-01T00:00:00.000Z"
                ],
                [
                  "Finland",
                  "Uudenvuodenpäivä",
                  "Uudenvuodenpäivä",
                  "FI",
                  "1972-01-01T00:00:00.000Z"
                ],
                [
                  "France",
                  "Jour de l'an",
                  "Jour de l'an",
                  "FR",
                  "1972-01-01T00:00:00.000Z"
                ],
                [
                  "Hungary",
                  "Újév",
                  "Újév",
                  "HU",
                  "1972-01-01T00:00:00.000Z"
                ],
                [
                  "Italy",
                  "Capodanno",
                  "Capodanno",
                  "IT",
                  "1972-01-01T00:00:00.000Z"
                ],
                [
                  "Japan",
                  "元日",
                  "元日",
                  "JP",
                  "1972-01-01T00:00:00.000Z"
                ],
                [
                  "Mexico",
                  "Año Nuevo [New Year's Day]",
                  "Año Nuevo [New Year's Day]",
                  "MX",
                  "1972-01-01T00:00:00.000Z"
                ],
                [
                  "Netherlands",
                  "Nieuwjaarsdag",
                  "Nieuwjaarsdag",
                  "NL",
                  "1972-01-01T00:00:00.000Z"
                ],
                [
                  "New Zealand",
                  "New Year's Day",
                  "New Year's Day",
                  "NZ",
                  "1972-01-01T00:00:00.000Z"
                ],
                [
                  "Norway",
                  "Første nyttårsdag",
                  "Første nyttårsdag",
                  "NO",
                  "1972-01-01T00:00:00.000Z"
                ],
                [
                  "Poland",
                  "Nowy Rok",
                  "Nowy Rok",
                  "PL",
                  "1972-01-01T00:00:00.000Z"
                ],
                [
                  "Portugal",
                  "Ano Novo",
                  "Ano Novo",
                  "PT",
                  "1972-01-01T00:00:00.000Z"
                ],
                [
                  "South Africa",
                  "New Year's Day",
                  "New Year's Day",
                  "ZA",
                  "1972-01-01T00:00:00.000Z"
                ],
                [
                  "Spain",
                  "Año nuevo",
                  "Año nuevo",
                  "ES",
                  "1972-01-01T00:00:00.000Z"
                ],
                [
                  "Sweden",
                  "Nyårsdagen",
                  "Nyårsdagen",
                  "SE",
                  "1972-01-01T00:00:00.000Z"
                ],
                [
                  "Switzerland",
                  "Neujahrestag",
                  "Neujahrestag",
                  "CH",
                  "1972-01-01T00:00:00.000Z"
                ],
                [
                  "Ukraine",
                  "Новий рік",
                  "Новий рік",
                  "UA",
                  "1972-01-01T00:00:00.000Z"
                ],
                [
                  "United States",
                  "New Year's Day",
                  "New Year's Day",
                  "US",
                  "1972-01-01T00:00:00.000Z"
                ],
                [
                  "New Zealand",
                  "Day after New Year's Day",
                  "Day after New Year's Day",
                  "NZ",
                  "1972-01-02T00:00:00.000Z"
                ],
                [
                  "Norway",
                  "Søndag",
                  "Søndag",
                  "NO",
                  "1972-01-02T00:00:00.000Z"
                ],
                [
                  "Scotland",
                  "New Year Holiday",
                  "New Year Holiday",
                  null,
                  "1972-01-02T00:00:00.000Z"
                ],
                [
                  "Sweden",
                  "Söndag",
                  "Söndag",
                  "SE",
                  "1972-01-02T00:00:00.000Z"
                ],
                [
                  "United Kingdom",
                  "New Year Holiday [Scotland]",
                  "New Year Holiday",
                  "GB",
                  "1972-01-02T00:00:00.000Z"
                ],
                [
                  "Australia",
                  "New Year's Day (Observed)",
                  "New Year's Day",
                  "AU",
                  "1972-01-03T00:00:00.000Z"
                ],
                [
                  "New Zealand",
                  "New Year's Day (Observed)",
                  "New Year's Day",
                  "NZ",
                  "1972-01-03T00:00:00.000Z"
                ],
                [
                  "New Zealand",
                  "Day after New Year's Day (Observed)",
                  "Day after New Year's Day",
                  "NZ",
                  "1972-01-04T00:00:00.000Z"
                ],
                [
                  "Scotland",
                  "New Year Holiday (Observed)",
                  "New Year Holiday",
                  null,
                  "1972-01-04T00:00:00.000Z"
                ],
                [
                  "United Kingdom",
                  "New Year Holiday [Scotland] (Observed)",
                  "New Year Holiday",
                  "GB",
                  "1972-01-04T00:00:00.000Z"
                ],
                [
                  "Austria",
                  "Heilige Drei Könige",
                  "Heilige Drei Könige",
                  "AT",
                  "1972-01-06T00:00:00.000Z"
                ],
                [
                  "Croatia",
                  "Sveta tri kralja",
                  "Sveta tri kralja",
                  "HR",
                  "1972-01-06T00:00:00.000Z"
                ],
                [
                  "Finland",
                  "Loppiainen",
                  "Loppiainen",
                  "FI",
                  "1972-01-06T00:00:00.000Z"
                ],
                [
                  "Italy",
                  "Epifania del Signore",
                  "Epifania del Signore",
                  "IT",
                  "1972-01-06T00:00:00.000Z"
                ],
                [
                  "Spain",
                  "Epifanía del Señor",
                  "Epifanía del Señor",
                  "ES",
                  "1972-01-06T00:00:00.000Z"
                ],
                [
                  "Sweden",
                  "Trettondedag jul",
                  "Trettondedag jul",
                  "SE",
                  "1972-01-06T00:00:00.000Z"
                ],
                [
                  "Norway",
                  "Søndag",
                  "Søndag",
                  "NO",
                  "1972-01-09T00:00:00.000Z"
                ],
                [
                  "Sweden",
                  "Söndag",
                  "Söndag",
                  "SE",
                  "1972-01-09T00:00:00.000Z"
                ],
                [
                  "Colombia",
                  "Día de los Reyes Magos [Epiphany](Observed)",
                  "Día de los Reyes Magos [Epiphany]",
                  "CO",
                  "1972-01-10T00:00:00.000Z"
                ],
                [
                  "India",
                  "Makar Sankranti / Pongal",
                  "Makar Sankranti / Pongal",
                  "IN",
                  "1972-01-14T00:00:00.000Z"
                ],
                [
                  "Japan",
                  "成人の日",
                  "成人の日",
                  "JP",
                  "1972-01-15T00:00:00.000Z"
                ],
                [
                  "Norway",
                  "Søndag",
                  "Søndag",
                  "NO",
                  "1972-01-16T00:00:00.000Z"
                ],
                [
                  "Sweden",
                  "Söndag",
                  "Söndag",
                  "SE",
                  "1972-01-16T00:00:00.000Z"
                ],
                [
                  "Norway",
                  "Søndag",
                  "Søndag",
                  "NO",
                  "1972-01-23T00:00:00.000Z"
                ],
                [
                  "Sweden",
                  "Söndag",
                  "Söndag",
                  "SE",
                  "1972-01-23T00:00:00.000Z"
                ],
                [
                  "Australia",
                  "Australia Day",
                  "Australia Day",
                  "AU",
                  "1972-01-26T00:00:00.000Z"
                ],
                [
                  "India",
                  "Republic Day",
                  "Republic Day",
                  "IN",
                  "1972-01-26T00:00:00.000Z"
                ],
                [
                  "Norway",
                  "Søndag",
                  "Søndag",
                  "NO",
                  "1972-01-30T00:00:00.000Z"
                ],
                [
                  "Sweden",
                  "Söndag",
                  "Söndag",
                  "SE",
                  "1972-01-30T00:00:00.000Z"
                ],
                [
                  "Mexico",
                  "Día de la Constitución [Constitution Day]",
                  "Día de la Constitución [Constitution Day]",
                  "MX",
                  "1972-02-05T00:00:00.000Z"
                ],
                [
                  "Norway",
                  "Søndag",
                  "Søndag",
                  "NO",
                  "1972-02-06T00:00:00.000Z"
                ],
                [
                  "Sweden",
                  "Söndag",
                  "Söndag",
                  "SE",
                  "1972-02-06T00:00:00.000Z"
                ],
                [
                  "Japan",
                  "建国記念の日",
                  "建国記念の日",
                  "JP",
                  "1972-02-11T00:00:00.000Z"
                ],
                [
                  "Norway",
                  "Søndag",
                  "Søndag",
                  "NO",
                  "1972-02-13T00:00:00.000Z"
                ],
                [
                  "Sweden",
                  "Söndag",
                  "Söndag",
                  "SE",
                  "1972-02-13T00:00:00.000Z"
                ],
                [
                  "Argentina",
                  "Día de Carnaval [Carnival's Day]",
                  "Día de Carnaval [Carnival's Day]",
                  "AR",
                  "1972-02-14T00:00:00.000Z"
                ],
                [
                  "Argentina",
                  "Día de Carnaval [Carnival's Day]",
                  "Día de Carnaval [Carnival's Day]",
                  "AR",
                  "1972-02-15T00:00:00.000Z"
                ],
                [
                  "Brazil",
                  "Carnaval",
                  "Carnaval",
                  "BR",
                  "1972-02-15T00:00:00.000Z"
                ],
                [
                  "Brazil",
                  "Quarta-feira de cinzas (Início da Quaresma)",
                  "Quarta-feira de cinzas (Início da Quaresma)",
                  "BR",
                  "1972-02-16T00:00:00.000Z"
                ],
                [
                  "Norway",
                  "Søndag",
                  "Søndag",
                  "NO",
                  "1972-02-20T00:00:00.000Z"
                ],
                [
                  "Sweden",
                  "Söndag",
                  "Söndag",
                  "SE",
                  "1972-02-20T00:00:00.000Z"
                ],
                [
                  "United States",
                  "Washington's Birthday",
                  "Washington's Birthday",
                  "US",
                  "1972-02-21T00:00:00.000Z"
                ],
                [
                  "Norway",
                  "Søndag",
                  "Søndag",
                  "NO",
                  "1972-02-27T00:00:00.000Z"
                ],
                [
                  "Sweden",
                  "Söndag",
                  "Söndag",
                  "SE",
                  "1972-02-27T00:00:00.000Z"
                ],
                [
                  "Norway",
                  "Søndag",
                  "Søndag",
                  "NO",
                  "1972-03-05T00:00:00.000Z"
                ],
                [
                  "Sweden",
                  "Söndag",
                  "Söndag",
                  "SE",
                  "1972-03-05T00:00:00.000Z"
                ],
                [
                  "Ukraine",
                  "Міжнародний жіночий день",
                  "Міжнародний жіночий день",
                  "UA",
                  "1972-03-08T00:00:00.000Z"
                ],
                [
                  "Norway",
                  "Søndag",
                  "Søndag",
                  "NO",
                  "1972-03-12T00:00:00.000Z"
                ],
                [
                  "Sweden",
                  "Söndag",
                  "Söndag",
                  "SE",
                  "1972-03-12T00:00:00.000Z"
                ],
                [
                  "Ireland",
                  "St. Patrick's Day",
                  "St. Patrick's Day",
                  "IE",
                  "1972-03-17T00:00:00.000Z"
                ],
                [
                  "Northern Ireland",
                  "St. Patrick's Day",
                  "St. Patrick's Day",
                  null,
                  "1972-03-17T00:00:00.000Z"
                ],
                [
                  "United Kingdom",
                  "St. Patrick's Day [Northern Ireland]",
                  "St. Patrick's Day",
                  "GB",
                  "1972-03-17T00:00:00.000Z"
                ],
                [
                  "Norway",
                  "Søndag",
                  "Søndag",
                  "NO",
                  "1972-03-19T00:00:00.000Z"
                ],
                [
                  "Sweden",
                  "Söndag",
                  "Söndag",
                  "SE",
                  "1972-03-19T00:00:00.000Z"
                ],
                [
                  "Colombia",
                  "Día de San José [Saint Joseph's Day](Observed)",
                  "Día de San José [Saint Joseph's Day]",
                  "CO",
                  "1972-03-20T00:00:00.000Z"
                ],
                [
                  "Japan",
                  "春分の日",
                  "春分の日",
                  "JP",
                  "1972-03-20T00:00:00.000Z"
                ],
                [
                  "Hungary",
                  "A Tanácsköztársaság kikiáltásának ünnepe",
                  "A Tanácsköztársaság kikiáltásának ünnepe",
                  "HU",
                  "1972-03-21T00:00:00.000Z"
                ],
                [
                  "Mexico",
                  "Natalicio de Benito Juárez [Benito Juárez's birthday]",
                  "Natalicio de Benito Juárez [Benito Juárez's birthday]",
                  "MX",
                  "1972-03-21T00:00:00.000Z"
                ],
                [
                  "Argentina",
                  "Día Nacional de la Memoria por la Verdad y la Justicia [Memory's National Day for the Truth and Justice]",
                  "Día Nacional de la Memoria por la Verdad y la Justicia [Memory's National Day for the Truth and Justice]",
                  "AR",
                  "1972-03-24T00:00:00.000Z"
                ],
                [
                  "Denmark",
                  "Palmesøndag",
                  "Palmesøndag",
                  "DK",
                  "1972-03-26T00:00:00.000Z"
                ],
                [
                  "Norway",
                  "Søndag",
                  "Søndag",
                  "NO",
                  "1972-03-26T00:00:00.000Z"
                ],
                [
                  "Sweden",
                  "Söndag",
                  "Söndag",
                  "SE",
                  "1972-03-26T00:00:00.000Z"
                ],
                [
                  "Argentina",
                  "Semana Santa (Jueves Santo)  [Holy day (Holy Thursday)]",
                  "Semana Santa (Jueves Santo)  [Holy day (Holy Thursday)]",
                  "AR",
                  "1972-03-30T00:00:00.000Z"
                ],
                [
                  "Colombia",
                  "Jueves Santo [Maundy Thursday]",
                  "Jueves Santo [Maundy Thursday]",
                  "CO",
                  "1972-03-30T00:00:00.000Z"
                ],
                [
                  "Denmark",
                  "Skærtorsdag",
                  "Skærtorsdag",
                  "DK",
                  "1972-03-30T00:00:00.000Z"
                ],
                [
                  "Norway",
                  "Skjærtorsdag",
                  "Skjærtorsdag",
                  "NO",
                  "1972-03-30T00:00:00.000Z"
                ],
                [
                  "Argentina",
                  "Semana Santa (Viernes Santo)  [Holy day (Holy Friday)]",
                  "Semana Santa (Viernes Santo)  [Holy day (Holy Friday)]",
                  "AR",
                  "1972-03-31T00:00:00.000Z"
                ],
                [
                  "Australia",
                  "Good Friday",
                  "Good Friday",
                  "AU",
                  "1972-03-31T00:00:00.000Z"
                ],
                [
                  "Brazil",
                  "Sexta-feira Santa",
                  "Sexta-feira Santa",
                  "BR",
                  "1972-03-31T00:00:00.000Z"
                ],
                [
                  "Canada",
                  "Good Friday",
                  "Good Friday",
                  "CA",
                  "1972-03-31T00:00:00.000Z"
                ],
                [
                  "Colombia",
                  "Viernes Santo [Good Friday]",
                  "Viernes Santo [Good Friday]",
                  "CO",
                  "1972-03-31T00:00:00.000Z"
                ],
                [
                  "Denmark",
                  "Langfredag",
                  "Langfredag",
                  "DK",
                  "1972-03-31T00:00:00.000Z"
                ],
                [
                  "England",
                  "Good Friday",
                  "Good Friday",
                  null,
                  "1972-03-31T00:00:00.000Z"
                ],
                [
                  "Finland",
                  "Pitkäperjantai",
                  "Pitkäperjantai",
                  "FI",
                  "1972-03-31T00:00:00.000Z"
                ],
                [
                  "Isle of Man",
                  "Good Friday",
                  "Good Friday",
                  "IM",
                  "1972-03-31T00:00:00.000Z"
                ],
                [
                  "New Zealand",
                  "Good Friday",
                  "Good Friday",
                  "NZ",
                  "1972-03-31T00:00:00.000Z"
                ],
                [
                  "Northern Ireland",
                  "Good Friday",
                  "Good Friday",
                  null,
                  "1972-03-31T00:00:00.000Z"
                ],
                [
                  "Norway",
                  "Langfredag",
                  "Langfredag",
                  "NO",
                  "1972-03-31T00:00:00.000Z"
                ],
                [
                  "Portugal",
                  "Sexta-feira Santa",
                  "Sexta-feira Santa",
                  "PT",
                  "1972-03-31T00:00:00.000Z"
                ],
                [
                  "Scotland",
                  "Good Friday",
                  "Good Friday",
                  null,
                  "1972-03-31T00:00:00.000Z"
                ],
                [
                  "South Africa",
                  "Good Friday",
                  "Good Friday",
                  "ZA",
                  "1972-03-31T00:00:00.000Z"
                ],
                [
                  "Sweden",
                  "Långfredagen",
                  "Långfredagen",
                  "SE",
                  "1972-03-31T00:00:00.000Z"
                ],
                [
                  "Switzerland",
                  "Karfreitag",
                  "Karfreitag",
                  "CH",
                  "1972-03-31T00:00:00.000Z"
                ],
                [
                  "United Kingdom",
                  "Good Friday",
                  "Good Friday",
                  "GB",
                  "1972-03-31T00:00:00.000Z"
                ],
                [
                  "Wales",
                  "Good Friday",
                  "Good Friday",
                  null,
                  "1972-03-31T00:00:00.000Z"
                ],
                [
                  "Argentina",
                  "Día del Veterano y de los Caidos en la Guerra de Malvinas [Veterans Day and the Fallen in the Malvinas War], Día de Pascuas [Easter Day]",
                  "Día del Veterano y de los Caidos en la Guerra de Malvinas [Veterans Day and the Fallen in the Malvinas War], Día de Pascuas [Easter Day]",
                  "AR",
                  "1972-04-02T00:00:00.000Z"
                ],
                [
                  "Belgium",
                  "Pasen",
                  "Pasen",
                  "BE",
                  "1972-04-02T00:00:00.000Z"
                ],
                [
                  "Brazil",
                  "Páscoa",
                  "Páscoa",
                  "BR",
                  "1972-04-02T00:00:00.000Z"
                ],
                [
                  "Croatia",
                  "Uskrs",
                  "Uskrs",
                  "HR",
                  "1972-04-02T00:00:00.000Z"
                ],
                [
                  "Denmark",
                  "Påskedag",
                  "Påskedag",
                  "DK",
                  "1972-04-02T00:00:00.000Z"
                ],
                [
                  "Finland",
                  "Pääsiäispäivä",
                  "Pääsiäispäivä",
                  "FI",
                  "1972-04-02T00:00:00.000Z"
                ],
                [
                  "Hungary",
                  "Húsvét",
                  "Húsvét",
                  "HU",
                  "1972-04-02T00:00:00.000Z"
                ],
                [
                  "Italy",
                  "Pasqua di Resurrezione",
                  "Pasqua di Resurrezione",
                  "IT",
                  "1972-04-02T00:00:00.000Z"
                ],
                [
                  "Netherlands",
                  "Eerste paasdag",
                  "Eerste paasdag",
                  "NL",
                  "1972-04-02T00:00:00.000Z"
                ],
                [
                  "Norway",
                  "Første påskedag, Søndag",
                  "Første påskedag, Søndag",
                  "NO",
                  "1972-04-02T00:00:00.000Z"
                ],
                [
                  "Poland",
                  "Niedziela Wielkanocna",
                  "Niedziela Wielkanocna",
                  "PL",
                  "1972-04-02T00:00:00.000Z"
                ],
                [
                  "Portugal",
                  "Páscoa",
                  "Páscoa",
                  "PT",
                  "1972-04-02T00:00:00.000Z"
                ],
                [
                  "Sweden",
                  "Påskdagen, Söndag",
                  "Påskdagen, Söndag",
                  "SE",
                  "1972-04-02T00:00:00.000Z"
                ],
                [
                  "Switzerland",
                  "Ostern",
                  "Ostern",
                  "CH",
                  "1972-04-02T00:00:00.000Z"
                ],
                [
                  "Australia",
                  "Easter Monday",
                  "Easter Monday",
                  "AU",
                  "1972-04-03T00:00:00.000Z"
                ],
                [
                  "Austria",
                  "Ostermontag",
                  "Ostermontag",
                  "AT",
                  "1972-04-03T00:00:00.000Z"
                ],
                [
                  "Belgium",
                  "Paasmaandag",
                  "Paasmaandag",
                  "BE",
                  "1972-04-03T00:00:00.000Z"
                ],
                [
                  "Croatia",
                  "Uskrsni ponedjeljak",
                  "Uskrsni ponedjeljak",
                  "HR",
                  "1972-04-03T00:00:00.000Z"
                ],
                [
                  "Czech",
                  "Velikonoční pondělí",
                  "Velikonoční pondělí",
                  "CZ",
                  "1972-04-03T00:00:00.000Z"
                ],
                [
                  "Denmark",
                  "Anden påskedag",
                  "Anden påskedag",
                  "DK",
                  "1972-04-03T00:00:00.000Z"
                ],
                [
                  "England",
                  "Easter Monday",
                  "Easter Monday",
                  null,
                  "1972-04-03T00:00:00.000Z"
                ],
                [
                  "Finland",
                  "2. pääsiäispäivä",
                  "2. pääsiäispäivä",
                  "FI",
                  "1972-04-03T00:00:00.000Z"
                ],
                [
                  "France",
                  "Lundi de Pâques",
                  "Lundi de Pâques",
                  "FR",
                  "1972-04-03T00:00:00.000Z"
                ],
                [
                  "Hungary",
                  "Húsvét Hétfő",
                  "Húsvét Hétfő",
                  "HU",
                  "1972-04-03T00:00:00.000Z"
                ],
                [
                  "Ireland",
                  "Easter Monday",
                  "Easter Monday",
                  "IE",
                  "1972-04-03T00:00:00.000Z"
                ],
                [
                  "Isle of Man",
                  "Easter Monday",
                  "Easter Monday",
                  "IM",
                  "1972-04-03T00:00:00.000Z"
                ],
                [
                  "Italy",
                  "Lunedì dell'Angelo",
                  "Lunedì dell'Angelo",
                  "IT",
                  "1972-04-03T00:00:00.000Z"
                ],
                [
                  "Netherlands",
                  "Tweede paasdag",
                  "Tweede paasdag",
                  "NL",
                  "1972-04-03T00:00:00.000Z"
                ],
                [
                  "New Zealand",
                  "Easter Monday",
                  "Easter Monday",
                  "NZ",
                  "1972-04-03T00:00:00.000Z"
                ],
                [
                  "Northern Ireland",
                  "Easter Monday",
                  "Easter Monday",
                  null,
                  "1972-04-03T00:00:00.000Z"
                ],
                [
                  "Norway",
                  "Andre påskedag",
                  "Andre påskedag",
                  "NO",
                  "1972-04-03T00:00:00.000Z"
                ],
                [
                  "Poland",
                  "Poniedziałek Wielkanocny",
                  "Poniedziałek Wielkanocny",
                  "PL",
                  "1972-04-03T00:00:00.000Z"
                ],
                [
                  "South Africa",
                  "Easter Monday",
                  "Easter Monday",
                  "ZA",
                  "1972-04-03T00:00:00.000Z"
                ],
                [
                  "Sweden",
                  "Annandag påsk",
                  "Annandag påsk",
                  "SE",
                  "1972-04-03T00:00:00.000Z"
                ],
                [
                  "Switzerland",
                  "Ostermontag",
                  "Ostermontag",
                  "CH",
                  "1972-04-03T00:00:00.000Z"
                ],
                [
                  "United Kingdom",
                  "Easter Monday [England, Wales, Northern Ireland]",
                  "Easter Monday",
                  "GB",
                  "1972-04-03T00:00:00.000Z"
                ],
                [
                  "Wales",
                  "Easter Monday",
                  "Easter Monday",
                  null,
                  "1972-04-03T00:00:00.000Z"
                ],
                [
                  "Hungary",
                  "A felszabadulás ünnepe",
                  "A felszabadulás ünnepe",
                  "HU",
                  "1972-04-04T00:00:00.000Z"
                ],
                [
                  "South Africa",
                  "Van Riebeeck's Day",
                  "Van Riebeeck's Day",
                  "ZA",
                  "1972-04-06T00:00:00.000Z"
                ],
                [
                  "Norway",
                  "Søndag",
                  "Søndag",
                  "NO",
                  "1972-04-09T00:00:00.000Z"
                ],
                [
                  "Sweden",
                  "Söndag",
                  "Söndag",
                  "SE",
                  "1972-04-09T00:00:00.000Z"
                ],
                [
                  "Norway",
                  "Søndag",
                  "Søndag",
                  "NO",
                  "1972-04-16T00:00:00.000Z"
                ],
                [
                  "Sweden",
                  "Söndag",
                  "Söndag",
                  "SE",
                  "1972-04-16T00:00:00.000Z"
                ],
                [
                  "Brazil",
                  "Tiradentes",
                  "Tiradentes",
                  "BR",
                  "1972-04-21T00:00:00.000Z"
                ],
                [
                  "Norway",
                  "Søndag",
                  "Søndag",
                  "NO",
                  "1972-04-23T00:00:00.000Z"
                ],
                [
                  "Sweden",
                  "Söndag",
                  "Söndag",
                  "SE",
                  "1972-04-23T00:00:00.000Z"
                ],
                [
                  "Australia",
                  "Anzac Day",
                  "Anzac Day",
                  "AU",
                  "1972-04-25T00:00:00.000Z"
                ],
                [
                  "Italy",
                  "Festa della Liberazione",
                  "Festa della Liberazione",
                  "IT",
                  "1972-04-25T00:00:00.000Z"
                ],
                [
                  "New Zealand",
                  "Anzac Day",
                  "Anzac Day",
                  "NZ",
                  "1972-04-25T00:00:00.000Z"
                ],
                [
                  "Portugal",
                  "Dia da Liberdade",
                  "Dia da Liberdade",
                  "PT",
                  "1972-04-25T00:00:00.000Z"
                ],
                [
                  "Denmark",
                  "Store bededag",
                  "Store bededag",
                  "DK",
                  "1972-04-28T00:00:00.000Z"
                ],
                [
                  "Japan",
                  "天皇誕生日",
                  "天皇誕生日",
                  "JP",
                  "1972-04-29T00:00:00.000Z"
                ],
                [
                  "Norway",
                  "Søndag",
                  "Søndag",
                  "NO",
                  "1972-04-30T00:00:00.000Z"
                ],
                [
                  "Sweden",
                  "Söndag",
                  "Söndag",
                  "SE",
                  "1972-04-30T00:00:00.000Z"
                ],
                [
                  "Argentina",
                  "Día del Trabajo [Labour Day]",
                  "Día del Trabajo [Labour Day]",
                  "AR",
                  "1972-05-01T00:00:00.000Z"
                ],
                [
                  "Austria",
                  "Staatsfeiertag",
                  "Staatsfeiertag",
                  "AT",
                  "1972-05-01T00:00:00.000Z"
                ],
                [
                  "Belgium",
                  "Dag van de Arbeid",
                  "Dag van de Arbeid",
                  "BE",
                  "1972-05-01T00:00:00.000Z"
                ],
                [
                  "Brazil",
                  "Dia Mundial do Trabalho",
                  "Dia Mundial do Trabalho",
                  "BR",
                  "1972-05-01T00:00:00.000Z"
                ],
                [
                  "Colombia",
                  "Día del Trabajo [Labour Day]",
                  "Día del Trabajo [Labour Day]",
                  "CO",
                  "1972-05-01T00:00:00.000Z"
                ],
                [
                  "Croatia",
                  "Međunarodni praznik rada",
                  "Međunarodni praznik rada",
                  "HR",
                  "1972-05-01T00:00:00.000Z"
                ],
                [
                  "Czech",
                  "Svátek práce",
                  "Svátek práce",
                  "CZ",
                  "1972-05-01T00:00:00.000Z"
                ],
                [
                  "Finland",
                  "Vappu",
                  "Vappu",
                  "FI",
                  "1972-05-01T00:00:00.000Z"
                ],
                [
                  "France",
                  "Fête du Travail",
                  "Fête du Travail",
                  "FR",
                  "1972-05-01T00:00:00.000Z"
                ],
                [
                  "Hungary",
                  "A Munka ünnepe",
                  "A Munka ünnepe",
                  "HU",
                  "1972-05-01T00:00:00.000Z"
                ],
                [
                  "India",
                  "Labour Day",
                  "Labour Day",
                  "IN",
                  "1972-05-01T00:00:00.000Z"
                ],
                [
                  "Italy",
                  "Festa dei Lavoratori",
                  "Festa dei Lavoratori",
                  "IT",
                  "1972-05-01T00:00:00.000Z"
                ],
                [
                  "Mexico",
                  "Día del Trabajo [Labour Day]",
                  "Día del Trabajo [Labour Day]",
                  "MX",
                  "1972-05-01T00:00:00.000Z"
                ],
                [
                  "Netherlands",
                  "Koninginnedag",
                  "Koninginnedag",
                  "NL",
                  "1972-05-01T00:00:00.000Z"
                ],
                [
                  "Norway",
                  "Arbeidernes dag",
                  "Arbeidernes dag",
                  "NO",
                  "1972-05-01T00:00:00.000Z"
                ],
                [
                  "Poland",
                  "Święto Państwowe",
                  "Święto Państwowe",
                  "PL",
                  "1972-05-01T00:00:00.000Z"
                ],
                [
                  "Portugal",
                  "Dia do Trabalhador",
                  "Dia do Trabalhador",
                  "PT",
                  "1972-05-01T00:00:00.000Z"
                ],
                [
                  "Sweden",
                  "Första maj",
                  "Första maj",
                  "SE",
                  "1972-05-01T00:00:00.000Z"
                ],
                [
                  "Ukraine",
                  "День міжнародної солідарності трудящих",
                  "День міжнародної солідарності трудящих",
                  "UA",
                  "1972-05-01T00:00:00.000Z"
                ],
                [
                  "Ukraine",
                  "День міжнародної солідарності трудящих",
                  "День міжнародної солідарності трудящих",
                  "UA",
                  "1972-05-02T00:00:00.000Z"
                ],
                [
                  "Japan",
                  "憲法記念日",
                  "憲法記念日",
                  "JP",
                  "1972-05-03T00:00:00.000Z"
                ],
                [
                  "Poland",
                  "Święto Narodowe Trzeciego Maja",
                  "Święto Narodowe Trzeciego Maja",
                  "PL",
                  "1972-05-03T00:00:00.000Z"
                ],
                [
                  "Japan",
                  "こどもの日",
                  "こどもの日",
                  "JP",
                  "1972-05-05T00:00:00.000Z"
                ],
                [
                  "Norway",
                  "Søndag",
                  "Søndag",
                  "NO",
                  "1972-05-07T00:00:00.000Z"
                ],
                [
                  "Sweden",
                  "Söndag",
                  "Söndag",
                  "SE",
                  "1972-05-07T00:00:00.000Z"
                ],
                [
                  "Czech",
                  "Den vítězství nad hitlerovským fašismem",
                  "Den vítězství nad hitlerovským fašismem",
                  "CZ",
                  "1972-05-09T00:00:00.000Z"
                ],
                [
                  "Ukraine",
                  "День перемоги",
                  "День перемоги",
                  "UA",
                  "1972-05-09T00:00:00.000Z"
                ],
                [
                  "Austria",
                  "Christi Himmelfahrt",
                  "Christi Himmelfahrt",
                  "AT",
                  "1972-05-11T00:00:00.000Z"
                ],
                [
                  "Belgium",
                  "O.L.H. Hemelvaart",
                  "O.L.H. Hemelvaart",
                  "BE",
                  "1972-05-11T00:00:00.000Z"
                ],
                [
                  "Denmark",
                  "Kristi himmelfartsdag",
                  "Kristi himmelfartsdag",
                  "DK",
                  "1972-05-11T00:00:00.000Z"
                ],
                [
                  "Finland",
                  "Helatorstai",
                  "Helatorstai",
                  "FI",
                  "1972-05-11T00:00:00.000Z"
                ],
                [
                  "France",
                  "Ascension",
                  "Ascension",
                  "FR",
                  "1972-05-11T00:00:00.000Z"
                ],
                [
                  "Netherlands",
                  "Hemelvaart",
                  "Hemelvaart",
                  "NL",
                  "1972-05-11T00:00:00.000Z"
                ],
                [
                  "Norway",
                  "Kristi himmelfartsdag",
                  "Kristi himmelfartsdag",
                  "NO",
                  "1972-05-11T00:00:00.000Z"
                ],
                [
                  "Sweden",
                  "Kristi himmelsfärdsdag",
                  "Kristi himmelsfärdsdag",
                  "SE",
                  "1972-05-11T00:00:00.000Z"
                ],
                [
                  "Switzerland",
                  "Auffahrt",
                  "Auffahrt",
                  "CH",
                  "1972-05-11T00:00:00.000Z"
                ],
                [
                  "South Africa",
                  "Ascension Day",
                  "Ascension Day",
                  "ZA",
                  "1972-05-12T00:00:00.000Z"
                ],
                [
                  "Norway",
                  "Søndag",
                  "Søndag",
                  "NO",
                  "1972-05-14T00:00:00.000Z"
                ],
                [
                  "Sweden",
                  "Söndag",
                  "Söndag",
                  "SE",
                  "1972-05-14T00:00:00.000Z"
                ],
                [
                  "Colombia",
                  "Ascensión del señor [Ascension of Jesus](Observed)",
                  "Ascensión del señor [Ascension of Jesus]",
                  "CO",
                  "1972-05-15T00:00:00.000Z"
                ],
                [
                  "Norway",
                  "Grunnlovsdag",
                  "Grunnlovsdag",
                  "NO",
                  "1972-05-17T00:00:00.000Z"
                ],
                [
                  "Belgium",
                  "Pinksteren",
                  "Pinksteren",
                  "BE",
                  "1972-05-21T00:00:00.000Z"
                ],
                [
                  "Denmark",
                  "Pinsedag",
                  "Pinsedag",
                  "DK",
                  "1972-05-21T00:00:00.000Z"
                ],
                [
                  "Finland",
                  "Helluntaipäivä",
                  "Helluntaipäivä",
                  "FI",
                  "1972-05-21T00:00:00.000Z"
                ],
                [
                  "Hungary",
                  "Pünkösd",
                  "Pünkösd",
                  "HU",
                  "1972-05-21T00:00:00.000Z"
                ],
                [
                  "Netherlands",
                  "Eerste Pinksterdag",
                  "Eerste Pinksterdag",
                  "NL",
                  "1972-05-21T00:00:00.000Z"
                ],
                [
                  "Norway",
                  "Første pinsedag, Søndag",
                  "Første pinsedag, Søndag",
                  "NO",
                  "1972-05-21T00:00:00.000Z"
                ],
                [
                  "Poland",
                  "Zielone Świątki",
                  "Zielone Świątki",
                  "PL",
                  "1972-05-21T00:00:00.000Z"
                ],
                [
                  "Sweden",
                  "Pingstdagen, Söndag",
                  "Pingstdagen, Söndag",
                  "SE",
                  "1972-05-21T00:00:00.000Z"
                ],
                [
                  "Switzerland",
                  "Pfingsten",
                  "Pfingsten",
                  "CH",
                  "1972-05-21T00:00:00.000Z"
                ],
                [
                  "Austria",
                  "Pfingstmontag",
                  "Pfingstmontag",
                  "AT",
                  "1972-05-22T00:00:00.000Z"
                ],
                [
                  "Belgium",
                  "Pinkstermaandag",
                  "Pinkstermaandag",
                  "BE",
                  "1972-05-22T00:00:00.000Z"
                ],
                [
                  "Canada",
                  "Victoria Day",
                  "Victoria Day",
                  "CA",
                  "1972-05-22T00:00:00.000Z"
                ],
                [
                  "Denmark",
                  "Anden pinsedag",
                  "Anden pinsedag",
                  "DK",
                  "1972-05-22T00:00:00.000Z"
                ],
                [
                  "France",
                  "Lundi de Pentecôte",
                  "Lundi de Pentecôte",
                  "FR",
                  "1972-05-22T00:00:00.000Z"
                ],
                [
                  "Netherlands",
                  "Tweede Pinksterdag",
                  "Tweede Pinksterdag",
                  "NL",
                  "1972-05-22T00:00:00.000Z"
                ],
                [
                  "Norway",
                  "Andre pinsedag",
                  "Andre pinsedag",
                  "NO",
                  "1972-05-22T00:00:00.000Z"
                ],
                [
                  "Sweden",
                  "Annandag pingst",
                  "Annandag pingst",
                  "SE",
                  "1972-05-22T00:00:00.000Z"
                ],
                [
                  "Switzerland",
                  "Pfingstmontag",
                  "Pfingstmontag",
                  "CH",
                  "1972-05-22T00:00:00.000Z"
                ],
                [
                  "Argentina",
                  "Día de la Revolucion de Mayo [May Revolution Day]",
                  "Día de la Revolucion de Mayo [May Revolution Day]",
                  "AR",
                  "1972-05-25T00:00:00.000Z"
                ],
                [
                  "Norway",
                  "Søndag",
                  "Søndag",
                  "NO",
                  "1972-05-28T00:00:00.000Z"
                ],
                [
                  "Sweden",
                  "Söndag",
                  "Söndag",
                  "SE",
                  "1972-05-28T00:00:00.000Z"
                ],
                [
                  "England",
                  "Spring Bank Holiday",
                  "Spring Bank Holiday",
                  null,
                  "1972-05-29T00:00:00.000Z"
                ],
                [
                  "Isle of Man",
                  "Spring Bank Holiday",
                  "Spring Bank Holiday",
                  "IM",
                  "1972-05-29T00:00:00.000Z"
                ],
                [
                  "Northern Ireland",
                  "Spring Bank Holiday",
                  "Spring Bank Holiday",
                  null,
                  "1972-05-29T00:00:00.000Z"
                ],
                [
                  "Scotland",
                  "Spring Bank Holiday",
                  "Spring Bank Holiday",
                  null,
                  "1972-05-29T00:00:00.000Z"
                ],
                [
                  "United Kingdom",
                  "Spring Bank Holiday",
                  "Spring Bank Holiday",
                  "GB",
                  "1972-05-29T00:00:00.000Z"
                ],
                [
                  "United States",
                  "Memorial Day",
                  "Memorial Day",
                  "US",
                  "1972-05-29T00:00:00.000Z"
                ],
                [
                  "Wales",
                  "Spring Bank Holiday",
                  "Spring Bank Holiday",
                  null,
                  "1972-05-29T00:00:00.000Z"
                ],
                [
                  "South Africa",
                  "Republic Day",
                  "Republic Day",
                  "ZA",
                  "1972-05-31T00:00:00.000Z"
                ],
                [
                  "Austria",
                  "Fronleichnam",
                  "Fronleichnam",
                  "AT",
                  "1972-06-01T00:00:00.000Z"
                ],
                [
                  "Brazil",
                  "Corpus Christi",
                  "Corpus Christi",
                  "BR",
                  "1972-06-01T00:00:00.000Z"
                ],
                [
                  "Croatia",
                  "Tijelovo",
                  "Tijelovo",
                  "HR",
                  "1972-06-01T00:00:00.000Z"
                ],
                [
                  "Poland",
                  "Dzień Bożego Ciała",
                  "Dzień Bożego Ciała",
                  "PL",
                  "1972-06-01T00:00:00.000Z"
                ],
                [
                  "Portugal",
                  "Corpo de Deus",
                  "Corpo de Deus",
                  "PT",
                  "1972-06-01T00:00:00.000Z"
                ],
                [
                  "Isle of Man",
                  "TT Bank Holiday",
                  "TT Bank Holiday",
                  "IM",
                  "1972-06-02T00:00:00.000Z"
                ],
                [
                  "Italy",
                  "Festa della Repubblica",
                  "Festa della Repubblica",
                  "IT",
                  "1972-06-02T00:00:00.000Z"
                ],
                [
                  "Norway",
                  "Søndag",
                  "Søndag",
                  "NO",
                  "1972-06-04T00:00:00.000Z"
                ],
                [
                  "Sweden",
                  "Söndag",
                  "Söndag",
                  "SE",
                  "1972-06-04T00:00:00.000Z"
                ],
                [
                  "Colombia",
                  "Corpus Christi [Corpus Christi](Observed)",
                  "Corpus Christi [Corpus Christi]",
                  "CO",
                  "1972-06-05T00:00:00.000Z"
                ],
                [
                  "Ireland",
                  "June Bank Holiday",
                  "June Bank Holiday",
                  "IE",
                  "1972-06-05T00:00:00.000Z"
                ],
                [
                  "New Zealand",
                  "Queen's Birthday",
                  "Queen's Birthday",
                  "NZ",
                  "1972-06-05T00:00:00.000Z"
                ],
                [
                  "Portugal",
                  "Dia de Portugal",
                  "Dia de Portugal",
                  "PT",
                  "1972-06-10T00:00:00.000Z"
                ],
                [
                  "Norway",
                  "Søndag",
                  "Søndag",
                  "NO",
                  "1972-06-11T00:00:00.000Z"
                ],
                [
                  "Sweden",
                  "Söndag",
                  "Söndag",
                  "SE",
                  "1972-06-11T00:00:00.000Z"
                ],
                [
                  "Colombia",
                  "Sagrado Corazón [Sacred Heart](Observed)",
                  "Sagrado Corazón [Sacred Heart]",
                  "CO",
                  "1972-06-12T00:00:00.000Z"
                ],
                [
                  "Argentina",
                  "Día Pase a la Inmortalidad del General Martín Miguel de Güemes [Day Pass to the Immortality of General Martín Miguel de Güemes]",
                  "Día Pase a la Inmortalidad del General Martín Miguel de Güemes [Day Pass to the Immortality of General Martín Miguel de Güemes]",
                  "AR",
                  "1972-06-17T00:00:00.000Z"
                ],
                [
                  "Norway",
                  "Søndag",
                  "Søndag",
                  "NO",
                  "1972-06-18T00:00:00.000Z"
                ],
                [
                  "Sweden",
                  "Söndag",
                  "Söndag",
                  "SE",
                  "1972-06-18T00:00:00.000Z"
                ],
                [
                  "Argentina",
                  "Día Pase a la Inmortalidad del General D. Manuel Belgrano [Day Pass to the Immortality of General D. Manuel Belgrano]",
                  "Día Pase a la Inmortalidad del General D. Manuel Belgrano [Day Pass to the Immortality of General D. Manuel Belgrano]",
                  "AR",
                  "1972-06-20T00:00:00.000Z"
                ],
                [
                  "Croatia",
                  "Dan antifašističke borbe",
                  "Dan antifašističke borbe",
                  "HR",
                  "1972-06-22T00:00:00.000Z"
                ],
                [
                  "Finland",
                  "Juhannusaatto",
                  "Juhannusaatto",
                  "FI",
                  "1972-06-23T00:00:00.000Z"
                ],
                [
                  "Sweden",
                  "Midsommarafton",
                  "Midsommarafton",
                  "SE",
                  "1972-06-23T00:00:00.000Z"
                ],
                [
                  "Finland",
                  "Juhannuspäivä",
                  "Juhannuspäivä",
                  "FI",
                  "1972-06-24T00:00:00.000Z"
                ],
                [
                  "Sweden",
                  "Midsommardagen",
                  "Midsommardagen",
                  "SE",
                  "1972-06-24T00:00:00.000Z"
                ],
                [
                  "Croatia",
                  "Dan državnosti",
                  "Dan državnosti",
                  "HR",
                  "1972-06-25T00:00:00.000Z"
                ],
                [
                  "Norway",
                  "Søndag",
                  "Søndag",
                  "NO",
                  "1972-06-25T00:00:00.000Z"
                ],
                [
                  "Sweden",
                  "Söndag",
                  "Söndag",
                  "SE",
                  "1972-06-25T00:00:00.000Z"
                ],
                [
                  "Canada",
                  "Dominion Day",
                  "Dominion Day",
                  "CA",
                  "1972-07-01T00:00:00.000Z"
                ],
                [
                  "Norway",
                  "Søndag",
                  "Søndag",
                  "NO",
                  "1972-07-02T00:00:00.000Z"
                ],
                [
                  "Sweden",
                  "Söndag",
                  "Söndag",
                  "SE",
                  "1972-07-02T00:00:00.000Z"
                ],
                [
                  "Canada",
                  "Dominion Day (Observed)",
                  "Dominion Day",
                  "CA",
                  "1972-07-03T00:00:00.000Z"
                ],
                [
                  "Colombia",
                  "San Pedro y San Pablo [Saint Peter and Saint Paul](Observed)",
                  "San Pedro y San Pablo [Saint Peter and Saint Paul]",
                  "CO",
                  "1972-07-03T00:00:00.000Z"
                ],
                [
                  "United States",
                  "Independence Day",
                  "Independence Day",
                  "US",
                  "1972-07-04T00:00:00.000Z"
                ],
                [
                  "Czech",
                  "Den slovanských věrozvěstů Cyrila a Metoděje",
                  "Den slovanských věrozvěstů Cyrila a Metoděje",
                  "CZ",
                  "1972-07-05T00:00:00.000Z"
                ],
                [
                  "Isle of Man",
                  "Tynwald Day",
                  "Tynwald Day",
                  "IM",
                  "1972-07-05T00:00:00.000Z"
                ],
                [
                  "Czech",
                  "Den upálení mistra Jana Husa",
                  "Den upálení mistra Jana Husa",
                  "CZ",
                  "1972-07-06T00:00:00.000Z"
                ],
                [
                  "Argentina",
                  "Día de la Independencia [Independence Day]",
                  "Día de la Independencia [Independence Day]",
                  "AR",
                  "1972-07-09T00:00:00.000Z"
                ],
                [
                  "Norway",
                  "Søndag",
                  "Søndag",
                  "NO",
                  "1972-07-09T00:00:00.000Z"
                ],
                [
                  "Sweden",
                  "Söndag",
                  "Söndag",
                  "SE",
                  "1972-07-09T00:00:00.000Z"
                ],
                [
                  "South Africa",
                  "Family Day",
                  "Family Day",
                  "ZA",
                  "1972-07-10T00:00:00.000Z"
                ],
                [
                  "Northern Ireland",
                  "Battle of the Boyne",
                  "Battle of the Boyne",
                  null,
                  "1972-07-12T00:00:00.000Z"
                ],
                [
                  "United Kingdom",
                  "Battle of the Boyne [Northern Ireland]",
                  "Battle of the Boyne",
                  "GB",
                  "1972-07-12T00:00:00.000Z"
                ],
                [
                  "France",
                  "Fête nationale",
                  "Fête nationale",
                  "FR",
                  "1972-07-14T00:00:00.000Z"
                ],
                [
                  "Norway",
                  "Søndag",
                  "Søndag",
                  "NO",
                  "1972-07-16T00:00:00.000Z"
                ],
                [
                  "Sweden",
                  "Söndag",
                  "Söndag",
                  "SE",
                  "1972-07-16T00:00:00.000Z"
                ],
                [
                  "Colombia",
                  "Día de la Independencia [Independence Day]",
                  "Día de la Independencia [Independence Day]",
                  "CO",
                  "1972-07-20T00:00:00.000Z"
                ],
                [
                  "Belgium",
                  "Nationale feestdag",
                  "Nationale feestdag",
                  "BE",
                  "1972-07-21T00:00:00.000Z"
                ],
                [
                  "Norway",
                  "Søndag",
                  "Søndag",
                  "NO",
                  "1972-07-23T00:00:00.000Z"
                ],
                [
                  "Sweden",
                  "Söndag",
                  "Söndag",
                  "SE",
                  "1972-07-23T00:00:00.000Z"
                ],
                [
                  "Norway",
                  "Søndag",
                  "Søndag",
                  "NO",
                  "1972-07-30T00:00:00.000Z"
                ],
                [
                  "Sweden",
                  "Söndag",
                  "Söndag",
                  "SE",
                  "1972-07-30T00:00:00.000Z"
                ],
                [
                  "Switzerland",
                  "Nationalfeiertag",
                  "Nationalfeiertag",
                  "CH",
                  "1972-08-01T00:00:00.000Z"
                ],
                [
                  "Croatia",
                  "Dan pobjede i domovinske zahvalnosti",
                  "Dan pobjede i domovinske zahvalnosti",
                  "HR",
                  "1972-08-05T00:00:00.000Z"
                ],
                [
                  "Norway",
                  "Søndag",
                  "Søndag",
                  "NO",
                  "1972-08-06T00:00:00.000Z"
                ],
                [
                  "Sweden",
                  "Söndag",
                  "Söndag",
                  "SE",
                  "1972-08-06T00:00:00.000Z"
                ],
                [
                  "Canada",
                  "Civic Holiday",
                  "Civic Holiday",
                  "CA",
                  "1972-08-07T00:00:00.000Z"
                ],
                [
                  "Colombia",
                  "Batalla de Boyacá [Battle of Boyacá]",
                  "Batalla de Boyacá [Battle of Boyacá]",
                  "CO",
                  "1972-08-07T00:00:00.000Z"
                ],
                [
                  "Ireland",
                  "Summer Bank Holiday",
                  "Summer Bank Holiday",
                  "IE",
                  "1972-08-07T00:00:00.000Z"
                ],
                [
                  "Scotland",
                  "Summer Bank Holiday",
                  "Summer Bank Holiday",
                  null,
                  "1972-08-07T00:00:00.000Z"
                ],
                [
                  "United Kingdom",
                  "Summer Bank Holiday [Scotland]",
                  "Summer Bank Holiday",
                  "GB",
                  "1972-08-07T00:00:00.000Z"
                ],
                [
                  "Norway",
                  "Søndag",
                  "Søndag",
                  "NO",
                  "1972-08-13T00:00:00.000Z"
                ],
                [
                  "Sweden",
                  "Söndag",
                  "Söndag",
                  "SE",
                  "1972-08-13T00:00:00.000Z"
                ],
                [
                  "Austria",
                  "Mariä Himmelfahrt",
                  "Mariä Himmelfahrt",
                  "AT",
                  "1972-08-15T00:00:00.000Z"
                ],
                [
                  "Belgium",
                  "O.L.V. Hemelvaart",
                  "O.L.V. Hemelvaart",
                  "BE",
                  "1972-08-15T00:00:00.000Z"
                ],
                [
                  "Croatia",
                  "Velika Gospa",
                  "Velika Gospa",
                  "HR",
                  "1972-08-15T00:00:00.000Z"
                ],
                [
                  "France",
                  "Assomption",
                  "Assomption",
                  "FR",
                  "1972-08-15T00:00:00.000Z"
                ],
                [
                  "India",
                  "Independence Day",
                  "Independence Day",
                  "IN",
                  "1972-08-15T00:00:00.000Z"
                ],
                [
                  "Italy",
                  "Assunzione della Vergine",
                  "Assunzione della Vergine",
                  "IT",
                  "1972-08-15T00:00:00.000Z"
                ],
                [
                  "Poland",
                  "Wniebowzięcie Najświętszej Marii Panny",
                  "Wniebowzięcie Najświętszej Marii Panny",
                  "PL",
                  "1972-08-15T00:00:00.000Z"
                ],
                [
                  "Portugal",
                  "Assunção de Nossa Senhora",
                  "Assunção de Nossa Senhora",
                  "PT",
                  "1972-08-15T00:00:00.000Z"
                ],
                [
                  "Spain",
                  "Asunción de la Virgen",
                  "Asunción de la Virgen",
                  "ES",
                  "1972-08-15T00:00:00.000Z"
                ],
                [
                  "Argentina",
                  "Día Pase a la Inmortalidad del General D. José de San Martin [Day Pass to the Immortality of General D. José de San Martin]",
                  "Día Pase a la Inmortalidad del General D. José de San Martin [Day Pass to the Immortality of General D. José de San Martin]",
                  "AR",
                  "1972-08-17T00:00:00.000Z"
                ],
                [
                  "Hungary",
                  "A kenyér ünnepe",
                  "A kenyér ünnepe",
                  "HU",
                  "1972-08-20T00:00:00.000Z"
                ],
                [
                  "Norway",
                  "Søndag",
                  "Søndag",
                  "NO",
                  "1972-08-20T00:00:00.000Z"
                ],
                [
                  "Sweden",
                  "Söndag",
                  "Söndag",
                  "SE",
                  "1972-08-20T00:00:00.000Z"
                ],
                [
                  "Colombia",
                  "La Asunción [Assumption of Mary](Observed)",
                  "La Asunción [Assumption of Mary]",
                  "CO",
                  "1972-08-21T00:00:00.000Z"
                ],
                [
                  "Norway",
                  "Søndag",
                  "Søndag",
                  "NO",
                  "1972-08-27T00:00:00.000Z"
                ],
                [
                  "Sweden",
                  "Söndag",
                  "Söndag",
                  "SE",
                  "1972-08-27T00:00:00.000Z"
                ],
                [
                  "England",
                  "Late Summer Bank Holiday",
                  "Late Summer Bank Holiday",
                  null,
                  "1972-08-28T00:00:00.000Z"
                ],
                [
                  "Isle of Man",
                  "Late Summer Bank Holiday",
                  "Late Summer Bank Holiday",
                  "IM",
                  "1972-08-28T00:00:00.000Z"
                ],
                [
                  "Northern Ireland",
                  "Late Summer Bank Holiday",
                  "Late Summer Bank Holiday",
                  null,
                  "1972-08-28T00:00:00.000Z"
                ],
                [
                  "United Kingdom",
                  "Late Summer Bank Holiday [England, Wales, Northern Ireland]",
                  "Late Summer Bank Holiday",
                  "GB",
                  "1972-08-28T00:00:00.000Z"
                ],
                [
                  "Wales",
                  "Late Summer Bank Holiday",
                  "Late Summer Bank Holiday",
                  null,
                  "1972-08-28T00:00:00.000Z"
                ],
                [
                  "Norway",
                  "Søndag",
                  "Søndag",
                  "NO",
                  "1972-09-03T00:00:00.000Z"
                ],
                [
                  "Sweden",
                  "Söndag",
                  "Söndag",
                  "SE",
                  "1972-09-03T00:00:00.000Z"
                ],
                [
                  "Canada",
                  "Labour Day",
                  "Labour Day",
                  "CA",
                  "1972-09-04T00:00:00.000Z"
                ],
                [
                  "South Africa",
                  "Settlers' Day",
                  "Settlers' Day",
                  "ZA",
                  "1972-09-04T00:00:00.000Z"
                ],
                [
                  "United States",
                  "Labor Day",
                  "Labor Day",
                  "US",
                  "1972-09-04T00:00:00.000Z"
                ],
                [
                  "Brazil",
                  "Independência do Brasil",
                  "Independência do Brasil",
                  "BR",
                  "1972-09-07T00:00:00.000Z"
                ],
                [
                  "Norway",
                  "Søndag",
                  "Søndag",
                  "NO",
                  "1972-09-10T00:00:00.000Z"
                ],
                [
                  "Sweden",
                  "Söndag",
                  "Söndag",
                  "SE",
                  "1972-09-10T00:00:00.000Z"
                ],
                [
                  "Japan",
                  "敬老の日",
                  "敬老の日",
                  "JP",
                  "1972-09-15T00:00:00.000Z"
                ],
                [
                  "Mexico",
                  "Día de la Independencia [Independence Day] (Observed)",
                  "Día de la Independencia [Independence Day]",
                  "MX",
                  "1972-09-15T00:00:00.000Z"
                ],
                [
                  "Mexico",
                  "Día de la Independencia [Independence Day]",
                  "Día de la Independencia [Independence Day]",
                  "MX",
                  "1972-09-16T00:00:00.000Z"
                ],
                [
                  "Norway",
                  "Søndag",
                  "Søndag",
                  "NO",
                  "1972-09-17T00:00:00.000Z"
                ],
                [
                  "Sweden",
                  "Söndag",
                  "Söndag",
                  "SE",
                  "1972-09-17T00:00:00.000Z"
                ],
                [
                  "Japan",
                  "秋分の日",
                  "秋分の日",
                  "JP",
                  "1972-09-23T00:00:00.000Z"
                ],
                [
                  "Norway",
                  "Søndag",
                  "Søndag",
                  "NO",
                  "1972-09-24T00:00:00.000Z"
                ],
                [
                  "Sweden",
                  "Söndag",
                  "Söndag",
                  "SE",
                  "1972-09-24T00:00:00.000Z"
                ],
                [
                  "Norway",
                  "Søndag",
                  "Søndag",
                  "NO",
                  "1972-10-01T00:00:00.000Z"
                ],
                [
                  "Sweden",
                  "Söndag",
                  "Söndag",
                  "SE",
                  "1972-10-01T00:00:00.000Z"
                ],
                [
                  "India",
                  "Gandhi Jayanti",
                  "Gandhi Jayanti",
                  "IN",
                  "1972-10-02T00:00:00.000Z"
                ],
                [
                  "Portugal",
                  "Implantação da República",
                  "Implantação da República",
                  "PT",
                  "1972-10-05T00:00:00.000Z"
                ],
                [
                  "Croatia",
                  "Dan neovisnosti",
                  "Dan neovisnosti",
                  "HR",
                  "1972-10-08T00:00:00.000Z"
                ],
                [
                  "Norway",
                  "Søndag",
                  "Søndag",
                  "NO",
                  "1972-10-08T00:00:00.000Z"
                ],
                [
                  "Sweden",
                  "Söndag",
                  "Söndag",
                  "SE",
                  "1972-10-08T00:00:00.000Z"
                ],
                [
                  "Canada",
                  "Thanksgiving",
                  "Thanksgiving",
                  "CA",
                  "1972-10-09T00:00:00.000Z"
                ],
                [
                  "United States",
                  "Columbus Day",
                  "Columbus Day",
                  "US",
                  "1972-10-09T00:00:00.000Z"
                ],
                [
                  "Japan",
                  "体育の日",
                  "体育の日",
                  "JP",
                  "1972-10-10T00:00:00.000Z"
                ],
                [
                  "South Africa",
                  "Kruger Day",
                  "Kruger Day",
                  "ZA",
                  "1972-10-10T00:00:00.000Z"
                ],
                [
                  "Argentina",
                  "Día de la Raza [Columbus day]",
                  "Día de la Raza [Columbus day]",
                  "AR",
                  "1972-10-12T00:00:00.000Z"
                ],
                [
                  "Brazil",
                  "Nossa Senhora Aparecida",
                  "Nossa Senhora Aparecida",
                  "BR",
                  "1972-10-12T00:00:00.000Z"
                ],
                [
                  "Spain",
                  "Día de la Hispanidad",
                  "Día de la Hispanidad",
                  "ES",
                  "1972-10-12T00:00:00.000Z"
                ],
                [
                  "Norway",
                  "Søndag",
                  "Søndag",
                  "NO",
                  "1972-10-15T00:00:00.000Z"
                ],
                [
                  "Sweden",
                  "Söndag",
                  "Söndag",
                  "SE",
                  "1972-10-15T00:00:00.000Z"
                ],
                [
                  "Colombia",
                  "Descubrimiento de América [Discovery of America](Observed)",
                  "Descubrimiento de América [Discovery of America]",
                  "CO",
                  "1972-10-16T00:00:00.000Z"
                ],
                [
                  "Norway",
                  "Søndag",
                  "Søndag",
                  "NO",
                  "1972-10-22T00:00:00.000Z"
                ],
                [
                  "Sweden",
                  "Söndag",
                  "Söndag",
                  "SE",
                  "1972-10-22T00:00:00.000Z"
                ],
                [
                  "New Zealand",
                  "Labour Day",
                  "Labour Day",
                  "NZ",
                  "1972-10-23T00:00:00.000Z"
                ],
                [
                  "United States",
                  "Veterans Day",
                  "Veterans Day",
                  "US",
                  "1972-10-23T00:00:00.000Z"
                ],
                [
                  "Austria",
                  "Nationalfeiertag",
                  "Nationalfeiertag",
                  "AT",
                  "1972-10-26T00:00:00.000Z"
                ],
                [
                  "Czech",
                  "Den vzniku samostatného československého státu",
                  "Den vzniku samostatného československého státu",
                  "CZ",
                  "1972-10-28T00:00:00.000Z"
                ],
                [
                  "Norway",
                  "Søndag",
                  "Søndag",
                  "NO",
                  "1972-10-29T00:00:00.000Z"
                ],
                [
                  "Sweden",
                  "Söndag",
                  "Söndag",
                  "SE",
                  "1972-10-29T00:00:00.000Z"
                ],
                [
                  "Ireland",
                  "October Bank Holiday",
                  "October Bank Holiday",
                  "IE",
                  "1972-10-30T00:00:00.000Z"
                ],
                [
                  "Austria",
                  "Allerheiligen",
                  "Allerheiligen",
                  "AT",
                  "1972-11-01T00:00:00.000Z"
                ],
                [
                  "Belgium",
                  "Allerheiligen",
                  "Allerheiligen",
                  "BE",
                  "1972-11-01T00:00:00.000Z"
                ],
                [
                  "Croatia",
                  "Svi sveti",
                  "Svi sveti",
                  "HR",
                  "1972-11-01T00:00:00.000Z"
                ],
                [
                  "France",
                  "Toussaint",
                  "Toussaint",
                  "FR",
                  "1972-11-01T00:00:00.000Z"
                ],
                [
                  "Italy",
                  "Tutti i Santi",
                  "Tutti i Santi",
                  "IT",
                  "1972-11-01T00:00:00.000Z"
                ],
                [
                  "Poland",
                  "Uroczystość Wszystkich świętych",
                  "Uroczystość Wszystkich świętych",
                  "PL",
                  "1972-11-01T00:00:00.000Z"
                ],
                [
                  "Portugal",
                  "Dia de Todos os Santos",
                  "Dia de Todos os Santos",
                  "PT",
                  "1972-11-01T00:00:00.000Z"
                ],
                [
                  "Spain",
                  "Todos los Santos",
                  "Todos los Santos",
                  "ES",
                  "1972-11-01T00:00:00.000Z"
                ],
                [
                  "Brazil",
                  "Finados",
                  "Finados",
                  "BR",
                  "1972-11-02T00:00:00.000Z"
                ],
                [
                  "Japan",
                  "文化の日",
                  "文化の日",
                  "JP",
                  "1972-11-03T00:00:00.000Z"
                ],
                [
                  "Finland",
                  "Pyhäinpäivä",
                  "Pyhäinpäivä",
                  "FI",
                  "1972-11-04T00:00:00.000Z"
                ],
                [
                  "Sweden",
                  "Alla helgons dag",
                  "Alla helgons dag",
                  "SE",
                  "1972-11-04T00:00:00.000Z"
                ],
                [
                  "Norway",
                  "Søndag",
                  "Søndag",
                  "NO",
                  "1972-11-05T00:00:00.000Z"
                ],
                [
                  "Sweden",
                  "Söndag",
                  "Söndag",
                  "SE",
                  "1972-11-05T00:00:00.000Z"
                ],
                [
                  "Colombia",
                  "Dia de Todos los Santos [All Saint's Day](Observed)",
                  "Dia de Todos los Santos [All Saint's Day]",
                  "CO",
                  "1972-11-06T00:00:00.000Z"
                ],
                [
                  "Hungary",
                  "A nagy októberi szocialista forradalom ünnepe",
                  "A nagy októberi szocialista forradalom ünnepe",
                  "HU",
                  "1972-11-07T00:00:00.000Z"
                ],
                [
                  "Ukraine",
                  "Річниця Великої Жовтневої соціалістичної революції",
                  "Річниця Великої Жовтневої соціалістичної революції",
                  "UA",
                  "1972-11-07T00:00:00.000Z"
                ],
                [
                  "Ukraine",
                  "Річниця Великої Жовтневої соціалістичної революції",
                  "Річниця Великої Жовтневої соціалістичної революції",
                  "UA",
                  "1972-11-08T00:00:00.000Z"
                ],
                [
                  "Belgium",
                  "Wapenstilstand",
                  "Wapenstilstand",
                  "BE",
                  "1972-11-11T00:00:00.000Z"
                ],
                [
                  "France",
                  "Armistice 1918",
                  "Armistice 1918",
                  "FR",
                  "1972-11-11T00:00:00.000Z"
                ],
                [
                  "Norway",
                  "Søndag",
                  "Søndag",
                  "NO",
                  "1972-11-12T00:00:00.000Z"
                ],
                [
                  "Sweden",
                  "Söndag",
                  "Söndag",
                  "SE",
                  "1972-11-12T00:00:00.000Z"
                ],
                [
                  "Colombia",
                  "Independencia de Cartagena [Independence of Cartagena](Observed)",
                  "Independencia de Cartagena [Independence of Cartagena]",
                  "CO",
                  "1972-11-13T00:00:00.000Z"
                ],
                [
                  "Brazil",
                  "Proclamação da República",
                  "Proclamação da República",
                  "BR",
                  "1972-11-15T00:00:00.000Z"
                ],
                [
                  "Norway",
                  "Søndag",
                  "Søndag",
                  "NO",
                  "1972-11-19T00:00:00.000Z"
                ],
                [
                  "Sweden",
                  "Söndag",
                  "Söndag",
                  "SE",
                  "1972-11-19T00:00:00.000Z"
                ],
                [
                  "Mexico",
                  "Día de la Revolución [Revolution Day]",
                  "Día de la Revolución [Revolution Day]",
                  "MX",
                  "1972-11-20T00:00:00.000Z"
                ],
                [
                  "Japan",
                  "勤労感謝の日",
                  "勤労感謝の日",
                  "JP",
                  "1972-11-23T00:00:00.000Z"
                ],
                [
                  "United States",
                  "Thanksgiving",
                  "Thanksgiving",
                  "US",
                  "1972-11-23T00:00:00.000Z"
                ],
                [
                  "Norway",
                  "Søndag",
                  "Søndag",
                  "NO",
                  "1972-11-26T00:00:00.000Z"
                ],
                [
                  "Sweden",
                  "Söndag",
                  "Söndag",
                  "SE",
                  "1972-11-26T00:00:00.000Z"
                ],
                [
                  "Scotland",
                  "St. Andrew's Day",
                  "St. Andrew's Day",
                  null,
                  "1972-11-30T00:00:00.000Z"
                ],
                [
                  "United Kingdom",
                  "St. Andrew's Day [Scotland]",
                  "St. Andrew's Day",
                  "GB",
                  "1972-11-30T00:00:00.000Z"
                ],
                [
                  "Portugal",
                  "Restauração da Independência",
                  "Restauração da Independência",
                  "PT",
                  "1972-12-01T00:00:00.000Z"
                ],
                [
                  "Norway",
                  "Søndag",
                  "Søndag",
                  "NO",
                  "1972-12-03T00:00:00.000Z"
                ],
                [
                  "Sweden",
                  "Söndag",
                  "Söndag",
                  "SE",
                  "1972-12-03T00:00:00.000Z"
                ],
                [
                  "Ukraine",
                  "День Конституції СРСР",
                  "День Конституції СРСР",
                  "UA",
                  "1972-12-05T00:00:00.000Z"
                ],
                [
                  "Finland",
                  "Itsenäisyyspäivä",
                  "Itsenäisyyspäivä",
                  "FI",
                  "1972-12-06T00:00:00.000Z"
                ],
                [
                  "Spain",
                  "Día de la constitución Española",
                  "Día de la constitución Española",
                  "ES",
                  "1972-12-06T00:00:00.000Z"
                ],
                [
                  "Argentina",
                  "La Inmaculada Concepción [Immaculate Conception]",
                  "La Inmaculada Concepción [Immaculate Conception]",
                  "AR",
                  "1972-12-08T00:00:00.000Z"
                ],
                [
                  "Austria",
                  "Mariä Empfängnis",
                  "Mariä Empfängnis",
                  "AT",
                  "1972-12-08T00:00:00.000Z"
                ],
                [
                  "Colombia",
                  "La Inmaculada Concepción [Immaculate Conception]",
                  "La Inmaculada Concepción [Immaculate Conception]",
                  "CO",
                  "1972-12-08T00:00:00.000Z"
                ],
                [
                  "Italy",
                  "Immacolata Concezione",
                  "Immacolata Concezione",
                  "IT",
                  "1972-12-08T00:00:00.000Z"
                ],
                [
                  "Portugal",
                  "Imaculada Conceição",
                  "Imaculada Conceição",
                  "PT",
                  "1972-12-08T00:00:00.000Z"
                ],
                [
                  "Spain",
                  "La Inmaculada Concepción",
                  "La Inmaculada Concepción",
                  "ES",
                  "1972-12-08T00:00:00.000Z"
                ],
                [
                  "Norway",
                  "Søndag",
                  "Søndag",
                  "NO",
                  "1972-12-10T00:00:00.000Z"
                ],
                [
                  "Sweden",
                  "Söndag",
                  "Söndag",
                  "SE",
                  "1972-12-10T00:00:00.000Z"
                ],
                [
                  "South Africa",
                  "Day of the Covenant",
                  "Day of the Covenant",
                  "ZA",
                  "1972-12-16T00:00:00.000Z"
                ],
                [
                  "Norway",
                  "Søndag",
                  "Søndag",
                  "NO",
                  "1972-12-17T00:00:00.000Z"
                ],
                [
                  "Sweden",
                  "Söndag",
                  "Söndag",
                  "SE",
                  "1972-12-17T00:00:00.000Z"
                ],
                [
                  "Finland",
                  "Jouluaatto",
                  "Jouluaatto",
                  "FI",
                  "1972-12-24T00:00:00.000Z"
                ],
                [
                  "Norway",
                  "Søndag",
                  "Søndag",
                  "NO",
                  "1972-12-24T00:00:00.000Z"
                ],
                [
                  "Sweden",
                  "Julafton, Söndag",
                  "Julafton, Söndag",
                  "SE",
                  "1972-12-24T00:00:00.000Z"
                ],
                [
                  "Argentina",
                  "Navidad [Christmas]",
                  "Navidad [Christmas]",
                  "AR",
                  "1972-12-25T00:00:00.000Z"
                ],
                [
                  "Australia",
                  "Christmas Day",
                  "Christmas Day",
                  "AU",
                  "1972-12-25T00:00:00.000Z"
                ],
                [
                  "Austria",
                  "Christtag",
                  "Christtag",
                  "AT",
                  "1972-12-25T00:00:00.000Z"
                ],
                [
                  "Belgium",
                  "Kerstmis",
                  "Kerstmis",
                  "BE",
                  "1972-12-25T00:00:00.000Z"
                ],
                [
                  "Brazil",
                  "Natal",
                  "Natal",
                  "BR",
                  "1972-12-25T00:00:00.000Z"
                ],
                [
                  "Canada",
                  "Christmas Day",
                  "Christmas Day",
                  "CA",
                  "1972-12-25T00:00:00.000Z"
                ],
                [
                  "Colombia",
                  "Navidad [Christmas]",
                  "Navidad [Christmas]",
                  "CO",
                  "1972-12-25T00:00:00.000Z"
                ],
                [
                  "Croatia",
                  "Božić",
                  "Božić",
                  "HR",
                  "1972-12-25T00:00:00.000Z"
                ],
                [
                  "Czech",
                  "1. svátek vánoční",
                  "1. svátek vánoční",
                  "CZ",
                  "1972-12-25T00:00:00.000Z"
                ],
                [
                  "Denmark",
                  "Juledag",
                  "Juledag",
                  "DK",
                  "1972-12-25T00:00:00.000Z"
                ],
                [
                  "England",
                  "Christmas Day",
                  "Christmas Day",
                  null,
                  "1972-12-25T00:00:00.000Z"
                ],
                [
                  "Finland",
                  "Joulupäivä",
                  "Joulupäivä",
                  "FI",
                  "1972-12-25T00:00:00.000Z"
                ],
                [
                  "France",
                  "Noël",
                  "Noël",
                  "FR",
                  "1972-12-25T00:00:00.000Z"
                ],
                [
                  "Hungary",
                  "Karácsony",
                  "Karácsony",
                  "HU",
                  "1972-12-25T00:00:00.000Z"
                ],
                [
                  "India",
                  "Christmas",
                  "Christmas",
                  "IN",
                  "1972-12-25T00:00:00.000Z"
                ],
                [
                  "Ireland",
                  "Christmas Day",
                  "Christmas Day",
                  "IE",
                  "1972-12-25T00:00:00.000Z"
                ],
                [
                  "Isle of Man",
                  "Christmas Day",
                  "Christmas Day",
                  "IM",
                  "1972-12-25T00:00:00.000Z"
                ],
                [
                  "Italy",
                  "Natale",
                  "Natale",
                  "IT",
                  "1972-12-25T00:00:00.000Z"
                ],
                [
                  "Mexico",
                  "Navidad [Christmas]",
                  "Navidad [Christmas]",
                  "MX",
                  "1972-12-25T00:00:00.000Z"
                ],
                [
                  "Netherlands",
                  "Eerste Kerstdag",
                  "Eerste Kerstdag",
                  "NL",
                  "1972-12-25T00:00:00.000Z"
                ],
                [
                  "New Zealand",
                  "Christmas Day",
                  "Christmas Day",
                  "NZ",
                  "1972-12-25T00:00:00.000Z"
                ],
                [
                  "Northern Ireland",
                  "Christmas Day",
                  "Christmas Day",
                  null,
                  "1972-12-25T00:00:00.000Z"
                ],
                [
                  "Norway",
                  "Første juledag",
                  "Første juledag",
                  "NO",
                  "1972-12-25T00:00:00.000Z"
                ],
                [
                  "Poland",
                  "Boże Narodzenie (pierwszy dzień)",
                  "Boże Narodzenie (pierwszy dzień)",
                  "PL",
                  "1972-12-25T00:00:00.000Z"
                ],
                [
                  "Portugal",
                  "Dia de Natal",
                  "Dia de Natal",
                  "PT",
                  "1972-12-25T00:00:00.000Z"
                ],
                [
                  "Scotland",
                  "Christmas Day",
                  "Christmas Day",
                  null,
                  "1972-12-25T00:00:00.000Z"
                ],
                [
                  "South Africa",
                  "Christmas Day",
                  "Christmas Day",
                  "ZA",
                  "1972-12-25T00:00:00.000Z"
                ],
                [
                  "Spain",
                  "Navidad",
                  "Navidad",
                  "ES",
                  "1972-12-25T00:00:00.000Z"
                ],
                [
                  "Sweden",
                  "Juldagen",
                  "Juldagen",
                  "SE",
                  "1972-12-25T00:00:00.000Z"
                ],
                [
                  "Switzerland",
                  "Weihnachten",
                  "Weihnachten",
                  "CH",
                  "1972-12-25T00:00:00.000Z"
                ],
                [
                  "United Kingdom",
                  "Christmas Day",
                  "Christmas Day",
                  "GB",
                  "1972-12-25T00:00:00.000Z"
                ],
                [
                  "United States",
                  "Christmas Day",
                  "Christmas Day",
                  "US",
                  "1972-12-25T00:00:00.000Z"
                ],
                [
                  "Wales",
                  "Christmas Day",
                  "Christmas Day",
                  null,
                  "1972-12-25T00:00:00.000Z"
                ],
                [
                  "Australia",
                  "Boxing Day",
                  "Boxing Day",
                  "AU",
                  "1972-12-26T00:00:00.000Z"
                ],
                [
                  "Austria",
                  "Stefanitag",
                  "Stefanitag",
                  "AT",
                  "1972-12-26T00:00:00.000Z"
                ],
                [
                  "Canada",
                  "Boxing Day",
                  "Boxing Day",
                  "CA",
                  "1972-12-26T00:00:00.000Z"
                ],
                [
                  "Croatia",
                  "Sveti Stjepan",
                  "Sveti Stjepan",
                  "HR",
                  "1972-12-26T00:00:00.000Z"
                ],
                [
                  "Czech",
                  "2. svátek vánoční",
                  "2. svátek vánoční",
                  "CZ",
                  "1972-12-26T00:00:00.000Z"
                ],
                [
                  "Denmark",
                  "Anden juledag",
                  "Anden juledag",
                  "DK",
                  "1972-12-26T00:00:00.000Z"
                ],
                [
                  "England",
                  "Boxing Day",
                  "Boxing Day",
                  null,
                  "1972-12-26T00:00:00.000Z"
                ],
                [
                  "Finland",
                  "Tapaninpäivä",
                  "Tapaninpäivä",
                  "FI",
                  "1972-12-26T00:00:00.000Z"
                ],
                [
                  "Hungary",
                  "Karácsony másnapja",
                  "Karácsony másnapja",
                  "HU",
                  "1972-12-26T00:00:00.000Z"
                ],
                [
                  "Ireland",
                  "Boxing Day",
                  "Boxing Day",
                  "IE",
                  "1972-12-26T00:00:00.000Z"
                ],
                [
                  "Isle of Man",
                  "Boxing Day",
                  "Boxing Day",
                  "IM",
                  "1972-12-26T00:00:00.000Z"
                ],
                [
                  "Italy",
                  "Santo Stefano",
                  "Santo Stefano",
                  "IT",
                  "1972-12-26T00:00:00.000Z"
                ],
                [
                  "Netherlands",
                  "Tweede Kerstdag",
                  "Tweede Kerstdag",
                  "NL",
                  "1972-12-26T00:00:00.000Z"
                ],
                [
                  "New Zealand",
                  "Boxing Day",
                  "Boxing Day",
                  "NZ",
                  "1972-12-26T00:00:00.000Z"
                ],
                [
                  "Northern Ireland",
                  "Boxing Day",
                  "Boxing Day",
                  null,
                  "1972-12-26T00:00:00.000Z"
                ],
                [
                  "Norway",
                  "Andre juledag",
                  "Andre juledag",
                  "NO",
                  "1972-12-26T00:00:00.000Z"
                ],
                [
                  "Poland",
                  "Boże Narodzenie (drugi dzień)",
                  "Boże Narodzenie (drugi dzień)",
                  "PL",
                  "1972-12-26T00:00:00.000Z"
                ],
                [
                  "Scotland",
                  "Boxing Day",
                  "Boxing Day",
                  null,
                  "1972-12-26T00:00:00.000Z"
                ],
                [
                  "South Africa",
                  "Boxing Day",
                  "Boxing Day",
                  "ZA",
                  "1972-12-26T00:00:00.000Z"
                ],
                [
                  "Sweden",
                  "Annandag jul",
                  "Annandag jul",
                  "SE",
                  "1972-12-26T00:00:00.000Z"
                ],
                [
                  "United Kingdom",
                  "Boxing Day",
                  "Boxing Day",
                  "GB",
                  "1972-12-26T00:00:00.000Z"
                ],
                [
                  "Wales",
                  "Boxing Day",
                  "Boxing Day",
                  null,
                  "1972-12-26T00:00:00.000Z"
                ],
                [
                  "Norway",
                  "Søndag",
                  "Søndag",
                  "NO",
                  "1972-12-31T00:00:00.000Z"
                ],
                [
                  "Sweden",
                  "Nyårsafton, Söndag",
                  "Nyårsafton, Söndag",
                  "SE",
                  "1972-12-31T00:00:00.000Z"
                ],
                [
                  "Argentina",
                  "Año Nuevo [New Year's Day]",
                  "Año Nuevo [New Year's Day]",
                  "AR",
                  "1973-01-01T00:00:00.000Z"
                ],
                [
                  "Australia",
                  "New Year's Day",
                  "New Year's Day",
                  "AU",
                  "1973-01-01T00:00:00.000Z"
                ],
                [
                  "Austria",
                  "Neujahr",
                  "Neujahr",
                  "AT",
                  "1973-01-01T00:00:00.000Z"
                ],
                [
                  "Belgium",
                  "Nieuwjaarsdag",
                  "Nieuwjaarsdag",
                  "BE",
                  "1973-01-01T00:00:00.000Z"
                ],
                [
                  "Brazil",
                  "Ano novo",
                  "Ano novo",
                  "BR",
                  "1973-01-01T00:00:00.000Z"
                ],
                [
                  "Canada",
                  "New Year's Day",
                  "New Year's Day",
                  "CA",
                  "1973-01-01T00:00:00.000Z"
                ],
                [
                  "Colombia",
                  "Año Nuevo [New Year's Day]",
                  "Año Nuevo [New Year's Day]",
                  "CO",
                  "1973-01-01T00:00:00.000Z"
                ],
                [
                  "Croatia",
                  "Nova Godina",
                  "Nova Godina",
                  "HR",
                  "1973-01-01T00:00:00.000Z"
                ],
                [
                  "Czech",
                  "Nový rok",
                  "Nový rok",
                  "CZ",
                  "1973-01-01T00:00:00.000Z"
                ],
                [
                  "Denmark",
                  "Nytårsdag",
                  "Nytårsdag",
                  "DK",
                  "1973-01-01T00:00:00.000Z"
                ],
                [
                  "Finland",
                  "Uudenvuodenpäivä",
                  "Uudenvuodenpäivä",
                  "FI",
                  "1973-01-01T00:00:00.000Z"
                ],
                [
                  "France",
                  "Jour de l'an",
                  "Jour de l'an",
                  "FR",
                  "1973-01-01T00:00:00.000Z"
                ],
                [
                  "Hungary",
                  "Újév",
                  "Újév",
                  "HU",
                  "1973-01-01T00:00:00.000Z"
                ],
                [
                  "Italy",
                  "Capodanno",
                  "Capodanno",
                  "IT",
                  "1973-01-01T00:00:00.000Z"
                ],
                [
                  "Japan",
                  "元日",
                  "元日",
                  "JP",
                  "1973-01-01T00:00:00.000Z"
                ],
                [
                  "Mexico",
                  "Año Nuevo [New Year's Day]",
                  "Año Nuevo [New Year's Day]",
                  "MX",
                  "1973-01-01T00:00:00.000Z"
                ],
                [
                  "Netherlands",
                  "Nieuwjaarsdag",
                  "Nieuwjaarsdag",
                  "NL",
                  "1973-01-01T00:00:00.000Z"
                ],
                [
                  "New Zealand",
                  "New Year's Day",
                  "New Year's Day",
                  "NZ",
                  "1973-01-01T00:00:00.000Z"
                ],
                [
                  "Norway",
                  "Første nyttårsdag",
                  "Første nyttårsdag",
                  "NO",
                  "1973-01-01T00:00:00.000Z"
                ],
                [
                  "Poland",
                  "Nowy Rok",
                  "Nowy Rok",
                  "PL",
                  "1973-01-01T00:00:00.000Z"
                ],
                [
                  "Portugal",
                  "Ano Novo",
                  "Ano Novo",
                  "PT",
                  "1973-01-01T00:00:00.000Z"
                ],
                [
                  "South Africa",
                  "New Year's Day",
                  "New Year's Day",
                  "ZA",
                  "1973-01-01T00:00:00.000Z"
                ],
                [
                  "Spain",
                  "Año nuevo",
                  "Año nuevo",
                  "ES",
                  "1973-01-01T00:00:00.000Z"
                ],
                [
                  "Sweden",
                  "Nyårsdagen",
                  "Nyårsdagen",
                  "SE",
                  "1973-01-01T00:00:00.000Z"
                ],
                [
                  "Switzerland",
                  "Neujahrestag",
                  "Neujahrestag",
                  "CH",
                  "1973-01-01T00:00:00.000Z"
                ],
                [
                  "Ukraine",
                  "Новий рік",
                  "Новий рік",
                  "UA",
                  "1973-01-01T00:00:00.000Z"
                ],
                [
                  "United States",
                  "New Year's Day",
                  "New Year's Day",
                  "US",
                  "1973-01-01T00:00:00.000Z"
                ],
                [
                  "New Zealand",
                  "Day after New Year's Day",
                  "Day after New Year's Day",
                  "NZ",
                  "1973-01-02T00:00:00.000Z"
                ],
                [
                  "Scotland",
                  "New Year Holiday",
                  "New Year Holiday",
                  null,
                  "1973-01-02T00:00:00.000Z"
                ],
                [
                  "United Kingdom",
                  "New Year Holiday [Scotland]",
                  "New Year Holiday",
                  "GB",
                  "1973-01-02T00:00:00.000Z"
                ],
                [
                  "Austria",
                  "Heilige Drei Könige",
                  "Heilige Drei Könige",
                  "AT",
                  "1973-01-06T00:00:00.000Z"
                ],
                [
                  "Croatia",
                  "Sveta tri kralja",
                  "Sveta tri kralja",
                  "HR",
                  "1973-01-06T00:00:00.000Z"
                ],
                [
                  "Finland",
                  "Loppiainen",
                  "Loppiainen",
                  "FI",
                  "1973-01-06T00:00:00.000Z"
                ],
                [
                  "Italy",
                  "Epifania del Signore",
                  "Epifania del Signore",
                  "IT",
                  "1973-01-06T00:00:00.000Z"
                ],
                [
                  "Spain",
                  "Epifanía del Señor",
                  "Epifanía del Señor",
                  "ES",
                  "1973-01-06T00:00:00.000Z"
                ],
                [
                  "Sweden",
                  "Trettondedag jul",
                  "Trettondedag jul",
                  "SE",
                  "1973-01-06T00:00:00.000Z"
                ],
                [
                  "Norway",
                  "Søndag",
                  "Søndag",
                  "NO",
                  "1973-01-07T00:00:00.000Z"
                ],
                [
                  "Sweden",
                  "Söndag",
                  "Söndag",
                  "SE",
                  "1973-01-07T00:00:00.000Z"
                ],
                [
                  "Colombia",
                  "Día de los Reyes Magos [Epiphany](Observed)",
                  "Día de los Reyes Magos [Epiphany]",
                  "CO",
                  "1973-01-08T00:00:00.000Z"
                ],
                [
                  "India",
                  "Makar Sankranti / Pongal",
                  "Makar Sankranti / Pongal",
                  "IN",
                  "1973-01-14T00:00:00.000Z"
                ],
                [
                  "Norway",
                  "Søndag",
                  "Søndag",
                  "NO",
                  "1973-01-14T00:00:00.000Z"
                ],
                [
                  "Sweden",
                  "Söndag",
                  "Söndag",
                  "SE",
                  "1973-01-14T00:00:00.000Z"
                ],
                [
                  "Japan",
                  "成人の日",
                  "成人の日",
                  "JP",
                  "1973-01-15T00:00:00.000Z"
                ],
                [
                  "Norway",
                  "Søndag",
                  "Søndag",
                  "NO",
                  "1973-01-21T00:00:00.000Z"
                ],
                [
                  "Sweden",
                  "Söndag",
                  "Söndag",
                  "SE",
                  "1973-01-21T00:00:00.000Z"
                ],
                [
                  "Australia",
                  "Australia Day",
                  "Australia Day",
                  "AU",
                  "1973-01-26T00:00:00.000Z"
                ],
                [
                  "India",
                  "Republic Day",
                  "Republic Day",
                  "IN",
                  "1973-01-26T00:00:00.000Z"
                ],
                [
                  "Norway",
                  "Søndag",
                  "Søndag",
                  "NO",
                  "1973-01-28T00:00:00.000Z"
                ],
                [
                  "Sweden",
                  "Söndag",
                  "Söndag",
                  "SE",
                  "1973-01-28T00:00:00.000Z"
                ],
                [
                  "Norway",
                  "Søndag",
                  "Søndag",
                  "NO",
                  "1973-02-04T00:00:00.000Z"
                ],
                [
                  "Sweden",
                  "Söndag",
                  "Söndag",
                  "SE",
                  "1973-02-04T00:00:00.000Z"
                ],
                [
                  "Mexico",
                  "Día de la Constitución [Constitution Day]",
                  "Día de la Constitución [Constitution Day]",
                  "MX",
                  "1973-02-05T00:00:00.000Z"
                ],
                [
                  "Japan",
                  "建国記念の日",
                  "建国記念の日",
                  "JP",
                  "1973-02-11T00:00:00.000Z"
                ],
                [
                  "Norway",
                  "Søndag",
                  "Søndag",
                  "NO",
                  "1973-02-11T00:00:00.000Z"
                ],
                [
                  "Sweden",
                  "Söndag",
                  "Söndag",
                  "SE",
                  "1973-02-11T00:00:00.000Z"
                ],
                [
                  "Norway",
                  "Søndag",
                  "Søndag",
                  "NO",
                  "1973-02-18T00:00:00.000Z"
                ],
                [
                  "Sweden",
                  "Söndag",
                  "Söndag",
                  "SE",
                  "1973-02-18T00:00:00.000Z"
                ],
                [
                  "United States",
                  "Washington's Birthday",
                  "Washington's Birthday",
                  "US",
                  "1973-02-19T00:00:00.000Z"
                ],
                [
                  "Norway",
                  "Søndag",
                  "Søndag",
                  "NO",
                  "1973-02-25T00:00:00.000Z"
                ],
                [
                  "Sweden",
                  "Söndag",
                  "Söndag",
                  "SE",
                  "1973-02-25T00:00:00.000Z"
                ],
                [
                  "Norway",
                  "Søndag",
                  "Søndag",
                  "NO",
                  "1973-03-04T00:00:00.000Z"
                ],
                [
                  "Sweden",
                  "Söndag",
                  "Söndag",
                  "SE",
                  "1973-03-04T00:00:00.000Z"
                ],
                [
                  "Argentina",
                  "Día de Carnaval [Carnival's Day]",
                  "Día de Carnaval [Carnival's Day]",
                  "AR",
                  "1973-03-05T00:00:00.000Z"
                ],
                [
                  "Argentina",
                  "Día de Carnaval [Carnival's Day]",
                  "Día de Carnaval [Carnival's Day]",
                  "AR",
                  "1973-03-06T00:00:00.000Z"
                ],
                [
                  "Brazil",
                  "Carnaval",
                  "Carnaval",
                  "BR",
                  "1973-03-06T00:00:00.000Z"
                ],
                [
                  "Brazil",
                  "Quarta-feira de cinzas (Início da Quaresma)",
                  "Quarta-feira de cinzas (Início da Quaresma)",
                  "BR",
                  "1973-03-07T00:00:00.000Z"
                ],
                [
                  "Ukraine",
                  "Міжнародний жіночий день",
                  "Міжнародний жіночий день",
                  "UA",
                  "1973-03-08T00:00:00.000Z"
                ],
                [
                  "Norway",
                  "Søndag",
                  "Søndag",
                  "NO",
                  "1973-03-11T00:00:00.000Z"
                ],
                [
                  "Sweden",
                  "Söndag",
                  "Söndag",
                  "SE",
                  "1973-03-11T00:00:00.000Z"
                ],
                [
                  "Ireland",
                  "St. Patrick's Day",
                  "St. Patrick's Day",
                  "IE",
                  "1973-03-17T00:00:00.000Z"
                ],
                [
                  "Northern Ireland",
                  "St. Patrick's Day",
                  "St. Patrick's Day",
                  null,
                  "1973-03-17T00:00:00.000Z"
                ],
                [
                  "United Kingdom",
                  "St. Patrick's Day [Northern Ireland]",
                  "St. Patrick's Day",
                  "GB",
                  "1973-03-17T00:00:00.000Z"
                ],
                [
                  "Norway",
                  "Søndag",
                  "Søndag",
                  "NO",
                  "1973-03-18T00:00:00.000Z"
                ],
                [
                  "Sweden",
                  "Söndag",
                  "Söndag",
                  "SE",
                  "1973-03-18T00:00:00.000Z"
                ],
                [
                  "Colombia",
                  "Día de San José [Saint Joseph's Day]",
                  "Día de San José [Saint Joseph's Day]",
                  "CO",
                  "1973-03-19T00:00:00.000Z"
                ],
                [
                  "Ireland",
                  "St. Patrick's Day (Observed)",
                  "St. Patrick's Day",
                  "IE",
                  "1973-03-19T00:00:00.000Z"
                ],
                [
                  "Northern Ireland",
                  "St. Patrick's Day (Observed)",
                  "St. Patrick's Day",
                  null,
                  "1973-03-19T00:00:00.000Z"
                ],
                [
                  "United Kingdom",
                  "St. Patrick's Day [Northern Ireland] (Observed)",
                  "St. Patrick's Day",
                  "GB",
                  "1973-03-19T00:00:00.000Z"
                ],
                [
                  "Hungary",
                  "A Tanácsköztársaság kikiáltásának ünnepe",
                  "A Tanácsköztársaság kikiáltásának ünnepe",
                  "HU",
                  "1973-03-21T00:00:00.000Z"
                ],
                [
                  "Japan",
                  "春分の日",
                  "春分の日",
                  "JP",
                  "1973-03-21T00:00:00.000Z"
                ],
                [
                  "Mexico",
                  "Natalicio de Benito Juárez [Benito Juárez's birthday]",
                  "Natalicio de Benito Juárez [Benito Juárez's birthday]",
                  "MX",
                  "1973-03-21T00:00:00.000Z"
                ],
                [
                  "Argentina",
                  "Día Nacional de la Memoria por la Verdad y la Justicia [Memory's National Day for the Truth and Justice]",
                  "Día Nacional de la Memoria por la Verdad y la Justicia [Memory's National Day for the Truth and Justice]",
                  "AR",
                  "1973-03-24T00:00:00.000Z"
                ],
                [
                  "Norway",
                  "Søndag",
                  "Søndag",
                  "NO",
                  "1973-03-25T00:00:00.000Z"
                ],
                [
                  "Sweden",
                  "Söndag",
                  "Söndag",
                  "SE",
                  "1973-03-25T00:00:00.000Z"
                ],
                [
                  "Norway",
                  "Søndag",
                  "Søndag",
                  "NO",
                  "1973-04-01T00:00:00.000Z"
                ],
                [
                  "Sweden",
                  "Söndag",
                  "Söndag",
                  "SE",
                  "1973-04-01T00:00:00.000Z"
                ],
                [
                  "Argentina",
                  "Día del Veterano y de los Caidos en la Guerra de Malvinas [Veterans Day and the Fallen in the Malvinas War]",
                  "Día del Veterano y de los Caidos en la Guerra de Malvinas [Veterans Day and the Fallen in the Malvinas War]",
                  "AR",
                  "1973-04-02T00:00:00.000Z"
                ],
                [
                  "Hungary",
                  "A felszabadulás ünnepe",
                  "A felszabadulás ünnepe",
                  "HU",
                  "1973-04-04T00:00:00.000Z"
                ],
                [
                  "South Africa",
                  "Van Riebeeck's Day",
                  "Van Riebeeck's Day",
                  "ZA",
                  "1973-04-06T00:00:00.000Z"
                ],
                [
                  "Norway",
                  "Søndag",
                  "Søndag",
                  "NO",
                  "1973-04-08T00:00:00.000Z"
                ],
                [
                  "Sweden",
                  "Söndag",
                  "Söndag",
                  "SE",
                  "1973-04-08T00:00:00.000Z"
                ],
                [
                  "Denmark",
                  "Palmesøndag",
                  "Palmesøndag",
                  "DK",
                  "1973-04-15T00:00:00.000Z"
                ],
                [
                  "Norway",
                  "Søndag",
                  "Søndag",
                  "NO",
                  "1973-04-15T00:00:00.000Z"
                ],
                [
                  "Sweden",
                  "Söndag",
                  "Söndag",
                  "SE",
                  "1973-04-15T00:00:00.000Z"
                ],
                [
                  "Argentina",
                  "Semana Santa (Jueves Santo)  [Holy day (Holy Thursday)]",
                  "Semana Santa (Jueves Santo)  [Holy day (Holy Thursday)]",
                  "AR",
                  "1973-04-19T00:00:00.000Z"
                ],
                [
                  "Colombia",
                  "Jueves Santo [Maundy Thursday]",
                  "Jueves Santo [Maundy Thursday]",
                  "CO",
                  "1973-04-19T00:00:00.000Z"
                ],
                [
                  "Denmark",
                  "Skærtorsdag",
                  "Skærtorsdag",
                  "DK",
                  "1973-04-19T00:00:00.000Z"
                ],
                [
                  "Norway",
                  "Skjærtorsdag",
                  "Skjærtorsdag",
                  "NO",
                  "1973-04-19T00:00:00.000Z"
                ],
                [
                  "Argentina",
                  "Semana Santa (Viernes Santo)  [Holy day (Holy Friday)]",
                  "Semana Santa (Viernes Santo)  [Holy day (Holy Friday)]",
                  "AR",
                  "1973-04-20T00:00:00.000Z"
                ],
                [
                  "Australia",
                  "Good Friday",
                  "Good Friday",
                  "AU",
                  "1973-04-20T00:00:00.000Z"
                ],
                [
                  "Brazil",
                  "Sexta-feira Santa",
                  "Sexta-feira Santa",
                  "BR",
                  "1973-04-20T00:00:00.000Z"
                ],
                [
                  "Canada",
                  "Good Friday",
                  "Good Friday",
                  "CA",
                  "1973-04-20T00:00:00.000Z"
                ],
                [
                  "Colombia",
                  "Viernes Santo [Good Friday]",
                  "Viernes Santo [Good Friday]",
                  "CO",
                  "1973-04-20T00:00:00.000Z"
                ],
                [
                  "Denmark",
                  "Langfredag",
                  "Langfredag",
                  "DK",
                  "1973-04-20T00:00:00.000Z"
                ],
                [
                  "England",
                  "Good Friday",
                  "Good Friday",
                  null,
                  "1973-04-20T00:00:00.000Z"
                ],
                [
                  "Finland",
                  "Pitkäperjantai",
                  "Pitkäperjantai",
                  "FI",
                  "1973-04-20T00:00:00.000Z"
                ],
                [
                  "Isle of Man",
                  "Good Friday",
                  "Good Friday",
                  "IM",
                  "1973-04-20T00:00:00.000Z"
                ],
                [
                  "New Zealand",
                  "Good Friday",
                  "Good Friday",
                  "NZ",
                  "1973-04-20T00:00:00.000Z"
                ],
                [
                  "Northern Ireland",
                  "Good Friday",
                  "Good Friday",
                  null,
                  "1973-04-20T00:00:00.000Z"
                ],
                [
                  "Norway",
                  "Langfredag",
                  "Langfredag",
                  "NO",
                  "1973-04-20T00:00:00.000Z"
                ],
                [
                  "Portugal",
                  "Sexta-feira Santa",
                  "Sexta-feira Santa",
                  "PT",
                  "1973-04-20T00:00:00.000Z"
                ],
                [
                  "Scotland",
                  "Good Friday",
                  "Good Friday",
                  null,
                  "1973-04-20T00:00:00.000Z"
                ],
                [
                  "South Africa",
                  "Good Friday",
                  "Good Friday",
                  "ZA",
                  "1973-04-20T00:00:00.000Z"
                ],
                [
                  "Sweden",
                  "Långfredagen",
                  "Långfredagen",
                  "SE",
                  "1973-04-20T00:00:00.000Z"
                ],
                [
                  "Switzerland",
                  "Karfreitag",
                  "Karfreitag",
                  "CH",
                  "1973-04-20T00:00:00.000Z"
                ],
                [
                  "United Kingdom",
                  "Good Friday",
                  "Good Friday",
                  "GB",
                  "1973-04-20T00:00:00.000Z"
                ],
                [
                  "Wales",
                  "Good Friday",
                  "Good Friday",
                  null,
                  "1973-04-20T00:00:00.000Z"
                ],
                [
                  "Brazil",
                  "Tiradentes",
                  "Tiradentes",
                  "BR",
                  "1973-04-21T00:00:00.000Z"
                ],
                [
                  "Argentina",
                  "Día de Pascuas [Easter Day]",
                  "Día de Pascuas [Easter Day]",
                  "AR",
                  "1973-04-22T00:00:00.000Z"
                ],
                [
                  "Belgium",
                  "Pasen",
                  "Pasen",
                  "BE",
                  "1973-04-22T00:00:00.000Z"
                ],
                [
                  "Brazil",
                  "Páscoa",
                  "Páscoa",
                  "BR",
                  "1973-04-22T00:00:00.000Z"
                ],
                [
                  "Croatia",
                  "Uskrs",
                  "Uskrs",
                  "HR",
                  "1973-04-22T00:00:00.000Z"
                ],
                [
                  "Denmark",
                  "Påskedag",
                  "Påskedag",
                  "DK",
                  "1973-04-22T00:00:00.000Z"
                ],
                [
                  "Finland",
                  "Pääsiäispäivä",
                  "Pääsiäispäivä",
                  "FI",
                  "1973-04-22T00:00:00.000Z"
                ],
                [
                  "Hungary",
                  "Húsvét",
                  "Húsvét",
                  "HU",
                  "1973-04-22T00:00:00.000Z"
                ],
                [
                  "Italy",
                  "Pasqua di Resurrezione",
                  "Pasqua di Resurrezione",
                  "IT",
                  "1973-04-22T00:00:00.000Z"
                ],
                [
                  "Netherlands",
                  "Eerste paasdag",
                  "Eerste paasdag",
                  "NL",
                  "1973-04-22T00:00:00.000Z"
                ],
                [
                  "Norway",
                  "Første påskedag, Søndag",
                  "Første påskedag, Søndag",
                  "NO",
                  "1973-04-22T00:00:00.000Z"
                ],
                [
                  "Poland",
                  "Niedziela Wielkanocna",
                  "Niedziela Wielkanocna",
                  "PL",
                  "1973-04-22T00:00:00.000Z"
                ],
                [
                  "Portugal",
                  "Páscoa",
                  "Páscoa",
                  "PT",
                  "1973-04-22T00:00:00.000Z"
                ],
                [
                  "Sweden",
                  "Påskdagen, Söndag",
                  "Påskdagen, Söndag",
                  "SE",
                  "1973-04-22T00:00:00.000Z"
                ],
                [
                  "Switzerland",
                  "Ostern",
                  "Ostern",
                  "CH",
                  "1973-04-22T00:00:00.000Z"
                ],
                [
                  "Australia",
                  "Easter Monday",
                  "Easter Monday",
                  "AU",
                  "1973-04-23T00:00:00.000Z"
                ],
                [
                  "Austria",
                  "Ostermontag",
                  "Ostermontag",
                  "AT",
                  "1973-04-23T00:00:00.000Z"
                ],
                [
                  "Belgium",
                  "Paasmaandag",
                  "Paasmaandag",
                  "BE",
                  "1973-04-23T00:00:00.000Z"
                ],
                [
                  "Croatia",
                  "Uskrsni ponedjeljak",
                  "Uskrsni ponedjeljak",
                  "HR",
                  "1973-04-23T00:00:00.000Z"
                ],
                [
                  "Czech",
                  "Velikonoční pondělí",
                  "Velikonoční pondělí",
                  "CZ",
                  "1973-04-23T00:00:00.000Z"
                ],
                [
                  "Denmark",
                  "Anden påskedag",
                  "Anden påskedag",
                  "DK",
                  "1973-04-23T00:00:00.000Z"
                ],
                [
                  "England",
                  "Easter Monday",
                  "Easter Monday",
                  null,
                  "1973-04-23T00:00:00.000Z"
                ],
                [
                  "Finland",
                  "2. pääsiäispäivä",
                  "2. pääsiäispäivä",
                  "FI",
                  "1973-04-23T00:00:00.000Z"
                ],
                [
                  "France",
                  "Lundi de Pâques",
                  "Lundi de Pâques",
                  "FR",
                  "1973-04-23T00:00:00.000Z"
                ],
                [
                  "Hungary",
                  "Húsvét Hétfő",
                  "Húsvét Hétfő",
                  "HU",
                  "1973-04-23T00:00:00.000Z"
                ],
                [
                  "Ireland",
                  "Easter Monday",
                  "Easter Monday",
                  "IE",
                  "1973-04-23T00:00:00.000Z"
                ],
                [
                  "Isle of Man",
                  "Easter Monday",
                  "Easter Monday",
                  "IM",
                  "1973-04-23T00:00:00.000Z"
                ],
                [
                  "Italy",
                  "Lunedì dell'Angelo",
                  "Lunedì dell'Angelo",
                  "IT",
                  "1973-04-23T00:00:00.000Z"
                ],
                [
                  "Netherlands",
                  "Tweede paasdag",
                  "Tweede paasdag",
                  "NL",
                  "1973-04-23T00:00:00.000Z"
                ],
                [
                  "New Zealand",
                  "Easter Monday",
                  "Easter Monday",
                  "NZ",
                  "1973-04-23T00:00:00.000Z"
                ],
                [
                  "Northern Ireland",
                  "Easter Monday",
                  "Easter Monday",
                  null,
                  "1973-04-23T00:00:00.000Z"
                ],
                [
                  "Norway",
                  "Andre påskedag",
                  "Andre påskedag",
                  "NO",
                  "1973-04-23T00:00:00.000Z"
                ],
                [
                  "Poland",
                  "Poniedziałek Wielkanocny",
                  "Poniedziałek Wielkanocny",
                  "PL",
                  "1973-04-23T00:00:00.000Z"
                ],
                [
                  "South Africa",
                  "Easter Monday",
                  "Easter Monday",
                  "ZA",
                  "1973-04-23T00:00:00.000Z"
                ],
                [
                  "Sweden",
                  "Annandag påsk",
                  "Annandag påsk",
                  "SE",
                  "1973-04-23T00:00:00.000Z"
                ],
                [
                  "Switzerland",
                  "Ostermontag",
                  "Ostermontag",
                  "CH",
                  "1973-04-23T00:00:00.000Z"
                ],
                [
                  "United Kingdom",
                  "Easter Monday [England, Wales, Northern Ireland]",
                  "Easter Monday",
                  "GB",
                  "1973-04-23T00:00:00.000Z"
                ],
                [
                  "Wales",
                  "Easter Monday",
                  "Easter Monday",
                  null,
                  "1973-04-23T00:00:00.000Z"
                ],
                [
                  "Australia",
                  "Anzac Day",
                  "Anzac Day",
                  "AU",
                  "1973-04-25T00:00:00.000Z"
                ],
                [
                  "Italy",
                  "Festa della Liberazione",
                  "Festa della Liberazione",
                  "IT",
                  "1973-04-25T00:00:00.000Z"
                ],
                [
                  "New Zealand",
                  "Anzac Day",
                  "Anzac Day",
                  "NZ",
                  "1973-04-25T00:00:00.000Z"
                ],
                [
                  "Portugal",
                  "Dia da Liberdade",
                  "Dia da Liberdade",
                  "PT",
                  "1973-04-25T00:00:00.000Z"
                ],
                [
                  "Japan",
                  "天皇誕生日",
                  "天皇誕生日",
                  "JP",
                  "1973-04-29T00:00:00.000Z"
                ],
                [
                  "Norway",
                  "Søndag",
                  "Søndag",
                  "NO",
                  "1973-04-29T00:00:00.000Z"
                ],
                [
                  "Sweden",
                  "Söndag",
                  "Söndag",
                  "SE",
                  "1973-04-29T00:00:00.000Z"
                ],
                [
                  "Japan",
                  "振替休日",
                  "振替休日",
                  "JP",
                  "1973-04-30T00:00:00.000Z"
                ],
                [
                  "Netherlands",
                  "Koninginnedag",
                  "Koninginnedag",
                  "NL",
                  "1973-04-30T00:00:00.000Z"
                ],
                [
                  "Argentina",
                  "Día del Trabajo [Labour Day]",
                  "Día del Trabajo [Labour Day]",
                  "AR",
                  "1973-05-01T00:00:00.000Z"
                ],
                [
                  "Austria",
                  "Staatsfeiertag",
                  "Staatsfeiertag",
                  "AT",
                  "1973-05-01T00:00:00.000Z"
                ],
                [
                  "Belgium",
                  "Dag van de Arbeid",
                  "Dag van de Arbeid",
                  "BE",
                  "1973-05-01T00:00:00.000Z"
                ],
                [
                  "Brazil",
                  "Dia Mundial do Trabalho",
                  "Dia Mundial do Trabalho",
                  "BR",
                  "1973-05-01T00:00:00.000Z"
                ],
                [
                  "Colombia",
                  "Día del Trabajo [Labour Day]",
                  "Día del Trabajo [Labour Day]",
                  "CO",
                  "1973-05-01T00:00:00.000Z"
                ],
                [
                  "Croatia",
                  "Međunarodni praznik rada",
                  "Međunarodni praznik rada",
                  "HR",
                  "1973-05-01T00:00:00.000Z"
                ],
                [
                  "Czech",
                  "Svátek práce",
                  "Svátek práce",
                  "CZ",
                  "1973-05-01T00:00:00.000Z"
                ],
                [
                  "Finland",
                  "Vappu",
                  "Vappu",
                  "FI",
                  "1973-05-01T00:00:00.000Z"
                ],
                [
                  "France",
                  "Fête du Travail",
                  "Fête du Travail",
                  "FR",
                  "1973-05-01T00:00:00.000Z"
                ],
                [
                  "Hungary",
                  "A Munka ünnepe",
                  "A Munka ünnepe",
                  "HU",
                  "1973-05-01T00:00:00.000Z"
                ],
                [
                  "India",
                  "Labour Day",
                  "Labour Day",
                  "IN",
                  "1973-05-01T00:00:00.000Z"
                ],
                [
                  "Italy",
                  "Festa dei Lavoratori",
                  "Festa dei Lavoratori",
                  "IT",
                  "1973-05-01T00:00:00.000Z"
                ],
                [
                  "Mexico",
                  "Día del Trabajo [Labour Day]",
                  "Día del Trabajo [Labour Day]",
                  "MX",
                  "1973-05-01T00:00:00.000Z"
                ],
                [
                  "Norway",
                  "Arbeidernes dag",
                  "Arbeidernes dag",
                  "NO",
                  "1973-05-01T00:00:00.000Z"
                ],
                [
                  "Poland",
                  "Święto Państwowe",
                  "Święto Państwowe",
                  "PL",
                  "1973-05-01T00:00:00.000Z"
                ],
                [
                  "Portugal",
                  "Dia do Trabalhador",
                  "Dia do Trabalhador",
                  "PT",
                  "1973-05-01T00:00:00.000Z"
                ],
                [
                  "Sweden",
                  "Första maj",
                  "Första maj",
                  "SE",
                  "1973-05-01T00:00:00.000Z"
                ],
                [
                  "Ukraine",
                  "День міжнародної солідарності трудящих",
                  "День міжнародної солідарності трудящих",
                  "UA",
                  "1973-05-01T00:00:00.000Z"
                ],
                [
                  "Ukraine",
                  "День міжнародної солідарності трудящих",
                  "День міжнародної солідарності трудящих",
                  "UA",
                  "1973-05-02T00:00:00.000Z"
                ],
                [
                  "Japan",
                  "憲法記念日",
                  "憲法記念日",
                  "JP",
                  "1973-05-03T00:00:00.000Z"
                ],
                [
                  "Poland",
                  "Święto Narodowe Trzeciego Maja",
                  "Święto Narodowe Trzeciego Maja",
                  "PL",
                  "1973-05-03T00:00:00.000Z"
                ],
                [
                  "Japan",
                  "こどもの日",
                  "こどもの日",
                  "JP",
                  "1973-05-05T00:00:00.000Z"
                ],
                [
                  "Norway",
                  "Søndag",
                  "Søndag",
                  "NO",
                  "1973-05-06T00:00:00.000Z"
                ],
                [
                  "Sweden",
                  "Söndag",
                  "Söndag",
                  "SE",
                  "1973-05-06T00:00:00.000Z"
                ],
                [
                  "Czech",
                  "Den vítězství nad hitlerovským fašismem",
                  "Den vítězství nad hitlerovským fašismem",
                  "CZ",
                  "1973-05-09T00:00:00.000Z"
                ],
                [
                  "Ukraine",
                  "День перемоги",
                  "День перемоги",
                  "UA",
                  "1973-05-09T00:00:00.000Z"
                ],
                [
                  "Norway",
                  "Søndag",
                  "Søndag",
                  "NO",
                  "1973-05-13T00:00:00.000Z"
                ],
                [
                  "Sweden",
                  "Söndag",
                  "Söndag",
                  "SE",
                  "1973-05-13T00:00:00.000Z"
                ],
                [
                  "Norway",
                  "Grunnlovsdag",
                  "Grunnlovsdag",
                  "NO",
                  "1973-05-17T00:00:00.000Z"
                ],
                [
                  "Denmark",
                  "Store bededag",
                  "Store bededag",
                  "DK",
                  "1973-05-18T00:00:00.000Z"
                ],
                [
                  "Norway",
                  "Søndag",
                  "Søndag",
                  "NO",
                  "1973-05-20T00:00:00.000Z"
                ],
                [
                  "Sweden",
                  "Söndag",
                  "Söndag",
                  "SE",
                  "1973-05-20T00:00:00.000Z"
                ],
                [
                  "Canada",
                  "Victoria Day",
                  "Victoria Day",
                  "CA",
                  "1973-05-21T00:00:00.000Z"
                ],
                [
                  "Argentina",
                  "Día de la Revolucion de Mayo [May Revolution Day]",
                  "Día de la Revolucion de Mayo [May Revolution Day]",
                  "AR",
                  "1973-05-25T00:00:00.000Z"
                ],
                [
                  "Norway",
                  "Søndag",
                  "Søndag",
                  "NO",
                  "1973-05-27T00:00:00.000Z"
                ],
                [
                  "Sweden",
                  "Söndag",
                  "Söndag",
                  "SE",
                  "1973-05-27T00:00:00.000Z"
                ],
                [
                  "England",
                  "Spring Bank Holiday",
                  "Spring Bank Holiday",
                  null,
                  "1973-05-28T00:00:00.000Z"
                ],
                [
                  "Isle of Man",
                  "Spring Bank Holiday",
                  "Spring Bank Holiday",
                  "IM",
                  "1973-05-28T00:00:00.000Z"
                ],
                [
                  "Northern Ireland",
                  "Spring Bank Holiday",
                  "Spring Bank Holiday",
                  null,
                  "1973-05-28T00:00:00.000Z"
                ],
                [
                  "Scotland",
                  "Spring Bank Holiday",
                  "Spring Bank Holiday",
                  null,
                  "1973-05-28T00:00:00.000Z"
                ],
                [
                  "United Kingdom",
                  "Spring Bank Holiday",
                  "Spring Bank Holiday",
                  "GB",
                  "1973-05-28T00:00:00.000Z"
                ],
                [
                  "United States",
                  "Memorial Day",
                  "Memorial Day",
                  "US",
                  "1973-05-28T00:00:00.000Z"
                ],
                [
                  "Wales",
                  "Spring Bank Holiday",
                  "Spring Bank Holiday",
                  null,
                  "1973-05-28T00:00:00.000Z"
                ],
                [
                  "Austria",
                  "Christi Himmelfahrt",
                  "Christi Himmelfahrt",
                  "AT",
                  "1973-05-31T00:00:00.000Z"
                ],
                [
                  "Belgium",
                  "O.L.H. Hemelvaart",
                  "O.L.H. Hemelvaart",
                  "BE",
                  "1973-05-31T00:00:00.000Z"
                ],
                [
                  "Denmark",
                  "Kristi himmelfartsdag",
                  "Kristi himmelfartsdag",
                  "DK",
                  "1973-05-31T00:00:00.000Z"
                ],
                [
                  "Finland",
                  "Helatorstai",
                  "Helatorstai",
                  "FI",
                  "1973-05-31T00:00:00.000Z"
                ],
                [
                  "France",
                  "Ascension",
                  "Ascension",
                  "FR",
                  "1973-05-31T00:00:00.000Z"
                ],
                [
                  "Netherlands",
                  "Hemelvaart",
                  "Hemelvaart",
                  "NL",
                  "1973-05-31T00:00:00.000Z"
                ],
                [
                  "Norway",
                  "Kristi himmelfartsdag",
                  "Kristi himmelfartsdag",
                  "NO",
                  "1973-05-31T00:00:00.000Z"
                ],
                [
                  "South Africa",
                  "Republic Day",
                  "Republic Day",
                  "ZA",
                  "1973-05-31T00:00:00.000Z"
                ],
                [
                  "Sweden",
                  "Kristi himmelsfärdsdag",
                  "Kristi himmelsfärdsdag",
                  "SE",
                  "1973-05-31T00:00:00.000Z"
                ],
                [
                  "Switzerland",
                  "Auffahrt",
                  "Auffahrt",
                  "CH",
                  "1973-05-31T00:00:00.000Z"
                ],
                [
                  "Isle of Man",
                  "TT Bank Holiday",
                  "TT Bank Holiday",
                  "IM",
                  "1973-06-01T00:00:00.000Z"
                ],
                [
                  "South Africa",
                  "Ascension Day",
                  "Ascension Day",
                  "ZA",
                  "1973-06-01T00:00:00.000Z"
                ],
                [
                  "Italy",
                  "Festa della Repubblica",
                  "Festa della Repubblica",
                  "IT",
                  "1973-06-02T00:00:00.000Z"
                ],
                [
                  "Norway",
                  "Søndag",
                  "Søndag",
                  "NO",
                  "1973-06-03T00:00:00.000Z"
                ],
                [
                  "Sweden",
                  "Söndag",
                  "Söndag",
                  "SE",
                  "1973-06-03T00:00:00.000Z"
                ],
                [
                  "Colombia",
                  "Ascensión del señor [Ascension of Jesus](Observed)",
                  "Ascensión del señor [Ascension of Jesus]",
                  "CO",
                  "1973-06-04T00:00:00.000Z"
                ],
                [
                  "Ireland",
                  "June Bank Holiday",
                  "June Bank Holiday",
                  "IE",
                  "1973-06-04T00:00:00.000Z"
                ],
                [
                  "New Zealand",
                  "Queen's Birthday",
                  "Queen's Birthday",
                  "NZ",
                  "1973-06-04T00:00:00.000Z"
                ],
                [
                  "Belgium",
                  "Pinksteren",
                  "Pinksteren",
                  "BE",
                  "1973-06-10T00:00:00.000Z"
                ],
                [
                  "Denmark",
                  "Pinsedag",
                  "Pinsedag",
                  "DK",
                  "1973-06-10T00:00:00.000Z"
                ],
                [
                  "Finland",
                  "Helluntaipäivä",
                  "Helluntaipäivä",
                  "FI",
                  "1973-06-10T00:00:00.000Z"
                ],
                [
                  "Hungary",
                  "Pünkösd",
                  "Pünkösd",
                  "HU",
                  "1973-06-10T00:00:00.000Z"
                ],
                [
                  "Netherlands",
                  "Eerste Pinksterdag",
                  "Eerste Pinksterdag",
                  "NL",
                  "1973-06-10T00:00:00.000Z"
                ],
                [
                  "Norway",
                  "Første pinsedag, Søndag",
                  "Første pinsedag, Søndag",
                  "NO",
                  "1973-06-10T00:00:00.000Z"
                ],
                [
                  "Poland",
                  "Zielone Świątki",
                  "Zielone Świątki",
                  "PL",
                  "1973-06-10T00:00:00.000Z"
                ],
                [
                  "Portugal",
                  "Dia de Portugal",
                  "Dia de Portugal",
                  "PT",
                  "1973-06-10T00:00:00.000Z"
                ],
                [
                  "Sweden",
                  "Pingstdagen, Söndag",
                  "Pingstdagen, Söndag",
                  "SE",
                  "1973-06-10T00:00:00.000Z"
                ],
                [
                  "Switzerland",
                  "Pfingsten",
                  "Pfingsten",
                  "CH",
                  "1973-06-10T00:00:00.000Z"
                ],
                [
                  "Austria",
                  "Pfingstmontag",
                  "Pfingstmontag",
                  "AT",
                  "1973-06-11T00:00:00.000Z"
                ],
                [
                  "Belgium",
                  "Pinkstermaandag",
                  "Pinkstermaandag",
                  "BE",
                  "1973-06-11T00:00:00.000Z"
                ],
                [
                  "Denmark",
                  "Anden pinsedag",
                  "Anden pinsedag",
                  "DK",
                  "1973-06-11T00:00:00.000Z"
                ],
                [
                  "France",
                  "Lundi de Pentecôte",
                  "Lundi de Pentecôte",
                  "FR",
                  "1973-06-11T00:00:00.000Z"
                ],
                [
                  "Netherlands",
                  "Tweede Pinksterdag",
                  "Tweede Pinksterdag",
                  "NL",
                  "1973-06-11T00:00:00.000Z"
                ],
                [
                  "Norway",
                  "Andre pinsedag",
                  "Andre pinsedag",
                  "NO",
                  "1973-06-11T00:00:00.000Z"
                ],
                [
                  "Sweden",
                  "Annandag pingst",
                  "Annandag pingst",
                  "SE",
                  "1973-06-11T00:00:00.000Z"
                ],
                [
                  "Switzerland",
                  "Pfingstmontag",
                  "Pfingstmontag",
                  "CH",
                  "1973-06-11T00:00:00.000Z"
                ],
                [
                  "Argentina",
                  "Día Pase a la Inmortalidad del General Martín Miguel de Güemes [Day Pass to the Immortality of General Martín Miguel de Güemes]",
                  "Día Pase a la Inmortalidad del General Martín Miguel de Güemes [Day Pass to the Immortality of General Martín Miguel de Güemes]",
                  "AR",
                  "1973-06-17T00:00:00.000Z"
                ],
                [
                  "Norway",
                  "Søndag",
                  "Søndag",
                  "NO",
                  "1973-06-17T00:00:00.000Z"
                ],
                [
                  "Sweden",
                  "Söndag",
                  "Söndag",
                  "SE",
                  "1973-06-17T00:00:00.000Z"
                ],
                [
                  "Argentina",
                  "Día Pase a la Inmortalidad del General D. Manuel Belgrano [Day Pass to the Immortality of General D. Manuel Belgrano]",
                  "Día Pase a la Inmortalidad del General D. Manuel Belgrano [Day Pass to the Immortality of General D. Manuel Belgrano]",
                  "AR",
                  "1973-06-20T00:00:00.000Z"
                ],
                [
                  "Austria",
                  "Fronleichnam",
                  "Fronleichnam",
                  "AT",
                  "1973-06-21T00:00:00.000Z"
                ],
                [
                  "Brazil",
                  "Corpus Christi",
                  "Corpus Christi",
                  "BR",
                  "1973-06-21T00:00:00.000Z"
                ],
                [
                  "Croatia",
                  "Tijelovo",
                  "Tijelovo",
                  "HR",
                  "1973-06-21T00:00:00.000Z"
                ],
                [
                  "Poland",
                  "Dzień Bożego Ciała",
                  "Dzień Bożego Ciała",
                  "PL",
                  "1973-06-21T00:00:00.000Z"
                ],
                [
                  "Portugal",
                  "Corpo de Deus",
                  "Corpo de Deus",
                  "PT",
                  "1973-06-21T00:00:00.000Z"
                ],
                [
                  "Croatia",
                  "Dan antifašističke borbe",
                  "Dan antifašističke borbe",
                  "HR",
                  "1973-06-22T00:00:00.000Z"
                ],
                [
                  "Finland",
                  "Juhannusaatto",
                  "Juhannusaatto",
                  "FI",
                  "1973-06-22T00:00:00.000Z"
                ],
                [
                  "Sweden",
                  "Midsommarafton",
                  "Midsommarafton",
                  "SE",
                  "1973-06-22T00:00:00.000Z"
                ],
                [
                  "Finland",
                  "Juhannuspäivä",
                  "Juhannuspäivä",
                  "FI",
                  "1973-06-23T00:00:00.000Z"
                ],
                [
                  "Sweden",
                  "Midsommardagen",
                  "Midsommardagen",
                  "SE",
                  "1973-06-23T00:00:00.000Z"
                ],
                [
                  "Norway",
                  "Søndag",
                  "Søndag",
                  "NO",
                  "1973-06-24T00:00:00.000Z"
                ],
                [
                  "Sweden",
                  "Söndag",
                  "Söndag",
                  "SE",
                  "1973-06-24T00:00:00.000Z"
                ],
                [
                  "Colombia",
                  "Corpus Christi [Corpus Christi](Observed)",
                  "Corpus Christi [Corpus Christi]",
                  "CO",
                  "1973-06-25T00:00:00.000Z"
                ],
                [
                  "Croatia",
                  "Dan državnosti",
                  "Dan državnosti",
                  "HR",
                  "1973-06-25T00:00:00.000Z"
                ],
                [
                  "Canada",
                  "Dominion Day",
                  "Dominion Day",
                  "CA",
                  "1973-07-01T00:00:00.000Z"
                ],
                [
                  "Norway",
                  "Søndag",
                  "Søndag",
                  "NO",
                  "1973-07-01T00:00:00.000Z"
                ],
                [
                  "Sweden",
                  "Söndag",
                  "Söndag",
                  "SE",
                  "1973-07-01T00:00:00.000Z"
                ],
                [
                  "Canada",
                  "Dominion Day (Observed)",
                  "Dominion Day",
                  "CA",
                  "1973-07-02T00:00:00.000Z"
                ],
                [
                  "Colombia",
                  "Sagrado Corazón [Sacred Heart](Observed), San Pedro y San Pablo [Saint Peter and Saint Paul](Observed)",
                  "Sagrado Corazón [Sacred Heart], San Pedro y San Pablo [Saint Peter and Saint Paul]",
                  "CO",
                  "1973-07-02T00:00:00.000Z"
                ],
                [
                  "United States",
                  "Independence Day",
                  "Independence Day",
                  "US",
                  "1973-07-04T00:00:00.000Z"
                ],
                [
                  "Czech",
                  "Den slovanských věrozvěstů Cyrila a Metoděje",
                  "Den slovanských věrozvěstů Cyrila a Metoděje",
                  "CZ",
                  "1973-07-05T00:00:00.000Z"
                ],
                [
                  "Isle of Man",
                  "Tynwald Day",
                  "Tynwald Day",
                  "IM",
                  "1973-07-05T00:00:00.000Z"
                ],
                [
                  "Czech",
                  "Den upálení mistra Jana Husa",
                  "Den upálení mistra Jana Husa",
                  "CZ",
                  "1973-07-06T00:00:00.000Z"
                ],
                [
                  "Norway",
                  "Søndag",
                  "Søndag",
                  "NO",
                  "1973-07-08T00:00:00.000Z"
                ],
                [
                  "Sweden",
                  "Söndag",
                  "Söndag",
                  "SE",
                  "1973-07-08T00:00:00.000Z"
                ],
                [
                  "Argentina",
                  "Día de la Independencia [Independence Day]",
                  "Día de la Independencia [Independence Day]",
                  "AR",
                  "1973-07-09T00:00:00.000Z"
                ],
                [
                  "South Africa",
                  "Family Day",
                  "Family Day",
                  "ZA",
                  "1973-07-10T00:00:00.000Z"
                ],
                [
                  "Northern Ireland",
                  "Battle of the Boyne",
                  "Battle of the Boyne",
                  null,
                  "1973-07-12T00:00:00.000Z"
                ],
                [
                  "United Kingdom",
                  "Battle of the Boyne [Northern Ireland]",
                  "Battle of the Boyne",
                  "GB",
                  "1973-07-12T00:00:00.000Z"
                ],
                [
                  "France",
                  "Fête nationale",
                  "Fête nationale",
                  "FR",
                  "1973-07-14T00:00:00.000Z"
                ],
                [
                  "Norway",
                  "Søndag",
                  "Søndag",
                  "NO",
                  "1973-07-15T00:00:00.000Z"
                ],
                [
                  "Sweden",
                  "Söndag",
                  "Söndag",
                  "SE",
                  "1973-07-15T00:00:00.000Z"
                ],
                [
                  "Colombia",
                  "Día de la Independencia [Independence Day]",
                  "Día de la Independencia [Independence Day]",
                  "CO",
                  "1973-07-20T00:00:00.000Z"
                ],
                [
                  "Belgium",
                  "Nationale feestdag",
                  "Nationale feestdag",
                  "BE",
                  "1973-07-21T00:00:00.000Z"
                ],
                [
                  "Norway",
                  "Søndag",
                  "Søndag",
                  "NO",
                  "1973-07-22T00:00:00.000Z"
                ],
                [
                  "Sweden",
                  "Söndag",
                  "Söndag",
                  "SE",
                  "1973-07-22T00:00:00.000Z"
                ],
                [
                  "Norway",
                  "Søndag",
                  "Søndag",
                  "NO",
                  "1973-07-29T00:00:00.000Z"
                ],
                [
                  "Sweden",
                  "Söndag",
                  "Söndag",
                  "SE",
                  "1973-07-29T00:00:00.000Z"
                ],
                [
                  "Switzerland",
                  "Nationalfeiertag",
                  "Nationalfeiertag",
                  "CH",
                  "1973-08-01T00:00:00.000Z"
                ],
                [
                  "Croatia",
                  "Dan pobjede i domovinske zahvalnosti",
                  "Dan pobjede i domovinske zahvalnosti",
                  "HR",
                  "1973-08-05T00:00:00.000Z"
                ],
                [
                  "Norway",
                  "Søndag",
                  "Søndag",
                  "NO",
                  "1973-08-05T00:00:00.000Z"
                ],
                [
                  "Sweden",
                  "Söndag",
                  "Söndag",
                  "SE",
                  "1973-08-05T00:00:00.000Z"
                ],
                [
                  "Canada",
                  "Civic Holiday",
                  "Civic Holiday",
                  "CA",
                  "1973-08-06T00:00:00.000Z"
                ],
                [
                  "Ireland",
                  "Summer Bank Holiday",
                  "Summer Bank Holiday",
                  "IE",
                  "1973-08-06T00:00:00.000Z"
                ],
                [
                  "Scotland",
                  "Summer Bank Holiday",
                  "Summer Bank Holiday",
                  null,
                  "1973-08-06T00:00:00.000Z"
                ],
                [
                  "United Kingdom",
                  "Summer Bank Holiday [Scotland]",
                  "Summer Bank Holiday",
                  "GB",
                  "1973-08-06T00:00:00.000Z"
                ],
                [
                  "Colombia",
                  "Batalla de Boyacá [Battle of Boyacá]",
                  "Batalla de Boyacá [Battle of Boyacá]",
                  "CO",
                  "1973-08-07T00:00:00.000Z"
                ],
                [
                  "Norway",
                  "Søndag",
                  "Søndag",
                  "NO",
                  "1973-08-12T00:00:00.000Z"
                ],
                [
                  "Sweden",
                  "Söndag",
                  "Söndag",
                  "SE",
                  "1973-08-12T00:00:00.000Z"
                ],
                [
                  "Austria",
                  "Mariä Himmelfahrt",
                  "Mariä Himmelfahrt",
                  "AT",
                  "1973-08-15T00:00:00.000Z"
                ],
                [
                  "Belgium",
                  "O.L.V. Hemelvaart",
                  "O.L.V. Hemelvaart",
                  "BE",
                  "1973-08-15T00:00:00.000Z"
                ],
                [
                  "Croatia",
                  "Velika Gospa",
                  "Velika Gospa",
                  "HR",
                  "1973-08-15T00:00:00.000Z"
                ],
                [
                  "France",
                  "Assomption",
                  "Assomption",
                  "FR",
                  "1973-08-15T00:00:00.000Z"
                ],
                [
                  "India",
                  "Independence Day",
                  "Independence Day",
                  "IN",
                  "1973-08-15T00:00:00.000Z"
                ],
                [
                  "Italy",
                  "Assunzione della Vergine",
                  "Assunzione della Vergine",
                  "IT",
                  "1973-08-15T00:00:00.000Z"
                ],
                [
                  "Poland",
                  "Wniebowzięcie Najświętszej Marii Panny",
                  "Wniebowzięcie Najświętszej Marii Panny",
                  "PL",
                  "1973-08-15T00:00:00.000Z"
                ],
                [
                  "Portugal",
                  "Assunção de Nossa Senhora",
                  "Assunção de Nossa Senhora",
                  "PT",
                  "1973-08-15T00:00:00.000Z"
                ],
                [
                  "Spain",
                  "Asunción de la Virgen",
                  "Asunción de la Virgen",
                  "ES",
                  "1973-08-15T00:00:00.000Z"
                ],
                [
                  "Argentina",
                  "Día Pase a la Inmortalidad del General D. José de San Martin [Day Pass to the Immortality of General D. José de San Martin]",
                  "Día Pase a la Inmortalidad del General D. José de San Martin [Day Pass to the Immortality of General D. José de San Martin]",
                  "AR",
                  "1973-08-17T00:00:00.000Z"
                ],
                [
                  "Norway",
                  "Søndag",
                  "Søndag",
                  "NO",
                  "1973-08-19T00:00:00.000Z"
                ],
                [
                  "Sweden",
                  "Söndag",
                  "Söndag",
                  "SE",
                  "1973-08-19T00:00:00.000Z"
                ],
                [
                  "Colombia",
                  "La Asunción [Assumption of Mary](Observed)",
                  "La Asunción [Assumption of Mary]",
                  "CO",
                  "1973-08-20T00:00:00.000Z"
                ],
                [
                  "Hungary",
                  "A kenyér ünnepe",
                  "A kenyér ünnepe",
                  "HU",
                  "1973-08-20T00:00:00.000Z"
                ],
                [
                  "Norway",
                  "Søndag",
                  "Søndag",
                  "NO",
                  "1973-08-26T00:00:00.000Z"
                ],
                [
                  "Sweden",
                  "Söndag",
                  "Söndag",
                  "SE",
                  "1973-08-26T00:00:00.000Z"
                ],
                [
                  "England",
                  "Late Summer Bank Holiday",
                  "Late Summer Bank Holiday",
                  null,
                  "1973-08-27T00:00:00.000Z"
                ],
                [
                  "Isle of Man",
                  "Late Summer Bank Holiday",
                  "Late Summer Bank Holiday",
                  "IM",
                  "1973-08-27T00:00:00.000Z"
                ],
                [
                  "Northern Ireland",
                  "Late Summer Bank Holiday",
                  "Late Summer Bank Holiday",
                  null,
                  "1973-08-27T00:00:00.000Z"
                ],
                [
                  "United Kingdom",
                  "Late Summer Bank Holiday [England, Wales, Northern Ireland]",
                  "Late Summer Bank Holiday",
                  "GB",
                  "1973-08-27T00:00:00.000Z"
                ],
                [
                  "Wales",
                  "Late Summer Bank Holiday",
                  "Late Summer Bank Holiday",
                  null,
                  "1973-08-27T00:00:00.000Z"
                ],
                [
                  "Norway",
                  "Søndag",
                  "Søndag",
                  "NO",
                  "1973-09-02T00:00:00.000Z"
                ],
                [
                  "Sweden",
                  "Söndag",
                  "Söndag",
                  "SE",
                  "1973-09-02T00:00:00.000Z"
                ],
                [
                  "Canada",
                  "Labour Day",
                  "Labour Day",
                  "CA",
                  "1973-09-03T00:00:00.000Z"
                ],
                [
                  "South Africa",
                  "Settlers' Day",
                  "Settlers' Day",
                  "ZA",
                  "1973-09-03T00:00:00.000Z"
                ],
                [
                  "United States",
                  "Labor Day",
                  "Labor Day",
                  "US",
                  "1973-09-03T00:00:00.000Z"
                ],
                [
                  "Brazil",
                  "Independência do Brasil",
                  "Independência do Brasil",
                  "BR",
                  "1973-09-07T00:00:00.000Z"
                ],
                [
                  "Norway",
                  "Søndag",
                  "Søndag",
                  "NO",
                  "1973-09-09T00:00:00.000Z"
                ],
                [
                  "Sweden",
                  "Söndag",
                  "Söndag",
                  "SE",
                  "1973-09-09T00:00:00.000Z"
                ],
                [
                  "Japan",
                  "敬老の日",
                  "敬老の日",
                  "JP",
                  "1973-09-15T00:00:00.000Z"
                ],
                [
                  "Mexico",
                  "Día de la Independencia [Independence Day]",
                  "Día de la Independencia [Independence Day]",
                  "MX",
                  "1973-09-16T00:00:00.000Z"
                ],
                [
                  "Norway",
                  "Søndag",
                  "Søndag",
                  "NO",
                  "1973-09-16T00:00:00.000Z"
                ],
                [
                  "Sweden",
                  "Söndag",
                  "Söndag",
                  "SE",
                  "1973-09-16T00:00:00.000Z"
                ],
                [
                  "Mexico",
                  "Día de la Independencia [Independence Day] (Observed)",
                  "Día de la Independencia [Independence Day]",
                  "MX",
                  "1973-09-17T00:00:00.000Z"
                ],
                [
                  "Japan",
                  "秋分の日",
                  "秋分の日",
                  "JP",
                  "1973-09-23T00:00:00.000Z"
                ],
                [
                  "Norway",
                  "Søndag",
                  "Søndag",
                  "NO",
                  "1973-09-23T00:00:00.000Z"
                ],
                [
                  "Sweden",
                  "Söndag",
                  "Söndag",
                  "SE",
                  "1973-09-23T00:00:00.000Z"
                ],
                [
                  "Japan",
                  "振替休日",
                  "振替休日",
                  "JP",
                  "1973-09-24T00:00:00.000Z"
                ],
                [
                  "Norway",
                  "Søndag",
                  "Søndag",
                  "NO",
                  "1973-09-30T00:00:00.000Z"
                ],
                [
                  "Sweden",
                  "Söndag",
                  "Söndag",
                  "SE",
                  "1973-09-30T00:00:00.000Z"
                ],
                [
                  "India",
                  "Gandhi Jayanti",
                  "Gandhi Jayanti",
                  "IN",
                  "1973-10-02T00:00:00.000Z"
                ],
                [
                  "Portugal",
                  "Implantação da República",
                  "Implantação da República",
                  "PT",
                  "1973-10-05T00:00:00.000Z"
                ],
                [
                  "Norway",
                  "Søndag",
                  "Søndag",
                  "NO",
                  "1973-10-07T00:00:00.000Z"
                ],
                [
                  "Sweden",
                  "Söndag",
                  "Söndag",
                  "SE",
                  "1973-10-07T00:00:00.000Z"
                ],
                [
                  "Canada",
                  "Thanksgiving",
                  "Thanksgiving",
                  "CA",
                  "1973-10-08T00:00:00.000Z"
                ],
                [
                  "Croatia",
                  "Dan neovisnosti",
                  "Dan neovisnosti",
                  "HR",
                  "1973-10-08T00:00:00.000Z"
                ],
                [
                  "United States",
                  "Columbus Day",
                  "Columbus Day",
                  "US",
                  "1973-10-08T00:00:00.000Z"
                ],
                [
                  "Japan",
                  "体育の日",
                  "体育の日",
                  "JP",
                  "1973-10-10T00:00:00.000Z"
                ],
                [
                  "South Africa",
                  "Kruger Day",
                  "Kruger Day",
                  "ZA",
                  "1973-10-10T00:00:00.000Z"
                ],
                [
                  "Argentina",
                  "Día de la Raza [Columbus day]",
                  "Día de la Raza [Columbus day]",
                  "AR",
                  "1973-10-12T00:00:00.000Z"
                ],
                [
                  "Brazil",
                  "Nossa Senhora Aparecida",
                  "Nossa Senhora Aparecida",
                  "BR",
                  "1973-10-12T00:00:00.000Z"
                ],
                [
                  "Spain",
                  "Día de la Hispanidad",
                  "Día de la Hispanidad",
                  "ES",
                  "1973-10-12T00:00:00.000Z"
                ],
                [
                  "Norway",
                  "Søndag",
                  "Søndag",
                  "NO",
                  "1973-10-14T00:00:00.000Z"
                ],
                [
                  "Sweden",
                  "Söndag",
                  "Söndag",
                  "SE",
                  "1973-10-14T00:00:00.000Z"
                ],
                [
                  "Colombia",
                  "Descubrimiento de América [Discovery of America](Observed)",
                  "Descubrimiento de América [Discovery of America]",
                  "CO",
                  "1973-10-15T00:00:00.000Z"
                ],
                [
                  "Norway",
                  "Søndag",
                  "Søndag",
                  "NO",
                  "1973-10-21T00:00:00.000Z"
                ],
                [
                  "Sweden",
                  "Söndag",
                  "Söndag",
                  "SE",
                  "1973-10-21T00:00:00.000Z"
                ],
                [
                  "New Zealand",
                  "Labour Day",
                  "Labour Day",
                  "NZ",
                  "1973-10-22T00:00:00.000Z"
                ],
                [
                  "United States",
                  "Veterans Day",
                  "Veterans Day",
                  "US",
                  "1973-10-22T00:00:00.000Z"
                ],
                [
                  "Austria",
                  "Nationalfeiertag",
                  "Nationalfeiertag",
                  "AT",
                  "1973-10-26T00:00:00.000Z"
                ],
                [
                  "Czech",
                  "Den vzniku samostatného československého státu",
                  "Den vzniku samostatného československého státu",
                  "CZ",
                  "1973-10-28T00:00:00.000Z"
                ],
                [
                  "Norway",
                  "Søndag",
                  "Søndag",
                  "NO",
                  "1973-10-28T00:00:00.000Z"
                ],
                [
                  "Sweden",
                  "Söndag",
                  "Söndag",
                  "SE",
                  "1973-10-28T00:00:00.000Z"
                ],
                [
                  "Ireland",
                  "October Bank Holiday",
                  "October Bank Holiday",
                  "IE",
                  "1973-10-29T00:00:00.000Z"
                ],
                [
                  "Austria",
                  "Allerheiligen",
                  "Allerheiligen",
                  "AT",
                  "1973-11-01T00:00:00.000Z"
                ],
                [
                  "Belgium",
                  "Allerheiligen",
                  "Allerheiligen",
                  "BE",
                  "1973-11-01T00:00:00.000Z"
                ],
                [
                  "Croatia",
                  "Svi sveti",
                  "Svi sveti",
                  "HR",
                  "1973-11-01T00:00:00.000Z"
                ],
                [
                  "France",
                  "Toussaint",
                  "Toussaint",
                  "FR",
                  "1973-11-01T00:00:00.000Z"
                ],
                [
                  "Italy",
                  "Tutti i Santi",
                  "Tutti i Santi",
                  "IT",
                  "1973-11-01T00:00:00.000Z"
                ],
                [
                  "Poland",
                  "Uroczystość Wszystkich świętych",
                  "Uroczystość Wszystkich świętych",
                  "PL",
                  "1973-11-01T00:00:00.000Z"
                ],
                [
                  "Portugal",
                  "Dia de Todos os Santos",
                  "Dia de Todos os Santos",
                  "PT",
                  "1973-11-01T00:00:00.000Z"
                ],
                [
                  "Spain",
                  "Todos los Santos",
                  "Todos los Santos",
                  "ES",
                  "1973-11-01T00:00:00.000Z"
                ],
                [
                  "Brazil",
                  "Finados",
                  "Finados",
                  "BR",
                  "1973-11-02T00:00:00.000Z"
                ],
                [
                  "Finland",
                  "Pyhäinpäivä",
                  "Pyhäinpäivä",
                  "FI",
                  "1973-11-03T00:00:00.000Z"
                ],
                [
                  "Japan",
                  "文化の日",
                  "文化の日",
                  "JP",
                  "1973-11-03T00:00:00.000Z"
                ],
                [
                  "Sweden",
                  "Alla helgons dag",
                  "Alla helgons dag",
                  "SE",
                  "1973-11-03T00:00:00.000Z"
                ],
                [
                  "Norway",
                  "Søndag",
                  "Søndag",
                  "NO",
                  "1973-11-04T00:00:00.000Z"
                ],
                [
                  "Sweden",
                  "Söndag",
                  "Söndag",
                  "SE",
                  "1973-11-04T00:00:00.000Z"
                ],
                [
                  "Colombia",
                  "Dia de Todos los Santos [All Saint's Day](Observed)",
                  "Dia de Todos los Santos [All Saint's Day]",
                  "CO",
                  "1973-11-05T00:00:00.000Z"
                ],
                [
                  "Hungary",
                  "A nagy októberi szocialista forradalom ünnepe",
                  "A nagy októberi szocialista forradalom ünnepe",
                  "HU",
                  "1973-11-07T00:00:00.000Z"
                ],
                [
                  "Ukraine",
                  "Річниця Великої Жовтневої соціалістичної революції",
                  "Річниця Великої Жовтневої соціалістичної революції",
                  "UA",
                  "1973-11-07T00:00:00.000Z"
                ],
                [
                  "Ukraine",
                  "Річниця Великої Жовтневої соціалістичної революції",
                  "Річниця Великої Жовтневої соціалістичної революції",
                  "UA",
                  "1973-11-08T00:00:00.000Z"
                ],
                [
                  "Belgium",
                  "Wapenstilstand",
                  "Wapenstilstand",
                  "BE",
                  "1973-11-11T00:00:00.000Z"
                ],
                [
                  "France",
                  "Armistice 1918",
                  "Armistice 1918",
                  "FR",
                  "1973-11-11T00:00:00.000Z"
                ],
                [
                  "Norway",
                  "Søndag",
                  "Søndag",
                  "NO",
                  "1973-11-11T00:00:00.000Z"
                ],
                [
                  "Sweden",
                  "Söndag",
                  "Söndag",
                  "SE",
                  "1973-11-11T00:00:00.000Z"
                ],
                [
                  "Colombia",
                  "Independencia de Cartagena [Independence of Cartagena](Observed)",
                  "Independencia de Cartagena [Independence of Cartagena]",
                  "CO",
                  "1973-11-12T00:00:00.000Z"
                ],
                [
                  "Brazil",
                  "Proclamação da República",
                  "Proclamação da República",
                  "BR",
                  "1973-11-15T00:00:00.000Z"
                ],
                [
                  "Norway",
                  "Søndag",
                  "Søndag",
                  "NO",
                  "1973-11-18T00:00:00.000Z"
                ],
                [
                  "Sweden",
                  "Söndag",
                  "Söndag",
                  "SE",
                  "1973-11-18T00:00:00.000Z"
                ],
                [
                  "Mexico",
                  "Día de la Revolución [Revolution Day]",
                  "Día de la Revolución [Revolution Day]",
                  "MX",
                  "1973-11-20T00:00:00.000Z"
                ],
                [
                  "United States",
                  "Thanksgiving",
                  "Thanksgiving",
                  "US",
                  "1973-11-22T00:00:00.000Z"
                ],
                [
                  "Japan",
                  "勤労感謝の日",
                  "勤労感謝の日",
                  "JP",
                  "1973-11-23T00:00:00.000Z"
                ],
                [
                  "Norway",
                  "Søndag",
                  "Søndag",
                  "NO",
                  "1973-11-25T00:00:00.000Z"
                ],
                [
                  "Sweden",
                  "Söndag",
                  "Söndag",
                  "SE",
                  "1973-11-25T00:00:00.000Z"
                ],
                [
                  "Scotland",
                  "St. Andrew's Day",
                  "St. Andrew's Day",
                  null,
                  "1973-11-30T00:00:00.000Z"
                ],
                [
                  "United Kingdom",
                  "St. Andrew's Day [Scotland]",
                  "St. Andrew's Day",
                  "GB",
                  "1973-11-30T00:00:00.000Z"
                ],
                [
                  "Portugal",
                  "Restauração da Independência",
                  "Restauração da Independência",
                  "PT",
                  "1973-12-01T00:00:00.000Z"
                ],
                [
                  "Norway",
                  "Søndag",
                  "Søndag",
                  "NO",
                  "1973-12-02T00:00:00.000Z"
                ],
                [
                  "Sweden",
                  "Söndag",
                  "Söndag",
                  "SE",
                  "1973-12-02T00:00:00.000Z"
                ],
                [
                  "Ukraine",
                  "День Конституції СРСР",
                  "День Конституції СРСР",
                  "UA",
                  "1973-12-05T00:00:00.000Z"
                ],
                [
                  "Finland",
                  "Itsenäisyyspäivä",
                  "Itsenäisyyspäivä",
                  "FI",
                  "1973-12-06T00:00:00.000Z"
                ],
                [
                  "Spain",
                  "Día de la constitución Española",
                  "Día de la constitución Española",
                  "ES",
                  "1973-12-06T00:00:00.000Z"
                ],
                [
                  "Argentina",
                  "La Inmaculada Concepción [Immaculate Conception]",
                  "La Inmaculada Concepción [Immaculate Conception]",
                  "AR",
                  "1973-12-08T00:00:00.000Z"
                ],
                [
                  "Austria",
                  "Mariä Empfängnis",
                  "Mariä Empfängnis",
                  "AT",
                  "1973-12-08T00:00:00.000Z"
                ],
                [
                  "Italy",
                  "Immacolata Concezione",
                  "Immacolata Concezione",
                  "IT",
                  "1973-12-08T00:00:00.000Z"
                ],
                [
                  "Portugal",
                  "Imaculada Conceição",
                  "Imaculada Conceição",
                  "PT",
                  "1973-12-08T00:00:00.000Z"
                ],
                [
                  "Spain",
                  "La Inmaculada Concepción",
                  "La Inmaculada Concepción",
                  "ES",
                  "1973-12-08T00:00:00.000Z"
                ],
                [
                  "Norway",
                  "Søndag",
                  "Søndag",
                  "NO",
                  "1973-12-09T00:00:00.000Z"
                ],
                [
                  "Sweden",
                  "Söndag",
                  "Söndag",
                  "SE",
                  "1973-12-09T00:00:00.000Z"
                ],
                [
                  "Norway",
                  "Søndag",
                  "Søndag",
                  "NO",
                  "1973-12-16T00:00:00.000Z"
                ],
                [
                  "South Africa",
                  "Day of the Covenant",
                  "Day of the Covenant",
                  "ZA",
                  "1973-12-16T00:00:00.000Z"
                ],
                [
                  "Sweden",
                  "Söndag",
                  "Söndag",
                  "SE",
                  "1973-12-16T00:00:00.000Z"
                ],
                [
                  "Norway",
                  "Søndag",
                  "Søndag",
                  "NO",
                  "1973-12-23T00:00:00.000Z"
                ],
                [
                  "Sweden",
                  "Söndag",
                  "Söndag",
                  "SE",
                  "1973-12-23T00:00:00.000Z"
                ],
                [
                  "Finland",
                  "Jouluaatto",
                  "Jouluaatto",
                  "FI",
                  "1973-12-24T00:00:00.000Z"
                ],
                [
                  "Sweden",
                  "Julafton",
                  "Julafton",
                  "SE",
                  "1973-12-24T00:00:00.000Z"
                ],
                [
                  "Argentina",
                  "Navidad [Christmas]",
                  "Navidad [Christmas]",
                  "AR",
                  "1973-12-25T00:00:00.000Z"
                ],
                [
                  "Australia",
                  "Christmas Day",
                  "Christmas Day",
                  "AU",
                  "1973-12-25T00:00:00.000Z"
                ],
                [
                  "Austria",
                  "Christtag",
                  "Christtag",
                  "AT",
                  "1973-12-25T00:00:00.000Z"
                ],
                [
                  "Belgium",
                  "Kerstmis",
                  "Kerstmis",
                  "BE",
                  "1973-12-25T00:00:00.000Z"
                ],
                [
                  "Brazil",
                  "Natal",
                  "Natal",
                  "BR",
                  "1973-12-25T00:00:00.000Z"
                ],
                [
                  "Canada",
                  "Christmas Day",
                  "Christmas Day",
                  "CA",
                  "1973-12-25T00:00:00.000Z"
                ],
                [
                  "Colombia",
                  "Navidad [Christmas]",
                  "Navidad [Christmas]",
                  "CO",
                  "1973-12-25T00:00:00.000Z"
                ],
                [
                  "Croatia",
                  "Božić",
                  "Božić",
                  "HR",
                  "1973-12-25T00:00:00.000Z"
                ],
                [
                  "Czech",
                  "1. svátek vánoční",
                  "1. svátek vánoční",
                  "CZ",
                  "1973-12-25T00:00:00.000Z"
                ],
                [
                  "Denmark",
                  "Juledag",
                  "Juledag",
                  "DK",
                  "1973-12-25T00:00:00.000Z"
                ],
                [
                  "England",
                  "Christmas Day",
                  "Christmas Day",
                  null,
                  "1973-12-25T00:00:00.000Z"
                ],
                [
                  "Finland",
                  "Joulupäivä",
                  "Joulupäivä",
                  "FI",
                  "1973-12-25T00:00:00.000Z"
                ],
                [
                  "France",
                  "Noël",
                  "Noël",
                  "FR",
                  "1973-12-25T00:00:00.000Z"
                ],
                [
                  "Hungary",
                  "Karácsony",
                  "Karácsony",
                  "HU",
                  "1973-12-25T00:00:00.000Z"
                ],
                [
                  "India",
                  "Christmas",
                  "Christmas",
                  "IN",
                  "1973-12-25T00:00:00.000Z"
                ],
                [
                  "Ireland",
                  "Christmas Day",
                  "Christmas Day",
                  "IE",
                  "1973-12-25T00:00:00.000Z"
                ],
                [
                  "Isle of Man",
                  "Christmas Day",
                  "Christmas Day",
                  "IM",
                  "1973-12-25T00:00:00.000Z"
                ],
                [
                  "Italy",
                  "Natale",
                  "Natale",
                  "IT",
                  "1973-12-25T00:00:00.000Z"
                ],
                [
                  "Mexico",
                  "Navidad [Christmas]",
                  "Navidad [Christmas]",
                  "MX",
                  "1973-12-25T00:00:00.000Z"
                ],
                [
                  "Netherlands",
                  "Eerste Kerstdag",
                  "Eerste Kerstdag",
                  "NL",
                  "1973-12-25T00:00:00.000Z"
                ],
                [
                  "New Zealand",
                  "Christmas Day",
                  "Christmas Day",
                  "NZ",
                  "1973-12-25T00:00:00.000Z"
                ],
                [
                  "Northern Ireland",
                  "Christmas Day",
                  "Christmas Day",
                  null,
                  "1973-12-25T00:00:00.000Z"
                ],
                [
                  "Norway",
                  "Første juledag",
                  "Første juledag",
                  "NO",
                  "1973-12-25T00:00:00.000Z"
                ],
                [
                  "Poland",
                  "Boże Narodzenie (pierwszy dzień)",
                  "Boże Narodzenie (pierwszy dzień)",
                  "PL",
                  "1973-12-25T00:00:00.000Z"
                ],
                [
                  "Portugal",
                  "Dia de Natal",
                  "Dia de Natal",
                  "PT",
                  "1973-12-25T00:00:00.000Z"
                ],
                [
                  "Scotland",
                  "Christmas Day",
                  "Christmas Day",
                  null,
                  "1973-12-25T00:00:00.000Z"
                ],
                [
                  "South Africa",
                  "Christmas Day",
                  "Christmas Day",
                  "ZA",
                  "1973-12-25T00:00:00.000Z"
                ],
                [
                  "Spain",
                  "Navidad",
                  "Navidad",
                  "ES",
                  "1973-12-25T00:00:00.000Z"
                ],
                [
                  "Sweden",
                  "Juldagen",
                  "Juldagen",
                  "SE",
                  "1973-12-25T00:00:00.000Z"
                ],
                [
                  "Switzerland",
                  "Weihnachten",
                  "Weihnachten",
                  "CH",
                  "1973-12-25T00:00:00.000Z"
                ],
                [
                  "United Kingdom",
                  "Christmas Day",
                  "Christmas Day",
                  "GB",
                  "1973-12-25T00:00:00.000Z"
                ],
                [
                  "United States",
                  "Christmas Day",
                  "Christmas Day",
                  "US",
                  "1973-12-25T00:00:00.000Z"
                ],
                [
                  "Wales",
                  "Christmas Day",
                  "Christmas Day",
                  null,
                  "1973-12-25T00:00:00.000Z"
                ],
                [
                  "Australia",
                  "Boxing Day",
                  "Boxing Day",
                  "AU",
                  "1973-12-26T00:00:00.000Z"
                ],
                [
                  "Austria",
                  "Stefanitag",
                  "Stefanitag",
                  "AT",
                  "1973-12-26T00:00:00.000Z"
                ],
                [
                  "Canada",
                  "Boxing Day",
                  "Boxing Day",
                  "CA",
                  "1973-12-26T00:00:00.000Z"
                ],
                [
                  "Croatia",
                  "Sveti Stjepan",
                  "Sveti Stjepan",
                  "HR",
                  "1973-12-26T00:00:00.000Z"
                ],
                [
                  "Czech",
                  "2. svátek vánoční",
                  "2. svátek vánoční",
                  "CZ",
                  "1973-12-26T00:00:00.000Z"
                ],
                [
                  "Denmark",
                  "Anden juledag",
                  "Anden juledag",
                  "DK",
                  "1973-12-26T00:00:00.000Z"
                ],
                [
                  "England",
                  "Boxing Day",
                  "Boxing Day",
                  null,
                  "1973-12-26T00:00:00.000Z"
                ],
                [
                  "Finland",
                  "Tapaninpäivä",
                  "Tapaninpäivä",
                  "FI",
                  "1973-12-26T00:00:00.000Z"
                ],
                [
                  "Hungary",
                  "Karácsony másnapja",
                  "Karácsony másnapja",
                  "HU",
                  "1973-12-26T00:00:00.000Z"
                ],
                [
                  "Ireland",
                  "Boxing Day",
                  "Boxing Day",
                  "IE",
                  "1973-12-26T00:00:00.000Z"
                ],
                [
                  "Isle of Man",
                  "Boxing Day",
                  "Boxing Day",
                  "IM",
                  "1973-12-26T00:00:00.000Z"
                ],
                [
                  "Italy",
                  "Santo Stefano",
                  "Santo Stefano",
                  "IT",
                  "1973-12-26T00:00:00.000Z"
                ],
                [
                  "Netherlands",
                  "Tweede Kerstdag",
                  "Tweede Kerstdag",
                  "NL",
                  "1973-12-26T00:00:00.000Z"
                ],
                [
                  "New Zealand",
                  "Boxing Day",
                  "Boxing Day",
                  "NZ",
                  "1973-12-26T00:00:00.000Z"
                ],
                [
                  "Northern Ireland",
                  "Boxing Day",
                  "Boxing Day",
                  null,
                  "1973-12-26T00:00:00.000Z"
                ],
                [
                  "Norway",
                  "Andre juledag",
                  "Andre juledag",
                  "NO",
                  "1973-12-26T00:00:00.000Z"
                ],
                [
                  "Poland",
                  "Boże Narodzenie (drugi dzień)",
                  "Boże Narodzenie (drugi dzień)",
                  "PL",
                  "1973-12-26T00:00:00.000Z"
                ],
                [
                  "Scotland",
                  "Boxing Day",
                  "Boxing Day",
                  null,
                  "1973-12-26T00:00:00.000Z"
                ],
                [
                  "South Africa",
                  "Boxing Day",
                  "Boxing Day",
                  "ZA",
                  "1973-12-26T00:00:00.000Z"
                ],
                [
                  "Sweden",
                  "Annandag jul",
                  "Annandag jul",
                  "SE",
                  "1973-12-26T00:00:00.000Z"
                ],
                [
                  "United Kingdom",
                  "Boxing Day",
                  "Boxing Day",
                  "GB",
                  "1973-12-26T00:00:00.000Z"
                ],
                [
                  "Wales",
                  "Boxing Day",
                  "Boxing Day",
                  null,
                  "1973-12-26T00:00:00.000Z"
                ],
                [
                  "Norway",
                  "Søndag",
                  "Søndag",
                  "NO",
                  "1973-12-30T00:00:00.000Z"
                ],
                [
                  "Sweden",
                  "Söndag",
                  "Söndag",
                  "SE",
                  "1973-12-30T00:00:00.000Z"
                ],
                [
                  "Sweden",
                  "Nyårsafton",
                  "Nyårsafton",
                  "SE",
                  "1973-12-31T00:00:00.000Z"
                ],
                [
                  "Argentina",
                  "Año Nuevo [New Year's Day]",
                  "Año Nuevo [New Year's Day]",
                  "AR",
                  "1974-01-01T00:00:00.000Z"
                ],
                [
                  "Australia",
                  "New Year's Day",
                  "New Year's Day",
                  "AU",
                  "1974-01-01T00:00:00.000Z"
                ],
                [
                  "Austria",
                  "Neujahr",
                  "Neujahr",
                  "AT",
                  "1974-01-01T00:00:00.000Z"
                ],
                [
                  "Belgium",
                  "Nieuwjaarsdag",
                  "Nieuwjaarsdag",
                  "BE",
                  "1974-01-01T00:00:00.000Z"
                ],
                [
                  "Brazil",
                  "Ano novo",
                  "Ano novo",
                  "BR",
                  "1974-01-01T00:00:00.000Z"
                ],
                [
                  "Canada",
                  "New Year's Day",
                  "New Year's Day",
                  "CA",
                  "1974-01-01T00:00:00.000Z"
                ],
                [
                  "Colombia",
                  "Año Nuevo [New Year's Day]",
                  "Año Nuevo [New Year's Day]",
                  "CO",
                  "1974-01-01T00:00:00.000Z"
                ],
                [
                  "Croatia",
                  "Nova Godina",
                  "Nova Godina",
                  "HR",
                  "1974-01-01T00:00:00.000Z"
                ],
                [
                  "Czech",
                  "Nový rok",
                  "Nový rok",
                  "CZ",
                  "1974-01-01T00:00:00.000Z"
                ],
                [
                  "Denmark",
                  "Nytårsdag",
                  "Nytårsdag",
                  "DK",
                  "1974-01-01T00:00:00.000Z"
                ],
                [
                  "England",
                  "New Year's Day",
                  "New Year's Day",
                  null,
                  "1974-01-01T00:00:00.000Z"
                ],
                [
                  "Finland",
                  "Uudenvuodenpäivä",
                  "Uudenvuodenpäivä",
                  "FI",
                  "1974-01-01T00:00:00.000Z"
                ],
                [
                  "France",
                  "Jour de l'an",
                  "Jour de l'an",
                  "FR",
                  "1974-01-01T00:00:00.000Z"
                ],
                [
                  "Hungary",
                  "Újév",
                  "Újév",
                  "HU",
                  "1974-01-01T00:00:00.000Z"
                ],
                [
                  "Ireland",
                  "New Year's Day",
                  "New Year's Day",
                  "IE",
                  "1974-01-01T00:00:00.000Z"
                ],
                [
                  "Isle of Man",
                  "New Year's Day",
                  "New Year's Day",
                  "IM",
                  "1974-01-01T00:00:00.000Z"
                ],
                [
                  "Italy",
                  "Capodanno",
                  "Capodanno",
                  "IT",
                  "1974-01-01T00:00:00.000Z"
                ],
                [
                  "Japan",
                  "元日",
                  "元日",
                  "JP",
                  "1974-01-01T00:00:00.000Z"
                ],
                [
                  "Mexico",
                  "Año Nuevo [New Year's Day]",
                  "Año Nuevo [New Year's Day]",
                  "MX",
                  "1974-01-01T00:00:00.000Z"
                ],
                [
                  "Netherlands",
                  "Nieuwjaarsdag",
                  "Nieuwjaarsdag",
                  "NL",
                  "1974-01-01T00:00:00.000Z"
                ],
                [
                  "New Zealand",
                  "New Year's Day",
                  "New Year's Day",
                  "NZ",
                  "1974-01-01T00:00:00.000Z"
                ],
                [
                  "Northern Ireland",
                  "New Year's Day",
                  "New Year's Day",
                  null,
                  "1974-01-01T00:00:00.000Z"
                ],
                [
                  "Norway",
                  "Første nyttårsdag",
                  "Første nyttårsdag",
                  "NO",
                  "1974-01-01T00:00:00.000Z"
                ],
                [
                  "Poland",
                  "Nowy Rok",
                  "Nowy Rok",
                  "PL",
                  "1974-01-01T00:00:00.000Z"
                ],
                [
                  "Portugal",
                  "Ano Novo",
                  "Ano Novo",
                  "PT",
                  "1974-01-01T00:00:00.000Z"
                ],
                [
                  "Scotland",
                  "New Year's Day",
                  "New Year's Day",
                  null,
                  "1974-01-01T00:00:00.000Z"
                ],
                [
                  "South Africa",
                  "New Year's Day",
                  "New Year's Day",
                  "ZA",
                  "1974-01-01T00:00:00.000Z"
                ],
                [
                  "Spain",
                  "Año nuevo",
                  "Año nuevo",
                  "ES",
                  "1974-01-01T00:00:00.000Z"
                ],
                [
                  "Sweden",
                  "Nyårsdagen",
                  "Nyårsdagen",
                  "SE",
                  "1974-01-01T00:00:00.000Z"
                ],
                [
                  "Switzerland",
                  "Neujahrestag",
                  "Neujahrestag",
                  "CH",
                  "1974-01-01T00:00:00.000Z"
                ],
                [
                  "Ukraine",
                  "Новий рік",
                  "Новий рік",
                  "UA",
                  "1974-01-01T00:00:00.000Z"
                ],
                [
                  "United Kingdom",
                  "New Year's Day",
                  "New Year's Day",
                  "GB",
                  "1974-01-01T00:00:00.000Z"
                ],
                [
                  "United States",
                  "New Year's Day",
                  "New Year's Day",
                  "US",
                  "1974-01-01T00:00:00.000Z"
                ],
                [
                  "Wales",
                  "New Year's Day",
                  "New Year's Day",
                  null,
                  "1974-01-01T00:00:00.000Z"
                ],
                [
                  "New Zealand",
                  "Day after New Year's Day",
                  "Day after New Year's Day",
                  "NZ",
                  "1974-01-02T00:00:00.000Z"
                ],
                [
                  "Scotland",
                  "New Year Holiday",
                  "New Year Holiday",
                  null,
                  "1974-01-02T00:00:00.000Z"
                ],
                [
                  "United Kingdom",
                  "New Year Holiday [Scotland]",
                  "New Year Holiday",
                  "GB",
                  "1974-01-02T00:00:00.000Z"
                ],
                [
                  "Austria",
                  "Heilige Drei Könige",
                  "Heilige Drei Könige",
                  "AT",
                  "1974-01-06T00:00:00.000Z"
                ],
                [
                  "Croatia",
                  "Sveta tri kralja",
                  "Sveta tri kralja",
                  "HR",
                  "1974-01-06T00:00:00.000Z"
                ],
                [
                  "Finland",
                  "Loppiainen",
                  "Loppiainen",
                  "FI",
                  "1974-01-06T00:00:00.000Z"
                ],
                [
                  "Italy",
                  "Epifania del Signore",
                  "Epifania del Signore",
                  "IT",
                  "1974-01-06T00:00:00.000Z"
                ],
                [
                  "Norway",
                  "Søndag",
                  "Søndag",
                  "NO",
                  "1974-01-06T00:00:00.000Z"
                ],
                [
                  "Spain",
                  "Epifanía del Señor",
                  "Epifanía del Señor",
                  "ES",
                  "1974-01-06T00:00:00.000Z"
                ],
                [
                  "Sweden",
                  "Trettondedag jul, Söndag",
                  "Trettondedag jul, Söndag",
                  "SE",
                  "1974-01-06T00:00:00.000Z"
                ],
                [
                  "Colombia",
                  "Día de los Reyes Magos [Epiphany](Observed)",
                  "Día de los Reyes Magos [Epiphany]",
                  "CO",
                  "1974-01-07T00:00:00.000Z"
                ],
                [
                  "Norway",
                  "Søndag",
                  "Søndag",
                  "NO",
                  "1974-01-13T00:00:00.000Z"
                ],
                [
                  "Sweden",
                  "Söndag",
                  "Söndag",
                  "SE",
                  "1974-01-13T00:00:00.000Z"
                ],
                [
                  "India",
                  "Makar Sankranti / Pongal",
                  "Makar Sankranti / Pongal",
                  "IN",
                  "1974-01-14T00:00:00.000Z"
                ],
                [
                  "Japan",
                  "成人の日",
                  "成人の日",
                  "JP",
                  "1974-01-15T00:00:00.000Z"
                ],
                [
                  "Norway",
                  "Søndag",
                  "Søndag",
                  "NO",
                  "1974-01-20T00:00:00.000Z"
                ],
                [
                  "Sweden",
                  "Söndag",
                  "Söndag",
                  "SE",
                  "1974-01-20T00:00:00.000Z"
                ],
                [
                  "Australia",
                  "Australia Day",
                  "Australia Day",
                  "AU",
                  "1974-01-26T00:00:00.000Z"
                ],
                [
                  "India",
                  "Republic Day",
                  "Republic Day",
                  "IN",
                  "1974-01-26T00:00:00.000Z"
                ],
                [
                  "Norway",
                  "Søndag",
                  "Søndag",
                  "NO",
                  "1974-01-27T00:00:00.000Z"
                ],
                [
                  "Sweden",
                  "Söndag",
                  "Söndag",
                  "SE",
                  "1974-01-27T00:00:00.000Z"
                ],
                [
                  "Australia",
                  "Australia Day (Observed)",
                  "Australia Day",
                  "AU",
                  "1974-01-28T00:00:00.000Z"
                ],
                [
                  "Norway",
                  "Søndag",
                  "Søndag",
                  "NO",
                  "1974-02-03T00:00:00.000Z"
                ],
                [
                  "Sweden",
                  "Söndag",
                  "Söndag",
                  "SE",
                  "1974-02-03T00:00:00.000Z"
                ],
                [
                  "Mexico",
                  "Día de la Constitución [Constitution Day]",
                  "Día de la Constitución [Constitution Day]",
                  "MX",
                  "1974-02-05T00:00:00.000Z"
                ],
                [
                  "New Zealand",
                  "New Zealand Day",
                  "New Zealand Day",
                  "NZ",
                  "1974-02-06T00:00:00.000Z"
                ],
                [
                  "Norway",
                  "Søndag",
                  "Søndag",
                  "NO",
                  "1974-02-10T00:00:00.000Z"
                ],
                [
                  "Sweden",
                  "Söndag",
                  "Söndag",
                  "SE",
                  "1974-02-10T00:00:00.000Z"
                ],
                [
                  "Japan",
                  "建国記念の日",
                  "建国記念の日",
                  "JP",
                  "1974-02-11T00:00:00.000Z"
                ],
                [
                  "Norway",
                  "Søndag",
                  "Søndag",
                  "NO",
                  "1974-02-17T00:00:00.000Z"
                ],
                [
                  "Sweden",
                  "Söndag",
                  "Söndag",
                  "SE",
                  "1974-02-17T00:00:00.000Z"
                ],
                [
                  "United States",
                  "Washington's Birthday",
                  "Washington's Birthday",
                  "US",
                  "1974-02-18T00:00:00.000Z"
                ],
                [
                  "Norway",
                  "Søndag",
                  "Søndag",
                  "NO",
                  "1974-02-24T00:00:00.000Z"
                ],
                [
                  "Sweden",
                  "Söndag",
                  "Söndag",
                  "SE",
                  "1974-02-24T00:00:00.000Z"
                ],
                [
                  "Argentina",
                  "Día de Carnaval [Carnival's Day]",
                  "Día de Carnaval [Carnival's Day]",
                  "AR",
                  "1974-02-25T00:00:00.000Z"
                ],
                [
                  "Argentina",
                  "Día de Carnaval [Carnival's Day]",
                  "Día de Carnaval [Carnival's Day]",
                  "AR",
                  "1974-02-26T00:00:00.000Z"
                ],
                [
                  "Brazil",
                  "Carnaval",
                  "Carnaval",
                  "BR",
                  "1974-02-26T00:00:00.000Z"
                ],
                [
                  "Brazil",
                  "Quarta-feira de cinzas (Início da Quaresma)",
                  "Quarta-feira de cinzas (Início da Quaresma)",
                  "BR",
                  "1974-02-27T00:00:00.000Z"
                ],
                [
                  "Norway",
                  "Søndag",
                  "Søndag",
                  "NO",
                  "1974-03-03T00:00:00.000Z"
                ],
                [
                  "Sweden",
                  "Söndag",
                  "Söndag",
                  "SE",
                  "1974-03-03T00:00:00.000Z"
                ],
                [
                  "Ukraine",
                  "Міжнародний жіночий день",
                  "Міжнародний жіночий день",
                  "UA",
                  "1974-03-08T00:00:00.000Z"
                ],
                [
                  "Norway",
                  "Søndag",
                  "Søndag",
                  "NO",
                  "1974-03-10T00:00:00.000Z"
                ],
                [
                  "Sweden",
                  "Söndag",
                  "Söndag",
                  "SE",
                  "1974-03-10T00:00:00.000Z"
                ],
                [
                  "Ireland",
                  "St. Patrick's Day",
                  "St. Patrick's Day",
                  "IE",
                  "1974-03-17T00:00:00.000Z"
                ],
                [
                  "Northern Ireland",
                  "St. Patrick's Day",
                  "St. Patrick's Day",
                  null,
                  "1974-03-17T00:00:00.000Z"
                ],
                [
                  "Norway",
                  "Søndag",
                  "Søndag",
                  "NO",
                  "1974-03-17T00:00:00.000Z"
                ],
                [
                  "Sweden",
                  "Söndag",
                  "Söndag",
                  "SE",
                  "1974-03-17T00:00:00.000Z"
                ],
                [
                  "United Kingdom",
                  "St. Patrick's Day [Northern Ireland]",
                  "St. Patrick's Day",
                  "GB",
                  "1974-03-17T00:00:00.000Z"
                ],
                [
                  "Ireland",
                  "St. Patrick's Day (Observed)",
                  "St. Patrick's Day",
                  "IE",
                  "1974-03-18T00:00:00.000Z"
                ],
                [
                  "Northern Ireland",
                  "St. Patrick's Day (Observed)",
                  "St. Patrick's Day",
                  null,
                  "1974-03-18T00:00:00.000Z"
                ],
                [
                  "United Kingdom",
                  "St. Patrick's Day [Northern Ireland] (Observed)",
                  "St. Patrick's Day",
                  "GB",
                  "1974-03-18T00:00:00.000Z"
                ],
                [
                  "Hungary",
                  "A Tanácsköztársaság kikiáltásának ünnepe",
                  "A Tanácsköztársaság kikiáltásának ünnepe",
                  "HU",
                  "1974-03-21T00:00:00.000Z"
                ],
                [
                  "Japan",
                  "春分の日",
                  "春分の日",
                  "JP",
                  "1974-03-21T00:00:00.000Z"
                ],
                [
                  "Mexico",
                  "Natalicio de Benito Juárez [Benito Juárez's birthday]",
                  "Natalicio de Benito Juárez [Benito Juárez's birthday]",
                  "MX",
                  "1974-03-21T00:00:00.000Z"
                ],
                [
                  "Argentina",
                  "Día Nacional de la Memoria por la Verdad y la Justicia [Memory's National Day for the Truth and Justice]",
                  "Día Nacional de la Memoria por la Verdad y la Justicia [Memory's National Day for the Truth and Justice]",
                  "AR",
                  "1974-03-24T00:00:00.000Z"
                ],
                [
                  "Norway",
                  "Søndag",
                  "Søndag",
                  "NO",
                  "1974-03-24T00:00:00.000Z"
                ],
                [
                  "Sweden",
                  "Söndag",
                  "Söndag",
                  "SE",
                  "1974-03-24T00:00:00.000Z"
                ],
                [
                  "Colombia",
                  "Día de San José [Saint Joseph's Day](Observed)",
                  "Día de San José [Saint Joseph's Day]",
                  "CO",
                  "1974-03-25T00:00:00.000Z"
                ],
                [
                  "Norway",
                  "Søndag",
                  "Søndag",
                  "NO",
                  "1974-03-31T00:00:00.000Z"
                ],
                [
                  "Sweden",
                  "Söndag",
                  "Söndag",
                  "SE",
                  "1974-03-31T00:00:00.000Z"
                ],
                [
                  "Argentina",
                  "Día del Veterano y de los Caidos en la Guerra de Malvinas [Veterans Day and the Fallen in the Malvinas War]",
                  "Día del Veterano y de los Caidos en la Guerra de Malvinas [Veterans Day and the Fallen in the Malvinas War]",
                  "AR",
                  "1974-04-02T00:00:00.000Z"
                ],
                [
                  "Hungary",
                  "A felszabadulás ünnepe",
                  "A felszabadulás ünnepe",
                  "HU",
                  "1974-04-04T00:00:00.000Z"
                ],
                [
                  "Denmark",
                  "Palmesøndag",
                  "Palmesøndag",
                  "DK",
                  "1974-04-07T00:00:00.000Z"
                ],
                [
                  "Norway",
                  "Søndag",
                  "Søndag",
                  "NO",
                  "1974-04-07T00:00:00.000Z"
                ],
                [
                  "Sweden",
                  "Söndag",
                  "Söndag",
                  "SE",
                  "1974-04-07T00:00:00.000Z"
                ],
                [
                  "Argentina",
                  "Semana Santa (Jueves Santo)  [Holy day (Holy Thursday)]",
                  "Semana Santa (Jueves Santo)  [Holy day (Holy Thursday)]",
                  "AR",
                  "1974-04-11T00:00:00.000Z"
                ]
              ],
              "schema": [
                "countryOrRegion",
                "holidayName",
                "normalizeHolidayName",
                "countryRegionCode",
                "date"
              ]
            }
          },
          "metadata": {}
        }
      ],
      "metadata": {},
      "source": [
        "display(hol_df_raw)"
      ],
      "attachments": {}
    },
    {
      "cell_type": "code",
      "execution_count": 74,
      "outputs": [
        {
          "output_type": "execute_result",
          "execution_count": 74,
          "data": {
            "text/plain": "import java.sql.Timestamp\nimport org.joda.time.DateTime\nendtime: java.sql.Timestamp = 2020-04-26 08:50:52.293\nstarttime: java.sql.Timestamp = 2019-10-26 08:50:53.06\nhol_df: org.apache.spark.sql.Dataset[org.apache.spark.sql.Row] = [countryOrRegion: string, holidayName: string ... 4 more fields]\n+---------------+----------------------------------------------+----------------------------------------------+-------------+-----------------+-------------------+\n|countryOrRegion|holidayName                                   |normalizeHolidayName                          |isPaidTimeOff|countryRegionCode|date               |\n+---------------+----------------------------------------------+----------------------------------------------+-------------+-----------------+-------------------+\n|Norway         |Søndag                                        |Søndag                                        |null         |NO               |2019-10-27 00:00:00|\n|Sweden         |Söndag                                        |Söndag                                        |null         |SE               |2019-10-27 00:00:00|\n|Czech          |Den vzniku samostatného československého státu|Den vzniku samostatného československého státu|null         |CZ               |2019-10-28 00:00:00|\n|Ireland        |October Bank Holiday                          |October Bank Holiday                          |null         |IE               |2019-10-28 00:00:00|\n|New Zealand    |Labour Day                                    |Labour Day                                    |null         |NZ               |2019-10-28 00:00:00|\n|Slovenia       |dan reformacije                               |dan reformacije                               |null         |SI               |2019-10-31 00:00:00|\n|Austria        |Allerheiligen                                 |Allerheiligen                                 |null         |AT               |2019-11-01 00:00:00|\n|Belgium        |Allerheiligen                                 |Allerheiligen                                 |null         |BE               |2019-11-01 00:00:00|\n|Croatia        |Svi sveti                                     |Svi sveti                                     |null         |HR               |2019-11-01 00:00:00|\n|France         |Toussaint                                     |Toussaint                                     |null         |FR               |2019-11-01 00:00:00|\n|Hungary        |Mindenszentek                                 |Mindenszentek                                 |null         |HU               |2019-11-01 00:00:00|\n|Italy          |Tutti i Santi                                 |Tutti i Santi                                 |null         |IT               |2019-11-01 00:00:00|\n|Poland         |Uroczystość Wszystkich świętych               |Uroczystość Wszystkich świętych               |null         |PL               |2019-11-01 00:00:00|\n|Portugal       |Dia de Todos os Santos                        |Dia de Todos os Santos                        |null         |PT               |2019-11-01 00:00:00|\n|Slovenia       |dan spomina na mrtve                          |dan spomina na mrtve                          |null         |SI               |2019-11-01 00:00:00|\n|Spain          |Todos los Santos                              |Todos los Santos                              |null         |ES               |2019-11-01 00:00:00|\n|Brazil         |Finados                                       |Finados                                       |null         |BR               |2019-11-02 00:00:00|\n|Finland        |Pyhäinpäivä                                   |Pyhäinpäivä                                   |null         |FI               |2019-11-02 00:00:00|\n|Sweden         |Alla helgons dag                              |Alla helgons dag                              |null         |SE               |2019-11-02 00:00:00|\n|Japan          |文化の日                                      |文化の日                                      |null         |JP               |2019-11-03 00:00:00|\n+---------------+----------------------------------------------+----------------------------------------------+-------------+-----------------+-------------------+\nonly showing top 20 rows"
          },
          "metadata": {}
        }
      ],
      "metadata": {},
      "source": [
        "// Filter out data for the latest 6 months\n",
        "import java.sql.Timestamp\n",
        "import org.joda.time.DateTime\n",
        "\n",
        "val endtime = new Timestamp(DateTime.now.getMillis)\n",
        "val starttime = new Timestamp(DateTime.now.minusMonths(6).getMillis)\n",
        "\n",
        "val hol_df = hol_df_raw.filter((hol_df_raw(\"date\") >= starttime) && (hol_df_raw(\"date\") <= endtime)) \n",
        "hol_df.show(truncate = false)"
      ],
      "attachments": {}
    },
    {
      "cell_type": "markdown",
      "metadata": {},
      "source": [
        "## Write data to the Delta Lake table\n",
        ""
      ],
      "attachments": {}
    },
    {
      "cell_type": "code",
      "execution_count": 75,
      "outputs": [
        {
          "output_type": "execute_result",
          "execution_count": 75,
          "data": {
            "text/plain": "account_name: String = ltianwestus2gen2\ncontainer_name: String = mydefault\nrelative_path: String = samplenb/\nadls_path: String = abfss://mydefault@ltianwestus2gen2.dfs.core.windows.net/samplenb/\ndelta_relative_path: String = abfss://mydefault@ltianwestus2gen2.dfs.core.windows.net/samplenb/delta/holiday/"
          },
          "metadata": {}
        }
      ],
      "metadata": {},
      "source": [
        "// Set primary storage info\n",
        "val account_name = \"ltianwestus2gen2\" // fill in your primary storage account name\n",
        "val container_name = \"mydefault\" // fill in your container name\n",
        "val relative_path = \"samplenb/\" // fill in your relative folder path\n",
        "\n",
        "// Set the strorage path info\n",
        "val adls_path = f\"abfss://$container_name@$account_name.dfs.core.windows.net/$relative_path\" \n",
        "\n",
        "// Delta Lake relative path\n",
        "val delta_relative_path = adls_path + \"delta/holiday/\""
      ],
      "attachments": {}
    },
    {
      "cell_type": "code",
      "execution_count": 76,
      "outputs": [
        {
          "output_type": "execute_result",
          "execution_count": 76,
          "data": {
            "text/plain": "hol_df_IN: org.apache.spark.sql.Dataset[org.apache.spark.sql.Row] = [countryOrRegion: string, holidayName: string ... 4 more fields]\n+---------------+------------------------+------------------------+-------------+-----------------+-------------------+\n|countryOrRegion|holidayName             |normalizeHolidayName    |isPaidTimeOff|countryRegionCode|date               |\n+---------------+------------------------+------------------------+-------------+-----------------+-------------------+\n|India          |Christmas               |Christmas               |false        |IN               |2019-12-25 00:00:00|\n|India          |Makar Sankranti / Pongal|Makar Sankranti / Pongal|false        |IN               |2020-01-14 00:00:00|\n|India          |Republic Day            |Republic Day            |true         |IN               |2020-01-26 00:00:00|\n+---------------+------------------------+------------------------+-------------+-----------------+-------------------+"
          },
          "metadata": {}
        }
      ],
      "metadata": {},
      "source": [
        "// Filter out indian holidays\n",
        "val hol_df_IN = hol_df.filter(hol_df(\"countryRegionCode\") === \"IN\")\n",
        "hol_df_IN.show(truncate = false)"
      ],
      "attachments": {}
    },
    {
      "cell_type": "code",
      "execution_count": 77,
      "outputs": [
        {
          "output_type": "execute_result",
          "execution_count": 77,
          "data": {
            "text/plain": "import org.apache.spark.sql.SaveMode"
          },
          "metadata": {}
        }
      ],
      "metadata": {},
      "source": [
        "//Let's write the data in the Delta Lake table. \n",
        "import org.apache.spark.sql.SaveMode\n",
        "\n",
        "hol_df_IN.write.mode(\"overwrite\").format(\"delta\").partitionBy(\"holidayName\").save(delta_relative_path)"
      ],
      "attachments": {}
    },
    {
      "cell_type": "code",
      "execution_count": 78,
      "outputs": [
        {
          "output_type": "execute_result",
          "execution_count": 78,
          "data": {
            "text/plain": "delta_data: org.apache.spark.sql.DataFrame = [countryOrRegion: string, holidayName: string ... 4 more fields]\n+---------------+------------------------+------------------------+-------------+-----------------+-------------------+\n|countryOrRegion|holidayName             |normalizeHolidayName    |isPaidTimeOff|countryRegionCode|date               |\n+---------------+------------------------+------------------------+-------------+-----------------+-------------------+\n|India          |Makar Sankranti / Pongal|Makar Sankranti / Pongal|false        |IN               |2020-01-14 00:00:00|\n|India          |Republic Day            |Republic Day            |true         |IN               |2020-01-26 00:00:00|\n|India          |Christmas               |Christmas               |false        |IN               |2019-12-25 00:00:00|\n+---------------+------------------------+------------------------+-------------+-----------------+-------------------+"
          },
          "metadata": {}
        }
      ],
      "metadata": {},
      "source": [
        "val delta_data = spark.read.format(\"delta\").load(delta_relative_path)\n",
        "delta_data.show(truncate = false)"
      ],
      "attachments": {}
    },
    {
      "cell_type": "markdown",
      "metadata": {},
      "source": [
        "## Overwrite the entire Delta Lake table\n",
        ""
      ],
      "attachments": {}
    },
    {
      "cell_type": "code",
      "execution_count": 79,
      "outputs": [
        {
          "output_type": "execute_result",
          "execution_count": 79,
          "data": {
            "text/plain": "hol_df_JP: org.apache.spark.sql.Dataset[org.apache.spark.sql.Row] = [countryOrRegion: string, holidayName: string ... 4 more fields]"
          },
          "metadata": {}
        }
      ],
      "metadata": {},
      "source": [
        "//Let's overwrite the entire delta file with 1 record\n",
        "val hol_df_JP= hol_df.filter(hol_df(\"countryRegionCode\") === \"JP\")\n",
        "hol_df_JP.write.format(\"delta\").mode(\"overwrite\").save(delta_relative_path)"
      ],
      "attachments": {}
    },
    {
      "cell_type": "code",
      "execution_count": 80,
      "outputs": [
        {
          "output_type": "execute_result",
          "execution_count": 80,
          "data": {
            "text/plain": "delta_data: org.apache.spark.sql.DataFrame = [countryOrRegion: string, holidayName: string ... 4 more fields]\n+---------------+------------+--------------------+-------------+-----------------+-------------------+\n|countryOrRegion|holidayName |normalizeHolidayName|isPaidTimeOff|countryRegionCode|date               |\n+---------------+------------+--------------------+-------------+-----------------+-------------------+\n|Japan          |勤労感謝の日|勤労感謝の日        |null         |JP               |2019-11-23 00:00:00|\n|Japan          |建国記念の日|建国記念の日        |null         |JP               |2020-02-11 00:00:00|\n|Japan          |天皇誕生日  |天皇誕生日          |null         |JP               |2020-02-23 00:00:00|\n|Japan          |文化の日    |文化の日            |null         |JP               |2019-11-03 00:00:00|\n|Japan          |成人の日    |成人の日            |null         |JP               |2020-01-13 00:00:00|\n|Japan          |春分の日    |春分の日            |null         |JP               |2020-03-20 00:00:00|\n|Japan          |振替休日    |振替休日            |null         |JP               |2019-11-04 00:00:00|\n|Japan          |振替休日    |振替休日            |null         |JP               |2020-02-24 00:00:00|\n|Japan          |元日        |元日                |null         |JP               |2020-01-01 00:00:00|\n+---------------+------------+--------------------+-------------+-----------------+-------------------+"
          },
          "metadata": {}
        }
      ],
      "metadata": {},
      "source": [
        "val delta_data = spark.read.format(\"delta\").load(delta_relative_path)\n",
        "delta_data.show(truncate = false)"
      ],
      "attachments": {}
    },
    {
      "cell_type": "markdown",
      "metadata": {},
      "source": [
        "## Merge new data based on given merge condition "
      ],
      "attachments": {}
    },
    {
      "cell_type": "code",
      "execution_count": 81,
      "outputs": [
        {
          "output_type": "execute_result",
          "execution_count": 81,
          "data": {
            "text/plain": "import io.delta.tables._\ndeltaTable: io.delta.tables.DeltaTable = io.delta.tables.DeltaTable@3ca38f11\nhol_df_US: org.apache.spark.sql.Dataset[org.apache.spark.sql.Row] = [countryOrRegion: string, holidayName: string ... 4 more fields]\n+---------------+--------------------------+--------------------------+-------------+-----------------+-------------------+\n|countryOrRegion|holidayName               |normalizeHolidayName      |isPaidTimeOff|countryRegionCode|date               |\n+---------------+--------------------------+--------------------------+-------------+-----------------+-------------------+\n|United States  |Martin Luther King Jr. Day|Martin Luther King Jr. Day|null         |US               |2020-01-20 00:00:00|\n|United States  |Washington's Birthday     |Washington's Birthday     |true         |US               |2020-02-17 00:00:00|\n|United States  |New Year's Day            |New Year's Day            |true         |US               |2020-01-01 00:00:00|\n|United States  |Christmas Day             |Christmas Day             |true         |US               |2019-12-25 00:00:00|\n|United States  |Veterans Day              |Veterans Day              |false        |US               |2019-11-11 00:00:00|\n|United States  |Thanksgiving              |Thanksgiving              |true         |US               |2019-11-28 00:00:00|\n|Japan          |勤労感謝の日              |勤労感謝の日              |null         |JP               |2019-11-23 00:00:00|\n|Japan          |建国記念の日              |建国記念の日              |null         |JP               |2020-02-11 00:00:00|\n|Japan          |天皇誕生日                |天皇誕生日                |null         |JP               |2020-02-23 00:00:00|\n|Japan          |文化の日                  |文化の日                  |null         |JP               |2019-11-03 00:00:00|\n|Japan          |成人の日                  |成人の日                  |null         |JP               |2020-01-13 00:00:00|\n|Japan          |春分の日                  |春分の日                  |null         |JP               |2020-03-20 00:00:00|\n|Japan          |振替休日                  |振替休日                  |null         |JP               |2019-11-04 00:00:00|\n|Japan          |振替休日                  |振替休日                  |null         |JP               |2020-02-24 00:00:00|\n|Japan          |元日                      |元日                      |null         |JP               |2020-01-01 00:00:00|\n+---------------+--------------------------+--------------------------+-------------+-----------------+-------------------+"
          },
          "metadata": {}
        }
      ],
      "metadata": {},
      "source": [
        "// Upsert (merge) the United States' holiday data with Japan's\n",
        " \n",
        "import io.delta.tables._ \n",
        "\n",
        "val deltaTable = DeltaTable.forPath(spark,delta_relative_path)\n",
        "val hol_df_US= hol_df.filter(hol_df(\"countryRegionCode\") === \"US\")\n",
        "\n",
        "deltaTable.as(\"hol_df_JP\").merge(hol_df_US.as(\"hol_df_US\"),\n",
        "     \"hol_df_JP.countryRegionCode = hol_df_US.countryRegionCode\").whenNotMatched.insertExpr(Map(\n",
        "         \"countryOrRegion\" -> \"hol_df_US.countryOrRegion\",\n",
        "         \"holidayName\" -> \"hol_df_US.holidayName\",\n",
        "         \"normalizeHolidayName\" -> \"hol_df_US.normalizeHolidayName\",\n",
        "         \"isPaidTimeOff\"-> \"hol_df_US.isPaidTimeOff\",\n",
        "         \"countryRegionCode\"->\"hol_df_US.countryRegionCode\",\n",
        "         \"date\"->\"hol_df_US.date\")).execute()\n",
        "\n",
        "deltaTable.toDF.show(truncate = false)"
      ],
      "attachments": {}
    },
    {
      "cell_type": "markdown",
      "metadata": {},
      "source": [
        "## Update table on the rows that match the given condition\n",
        ""
      ],
      "attachments": {}
    },
    {
      "cell_type": "code",
      "execution_count": 82,
      "outputs": [
        {
          "output_type": "execute_result",
          "execution_count": 82,
          "data": {
            "text/plain": "import io.delta.tables._\nimport org.apache.spark.sql.functions._\nimport spark.implicits._\n+---------------+--------------------------+--------------------------+-------------+-----------------+-------------------+\n|countryOrRegion|holidayName               |normalizeHolidayName      |isPaidTimeOff|countryRegionCode|date               |\n+---------------+--------------------------+--------------------------+-------------+-----------------+-------------------+\n|United States  |Martin Luther King Jr. Day|Martin Luther King Jr. Day|false        |US               |2020-01-20 00:00:00|\n|United States  |Washington's Birthday     |Washington's Birthday     |true         |US               |2020-02-17 00:00:00|\n|United States  |New Year's Day            |New Year's Day            |true         |US               |2020-01-01 00:00:00|\n|United States  |Christmas Day             |Christmas Day             |true         |US               |2019-12-25 00:00:00|\n|United States  |Veterans Day              |Veterans Day              |false        |US               |2019-11-11 00:00:00|\n|United States  |Thanksgiving              |Thanksgiving              |true         |US               |2019-11-28 00:00:00|\n|Japan          |勤労感謝の日              |勤労感謝の日              |false        |JP               |2019-11-23 00:00:00|\n|Japan          |建国記念の日              |建国記念の日              |false        |JP               |2020-02-11 00:00:00|\n|Japan          |天皇誕生日                |天皇誕生日                |false        |JP               |2020-02-23 00:00:00|\n|Japan          |文化の日                  |文化の日                  |false        |JP               |2019-11-03 00:00:00|\n|Japan          |成人の日                  |成人の日                  |false        |JP               |2020-01-13 00:00:00|\n|Japan          |春分の日                  |春分の日                  |false        |JP               |2020-03-20 00:00:00|\n|Japan          |振替休日                  |振替休日                  |false        |JP               |2019-11-04 00:00:00|\n|Japan          |振替休日                  |振替休日                  |false        |JP               |2020-02-24 00:00:00|\n|Japan          |元日                      |元日                      |false        |JP               |2020-01-01 00:00:00|\n+---------------+--------------------------+--------------------------+-------------+-----------------+-------------------+"
          },
          "metadata": {}
        }
      ],
      "metadata": {},
      "source": [
        "// Update column the 'null' value in 'isPaidTimeOff' with 'false'\n",
        "import io.delta.tables._ \n",
        "import org.apache.spark.sql.functions._\n",
        "import spark.implicits._\n",
        "\n",
        "deltaTable.update(col(\"isPaidTimeOff\").isNull, Map(\"isPaidTimeOff\" -> lit(\"false\")));\n",
        "\n",
        "deltaTable.toDF.show(truncate = false)"
      ],
      "attachments": {}
    },
    {
      "cell_type": "markdown",
      "metadata": {},
      "source": [
        "## Delete data from the table that match the given condition\n",
        ""
      ],
      "attachments": {}
    },
    {
      "cell_type": "code",
      "execution_count": 83,
      "outputs": [
        {
          "output_type": "execute_result",
          "execution_count": 83,
          "data": {
            "text/plain": "Row count before delete: \n15\nRow count after delete:  \n6\n+---------------+-------------+--------------------+-------------+-----------------+-------------------+\n|countryOrRegion|  holidayName|normalizeHolidayName|isPaidTimeOff|countryRegionCode|               date|\n+---------------+-------------+--------------------+-------------+-----------------+-------------------+\n|  United States|Christmas Day|       Christmas Day|         true|               US|2019-12-25 00:00:00|\n|  United States| Veterans Day|        Veterans Day|        false|               US|2019-11-11 00:00:00|\n|  United States| Thanksgiving|        Thanksgiving|         true|               US|2019-11-28 00:00:00|\n|          Japan| 勤労感謝の日|        勤労感謝の日|        false|               JP|2019-11-23 00:00:00|\n|          Japan|     振替休日|            振替休日|        false|               JP|2019-11-04 00:00:00|\n|          Japan|     文化の日|            文化の日|        false|               JP|2019-11-03 00:00:00|\n+---------------+-------------+--------------------+-------------+-----------------+-------------------+"
          },
          "metadata": {}
        }
      ],
      "metadata": {},
      "source": [
        "println(\"Row count before delete: \")\n",
        "println(deltaTable.toDF.count())\n",
        "\n",
        "\n",
        "// Delte data with date later than 2020-01-01\n",
        "deltaTable.delete (\"date > '2020-01-01'\")\n",
        "\n",
        "\n",
        "println(\"Row count after delete:  \")\n",
        "println(deltaTable.toDF.count())\n",
        "deltaTable.toDF.show()"
      ],
      "attachments": {}
    },
    {
      "cell_type": "markdown",
      "metadata": {},
      "source": [
        "## Get the operation history of the delta table\n",
        ""
      ],
      "attachments": {}
    },
    {
      "cell_type": "code",
      "execution_count": 84,
      "outputs": [
        {
          "output_type": "execute_result",
          "execution_count": 84,
          "data": {
            "text/plain": "fullHistoryDF: org.apache.spark.sql.DataFrame = [version: bigint, timestamp: timestamp ... 10 more fields]\nlastOperationDF: org.apache.spark.sql.DataFrame = [version: bigint, timestamp: timestamp ... 10 more fields]\nFull history DF: \n+-------+-------------------+------+--------+---------+------------------------------------------------------------------------------+----+--------+---------+-----------+--------------+-------------+\n|version|timestamp          |userId|userName|operation|operationParameters                                                           |job |notebook|clusterId|readVersion|isolationLevel|isBlindAppend|\n+-------+-------------------+------+--------+---------+------------------------------------------------------------------------------+----+--------+---------+-----------+--------------+-------------+\n|70     |2020-04-26 08:53:34|null  |null    |DELETE   |[predicate -> [\"(CAST(`date` AS STRING) > '2020-01-01')\"]]                    |null|null    |null     |69         |null          |false        |\n|69     |2020-04-26 08:53:00|null  |null    |UPDATE   |[predicate -> isnull(isPaidTimeOff#3687)]                                     |null|null    |null     |68         |null          |false        |\n|68     |2020-04-26 08:52:26|null  |null    |MERGE    |[predicate -> (hol_df_JP.`countryRegionCode` = hol_df_US.`countryRegionCode`)]|null|null    |null     |67         |null          |false        |\n|67     |2020-04-26 08:51:52|null  |null    |WRITE    |[mode -> Overwrite, partitionBy -> []]                                        |null|null    |null     |66         |null          |false        |\n|66     |2020-04-26 08:51:26|null  |null    |WRITE    |[mode -> Overwrite, partitionBy -> [\"holidayName\"]]                           |null|null    |null     |65         |null          |false        |\n|65     |2020-04-26 08:48:09|null  |null    |DELETE   |[predicate -> [\"(CAST(`date` AS STRING) > '2020-01-01')\"]]                    |null|null    |null     |64         |null          |false        |\n|64     |2020-04-26 08:42:17|null  |null    |UPDATE   |[predicate -> isnull(isPaidTimeOff#1919)]                                     |null|null    |null     |63         |null          |false        |\n|63     |2020-04-26 08:17:00|null  |null    |MERGE    |[predicate -> (hol_df_JP.`countryRegionCode` = hol_df_US.`countryRegionCode`)]|null|null    |null     |62         |null          |false        |\n|62     |2020-04-26 08:16:35|null  |null    |WRITE    |[mode -> Overwrite, partitionBy -> []]                                        |null|null    |null     |61         |null          |false        |\n|61     |2020-04-26 08:16:17|null  |null    |WRITE    |[mode -> Overwrite, partitionBy -> [\"holidayName\"]]                           |null|null    |null     |60         |null          |false        |\n|60     |2020-04-26 08:15:01|null  |null    |MERGE    |[predicate -> (hol_df_JP.`countryRegionCode` = hol_df_US.`countryRegionCode`)]|null|null    |null     |59         |null          |false        |\n|59     |2020-04-26 08:13:49|null  |null    |MERGE    |[predicate -> (hol_df_JP.`countryRegionCode` = hol_df_US.`countryRegionCode`)]|null|null    |null     |58         |null          |false        |\n|58     |2020-04-26 08:13:21|null  |null    |MERGE    |[predicate -> (hol_df_JP.`countryRegionCode` = hol_df_US.`countryRegionCode`)]|null|null    |null     |57         |null          |false        |\n|57     |2020-04-26 08:12:40|null  |null    |WRITE    |[mode -> Overwrite, partitionBy -> []]                                        |null|null    |null     |56         |null          |false        |\n|56     |2020-04-26 08:12:03|null  |null    |WRITE    |[mode -> Overwrite, partitionBy -> [\"holidayName\"]]                           |null|null    |null     |55         |null          |false        |\n|55     |2020-04-26 07:16:31|null  |null    |MERGE    |[predicate -> (hol_df_JP.`countryRegionCode` = hol_df_US.`countryRegionCode`)]|null|null    |null     |54         |null          |false        |\n|54     |2020-04-26 07:15:55|null  |null    |MERGE    |[predicate -> (hol_df_JP.`countryRegionCode` = hol_df_US.`countryRegionCode`)]|null|null    |null     |53         |null          |false        |\n|53     |2020-04-26 07:15:05|null  |null    |MERGE    |[predicate -> (hol_df_JP.`countryRegionCode` = hol_df_US.`countryRegionCode`)]|null|null    |null     |52         |null          |false        |\n|52     |2020-04-26 07:11:23|null  |null    |MERGE    |[predicate -> (hol_df_JP.`countryRegionCode` = hol_df_US.`countryRegionCode`)]|null|null    |null     |51         |null          |false        |\n|51     |2020-04-26 07:08:20|null  |null    |MERGE    |[predicate -> (hol_df_JP.`countryRegionCode` = hol_df_US.`countryRegionCode`)]|null|null    |null     |50         |null          |false        |\n+-------+-------------------+------+--------+---------+------------------------------------------------------------------------------+----+--------+---------+-----------+--------------+-------------+\nonly showing top 20 rows\n\nlastOperationDF: +-------+-------------------+------+--------+---------+----------------------------------------------------------+----+--------+---------+-----------+--------------+-------------+\n|version|timestamp          |userId|userName|operation|operationParameters                                       |job |notebook|clusterId|readVersion|isolationLevel|isBlindAppend|\n+-------+-------------------+------+--------+---------+----------------------------------------------------------+----+--------+---------+-----------+--------------+-------------+\n|70     |2020-04-26 08:53:34|null  |null    |DELETE   |[predicate -> [\"(CAST(`date` AS STRING) > '2020-01-01')\"]]|null|null    |null     |69         |null          |false        |\n+-------+-------------------+------+--------+---------+----------------------------------------------------------+----+--------+---------+-----------+--------------+-------------+"
          },
          "metadata": {}
        }
      ],
      "metadata": {},
      "source": [
        "val fullHistoryDF = deltaTable.history()\n",
        "val lastOperationDF = deltaTable.history(1)\n",
        "\n",
        "println(\"Full history DF: \")\n",
        "fullHistoryDF.show(truncate = false)\n",
        "\n",
        "print(\"lastOperationDF: \")\n",
        "lastOperationDF.show(truncate = false)"
      ],
      "attachments": {}
    }
  ]
}