{
  "metadata": {
    "saveOutput": true,
    "language_info": {
      "name": "scala"
    }
  },
  "nbformat": 4,
  "nbformat_minor": 2,
  "cells": [
    {
      "cell_type": "markdown",
      "metadata": {},
      "source": [
        "#  Updates and GDPR using Delta Lake - Scala\n",
        "\n",
        "In this notebook, we will review Delta Lake's end-to-end capabilities in Scala. You can also look at the original Quick Start guide if you are not familiar with [Delta Lake](https://github.com/delta-io/delta) [here](https://docs.delta.io/latest/quick-start.html). It provides code snippets that show how to read from and write to Delta Lake tables from interactive, batch, and streaming queries.\n",
        "\n",
        "In this notebook, we will cover the following:\n",
        "\n",
        "- Creating sample mock data containing customer orders\n",
        "- Writing this data into storage in Delta Lake table format (or in short, Delta table)\n",
        "- Querying the Delta table using functional and SQL\n",
        "- The Curious Case of Forgotten Discount - Making corrections to data\n",
        "- Enforcing GDPR on your data\n",
        "- Oops, enforced it on the wrong customer! - Looking at the audit log to find mistakes in operations\n",
        "- Rollback all the way!\n",
        "- Closing the loop - 'defrag' your data"
      ],
      "attachments": {}
    },
    {
      "cell_type": "markdown",
      "metadata": {},
      "source": [
        "# Creating sample mock data containing customer orders\n",
        "\n",
        "For this tutorial, we will setup a sample file containing customer orders with a simple schema: (order_id, order_date, customer_name, price)."
      ],
      "attachments": {}
    },
    {
      "cell_type": "code",
      "execution_count": 20,
      "outputs": [
        {
          "output_type": "execute_result",
          "execution_count": 20,
          "data": {
            "text/plain": "res34: org.apache.spark.sql.DataFrame = []\nres35: org.apache.spark.sql.DataFrame = []\norders: org.apache.spark.sql.DataFrame = [order_id: int, order_date: string ... 2 more fields]\n+--------+----------+-------------+-----+\n|order_id|order_date|customer_name|price|\n+--------+----------+-------------+-----+\n|       1|2019-11-01|       Saveen|  100|\n|       2|2019-11-01|        Terry|   50|\n|       3|2019-11-01|     Priyanka|  100|\n|       4|2019-11-02|        Steve|   10|\n|       5|2019-11-03|        Rahul|   10|\n|       6|2019-11-03|     Niharika|   75|\n|       7|2019-11-03|         Elva|   90|\n|       8|2019-11-04|       Andrew|   70|\n|       9|2019-11-05|      Michael|   20|\n|      10|2019-11-05|       Brigit|   25|\n+--------+----------+-------------+-----+\n\nroot\n |-- order_id: integer (nullable = false)\n |-- order_date: string (nullable = false)\n |-- customer_name: string (nullable = false)\n |-- price: integer (nullable = false)"
          },
          "metadata": {}
        }
      ],
      "metadata": {},
      "source": [
        "spark.sql(\"DROP TABLE IF EXISTS input\");\n",
        "spark.sql(\"\"\"\n",
        "          CREATE TEMPORARY VIEW input \n",
        "          AS SELECT 1 order_id, '2019-11-01' order_date, 'Saveen' customer_name, 100 price\n",
        "          UNION ALL SELECT 2, '2019-11-01', 'Terry', 50\n",
        "          UNION ALL SELECT 3, '2019-11-01', 'Priyanka', 100\n",
        "          UNION ALL SELECT 4, '2019-11-02', 'Steve', 10\n",
        "          UNION ALL SELECT 5, '2019-11-03', 'Rahul', 10\n",
        "          UNION ALL SELECT 6, '2019-11-03', 'Niharika', 75\n",
        "          UNION ALL SELECT 7, '2019-11-03', 'Elva', 90\n",
        "          UNION ALL SELECT 8, '2019-11-04', 'Andrew', 70\n",
        "          UNION ALL SELECT 9, '2019-11-05', 'Michael', 20\n",
        "          UNION ALL SELECT 10, '2019-11-05', 'Brigit', 25\"\"\")\n",
        "var orders = spark.sql(\"SELECT * FROM input\")\n",
        "orders.show()\n",
        "orders.printSchema()"
      ],
      "attachments": {}
    },
    {
      "cell_type": "markdown",
      "metadata": {},
      "source": [
        "# Writing this data into storage in Delta Lake table format (or in short, Delta table)\n",
        "\n",
        "To create a Delta Lake table, you can write a DataFrame out in the **delta** format. You can use existing Spark SQL code and change the format from parquet, csv, json, and so on, to delta. These operations create a new Delta Lake table using the schema that was inferred from your DataFrame. \n",
        "\n",
        "If you already have existing data in Parquet format, you can do an \"in-place\" conversion to Delta Lake format. The code would look like following:\n",
        "\n",
        "DeltaTable.convertToDelta(spark, $\"parquet.`{path_to_data}`\");\n",
        "\n",
        "//Confirm that the converted data is now in the Delta format\n",
        "DeltaTable.isDeltaTable(parquetPath)"
      ],
      "attachments": {}
    },
    {
      "cell_type": "code",
      "execution_count": 21,
      "outputs": [
        {
          "output_type": "execute_result",
          "execution_count": 21,
          "data": {
            "text/plain": "r: scala.util.Random = scala.util.Random@2cc80ddc\nsessionId: Int = 606\npath: String = /delta/delta-table-606\nres38: String = /delta/delta-table-606"
          },
          "metadata": {}
        }
      ],
      "metadata": {},
      "source": [
        "val r = new scala.util.Random\n",
        "val sessionId = r. nextInt(1000)\n",
        "val path = s\"/delta/delta-table-$sessionId\";\n",
        "path"
      ],
      "attachments": {}
    },
    {
      "cell_type": "code",
      "execution_count": 22,
      "outputs": [],
      "metadata": {},
      "source": [
        "// Here's how you'd do this in Parquet: \n",
        "// orders.repartition(1).write().format(\"parquet\").save(path)\n",
        "\n",
        "orders.repartition(1).write.format(\"delta\").save(path)"
      ],
      "attachments": {}
    },
    {
      "cell_type": "markdown",
      "metadata": {},
      "source": [
        "# Querying the Delta table using functional and SQL\n",
        ""
      ],
      "attachments": {}
    },
    {
      "cell_type": "code",
      "execution_count": 23,
      "outputs": [
        {
          "output_type": "execute_result",
          "execution_count": 23,
          "data": {
            "text/plain": "ordersDataFrame: org.apache.spark.sql.DataFrame = [order_id: int, order_date: string ... 2 more fields]\n+--------+----------+-------------+-----+\n|order_id|order_date|customer_name|price|\n+--------+----------+-------------+-----+\n|       2|2019-11-01|        Terry|   50|\n|       4|2019-11-02|        Steve|   10|\n|       6|2019-11-03|     Niharika|   75|\n|       8|2019-11-04|       Andrew|   70|\n|       9|2019-11-05|      Michael|   20|\n|       1|2019-11-01|       Saveen|  100|\n|       3|2019-11-01|     Priyanka|  100|\n|       5|2019-11-03|        Rahul|   10|\n|       7|2019-11-03|         Elva|   90|\n|      10|2019-11-05|       Brigit|   25|\n+--------+----------+-------------+-----+"
          },
          "metadata": {}
        }
      ],
      "metadata": {},
      "source": [
        "var ordersDataFrame = spark.read.format(\"delta\").load(path)\n",
        "ordersDataFrame.show()"
      ],
      "attachments": {}
    },
    {
      "cell_type": "code",
      "execution_count": 24,
      "outputs": [
        {
          "output_type": "execute_result",
          "execution_count": 24,
          "data": {
            "text/plain": "+--------+----------+-------------+-----+\n|order_id|order_date|customer_name|price|\n+--------+----------+-------------+-----+\n|       2|2019-11-01|        Terry|   50|\n|       4|2019-11-02|        Steve|   10|\n|       6|2019-11-03|     Niharika|   75|\n|       8|2019-11-04|       Andrew|   70|\n|       9|2019-11-05|      Michael|   20|\n|       1|2019-11-01|       Saveen|  100|\n|       3|2019-11-01|     Priyanka|  100|\n|       5|2019-11-03|        Rahul|   10|\n|       7|2019-11-03|         Elva|   90|\n|      10|2019-11-05|       Brigit|   25|\n+--------+----------+-------------+-----+"
          },
          "metadata": {}
        }
      ],
      "metadata": {},
      "source": [
        "ordersDataFrame.createOrReplaceTempView(\"ordersDeltaTable\")\n",
        "spark.sql(\"SELECT * FROM ordersDeltaTable\").show"
      ],
      "attachments": {}
    },
    {
      "cell_type": "markdown",
      "metadata": {},
      "source": [
        "# Understanding Meta-data\n",
        "\n",
        "In Delta Lake, meta-data is no different from data i.e., it is stored next to the data. Therefore, an interesting side-effect here is that you can peek into meta-data using regular Spark APIs. "
      ],
      "attachments": {}
    },
    {
      "cell_type": "code",
      "execution_count": 25,
      "outputs": [
        {
          "output_type": "execute_result",
          "execution_count": 25,
          "data": {
            "text/plain": "[{\"commitInfo\":{\"timestamp\":1598847468922,\"operation\":\"WRITE\",\"operationParameters\":{\"mode\":\"ErrorIfExists\",\"partitionBy\":\"[]\"},\"isBlindAppend\":true,\"operationMetrics\":{\"numFiles\":\"1\",\"numOutputBytes\":\"1293\",\"numOutputRows\":\"10\"}}}]\n[{\"protocol\":{\"minReaderVersion\":1,\"minWriterVersion\":2}}]\n[{\"metaData\":{\"id\":\"b8583e6a-ede5-46ac-98ef-de44ba53a466\",\"format\":{\"provider\":\"parquet\",\"options\":{}},\"schemaString\":\"{\\\"type\\\":\\\"struct\\\",\\\"fields\\\":[{\\\"name\\\":\\\"order_id\\\",\\\"type\\\":\\\"integer\\\",\\\"nullable\\\":true,\\\"metadata\\\":{}},{\\\"name\\\":\\\"order_date\\\",\\\"type\\\":\\\"string\\\",\\\"nullable\\\":true,\\\"metadata\\\":{}},{\\\"name\\\":\\\"customer_name\\\",\\\"type\\\":\\\"string\\\",\\\"nullable\\\":true,\\\"metadata\\\":{}},{\\\"name\\\":\\\"price\\\",\\\"type\\\":\\\"integer\\\",\\\"nullable\\\":true,\\\"metadata\\\":{}}]}\",\"partitionColumns\":[],\"configuration\":{},\"createdTime\":1598847465653}}]\n[{\"add\":{\"path\":\"part-00000-6a8edcec-6641-47a3-b29d-88e03013c7e4-c000.snappy.parquet\",\"partitionValues\":{},\"size\":1293,\"modificationTime\":1598847468000,\"dataChange\":true}}]"
          },
          "metadata": {}
        }
      ],
      "metadata": {},
      "source": [
        "spark.read.text(s\"$path/_delta_log/\").collect.foreach(println);"
      ],
      "attachments": {}
    },
    {
      "cell_type": "markdown",
      "metadata": {},
      "source": [
        "# The Curious Case of Forgotten Discount - Making corrections to data\n",
        "\n",
        "Now that you are able to look at the orders table, you realize that you forgot to discount the orders that came in on November 1, 2019. Worry not! You can quickly make that correction."
      ],
      "attachments": {}
    },
    {
      "cell_type": "code",
      "execution_count": 26,
      "outputs": [
        {
          "output_type": "execute_result",
          "execution_count": 26,
          "data": {
            "text/plain": "import io.delta.tables._\nimport org.apache.spark.sql.functions._\ntable: io.delta.tables.DeltaTable = io.delta.tables.DeltaTable@aa59a6d"
          },
          "metadata": {}
        }
      ],
      "metadata": {},
      "source": [
        "import io.delta.tables._\n",
        "import org.apache.spark.sql.functions._\n",
        "\n",
        "var table = DeltaTable.forPath(path)\n",
        "\n",
        "// Update every transaction that took place on November 1, 2019 and apply a discount of 10%\n",
        "table.update(\n",
        "  condition = expr(\"order_date == '2019-11-01'\"),\n",
        "  set = Map(\"price\" -> expr(\"price - price*0.1\")))"
      ],
      "attachments": {}
    },
    {
      "cell_type": "code",
      "execution_count": 27,
      "outputs": [
        {
          "output_type": "execute_result",
          "execution_count": 27,
          "data": {
            "text/plain": "res51: org.apache.spark.sql.Dataset[org.apache.spark.sql.Row] = [order_id: int, order_date: string ... 2 more fields]"
          },
          "metadata": {}
        }
      ],
      "metadata": {},
      "source": [
        "table.toDF"
      ],
      "attachments": {}
    },
    {
      "cell_type": "markdown",
      "metadata": {},
      "source": [
        "When you now inspect the meta-data, what you will notice is that the original data is over-written. Well, not in a true sense but appropriate entries are added to Delta's transaction log so it can provide an \"illusion\" that the original data was deleted. We can verify this by re-inspecting the meta-data. You will see several entries indicating reference removal to the original data."
      ],
      "attachments": {}
    },
    {
      "cell_type": "code",
      "execution_count": 28,
      "outputs": [
        {
          "output_type": "execute_result",
          "execution_count": 28,
          "data": {
            "text/plain": "[{\"commitInfo\":{\"timestamp\":1598847468922,\"operation\":\"WRITE\",\"operationParameters\":{\"mode\":\"ErrorIfExists\",\"partitionBy\":\"[]\"},\"isBlindAppend\":true,\"operationMetrics\":{\"numFiles\":\"1\",\"numOutputBytes\":\"1293\",\"numOutputRows\":\"10\"}}}]\n[{\"protocol\":{\"minReaderVersion\":1,\"minWriterVersion\":2}}]\n[{\"metaData\":{\"id\":\"b8583e6a-ede5-46ac-98ef-de44ba53a466\",\"format\":{\"provider\":\"parquet\",\"options\":{}},\"schemaString\":\"{\\\"type\\\":\\\"struct\\\",\\\"fields\\\":[{\\\"name\\\":\\\"order_id\\\",\\\"type\\\":\\\"integer\\\",\\\"nullable\\\":true,\\\"metadata\\\":{}},{\\\"name\\\":\\\"order_date\\\",\\\"type\\\":\\\"string\\\",\\\"nullable\\\":true,\\\"metadata\\\":{}},{\\\"name\\\":\\\"customer_name\\\",\\\"type\\\":\\\"string\\\",\\\"nullable\\\":true,\\\"metadata\\\":{}},{\\\"name\\\":\\\"price\\\",\\\"type\\\":\\\"integer\\\",\\\"nullable\\\":true,\\\"metadata\\\":{}}]}\",\"partitionColumns\":[],\"configuration\":{},\"createdTime\":1598847465653}}]\n[{\"add\":{\"path\":\"part-00000-6a8edcec-6641-47a3-b29d-88e03013c7e4-c000.snappy.parquet\",\"partitionValues\":{},\"size\":1293,\"modificationTime\":1598847468000,\"dataChange\":true}}]\n[{\"commitInfo\":{\"timestamp\":1598847493807,\"operation\":\"UPDATE\",\"operationParameters\":{\"predicate\":\"(order_date#1779 = 2019-11-01)\"},\"readVersion\":0,\"isBlindAppend\":false,\"operationMetrics\":{\"numRemovedFiles\":\"1\",\"numAddedFiles\":\"1\",\"numUpdatedRows\":\"3\",\"numCopiedRows\":\"7\"}}}]\n[{\"remove\":{\"path\":\"part-00000-6a8edcec-6641-47a3-b29d-88e03013c7e4-c000.snappy.parquet\",\"deletionTimestamp\":1598847491933,\"dataChange\":true}}]\n[{\"add\":{\"path\":\"part-00000-47f41b8b-8864-483f-8bd8-9958d1cc7aa7-c000.snappy.parquet\",\"partitionValues\":{},\"size\":1316,\"modificationTime\":1598847493000,\"dataChange\":true}}]"
          },
          "metadata": {}
        }
      ],
      "metadata": {},
      "source": [
        "spark.read.text(s\"$path/_delta_log/\").collect.foreach(println)"
      ],
      "attachments": {}
    },
    {
      "cell_type": "markdown",
      "metadata": {},
      "source": [
        "# Enforcing GDPR on your data\n",
        "\n",
        "One of your customers wanted their data to be deleted. But wait, you are working with data stored on an immutable file system (e.g., HDFS, ADLS, WASB). How would you delete it? Using Delta Lake's Delete API.\n",
        "\n",
        "Delta Lake provides programmatic APIs to conditionally update, delete, and merge (upsert) data into tables. For more information on these operations, see [Table Deletes, Updates, and Merges](https://docs.delta.io/latest/delta-update.html)."
      ],
      "attachments": {}
    },
    {
      "cell_type": "code",
      "execution_count": 29,
      "outputs": [
        {
          "output_type": "execute_result",
          "execution_count": 29,
          "data": {
            "text/plain": "+--------+----------+-------------+-----+\n|order_id|order_date|customer_name|price|\n+--------+----------+-------------+-----+\n|       2|2019-11-01|        Terry|   45|\n|       4|2019-11-02|        Steve|   10|\n|       6|2019-11-03|     Niharika|   75|\n|       8|2019-11-04|       Andrew|   70|\n|       9|2019-11-05|      Michael|   20|\n|       3|2019-11-01|     Priyanka|   90|\n|       5|2019-11-03|        Rahul|   10|\n|       7|2019-11-03|         Elva|   90|\n|      10|2019-11-05|       Brigit|   25|\n+--------+----------+-------------+-----+"
          },
          "metadata": {}
        }
      ],
      "metadata": {},
      "source": [
        "// Delete the appropriate customer\n",
        "table.delete(condition = expr(\"customer_name == 'Saveen'\"))\n",
        "table.toDF.show"
      ],
      "attachments": {}
    },
    {
      "cell_type": "markdown",
      "metadata": {},
      "source": [
        "# Oops, enforced it on the wrong customer! - Looking at the audit/history log to find mistakes in operations\n",
        "\n",
        "Delta's most powerful feature is the ability to allow looking into history i.e., the changes that were made to the underlying Delta Table. The cell below shows how simple it is to inspect the history.\n",
        ""
      ],
      "attachments": {}
    },
    {
      "cell_type": "code",
      "execution_count": 30,
      "outputs": [
        {
          "output_type": "execute_result",
          "execution_count": 30,
          "data": {
            "text/plain": "+-------+-------------------+---------+-----------------------------------------------+-----------+-----------------------------------------------------------------------------------+\n|version|          timestamp|operation|                            operationParameters|readVersion|                                                                   operationMetrics|\n+-------+-------------------+---------+-----------------------------------------------+-----------+-----------------------------------------------------------------------------------+\n|      2|2020-08-31 04:18:28|   DELETE|[predicate -> [\"(`customer_name` = 'Saveen')\"]]|          1|[numRemovedFiles -> 1, numDeletedRows -> 1, numAddedFiles -> 1, numCopiedRows -> 9]|\n|      1|2020-08-31 04:18:14|   UPDATE|  [predicate -> (order_date#1779 = 2019-11-01)]|          0|[numRemovedFiles -> 1, numAddedFiles -> 1, numUpdatedRows -> 3, numCopiedRows -> 7]|\n|      0|2020-08-31 04:17:49|    WRITE|     [mode -> ErrorIfExists, partitionBy -> []]|       null|                       [numFiles -> 1, numOutputBytes -> 1293, numOutputRows -> 10]|\n+-------+-------------------+---------+-----------------------------------------------+-----------+-----------------------------------------------------------------------------------+"
          },
          "metadata": {}
        }
      ],
      "metadata": {},
      "source": [
        "table.history.drop(\"userId\", \"userName\", \"job\", \"notebook\", \"clusterId\", \"isolationLevel\", \"isBlindAppend\").show(20, 1000, false)"
      ],
      "attachments": {}
    },
    {
      "cell_type": "markdown",
      "metadata": {},
      "source": [
        "# Rollback all the way using Time Travel!\n",
        "\n",
        "You can query previous snapshots of your Delta Lake table by using a feature called Time Travel. If you want to access the data that you overwrote, you can query a snapshot of the table before you overwrote the first set of data using the versionAsOf option.\n",
        "\n",
        "Once you run the cell below, you should see the first set of data, from before you overwrote it. Time Travel is an extremely powerful feature that takes advantage of the power of the Delta Lake transaction log to access data that is no longer in the table. Removing the version 0 option (or specifying version 1) would let you see the newer data again. For more information, see [Query an older snapshot of a table (time travel)](https://docs.delta.io/latest/delta-batch.html#deltatimetravel)."
      ],
      "attachments": {}
    },
    {
      "cell_type": "code",
      "execution_count": 31,
      "outputs": [],
      "metadata": {},
      "source": [
        "spark.read.format(\"delta\").option(\"versionAsOf\", \"1\").load(path).write.mode(\"overwrite\").format(\"delta\").save(path)"
      ],
      "attachments": {}
    },
    {
      "cell_type": "code",
      "execution_count": 32,
      "outputs": [
        {
          "output_type": "execute_result",
          "execution_count": 32,
          "data": {
            "text/plain": "+--------+----------+-------------+-----+\n|order_id|order_date|customer_name|price|\n+--------+----------+-------------+-----+\n|       2|2019-11-01|        Terry|   45|\n|       4|2019-11-02|        Steve|   10|\n|       6|2019-11-03|     Niharika|   75|\n|       8|2019-11-04|       Andrew|   70|\n|       9|2019-11-05|      Michael|   20|\n|       1|2019-11-01|       Saveen|   90|\n|       3|2019-11-01|     Priyanka|   90|\n|       7|2019-11-03|         Elva|   90|\n|      10|2019-11-05|       Brigit|   25|\n+--------+----------+-------------+-----+"
          },
          "metadata": {}
        }
      ],
      "metadata": {},
      "source": [
        "// Delete the correct customer - REMOVE\n",
        "table.delete(condition = expr(\"customer_name == 'Rahul'\"))\n",
        "table.toDF.show"
      ],
      "attachments": {}
    },
    {
      "cell_type": "code",
      "execution_count": 33,
      "outputs": [
        {
          "output_type": "execute_result",
          "execution_count": 33,
          "data": {
            "text/plain": "+-------+-------------------+---------+-----------------------------------------------+-----------+-----------------------------------------------------------------------------------+\n|version|          timestamp|operation|                            operationParameters|readVersion|                                                                   operationMetrics|\n+-------+-------------------+---------+-----------------------------------------------+-----------+-----------------------------------------------------------------------------------+\n|      4|2020-08-31 04:19:02|   DELETE| [predicate -> [\"(`customer_name` = 'Rahul')\"]]|          3|[numRemovedFiles -> 1, numDeletedRows -> 1, numAddedFiles -> 1, numCopiedRows -> 9]|\n|      3|2020-08-31 04:18:49|    WRITE|         [mode -> Overwrite, partitionBy -> []]|          2|                       [numFiles -> 1, numOutputBytes -> 1316, numOutputRows -> 10]|\n|      2|2020-08-31 04:18:28|   DELETE|[predicate -> [\"(`customer_name` = 'Saveen')\"]]|          1|[numRemovedFiles -> 1, numDeletedRows -> 1, numAddedFiles -> 1, numCopiedRows -> 9]|\n|      1|2020-08-31 04:18:14|   UPDATE|  [predicate -> (order_date#1779 = 2019-11-01)]|          0|[numRemovedFiles -> 1, numAddedFiles -> 1, numUpdatedRows -> 3, numCopiedRows -> 7]|\n|      0|2020-08-31 04:17:49|    WRITE|     [mode -> ErrorIfExists, partitionBy -> []]|       null|                       [numFiles -> 1, numOutputBytes -> 1293, numOutputRows -> 10]|\n+-------+-------------------+---------+-----------------------------------------------+-----------+-----------------------------------------------------------------------------------+"
          },
          "metadata": {}
        }
      ],
      "metadata": {},
      "source": [
        "table.history.drop(\"userId\", \"userName\", \"job\", \"notebook\", \"clusterId\", \"isolationLevel\", \"isBlindAppend\").show(20, 1000, false)"
      ],
      "attachments": {}
    },
    {
      "cell_type": "markdown",
      "metadata": {},
      "source": [
        "# Closing the loop - 'defrag' your data\n",
        ""
      ],
      "attachments": {}
    },
    {
      "cell_type": "code",
      "execution_count": 34,
      "outputs": [
        {
          "output_type": "execute_result",
          "execution_count": 34,
          "data": {
            "text/plain": "Deleted 4 files and directories in a total of 1 directories.\nres63: org.apache.spark.sql.DataFrame = []"
          },
          "metadata": {}
        }
      ],
      "metadata": {},
      "source": [
        "spark.conf.set(\"spark.databricks.delta.retentionDurationCheck.enabled\", \"false\")\n",
        "table.vacuum(0.01)\n",
        "\n",
        "// Alternate Syntax: spark.sql($\"VACUUM delta.`{path}`\").show"
      ],
      "attachments": {}
    }
  ]
}