{
  "metadata": {
    "saveOutput": true,
    "language_info": {
      "name": "scala"
    }
  },
  "nbformat": 4,
  "nbformat_minor": 2,
  "cells": [
    {
      "cell_type": "markdown",
      "metadata": {},
      "source": [
        "# Hitchhiker's Guide to Delta Lake (Scala)\n",
        "\n",
        "This tutorial has been adapted for more clarity from its original counterpart [here](https://docs.delta.io/latest/quick-start.html). This notebook helps you quickly explore the main features of [Delta Lake](https://github.com/delta-io/delta). It provides code snippets that show how to read from and write to Delta Lake tables from interactive, batch, and streaming queries.\n",
        "\n",
        "Here's what we will cover:\n",
        "* Create a table\n",
        "* Understanding meta-data\n",
        "* Read data\n",
        "* Update table data\n",
        "* Overwrite table data\n",
        "* Conditional update without overwrite\n",
        "* Read older versions of data using Time Travel\n",
        "* Write a stream of data to a table\n",
        "* Read a stream of changes from a table"
      ],
      "attachments": {}
    },
    {
      "cell_type": "markdown",
      "metadata": {},
      "source": [
        "## Configuration\n",
        "Make sure you modify this as appropriate."
      ],
      "attachments": {}
    },
    {
      "cell_type": "code",
      "execution_count": 3,
      "outputs": [
        {
          "output_type": "execute_result",
          "data": {
            "text/plain": "sessionId: Int = 37857\ndeltaTablePath: String = /delta/delta-table-37857"
          },
          "execution_count": 3,
          "metadata": {}
        }
      ],
      "metadata": {},
      "source": [
        "val sessionId = scala.util.Random.nextInt(1000000)\n",
        "val deltaTablePath = s\"/delta/delta-table-$sessionId\";"
      ],
      "attachments": {}
    },
    {
      "cell_type": "markdown",
      "metadata": {},
      "source": [
        "## Create a table\n",
        "To create a Delta Lake table, write a DataFrame out in the **delta** format. You can use existing Spark SQL code and change the format from parquet, csv, json, and so on, to delta.\n",
        "\n",
        "These operations create a new Delta Lake table using the schema that was inferred from your DataFrame. For the full set of options available when you create a new Delta Lake table, see Create a table and Write to a table (subsequent cells in this notebook)."
      ],
      "attachments": {}
    },
    {
      "cell_type": "code",
      "execution_count": 4,
      "outputs": [
        {
          "output_type": "execute_result",
          "data": {
            "text/plain": "data: org.apache.spark.sql.Dataset[Long] = [id: bigint]\n+---+\n| id|\n+---+\n|  0|\n|  1|\n|  2|\n|  3|\n|  4|\n+---+"
          },
          "execution_count": 4,
          "metadata": {}
        }
      ],
      "metadata": {},
      "source": [
        "val data = spark.range(0, 5)\n",
        "data.show\n",
        "data.write.format(\"delta\").save(deltaTablePath)"
      ],
      "attachments": {}
    },
    {
      "cell_type": "markdown",
      "metadata": {},
      "source": [
        "## Understanding Meta-data\n",
        "\n",
        "In Delta Lake, meta-data is no different from data i.e., it is stored next to the data. Therefore, an interesting side-effect here is that you can peek into meta-data using regular Spark APIs. "
      ],
      "attachments": {}
    },
    {
      "cell_type": "code",
      "execution_count": 5,
      "outputs": [
        {
          "output_type": "execute_result",
          "data": {
            "text/plain": "[{\"commitInfo\":{\"timestamp\":1587775682537,\"operation\":\"WRITE\",\"operationParameters\":{\"mode\":\"ErrorIfExists\",\"partitionBy\":\"[]\"},\"isBlindAppend\":true}}]\n[{\"protocol\":{\"minReaderVersion\":1,\"minWriterVersion\":2}}]\n[{\"metaData\":{\"id\":\"39cc68a2-bebd-45fd-a8d9-89b42d5b1030\",\"format\":{\"provider\":\"parquet\",\"options\":{}},\"schemaString\":\"{\\\"type\\\":\\\"struct\\\",\\\"fields\\\":[{\\\"name\\\":\\\"id\\\",\\\"type\\\":\\\"long\\\",\\\"nullable\\\":true,\\\"metadata\\\":{}}]}\",\"partitionColumns\":[],\"configuration\":{},\"createdTime\":1587775677387}}]\n[{\"add\":{\"path\":\"part-00000-e2a83c79-4d83-4b5f-9088-7df3765c0067-c000.snappy.parquet\",\"partitionValues\":{},\"size\":262,\"modificationTime\":1587775681000,\"dataChange\":true}}]\n[{\"add\":{\"path\":\"part-00001-1778dccd-864e-41a8-9353-b436dbe7cb7a-c000.snappy.parquet\",\"partitionValues\":{},\"size\":429,\"modificationTime\":1587775681000,\"dataChange\":true}}]\n[{\"add\":{\"path\":\"part-00003-1334d226-6422-47c3-8bef-217ddc8bb84f-c000.snappy.parquet\",\"partitionValues\":{},\"size\":429,\"modificationTime\":1587775681000,\"dataChange\":true}}]\n[{\"add\":{\"path\":\"part-00004-62ee57d0-c9b4-44d4-8a46-1ee3b578bc35-c000.snappy.parquet\",\"partitionValues\":{},\"size\":429,\"modificationTime\":1587775682000,\"dataChange\":true}}]\n[{\"add\":{\"path\":\"part-00006-3ca4c95a-6b08-4fa6-8305-bed265b37fb1-c000.snappy.parquet\",\"partitionValues\":{},\"size\":429,\"modificationTime\":1587775681000,\"dataChange\":true}}]\n[{\"add\":{\"path\":\"part-00007-92a2c9a5-092b-4d02-93e2-554d4f93c792-c000.snappy.parquet\",\"partitionValues\":{},\"size\":429,\"modificationTime\":1587775681000,\"dataChange\":true}}]"
          },
          "execution_count": 5,
          "metadata": {}
        }
      ],
      "metadata": {},
      "source": [
        "spark.read.text(s\"$deltaTablePath/_delta_log/\").collect.foreach(println)"
      ],
      "attachments": {}
    },
    {
      "cell_type": "markdown",
      "metadata": {},
      "source": [
        "## Read data\n",
        "\n",
        "You read data in your Delta Lake table by specifying the path to the files: \"/tmp/delta-table-scala\""
      ],
      "attachments": {}
    },
    {
      "cell_type": "code",
      "execution_count": 6,
      "outputs": [
        {
          "output_type": "execute_result",
          "data": {
            "text/plain": "df: org.apache.spark.sql.DataFrame = [id: bigint]\n+---+\n| id|\n+---+\n|  4|\n|  1|\n|  0|\n|  2|\n|  3|\n+---+"
          },
          "execution_count": 6,
          "metadata": {}
        }
      ],
      "metadata": {},
      "source": [
        "val df = spark.read.format(\"delta\").load(deltaTablePath)\n",
        "df.show()"
      ],
      "attachments": {}
    },
    {
      "cell_type": "markdown",
      "metadata": {},
      "source": [
        "## Update table data\n",
        "\n",
        "Delta Lake supports several operations to modify tables using standard DataFrame APIs. This example runs a batch job to overwrite the data in the table.\n",
        ""
      ],
      "attachments": {}
    },
    {
      "cell_type": "code",
      "execution_count": 7,
      "outputs": [
        {
          "output_type": "execute_result",
          "data": {
            "text/plain": "data: org.apache.spark.sql.Dataset[Long] = [id: bigint]\n+---+\n| id|\n+---+\n|  5|\n|  9|\n|  6|\n|  7|\n|  8|\n+---+"
          },
          "execution_count": 7,
          "metadata": {}
        }
      ],
      "metadata": {},
      "source": [
        "val data = spark.range(5, 10)\n",
        "data.write.format(\"delta\").mode(\"overwrite\").save(deltaTablePath)\n",
        "df.show()"
      ],
      "attachments": {}
    },
    {
      "cell_type": "markdown",
      "metadata": {},
      "source": [
        "When you now inspect the meta-data, what you will notice is that the original data is over-written. Well, not in a true sense but appropriate entries are added to Delta's transaction log so it can provide an \"illusion\" that the original data was deleted. We can verify this by re-inspecting the meta-data. You will see several entries indicating reference removal to the original data."
      ],
      "attachments": {}
    },
    {
      "cell_type": "code",
      "execution_count": 8,
      "outputs": [
        {
          "output_type": "execute_result",
          "data": {
            "text/plain": "[{\"commitInfo\":{\"timestamp\":1587775707645,\"operation\":\"WRITE\",\"operationParameters\":{\"mode\":\"Overwrite\",\"partitionBy\":\"[]\"},\"readVersion\":0,\"isBlindAppend\":false}}]\n[{\"add\":{\"path\":\"part-00000-88a5a5b0-4d8e-4b48-9b67-ae1136030a8d-c000.snappy.parquet\",\"partitionValues\":{},\"size\":262,\"modificationTime\":1587775705000,\"dataChange\":true}}]\n[{\"add\":{\"path\":\"part-00001-82db0768-f100-48be-92f4-7bdeeae96f0c-c000.snappy.parquet\",\"partitionValues\":{},\"size\":429,\"modificationTime\":1587775705000,\"dataChange\":true}}]\n[{\"add\":{\"path\":\"part-00003-5effdd56-e71a-4ad9-b258-91d2f7bede50-c000.snappy.parquet\",\"partitionValues\":{},\"size\":429,\"modificationTime\":1587775706000,\"dataChange\":true}}]\n[{\"add\":{\"path\":\"part-00004-04aa023c-4b96-4699-aa3e-5e849124ced8-c000.snappy.parquet\",\"partitionValues\":{},\"size\":429,\"modificationTime\":1587775705000,\"dataChange\":true}}]\n[{\"add\":{\"path\":\"part-00006-a49fd404-72e7-4136-bfde-a108e2878f19-c000.snappy.parquet\",\"partitionValues\":{},\"size\":429,\"modificationTime\":1587775706000,\"dataChange\":true}}]\n[{\"add\":{\"path\":\"part-00007-613b2dcf-6fcd-42a9-bda0-ae7f8876c5fe-c000.snappy.parquet\",\"partitionValues\":{},\"size\":429,\"modificationTime\":1587775706000,\"dataChange\":true}}]\n[{\"remove\":{\"path\":\"part-00007-92a2c9a5-092b-4d02-93e2-554d4f93c792-c000.snappy.parquet\",\"deletionTimestamp\":1587775707644,\"dataChange\":true}}]\n[{\"remove\":{\"path\":\"part-00003-1334d226-6422-47c3-8bef-217ddc8bb84f-c000.snappy.parquet\",\"deletionTimestamp\":1587775707644,\"dataChange\":true}}]\n[{\"remove\":{\"path\":\"part-00000-e2a83c79-4d83-4b5f-9088-7df3765c0067-c000.snappy.parquet\",\"deletionTimestamp\":1587775707644,\"dataChange\":true}}]\n[{\"remove\":{\"path\":\"part-00001-1778dccd-864e-41a8-9353-b436dbe7cb7a-c000.snappy.parquet\",\"deletionTimestamp\":1587775707644,\"dataChange\":true}}]\n[{\"remove\":{\"path\":\"part-00004-62ee57d0-c9b4-44d4-8a46-1ee3b578bc35-c000.snappy.parquet\",\"deletionTimestamp\":1587775707644,\"dataChange\":true}}]\n[{\"remove\":{\"path\":\"part-00006-3ca4c95a-6b08-4fa6-8305-bed265b37fb1-c000.snappy.parquet\",\"deletionTimestamp\":1587775707644,\"dataChange\":true}}]\n[{\"commitInfo\":{\"timestamp\":1587775682537,\"operation\":\"WRITE\",\"operationParameters\":{\"mode\":\"ErrorIfExists\",\"partitionBy\":\"[]\"},\"isBlindAppend\":true}}]\n[{\"protocol\":{\"minReaderVersion\":1,\"minWriterVersion\":2}}]\n[{\"metaData\":{\"id\":\"39cc68a2-bebd-45fd-a8d9-89b42d5b1030\",\"format\":{\"provider\":\"parquet\",\"options\":{}},\"schemaString\":\"{\\\"type\\\":\\\"struct\\\",\\\"fields\\\":[{\\\"name\\\":\\\"id\\\",\\\"type\\\":\\\"long\\\",\\\"nullable\\\":true,\\\"metadata\\\":{}}]}\",\"partitionColumns\":[],\"configuration\":{},\"createdTime\":1587775677387}}]\n[{\"add\":{\"path\":\"part-00000-e2a83c79-4d83-4b5f-9088-7df3765c0067-c000.snappy.parquet\",\"partitionValues\":{},\"size\":262,\"modificationTime\":1587775681000,\"dataChange\":true}}]\n[{\"add\":{\"path\":\"part-00001-1778dccd-864e-41a8-9353-b436dbe7cb7a-c000.snappy.parquet\",\"partitionValues\":{},\"size\":429,\"modificationTime\":1587775681000,\"dataChange\":true}}]\n[{\"add\":{\"path\":\"part-00003-1334d226-6422-47c3-8bef-217ddc8bb84f-c000.snappy.parquet\",\"partitionValues\":{},\"size\":429,\"modificationTime\":1587775681000,\"dataChange\":true}}]\n[{\"add\":{\"path\":\"part-00004-62ee57d0-c9b4-44d4-8a46-1ee3b578bc35-c000.snappy.parquet\",\"partitionValues\":{},\"size\":429,\"modificationTime\":1587775682000,\"dataChange\":true}}]\n[{\"add\":{\"path\":\"part-00006-3ca4c95a-6b08-4fa6-8305-bed265b37fb1-c000.snappy.parquet\",\"partitionValues\":{},\"size\":429,\"modificationTime\":1587775681000,\"dataChange\":true}}]\n[{\"add\":{\"path\":\"part-00007-92a2c9a5-092b-4d02-93e2-554d4f93c792-c000.snappy.parquet\",\"partitionValues\":{},\"size\":429,\"modificationTime\":1587775681000,\"dataChange\":true}}]"
          },
          "execution_count": 8,
          "metadata": {}
        }
      ],
      "metadata": {},
      "source": [
        "spark.read.text(s\"$deltaTablePath/_delta_log/\").collect.foreach(println)"
      ],
      "attachments": {}
    },
    {
      "cell_type": "markdown",
      "metadata": {},
      "source": [
        "## Save as catalog tables\n",
        "\n",
        "Delta Lake can write to managed or external catalog tables."
      ],
      "attachments": {}
    },
    {
      "cell_type": "code",
      "execution_count": 9,
      "outputs": [],
      "metadata": {},
      "source": [
        "// Write data to a new managed catalog table.\n",
        "data.write.format(\"delta\").saveAsTable(\"ManagedDeltaTable\")"
      ],
      "attachments": {}
    },
    {
      "cell_type": "code",
      "execution_count": 10,
      "outputs": [
        {
          "output_type": "execute_result",
          "data": {
            "text/plain": "res12: org.apache.spark.sql.DataFrame = []"
          },
          "execution_count": 10,
          "metadata": {}
        }
      ],
      "metadata": {},
      "source": [
        "// Define an external catalog table that points to the existing Delta Lake data in storage.\n",
        "spark.sql(s\"CREATE TABLE ExternalDeltaTable USING DELTA LOCATION '$deltaTablePath'\")"
      ],
      "attachments": {}
    },
    {
      "cell_type": "code",
      "execution_count": 11,
      "outputs": [
        {
          "output_type": "execute_result",
          "data": {
            "text/plain": "+--------+------------------+-----------+\n|database|         tableName|isTemporary|\n+--------+------------------+-----------+\n| default|externaldeltatable|      false|\n| default| manageddeltatable|      false|\n+--------+------------------+-----------+\n\n+----------------------------+-------------------------------------------------------------------------------------------------------+-------+\n|col_name                    |data_type                                                                                              |comment|\n+----------------------------+-------------------------------------------------------------------------------------------------------+-------+\n|id                          |bigint                                                                                                 |null   |\n|                            |                                                                                                       |       |\n|# Detailed Table Information|                                                                                                       |       |\n|Database                    |default                                                                                                |       |\n|Table                       |manageddeltatable                                                                                      |       |\n|Owner                       |trusted-service-user                                                                                   |       |\n|Created Time                |Sat Apr 25 00:48:54 UTC 2020                                                                           |       |\n|Last Access                 |Thu Jan 01 00:00:00 UTC 1970                                                                           |       |\n|Created By                  |Spark 2.4.4.2.6.99.201-11401300                                                                        |       |\n|Type                        |MANAGED                                                                                                |       |\n|Provider                    |delta                                                                                                  |       |\n|Table Properties            |[transient_lastDdlTime=1587775734]                                                                     |       |\n|Statistics                  |2407 bytes                                                                                             |       |\n|Location                    |abfss://data@<data lake>.dfs.core.windows.net/synapse/workspaces/<workspace name>/warehouse/manageddeltatable|       |\n|Serde Library               |org.apache.hadoop.hive.serde2.lazy.LazySimpleSerDe                                                     |       |\n|InputFormat                 |org.apache.hadoop.mapred.SequenceFileInputFormat                                                       |       |\n|OutputFormat                |org.apache.hadoop.hive.ql.io.HiveSequenceFileOutputFormat                                              |       |\n|Storage Properties          |[serialization.format=1]                                                                               |       |\n+----------------------------+-------------------------------------------------------------------------------------------------------+-------+\n\n+----------------------------+---------------------------------------------------------------------+-------+\n|col_name                    |data_type                                                            |comment|\n+----------------------------+---------------------------------------------------------------------+-------+\n|id                          |bigint                                                               |null   |\n|                            |                                                                     |       |\n|# Detailed Table Information|                                                                     |       |\n|Database                    |default                                                              |       |\n|Table                       |externaldeltatable                                                   |       |\n|Owner                       |trusted-service-user                                                 |       |\n|Created Time                |Sat Apr 25 00:48:59 UTC 2020                                         |       |\n|Last Access                 |Thu Jan 01 00:00:00 UTC 1970                                         |       |\n|Created By                  |Spark 2.4.4.2.6.99.201-11401300                                      |       |\n|Type                        |EXTERNAL                                                             |       |\n|Provider                    |DELTA                                                                |       |\n|Table Properties            |[transient_lastDdlTime=1587775739]                                   |       |\n|Location                    |abfss://data@<data lake>.dfs.core.windows.net/delta/delta-table-37857|       |\n|Serde Library               |org.apache.hadoop.hive.serde2.lazy.LazySimpleSerDe                   |       |\n|InputFormat                 |org.apache.hadoop.mapred.SequenceFileInputFormat                     |       |\n|OutputFormat                |org.apache.hadoop.hive.ql.io.HiveSequenceFileOutputFormat            |       |\n|Storage Properties          |[serialization.format=1]                                             |       |\n+----------------------------+---------------------------------------------------------------------+-------+"
          },
          "execution_count": 11,
          "metadata": {}
        }
      ],
      "metadata": {},
      "source": [
        "// List the 2 new tables.\n",
        "spark.sql(\"SHOW TABLES\").show\n",
        "\n",
        "// Explore their properties.\n",
        "spark.sql(\"DESCRIBE EXTENDED ManagedDeltaTable\").show(truncate=false)\n",
        "spark.sql(\"DESCRIBE EXTENDED ExternalDeltaTable\").show(truncate=false)"
      ],
      "attachments": {}
    },
    {
      "cell_type": "markdown",
      "metadata": {},
      "source": [
        "## Conditional update without overwrite\n",
        "\n",
        "Delta Lake provides programmatic APIs to conditional update, delete, and merge (upsert) data into tables. For more information on these operations, see [Table Deletes, Updates, and Merges](https://docs.delta.io/latest/delta-update.html)."
      ],
      "attachments": {}
    },
    {
      "cell_type": "code",
      "execution_count": 12,
      "outputs": [
        {
          "output_type": "execute_result",
          "data": {
            "text/plain": "import io.delta.tables._\nimport org.apache.spark.sql.functions._\ndeltaTable: io.delta.tables.DeltaTable = io.delta.tables.DeltaTable@40e3875b"
          },
          "execution_count": 12,
          "metadata": {}
        }
      ],
      "metadata": {},
      "source": [
        "import io.delta.tables._\n",
        "import org.apache.spark.sql.functions._\n",
        "\n",
        "val deltaTable = DeltaTable.forPath(deltaTablePath)"
      ],
      "attachments": {}
    },
    {
      "cell_type": "code",
      "execution_count": 13,
      "outputs": [
        {
          "output_type": "execute_result",
          "data": {
            "text/plain": "+---+\n| id|\n+---+\n|  5|\n|  9|\n|106|\n|108|\n|  7|\n+---+"
          },
          "execution_count": 13,
          "metadata": {}
        }
      ],
      "metadata": {},
      "source": [
        "// Update every even value by adding 100 to it\n",
        "deltaTable.update(\n",
        "  condition = expr(\"id % 2 == 0\"),\n",
        "  set = Map(\"id\" -> expr(\"id + 100\")))\n",
        "deltaTable.toDF.show"
      ],
      "attachments": {}
    },
    {
      "cell_type": "code",
      "execution_count": 14,
      "outputs": [
        {
          "output_type": "execute_result",
          "data": {
            "text/plain": "+---+\n| id|\n+---+\n|  5|\n|  9|\n|  7|\n+---+"
          },
          "execution_count": 14,
          "metadata": {}
        }
      ],
      "metadata": {},
      "source": [
        "// Delete every even value\n",
        "deltaTable.delete(condition = expr(\"id % 2 == 0\"))\n",
        "deltaTable.toDF.show"
      ],
      "attachments": {}
    },
    {
      "cell_type": "code",
      "execution_count": 15,
      "outputs": [
        {
          "output_type": "execute_result",
          "data": {
            "text/plain": "newData: org.apache.spark.sql.DataFrame = [id: bigint]\n+---+\n| id|\n+---+\n|  1|\n|  8|\n| -1|\n| 11|\n| 18|\n|  6|\n| 19|\n| -1|\n|  2|\n| 13|\n|  0|\n| 17|\n|  4|\n| 15|\n| 10|\n| -1|\n| 12|\n| 14|\n|  3|\n| 16|\n+---+"
          },
          "execution_count": 15,
          "metadata": {}
        }
      ],
      "metadata": {},
      "source": [
        "// Upsert (merge) new data\n",
        "val newData = spark.range(0, 20).toDF\n",
        "\n",
        "deltaTable.as(\"oldData\").\n",
        "  merge(\n",
        "    newData.as(\"newData\"),\n",
        "    \"oldData.id = newData.id\").\n",
        "  whenMatched.\n",
        "  update(Map(\"id\" -> lit(-1))).\n",
        "  whenNotMatched.\n",
        "  insert(Map(\"id\" -> col(\"newData.id\"))).\n",
        "  execute()\n",
        "\n",
        "deltaTable.toDF.show()"
      ],
      "attachments": {}
    },
    {
      "cell_type": "markdown",
      "metadata": {},
      "source": [
        "## History\n",
        "Delta's most powerful feature is the ability to allow looking into history i.e., the changes that were made to the underlying Delta Table. The cell below shows how simple it is to inspect the history."
      ],
      "attachments": {}
    },
    {
      "cell_type": "code",
      "execution_count": 16,
      "outputs": [
        {
          "output_type": "execute_result",
          "data": {
            "text/plain": "+-------+-------------------+------+--------+---------+-------------------------------------------------------------------+----+--------+---------+-----------+--------------+-------------+\n|version|timestamp          |userId|userName|operation|operationParameters                                                |job |notebook|clusterId|readVersion|isolationLevel|isBlindAppend|\n+-------+-------------------+------+--------+---------+-------------------------------------------------------------------+----+--------+---------+-----------+--------------+-------------+\n|4      |2020-04-25 00:49:53|null  |null    |MERGE    |[predicate -> (oldData.`id` = newData.`id`)]                       |null|null    |null     |3          |null          |false        |\n|3      |2020-04-25 00:49:32|null  |null    |DELETE   |[predicate -> [\"((`id` % CAST(2 AS BIGINT)) = CAST(0 AS BIGINT))\"]]|null|null    |null     |2          |null          |false        |\n|2      |2020-04-25 00:49:15|null  |null    |UPDATE   |[predicate -> ((id#746L % cast(2 as bigint)) = cast(0 as bigint))] |null|null    |null     |1          |null          |false        |\n|1      |2020-04-25 00:48:28|null  |null    |WRITE    |[mode -> Overwrite, partitionBy -> []]                             |null|null    |null     |0          |null          |false        |\n|0      |2020-04-25 00:48:02|null  |null    |WRITE    |[mode -> ErrorIfExists, partitionBy -> []]                         |null|null    |null     |null       |null          |true         |\n+-------+-------------------+------+--------+---------+-------------------------------------------------------------------+----+--------+---------+-----------+--------------+-------------+"
          },
          "execution_count": 16,
          "metadata": {}
        }
      ],
      "metadata": {},
      "source": [
        "deltaTable.history.show(false)"
      ],
      "attachments": {}
    },
    {
      "cell_type": "markdown",
      "metadata": {},
      "source": [
        "## Read older versions of data using Time Travel\n",
        "\n",
        "You can query previous snapshots of your Delta Lake table by using a feature called Time Travel. If you want to access the data that you overwrote, you can query a snapshot of the table before you overwrote the first set of data using the versionAsOf option.\n",
        "\n",
        "Once you run the cell below, you should see the first set of data, from before you overwrote it. Time Travel is an extremely powerful feature that takes advantage of the power of the Delta Lake transaction log to access data that is no longer in the table. Removing the version 0 option (or specifying version 1) would let you see the newer data again. For more information, see [Query an older snapshot of a table (time travel)](https://docs.delta.io/latest/delta-batch.html#deltatimetravel)."
      ],
      "attachments": {}
    },
    {
      "cell_type": "code",
      "execution_count": 17,
      "outputs": [
        {
          "output_type": "execute_result",
          "data": {
            "text/plain": "df: org.apache.spark.sql.DataFrame = [id: bigint]\n+---+\n| id|\n+---+\n|  4|\n|  1|\n|  0|\n|  2|\n|  3|\n+---+"
          },
          "execution_count": 17,
          "metadata": {}
        }
      ],
      "metadata": {},
      "source": [
        "val df = spark.read.format(\"delta\").option(\"versionAsOf\", 0).load(deltaTablePath)\n",
        "df.show()"
      ],
      "attachments": {}
    },
    {
      "cell_type": "markdown",
      "metadata": {},
      "source": [
        "## Write a stream of data to a table\n",
        "\n",
        "You can also write to a Delta Lake table using Spark's Structured Streaming. The Delta Lake transaction log guarantees exactly-once processing, even when there are other streams or batch queries running concurrently against the table. By default, streams run in append mode, which adds new records to the table.\n",
        "\n",
        "For more information about Delta Lake integration with Structured Streaming, see [Table Streaming Reads and Writes](https://docs.delta.io/latest/delta-streaming.html).\n",
        "\n",
        "In the cells below, here's what we are doing:\n",
        "\n",
        "1. *Cell 28* Setup a simple Spark Structured Streaming job to generate a sequence and make the job write into our Delta Table\n",
        "2. *Cell 30* Show the newly appended data\n",
        "3. *Cell 31* Inspect history\n",
        "4. *Cell 32* Stop the structured streaming job\n",
        "5. *Cell 33* Inspect history <-- You'll notice appends have stopped"
      ],
      "attachments": {}
    },
    {
      "cell_type": "code",
      "execution_count": 18,
      "outputs": [
        {
          "output_type": "execute_result",
          "data": {
            "text/plain": "streamingDf: org.apache.spark.sql.DataFrame = [timestamp: timestamp, value: bigint]\nstream: org.apache.spark.sql.streaming.StreamingQuery = org.apache.spark.sql.execution.streaming.StreamingQueryWrapper@78a5a52b"
          },
          "execution_count": 18,
          "metadata": {}
        }
      ],
      "metadata": {},
      "source": [
        "val streamingDf = spark.readStream.format(\"rate\").load()\n",
        "val stream = streamingDf.select($\"value\" as \"id\").writeStream.format(\"delta\").option(\"checkpointLocation\", s\"/tmp/checkpoint-$sessionId\").start(deltaTablePath)"
      ],
      "attachments": {}
    },
    {
      "cell_type": "markdown",
      "metadata": {},
      "source": [
        "## Read a stream of changes from a table\n",
        "\n",
        "While the stream is writing to the Delta Lake table, you can also read from that table as streaming source. For example, you can start another streaming query that prints all the changes made to the Delta Lake table."
      ],
      "attachments": {}
    },
    {
      "cell_type": "code",
      "execution_count": 19,
      "outputs": [
        {
          "output_type": "execute_result",
          "data": {
            "text/plain": "+---+\n| id|\n+---+\n| 19|\n| 18|\n| 17|\n| 16|\n| 15|\n| 14|\n| 13|\n| 12|\n| 11|\n| 10|\n|  8|\n|  6|\n|  4|\n|  3|\n|  2|\n|  1|\n|  0|\n| -1|\n| -1|\n| -1|\n+---+"
          },
          "execution_count": 19,
          "metadata": {}
        }
      ],
      "metadata": {},
      "source": [
        "deltaTable.toDF.sort($\"id\".desc).show"
      ],
      "attachments": {}
    },
    {
      "cell_type": "code",
      "execution_count": 20,
      "outputs": [
        {
          "output_type": "execute_result",
          "data": {
            "text/plain": "+-------+-------------------+------+--------+----------------+--------------------+----+--------+---------+-----------+--------------+-------------+\n|version|          timestamp|userId|userName|       operation| operationParameters| job|notebook|clusterId|readVersion|isolationLevel|isBlindAppend|\n+-------+-------------------+------+--------+----------------+--------------------+----+--------+---------+-----------+--------------+-------------+\n|      5|2020-04-25 00:50:37|  null|    null|STREAMING UPDATE|[outputMode -> Ap...|null|    null|     null|          4|          null|         true|\n|      4|2020-04-25 00:49:53|  null|    null|           MERGE|[predicate -> (ol...|null|    null|     null|          3|          null|        false|\n|      3|2020-04-25 00:49:32|  null|    null|          DELETE|[predicate -> [\"(...|null|    null|     null|          2|          null|        false|\n|      2|2020-04-25 00:49:15|  null|    null|          UPDATE|[predicate -> ((i...|null|    null|     null|          1|          null|        false|\n|      1|2020-04-25 00:48:28|  null|    null|           WRITE|[mode -> Overwrit...|null|    null|     null|          0|          null|        false|\n|      0|2020-04-25 00:48:02|  null|    null|           WRITE|[mode -> ErrorIfE...|null|    null|     null|       null|          null|         true|\n+-------+-------------------+------+--------+----------------+--------------------+----+--------+---------+-----------+--------------+-------------+"
          },
          "execution_count": 20,
          "metadata": {}
        }
      ],
      "metadata": {},
      "source": [
        "deltaTable.history.show"
      ],
      "attachments": {}
    },
    {
      "cell_type": "code",
      "execution_count": 21,
      "outputs": [],
      "metadata": {},
      "source": [
        "stream.stop"
      ],
      "attachments": {}
    },
    {
      "cell_type": "code",
      "execution_count": 22,
      "outputs": [
        {
          "output_type": "execute_result",
          "data": {
            "text/plain": "+-------+-------------------+------+--------+----------------+--------------------+----+--------+---------+-----------+--------------+-------------+\n|version|          timestamp|userId|userName|       operation| operationParameters| job|notebook|clusterId|readVersion|isolationLevel|isBlindAppend|\n+-------+-------------------+------+--------+----------------+--------------------+----+--------+---------+-----------+--------------+-------------+\n|      5|2020-04-25 00:50:37|  null|    null|STREAMING UPDATE|[outputMode -> Ap...|null|    null|     null|          4|          null|         true|\n|      4|2020-04-25 00:49:53|  null|    null|           MERGE|[predicate -> (ol...|null|    null|     null|          3|          null|        false|\n|      3|2020-04-25 00:49:32|  null|    null|          DELETE|[predicate -> [\"(...|null|    null|     null|          2|          null|        false|\n|      2|2020-04-25 00:49:15|  null|    null|          UPDATE|[predicate -> ((i...|null|    null|     null|          1|          null|        false|\n|      1|2020-04-25 00:48:28|  null|    null|           WRITE|[mode -> Overwrit...|null|    null|     null|          0|          null|        false|\n|      0|2020-04-25 00:48:02|  null|    null|           WRITE|[mode -> ErrorIfE...|null|    null|     null|       null|          null|         true|\n+-------+-------------------+------+--------+----------------+--------------------+----+--------+---------+-----------+--------------+-------------+"
          },
          "execution_count": 22,
          "metadata": {}
        }
      ],
      "metadata": {},
      "source": [
        "deltaTable.history.show"
      ],
      "attachments": {}
    },
    {
      "cell_type": "markdown",
      "metadata": {},
      "source": [
        "## Convert Parquet to Delta\n",
        "You can do an in-place conversion from the Parquet format to Delta.## Cell title\n",
        ""
      ],
      "attachments": {}
    },
    {
      "cell_type": "code",
      "execution_count": 23,
      "outputs": [
        {
          "output_type": "execute_result",
          "data": {
            "text/plain": "parquetPath: String = /parquet/parquet-table-37857\ndata: org.apache.spark.sql.Dataset[Long] = [id: bigint]\nres41: Boolean = false"
          },
          "execution_count": 23,
          "metadata": {}
        }
      ],
      "metadata": {},
      "source": [
        "val parquetPath = s\"/parquet/parquet-table-$sessionId\"\n",
        "\n",
        "val data = spark.range(0,5)\n",
        "data.write.parquet(parquetPath)\n",
        "\n",
        "// Confirm that the data isn't in the Delta format\n",
        "DeltaTable.isDeltaTable(parquetPath)"
      ],
      "attachments": {}
    },
    {
      "cell_type": "code",
      "execution_count": 24,
      "outputs": [
        {
          "output_type": "execute_result",
          "data": {
            "text/plain": "res42: io.delta.tables.DeltaTable = io.delta.tables.DeltaTable@4d80e849\nres45: Boolean = true"
          },
          "execution_count": 24,
          "metadata": {}
        }
      ],
      "metadata": {},
      "source": [
        "DeltaTable.convertToDelta(spark, s\"parquet.`$parquetPath`\")\n",
        "\n",
        "// Confirm that the converted data is now in the Delta format\n",
        "DeltaTable.isDeltaTable(parquetPath)"
      ],
      "attachments": {}
    },
    {
      "cell_type": "markdown",
      "metadata": {},
      "source": [
        "## SQL Support\n",
        "Delta supports table utility commands through SQL.  You can use SQL to:\n",
        "* Get a DeltaTable's history\n",
        "* Vacuum a DeltaTable\n",
        "* Convert a Parquet file to Delta\n",
        ""
      ],
      "attachments": {}
    },
    {
      "cell_type": "code",
      "execution_count": 25,
      "outputs": [
        {
          "output_type": "execute_result",
          "data": {
            "text/plain": "+-------+-------------------+------+--------+----------------+--------------------+----+--------+---------+-----------+--------------+-------------+\n|version|          timestamp|userId|userName|       operation| operationParameters| job|notebook|clusterId|readVersion|isolationLevel|isBlindAppend|\n+-------+-------------------+------+--------+----------------+--------------------+----+--------+---------+-----------+--------------+-------------+\n|      5|2020-04-25 00:50:37|  null|    null|STREAMING UPDATE|[outputMode -> Ap...|null|    null|     null|          4|          null|         true|\n|      4|2020-04-25 00:49:53|  null|    null|           MERGE|[predicate -> (ol...|null|    null|     null|          3|          null|        false|\n|      3|2020-04-25 00:49:32|  null|    null|          DELETE|[predicate -> [\"(...|null|    null|     null|          2|          null|        false|\n|      2|2020-04-25 00:49:15|  null|    null|          UPDATE|[predicate -> ((i...|null|    null|     null|          1|          null|        false|\n|      1|2020-04-25 00:48:28|  null|    null|           WRITE|[mode -> Overwrit...|null|    null|     null|          0|          null|        false|\n|      0|2020-04-25 00:48:02|  null|    null|           WRITE|[mode -> ErrorIfE...|null|    null|     null|       null|          null|         true|\n+-------+-------------------+------+--------+----------------+--------------------+----+--------+---------+-----------+--------------+-------------+"
          },
          "execution_count": 25,
          "metadata": {}
        }
      ],
      "metadata": {},
      "source": [
        "spark.sql(s\"DESCRIBE HISTORY delta.`$deltaTablePath`\").show()"
      ],
      "attachments": {}
    },
    {
      "cell_type": "code",
      "execution_count": 26,
      "outputs": [
        {
          "output_type": "execute_result",
          "data": {
            "text/plain": "Deleted 0 files and directories in a total of 1 directories.\n+--------------------+\n|                path|\n+--------------------+\n|abfss://data@arca...|\n+--------------------+"
          },
          "execution_count": 26,
          "metadata": {}
        }
      ],
      "metadata": {},
      "source": [
        "spark.sql(s\"VACUUM delta.`$deltaTablePath`\").show()"
      ],
      "attachments": {}
    },
    {
      "cell_type": "code",
      "execution_count": 27,
      "outputs": [
        {
          "output_type": "execute_result",
          "data": {
            "text/plain": "parquetId: Int = 228\nparquetPath: String = /parquet/parquet-table-37857-228\ndata: org.apache.spark.sql.Dataset[Long] = [id: bigint]\nres52: Boolean = false\nres55: org.apache.spark.sql.DataFrame = []\nres57: Boolean = true"
          },
          "execution_count": 27,
          "metadata": {}
        }
      ],
      "metadata": {},
      "source": [
        "val parquetId = scala.util.Random.nextInt(1000)\n",
        "val parquetPath = s\"/parquet/parquet-table-$sessionId-$parquetId\"\n",
        "\n",
        "val data = spark.range(0,5)\n",
        "data.write.parquet(parquetPath)\n",
        "\n",
        "// Confirm that the data isn't in the Delta format\n",
        "DeltaTable.isDeltaTable(parquetPath)\n",
        "\n",
        "// Use SQL to convert the parquet table to Delta\n",
        "spark.sql(s\"CONVERT TO DELTA parquet.`$parquetPath`\")\n",
        "\n",
        "DeltaTable.isDeltaTable(parquetPath)"
      ],
      "attachments": {}
    }
  ]
}