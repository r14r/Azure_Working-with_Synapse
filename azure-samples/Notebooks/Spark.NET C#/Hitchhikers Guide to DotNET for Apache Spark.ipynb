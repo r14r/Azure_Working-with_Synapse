{
  "metadata": {
    "description": "This tutorial gives you a tour of .NET and what how you can interact with Apache Spark through .NET.",
    "saveOutput": true,
    "language_info": {
      "name": "csharp"
    }
  },
  "nbformat": 4,
  "nbformat_minor": 2,
  "cells": [
    {
      "cell_type": "markdown",
      "metadata": {},
      "source": [
        "# Hitchhiker's Guide to .NET for Apache Spark\n",
        "\n",
        "Welcome to the .NET for Apache Spark tutorial! We are glad to have you here. Before we begin, let us cover answers to a few quick questions:\n",
        "\n",
        " - #### What is .NET for Apache Spark?\n",
        "  .NET for Apache Spark provides high performance APIs for using Apache Spark from C# and F#. With these .NET APIs, you can access the most popular Dataframe and SparkSQL aspects of Apache Spark, for working with structured data, and Spark Structured Streaming, for working with streaming data.\n",
        "\n",
        "  .NET for Apache Spark is compliant with .NET Standard - a formal specification of .NET APIs that are common across .NET implementations. This means you can use .NET for Apache Spark anywhere you write .NET code allowing you to reuse all the knowledge, skills, code, and libraries you already have as a .NET developer.\n",
        "\n",
        " - #### Where can I find more on .NET for Apache Spark?\n",
        "  https://github.com/dotnet/spark\n",
        "\n",
        " - #### I did not know there was a REPL for C#!?\n",
        "   Great question! :) We collaborated with the .NET team and they built one for us! https://github.com/dotnet/interactive \n",
        "\n",
        "Whew! Now that we have covered some basic information, let's begin! \n",
        "\n",
        "Since the .NET REPL is something very new, let us start by exploring what you can do with the REPL. "
      ],
      "attachments": {}
    },
    {
      "cell_type": "markdown",
      "metadata": {},
      "source": [
        "# Basic Capabilities of the C# REPL"
      ],
      "attachments": {}
    },
    {
      "cell_type": "code",
      "execution_count": 4,
      "outputs": [],
      "metadata": {},
      "source": [
        "// Simple assignments should just work \n",
        "var x = 1 + 25;"
      ],
      "attachments": {}
    },
    {
      "cell_type": "code",
      "execution_count": 5,
      "outputs": [
        {
          "output_type": "execute_result",
          "execution_count": 5,
          "data": {
            "text/plain": "26\n256"
          },
          "metadata": {}
        }
      ],
      "metadata": {},
      "source": [
        "// You can either use traditional approach to printing a variable...\n",
        "Console.WriteLine(x);\n",
        "\n",
        "// ... or just type it and execute a cell\n",
        "256"
      ],
      "attachments": {}
    },
    {
      "cell_type": "code",
      "execution_count": 6,
      "outputs": [
        {
          "output_type": "error",
          "status": "error",
          "execution_count": 6,
          "data": null,
          "ename": "Error",
          "evalue": "System.Exception: watzzz\n   at Submission#11.<<Initialize>>d__0.MoveNext()\n--- End of stack trace from previous location where exception was thrown ---\n   at Microsoft.CodeAnalysis.Scripting.ScriptExecutionState.RunSubmissionsAsync[TResult](ImmutableArray`1 precedingExecutors, Func`2 currentExecutor, StrongBox`1 exceptionHolderOpt, Func`2 catchExceptionOpt, CancellationToken cancellationToken)",
          "traceback": [
            "Error : System.Exception: watzzz\n   at Submission#11.<<Initialize>>d__0.MoveNext()\n--- End of stack trace from previous location where exception was thrown ---\n   at Microsoft.CodeAnalysis.Scripting.ScriptExecutionState.RunSubmissionsAsync[TResult](ImmutableArray`1 precedingExecutors, Func`2 currentExecutor, StrongBox`1 exceptionHolderOpt, Func`2 catchExceptionOpt, CancellationToken cancellationToken)"
          ]
        }
      ],
      "metadata": {},
      "source": [
        "// You could write code that throws exceptions and they bubble up to the notebook\n",
        "throw new Exception(\"watzzz\");"
      ],
      "attachments": {}
    },
    {
      "cell_type": "code",
      "execution_count": 7,
      "outputs": [
        {
          "output_type": "error",
          "status": "error",
          "execution_count": 7,
          "data": null,
          "ename": "Error",
          "evalue": "(2,14): error CS1002: ; expected",
          "traceback": [
            "Error : (2,14): error CS1002: ; expected"
          ]
        }
      ],
      "metadata": {},
      "source": [
        "// Whatever code is deemed invalid by the C# Compiler, is invalid here too \n",
        "var z = 12345"
      ],
      "attachments": {}
    },
    {
      "cell_type": "code",
      "execution_count": 8,
      "outputs": [
        {
          "output_type": "execute_result",
          "execution_count": 8,
          "data": {
            "text/html": "<table><thead><tr><th><i>index</i></th><th>value</th></tr></thead><tbody><tr><td>0</td><td>1</td></tr><tr><td>1</td><td>2</td></tr><tr><td>2</td><td>3</td></tr><tr><td>3</td><td>4</td></tr><tr><td>4</td><td>5</td></tr></tbody></table>"
          },
          "metadata": {}
        }
      ],
      "metadata": {},
      "source": [
        "// You can even play with built-in libraries/functions\n",
        "Enumerable.Range(1, 5)"
      ],
      "attachments": {}
    },
    {
      "cell_type": "code",
      "execution_count": 9,
      "outputs": [
        {
          "output_type": "execute_result",
          "execution_count": 9,
          "data": {
            "text/html": "<table><thead><tr><th>Start</th><th>End</th></tr></thead><tbody><tr><td>{ Index: Value: 1, IsFromEnd: False }</td><td>{ Index: Value: 4, IsFromEnd: False }</td></tr></tbody></table>"
          },
          "metadata": {}
        }
      ],
      "metadata": {},
      "source": [
        "// And now for some C# 8.0 features. If you haven't read it,\n",
        "// here's the link: \n",
        "// https://docs.microsoft.com/en-us/dotnet/csharp/whats-new/csharp-8\n",
        "1..4"
      ],
      "attachments": {}
    },
    {
      "cell_type": "code",
      "execution_count": 10,
      "outputs": [],
      "metadata": {},
      "source": [
        "// We can even do pattern matching!\n",
        "public static string RockPaperScissors(string first, string second)\n",
        "    => (first, second) switch\n",
        "    {\n",
        "        (\"rock\", \"paper\") => \"rock is covered by paper. Paper wins.\", // <-- Next cell prints this out\n",
        "        (\"rock\", \"scissors\") => \"rock breaks scissors. Rock wins.\",\n",
        "        (\"paper\", \"rock\") => \"paper covers rock. Paper wins.\",\n",
        "        (\"paper\", \"scissors\") => \"paper is cut by scissors. Scissors wins.\",\n",
        "        (\"scissors\", \"rock\") => \"scissors is broken by rock. Rock wins.\",\n",
        "        (\"scissors\", \"paper\") => \"scissors cuts paper. Scissors wins.\",\n",
        "        (_, _) => \"tie\"\n",
        "    };"
      ],
      "attachments": {}
    },
    {
      "cell_type": "code",
      "execution_count": 11,
      "outputs": [
        {
          "output_type": "execute_result",
          "execution_count": 11,
          "data": {
            "text/plain": "rock is covered by paper. Paper wins."
          },
          "metadata": {}
        }
      ],
      "metadata": {},
      "source": [
        "RockPaperScissors(\"rock\", \"paper\")"
      ],
      "attachments": {}
    },
    {
      "cell_type": "code",
      "execution_count": 12,
      "outputs": [
        {
          "output_type": "execute_result",
          "execution_count": 12,
          "data": {
            "text/html": "<div><h1>Our Incredibly Declarative Example</h1><p>Can you believe we wrote this <b>in C#</b>?</p><img src=\"https://media.giphy.com/media/xUPGcguWZHRC2HyBRS/giphy.gif\"></img><p>What will <b>you</b> create next?</p></div>"
          },
          "metadata": {}
        }
      ],
      "metadata": {},
      "source": [
        "// Now, for the fun part! You can render HTML\n",
        "display(\n",
        "    div(\n",
        "        h1(\"Our Incredibly Declarative Example\"),\n",
        "        p(\"Can you believe we wrote this \", b(\"in C#\"), \"?\"),\n",
        "        img[src:\"https://media.giphy.com/media/xUPGcguWZHRC2HyBRS/giphy.gif\"],\n",
        "        p(\"What will \", b(\"you\"), \" create next?\")\n",
        "    )\n",
        ");"
      ],
      "attachments": {}
    },
    {
      "cell_type": "markdown",
      "metadata": {},
      "source": [
        "# Looking at data through Spark.NET\n",
        ""
      ],
      "attachments": {}
    },
    {
      "cell_type": "code",
      "execution_count": 38,
      "outputs": [
        {
          "output_type": "execute_result",
          "execution_count": 38,
          "data": {
            "text/plain": "+---+--------+\n| id|    name|\n+---+--------+\n|  0| Michael|\n|  1|    Elva|\n|  2|   Terry|\n|  3|   Steve|\n|  4|  Brigit|\n|  5|Niharika|\n|  6|   Rahul|\n|  7|   Tomas|\n|  8|    Euan|\n|  9|     Lev|\n| 10|  Saveen|\n+---+--------+"
          },
          "metadata": {}
        }
      ],
      "metadata": {},
      "source": [
        "// Let us use some sample data. In this cell, we create this data \n",
        "// from *scratch* but you can also load it from your storage container. \n",
        "// For instance, \n",
        "// var df = spark.Read().Json(\"wasbs://<account>@<container>.blob.core.windows.net/people.json\");\n",
        "\n",
        "using Microsoft.Spark.Sql;\n",
        "using Microsoft.Spark.Sql.Types;\n",
        "using static Microsoft.Spark.Sql.Functions;\n",
        "\n",
        "var schema = new StructType(new List<StructField>()\n",
        "    {\n",
        "        new StructField(\"id\", new IntegerType()),\n",
        "        new StructField(\"name\", new StringType())\n",
        "    });\n",
        "\n",
        "var data = new List<GenericRow>();\n",
        "data.Add(new GenericRow(new object[] { 0,  \"Michael\" }));\n",
        "data.Add(new GenericRow(new object[] { 1,  \"Elva\"    }));\n",
        "data.Add(new GenericRow(new object[] { 2,  \"Terry\"   }));\n",
        "data.Add(new GenericRow(new object[] { 3,  \"Steve\"   }));\n",
        "data.Add(new GenericRow(new object[] { 4,  \"Brigit\"  }));\n",
        "data.Add(new GenericRow(new object[] { 5,  \"Niharika\"}));\n",
        "data.Add(new GenericRow(new object[] { 6,  \"Rahul\"   }));\n",
        "data.Add(new GenericRow(new object[] { 7,  \"Tomas\"   }));\n",
        "data.Add(new GenericRow(new object[] { 8,  \"Euan\"   }));\n",
        "data.Add(new GenericRow(new object[] { 9,  \"Lev\"   }));\n",
        "data.Add(new GenericRow(new object[] { 10, \"Saveen\"   }));\n",
        "\n",
        "var df = spark.CreateDataFrame(data, schema);\n",
        "df.Show();"
      ],
      "attachments": {}
    },
    {
      "cell_type": "code",
      "execution_count": 39,
      "outputs": [],
      "metadata": {},
      "source": [
        "// Wait, that rendering is old-school plain! Let's spice things up a bit!\n",
        "// What we're doing here is to define a specific formatter that is tied to \n",
        "// Microsoft.Spark.Sql.DataFrame and registering it. When we then invoke\n",
        "// display() and pass a DataFrame, the formatter is invoked, which then\n",
        "// generates the necessary HTML\n",
        "\n",
        "Microsoft.DotNet.Interactive.Formatting.Formatter<Microsoft.Spark.Sql.DataFrame>.Register((df, writer) =>\n",
        "{\n",
        "    var headers = new List<dynamic>();\n",
        "    var columnNames = df.Columns();\n",
        "    headers.Add(th(i(\"index\")));\n",
        "    headers.AddRange(columnNames.Select(c => th(c)));\n",
        "\n",
        "    var rows = new List<List<dynamic>>();\n",
        "    var currentRow = 0;\n",
        "    var dfRows = df.Take(Math.Min(20, (int)df.Count()));\n",
        "    foreach (Row dfRow in dfRows)\n",
        "    {\n",
        "        var cells = new List<dynamic>();\n",
        "        cells.Add(td(currentRow));\n",
        "\n",
        "        foreach (string columnName in columnNames)\n",
        "        {\n",
        "            cells.Add(td(dfRow.Get(columnName)));\n",
        "        }\n",
        "\n",
        "        rows.Add(cells);\n",
        "        ++currentRow;\n",
        "    }\n",
        "\n",
        "    var t = table[@border: \"0.1\"](\n",
        "        thead[@style: \"background-color: blue; color: white\"](headers),\n",
        "        tbody[@style: \"color: red\"](rows.Select(r => tr(r))));\n",
        "\n",
        "    writer.Write(t);\n",
        "}, \"text/html\");"
      ],
      "attachments": {}
    },
    {
      "cell_type": "code",
      "execution_count": 40,
      "outputs": [
        {
          "output_type": "execute_result",
          "execution_count": 40,
          "data": {
            "text/html": "<pre>+---+--------+\n| id|    name|\n+---+--------+\n|  0| Michael|\n|  1|    Elva|\n|  2|   Terry|\n|  3|   Steve|\n|  4|  Brigit|\n|  5|Niharika|\n|  6|   Rahul|\n|  7|   Tomas|\n|  8|    Euan|\n|  9|     Lev|\n| 10|  Saveen|\n+---+--------+\n\n</pre><table border=\"0.1\"><thead style=\"background-color: blue; color: white\"><th><i>index</i></th><th>id</th><th>name</th></thead><tbody style=\"color: red\"><tr><td>0</td><td>0</td><td>Michael</td></tr><tr><td>1</td><td>1</td><td>Elva</td></tr><tr><td>2</td><td>2</td><td>Terry</td></tr><tr><td>3</td><td>3</td><td>Steve</td></tr><tr><td>4</td><td>4</td><td>Brigit</td></tr><tr><td>5</td><td>5</td><td>Niharika</td></tr><tr><td>6</td><td>6</td><td>Rahul</td></tr><tr><td>7</td><td>7</td><td>Tomas</td></tr><tr><td>8</td><td>8</td><td>Euan</td></tr><tr><td>9</td><td>9</td><td>Lev</td></tr><tr><td>10</td><td>10</td><td>Saveen</td></tr></tbody></table>"
          },
          "metadata": {}
        }
      ],
      "metadata": {},
      "source": [
        "// Now, let's try rendering the Spark's DataFrame in two ways...\n",
        "\n",
        "// ... a regular way ...\n",
        "df.Show();\n",
        "\n",
        "// ... and just typing df (so it invokes the formatter we just defined)\n",
        "df"
      ],
      "attachments": {}
    },
    {
      "cell_type": "code",
      "execution_count": 41,
      "outputs": [],
      "metadata": {},
      "source": [
        "// Let us now try something more advanced like, defining C# classes on-the-fly...\n",
        "public static class A {\n",
        "    public static readonly string s = \"The person named \";\n",
        "}"
      ],
      "attachments": {}
    },
    {
      "cell_type": "code",
      "execution_count": 45,
      "outputs": [],
      "metadata": {},
      "source": [
        "// ... and just for illustration, let's define one more simple class\n",
        "public static class B {\n",
        "    private static Random _r = new Random();\n",
        "    private static List<string> _moods = new List<string>{ \"happy\",\"funny\",\"awesome\",\"cool\"};\n",
        "\n",
        "    public static string GetMood() {\n",
        "        return _moods[_r.Next(_moods.Count)];\n",
        "    }\n",
        "}"
      ],
      "attachments": {}
    },
    {
      "cell_type": "code",
      "execution_count": 50,
      "outputs": [],
      "metadata": {},
      "source": [
        "// Let us now define a Spark User-defined Function (UDF) that utilizes\n",
        "// the classes we just defined above. If you do not recognize the syntax\n",
        "// below, here's some relevant documentation:\n",
        "// https://docs.microsoft.com/en-us/dotnet/api/system.func-2?view=netframework-4.8\n",
        "// https://github.com/dotnet/spark/blob/master/examples/Microsoft.Spark.CSharp.Examples/Sql/Basic.cs\n",
        "//\n",
        "// Note: If you change the class definition above, and execute the cell,\n",
        "// you should re-execute this cell (i.e., the cell that defines the UDF)\n",
        "var udf = Udf<string, string>(str => $\"{A.s} - {str} - is {B.GetMood()}!\");"
      ],
      "attachments": {}
    },
    {
      "cell_type": "code",
      "execution_count": 51,
      "outputs": [
        {
          "output_type": "execute_result",
          "execution_count": 51,
          "data": {
            "text/html": "<table border=\"0.1\"><thead style=\"background-color: blue; color: white\"><th><i>index</i></th><th>System.String &lt;&lt;Initialize&gt;&gt;b__0_0(System.String)(name)</th></thead><tbody style=\"color: red\"><tr><td>0</td><td>The person named  - Michael - is happy!</td></tr><tr><td>1</td><td>The person named  - Elva - is happy!</td></tr><tr><td>2</td><td>The person named  - Terry - is funny!</td></tr><tr><td>3</td><td>The person named  - Steve - is awesome!</td></tr><tr><td>4</td><td>The person named  - Brigit - is cool!</td></tr><tr><td>5</td><td>The person named  - Niharika - is happy!</td></tr><tr><td>6</td><td>The person named  - Rahul - is cool!</td></tr><tr><td>7</td><td>The person named  - Tomas - is cool!</td></tr><tr><td>8</td><td>The person named  - Euan - is cool!</td></tr><tr><td>9</td><td>The person named  - Lev - is funny!</td></tr><tr><td>10</td><td>The person named  - Saveen - is awesome!</td></tr></tbody></table>"
          },
          "metadata": {}
        }
      ],
      "metadata": {},
      "source": [
        "// Let's use the UDF on our Spark DataFrame\n",
        "display(\n",
        "    df\n",
        "    .Select(\n",
        "        udf((Microsoft.Spark.Sql.Column)df[\"name\"])));"
      ],
      "attachments": {}
    },
    {
      "cell_type": "code",
      "execution_count": 52,
      "outputs": [
        {
          "output_type": "execute_result",
          "execution_count": 52,
          "data": {
            "text/html": "<div id=\"52e2a6b0-d326-4ca0-b2ff-875f0120d2a1\" style=\"width: 900px; height: 500px;\"></div><script type=\"text/javascript\">\n\r\nvar renderPlotly = function() {\r\n    var xplotRequire = requirejs.config({context:'xplot-2.0.0',paths:{plotly:'https://cdn.plot.ly/plotly-1.49.2.min'}});\r\n    xplotRequire(['plotly'], function(Plotly) {\n\n            var data = [{\"type\":\"scatter\",\"y\":[1,2,3,4,5,6,10,44]}];\n            var layout = {\"title\":\"My awesome chart\",\"xaxis\":{\"title\":\"X axis\",\"_isSubplotObj\":true},\"yaxis\":{\"title\":\"Y axis\",\"_isSubplotObj\":true}};\n            Plotly.newPlot('52e2a6b0-d326-4ca0-b2ff-875f0120d2a1', data, layout);\n        });\r\n};\r\nif ((typeof(requirejs) !==  typeof(Function)) || (typeof(requirejs.config) !== typeof(Function))) { \r\n    var script = document.createElement(\"script\"); \r\n    script.setAttribute(\"src\", \"https://cdnjs.cloudflare.com/ajax/libs/require.js/2.3.6/require.min.js\"); \r\n    script.onload = function(){\r\n        renderPlotly();\r\n    };\r\n    document.getElementsByTagName(\"head\")[0].appendChild(script); \r\n}\r\nelse {\r\n    renderPlotly();\r\n}\n</script>"
          },
          "metadata": {}
        }
      ],
      "metadata": {},
      "source": [
        "// Tables are not that interesting, right? :) Let's do some visualizations now.\n",
        "// Let us start with something simple to illustrate the idea. We highly encourage\n",
        "// you to look at https://fslab.org/XPlot/ to understand how you can use XPlot's\n",
        "// full capabilities. While the examples are in F#, it is fairly straightforward\n",
        "// to rewrite in C#.\n",
        "\n",
        "using XPlot.Plotly;\n",
        "\n",
        "var lineChart = Chart.Line(new List<int> { 1, 2, 3, 4, 5, 6, 10, 44 });\n",
        "lineChart.WithTitle(\"My awesome chart\");\n",
        "lineChart.WithXTitle(\"X axis\");\n",
        "lineChart.WithYTitle(\"Y axis\");\n",
        "display(lineChart);"
      ],
      "attachments": {}
    },
    {
      "cell_type": "code",
      "execution_count": 54,
      "outputs": [
        {
          "output_type": "execute_result",
          "execution_count": 54,
          "data": {
            "text/html": "<div id=\"73693ea5-b5fe-42af-a81b-4d392c0da4ab\" style=\"width: 900px; height: 500px;\"></div><script type=\"text/javascript\">\n\r\nvar renderPlotly = function() {\r\n    var xplotRequire = requirejs.config({context:'xplot-2.0.0',paths:{plotly:'https://cdn.plot.ly/plotly-1.49.2.min'}});\r\n    xplotRequire(['plotly'], function(Plotly) {\n\n            var data = [{\"type\":\"bar\",\"x\":[\"Michael\",\"Elva\",\"Terry\",\"Steve\",\"Brigit\",\"Niharika\",\"Rahul\",\"Tomas\",\"Euan\",\"Lev\",\"Saveen\"],\"y\":[0,1,2,3,4,5,6,7,8,9,10],\"name\":\"bar chart\"}];\n            var layout = \"\";\n            Plotly.newPlot('73693ea5-b5fe-42af-a81b-4d392c0da4ab', data, layout);\n        });\r\n};\r\nif ((typeof(requirejs) !==  typeof(Function)) || (typeof(requirejs.config) !== typeof(Function))) { \r\n    var script = document.createElement(\"script\"); \r\n    script.setAttribute(\"src\", \"https://cdnjs.cloudflare.com/ajax/libs/require.js/2.3.6/require.min.js\"); \r\n    script.onload = function(){\r\n        renderPlotly();\r\n    };\r\n    document.getElementsByTagName(\"head\")[0].appendChild(script); \r\n}\r\nelse {\r\n    renderPlotly();\r\n}\n</script>"
          },
          "metadata": {}
        }
      ],
      "metadata": {},
      "source": [
        "// Good! Now let us try to visualize the Spark DataFrame we have.\n",
        "// Now is a good time to refresh your concept of a Spark DataFrame\n",
        "// https://spark.apache.org/docs/latest/sql-programming-guide.html\n",
        "// Remember that a Spark DataFrame is a distributed representation \n",
        "// of your dataset (yes, even if your data is a few KB). Since we\n",
        "// are using a visualization library, we need to first 'collect'\n",
        "// (notice how we are using df.Collect().ToArray() below)\n",
        "// all the data that is distributed on your cluster, and shape it\n",
        "// appropriately for XPlot.\n",
        "//\n",
        "// Note: Visualizations are good for smaller datasets (typically, \n",
        "// a few 10s of thousands of data points coming to KBs), so if you are\n",
        "// trying to visualize GBs of data, it is usually a good idea to\n",
        "// summarize your data appropriately using Spark.NET's APIs. For\n",
        "// a list of summarization APIs, see here:\n",
        "// https://docs.microsoft.com/en-us/dotnet/api/microsoft.spark.sql.functions?view=spark-dotnet\n",
        "\n",
        "var names = new List<string>();\n",
        "var ids = new List<int>();\n",
        "\n",
        "foreach (Row row in df.Collect().ToArray())\n",
        "{\n",
        " names.Add(row.GetAs<string>(\"name\"));\n",
        " int? id = row.GetAs<int?>(\"id\");\n",
        " ids.Add( id ?? 0);\n",
        "}\n",
        "var bar = new Graph.Bar\n",
        "{\n",
        " name = \"bar chart\",\n",
        " x = names,\n",
        " y = ids\n",
        "};\n",
        "\n",
        "var chart = Chart.Plot(new[] {bar});\n",
        "display(chart);"
      ],
      "attachments": {}
    },
    {
      "cell_type": "code",
      "execution_count": 75,
      "outputs": [
        {
          "output_type": "execute_result",
          "execution_count": 75,
          "data": {
            "text/plain": "+--------------------+\n|              number|\n+--------------------+\n|  0.9696137248396938|\n|0.032666774947506735|\n|  0.9982835552647168|\n|   0.623668246261621|\n|   0.886883255507277|\n|  0.6830984720415895|\n|   0.208581972964379|\n| 0.11822117544627803|\n| 0.41178633617786053|\n| 0.39932316653398947|\n| 0.07784702818740487|\n|   0.717773464842594|\n| 0.21077453215176917|\n|0.008377783935692992|\n| 0.16170730356206525|\n| 0.46337959564448317|\n|  0.7769349020798387|\n| 0.15755635414158756|\n|  0.9235577191801545|\n|  0.9462093380029357|\n+--------------------+\nonly showing top 20 rows"
          },
          "metadata": {}
        }
      ],
      "metadata": {},
      "source": [
        "// As a final step, let us now plot a histogram of a random dataset\n",
        "\n",
        "using XPlot.Plotly;\n",
        "\n",
        "var schema = new StructType(new List<StructField>()\n",
        "    {\n",
        "        new StructField(\"number\", new DoubleType())\n",
        "    });\n",
        "\n",
        "Random random = new Random();\n",
        "\n",
        "var data = new List<GenericRow>();\n",
        "for(int i = 0; i <=100; i++) {\n",
        "    data.Add(new GenericRow(new object[] { random.NextDouble() }));\n",
        "}\n",
        "\n",
        "var histogramDf = spark.CreateDataFrame(data, schema);\n",
        "histogramDf.Show()"
      ],
      "attachments": {}
    },
    {
      "cell_type": "code",
      "execution_count": 76,
      "outputs": [],
      "metadata": {},
      "source": [
        "// Time to use LINQ (or Language Integrated Query) :)\n",
        "// For those that are not familiar with LINQ, you can read more about it\n",
        "// here: https://docs.microsoft.com/en-us/dotnet/csharp/programming-guide/concepts/linq/\n",
        "\n",
        "using System.Linq;\n",
        "\n",
        "// Let us take the histogramDf we loaded through Spark and sample some data points\n",
        "// for the histogram. We will then use LINQ to shape the data for our next \n",
        "// steps (visualization!)\n",
        "var sample1 = \n",
        "        histogramDf.Sample(0.5, true).Collect().ToArray() // <---- Spark APIs\n",
        "        .Select(x => x.GetAs<double>(\"number\")); // <---- LINQ APIs\n",
        "        \n",
        "// Let us create two more sample sets we can use for plotting\n",
        "var sample2 = histogramDf.Sample(0.3, false).Collect().ToArray().Select(x => x.GetAs<double>(\"number\"));\n",
        "var sample3 = histogramDf.Sample(0.6, true).Collect().ToArray().Select(x => x.GetAs<double>(\"number\"));"
      ],
      "attachments": {}
    },
    {
      "cell_type": "code",
      "execution_count": 77,
      "outputs": [],
      "metadata": {},
      "source": [
        "// Let us plot the histograms now!\n",
        "var hist1 = new Graph.Histogram{x = sample1, opacity = 0.75};\n",
        "var hist2 = new Graph.Histogram{x = sample2, opacity = 0.75};\n",
        "var hist3 = new Graph.Histogram{x = sample3, opacity = 0.75};"
      ],
      "attachments": {}
    },
    {
      "cell_type": "code",
      "execution_count": 78,
      "outputs": [
        {
          "output_type": "execute_result",
          "execution_count": 78,
          "data": {
            "text/html": "<div id=\"bfae9d3d-c052-4468-abea-8177e9e49a35\" style=\"width: 900px; height: 500px;\"></div><script type=\"text/javascript\">\n\r\nvar renderPlotly = function() {\r\n    var xplotRequire = requirejs.config({context:'xplot-2.0.0',paths:{plotly:'https://cdn.plot.ly/plotly-1.49.2.min'}});\r\n    xplotRequire(['plotly'], function(Plotly) {\n\n            var data = [{\"type\":\"histogram\",\"opacity\":0.75,\"x\":[0.032666774947506735,0.9982835552647168,0.623668246261621,0.208581972964379,0.11822117544627803,0.11822117544627803,0.39932316653398947,0.07784702818740487,0.717773464842594,0.9462093380029357,0.4397042754291111,0.4397042754291111,0.5227143613261703,0.6659214858272678,0.6659214858272678,0.6659214858272678,0.2650998021779115,0.16487652397010313,0.16487652397010313,0.09841970358901643,0.09841970358901643,0.30597561146410907,0.17956875040175801,0.2491971530249329,0.906324646392057,0.12542175181462512,0.9568229708619522,0.11928430717405132,0.200830875058114,0.9474882012919934,0.2618686795522779,0.5435003696677743,0.1839639708325099,0.1839639708325099,0.1603841107154191,0.8127472260094933,0.8127472260094933,0.8127472260094933,0.05696065679982335,0.14072217286598038,0.14072217286598038,0.7311251688427874,0.7311251688427874,0.13603689201922942,0.7919074868745671,0.36421970248418845,0.582265846702394,0.9217123561174201,0.935733995370443,0.002408889123429027,0.14559150074868998,0.14559150074868998,0.792901548926207,0.792901548926207,0.8258433029175938,0.7249531879671631]}];\n            var layout = \"\";\n            Plotly.newPlot('bfae9d3d-c052-4468-abea-8177e9e49a35', data, layout);\n        });\r\n};\r\nif ((typeof(requirejs) !==  typeof(Function)) || (typeof(requirejs.config) !== typeof(Function))) { \r\n    var script = document.createElement(\"script\"); \r\n    script.setAttribute(\"src\", \"https://cdnjs.cloudflare.com/ajax/libs/require.js/2.3.6/require.min.js\"); \r\n    script.onload = function(){\r\n        renderPlotly();\r\n    };\r\n    document.getElementsByTagName(\"head\")[0].appendChild(script); \r\n}\r\nelse {\r\n    renderPlotly();\r\n}\n</script>"
          },
          "metadata": {}
        }
      ],
      "metadata": {},
      "source": [
        "Chart.Plot(new[] {hist1})"
      ],
      "attachments": {}
    },
    {
      "cell_type": "code",
      "execution_count": 79,
      "outputs": [
        {
          "output_type": "execute_result",
          "execution_count": 79,
          "data": {
            "text/html": "<div id=\"ca0c7200-1c35-4497-9016-57fa9ffa76ba\" style=\"width: 900px; height: 500px;\"></div><script type=\"text/javascript\">\n\r\nvar renderPlotly = function() {\r\n    var xplotRequire = requirejs.config({context:'xplot-2.0.0',paths:{plotly:'https://cdn.plot.ly/plotly-1.49.2.min'}});\r\n    xplotRequire(['plotly'], function(Plotly) {\n\n            var data = [{\"type\":\"histogram\",\"opacity\":0.75,\"x\":[0.886883255507277,0.6830984720415895,0.208581972964379,0.07784702818740487,0.717773464842594,0.9462093380029357,0.5432500455264235,0.4397042754291111,0.5227143613261703,0.783096721760508,0.16487652397010313,0.09841970358901643,0.17956875040175801,0.2491971530249329,0.08055047648053172,0.42217965024624937,0.9568229708619522,0.07858714837515128,0.9474882012919934,0.5435003696677743,0.014425292152178144,0.1603841107154191,0.956779418958714,0.05696065679982335,0.6175821077160454,0.24217377893727915,0.8615174386005464,0.533379629037054,0.9217123561174201,0.935733995370443,0.14559150074868998,0.8258433029175938]}];\n            var layout = \"\";\n            Plotly.newPlot('ca0c7200-1c35-4497-9016-57fa9ffa76ba', data, layout);\n        });\r\n};\r\nif ((typeof(requirejs) !==  typeof(Function)) || (typeof(requirejs.config) !== typeof(Function))) { \r\n    var script = document.createElement(\"script\"); \r\n    script.setAttribute(\"src\", \"https://cdnjs.cloudflare.com/ajax/libs/require.js/2.3.6/require.min.js\"); \r\n    script.onload = function(){\r\n        renderPlotly();\r\n    };\r\n    document.getElementsByTagName(\"head\")[0].appendChild(script); \r\n}\r\nelse {\r\n    renderPlotly();\r\n}\n</script>"
          },
          "metadata": {}
        }
      ],
      "metadata": {},
      "source": [
        "Chart.Plot(new[] {hist2})"
      ],
      "attachments": {}
    },
    {
      "cell_type": "code",
      "execution_count": 80,
      "outputs": [
        {
          "output_type": "execute_result",
          "execution_count": 80,
          "data": {
            "text/html": "<div id=\"5397c591-bf07-4151-8379-10b4d07f31a8\" style=\"width: 900px; height: 500px;\"></div><script type=\"text/javascript\">\n\r\nvar renderPlotly = function() {\r\n    var xplotRequire = requirejs.config({context:'xplot-2.0.0',paths:{plotly:'https://cdn.plot.ly/plotly-1.49.2.min'}});\r\n    xplotRequire(['plotly'], function(Plotly) {\n\n            var data = [{\"type\":\"histogram\",\"opacity\":0.75,\"x\":[0.9696137248396938,0.9696137248396938,0.9982835552647168,0.623668246261621,0.886883255507277,0.11822117544627803,0.008377783935692992,0.46337959564448317,0.15755635414158756,0.15755635414158756,0.9235577191801545,0.9235577191801545,0.7077450452874159,0.7077450452874159,0.5432500455264235,0.4397042754291111,0.4397042754291111,0.4397042754291111,0.7863993527304378,0.4425437475752755,0.4425437475752755,0.4111290855385033,0.09841970358901643,0.30597561146410907,0.21508416916014822,0.17956875040175801,0.17956875040175801,0.6817326069258771,0.6817326069258771,0.6817326069258771,0.12542175181462512,0.42217965024624937,0.42217965024624937,0.11928430717405132,0.7426518964314144,0.7426518964314144,0.7426518964314144,0.7426518964314144,0.7426518964314144,0.07858714837515128,0.200830875058114,0.200830875058114,0.200830875058114,0.2618686795522779,0.4894167294210832,0.5435003696677743,0.5435003696677743,0.4221826202339412,0.4221826202339412,0.8127472260094933,0.9346767430820859,0.6572369358768859,0.7311251688427874,0.7311251688427874,0.24217377893727915,0.13603689201922942,0.2055860325720096,0.533379629037054,0.7919074868745671,0.3972926095115452,0.36421970248418845,0.1968416903153256,0.6998918511438611,0.20632567405995245,0.20632567405995245,0.9030078444178252,0.9030078444178252,0.5549193339212422,0.935733995370443,0.002408889123429027,0.002408889123429027]}];\n            var layout = \"\";\n            Plotly.newPlot('5397c591-bf07-4151-8379-10b4d07f31a8', data, layout);\n        });\r\n};\r\nif ((typeof(requirejs) !==  typeof(Function)) || (typeof(requirejs.config) !== typeof(Function))) { \r\n    var script = document.createElement(\"script\"); \r\n    script.setAttribute(\"src\", \"https://cdnjs.cloudflare.com/ajax/libs/require.js/2.3.6/require.min.js\"); \r\n    script.onload = function(){\r\n        renderPlotly();\r\n    };\r\n    document.getElementsByTagName(\"head\")[0].appendChild(script); \r\n}\r\nelse {\r\n    renderPlotly();\r\n}\n</script>"
          },
          "metadata": {}
        }
      ],
      "metadata": {},
      "source": [
        "Chart.Plot(new[] {hist3})"
      ],
      "attachments": {}
    },
    {
      "cell_type": "code",
      "execution_count": 81,
      "outputs": [
        {
          "output_type": "execute_result",
          "execution_count": 81,
          "data": {
            "text/html": "<div id=\"9486edd0-7e04-4a32-af72-23b2f42d5766\" style=\"width: 900px; height: 500px;\"></div><script type=\"text/javascript\">\n\r\nvar renderPlotly = function() {\r\n    var xplotRequire = requirejs.config({context:'xplot-2.0.0',paths:{plotly:'https://cdn.plot.ly/plotly-1.49.2.min'}});\r\n    xplotRequire(['plotly'], function(Plotly) {\n\n            var data = [{\"type\":\"histogram\",\"opacity\":0.75,\"x\":[0.032666774947506735,0.9982835552647168,0.623668246261621,0.208581972964379,0.11822117544627803,0.11822117544627803,0.39932316653398947,0.07784702818740487,0.717773464842594,0.9462093380029357,0.4397042754291111,0.4397042754291111,0.5227143613261703,0.6659214858272678,0.6659214858272678,0.6659214858272678,0.2650998021779115,0.16487652397010313,0.16487652397010313,0.09841970358901643,0.09841970358901643,0.30597561146410907,0.17956875040175801,0.2491971530249329,0.906324646392057,0.12542175181462512,0.9568229708619522,0.11928430717405132,0.200830875058114,0.9474882012919934,0.2618686795522779,0.5435003696677743,0.1839639708325099,0.1839639708325099,0.1603841107154191,0.8127472260094933,0.8127472260094933,0.8127472260094933,0.05696065679982335,0.14072217286598038,0.14072217286598038,0.7311251688427874,0.7311251688427874,0.13603689201922942,0.7919074868745671,0.36421970248418845,0.582265846702394,0.9217123561174201,0.935733995370443,0.002408889123429027,0.14559150074868998,0.14559150074868998,0.792901548926207,0.792901548926207,0.8258433029175938,0.7249531879671631]},{\"type\":\"histogram\",\"opacity\":0.75,\"x\":[0.886883255507277,0.6830984720415895,0.208581972964379,0.07784702818740487,0.717773464842594,0.9462093380029357,0.5432500455264235,0.4397042754291111,0.5227143613261703,0.783096721760508,0.16487652397010313,0.09841970358901643,0.17956875040175801,0.2491971530249329,0.08055047648053172,0.42217965024624937,0.9568229708619522,0.07858714837515128,0.9474882012919934,0.5435003696677743,0.014425292152178144,0.1603841107154191,0.956779418958714,0.05696065679982335,0.6175821077160454,0.24217377893727915,0.8615174386005464,0.533379629037054,0.9217123561174201,0.935733995370443,0.14559150074868998,0.8258433029175938]},{\"type\":\"histogram\",\"opacity\":0.75,\"x\":[0.9696137248396938,0.9696137248396938,0.9982835552647168,0.623668246261621,0.886883255507277,0.11822117544627803,0.008377783935692992,0.46337959564448317,0.15755635414158756,0.15755635414158756,0.9235577191801545,0.9235577191801545,0.7077450452874159,0.7077450452874159,0.5432500455264235,0.4397042754291111,0.4397042754291111,0.4397042754291111,0.7863993527304378,0.4425437475752755,0.4425437475752755,0.4111290855385033,0.09841970358901643,0.30597561146410907,0.21508416916014822,0.17956875040175801,0.17956875040175801,0.6817326069258771,0.6817326069258771,0.6817326069258771,0.12542175181462512,0.42217965024624937,0.42217965024624937,0.11928430717405132,0.7426518964314144,0.7426518964314144,0.7426518964314144,0.7426518964314144,0.7426518964314144,0.07858714837515128,0.200830875058114,0.200830875058114,0.200830875058114,0.2618686795522779,0.4894167294210832,0.5435003696677743,0.5435003696677743,0.4221826202339412,0.4221826202339412,0.8127472260094933,0.9346767430820859,0.6572369358768859,0.7311251688427874,0.7311251688427874,0.24217377893727915,0.13603689201922942,0.2055860325720096,0.533379629037054,0.7919074868745671,0.3972926095115452,0.36421970248418845,0.1968416903153256,0.6998918511438611,0.20632567405995245,0.20632567405995245,0.9030078444178252,0.9030078444178252,0.5549193339212422,0.935733995370443,0.002408889123429027,0.002408889123429027]}];\n            var layout = {\"title\":\"Overlaid Histogram\",\"barmode\":\"overlay\"};\n            Plotly.newPlot('9486edd0-7e04-4a32-af72-23b2f42d5766', data, layout);\n        });\r\n};\r\nif ((typeof(requirejs) !==  typeof(Function)) || (typeof(requirejs.config) !== typeof(Function))) { \r\n    var script = document.createElement(\"script\"); \r\n    script.setAttribute(\"src\", \"https://cdnjs.cloudflare.com/ajax/libs/require.js/2.3.6/require.min.js\"); \r\n    script.onload = function(){\r\n        renderPlotly();\r\n    };\r\n    document.getElementsByTagName(\"head\")[0].appendChild(script); \r\n}\r\nelse {\r\n    renderPlotly();\r\n}\n</script>"
          },
          "metadata": {}
        }
      ],
      "metadata": {},
      "source": [
        "// but wait, that's three different graphs and it's impossible to read them\n",
        "// altogether! Let's try an overlay histogram, shall we?\n",
        "var layout = new XPlot.Plotly.Layout.Layout{barmode=\"overlay\", title=\"Overlaid Histogram\"};\n",
        "var histogram = Chart.Plot(new[] {hist1, hist2, hist3});\n",
        "histogram.WithLayout(layout);\n",
        "histogram"
      ],
      "attachments": {}
    },
    {
      "cell_type": "code",
      "execution_count": 86,
      "outputs": [
        {
          "output_type": "execute_result",
          "execution_count": 86,
          "data": {
            "text/html": "<div id=\"9486edd0-7e04-4a32-af72-23b2f42d5766\" style=\"width: 900px; height: 500px;\"></div><script type=\"text/javascript\">\n\r\nvar renderPlotly = function() {\r\n    var xplotRequire = requirejs.config({context:'xplot-2.0.0',paths:{plotly:'https://cdn.plot.ly/plotly-1.49.2.min'}});\r\n    xplotRequire(['plotly'], function(Plotly) {\n\n            var data = [{\"type\":\"histogram\",\"opacity\":0.75,\"x\":[0.032666774947506735,0.9982835552647168,0.623668246261621,0.208581972964379,0.11822117544627803,0.11822117544627803,0.39932316653398947,0.07784702818740487,0.717773464842594,0.9462093380029357,0.4397042754291111,0.4397042754291111,0.5227143613261703,0.6659214858272678,0.6659214858272678,0.6659214858272678,0.2650998021779115,0.16487652397010313,0.16487652397010313,0.09841970358901643,0.09841970358901643,0.30597561146410907,0.17956875040175801,0.2491971530249329,0.906324646392057,0.12542175181462512,0.9568229708619522,0.11928430717405132,0.200830875058114,0.9474882012919934,0.2618686795522779,0.5435003696677743,0.1839639708325099,0.1839639708325099,0.1603841107154191,0.8127472260094933,0.8127472260094933,0.8127472260094933,0.05696065679982335,0.14072217286598038,0.14072217286598038,0.7311251688427874,0.7311251688427874,0.13603689201922942,0.7919074868745671,0.36421970248418845,0.582265846702394,0.9217123561174201,0.935733995370443,0.002408889123429027,0.14559150074868998,0.14559150074868998,0.792901548926207,0.792901548926207,0.8258433029175938,0.7249531879671631],\"marker\":{\"color\":\"#D65108)\"}},{\"type\":\"histogram\",\"opacity\":0.75,\"x\":[0.886883255507277,0.6830984720415895,0.208581972964379,0.07784702818740487,0.717773464842594,0.9462093380029357,0.5432500455264235,0.4397042754291111,0.5227143613261703,0.783096721760508,0.16487652397010313,0.09841970358901643,0.17956875040175801,0.2491971530249329,0.08055047648053172,0.42217965024624937,0.9568229708619522,0.07858714837515128,0.9474882012919934,0.5435003696677743,0.014425292152178144,0.1603841107154191,0.956779418958714,0.05696065679982335,0.6175821077160454,0.24217377893727915,0.8615174386005464,0.533379629037054,0.9217123561174201,0.935733995370443,0.14559150074868998,0.8258433029175938],\"marker\":{\"color\":\"#ffff00\"}},{\"type\":\"histogram\",\"opacity\":0.75,\"x\":[0.9696137248396938,0.9696137248396938,0.9982835552647168,0.623668246261621,0.886883255507277,0.11822117544627803,0.008377783935692992,0.46337959564448317,0.15755635414158756,0.15755635414158756,0.9235577191801545,0.9235577191801545,0.7077450452874159,0.7077450452874159,0.5432500455264235,0.4397042754291111,0.4397042754291111,0.4397042754291111,0.7863993527304378,0.4425437475752755,0.4425437475752755,0.4111290855385033,0.09841970358901643,0.30597561146410907,0.21508416916014822,0.17956875040175801,0.17956875040175801,0.6817326069258771,0.6817326069258771,0.6817326069258771,0.12542175181462512,0.42217965024624937,0.42217965024624937,0.11928430717405132,0.7426518964314144,0.7426518964314144,0.7426518964314144,0.7426518964314144,0.7426518964314144,0.07858714837515128,0.200830875058114,0.200830875058114,0.200830875058114,0.2618686795522779,0.4894167294210832,0.5435003696677743,0.5435003696677743,0.4221826202339412,0.4221826202339412,0.8127472260094933,0.9346767430820859,0.6572369358768859,0.7311251688427874,0.7311251688427874,0.24217377893727915,0.13603689201922942,0.2055860325720096,0.533379629037054,0.7919074868745671,0.3972926095115452,0.36421970248418845,0.1968416903153256,0.6998918511438611,0.20632567405995245,0.20632567405995245,0.9030078444178252,0.9030078444178252,0.5549193339212422,0.935733995370443,0.002408889123429027,0.002408889123429027],\"marker\":{\"color\":\"#462255\"}}];\n            var layout = {\"title\":\"Overlaid Histogram with cool colors!\",\"barmode\":\"overlay\"};\n            Plotly.newPlot('9486edd0-7e04-4a32-af72-23b2f42d5766', data, layout);\n        });\r\n};\r\nif ((typeof(requirejs) !==  typeof(Function)) || (typeof(requirejs.config) !== typeof(Function))) { \r\n    var script = document.createElement(\"script\"); \r\n    script.setAttribute(\"src\", \"https://cdnjs.cloudflare.com/ajax/libs/require.js/2.3.6/require.min.js\"); \r\n    script.onload = function(){\r\n        renderPlotly();\r\n    };\r\n    document.getElementsByTagName(\"head\")[0].appendChild(script); \r\n}\r\nelse {\r\n    renderPlotly();\r\n}\n</script>"
          },
          "metadata": {}
        }
      ],
      "metadata": {},
      "source": [
        "// And for the final touches\n",
        "using static XPlot.Plotly.Graph;\n",
        "\n",
        "layout.title = \"Overlaid Histogram with cool colors!\";\n",
        "hist1.marker = new Marker {color = \"#D65108)\"};\n",
        "hist2.marker = new Marker {color = \"#ffff00\"}; \n",
        "hist3.marker = new Marker {color = \"#462255\"};\n",
        "\n",
        "histogram"
      ],
      "attachments": {}
    },
    {
      "cell_type": "code",
      "execution_count": null,
      "outputs": [],
      "metadata": {},
      "source": [],
      "attachments": {}
    }
  ]
}
