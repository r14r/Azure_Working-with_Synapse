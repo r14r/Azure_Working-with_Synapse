{
  "metadata": {
    "description": "More advanced example of analyzing and extracting insights from GitHub data.",
    "saveOutput": true,
    "kernelspec": {
      "name": "sparkdotnetkernel",
      "display_name": "Spark .NET"
    },
    "language_info": {
      "name": "csharp"
    }
  },
  "nbformat": 4,
  "nbformat_minor": 2,
  "cells": [
    {
      "cell_type": "code",
      "execution_count": null,
      "outputs": [],
      "metadata": {},
      "source": [
        "spark"
      ],
      "attachments": {}
    },
    {
      "cell_type": "code",
      "execution_count": 2,
      "outputs": [
        {
          "output_type": "execute_result",
          "data": {
            "text/html": "<div><br /><font color=\"purple\" size=\"18\">GitHub &#128150; .NET for Apache Spark</font><hr></hr><div><font size=\"4\">Welcome to the Spark.NET Notebook E2E Playground!</font><br /><br /><font size=\"4\">Let&#39;s dive into the world of analyzing GitHub meta-data using .NET for Apache Spark.</font><br /><br /><font size=\"4\">You can see here that we&#39;re able to use</font><font color=\"purple\" size=\"4\"> HTML </font><font size=\"4\">to render beautiful cells.</font></div></div>"
          },
          "execution_count": 2,
          "metadata": {}
        }
      ],
      "metadata": {
        "cell_status": {
          "execute_time": {
            "duration": 1280.983154296875,
            "end_time": 1571951678785.414
          }
        },
        "collapsed": false
      },
      "source": [
        "display(\n",
        "    div(\n",
        "        font[size: 18, color: \"purple\"](\"GitHub 💖 .NET for Apache Spark\"),\n",
        "        hr(),\n",
        "        div(\n",
        "            font[size: 4](\"Welcome to the Spark.NET Notebook E2E Playground!\"),\n",
        "            p(),\n",
        "            font[size:4](\"Let's dive into the world of analyzing GitHub meta-data using .NET for Apache Spark.\"),\n",
        "            p(),\n",
        "            font[size:4](\"You can see here that we're able to use\"),font[size:4, color:\"purple\"](\" HTML \"),\n",
        "            font[size:4](\"to render beautiful cells.\")\n",
        "        )\n",
        "    ));"
      ]
    },
    {
      "cell_type": "markdown",
      "metadata": {},
      "source": [
        "## <font color=purple>Read Input Data 📈 </font>\n",
        "We'll read in data about various GitHub activity to understand trends and gain some interesting insights.\n",
        "### We can start off reading a csv file containing commit information. Be sure to update the following cells with the correct data file paths."
      ]
    },
    {
      "cell_type": "code",
      "execution_count": 3,
      "outputs": [
        {
          "output_type": "execute_result",
          "data": {
            "text/plain": "+---+--------------------+---------+------------+----------+-------------------+\n| id|                 sha|author_id|committer_id|project_id|         created_at|\n+---+--------------------+---------+------------+----------+-------------------+\n|  2|397238b49c88d1d8e...|        2|           2|         1|2012-08-01 13:25:36|\n|  3|55bf5367875ec9e81...|        2|           2|         1|2012-06-18 03:39:30|\n|  4|9d653ea84c6df1b90...|        2|           2|         1|2012-06-11 07:47:16|\n|  5|fd00ce155f1a9842d...|        2|           2|         1|2012-06-11 07:45:07|\n|  6|641b94c68ecd63478...|        2|           2|         1|2012-05-07 06:00:56|\n|  7|3f7d2c8f8dd589222...|        2|           2|         1|2012-03-08 04:47:19|\n|  8|8adee7b7a7d634630...|        2|           2|         1|2012-03-08 04:40:43|\n|  9|ecb30132a2d978a70...|        2|           2|         1|2012-03-08 04:40:25|\n| 10|c1d057e040786c909...|        2|           2|         1|2012-03-08 04:24:22|\n| 11|eefadec57441a172d...|        2|           2|         1|2012-03-07 22:06:35|\n| 12|92c2802570f553f49...|        2|           2|         1|2012-02-18 02:11:50|\n| 13|3d4dcd08e1e14c62e...|        2|           2|         1|2012-02-18 02:09:27|\n| 14|6829cd56d776b7926...|        2|           2|         1|2012-02-13 18:43:47|\n| 15|b8bf2fdbd482f3c8e...|        2|           2|         1|2012-01-17 02:39:20|\n| 16|94c52c310f8850503...|        2|           2|         1|2012-01-17 00:03:04|\n| 17|55e5630f630dd93f9...|        2|           2|         1|2012-01-16 12:07:50|\n| 18|f060b5c9f596c0fea...|        2|           2|         1|2012-01-16 12:02:10|\n| 19|bcfb0beee5704c32d...|        2|           2|         1|2012-01-16 11:56:52|\n| 20|8c8f85cbbc367f69b...|        2|           2|         1|2012-01-04 10:18:30|\n| 21|def4122b4ec68c1aa...|        2|           2|         1|2012-01-04 10:53:37|\n+---+--------------------+---------+------------+----------+-------------------+\nonly showing top 20 rows"
          },
          "execution_count": 3,
          "metadata": {}
        }
      ],
      "metadata": {
        "cell_status": {
          "execute_time": {
            "duration": 1271.4638671875,
            "end_time": 1571951706712.9
          }
        },
        "collapsed": false
      },
      "source": [
        "DataFrame commits = spark\n",
        "            .Read()\n",
        "            .Option(\"header\", \"true\")\n",
        "            .Schema(\"id INT, sha STRING, author_id INT, committer_id INT, \" +\n",
        "                    \"project_id INT, created_at TIMESTAMP\")\n",
        "            .Csv(\"<path_to_ghtorrent/commits.csv>\");\n",
        "\n",
        "commits.Show()"
      ]
    },
    {
      "cell_type": "markdown",
      "metadata": {},
      "source": [
        "### Next, let's find out more about the watchers."
      ]
    },
    {
      "cell_type": "code",
      "execution_count": 4,
      "outputs": [
        {
          "output_type": "execute_result",
          "data": {
            "text/plain": "+-------+-------+-------------------+\n|repo_id|user_id|         created_at|\n+-------+-------+-------------------+\n|      1|      2|2009-12-08 10:17:27|\n|      1|      4|2009-12-08 10:17:27|\n|      1|      6|2010-02-05 06:35:04|\n|      1|      7|2009-12-08 10:17:27|\n|      1|      8|2010-03-26 04:57:36|\n|      1|      9|2009-12-08 10:17:27|\n|      1|     10|2009-12-08 10:17:27|\n|      1|     11|2009-12-08 10:17:27|\n|      1|     12|2009-12-08 10:17:27|\n|      1|     13|2009-12-08 10:17:27|\n|      1|     14|2010-11-24 05:43:29|\n|      1|     15|2011-03-11 09:22:49|\n|      1|     16|2011-06-27 06:22:45|\n|      1|     17|2009-12-08 10:17:27|\n|      1|     18|2010-12-09 13:14:35|\n|      1|     19|2012-02-22 16:37:46|\n|      1|     20|2012-03-25 02:58:07|\n|      1|     21|2011-02-14 09:39:32|\n|      1|     22|2012-07-24 11:45:58|\n|      1| 155317|2012-12-09 12:19:08|\n+-------+-------+-------------------+\nonly showing top 20 rows"
          },
          "execution_count": 4,
          "metadata": {}
        }
      ],
      "metadata": {
        "cell_status": {
          "execute_time": {
            "duration": 260.276123046875,
            "end_time": 1571951858086.579
          }
        },
        "collapsed": false
      },
      "source": [
        "DataFrame watchers = spark\n",
        "            .Read()\n",
        "            .Option(\"header\", \"true\")\n",
        "            .Schema(\"repo_id INT, user_id INT, created_at TIMESTAMP\")\n",
        "            .Csv(\"<path_to_ghtorrent/watchers.csv>\");\n",
        "\n",
        "watchers.Show()"
      ]
    },
    {
      "cell_type": "markdown",
      "metadata": {},
      "source": [
        "### And last but not least, it's time to get our projects!\n",
        "Let's gather all the C# projects in our data."
      ]
    },
    {
      "cell_type": "code",
      "execution_count": 5,
      "outputs": [
        {
          "output_type": "execute_result",
          "data": {
            "text/plain": "+----+--------------------+--------+--------------------+--------------------+--------+-------------------+-----------+-------+-------------------+\n|  id|                 url|owner_id|                name|          descriptor|language|         created_at|forked_from|deleted|         updated_at|\n+----+--------------------+--------+--------------------+--------------------+--------+-------------------+-----------+-------+-------------------+\n| 582|https://api.githu...|    4398|                mono|Mono open source ...|      C#|2012-08-02 11:32:05|        581|      1|2015-10-12 15:03:36|\n| 685|https://api.githu...|    5039|           opencover|A code coverage t...|      C#|2014-01-06 12:50:20|    7312471|      0|2019-05-17 13:59:43|\n| 689|https://api.githu...|    5043|           opencover|A code coverage t...|      C#|2012-08-02 15:14:54|    7312471|      0|2016-10-11 14:17:00|\n| 794|https://api.githu...|    5296|           opencover|A code coverage t...|      C#|2016-08-07 14:34:49|    7312471|      0|2019-02-13 05:02:59|\n| 863|https://api.githu...|    5733|             SignalR|Async library for...|      C#|2012-07-25 16:51:14|        862|      1|1970-01-01 01:00:01|\n| 925|https://api.githu...|    6005|EndlessSpace-Gala...|A modification to...|      C#|2012-08-02 15:24:54|        922|      0|2016-10-11 14:17:54|\n| 952|https://api.githu...|    6152|             NETDeob|                  \\N|      C#|2012-08-02 15:25:56|        949|      0|2016-10-11 14:18:03|\n| 997|https://api.githu...|    6322|      mongodb-csharp|A driver written ...|      C#|2012-08-02 15:26:50|        986|      0|2016-10-11 14:19:17|\n|1218|https://api.githu...|    7120|            mldeploy|This is a db depl...|      C#|2012-08-02 15:32:56|       1217|      0|2016-10-11 14:19:27|\n|1570|https://api.githu...|    8743|        NDllInjector|                null|      C#|2012-08-01 16:03:25|    2088641|      1|1970-01-01 01:00:01|\n|1782|https://api.githu...|    9469|         NServiceBus|The most popular,...|      C#|2012-08-02 15:58:00|    4895742|      0|2016-10-11 14:22:08|\n|1804|https://api.githu...|    9539|         NServiceBus|The most popular,...|      C#|2013-04-11 19:10:09|    4895742|      0|2016-10-11 14:22:19|\n|1806|https://api.githu...|    9544|         NServiceBus|The most popular ...|      C#|2013-07-15 13:52:14|    4895742|      0|2016-03-02 12:14:28|\n|2277|https://api.githu...|   11045|        git-dot-aspx|Implementation of...|      C#|2012-08-02 16:17:23|       2276|      0|2016-10-11 14:32:52|\n|2300|https://api.githu...|   11093|           plugManag|                null|      C#|2012-08-02 14:24:28|       2296|      1|1970-01-01 01:00:01|\n|2553|https://api.githu...|   12057|red-dev-shared-me...|Wrapper around En...|      C#|2012-08-02 14:35:36|       2550|      1|2015-10-30 17:00:43|\n|2780|https://api.githu...|   13399|       vixen-modules|Modules and other...|      C#|2012-08-02 16:48:06|       2764|      0|2016-10-11 14:40:01|\n|2904|https://api.githu...|   13692|     wp-thememanager|Windows Phone The...|      C#|2012-08-21 10:29:00|       2891|      0|2016-10-11 14:40:09|\n|2954|https://api.githu...|   13810|            vvvv-sdk|                null|      C#|2011-10-20 20:35:28|       2947|      0|2016-10-11 14:40:38|\n|3055|https://api.githu...|    4682|       WebAPIContrib|Community Contrib...|      C#|2012-03-06 19:17:54|       4833|      0|2016-10-11 14:40:55|\n+----+--------------------+--------+--------------------+--------------------+--------+-------------------+-----------+-------+-------------------+\nonly showing top 20 rows"
          },
          "execution_count": 5,
          "metadata": {}
        }
      ],
      "metadata": {
        "cell_status": {
          "execute_time": {
            "duration": 33432.97900390625,
            "end_time": 1571951897519.239
          }
        },
        "collapsed": false
      },
      "source": [
        "DataFrame projects = spark\n",
        "            .Read()\n",
        "            .Option(\"header\", \"true\")\n",
        "            .Schema(\"id INT, url STRING, owner_id INT, name STRING, \" +\n",
        "                    \"descriptor STRING, language STRING, created_at STRING, \" +\n",
        "                    \"forked_from INT, deleted STRING, updated_at STRING\")\n",
        "            .Csv(\"<path_to_ghtorrent/projects.csv>\")\n",
        "            .Filter(Col(\"language\") == \"C#\");\n",
        "\n",
        "projects.Show()"
      ]
    },
    {
      "cell_type": "markdown",
      "metadata": {},
      "source": [
        "## <font color=purple>Prettier Charting</font> 📃\n",
        "\n",
        "That projects DataFrame is pretty intense and not all that easy to read - let's make it much more interesting!\n",
        "\n",
        "### We can define a specific formatter that is tied to each DataFrame. \n",
        "\n",
        "The next time we display a DataFrame, we'll generate some prettier HTML.\n",
        "We can make our data match our preferred purple .NET color scheme!"
      ]
    },
    {
      "cell_type": "code",
      "execution_count": 6,
      "outputs": [],
      "metadata": {
        "cell_status": {
          "execute_time": {
            "duration": 113862.455078125,
            "end_time": 1571952265574.097
          }
        },
        "collapsed": true
      },
      "source": [
        "Microsoft.DotNet.Interactive.Rendering.Formatter<Microsoft.Spark.Sql.DataFrame>.Register((df, writer) =>\n",
        "{\n",
        "    var headers = new List<dynamic>();\n",
        "    var columnNames = df.Columns();\n",
        "    headers.Add(th(i(\"index\")));\n",
        "    headers.AddRange(columnNames.Select(c => th(c)));\n",
        "\n",
        "    var rows = new List<List<dynamic>>();\n",
        "    var currentRow = 0;\n",
        "    var dfRows = df.Take(20);\n",
        "    foreach (Row dfRow in dfRows)\n",
        "    {\n",
        "        var cells = new List<dynamic>();\n",
        "        cells.Add(td(currentRow));\n",
        "\n",
        "        foreach (string columnName in columnNames)\n",
        "        {\n",
        "            cells.Add(td(dfRow.Get(columnName)));\n",
        "        }\n",
        "\n",
        "        rows.Add(cells);\n",
        "        ++currentRow;\n",
        "    }\n",
        "\n",
        "    var t = table[@border: \"0.1\"](\n",
        "        thead[@style: \"background-color: purple; color: white; font-family: Verdana\"](headers),\n",
        "        tbody[@style: \"color: indigo; font-size: 14px\"](rows.Select(r => tr(r))));\n",
        "\n",
        "    writer.Write(t);\n",
        "}, \"text/html\");"
      ]
    },
    {
      "cell_type": "markdown",
      "metadata": {},
      "source": [
        "### Let's display a prettier version of our projects DataFrame.\n",
        "We can display a more concise subset of the data and use our beautiful new HTML rendering."
      ]
    },
    {
      "cell_type": "code",
      "execution_count": 7,
      "outputs": [
        {
          "output_type": "execute_result",
          "data": {
            "text/html": "<table border=\"0.1\"><thead style=\"background-color: purple; color: white; font-family: Verdana\"><th><i>index</i></th><th>name</th><th>descriptor</th><th>language</th><th>forked_from</th><th>deleted</th></thead><tbody style=\"color: indigo; font-size: 14px\"><tr><td>0</td><td>mono</td><td>Mono open source ECMA CLI, C# and .NET implementation.</td><td>C#</td><td>581</td><td>1</td></tr><tr><td>1</td><td>opencover</td><td>A code coverage tool for .NET 2 and above, support for 32 and 64 processes with both branch and sequence points; roots proudly based in PartCover</td><td>C#</td><td>7312471</td><td>0</td></tr><tr><td>2</td><td>opencover</td><td>A code coverage tool for .NET 2 and above, support for 32 and 64 processes with both branch and sequence points; roots proudly based in PartCover</td><td>C#</td><td>7312471</td><td>0</td></tr><tr><td>3</td><td>opencover</td><td>A code coverage tool for .NET 2 and above (WINDOWS OS only), support for 32 and 64 processes with both branch and sequence points</td><td>C#</td><td>7312471</td><td>0</td></tr><tr><td>4</td><td>SignalR</td><td>Async library for .NET to help build real-time, multi-user interactive web applications.</td><td>C#</td><td>862</td><td>1</td></tr><tr><td>5</td><td>EndlessSpace-GalaxyBalancing</td><td>A modification to the galaxy generation so that a balanced galaxy can be generated.</td><td>C#</td><td>922</td><td>0</td></tr><tr><td>6</td><td>NETDeob</td><td>\\N</td><td>C#</td><td>949</td><td>0</td></tr><tr><td>7</td><td>mongodb-csharp</td><td>A driver written in c# to connect to the MongoDB document oriented database.</td><td>C#</td><td>986</td><td>0</td></tr><tr><td>8</td><td>mldeploy</td><td>This is a db deploy clone for the Marklogic xml database written written in C#</td><td>C#</td><td>1217</td><td>0</td></tr><tr><td>9</td><td>NDllInjector</td><td>&lt;null&gt;</td><td>C#</td><td>2088641</td><td>1</td></tr><tr><td>10</td><td>NServiceBus</td><td>The most popular, open-source service bus for .NET</td><td>C#</td><td>4895742</td><td>0</td></tr><tr><td>11</td><td>NServiceBus</td><td>The most popular, open-source service bus for .NET</td><td>C#</td><td>4895742</td><td>0</td></tr><tr><td>12</td><td>NServiceBus</td><td>The most popular service bus for .NET</td><td>C#</td><td>4895742</td><td>0</td></tr><tr><td>13</td><td>git-dot-aspx</td><td>Implementation of git-http-backend for IIS7/ASP.NET</td><td>C#</td><td>2276</td><td>0</td></tr><tr><td>14</td><td>plugManag</td><td>&lt;null&gt;</td><td>C#</td><td>2296</td><td>1</td></tr><tr><td>15</td><td>red-dev-shared-memcached</td><td>Wrapper around Enyim.Caching.Memcached to implements TryGetOrAdd style caching for multiple producers.</td><td>C#</td><td>2550</td><td>1</td></tr><tr><td>16</td><td>vixen-modules</td><td>Modules and other code for the Vixen 3 lighting controller project.</td><td>C#</td><td>2764</td><td>0</td></tr><tr><td>17</td><td>wp-thememanager</td><td>Windows Phone ThemeManager allows for easy overriding of the Dark or Light themes</td><td>C#</td><td>2891</td><td>0</td></tr><tr><td>18</td><td>vvvv-sdk</td><td>&lt;null&gt;</td><td>C#</td><td>2947</td><td>0</td></tr><tr><td>19</td><td>WebAPIContrib</td><td>Community Contributions for ASP.NET Web API</td><td>C#</td><td>4833</td><td>0</td></tr></tbody></table>"
          },
          "execution_count": 7,
          "metadata": {}
        }
      ],
      "metadata": {
        "cell_status": {
          "execute_time": {
            "duration": 1447053.8640136719,
            "end_time": 1571953728386.694
          }
        },
        "collapsed": false
      },
      "source": [
        "DataFrame projects_cleaned = projects.Drop(\"id\", \"url\", \"owner_id\", \"created_at\", \"updated_at\");\n",
        "projects_cleaned"
      ]
    },
    {
      "cell_type": "markdown",
      "metadata": {},
      "source": [
        "## <font color=purple>More Advanced Queries</font> 💡\n",
        "We can read in our data and display it in interesting ways. Now, let's start gaining some more advanced insights into our data."
      ]
    },
    {
      "cell_type": "markdown",
      "metadata": {},
      "source": [
        "### We can use functional programming to find the top C# projects by stars."
      ]
    },
    {
      "cell_type": "code",
      "execution_count": 8,
      "outputs": [
        {
          "output_type": "execute_result",
          "data": {
            "text/html": "<table border=\"0.1\"><thead style=\"background-color: purple; color: white; font-family: Verdana\"><th><i>index</i></th><th>name</th><th>stars</th></thead><tbody style=\"color: indigo; font-size: 14px\"><tr><td>0</td><td>shadowsocks-windows</td><td>38807</td></tr><tr><td>1</td><td>CodeHub</td><td>23765</td></tr><tr><td>2</td><td>corefx</td><td>18316</td></tr><tr><td>3</td><td>PowerShell</td><td>14740</td></tr><tr><td>4</td><td>Wox</td><td>14080</td></tr><tr><td>5</td><td>roslyn</td><td>12705</td></tr><tr><td>6</td><td>coreclr</td><td>12675</td></tr><tr><td>7</td><td>WaveFunctionCollapse</td><td>12215</td></tr><tr><td>8</td><td>SignalR</td><td>11105</td></tr><tr><td>9</td><td>ShareX</td><td>10834</td></tr><tr><td>10</td><td>Blazor</td><td>10484</td></tr><tr><td>11</td><td>eShopOnContainers</td><td>10462</td></tr><tr><td>12</td><td>dnSpy</td><td>9993</td></tr><tr><td>13</td><td>shadowsocksr-csharp</td><td>9540</td></tr><tr><td>14</td><td>mono</td><td>9038</td></tr><tr><td>15</td><td>Google-Play-Music-Desktop-Player-UNOFFICIAL-</td><td>8274</td></tr><tr><td>16</td><td>ILSpy</td><td>7941</td></tr><tr><td>17</td><td>react-native-windows</td><td>7615</td></tr><tr><td>18</td><td>Nancy</td><td>7427</td></tr><tr><td>19</td><td>aspnetboilerplate</td><td>7110</td></tr></tbody></table>"
          },
          "execution_count": 8,
          "metadata": {}
        }
      ],
      "metadata": {
        "cell_status": {
          "execute_time": {
            "duration": 105830.37109375,
            "end_time": 1571933259558.169
          }
        },
        "collapsed": false
      },
      "source": [
        "DataFrame stars = projects\n",
        "        .Join(watchers, Col(\"id\") == watchers[\"repo_id\"])\n",
        "        .GroupBy(\"name\")\n",
        "        .Agg(Count(\"*\").Alias(\"stars\"))\n",
        "        .OrderBy(Desc(\"stars\"));\n",
        "stars"
      ]
    },
    {
      "cell_type": "markdown",
      "metadata": {},
      "source": [
        "### Let's analyze developer commit patterns over a week. 📆\n",
        "#### For top-starred projects - do people work more over weekdays or weekends?\n",
        "Label the projects data and apply further functions to start seeing patterns in our data. \n",
        "\n",
        "We'll end up sorting projects in order of most to least stars and finding out when people are committing to them. Day 1 = Sunday and Day 7 = Saturday."
      ]
    },
    {
      "cell_type": "code",
      "execution_count": 9,
      "outputs": [
        {
          "output_type": "execute_result",
          "data": {
            "text/html": "<table border=\"0.1\"><thead style=\"background-color: purple; color: white; font-family: Verdana\"><th><i>index</i></th><th>project_name</th><th>commit_day</th><th>commits</th><th>stars</th></thead><tbody style=\"color: indigo; font-size: 14px\"><tr><td>0</td><td>CodeHub</td><td>1</td><td>245</td><td>23765</td></tr><tr><td>1</td><td>CodeHub</td><td>2</td><td>147</td><td>23765</td></tr><tr><td>2</td><td>CodeHub</td><td>3</td><td>143</td><td>23765</td></tr><tr><td>3</td><td>CodeHub</td><td>4</td><td>166</td><td>23765</td></tr><tr><td>4</td><td>CodeHub</td><td>5</td><td>94</td><td>23765</td></tr><tr><td>5</td><td>CodeHub</td><td>6</td><td>165</td><td>23765</td></tr><tr><td>6</td><td>CodeHub</td><td>7</td><td>316</td><td>23765</td></tr><tr><td>7</td><td>PowerShell</td><td>1</td><td>810</td><td>14740</td></tr><tr><td>8</td><td>PowerShell</td><td>2</td><td>1975</td><td>14740</td></tr><tr><td>9</td><td>PowerShell</td><td>3</td><td>2561</td><td>14740</td></tr><tr><td>10</td><td>PowerShell</td><td>4</td><td>2541</td><td>14740</td></tr><tr><td>11</td><td>PowerShell</td><td>5</td><td>2624</td><td>14740</td></tr><tr><td>12</td><td>PowerShell</td><td>6</td><td>2421</td><td>14740</td></tr><tr><td>13</td><td>PowerShell</td><td>7</td><td>909</td><td>14740</td></tr><tr><td>14</td><td>ShareX</td><td>1</td><td>932</td><td>10834</td></tr><tr><td>15</td><td>ShareX</td><td>2</td><td>1619</td><td>10834</td></tr><tr><td>16</td><td>ShareX</td><td>3</td><td>1351</td><td>10834</td></tr><tr><td>17</td><td>ShareX</td><td>4</td><td>1347</td><td>10834</td></tr><tr><td>18</td><td>ShareX</td><td>5</td><td>2740</td><td>10834</td></tr><tr><td>19</td><td>ShareX</td><td>6</td><td>1070</td><td>10834</td></tr></tbody></table>"
          },
          "execution_count": 9,
          "metadata": {}
        }
      ],
      "metadata": {
        "cell_status": {
          "execute_time": {
            "duration": 1435434.9079589844,
            "end_time": 1571934734486.015
          }
        },
        "collapsed": false
      },
      "source": [
        "DataFrame projects_aliased = projects\n",
        "        .As(\"projects_aliased\")\n",
        "        .Select(Col(\"id\").As(\"p_id\"),\n",
        "                Col(\"name\").As(\"p_name\"),\n",
        "                Col(\"language\"),\n",
        "                Col(\"created_at\").As(\"p_created_at\"));\n",
        "\n",
        "DataFrame patterns = commits\n",
        "        .Join(projects_aliased, commits[\"project_id\"] == projects_aliased[\"p_id\"])\n",
        "        .Join(stars.Limit(10), Col(\"name\") == projects_aliased[\"p_name\"])\n",
        "        .Select(DayOfWeek(Col(\"created_at\")).Alias(\"commit_day\"),\n",
        "                Col(\"id\").As(\"commit_id\"),\n",
        "                Col(\"p_name\").Alias(\"project_name\"),\n",
        "                Col(\"stars\"))\n",
        "        .GroupBy(Col(\"project_name\"), Col(\"commit_day\"), Col(\"stars\"))\n",
        "        .Agg(Count(Col(\"commit_id\")).Alias(\"commits\"))\n",
        "        .OrderBy(Asc(\"project_name\"), Asc(\"commit_day\"))\n",
        "        .Select(Col(\"project_name\"),\n",
        "                Col(\"commit_day\"),\n",
        "                Col(\"commits\"),\n",
        "                Col(\"stars\"));\n",
        "\n",
        "patterns"
      ]
    },
    {
      "cell_type": "markdown",
      "metadata": {},
      "source": [
        "### Instead of finding total number of commits each day of the week, let's find what % of commits happen on which days."
      ]
    },
    {
      "cell_type": "code",
      "execution_count": 10,
      "outputs": [
        {
          "output_type": "execute_result",
          "data": {
            "text/html": "<table border=\"0.1\"><thead style=\"background-color: purple; color: white; font-family: Verdana\"><th><i>index</i></th><th>project_name</th><th>commit_day</th><th>commits</th><th>stars</th></thead><tbody style=\"color: indigo; font-size: 14px\"><tr><td>0</td><td>Wox</td><td>2</td><td>15.06</td><td>14080</td></tr><tr><td>1</td><td>Wox</td><td>5</td><td>14.37</td><td>14080</td></tr><tr><td>2</td><td>Wox</td><td>1</td><td>16.72</td><td>14080</td></tr><tr><td>3</td><td>Wox</td><td>3</td><td>12.67</td><td>14080</td></tr><tr><td>4</td><td>Wox</td><td>7</td><td>15.35</td><td>14080</td></tr><tr><td>5</td><td>Wox</td><td>4</td><td>12.52</td><td>14080</td></tr><tr><td>6</td><td>Wox</td><td>6</td><td>13.32</td><td>14080</td></tr><tr><td>7</td><td>ShareX</td><td>7</td><td>11.09</td><td>10834</td></tr><tr><td>8</td><td>ShareX</td><td>2</td><td>15.89</td><td>10834</td></tr><tr><td>9</td><td>ShareX</td><td>3</td><td>13.26</td><td>10834</td></tr><tr><td>10</td><td>ShareX</td><td>6</td><td>10.5</td><td>10834</td></tr><tr><td>11</td><td>ShareX</td><td>1</td><td>9.15</td><td>10834</td></tr><tr><td>12</td><td>ShareX</td><td>4</td><td>13.22</td><td>10834</td></tr><tr><td>13</td><td>ShareX</td><td>5</td><td>26.89</td><td>10834</td></tr><tr><td>14</td><td>CodeHub</td><td>1</td><td>19.2</td><td>23765</td></tr><tr><td>15</td><td>CodeHub</td><td>7</td><td>24.76</td><td>23765</td></tr><tr><td>16</td><td>CodeHub</td><td>2</td><td>11.52</td><td>23765</td></tr><tr><td>17</td><td>CodeHub</td><td>4</td><td>13.01</td><td>23765</td></tr><tr><td>18</td><td>CodeHub</td><td>6</td><td>12.93</td><td>23765</td></tr><tr><td>19</td><td>CodeHub</td><td>3</td><td>11.21</td><td>23765</td></tr></tbody></table>"
          },
          "execution_count": 10,
          "metadata": {}
        }
      ],
      "metadata": {
        "cell_status": {
          "execute_time": {
            "duration": 2321.9609375,
            "end_time": 1571942485227.543
          }
        },
        "collapsed": false
      },
      "source": [
        "DataFrame patterns_cache = patterns.Cache();\n",
        "\n",
        "DataFrame q = patterns_cache.GroupBy(\"project_name\").Agg(Sum(\"commits\").Alias(\"total\"));\n",
        "\n",
        "DataFrame result = patterns_cache\n",
        "    .Join(q, patterns_cache[\"project_name\"] == q[\"project_name\"])\n",
        "    .Select(patterns_cache[\"project_name\"], Col(\"commit_day\"), Round((Col(\"commits\")*100/q[\"total\"]),2)\n",
        "            .As(\"commits\"), Col(\"stars\"));\n",
        "\n",
        "result"
      ]
    },
    {
      "cell_type": "markdown",
      "metadata": {},
      "source": [
        "## <font color=purple>Prettier Plotting</font> 📊\n",
        "Finally, now that we have some really interesting insights into our data, let's visualize it!"
      ]
    },
    {
      "cell_type": "markdown",
      "metadata": {},
      "source": [
        "### Let's create a bar graph to visualize our commit patterns."
      ]
    },
    {
      "cell_type": "code",
      "execution_count": 11,
      "outputs": [
        {
          "output_type": "execute_result",
          "data": {
            "text/html": "<div id=\"6a6488a7-55b9-47ee-9abb-04761e96c29e\" style=\"width: 900px; height: 500px;\"></div><script type=\"text/javascript\">\n\r\nvar renderPlotly = function() {\r\n    var xplotRequire = requirejs.config({context:'xplot-2.0.0',paths:{plotly:'https://cdn.plot.ly/plotly-1.49.2.min'}});\r\n    xplotRequire(['plotly'], function(Plotly) {\n\n            var data = [{\"type\":\"bar\",\"x\":[\"CodeHub\",\"PowerShell\",\"ShareX\"],\"y\":[19.2,5.85,9.15],\"name\":\"Sun\"},{\"type\":\"bar\",\"x\":[\"CodeHub\",\"PowerShell\",\"ShareX\"],\"y\":[11.52,14.27,15.89],\"name\":\"Mon\"},{\"type\":\"bar\",\"x\":[\"CodeHub\",\"PowerShell\",\"ShareX\"],\"y\":[11.21,18.5,13.26],\"name\":\"Tue\"},{\"type\":\"bar\",\"x\":[\"CodeHub\",\"PowerShell\",\"ShareX\"],\"y\":[13.01,18.36,13.22],\"name\":\"Wed\"},{\"type\":\"bar\",\"x\":[\"CodeHub\",\"PowerShell\",\"ShareX\"],\"y\":[7.37,18.96,26.89],\"name\":\"Th\"},{\"type\":\"bar\",\"x\":[\"CodeHub\",\"PowerShell\",\"ShareX\"],\"y\":[12.93,17.49,10.5],\"name\":\"Fri\"},{\"type\":\"bar\",\"x\":[\"CodeHub\",\"PowerShell\",\"ShareX\"],\"y\":[24.76,6.57,11.09],\"name\":\"Sat\"}];\n            var layout = {\"title\":\"Developer Commit Patterns Over a Week\",\"xaxis\":{\"title\":\"Project\",\"_isSubplotObj\":true},\"yaxis\":{\"title\":\"% of Weekly Commits\",\"_isSubplotObj\":true},\"barmode\":\"stack\"};\n            Plotly.newPlot('6a6488a7-55b9-47ee-9abb-04761e96c29e', data, layout);\n        });\r\n};\r\nif ((typeof(requirejs) !==  typeof(Function)) || (typeof(requirejs.config) !== typeof(Function))) { \r\n    var script = document.createElement(\"script\"); \r\n    script.setAttribute(\"src\", \"https://cdnjs.cloudflare.com/ajax/libs/require.js/2.3.6/require.min.js\"); \r\n    script.onload = function(){\r\n        renderPlotly();\r\n    };\r\n    document.getElementsByTagName(\"head\")[0].appendChild(script); \r\n}\r\nelse {\r\n    renderPlotly();\r\n}\n</script>"
          },
          "execution_count": 11,
          "metadata": {}
        }
      ],
      "metadata": {
        "cell_status": {
          "execute_time": {
            "duration": 1293.1259765625,
            "end_time": 1571942900021.11
          }
        },
        "collapsed": false
      },
      "source": [
        "using XPlot.Plotly;\n",
        "\n",
        "var projects = new List<string>{\"CodeHub\", \"PowerShell\", \"ShareX\"};\n",
        "var commitsSu = new List<double>();\n",
        "var commitsMo = new List<double>();\n",
        "var commitsTu = new List<double>();\n",
        "var commitsWe = new List<double>();\n",
        "var commitsTh = new List<double>();\n",
        "var commitsFr = new List<double>();\n",
        "var commitsSa = new List<double>();\n",
        "\n",
        "foreach(Row row in result.Take(21))\n",
        "{\n",
        "    int day_of_week = (row.GetAs<int>(\"commit_day\"));\n",
        "    double commits;\n",
        "    \n",
        "    switch (day_of_week)\n",
        "    {\n",
        "            case 1:\n",
        "                commits = (row.GetAs<double>(\"commits\"));\n",
        "                commitsSu.Add(commits);\n",
        "                break;\n",
        "            case 2:\n",
        "                commits = (row.GetAs<double>(\"commits\"));\n",
        "                commitsMo.Add(commits);\n",
        "                break;\n",
        "            case 3:\n",
        "                commits = (row.GetAs<double>(\"commits\"));\n",
        "                commitsTu.Add(commits);\n",
        "                break;\n",
        "            case 4:\n",
        "                commits = (row.GetAs<double>(\"commits\"));\n",
        "                commitsWe.Add(commits);\n",
        "                break;\n",
        "            case 5:\n",
        "                commits = (row.GetAs<double>(\"commits\"));\n",
        "                commitsTh.Add(commits);\n",
        "                break;\n",
        "            case 6:\n",
        "                commits = (row.GetAs<double>(\"commits\"));\n",
        "                commitsFr.Add(commits);\n",
        "                break;\n",
        "            default:\n",
        "                commits = (row.GetAs<double>(\"commits\"));\n",
        "                commitsSa.Add(commits);\n",
        "                break;\n",
        "      }\n",
        "}\n",
        "var sunday = new Graph.Bar\n",
        "{\n",
        "    name = \"Sun\",\n",
        "    x = projects,\n",
        "    y = commitsSu\n",
        "};\n",
        "var monday = new Graph.Bar\n",
        "{\n",
        "    name = \"Mon\",\n",
        "    x = projects,\n",
        "    y = commitsMo\n",
        "};\n",
        "var tuesday = new Graph.Bar\n",
        "{\n",
        "    name = \"Tue\",\n",
        "    x = projects,\n",
        "    y = commitsTu\n",
        "};\n",
        "var wednesday = new Graph.Bar\n",
        "{\n",
        "    name = \"Wed\",\n",
        "    x = projects,\n",
        "    y = commitsWe\n",
        "};\n",
        "var thursday = new Graph.Bar\n",
        "{\n",
        "    name = \"Th\",\n",
        "    x = projects,\n",
        "    y = commitsTh\n",
        "};\n",
        "var friday = new Graph.Bar\n",
        "{\n",
        "    name = \"Fri\",\n",
        "    x = projects,\n",
        "    y = commitsFr\n",
        "};\n",
        "var saturday = new Graph.Bar\n",
        "{\n",
        "    name = \"Sat\",\n",
        "    x = projects,\n",
        "    y = commitsSa\n",
        "};\n",
        "\n",
        "var chart = Chart.Plot(new [] {sunday, monday, tuesday, wednesday, thursday, friday, saturday});\n",
        "chart.WithLayout(new Layout.Layout{barmode = \"stack\"});\n",
        "chart.WithTitle(\"Developer Commit Patterns Over a Week\");\n",
        "chart.WithXTitle(\"Project\");\n",
        "chart.WithYTitle(\"% of Weekly Commits\");\n",
        "display(chart);"
      ]
    },
    {
      "cell_type": "markdown",
      "metadata": {},
      "source": [
        "## Bringing big data to .NET developers in the languages they love!"
      ]
    }
  ]
}
