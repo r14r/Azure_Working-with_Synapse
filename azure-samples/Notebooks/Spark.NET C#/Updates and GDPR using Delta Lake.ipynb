{
  "metadata": {
    "saveOutput": true,
    "language_info": {
      "name": "csharp"
    }
  },
  "nbformat": 4,
  "nbformat_minor": 2,
  "cells": [
    {
      "cell_type": "markdown",
      "metadata": {},
      "source": [
        "#  Updates and GDPR using Delta Lake - .NET for Apache Spark\n",
        "\n",
        "In this notebook, we will review Delta Lake's end-to-end capabilities using [.NET for Apache Spark](https://github.com/dotnet/spark) (C#). You can also look at the original Quick Start guide if you are not familiar with [Delta Lake](https://github.com/delta-io/delta) [here](https://docs.delta.io/latest/quick-start.html). It provides code snippets that show how to read from and write to Delta Lake tables from interactive, batch, and streaming queries.\n",
        "\n",
        "In this notebook, we will cover the following:\n",
        "\n",
        "- Creating sample mock data containing customer orders\n",
        "- Writing this data into storage in Delta Lake table format (or in short, Delta table)\n",
        "- Querying the Delta table using functional and SQL\n",
        "- The Curious Case of Forgotten Discount - Making corrections to data\n",
        "- Enforcing GDPR on your data\n",
        "- Oops, enforced it on the wrong customer! - Looking at the audit log to find mistakes in operations\n",
        "- Rollback all the way!\n",
        "- Closing the loop - 'defrag' your data"
      ],
      "attachments": {}
    },
    {
      "cell_type": "markdown",
      "metadata": {},
      "source": [
        "# Creating sample mock data containing customer orders\n",
        "\n",
        "For this tutorial, we will setup a sample file containing customer orders with a simple schema: (order_id, order_date, customer_name, price)."
      ],
      "attachments": {}
    },
    {
      "cell_type": "code",
      "execution_count": 3,
      "outputs": [
        {
          "output_type": "execute_result",
          "data": {
            "text/plain": "+--------+----------+-------------+-----+\n|order_id|order_date|customer_name|price|\n+--------+----------+-------------+-----+\n|       1|2019-11-01|       Saveen|  100|\n|       2|2019-11-01|        Terry|   50|\n|       3|2019-11-01|     Priyanka|  100|\n|       4|2019-11-02|        Steve|   10|\n|       5|2019-11-03|        Rahul|   10|\n|       6|2019-11-03|     Niharika|   75|\n|       7|2019-11-03|         Elva|   90|\n|       8|2019-11-04|       Andrew|   70|\n|       9|2019-11-05|      Michael|   20|\n|      10|2019-11-05|       Brigit|   25|\n+--------+----------+-------------+-----+\n\nroot\n |-- order_id: integer (nullable = false)\n |-- order_date: string (nullable = false)\n |-- customer_name: string (nullable = false)\n |-- price: integer (nullable = false)"
          },
          "execution_count": 3,
          "metadata": {}
        }
      ],
      "metadata": {},
      "source": [
        "spark.Sql(\"DROP TABLE IF EXISTS input\");\n",
        "spark.Sql(@\"\n",
        "          CREATE TEMPORARY VIEW input \n",
        "          AS SELECT 1 order_id, '2019-11-01' order_date, 'Saveen' customer_name, 100 price\n",
        "          UNION ALL SELECT 2, '2019-11-01', 'Terry', 50\n",
        "          UNION ALL SELECT 3, '2019-11-01', 'Priyanka', 100\n",
        "          UNION ALL SELECT 4, '2019-11-02', 'Steve', 10\n",
        "          UNION ALL SELECT 5, '2019-11-03', 'Rahul', 10\n",
        "          UNION ALL SELECT 6, '2019-11-03', 'Niharika', 75\n",
        "          UNION ALL SELECT 7, '2019-11-03', 'Elva', 90\n",
        "          UNION ALL SELECT 8, '2019-11-04', 'Andrew', 70\n",
        "          UNION ALL SELECT 9, '2019-11-05', 'Michael', 20\n",
        "          UNION ALL SELECT 10, '2019-11-05', 'Brigit', 25\n",
        "\");\n",
        "var orders = spark.Sql(\"SELECT * FROM input\");\n",
        "orders.Show();\n",
        "orders.PrintSchema();"
      ],
      "attachments": {}
    },
    {
      "cell_type": "markdown",
      "metadata": {},
      "source": [
        "# Writing this data into storage in Delta Lake table format (or in short, Delta table)\n",
        "\n",
        "To create a Delta Lake table, you can write a DataFrame out in the **delta** format. You can use existing Spark SQL code and change the format from parquet, csv, json, and so on, to delta. These operations create a new Delta Lake table using the schema that was inferred from your DataFrame. \n",
        "\n",
        "If you already have existing data in Parquet format, you can do an \"in-place\" conversion to Delta Lake format. The code would look like following:\n",
        "\n",
        "DeltaTable.ConvertToDelta(spark, $\"parquet.`{path_to_data}`\");\n",
        "\n",
        "//Confirm that the converted data is now in the Delta format\n",
        "DeltaTable.IsDeltaTable(parquetPath)"
      ],
      "attachments": {}
    },
    {
      "cell_type": "code",
      "execution_count": 4,
      "outputs": [
        {
          "output_type": "execute_result",
          "data": {
            "text/plain": "/delta/delta-table-555"
          },
          "execution_count": 4,
          "metadata": {}
        }
      ],
      "metadata": {},
      "source": [
        "var sessionId = (new Random()).Next(1000);\n",
        "var path = $\"/delta/delta-table-{sessionId}\";\n",
        "path"
      ],
      "attachments": {}
    },
    {
      "cell_type": "code",
      "execution_count": 5,
      "outputs": [],
      "metadata": {},
      "source": [
        "// Here's how you'd do this in Parquet: \n",
        "// orders.Repartition(1).Write().Format(\"parquet\").Save(path);\n",
        "\n",
        "orders.Repartition(1).Write().Format(\"delta\").Save(path);"
      ],
      "attachments": {}
    },
    {
      "cell_type": "markdown",
      "metadata": {},
      "source": [
        "# Querying the Delta table using functional and SQL\n",
        ""
      ],
      "attachments": {}
    },
    {
      "cell_type": "code",
      "execution_count": 7,
      "outputs": [
        {
          "output_type": "execute_result",
          "data": {
            "text/plain": "+--------+----------+-------------+-----+\n|order_id|order_date|customer_name|price|\n+--------+----------+-------------+-----+\n|       2|2019-11-01|        Terry|   50|\n|       8|2019-11-04|       Andrew|   70|\n|       3|2019-11-01|     Priyanka|  100|\n|       9|2019-11-05|      Michael|   20|\n|       5|2019-11-03|        Rahul|   10|\n|       1|2019-11-01|       Saveen|  100|\n|       7|2019-11-03|         Elva|   90|\n|       6|2019-11-03|     Niharika|   75|\n|       4|2019-11-02|        Steve|   10|\n|      10|2019-11-05|       Brigit|   25|\n+--------+----------+-------------+-----+"
          },
          "execution_count": 7,
          "metadata": {}
        }
      ],
      "metadata": {},
      "source": [
        "var ordersDataFrame = spark.Read().Format(\"delta\").Load(path);\n",
        "ordersDataFrame.Show();"
      ],
      "attachments": {}
    },
    {
      "cell_type": "code",
      "execution_count": 8,
      "outputs": [
        {
          "output_type": "execute_result",
          "data": {
            "text/plain": "+--------+----------+-------------+-----+\n|order_id|order_date|customer_name|price|\n+--------+----------+-------------+-----+\n|       2|2019-11-01|        Terry|   50|\n|       8|2019-11-04|       Andrew|   70|\n|       3|2019-11-01|     Priyanka|  100|\n|       9|2019-11-05|      Michael|   20|\n|       5|2019-11-03|        Rahul|   10|\n|       1|2019-11-01|       Saveen|  100|\n|       7|2019-11-03|         Elva|   90|\n|       6|2019-11-03|     Niharika|   75|\n|       4|2019-11-02|        Steve|   10|\n|      10|2019-11-05|       Brigit|   25|\n+--------+----------+-------------+-----+"
          },
          "execution_count": 8,
          "metadata": {}
        }
      ],
      "metadata": {},
      "source": [
        "ordersDataFrame.CreateOrReplaceTempView(\"ordersDeltaTable\");\n",
        "spark.Sql(\"SELECT * FROM ordersDeltaTable\").Show()"
      ],
      "attachments": {}
    },
    {
      "cell_type": "markdown",
      "metadata": {},
      "source": [
        "# Understanding Meta-data\n",
        "\n",
        "In Delta Lake, meta-data is no different from data i.e., it is stored next to the data. Therefore, an interesting side-effect here is that you can peek into meta-data using regular Spark APIs. "
      ],
      "attachments": {}
    },
    {
      "cell_type": "code",
      "execution_count": 9,
      "outputs": [
        {
          "output_type": "execute_result",
          "data": {
            "text/plain": "{\"commitInfo\":{\"timestamp\":1573093872531,\"operation\":\"WRITE\",\"operationParameters\":{\"mode\":\"ErrorIfExists\",\"partitionBy\":\"[]\"},\"isBlindAppend\":true}}\n{\"protocol\":{\"minReaderVersion\":1,\"minWriterVersion\":2}}\n{\"metaData\":{\"id\":\"4f975246-53a2-4b42-a085-a3c4ec57fb6b\",\"format\":{\"provider\":\"parquet\",\"options\":{}},\"schemaString\":\"{\\\"type\\\":\\\"struct\\\",\\\"fields\\\":[{\\\"name\\\":\\\"order_id\\\",\\\"type\\\":\\\"integer\\\",\\\"nullable\\\":true,\\\"metadata\\\":{}},{\\\"name\\\":\\\"order_date\\\",\\\"type\\\":\\\"string\\\",\\\"nullable\\\":true,\\\"metadata\\\":{}},{\\\"name\\\":\\\"customer_name\\\",\\\"type\\\":\\\"string\\\",\\\"nullable\\\":true,\\\"metadata\\\":{}},{\\\"name\\\":\\\"price\\\",\\\"type\\\":\\\"integer\\\",\\\"nullable\\\":true,\\\"metadata\\\":{}}]}\",\"partitionColumns\":[],\"configuration\":{},\"createdTime\":1573093865554}}\n{\"add\":{\"path\":\"part-00000-12e6adeb-b1d8-4f69-a05d-acbc48fc0464-c000.snappy.parquet\",\"partitionValues\":{},\"size\":1291,\"modificationTime\":1573093872000,\"dataChange\":true}}"
          },
          "execution_count": 9,
          "metadata": {}
        }
      ],
      "metadata": {},
      "source": [
        "using System.Linq;\n",
        "spark.Read().Text($\"{path}/_delta_log/\").Collect().ToList()\n",
        "    .ForEach(x => \n",
        "            Console.WriteLine(x.GetAs<string>(\"value\")));"
      ],
      "attachments": {}
    },
    {
      "cell_type": "markdown",
      "metadata": {},
      "source": [
        "# The Curious Case of Forgotten Discount - Making corrections to data\n",
        "\n",
        "Now that you are able to look at the orders table, you realize that you forgot to discount the orders that came in on November 1, 2019. Worry not! You can quickly make that correction."
      ],
      "attachments": {}
    },
    {
      "cell_type": "code",
      "execution_count": 10,
      "outputs": [],
      "metadata": {},
      "source": [
        "using Microsoft.Spark.Extensions.Delta;\n",
        "using Microsoft.Spark.Extensions.Delta.Tables;\n",
        "using Microsoft.Spark.Sql;\n",
        "using static Microsoft.Spark.Sql.Functions;\n",
        "\n",
        "var table = DeltaTable.ForPath(path);\n",
        "\n",
        "// Update every transaction that took place on November 1, 2019 and apply a discount of 10%\n",
        "table.Update(\n",
        "  condition: Expr(\"order_date == '2019-11-01'\"),\n",
        "  set: new Dictionary<string, Column>(){{ \"price\", Expr(\"price - price*0.1\") }});"
      ],
      "attachments": {}
    },
    {
      "cell_type": "code",
      "execution_count": 11,
      "outputs": [
        {
          "output_type": "execute_result",
          "data": {
            "text/html": "Microsoft.Spark.Sql.DataFrame"
          },
          "execution_count": 11,
          "metadata": {}
        }
      ],
      "metadata": {},
      "source": [
        "table.ToDF()"
      ],
      "attachments": {}
    },
    {
      "cell_type": "markdown",
      "metadata": {},
      "source": [
        "When you now inspect the meta-data, what you will notice is that the original data is over-written. Well, not in a true sense but appropriate entries are added to Delta's transaction log so it can provide an \"illusion\" that the original data was deleted. We can verify this by re-inspecting the meta-data. You will see several entries indicating reference removal to the original data."
      ],
      "attachments": {}
    },
    {
      "cell_type": "code",
      "execution_count": 12,
      "outputs": [
        {
          "output_type": "execute_result",
          "data": {
            "text/plain": "{\"commitInfo\":{\"timestamp\":1573093872531,\"operation\":\"WRITE\",\"operationParameters\":{\"mode\":\"ErrorIfExists\",\"partitionBy\":\"[]\"},\"isBlindAppend\":true}}\n{\"protocol\":{\"minReaderVersion\":1,\"minWriterVersion\":2}}\n{\"metaData\":{\"id\":\"4f975246-53a2-4b42-a085-a3c4ec57fb6b\",\"format\":{\"provider\":\"parquet\",\"options\":{}},\"schemaString\":\"{\\\"type\\\":\\\"struct\\\",\\\"fields\\\":[{\\\"name\\\":\\\"order_id\\\",\\\"type\\\":\\\"integer\\\",\\\"nullable\\\":true,\\\"metadata\\\":{}},{\\\"name\\\":\\\"order_date\\\",\\\"type\\\":\\\"string\\\",\\\"nullable\\\":true,\\\"metadata\\\":{}},{\\\"name\\\":\\\"customer_name\\\",\\\"type\\\":\\\"string\\\",\\\"nullable\\\":true,\\\"metadata\\\":{}},{\\\"name\\\":\\\"price\\\",\\\"type\\\":\\\"integer\\\",\\\"nullable\\\":true,\\\"metadata\\\":{}}]}\",\"partitionColumns\":[],\"configuration\":{},\"createdTime\":1573093865554}}\n{\"add\":{\"path\":\"part-00000-12e6adeb-b1d8-4f69-a05d-acbc48fc0464-c000.snappy.parquet\",\"partitionValues\":{},\"size\":1291,\"modificationTime\":1573093872000,\"dataChange\":true}}\n{\"commitInfo\":{\"timestamp\":1573093971854,\"operation\":\"UPDATE\",\"operationParameters\":{\"predicate\":\"(order_date#438 = 2019-11-01)\"},\"readVersion\":0,\"isBlindAppend\":false}}\n{\"remove\":{\"path\":\"part-00000-12e6adeb-b1d8-4f69-a05d-acbc48fc0464-c000.snappy.parquet\",\"deletionTimestamp\":1573093967431,\"dataChange\":true}}\n{\"add\":{\"path\":\"part-00000-83c8cfdf-ac1e-4db1-ace4-ff2814e0539e-c000.snappy.parquet\",\"partitionValues\":{},\"size\":1314,\"modificationTime\":1573093971000,\"dataChange\":true}}"
          },
          "execution_count": 12,
          "metadata": {}
        }
      ],
      "metadata": {},
      "source": [
        "spark.Read().Text($\"{path}/_delta_log/\").Collect().ToList()\n",
        "    .ForEach(x => \n",
        "            Console.WriteLine(x.GetAs<string>(\"value\")));"
      ],
      "attachments": {}
    },
    {
      "cell_type": "markdown",
      "metadata": {},
      "source": [
        "# Enforcing GDPR on your data\n",
        "\n",
        "One of your customers wanted their data to be deleted. But wait, you are working with data stored on an immutable file system (e.g., HDFS, ADLS, WASB). How would you delete it? Using Delta Lake's Delete API.\n",
        "\n",
        "Delta Lake provides programmatic APIs to conditionally update, delete, and merge (upsert) data into tables. For more information on these operations, see [Table Deletes, Updates, and Merges](https://docs.delta.io/latest/delta-update.html)."
      ],
      "attachments": {}
    },
    {
      "cell_type": "code",
      "execution_count": 14,
      "outputs": [
        {
          "output_type": "execute_result",
          "data": {
            "text/plain": "+--------+----------+-------------+-----+\n|order_id|order_date|customer_name|price|\n+--------+----------+-------------+-----+\n|       2|2019-11-01|        Terry|   45|\n|       8|2019-11-04|       Andrew|   70|\n|       3|2019-11-01|     Priyanka|   90|\n|       9|2019-11-05|      Michael|   20|\n|       5|2019-11-03|        Rahul|   10|\n|       7|2019-11-03|         Elva|   90|\n|       6|2019-11-03|     Niharika|   75|\n|       4|2019-11-02|        Steve|   10|\n|      10|2019-11-05|       Brigit|   25|\n+--------+----------+-------------+-----+"
          },
          "execution_count": 14,
          "metadata": {}
        }
      ],
      "metadata": {},
      "source": [
        "// Delete the appropriate customer\n",
        "table.Delete(condition: Expr(\"customer_name == 'Saveen'\"));\n",
        "table.ToDF().Show();"
      ],
      "attachments": {}
    },
    {
      "cell_type": "markdown",
      "metadata": {},
      "source": [
        "# Oops, enforced it on the wrong customer! - Looking at the audit/history log to find mistakes in operations\n",
        "\n",
        "Delta's most powerful feature is the ability to allow looking into history i.e., the changes that were made to the underlying Delta Table. The cell below shows how simple it is to inspect the history.\n",
        ""
      ],
      "attachments": {}
    },
    {
      "cell_type": "code",
      "execution_count": 15,
      "outputs": [
        {
          "output_type": "execute_result",
          "data": {
            "text/plain": "+-------+-------------------+---------+-----------------------------------------------+-----------+\n|version|          timestamp|operation|                            operationParameters|readVersion|\n+-------+-------------------+---------+-----------------------------------------------+-----------+\n|      2|2019-11-07 02:33:31|   DELETE|[predicate -> [\"(`customer_name` = 'Saveen')\"]]|          1|\n|      1|2019-11-07 02:32:52|   UPDATE|   [predicate -> (order_date#438 = 2019-11-01)]|          0|\n|      0|2019-11-07 02:31:13|    WRITE|     [mode -> ErrorIfExists, partitionBy -> []]|       null|\n+-------+-------------------+---------+-----------------------------------------------+-----------+"
          },
          "execution_count": 15,
          "metadata": {}
        }
      ],
      "metadata": {},
      "source": [
        "table.History().Drop(\"userId\", \"userName\", \"job\", \"notebook\", \"clusterId\", \"isolationLevel\", \"isBlindAppend\").Show(20, 1000, false);"
      ],
      "attachments": {}
    },
    {
      "cell_type": "markdown",
      "metadata": {},
      "source": [
        "# Rollback all the way using Time Travel!\n",
        "\n",
        "You can query previous snapshots of your Delta Lake table by using a feature called Time Travel. If you want to access the data that you overwrote, you can query a snapshot of the table before you overwrote the first set of data using the versionAsOf option.\n",
        "\n",
        "Once you run the cell below, you should see the first set of data, from before you overwrote it. Time Travel is an extremely powerful feature that takes advantage of the power of the Delta Lake transaction log to access data that is no longer in the table. Removing the version 0 option (or specifying version 1) would let you see the newer data again. For more information, see [Query an older snapshot of a table (time travel)](https://docs.delta.io/latest/delta-batch.html#deltatimetravel)."
      ],
      "attachments": {}
    },
    {
      "cell_type": "code",
      "execution_count": 16,
      "outputs": [],
      "metadata": {},
      "source": [
        "spark.Read().Format(\"delta\").Option(\"versionAsOf\", \"1\").Load(path)\n",
        "    .Write().Mode(\"overwrite\").Format(\"delta\").Save(path);"
      ],
      "attachments": {}
    },
    {
      "cell_type": "code",
      "execution_count": 17,
      "outputs": [
        {
          "output_type": "execute_result",
          "data": {
            "text/plain": "+--------+----------+-------------+-----+\n|order_id|order_date|customer_name|price|\n+--------+----------+-------------+-----+\n|       2|2019-11-01|        Terry|   45|\n|       8|2019-11-04|       Andrew|   70|\n|       3|2019-11-01|     Priyanka|   90|\n|       9|2019-11-05|      Michael|   20|\n|       1|2019-11-01|       Saveen|   90|\n|       7|2019-11-03|         Elva|   90|\n|       6|2019-11-03|     Niharika|   75|\n|       4|2019-11-02|        Steve|   10|\n|      10|2019-11-05|       Brigit|   25|\n+--------+----------+-------------+-----+"
          },
          "execution_count": 17,
          "metadata": {}
        }
      ],
      "metadata": {},
      "source": [
        "// Delete the correct customer - REMOVE\n",
        "table.Delete(condition: Expr(\"customer_name == 'Rahul'\"));\n",
        "table.ToDF().Show();"
      ],
      "attachments": {}
    },
    {
      "cell_type": "code",
      "execution_count": 18,
      "outputs": [
        {
          "output_type": "execute_result",
          "data": {
            "text/plain": "+-------+-------------------+---------+-----------------------------------------------+-----------+\n|version|          timestamp|operation|                            operationParameters|readVersion|\n+-------+-------------------+---------+-----------------------------------------------+-----------+\n|      4|2019-11-07 02:36:33|   DELETE| [predicate -> [\"(`customer_name` = 'Rahul')\"]]|          3|\n|      3|2019-11-07 02:35:52|    WRITE|         [mode -> Overwrite, partitionBy -> []]|          2|\n|      2|2019-11-07 02:33:31|   DELETE|[predicate -> [\"(`customer_name` = 'Saveen')\"]]|          1|\n|      1|2019-11-07 02:32:52|   UPDATE|   [predicate -> (order_date#438 = 2019-11-01)]|          0|\n|      0|2019-11-07 02:31:13|    WRITE|     [mode -> ErrorIfExists, partitionBy -> []]|       null|\n+-------+-------------------+---------+-----------------------------------------------+-----------+"
          },
          "execution_count": 18,
          "metadata": {}
        }
      ],
      "metadata": {},
      "source": [
        "table.History().Drop(\"userId\", \"userName\", \"job\", \"notebook\", \"clusterId\", \"isolationLevel\", \"isBlindAppend\").Show(20, 1000, false);"
      ],
      "attachments": {}
    },
    {
      "cell_type": "markdown",
      "metadata": {},
      "source": [
        "# Closing the loop - 'defrag' your data\n",
        ""
      ],
      "attachments": {}
    },
    {
      "cell_type": "code",
      "execution_count": 19,
      "outputs": [
        {
          "output_type": "execute_result",
          "data": {
            "text/html": "<table border=\"0.1\"><thead style=\"background-color: purple; color: white; font-family: Verdana\"><th><i>index</i></th></thead><tbody style=\"color: indigo; font-size: 14px\"></tbody></table>"
          },
          "execution_count": 19,
          "metadata": {}
        }
      ],
      "metadata": {},
      "source": [
        "spark.Conf().Set(\"spark.databricks.delta.retentionDurationCheck.enabled\", \"false\");\n",
        "table.Vacuum(0.01)\n",
        "\n",
        "// Alternate Syntax: spark.Sql($\"VACUUM delta.`{path}`\").Show();"
      ],
      "attachments": {}
    }
  ]
}