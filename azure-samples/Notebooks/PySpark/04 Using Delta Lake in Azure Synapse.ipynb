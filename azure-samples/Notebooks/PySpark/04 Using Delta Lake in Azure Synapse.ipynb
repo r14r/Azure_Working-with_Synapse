{
  "metadata": {
    "saveOutput": true,
    "language_info": {
      "name": "python"
    }
  },
  "nbformat": 4,
  "nbformat_minor": 2,
  "cells": [
    {
      "cell_type": "markdown",
      "metadata": {},
      "source": [
        "# Using Linux Foundation Delta Lake in Azure Synapse Analytics Spark\n",
        "Azure Synapse is compatible with Linux Foundation Delta Lake. Delta Lake is an open-source storage layer that brings ACID (atomicity, consistency, isolation, and durability) transactions to Apache Spark and big data workloads.\n",
        "\n",
        "This notebook provides examples of how to update, merge and delete delta lake tables in Synapse.\n",
        "\n",
        "## Pre-requisites\n",
        "In this notebook you will save your tables in Delta Lake format to your workspace's primary storage account. You are required to be a **Blob Storage Contributor** in the ADLS Gen2 account (or folder) you will access.\n",
        ""
      ],
      "attachments": {}
    },
    {
      "cell_type": "markdown",
      "metadata": {},
      "source": [
        "## Load sample data\n",
        "\n",
        "First you will load the [public holidays](https://azure.microsoft.com/en-us/services/open-datasets/catalog/public-holidays/) data from last 6 months via Azure Open datasets.\n",
        ""
      ],
      "attachments": {}
    },
    {
      "cell_type": "code",
      "execution_count": 3,
      "outputs": [],
      "metadata": {},
      "source": [
        "from azureml.opendatasets import PublicHolidays\n",
        "\n",
        "from datetime import datetime\n",
        "from dateutil import parser\n",
        "from dateutil.relativedelta import relativedelta\n",
        "\n",
        "\n",
        "end_date = datetime.today()\n",
        "start_date = datetime.today() - relativedelta(months=6)\n",
        "hol = PublicHolidays(start_date=start_date, end_date=end_date)\n",
        "hol_df = hol.to_spark_dataframe()"
      ],
      "attachments": {}
    },
    {
      "cell_type": "code",
      "execution_count": 12,
      "outputs": [
        {
          "output_type": "execute_result",
          "execution_count": 12,
          "data": {
            "application/json": {
              "rows": [
                [
                  "Austria",
                  "Nationalfeiertag",
                  "Nationalfeiertag",
                  "AT",
                  "2019-10-26T00:00:00.000Z"
                ],
                [
                  "Norway",
                  "Søndag",
                  "Søndag",
                  "NO",
                  "2019-10-27T00:00:00.000Z"
                ],
                [
                  "Sweden",
                  "Söndag",
                  "Söndag",
                  "SE",
                  "2019-10-27T00:00:00.000Z"
                ],
                [
                  "Czech",
                  "Den vzniku samostatného československého státu",
                  "Den vzniku samostatného československého státu",
                  "CZ",
                  "2019-10-28T00:00:00.000Z"
                ],
                [
                  "Ireland",
                  "October Bank Holiday",
                  "October Bank Holiday",
                  "IE",
                  "2019-10-28T00:00:00.000Z"
                ],
                [
                  "New Zealand",
                  "Labour Day",
                  "Labour Day",
                  "NZ",
                  "2019-10-28T00:00:00.000Z"
                ],
                [
                  "Slovenia",
                  "dan reformacije",
                  "dan reformacije",
                  "SI",
                  "2019-10-31T00:00:00.000Z"
                ],
                [
                  "Austria",
                  "Allerheiligen",
                  "Allerheiligen",
                  "AT",
                  "2019-11-01T00:00:00.000Z"
                ],
                [
                  "Belgium",
                  "Allerheiligen",
                  "Allerheiligen",
                  "BE",
                  "2019-11-01T00:00:00.000Z"
                ],
                [
                  "Croatia",
                  "Svi sveti",
                  "Svi sveti",
                  "HR",
                  "2019-11-01T00:00:00.000Z"
                ],
                [
                  "France",
                  "Toussaint",
                  "Toussaint",
                  "FR",
                  "2019-11-01T00:00:00.000Z"
                ],
                [
                  "Hungary",
                  "Mindenszentek",
                  "Mindenszentek",
                  "HU",
                  "2019-11-01T00:00:00.000Z"
                ],
                [
                  "Italy",
                  "Tutti i Santi",
                  "Tutti i Santi",
                  "IT",
                  "2019-11-01T00:00:00.000Z"
                ],
                [
                  "Poland",
                  "Uroczystość Wszystkich świętych",
                  "Uroczystość Wszystkich świętych",
                  "PL",
                  "2019-11-01T00:00:00.000Z"
                ],
                [
                  "Portugal",
                  "Dia de Todos os Santos",
                  "Dia de Todos os Santos",
                  "PT",
                  "2019-11-01T00:00:00.000Z"
                ],
                [
                  "Slovenia",
                  "dan spomina na mrtve",
                  "dan spomina na mrtve",
                  "SI",
                  "2019-11-01T00:00:00.000Z"
                ],
                [
                  "Spain",
                  "Todos los Santos",
                  "Todos los Santos",
                  "ES",
                  "2019-11-01T00:00:00.000Z"
                ],
                [
                  "Brazil",
                  "Finados",
                  "Finados",
                  "BR",
                  "2019-11-02T00:00:00.000Z"
                ],
                [
                  "Finland",
                  "Pyhäinpäivä",
                  "Pyhäinpäivä",
                  "FI",
                  "2019-11-02T00:00:00.000Z"
                ],
                [
                  "Sweden",
                  "Alla helgons dag",
                  "Alla helgons dag",
                  "SE",
                  "2019-11-02T00:00:00.000Z"
                ],
                [
                  "Japan",
                  "文化の日",
                  "文化の日",
                  "JP",
                  "2019-11-03T00:00:00.000Z"
                ],
                [
                  "Norway",
                  "Søndag",
                  "Søndag",
                  "NO",
                  "2019-11-03T00:00:00.000Z"
                ],
                [
                  "Sweden",
                  "Söndag",
                  "Söndag",
                  "SE",
                  "2019-11-03T00:00:00.000Z"
                ],
                [
                  "Colombia",
                  "Dia de Todos los Santos [All Saint's Day](Observed)",
                  "Dia de Todos los Santos [All Saint's Day]",
                  "CO",
                  "2019-11-04T00:00:00.000Z"
                ],
                [
                  "Japan",
                  "振替休日",
                  "振替休日",
                  "JP",
                  "2019-11-04T00:00:00.000Z"
                ],
                [
                  "Belarus",
                  "День Октябрьской революции",
                  "День Октябрьской революции",
                  "BY",
                  "2019-11-07T00:00:00.000Z"
                ],
                [
                  "Norway",
                  "Søndag",
                  "Søndag",
                  "NO",
                  "2019-11-10T00:00:00.000Z"
                ],
                [
                  "Sweden",
                  "Söndag",
                  "Söndag",
                  "SE",
                  "2019-11-10T00:00:00.000Z"
                ],
                [
                  "Belgium",
                  "Wapenstilstand",
                  "Wapenstilstand",
                  "BE",
                  "2019-11-11T00:00:00.000Z"
                ],
                [
                  "Colombia",
                  "Independencia de Cartagena [Independence of Cartagena]",
                  "Independencia de Cartagena [Independence of Cartagena]",
                  "CO",
                  "2019-11-11T00:00:00.000Z"
                ],
                [
                  "France",
                  "Armistice 1918",
                  "Armistice 1918",
                  "FR",
                  "2019-11-11T00:00:00.000Z"
                ],
                [
                  "Poland",
                  "Narodowe Święto Niepodległości",
                  "Narodowe Święto Niepodległości",
                  "PL",
                  "2019-11-11T00:00:00.000Z"
                ],
                [
                  "United States",
                  "Veterans Day",
                  "Veterans Day",
                  "US",
                  "2019-11-11T00:00:00.000Z"
                ],
                [
                  "Brazil",
                  "Proclamação da República",
                  "Proclamação da República",
                  "BR",
                  "2019-11-15T00:00:00.000Z"
                ],
                [
                  "Czech",
                  "Den boje za svobodu a demokracii",
                  "Den boje za svobodu a demokracii",
                  "CZ",
                  "2019-11-17T00:00:00.000Z"
                ],
                [
                  "Norway",
                  "Søndag",
                  "Søndag",
                  "NO",
                  "2019-11-17T00:00:00.000Z"
                ],
                [
                  "Sweden",
                  "Söndag",
                  "Söndag",
                  "SE",
                  "2019-11-17T00:00:00.000Z"
                ],
                [
                  "Mexico",
                  "Día de la Revolución [Revolution Day] (Observed)",
                  "Día de la Revolución [Revolution Day]",
                  "MX",
                  "2019-11-18T00:00:00.000Z"
                ],
                [
                  "Argentina",
                  "Día Nacional de la Soberanía [National Sovereignty Day]",
                  "Día Nacional de la Soberanía [National Sovereignty Day]",
                  "AR",
                  "2019-11-20T00:00:00.000Z"
                ],
                [
                  "Mexico",
                  "Día de la Revolución [Revolution Day]",
                  "Día de la Revolución [Revolution Day]",
                  "MX",
                  "2019-11-20T00:00:00.000Z"
                ],
                [
                  "Japan",
                  "勤労感謝の日",
                  "勤労感謝の日",
                  "JP",
                  "2019-11-23T00:00:00.000Z"
                ],
                [
                  "Norway",
                  "Søndag",
                  "Søndag",
                  "NO",
                  "2019-11-24T00:00:00.000Z"
                ],
                [
                  "Sweden",
                  "Söndag",
                  "Söndag",
                  "SE",
                  "2019-11-24T00:00:00.000Z"
                ],
                [
                  "United States",
                  "Thanksgiving",
                  "Thanksgiving",
                  "US",
                  "2019-11-28T00:00:00.000Z"
                ],
                [
                  "Scotland",
                  "St. Andrew's Day",
                  "St. Andrew's Day",
                  null,
                  "2019-11-30T00:00:00.000Z"
                ],
                [
                  "United Kingdom",
                  "St. Andrew's Day [Scotland]",
                  "St. Andrew's Day",
                  "GB",
                  "2019-11-30T00:00:00.000Z"
                ],
                [
                  "Norway",
                  "Søndag",
                  "Søndag",
                  "NO",
                  "2019-12-01T00:00:00.000Z"
                ],
                [
                  "Portugal",
                  "Restauração da Independência",
                  "Restauração da Independência",
                  "PT",
                  "2019-12-01T00:00:00.000Z"
                ],
                [
                  "Sweden",
                  "Söndag",
                  "Söndag",
                  "SE",
                  "2019-12-01T00:00:00.000Z"
                ],
                [
                  "Finland",
                  "Itsenäisyyspäivä",
                  "Itsenäisyyspäivä",
                  "FI",
                  "2019-12-06T00:00:00.000Z"
                ],
                [
                  "Spain",
                  "Día de la constitución Española",
                  "Día de la constitución Española",
                  "ES",
                  "2019-12-06T00:00:00.000Z"
                ],
                [
                  "Argentina",
                  "La Inmaculada Concepción [Immaculate Conception]",
                  "La Inmaculada Concepción [Immaculate Conception]",
                  "AR",
                  "2019-12-08T00:00:00.000Z"
                ],
                [
                  "Austria",
                  "Mariä Empfängnis",
                  "Mariä Empfängnis",
                  "AT",
                  "2019-12-08T00:00:00.000Z"
                ],
                [
                  "Italy",
                  "Immacolata Concezione",
                  "Immacolata Concezione",
                  "IT",
                  "2019-12-08T00:00:00.000Z"
                ],
                [
                  "Norway",
                  "Søndag",
                  "Søndag",
                  "NO",
                  "2019-12-08T00:00:00.000Z"
                ],
                [
                  "Portugal",
                  "Imaculada Conceição",
                  "Imaculada Conceição",
                  "PT",
                  "2019-12-08T00:00:00.000Z"
                ],
                [
                  "Spain",
                  "La Inmaculada Concepción",
                  "La Inmaculada Concepción",
                  "ES",
                  "2019-12-08T00:00:00.000Z"
                ],
                [
                  "Sweden",
                  "Söndag",
                  "Söndag",
                  "SE",
                  "2019-12-08T00:00:00.000Z"
                ],
                [
                  "Norway",
                  "Søndag",
                  "Søndag",
                  "NO",
                  "2019-12-15T00:00:00.000Z"
                ],
                [
                  "Sweden",
                  "Söndag",
                  "Söndag",
                  "SE",
                  "2019-12-15T00:00:00.000Z"
                ],
                [
                  "South Africa",
                  "Day of Reconciliation",
                  "Day of Reconciliation",
                  "ZA",
                  "2019-12-16T00:00:00.000Z"
                ],
                [
                  "Norway",
                  "Søndag",
                  "Søndag",
                  "NO",
                  "2019-12-22T00:00:00.000Z"
                ],
                [
                  "Sweden",
                  "Söndag",
                  "Söndag",
                  "SE",
                  "2019-12-22T00:00:00.000Z"
                ],
                [
                  "Czech",
                  "Štědrý den",
                  "Štědrý den",
                  "CZ",
                  "2019-12-24T00:00:00.000Z"
                ],
                [
                  "Finland",
                  "Jouluaatto",
                  "Jouluaatto",
                  "FI",
                  "2019-12-24T00:00:00.000Z"
                ],
                [
                  "Hungary",
                  "Szenteste",
                  "Szenteste",
                  "HU",
                  "2019-12-24T00:00:00.000Z"
                ],
                [
                  "Sweden",
                  "Julafton",
                  "Julafton",
                  "SE",
                  "2019-12-24T00:00:00.000Z"
                ],
                [
                  "Argentina",
                  "Navidad [Christmas]",
                  "Navidad [Christmas]",
                  "AR",
                  "2019-12-25T00:00:00.000Z"
                ],
                [
                  "Australia",
                  "Christmas Day",
                  "Christmas Day",
                  "AU",
                  "2019-12-25T00:00:00.000Z"
                ],
                [
                  "Austria",
                  "Christtag",
                  "Christtag",
                  "AT",
                  "2019-12-25T00:00:00.000Z"
                ],
                [
                  "Belarus",
                  "Рождество Христово (католическое Рождество)",
                  "Рождество Христово (католическое Рождество)",
                  "BY",
                  "2019-12-25T00:00:00.000Z"
                ],
                [
                  "Belgium",
                  "Kerstmis",
                  "Kerstmis",
                  "BE",
                  "2019-12-25T00:00:00.000Z"
                ],
                [
                  "Brazil",
                  "Natal",
                  "Natal",
                  "BR",
                  "2019-12-25T00:00:00.000Z"
                ],
                [
                  "Canada",
                  "Christmas Day",
                  "Christmas Day",
                  "CA",
                  "2019-12-25T00:00:00.000Z"
                ],
                [
                  "Colombia",
                  "Navidad [Christmas]",
                  "Navidad [Christmas]",
                  "CO",
                  "2019-12-25T00:00:00.000Z"
                ],
                [
                  "Croatia",
                  "Božić",
                  "Božić",
                  "HR",
                  "2019-12-25T00:00:00.000Z"
                ],
                [
                  "Czech",
                  "1. svátek vánoční",
                  "1. svátek vánoční",
                  "CZ",
                  "2019-12-25T00:00:00.000Z"
                ],
                [
                  "Denmark",
                  "Juledag",
                  "Juledag",
                  "DK",
                  "2019-12-25T00:00:00.000Z"
                ],
                [
                  "England",
                  "Christmas Day",
                  "Christmas Day",
                  null,
                  "2019-12-25T00:00:00.000Z"
                ],
                [
                  "Finland",
                  "Joulupäivä",
                  "Joulupäivä",
                  "FI",
                  "2019-12-25T00:00:00.000Z"
                ],
                [
                  "France",
                  "Noël",
                  "Noël",
                  "FR",
                  "2019-12-25T00:00:00.000Z"
                ],
                [
                  "Germany",
                  "Erster Weihnachtstag",
                  "Erster Weihnachtstag",
                  "DE",
                  "2019-12-25T00:00:00.000Z"
                ],
                [
                  "Hungary",
                  "Karácsony",
                  "Karácsony",
                  "HU",
                  "2019-12-25T00:00:00.000Z"
                ],
                [
                  "India",
                  "Christmas",
                  "Christmas",
                  "IN",
                  "2019-12-25T00:00:00.000Z"
                ],
                [
                  "Ireland",
                  "Christmas Day",
                  "Christmas Day",
                  "IE",
                  "2019-12-25T00:00:00.000Z"
                ],
                [
                  "Isle of Man",
                  "Christmas Day",
                  "Christmas Day",
                  "IM",
                  "2019-12-25T00:00:00.000Z"
                ],
                [
                  "Italy",
                  "Natale",
                  "Natale",
                  "IT",
                  "2019-12-25T00:00:00.000Z"
                ],
                [
                  "Mexico",
                  "Navidad [Christmas]",
                  "Navidad [Christmas]",
                  "MX",
                  "2019-12-25T00:00:00.000Z"
                ],
                [
                  "Netherlands",
                  "Eerste Kerstdag",
                  "Eerste Kerstdag",
                  "NL",
                  "2019-12-25T00:00:00.000Z"
                ],
                [
                  "New Zealand",
                  "Christmas Day",
                  "Christmas Day",
                  "NZ",
                  "2019-12-25T00:00:00.000Z"
                ],
                [
                  "Northern Ireland",
                  "Christmas Day",
                  "Christmas Day",
                  null,
                  "2019-12-25T00:00:00.000Z"
                ],
                [
                  "Norway",
                  "Første juledag",
                  "Første juledag",
                  "NO",
                  "2019-12-25T00:00:00.000Z"
                ],
                [
                  "Poland",
                  "Boże Narodzenie (pierwszy dzień)",
                  "Boże Narodzenie (pierwszy dzień)",
                  "PL",
                  "2019-12-25T00:00:00.000Z"
                ],
                [
                  "Portugal",
                  "Dia de Natal",
                  "Dia de Natal",
                  "PT",
                  "2019-12-25T00:00:00.000Z"
                ],
                [
                  "Scotland",
                  "Christmas Day",
                  "Christmas Day",
                  null,
                  "2019-12-25T00:00:00.000Z"
                ],
                [
                  "Slovenia",
                  "Božič",
                  "Božič",
                  "SI",
                  "2019-12-25T00:00:00.000Z"
                ],
                [
                  "South Africa",
                  "Christmas Day",
                  "Christmas Day",
                  "ZA",
                  "2019-12-25T00:00:00.000Z"
                ],
                [
                  "Spain",
                  "Navidad",
                  "Navidad",
                  "ES",
                  "2019-12-25T00:00:00.000Z"
                ],
                [
                  "Sweden",
                  "Juldagen",
                  "Juldagen",
                  "SE",
                  "2019-12-25T00:00:00.000Z"
                ],
                [
                  "Switzerland",
                  "Weihnachten",
                  "Weihnachten",
                  "CH",
                  "2019-12-25T00:00:00.000Z"
                ],
                [
                  "Ukraine",
                  "Різдво Христове (католицьке)",
                  "Різдво Христове (католицьке)",
                  "UA",
                  "2019-12-25T00:00:00.000Z"
                ],
                [
                  "United Kingdom",
                  "Christmas Day",
                  "Christmas Day",
                  "GB",
                  "2019-12-25T00:00:00.000Z"
                ],
                [
                  "United States",
                  "Christmas Day",
                  "Christmas Day",
                  "US",
                  "2019-12-25T00:00:00.000Z"
                ],
                [
                  "Wales",
                  "Christmas Day",
                  "Christmas Day",
                  null,
                  "2019-12-25T00:00:00.000Z"
                ],
                [
                  "Australia",
                  "Boxing Day",
                  "Boxing Day",
                  "AU",
                  "2019-12-26T00:00:00.000Z"
                ],
                [
                  "Austria",
                  "Stefanitag",
                  "Stefanitag",
                  "AT",
                  "2019-12-26T00:00:00.000Z"
                ],
                [
                  "Canada",
                  "Boxing Day",
                  "Boxing Day",
                  "CA",
                  "2019-12-26T00:00:00.000Z"
                ],
                [
                  "Croatia",
                  "Sveti Stjepan",
                  "Sveti Stjepan",
                  "HR",
                  "2019-12-26T00:00:00.000Z"
                ],
                [
                  "Czech",
                  "2. svátek vánoční",
                  "2. svátek vánoční",
                  "CZ",
                  "2019-12-26T00:00:00.000Z"
                ],
                [
                  "Denmark",
                  "Anden juledag",
                  "Anden juledag",
                  "DK",
                  "2019-12-26T00:00:00.000Z"
                ],
                [
                  "England",
                  "Boxing Day",
                  "Boxing Day",
                  null,
                  "2019-12-26T00:00:00.000Z"
                ],
                [
                  "Finland",
                  "Tapaninpäivä",
                  "Tapaninpäivä",
                  "FI",
                  "2019-12-26T00:00:00.000Z"
                ],
                [
                  "Germany",
                  "Zweiter Weihnachtstag",
                  "Zweiter Weihnachtstag",
                  "DE",
                  "2019-12-26T00:00:00.000Z"
                ],
                [
                  "Hungary",
                  "Karácsony másnapja",
                  "Karácsony másnapja",
                  "HU",
                  "2019-12-26T00:00:00.000Z"
                ],
                [
                  "Ireland",
                  "Boxing Day",
                  "Boxing Day",
                  "IE",
                  "2019-12-26T00:00:00.000Z"
                ],
                [
                  "Isle of Man",
                  "Boxing Day",
                  "Boxing Day",
                  "IM",
                  "2019-12-26T00:00:00.000Z"
                ],
                [
                  "Italy",
                  "Santo Stefano",
                  "Santo Stefano",
                  "IT",
                  "2019-12-26T00:00:00.000Z"
                ],
                [
                  "Netherlands",
                  "Tweede Kerstdag",
                  "Tweede Kerstdag",
                  "NL",
                  "2019-12-26T00:00:00.000Z"
                ],
                [
                  "New Zealand",
                  "Boxing Day",
                  "Boxing Day",
                  "NZ",
                  "2019-12-26T00:00:00.000Z"
                ],
                [
                  "Northern Ireland",
                  "Boxing Day",
                  "Boxing Day",
                  null,
                  "2019-12-26T00:00:00.000Z"
                ],
                [
                  "Norway",
                  "Andre juledag",
                  "Andre juledag",
                  "NO",
                  "2019-12-26T00:00:00.000Z"
                ],
                [
                  "Poland",
                  "Boże Narodzenie (drugi dzień)",
                  "Boże Narodzenie (drugi dzień)",
                  "PL",
                  "2019-12-26T00:00:00.000Z"
                ],
                [
                  "Scotland",
                  "Boxing Day",
                  "Boxing Day",
                  null,
                  "2019-12-26T00:00:00.000Z"
                ],
                [
                  "Slovenia",
                  "dan samostojnosti in enotnosti",
                  "dan samostojnosti in enotnosti",
                  "SI",
                  "2019-12-26T00:00:00.000Z"
                ],
                [
                  "South Africa",
                  "Day of Goodwill",
                  "Day of Goodwill",
                  "ZA",
                  "2019-12-26T00:00:00.000Z"
                ],
                [
                  "Sweden",
                  "Annandag jul",
                  "Annandag jul",
                  "SE",
                  "2019-12-26T00:00:00.000Z"
                ],
                [
                  "United Kingdom",
                  "Boxing Day",
                  "Boxing Day",
                  "GB",
                  "2019-12-26T00:00:00.000Z"
                ],
                [
                  "Wales",
                  "Boxing Day",
                  "Boxing Day",
                  null,
                  "2019-12-26T00:00:00.000Z"
                ],
                [
                  "Hungary",
                  "Karácsony másnapja utáni pihenőnap",
                  "Karácsony másnapja utáni pihenőnap",
                  "HU",
                  "2019-12-27T00:00:00.000Z"
                ],
                [
                  "Norway",
                  "Søndag",
                  "Søndag",
                  "NO",
                  "2019-12-29T00:00:00.000Z"
                ],
                [
                  "Sweden",
                  "Söndag",
                  "Söndag",
                  "SE",
                  "2019-12-29T00:00:00.000Z"
                ],
                [
                  "Sweden",
                  "Nyårsafton",
                  "Nyårsafton",
                  "SE",
                  "2019-12-31T00:00:00.000Z"
                ],
                [
                  "Argentina",
                  "Año Nuevo [New Year's Day]",
                  "Año Nuevo [New Year's Day]",
                  "AR",
                  "2020-01-01T00:00:00.000Z"
                ],
                [
                  "Australia",
                  "New Year's Day",
                  "New Year's Day",
                  "AU",
                  "2020-01-01T00:00:00.000Z"
                ],
                [
                  "Austria",
                  "Neujahr",
                  "Neujahr",
                  "AT",
                  "2020-01-01T00:00:00.000Z"
                ],
                [
                  "Belarus",
                  "Новый год",
                  "Новый год",
                  "BY",
                  "2020-01-01T00:00:00.000Z"
                ],
                [
                  "Belgium",
                  "Nieuwjaarsdag",
                  "Nieuwjaarsdag",
                  "BE",
                  "2020-01-01T00:00:00.000Z"
                ],
                [
                  "Brazil",
                  "Ano novo",
                  "Ano novo",
                  "BR",
                  "2020-01-01T00:00:00.000Z"
                ],
                [
                  "Canada",
                  "New Year's Day",
                  "New Year's Day",
                  "CA",
                  "2020-01-01T00:00:00.000Z"
                ],
                [
                  "Colombia",
                  "Año Nuevo [New Year's Day]",
                  "Año Nuevo [New Year's Day]",
                  "CO",
                  "2020-01-01T00:00:00.000Z"
                ],
                [
                  "Croatia",
                  "Nova Godina",
                  "Nova Godina",
                  "HR",
                  "2020-01-01T00:00:00.000Z"
                ],
                [
                  "Czech",
                  "Den obnovy samostatného českého státu",
                  "Den obnovy samostatného českého státu",
                  "CZ",
                  "2020-01-01T00:00:00.000Z"
                ],
                [
                  "Denmark",
                  "Nytårsdag",
                  "Nytårsdag",
                  "DK",
                  "2020-01-01T00:00:00.000Z"
                ],
                [
                  "England",
                  "New Year's Day",
                  "New Year's Day",
                  null,
                  "2020-01-01T00:00:00.000Z"
                ],
                [
                  "Finland",
                  "Uudenvuodenpäivä",
                  "Uudenvuodenpäivä",
                  "FI",
                  "2020-01-01T00:00:00.000Z"
                ],
                [
                  "France",
                  "Jour de l'an",
                  "Jour de l'an",
                  "FR",
                  "2020-01-01T00:00:00.000Z"
                ],
                [
                  "Germany",
                  "Neujahr",
                  "Neujahr",
                  "DE",
                  "2020-01-01T00:00:00.000Z"
                ],
                [
                  "Hungary",
                  "Újév",
                  "Újév",
                  "HU",
                  "2020-01-01T00:00:00.000Z"
                ],
                [
                  "Ireland",
                  "New Year's Day",
                  "New Year's Day",
                  "IE",
                  "2020-01-01T00:00:00.000Z"
                ],
                [
                  "Isle of Man",
                  "New Year's Day",
                  "New Year's Day",
                  "IM",
                  "2020-01-01T00:00:00.000Z"
                ],
                [
                  "Italy",
                  "Capodanno",
                  "Capodanno",
                  "IT",
                  "2020-01-01T00:00:00.000Z"
                ],
                [
                  "Japan",
                  "元日",
                  "元日",
                  "JP",
                  "2020-01-01T00:00:00.000Z"
                ],
                [
                  "Mexico",
                  "Año Nuevo [New Year's Day]",
                  "Año Nuevo [New Year's Day]",
                  "MX",
                  "2020-01-01T00:00:00.000Z"
                ],
                [
                  "Netherlands",
                  "Nieuwjaarsdag",
                  "Nieuwjaarsdag",
                  "NL",
                  "2020-01-01T00:00:00.000Z"
                ],
                [
                  "New Zealand",
                  "New Year's Day",
                  "New Year's Day",
                  "NZ",
                  "2020-01-01T00:00:00.000Z"
                ],
                [
                  "Northern Ireland",
                  "New Year's Day",
                  "New Year's Day",
                  null,
                  "2020-01-01T00:00:00.000Z"
                ],
                [
                  "Norway",
                  "Første nyttårsdag",
                  "Første nyttårsdag",
                  "NO",
                  "2020-01-01T00:00:00.000Z"
                ],
                [
                  "Poland",
                  "Nowy Rok",
                  "Nowy Rok",
                  "PL",
                  "2020-01-01T00:00:00.000Z"
                ],
                [
                  "Portugal",
                  "Ano Novo",
                  "Ano Novo",
                  "PT",
                  "2020-01-01T00:00:00.000Z"
                ],
                [
                  "Scotland",
                  "New Year's Day",
                  "New Year's Day",
                  null,
                  "2020-01-01T00:00:00.000Z"
                ],
                [
                  "Slovenia",
                  "novo leto",
                  "novo leto",
                  "SI",
                  "2020-01-01T00:00:00.000Z"
                ],
                [
                  "South Africa",
                  "New Year's Day",
                  "New Year's Day",
                  "ZA",
                  "2020-01-01T00:00:00.000Z"
                ],
                [
                  "Spain",
                  "Año nuevo",
                  "Año nuevo",
                  "ES",
                  "2020-01-01T00:00:00.000Z"
                ],
                [
                  "Sweden",
                  "Nyårsdagen",
                  "Nyårsdagen",
                  "SE",
                  "2020-01-01T00:00:00.000Z"
                ],
                [
                  "Switzerland",
                  "Neujahrestag",
                  "Neujahrestag",
                  "CH",
                  "2020-01-01T00:00:00.000Z"
                ],
                [
                  "Ukraine",
                  "Новий рік",
                  "Новий рік",
                  "UA",
                  "2020-01-01T00:00:00.000Z"
                ],
                [
                  "United Kingdom",
                  "New Year's Day",
                  "New Year's Day",
                  "GB",
                  "2020-01-01T00:00:00.000Z"
                ],
                [
                  "United States",
                  "New Year's Day",
                  "New Year's Day",
                  "US",
                  "2020-01-01T00:00:00.000Z"
                ],
                [
                  "Wales",
                  "New Year's Day",
                  "New Year's Day",
                  null,
                  "2020-01-01T00:00:00.000Z"
                ],
                [
                  "Belarus",
                  "Новый год",
                  "Новый год",
                  "BY",
                  "2020-01-02T00:00:00.000Z"
                ],
                [
                  "New Zealand",
                  "Day after New Year's Day",
                  "Day after New Year's Day",
                  "NZ",
                  "2020-01-02T00:00:00.000Z"
                ],
                [
                  "Scotland",
                  "New Year Holiday",
                  "New Year Holiday",
                  null,
                  "2020-01-02T00:00:00.000Z"
                ],
                [
                  "Slovenia",
                  "novo leto",
                  "novo leto",
                  "SI",
                  "2020-01-02T00:00:00.000Z"
                ],
                [
                  "United Kingdom",
                  "New Year Holiday [Scotland]",
                  "New Year Holiday",
                  "GB",
                  "2020-01-02T00:00:00.000Z"
                ],
                [
                  "Norway",
                  "Søndag",
                  "Søndag",
                  "NO",
                  "2020-01-05T00:00:00.000Z"
                ],
                [
                  "Sweden",
                  "Söndag",
                  "Söndag",
                  "SE",
                  "2020-01-05T00:00:00.000Z"
                ],
                [
                  "Austria",
                  "Heilige Drei Könige",
                  "Heilige Drei Könige",
                  "AT",
                  "2020-01-06T00:00:00.000Z"
                ],
                [
                  "Colombia",
                  "Día de los Reyes Magos [Epiphany]",
                  "Día de los Reyes Magos [Epiphany]",
                  "CO",
                  "2020-01-06T00:00:00.000Z"
                ],
                [
                  "Croatia",
                  "Sveta tri kralja",
                  "Sveta tri kralja",
                  "HR",
                  "2020-01-06T00:00:00.000Z"
                ],
                [
                  "Finland",
                  "Loppiainen",
                  "Loppiainen",
                  "FI",
                  "2020-01-06T00:00:00.000Z"
                ],
                [
                  "Italy",
                  "Epifania del Signore",
                  "Epifania del Signore",
                  "IT",
                  "2020-01-06T00:00:00.000Z"
                ],
                [
                  "Poland",
                  "Święto Trzech Króli",
                  "Święto Trzech Króli",
                  "PL",
                  "2020-01-06T00:00:00.000Z"
                ],
                [
                  "Spain",
                  "Epifanía del Señor",
                  "Epifanía del Señor",
                  "ES",
                  "2020-01-06T00:00:00.000Z"
                ],
                [
                  "Sweden",
                  "Trettondedag jul",
                  "Trettondedag jul",
                  "SE",
                  "2020-01-06T00:00:00.000Z"
                ],
                [
                  "Belarus",
                  "Рождество Христово (православное Рождество)",
                  "Рождество Христово (православное Рождество)",
                  "BY",
                  "2020-01-07T00:00:00.000Z"
                ],
                [
                  "Ukraine",
                  "Різдво Христове (православне)",
                  "Різдво Христове (православне)",
                  "UA",
                  "2020-01-07T00:00:00.000Z"
                ],
                [
                  "Norway",
                  "Søndag",
                  "Søndag",
                  "NO",
                  "2020-01-12T00:00:00.000Z"
                ],
                [
                  "Sweden",
                  "Söndag",
                  "Söndag",
                  "SE",
                  "2020-01-12T00:00:00.000Z"
                ],
                [
                  "Japan",
                  "成人の日",
                  "成人の日",
                  "JP",
                  "2020-01-13T00:00:00.000Z"
                ],
                [
                  "India",
                  "Makar Sankranti / Pongal",
                  "Makar Sankranti / Pongal",
                  "IN",
                  "2020-01-14T00:00:00.000Z"
                ],
                [
                  "Norway",
                  "Søndag",
                  "Søndag",
                  "NO",
                  "2020-01-19T00:00:00.000Z"
                ],
                [
                  "Sweden",
                  "Söndag",
                  "Söndag",
                  "SE",
                  "2020-01-19T00:00:00.000Z"
                ],
                [
                  "United States",
                  "Martin Luther King Jr. Day",
                  "Martin Luther King Jr. Day",
                  "US",
                  "2020-01-20T00:00:00.000Z"
                ],
                [
                  "Australia",
                  "Australia Day",
                  "Australia Day",
                  "AU",
                  "2020-01-26T00:00:00.000Z"
                ],
                [
                  "India",
                  "Republic Day",
                  "Republic Day",
                  "IN",
                  "2020-01-26T00:00:00.000Z"
                ],
                [
                  "Norway",
                  "Søndag",
                  "Søndag",
                  "NO",
                  "2020-01-26T00:00:00.000Z"
                ],
                [
                  "Sweden",
                  "Söndag",
                  "Söndag",
                  "SE",
                  "2020-01-26T00:00:00.000Z"
                ],
                [
                  "Australia",
                  "Australia Day (Observed)",
                  "Australia Day",
                  "AU",
                  "2020-01-27T00:00:00.000Z"
                ],
                [
                  "Norway",
                  "Søndag",
                  "Søndag",
                  "NO",
                  "2020-02-02T00:00:00.000Z"
                ],
                [
                  "Sweden",
                  "Söndag",
                  "Söndag",
                  "SE",
                  "2020-02-02T00:00:00.000Z"
                ],
                [
                  "Mexico",
                  "Día de la Constitución [Constitution Day] (Observed)",
                  "Día de la Constitución [Constitution Day]",
                  "MX",
                  "2020-02-03T00:00:00.000Z"
                ],
                [
                  "Mexico",
                  "Día de la Constitución [Constitution Day]",
                  "Día de la Constitución [Constitution Day]",
                  "MX",
                  "2020-02-05T00:00:00.000Z"
                ],
                [
                  "New Zealand",
                  "Waitangi Day",
                  "Waitangi Day",
                  "NZ",
                  "2020-02-06T00:00:00.000Z"
                ],
                [
                  "Slovenia",
                  "Prešernov dan",
                  "Prešernov dan",
                  "SI",
                  "2020-02-08T00:00:00.000Z"
                ],
                [
                  "Norway",
                  "Søndag",
                  "Søndag",
                  "NO",
                  "2020-02-09T00:00:00.000Z"
                ],
                [
                  "Sweden",
                  "Söndag",
                  "Söndag",
                  "SE",
                  "2020-02-09T00:00:00.000Z"
                ],
                [
                  "Japan",
                  "建国記念の日",
                  "建国記念の日",
                  "JP",
                  "2020-02-11T00:00:00.000Z"
                ],
                [
                  "Norway",
                  "Søndag",
                  "Søndag",
                  "NO",
                  "2020-02-16T00:00:00.000Z"
                ],
                [
                  "Sweden",
                  "Söndag",
                  "Söndag",
                  "SE",
                  "2020-02-16T00:00:00.000Z"
                ],
                [
                  "Canada",
                  "Family Day",
                  "Family Day",
                  "CA",
                  "2020-02-17T00:00:00.000Z"
                ],
                [
                  "United States",
                  "Washington's Birthday",
                  "Washington's Birthday",
                  "US",
                  "2020-02-17T00:00:00.000Z"
                ],
                [
                  "Japan",
                  "天皇誕生日",
                  "天皇誕生日",
                  "JP",
                  "2020-02-23T00:00:00.000Z"
                ],
                [
                  "Norway",
                  "Søndag",
                  "Søndag",
                  "NO",
                  "2020-02-23T00:00:00.000Z"
                ],
                [
                  "Sweden",
                  "Söndag",
                  "Söndag",
                  "SE",
                  "2020-02-23T00:00:00.000Z"
                ],
                [
                  "Argentina",
                  "Día de Carnaval [Carnival's Day]",
                  "Día de Carnaval [Carnival's Day]",
                  "AR",
                  "2020-02-24T00:00:00.000Z"
                ],
                [
                  "Japan",
                  "振替休日",
                  "振替休日",
                  "JP",
                  "2020-02-24T00:00:00.000Z"
                ],
                [
                  "Argentina",
                  "Día de Carnaval [Carnival's Day]",
                  "Día de Carnaval [Carnival's Day]",
                  "AR",
                  "2020-02-25T00:00:00.000Z"
                ],
                [
                  "Brazil",
                  "Carnaval",
                  "Carnaval",
                  "BR",
                  "2020-02-25T00:00:00.000Z"
                ],
                [
                  "Brazil",
                  "Quarta-feira de cinzas (Início da Quaresma)",
                  "Quarta-feira de cinzas (Início da Quaresma)",
                  "BR",
                  "2020-02-26T00:00:00.000Z"
                ],
                [
                  "Norway",
                  "Søndag",
                  "Søndag",
                  "NO",
                  "2020-03-01T00:00:00.000Z"
                ],
                [
                  "Sweden",
                  "Söndag",
                  "Söndag",
                  "SE",
                  "2020-03-01T00:00:00.000Z"
                ],
                [
                  "Belarus",
                  "День женщин",
                  "День женщин",
                  "BY",
                  "2020-03-08T00:00:00.000Z"
                ],
                [
                  "Norway",
                  "Søndag",
                  "Søndag",
                  "NO",
                  "2020-03-08T00:00:00.000Z"
                ],
                [
                  "Sweden",
                  "Söndag",
                  "Söndag",
                  "SE",
                  "2020-03-08T00:00:00.000Z"
                ],
                [
                  "Ukraine",
                  "Міжнародний жіночий день",
                  "Міжнародний жіночий день",
                  "UA",
                  "2020-03-08T00:00:00.000Z"
                ],
                [
                  "Hungary",
                  "Nemzeti ünnep",
                  "Nemzeti ünnep",
                  "HU",
                  "2020-03-15T00:00:00.000Z"
                ],
                [
                  "Norway",
                  "Søndag",
                  "Søndag",
                  "NO",
                  "2020-03-15T00:00:00.000Z"
                ],
                [
                  "Sweden",
                  "Söndag",
                  "Söndag",
                  "SE",
                  "2020-03-15T00:00:00.000Z"
                ],
                [
                  "Mexico",
                  "Natalicio de Benito Juárez [Benito Juárez's birthday] (Observed)",
                  "Natalicio de Benito Juárez [Benito Juárez's birthday]",
                  "MX",
                  "2020-03-16T00:00:00.000Z"
                ],
                [
                  "Ireland",
                  "St. Patrick's Day",
                  "St. Patrick's Day",
                  "IE",
                  "2020-03-17T00:00:00.000Z"
                ],
                [
                  "Northern Ireland",
                  "St. Patrick's Day",
                  "St. Patrick's Day",
                  null,
                  "2020-03-17T00:00:00.000Z"
                ],
                [
                  "United Kingdom",
                  "St. Patrick's Day [Northern Ireland]",
                  "St. Patrick's Day",
                  "GB",
                  "2020-03-17T00:00:00.000Z"
                ],
                [
                  "Japan",
                  "春分の日",
                  "春分の日",
                  "JP",
                  "2020-03-20T00:00:00.000Z"
                ],
                [
                  "Mexico",
                  "Natalicio de Benito Juárez [Benito Juárez's birthday]",
                  "Natalicio de Benito Juárez [Benito Juárez's birthday]",
                  "MX",
                  "2020-03-21T00:00:00.000Z"
                ],
                [
                  "South Africa",
                  "Human Rights Day",
                  "Human Rights Day",
                  "ZA",
                  "2020-03-21T00:00:00.000Z"
                ],
                [
                  "Norway",
                  "Søndag",
                  "Søndag",
                  "NO",
                  "2020-03-22T00:00:00.000Z"
                ],
                [
                  "Sweden",
                  "Söndag",
                  "Söndag",
                  "SE",
                  "2020-03-22T00:00:00.000Z"
                ],
                [
                  "Colombia",
                  "Día de San José [Saint Joseph's Day](Observed)",
                  "Día de San José [Saint Joseph's Day]",
                  "CO",
                  "2020-03-23T00:00:00.000Z"
                ],
                [
                  "Argentina",
                  "Día Nacional de la Memoria por la Verdad y la Justicia [Memory's National Day for the Truth and Justice]",
                  "Día Nacional de la Memoria por la Verdad y la Justicia [Memory's National Day for the Truth and Justice]",
                  "AR",
                  "2020-03-24T00:00:00.000Z"
                ],
                [
                  "Norway",
                  "Søndag",
                  "Søndag",
                  "NO",
                  "2020-03-29T00:00:00.000Z"
                ],
                [
                  "Sweden",
                  "Söndag",
                  "Söndag",
                  "SE",
                  "2020-03-29T00:00:00.000Z"
                ],
                [
                  "Argentina",
                  "Día del Veterano y de los Caidos en la Guerra de Malvinas [Veterans Day and the Fallen in the Malvinas War]",
                  "Día del Veterano y de los Caidos en la Guerra de Malvinas [Veterans Day and the Fallen in the Malvinas War]",
                  "AR",
                  "2020-04-02T00:00:00.000Z"
                ],
                [
                  "Denmark",
                  "Palmesøndag",
                  "Palmesøndag",
                  "DK",
                  "2020-04-05T00:00:00.000Z"
                ],
                [
                  "Norway",
                  "Søndag",
                  "Søndag",
                  "NO",
                  "2020-04-05T00:00:00.000Z"
                ],
                [
                  "Sweden",
                  "Söndag",
                  "Söndag",
                  "SE",
                  "2020-04-05T00:00:00.000Z"
                ],
                [
                  "Argentina",
                  "Semana Santa (Jueves Santo)  [Holy day (Holy Thursday)]",
                  "Semana Santa (Jueves Santo)  [Holy day (Holy Thursday)]",
                  "AR",
                  "2020-04-09T00:00:00.000Z"
                ],
                [
                  "Colombia",
                  "Jueves Santo [Maundy Thursday]",
                  "Jueves Santo [Maundy Thursday]",
                  "CO",
                  "2020-04-09T00:00:00.000Z"
                ],
                [
                  "Denmark",
                  "Skærtorsdag",
                  "Skærtorsdag",
                  "DK",
                  "2020-04-09T00:00:00.000Z"
                ],
                [
                  "Norway",
                  "Skjærtorsdag",
                  "Skjærtorsdag",
                  "NO",
                  "2020-04-09T00:00:00.000Z"
                ],
                [
                  "Argentina",
                  "Semana Santa (Viernes Santo)  [Holy day (Holy Friday)]",
                  "Semana Santa (Viernes Santo)  [Holy day (Holy Friday)]",
                  "AR",
                  "2020-04-10T00:00:00.000Z"
                ],
                [
                  "Australia",
                  "Good Friday",
                  "Good Friday",
                  "AU",
                  "2020-04-10T00:00:00.000Z"
                ],
                [
                  "Brazil",
                  "Sexta-feira Santa",
                  "Sexta-feira Santa",
                  "BR",
                  "2020-04-10T00:00:00.000Z"
                ],
                [
                  "Canada",
                  "Good Friday",
                  "Good Friday",
                  "CA",
                  "2020-04-10T00:00:00.000Z"
                ],
                [
                  "Colombia",
                  "Viernes Santo [Good Friday]",
                  "Viernes Santo [Good Friday]",
                  "CO",
                  "2020-04-10T00:00:00.000Z"
                ],
                [
                  "Czech",
                  "Velký pátek",
                  "Velký pátek",
                  "CZ",
                  "2020-04-10T00:00:00.000Z"
                ],
                [
                  "Denmark",
                  "Langfredag",
                  "Langfredag",
                  "DK",
                  "2020-04-10T00:00:00.000Z"
                ],
                [
                  "England",
                  "Good Friday",
                  "Good Friday",
                  null,
                  "2020-04-10T00:00:00.000Z"
                ],
                [
                  "Finland",
                  "Pitkäperjantai",
                  "Pitkäperjantai",
                  "FI",
                  "2020-04-10T00:00:00.000Z"
                ],
                [
                  "Germany",
                  "Karfreitag",
                  "Karfreitag",
                  "DE",
                  "2020-04-10T00:00:00.000Z"
                ],
                [
                  "Hungary",
                  "Nagypéntek",
                  "Nagypéntek",
                  "HU",
                  "2020-04-10T00:00:00.000Z"
                ],
                [
                  "Isle of Man",
                  "Good Friday",
                  "Good Friday",
                  "IM",
                  "2020-04-10T00:00:00.000Z"
                ],
                [
                  "New Zealand",
                  "Good Friday",
                  "Good Friday",
                  "NZ",
                  "2020-04-10T00:00:00.000Z"
                ],
                [
                  "Northern Ireland",
                  "Good Friday",
                  "Good Friday",
                  null,
                  "2020-04-10T00:00:00.000Z"
                ],
                [
                  "Norway",
                  "Langfredag",
                  "Langfredag",
                  "NO",
                  "2020-04-10T00:00:00.000Z"
                ],
                [
                  "Portugal",
                  "Sexta-feira Santa",
                  "Sexta-feira Santa",
                  "PT",
                  "2020-04-10T00:00:00.000Z"
                ],
                [
                  "Scotland",
                  "Good Friday",
                  "Good Friday",
                  null,
                  "2020-04-10T00:00:00.000Z"
                ],
                [
                  "South Africa",
                  "Good Friday",
                  "Good Friday",
                  "ZA",
                  "2020-04-10T00:00:00.000Z"
                ],
                [
                  "Sweden",
                  "Långfredagen",
                  "Långfredagen",
                  "SE",
                  "2020-04-10T00:00:00.000Z"
                ],
                [
                  "Switzerland",
                  "Karfreitag",
                  "Karfreitag",
                  "CH",
                  "2020-04-10T00:00:00.000Z"
                ],
                [
                  "United Kingdom",
                  "Good Friday",
                  "Good Friday",
                  "GB",
                  "2020-04-10T00:00:00.000Z"
                ],
                [
                  "Wales",
                  "Good Friday",
                  "Good Friday",
                  null,
                  "2020-04-10T00:00:00.000Z"
                ],
                [
                  "Argentina",
                  "Día de Pascuas [Easter Day]",
                  "Día de Pascuas [Easter Day]",
                  "AR",
                  "2020-04-12T00:00:00.000Z"
                ],
                [
                  "Belgium",
                  "Pasen",
                  "Pasen",
                  "BE",
                  "2020-04-12T00:00:00.000Z"
                ],
                [
                  "Brazil",
                  "Páscoa",
                  "Páscoa",
                  "BR",
                  "2020-04-12T00:00:00.000Z"
                ],
                [
                  "Croatia",
                  "Uskrs",
                  "Uskrs",
                  "HR",
                  "2020-04-12T00:00:00.000Z"
                ],
                [
                  "Denmark",
                  "Påskedag",
                  "Påskedag",
                  "DK",
                  "2020-04-12T00:00:00.000Z"
                ],
                [
                  "Finland",
                  "Pääsiäispäivä",
                  "Pääsiäispäivä",
                  "FI",
                  "2020-04-12T00:00:00.000Z"
                ],
                [
                  "Hungary",
                  "Húsvét",
                  "Húsvét",
                  "HU",
                  "2020-04-12T00:00:00.000Z"
                ],
                [
                  "Italy",
                  "Pasqua di Resurrezione",
                  "Pasqua di Resurrezione",
                  "IT",
                  "2020-04-12T00:00:00.000Z"
                ],
                [
                  "Netherlands",
                  "Eerste paasdag",
                  "Eerste paasdag",
                  "NL",
                  "2020-04-12T00:00:00.000Z"
                ],
                [
                  "Norway",
                  "Første påskedag, Søndag",
                  "Første påskedag, Søndag",
                  "NO",
                  "2020-04-12T00:00:00.000Z"
                ],
                [
                  "Poland",
                  "Niedziela Wielkanocna",
                  "Niedziela Wielkanocna",
                  "PL",
                  "2020-04-12T00:00:00.000Z"
                ],
                [
                  "Portugal",
                  "Páscoa",
                  "Páscoa",
                  "PT",
                  "2020-04-12T00:00:00.000Z"
                ],
                [
                  "Sweden",
                  "Påskdagen, Söndag",
                  "Påskdagen, Söndag",
                  "SE",
                  "2020-04-12T00:00:00.000Z"
                ],
                [
                  "Switzerland",
                  "Ostern",
                  "Ostern",
                  "CH",
                  "2020-04-12T00:00:00.000Z"
                ],
                [
                  "Australia",
                  "Easter Monday",
                  "Easter Monday",
                  "AU",
                  "2020-04-13T00:00:00.000Z"
                ],
                [
                  "Austria",
                  "Ostermontag",
                  "Ostermontag",
                  "AT",
                  "2020-04-13T00:00:00.000Z"
                ],
                [
                  "Belgium",
                  "Paasmaandag",
                  "Paasmaandag",
                  "BE",
                  "2020-04-13T00:00:00.000Z"
                ],
                [
                  "Croatia",
                  "Uskrsni ponedjeljak",
                  "Uskrsni ponedjeljak",
                  "HR",
                  "2020-04-13T00:00:00.000Z"
                ],
                [
                  "Czech",
                  "Velikonoční pondělí",
                  "Velikonoční pondělí",
                  "CZ",
                  "2020-04-13T00:00:00.000Z"
                ],
                [
                  "Denmark",
                  "Anden påskedag",
                  "Anden påskedag",
                  "DK",
                  "2020-04-13T00:00:00.000Z"
                ],
                [
                  "England",
                  "Easter Monday",
                  "Easter Monday",
                  null,
                  "2020-04-13T00:00:00.000Z"
                ],
                [
                  "Finland",
                  "2. pääsiäispäivä",
                  "2. pääsiäispäivä",
                  "FI",
                  "2020-04-13T00:00:00.000Z"
                ],
                [
                  "France",
                  "Lundi de Pâques",
                  "Lundi de Pâques",
                  "FR",
                  "2020-04-13T00:00:00.000Z"
                ],
                [
                  "Germany",
                  "Ostermontag",
                  "Ostermontag",
                  "DE",
                  "2020-04-13T00:00:00.000Z"
                ],
                [
                  "Hungary",
                  "Húsvét Hétfő",
                  "Húsvét Hétfő",
                  "HU",
                  "2020-04-13T00:00:00.000Z"
                ],
                [
                  "Ireland",
                  "Easter Monday",
                  "Easter Monday",
                  "IE",
                  "2020-04-13T00:00:00.000Z"
                ],
                [
                  "Isle of Man",
                  "Easter Monday",
                  "Easter Monday",
                  "IM",
                  "2020-04-13T00:00:00.000Z"
                ],
                [
                  "Italy",
                  "Lunedì dell'Angelo",
                  "Lunedì dell'Angelo",
                  "IT",
                  "2020-04-13T00:00:00.000Z"
                ],
                [
                  "Netherlands",
                  "Tweede paasdag",
                  "Tweede paasdag",
                  "NL",
                  "2020-04-13T00:00:00.000Z"
                ],
                [
                  "New Zealand",
                  "Easter Monday",
                  "Easter Monday",
                  "NZ",
                  "2020-04-13T00:00:00.000Z"
                ],
                [
                  "Northern Ireland",
                  "Easter Monday",
                  "Easter Monday",
                  null,
                  "2020-04-13T00:00:00.000Z"
                ],
                [
                  "Norway",
                  "Andre påskedag",
                  "Andre påskedag",
                  "NO",
                  "2020-04-13T00:00:00.000Z"
                ],
                [
                  "Poland",
                  "Poniedziałek Wielkanocny",
                  "Poniedziałek Wielkanocny",
                  "PL",
                  "2020-04-13T00:00:00.000Z"
                ],
                [
                  "Slovenia",
                  "Velikonočni ponedeljek",
                  "Velikonočni ponedeljek",
                  "SI",
                  "2020-04-13T00:00:00.000Z"
                ],
                [
                  "South Africa",
                  "Family Day",
                  "Family Day",
                  "ZA",
                  "2020-04-13T00:00:00.000Z"
                ],
                [
                  "Sweden",
                  "Annandag påsk",
                  "Annandag påsk",
                  "SE",
                  "2020-04-13T00:00:00.000Z"
                ],
                [
                  "Switzerland",
                  "Ostermontag",
                  "Ostermontag",
                  "CH",
                  "2020-04-13T00:00:00.000Z"
                ],
                [
                  "United Kingdom",
                  "Easter Monday [England, Wales, Northern Ireland]",
                  "Easter Monday",
                  "GB",
                  "2020-04-13T00:00:00.000Z"
                ],
                [
                  "Wales",
                  "Easter Monday",
                  "Easter Monday",
                  null,
                  "2020-04-13T00:00:00.000Z"
                ],
                [
                  "Norway",
                  "Søndag",
                  "Søndag",
                  "NO",
                  "2020-04-19T00:00:00.000Z"
                ],
                [
                  "Sweden",
                  "Söndag",
                  "Söndag",
                  "SE",
                  "2020-04-19T00:00:00.000Z"
                ],
                [
                  "Ukraine",
                  "Пасха (Великдень)",
                  "Пасха (Великдень)",
                  "UA",
                  "2020-04-19T00:00:00.000Z"
                ],
                [
                  "Brazil",
                  "Tiradentes",
                  "Tiradentes",
                  "BR",
                  "2020-04-21T00:00:00.000Z"
                ]
              ],
              "schema": [
                "countryOrRegion",
                "holidayName",
                "normalizeHolidayName",
                "countryRegionCode",
                "date"
              ]
            }
          },
          "metadata": {}
        }
      ],
      "metadata": {},
      "source": [
        "display(hol_df)"
      ],
      "attachments": {}
    },
    {
      "cell_type": "markdown",
      "metadata": {},
      "source": [
        "## Write data to the Delta Lake table\n",
        ""
      ],
      "attachments": {}
    },
    {
      "cell_type": "code",
      "execution_count": null,
      "outputs": [],
      "metadata": {},
      "source": [
        "# Set the strorage path info\n",
        "# Primary storage info\n",
        "account_name = '' # fill in your primary storage account name\n",
        "container_name = '' # fill in your container name\n",
        "relative_path = '' # fill in your relative folder path\n",
        "\n",
        "adls_path = 'abfss://%s@%s.dfs.core.windows.net/%s' % (container_name, account_name, relative_path)\n",
        "print('Primary storage account path: ' + adls_path)\n",
        "\n",
        "# Delta Lake relative path\n",
        "delta_relative_path = adls_path + 'delta/holiday/'\n",
        "print('Delta Lake path: ' + delta_relative_path)"
      ],
      "attachments": {}
    },
    {
      "cell_type": "code",
      "execution_count": 17,
      "outputs": [
        {
          "output_type": "execute_result",
          "execution_count": 17,
          "data": {
            "text/plain": "+---------------+------------------------+------------------------+-------------+-----------------+-------------------+\n|countryOrRegion|holidayName             |normalizeHolidayName    |isPaidTimeOff|countryRegionCode|date               |\n+---------------+------------------------+------------------------+-------------+-----------------+-------------------+\n|India          |Christmas               |Christmas               |false        |IN               |2019-12-25 00:00:00|\n|India          |Makar Sankranti / Pongal|Makar Sankranti / Pongal|false        |IN               |2020-01-14 00:00:00|\n|India          |Republic Day            |Republic Day            |true         |IN               |2020-01-26 00:00:00|\n+---------------+------------------------+------------------------+-------------+-----------------+-------------------+"
          },
          "metadata": {}
        }
      ],
      "metadata": {},
      "source": [
        "# Filter out indian holidays\n",
        "hol_df_IN = hol_df[(hol_df.countryRegionCode == \"IN\")]\n",
        "hol_df_IN.show(5, truncate = False)"
      ],
      "attachments": {}
    },
    {
      "cell_type": "code",
      "execution_count": 19,
      "outputs": [],
      "metadata": {},
      "source": [
        "#Let's write the data in the Delta Lake table. \n",
        "hol_df_IN.write.mode(\"overwrite\").format(\"delta\").partitionBy(\"holidayName\").save(delta_relative_path)"
      ],
      "attachments": {}
    },
    {
      "cell_type": "code",
      "execution_count": 20,
      "outputs": [
        {
          "output_type": "execute_result",
          "execution_count": 20,
          "data": {
            "text/plain": "+---------------+--------------------+--------------------+-------------+-----------------+-------------------+\n|countryOrRegion|         holidayName|normalizeHolidayName|isPaidTimeOff|countryRegionCode|               date|\n+---------------+--------------------+--------------------+-------------+-----------------+-------------------+\n|          India|Makar Sankranti /...|Makar Sankranti /...|        false|               IN|2020-01-14 00:00:00|\n|          India|        Republic Day|        Republic Day|         true|               IN|2020-01-26 00:00:00|\n|          India|           Christmas|           Christmas|        false|               IN|2019-12-25 00:00:00|\n+---------------+--------------------+--------------------+-------------+-----------------+-------------------+"
          },
          "metadata": {}
        }
      ],
      "metadata": {},
      "source": [
        "delta_data = spark.read.format(\"delta\").load(delta_relative_path)\n",
        "delta_data.show()"
      ],
      "attachments": {}
    },
    {
      "cell_type": "markdown",
      "metadata": {},
      "source": [
        "## Overwrite the entire Delta Lake table\n",
        ""
      ],
      "attachments": {}
    },
    {
      "cell_type": "code",
      "execution_count": 21,
      "outputs": [],
      "metadata": {},
      "source": [
        "#Let's overwrite the entire delta file with 1 record\n",
        "\n",
        "hol_df_JP= hol_df[(hol_df.countryRegionCode == \"JP\")]\n",
        "hol_df_JP.write.format(\"delta\").mode(\"overwrite\").save(delta_relative_path)"
      ],
      "attachments": {}
    },
    {
      "cell_type": "code",
      "execution_count": 22,
      "outputs": [
        {
          "output_type": "execute_result",
          "execution_count": 22,
          "data": {
            "text/plain": "+---------------+------------+--------------------+-------------+-----------------+-------------------+\n|countryOrRegion| holidayName|normalizeHolidayName|isPaidTimeOff|countryRegionCode|               date|\n+---------------+------------+--------------------+-------------+-----------------+-------------------+\n|          Japan|勤労感謝の日|        勤労感謝の日|         null|               JP|2019-11-23 00:00:00|\n|          Japan|建国記念の日|        建国記念の日|         null|               JP|2020-02-11 00:00:00|\n|          Japan|  天皇誕生日|          天皇誕生日|         null|               JP|2020-02-23 00:00:00|\n|          Japan|    文化の日|            文化の日|         null|               JP|2019-11-03 00:00:00|\n|          Japan|    成人の日|            成人の日|         null|               JP|2020-01-13 00:00:00|\n|          Japan|    春分の日|            春分の日|         null|               JP|2020-03-20 00:00:00|\n|          Japan|    振替休日|            振替休日|         null|               JP|2019-11-04 00:00:00|\n|          Japan|    振替休日|            振替休日|         null|               JP|2020-02-24 00:00:00|\n|          Japan|        元日|                元日|         null|               JP|2020-01-01 00:00:00|\n+---------------+------------+--------------------+-------------+-----------------+-------------------+"
          },
          "metadata": {}
        }
      ],
      "metadata": {},
      "source": [
        "delta_data = spark.read.format(\"delta\").load(delta_relative_path)\n",
        "delta_data.show()"
      ],
      "attachments": {}
    },
    {
      "cell_type": "markdown",
      "metadata": {},
      "source": [
        "## Merge new data based on given merge condition "
      ],
      "attachments": {}
    },
    {
      "cell_type": "code",
      "execution_count": 23,
      "outputs": [
        {
          "output_type": "execute_result",
          "execution_count": 23,
          "data": {
            "text/plain": "+---------------+--------------------+--------------------+-------------+-----------------+-------------------+\n|countryOrRegion|         holidayName|normalizeHolidayName|isPaidTimeOff|countryRegionCode|               date|\n+---------------+--------------------+--------------------+-------------+-----------------+-------------------+\n|  United States|Martin Luther Kin...|Martin Luther Kin...|         null|               US|2020-01-20 00:00:00|\n|  United States|Washington's Birt...|Washington's Birt...|         true|               US|2020-02-17 00:00:00|\n|  United States|      New Year's Day|      New Year's Day|         true|               US|2020-01-01 00:00:00|\n|  United States|       Christmas Day|       Christmas Day|         true|               US|2019-12-25 00:00:00|\n|  United States|        Veterans Day|        Veterans Day|        false|               US|2019-11-11 00:00:00|\n|  United States|        Thanksgiving|        Thanksgiving|         true|               US|2019-11-28 00:00:00|\n|          Japan|        勤労感謝の日|        勤労感謝の日|         null|               JP|2019-11-23 00:00:00|\n|          Japan|        建国記念の日|        建国記念の日|         null|               JP|2020-02-11 00:00:00|\n|          Japan|          天皇誕生日|          天皇誕生日|         null|               JP|2020-02-23 00:00:00|\n|          Japan|            文化の日|            文化の日|         null|               JP|2019-11-03 00:00:00|\n|          Japan|            成人の日|            成人の日|         null|               JP|2020-01-13 00:00:00|\n|          Japan|            春分の日|            春分の日|         null|               JP|2020-03-20 00:00:00|\n|          Japan|            振替休日|            振替休日|         null|               JP|2019-11-04 00:00:00|\n|          Japan|            振替休日|            振替休日|         null|               JP|2020-02-24 00:00:00|\n|          Japan|                元日|                元日|         null|               JP|2020-01-01 00:00:00|\n+---------------+--------------------+--------------------+-------------+-----------------+-------------------+"
          },
          "metadata": {}
        }
      ],
      "metadata": {},
      "source": [
        "# Upsert (merge) the United States' holiday data with Japan's\n",
        " \n",
        "from delta.tables import *\n",
        "\n",
        "deltaTable = DeltaTable.forPath(spark,delta_relative_path)\n",
        "\n",
        "hol_df_US= hol_df[(hol_df.countryRegionCode == \"US\")]\n",
        "\n",
        "\n",
        "deltaTable.alias(\"hol_df_JP\").merge(\n",
        "     source = hol_df_US.alias(\"hol_df_US\"),\n",
        "     condition = \"hol_df_JP.countryRegionCode = hol_df_US.countryRegionCode\"\n",
        "    ).whenMatchedUpdate(set = \n",
        "    {}).whenNotMatchedInsert( values = \n",
        "    {\n",
        "        \"countryOrRegion\" : \"hol_df_US.countryOrRegion\",\n",
        "        \"holidayName\" : \"hol_df_US.holidayName\",\n",
        "        \"normalizeHolidayName\" : \"hol_df_US.normalizeHolidayName\",\n",
        "        \"isPaidTimeOff\":\"hol_df_US.isPaidTimeOff\",\n",
        "        \"countryRegionCode\":\"hol_df_US.countryRegionCode\",\n",
        "        \"date\":\"hol_df_US.date\"\n",
        "    }\n",
        "    ).execute()\n",
        "\n",
        "\n",
        "deltaTable.toDF().show()"
      ],
      "attachments": {}
    },
    {
      "cell_type": "markdown",
      "metadata": {},
      "source": [
        "## Update table on the rows that match the given condition\n",
        ""
      ],
      "attachments": {}
    },
    {
      "cell_type": "code",
      "execution_count": 71,
      "outputs": [
        {
          "output_type": "execute_result",
          "data": {
            "text/plain": "+---------------+--------------------------+--------------------------+-------------+-----------------+-------------------+\n|countryOrRegion|               holidayName|      normalizeHolidayName|isPaidTimeOff|countryRegionCode|               date|\n+---------------+--------------------------+--------------------------+-------------+-----------------+-------------------+\n|          Japan|即位礼正殿の儀が行われる日|即位礼正殿の儀が行われる日|        false|               JP|2019-10-22 00:00:00|\n|  United States|      Martin Luther Kin...|      Martin Luther Kin...|         true|               US|2020-01-20 00:00:00|\n|  United States|      Washington's Birt...|      Washington's Birt...|         true|               US|2020-02-17 00:00:00|\n|  United States|            New Year's Day|            New Year's Day|         true|               US|2020-01-01 00:00:00|\n|  United States|             Christmas Day|             Christmas Day|         true|               US|2019-12-25 00:00:00|\n|  United States|              Veterans Day|              Veterans Day|        false|               US|2019-11-11 00:00:00|\n|  United States|              Thanksgiving|              Thanksgiving|         true|               US|2019-11-28 00:00:00|\n|  United States|              Columbus Day|              Columbus Day|        false|               US|2019-10-14 00:00:00|\n|          Japan|              勤労感謝の日|              勤労感謝の日|        false|               JP|2019-11-23 00:00:00|\n|          Japan|              建国記念の日|              建国記念の日|        false|               JP|2020-02-11 00:00:00|\n|          Japan|                天皇誕生日|                天皇誕生日|        false|               JP|2020-02-23 00:00:00|\n|          Japan|                  文化の日|                  文化の日|        false|               JP|2019-11-03 00:00:00|\n|          Japan|                  成人の日|                  成人の日|        false|               JP|2020-01-13 00:00:00|\n|          Japan|                  春分の日|                  春分の日|        false|               JP|2020-03-20 00:00:00|\n|          Japan|                  体育の日|                  体育の日|        false|               JP|2019-10-14 00:00:00|\n|          Japan|                  振替休日|                  振替休日|        false|               JP|2019-11-04 00:00:00|\n|          Japan|                  振替休日|                  振替休日|        false|               JP|2020-02-24 00:00:00|\n|          Japan|                      元日|                      元日|        false|               JP|2020-01-01 00:00:00|\n+---------------+--------------------------+--------------------------+-------------+-----------------+-------------------+"
          },
          "execution_count": 71,
          "metadata": {}
        }
      ],
      "metadata": {},
      "source": [
        "# Update column the 'null' value in 'isPaidTimeOff' with 'false'\n",
        "\n",
        "from pyspark.sql.functions import *\n",
        "deltaTable.update(\n",
        "    condition = (col(\"isPaidTimeOff\").isNull()),\n",
        "    set = {\"isPaidTimeOff\": \"false\"})\n",
        "\n",
        "deltaTable.toDF().show()"
      ],
      "attachments": {}
    },
    {
      "cell_type": "markdown",
      "metadata": {},
      "source": [
        "## Delete data from the table that match the given condition\n",
        ""
      ],
      "attachments": {}
    },
    {
      "cell_type": "code",
      "execution_count": 72,
      "outputs": [
        {
          "output_type": "execute_result",
          "data": {
            "text/plain": "Row count before delete: \n18\nRow count after delete:  \n9\n+---------------+--------------------------+--------------------------+-------------+-----------------+-------------------+\n|countryOrRegion|               holidayName|      normalizeHolidayName|isPaidTimeOff|countryRegionCode|               date|\n+---------------+--------------------------+--------------------------+-------------+-----------------+-------------------+\n|          Japan|即位礼正殿の儀が行われる日|即位礼正殿の儀が行われる日|        false|               JP|2019-10-22 00:00:00|\n|  United States|             Christmas Day|             Christmas Day|         true|               US|2019-12-25 00:00:00|\n|  United States|              Veterans Day|              Veterans Day|        false|               US|2019-11-11 00:00:00|\n|  United States|              Thanksgiving|              Thanksgiving|         true|               US|2019-11-28 00:00:00|\n|  United States|              Columbus Day|              Columbus Day|        false|               US|2019-10-14 00:00:00|\n|          Japan|              勤労感謝の日|              勤労感謝の日|        false|               JP|2019-11-23 00:00:00|\n|          Japan|                  振替休日|                  振替休日|        false|               JP|2019-11-04 00:00:00|\n|          Japan|                  文化の日|                  文化の日|        false|               JP|2019-11-03 00:00:00|\n|          Japan|                  体育の日|                  体育の日|        false|               JP|2019-10-14 00:00:00|\n+---------------+--------------------------+--------------------------+-------------+-----------------+-------------------+"
          },
          "execution_count": 72,
          "metadata": {}
        }
      ],
      "metadata": {},
      "source": [
        "print(\"Row count before delete: \")\n",
        "print(deltaTable.toDF().count())\n",
        "\n",
        "\n",
        "# Delte data with date later than 2020-01-01\n",
        "deltaTable.delete (\"date > '2020-01-01'\")\n",
        "\n",
        "\n",
        "print(\"Row count after delete:  \")\n",
        "print(deltaTable.toDF().count())\n",
        "deltaTable.toDF().show()"
      ],
      "attachments": {}
    },
    {
      "cell_type": "markdown",
      "metadata": {},
      "source": [
        "## Get the operation history of the delta table\n",
        ""
      ],
      "attachments": {}
    },
    {
      "cell_type": "code",
      "execution_count": 73,
      "outputs": [
        {
          "output_type": "execute_result",
          "data": {
            "text/plain": "Full history DF: \n+-------+-------------------+------+--------+---------+------------------------------------------------------------------------------+----+--------+---------+-----------+--------------+-------------+\n|version|timestamp          |userId|userName|operation|operationParameters                                                           |job |notebook|clusterId|readVersion|isolationLevel|isBlindAppend|\n+-------+-------------------+------+--------+---------+------------------------------------------------------------------------------+----+--------+---------+-----------+--------------+-------------+\n|19     |2020-03-30 08:34:57|null  |null    |DELETE   |[predicate -> [\"(CAST(`date` AS STRING) > '2020-01-01')\"]]                    |null|null    |null     |18         |null          |false        |\n|18     |2020-03-30 08:33:13|null  |null    |UPDATE   |[predicate -> isnull(isPaidTimeOff#5236)]                                     |null|null    |null     |17         |null          |false        |\n|17     |2020-03-30 08:32:23|null  |null    |MERGE    |[predicate -> (hol_df_JP.`countryRegionCode` = hol_df_US.`countryRegionCode`)]|null|null    |null     |16         |null          |false        |\n|16     |2020-03-30 08:30:04|null  |null    |WRITE    |[mode -> Overwrite, partitionBy -> []]                                        |null|null    |null     |15         |null          |false        |\n|15     |2020-03-30 08:28:15|null  |null    |DELETE   |[predicate -> [\"(CAST(`date` AS STRING) > '2020-01-01')\"]]                    |null|null    |null     |14         |null          |false        |\n|14     |2020-03-30 08:25:14|null  |null    |UPDATE   |[predicate -> isnull(isPaidTimeOff#4256)]                                     |null|null    |null     |13         |null          |false        |\n|13     |2020-03-30 08:24:44|null  |null    |MERGE    |[predicate -> (hol_df_JP.`countryRegionCode` = hol_df_US.`countryRegionCode`)]|null|null    |null     |12         |null          |false        |\n|12     |2020-03-30 08:21:55|null  |null    |WRITE    |[mode -> Overwrite, partitionBy -> []]                                        |null|null    |null     |11         |null          |false        |\n|11     |2020-03-30 08:15:32|null  |null    |DELETE   |[predicate -> [\"(CAST(`date` AS STRING) > '2020-01-01')\"]]                    |null|null    |null     |10         |null          |false        |\n|10     |2020-03-30 08:08:20|null  |null    |UPDATE   |[predicate -> isnull(isPaidTimeOff#2919)]                                     |null|null    |null     |9          |null          |false        |\n|9      |2020-03-30 08:07:11|null  |null    |MERGE    |[predicate -> (hol_df_JP.`countryRegionCode` = hol_df_US.`countryRegionCode`)]|null|null    |null     |8          |null          |false        |\n|8      |2020-03-30 08:06:23|null  |null    |WRITE    |[mode -> Overwrite, partitionBy -> []]                                        |null|null    |null     |7          |null          |false        |\n|7      |2020-03-30 08:04:56|null  |null    |DELETE   |[predicate -> [\"(CAST(`date` AS STRING) > '2020-01-01')\"]]                    |null|null    |null     |6          |null          |false        |\n|6      |2020-03-30 07:56:21|null  |null    |UPDATE   |[predicate -> isnull(isPaidTimeOff#717)]                                      |null|null    |null     |5          |null          |false        |\n|5      |2020-03-30 07:53:24|null  |null    |UPDATE   |[predicate -> (countryRegionCode#718 = JP)]                                   |null|null    |null     |4          |null          |false        |\n|4      |2020-03-30 07:26:37|null  |null    |WRITE    |[mode -> Overwrite, partitionBy -> []]                                        |null|null    |null     |3          |null          |false        |\n|3      |2020-03-30 07:25:09|null  |null    |WRITE    |[mode -> Overwrite, partitionBy -> [\"holidayName\"]]                           |null|null    |null     |2          |null          |false        |\n|2      |2020-03-30 06:59:03|null  |null    |MERGE    |[predicate -> (hol_df_JP.`countryRegionCode` = hol_df_US.`countryRegionCode`)]|null|null    |null     |1          |null          |false        |\n|1      |2020-03-30 06:34:58|null  |null    |WRITE    |[mode -> Overwrite, partitionBy -> []]                                        |null|null    |null     |0          |null          |false        |\n|0      |2020-03-30 06:32:18|null  |null    |WRITE    |[mode -> Overwrite, partitionBy -> [\"holidayName\"]]                           |null|null    |null     |null       |null          |false        |\n+-------+-------------------+------+--------+---------+------------------------------------------------------------------------------+----+--------+---------+-----------+--------------+-------------+\n\nlastOperationDF: \n+-------+-------------------+------+--------+---------+----------------------------------------------------------+----+--------+---------+-----------+--------------+-------------+\n|version|timestamp          |userId|userName|operation|operationParameters                                       |job |notebook|clusterId|readVersion|isolationLevel|isBlindAppend|\n+-------+-------------------+------+--------+---------+----------------------------------------------------------+----+--------+---------+-----------+--------------+-------------+\n|19     |2020-03-30 08:34:57|null  |null    |DELETE   |[predicate -> [\"(CAST(`date` AS STRING) > '2020-01-01')\"]]|null|null    |null     |18         |null          |false        |\n+-------+-------------------+------+--------+---------+----------------------------------------------------------+----+--------+---------+-----------+--------------+-------------+"
          },
          "execution_count": 73,
          "metadata": {}
        }
      ],
      "metadata": {},
      "source": [
        "fullHistoryDF = deltaTable.history()\n",
        "lastOperationDF = deltaTable.history(1)\n",
        "\n",
        "print('Full history DF: ')\n",
        "fullHistoryDF.show(truncate = False)\n",
        "\n",
        "print('lastOperationDF: ')\n",
        "lastOperationDF.show(truncate = False)"
      ],
      "attachments": {}
    }
  ]
}