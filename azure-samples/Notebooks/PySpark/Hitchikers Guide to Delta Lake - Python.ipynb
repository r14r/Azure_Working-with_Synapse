{
  "metadata": {
    "saveOutput": true,
    "language_info": {
      "name": "python"
    }
  },
  "nbformat": 4,
  "nbformat_minor": 2,
  "cells": [
    {
      "cell_type": "markdown",
      "metadata": {},
      "source": [
        "# Hitchhiker's Guide to Delta Lake (Python)\n",
        "\n",
        "This tutorial has been adapted for more clarity from its original counterpart [here](https://docs.delta.io/latest/quick-start.html). This notebook helps you quickly explore the main features of [Delta Lake](https://github.com/delta-io/delta). It provides code snippets that show how to read from and write to Delta Lake tables from interactive, batch, and streaming queries.\n",
        "\n",
        "Here's what we will cover:\n",
        "* Create a table\n",
        "* Understanding meta-data\n",
        "* Read data\n",
        "* Update table data\n",
        "* Overwrite table data\n",
        "* Conditional update without overwrite\n",
        "* Read older versions of data using Time Travel\n",
        "* Write a stream of data to a table\n",
        "* Read a stream of changes from a table"
      ],
      "attachments": {}
    },
    {
      "cell_type": "markdown",
      "metadata": {},
      "source": [
        "## Configuration\n",
        "Make sure you modify this as appropriate."
      ],
      "attachments": {}
    },
    {
      "cell_type": "code",
      "execution_count": 3,
      "outputs": [
        {
          "output_type": "execute_result",
          "data": {
            "text/plain": "'/delta/delta-table-587152'"
          },
          "execution_count": 3,
          "metadata": {}
        }
      ],
      "metadata": {},
      "source": [
        "import random\n",
        "\n",
        "session_id = random.randint(0,1000000)\n",
        "delta_table_path = \"/delta/delta-table-{0}\".format(session_id)\n",
        "\n",
        "delta_table_path"
      ],
      "attachments": {}
    },
    {
      "cell_type": "markdown",
      "metadata": {},
      "source": [
        "## Create a table\n",
        "To create a Delta Lake table, write a DataFrame out in the **delta** format. You can use existing Spark SQL code and change the format from parquet, csv, json, and so on, to delta.\n",
        "\n",
        "These operations create a new Delta Lake table using the schema that was inferred from your DataFrame. For the full set of options available when you create a new Delta Lake table, see Create a table and Write to a table (subsequent cells in this notebook)."
      ],
      "attachments": {}
    },
    {
      "cell_type": "code",
      "execution_count": 4,
      "outputs": [
        {
          "output_type": "execute_result",
          "data": {
            "text/plain": "+---+\n| id|\n+---+\n|  0|\n|  1|\n|  2|\n|  3|\n|  4|\n+---+"
          },
          "execution_count": 4,
          "metadata": {}
        }
      ],
      "metadata": {},
      "source": [
        "data = spark.range(0,5)\n",
        "data.show()\n",
        "data.write.format(\"delta\").save(delta_table_path)"
      ],
      "attachments": {}
    },
    {
      "cell_type": "markdown",
      "metadata": {},
      "source": [
        "## Understanding Meta-data\n",
        "\n",
        "In Delta Lake, meta-data is no different from data i.e., it is stored next to the data. Therefore, an interesting side-effect here is that you can peek into meta-data using regular Spark APIs. "
      ],
      "attachments": {}
    },
    {
      "cell_type": "code",
      "execution_count": 5,
      "outputs": [
        {
          "output_type": "execute_result",
          "data": {
            "text/plain": "['{\"commitInfo\":{\"timestamp\":1587774874100,\"operation\":\"WRITE\",\"operationParameters\":{\"mode\":\"ErrorIfExists\",\"partitionBy\":\"[]\"},\"isBlindAppend\":true}}', '{\"protocol\":{\"minReaderVersion\":1,\"minWriterVersion\":2}}', '{\"metaData\":{\"id\":\"3c38c9c7-0e45-4cc1-86c2-ce61b24cd80a\",\"format\":{\"provider\":\"parquet\",\"options\":{}},\"schemaString\":\"{\\\\\"type\\\\\":\\\\\"struct\\\\\",\\\\\"fields\\\\\":[{\\\\\"name\\\\\":\\\\\"id\\\\\",\\\\\"type\\\\\":\\\\\"long\\\\\",\\\\\"nullable\\\\\":true,\\\\\"metadata\\\\\":{}}]}\",\"partitionColumns\":[],\"configuration\":{},\"createdTime\":1587774867458}}', '{\"add\":{\"path\":\"part-00000-fd3075c0-15dd-4aca-a68f-039171f1145e-c000.snappy.parquet\",\"partitionValues\":{},\"size\":262,\"modificationTime\":1587774873000,\"dataChange\":true}}', '{\"add\":{\"path\":\"part-00001-104b0f1c-ec0f-4b45-af2d-8a2a24851881-c000.snappy.parquet\",\"partitionValues\":{},\"size\":429,\"modificationTime\":1587774872000,\"dataChange\":true}}', '{\"add\":{\"path\":\"part-00003-9cf556cb-0588-4a32-b100-d7f3fe71099d-c000.snappy.parquet\",\"partitionValues\":{},\"size\":429,\"modificationTime\":1587774872000,\"dataChange\":true}}', '{\"add\":{\"path\":\"part-00004-18e0e41b-04f6-46dd-9604-557272f41f21-c000.snappy.parquet\",\"partitionValues\":{},\"size\":429,\"modificationTime\":1587774873000,\"dataChange\":true}}', '{\"add\":{\"path\":\"part-00006-e027eb9a-ff20-4f92-b6e8-4d0d1afaa242-c000.snappy.parquet\",\"partitionValues\":{},\"size\":429,\"modificationTime\":1587774873000,\"dataChange\":true}}', '{\"add\":{\"path\":\"part-00007-f0c3bfbf-5ca8-49dd-9ae7-1f2c0fbf8807-c000.snappy.parquet\",\"partitionValues\":{},\"size\":429,\"modificationTime\":1587774873000,\"dataChange\":true}}']"
          },
          "execution_count": 5,
          "metadata": {}
        }
      ],
      "metadata": {},
      "source": [
        "[log_line.value for log_line in spark.read.text(delta_table_path + \"/_delta_log/\").collect()]"
      ],
      "attachments": {}
    },
    {
      "cell_type": "markdown",
      "metadata": {},
      "source": [
        "## Read data\n",
        "\n",
        "You read data in your Delta Lake table by specifying the path to the files."
      ],
      "attachments": {}
    },
    {
      "cell_type": "code",
      "execution_count": 6,
      "outputs": [
        {
          "output_type": "execute_result",
          "data": {
            "text/plain": "+---+\n| id|\n+---+\n|  0|\n|  1|\n|  4|\n|  3|\n|  2|\n+---+"
          },
          "execution_count": 6,
          "metadata": {}
        }
      ],
      "metadata": {},
      "source": [
        "df = spark.read.format(\"delta\").load(delta_table_path)\n",
        "df.show()"
      ],
      "attachments": {}
    },
    {
      "cell_type": "markdown",
      "metadata": {},
      "source": [
        "## Update table data\n",
        "\n",
        "Delta Lake supports several operations to modify tables using standard DataFrame APIs. This example runs a batch job to overwrite the data in the table.\n",
        ""
      ],
      "attachments": {}
    },
    {
      "cell_type": "code",
      "execution_count": 7,
      "outputs": [
        {
          "output_type": "execute_result",
          "data": {
            "text/plain": "+---+\n| id|\n+---+\n|  6|\n|  8|\n|  5|\n|  7|\n|  9|\n+---+"
          },
          "execution_count": 7,
          "metadata": {}
        }
      ],
      "metadata": {},
      "source": [
        "data = spark.range(5,10)\n",
        "data.write.format(\"delta\").mode(\"overwrite\").save(delta_table_path)\n",
        "df.show()"
      ],
      "attachments": {}
    },
    {
      "cell_type": "markdown",
      "metadata": {},
      "source": [
        "When you now inspect the meta-data, what you will notice is that the original data is over-written. Well, not in a true sense but appropriate entries are added to Delta's transaction log so it can provide an \"illusion\" that the original data was deleted. We can verify this by re-inspecting the meta-data. You will see several entries indicating reference removal to the original data."
      ],
      "attachments": {}
    },
    {
      "cell_type": "code",
      "execution_count": 8,
      "outputs": [
        {
          "output_type": "execute_result",
          "data": {
            "text/plain": "['{\"commitInfo\":{\"timestamp\":1587774905262,\"operation\":\"WRITE\",\"operationParameters\":{\"mode\":\"Overwrite\",\"partitionBy\":\"[]\"},\"readVersion\":0,\"isBlindAppend\":false}}', '{\"add\":{\"path\":\"part-00000-4c6812ff-adf7-4c2f-b75d-251237d65a5e-c000.snappy.parquet\",\"partitionValues\":{},\"size\":262,\"modificationTime\":1587774902000,\"dataChange\":true}}', '{\"add\":{\"path\":\"part-00001-12acbec0-9aa2-4fd0-884f-be6dff640f1a-c000.snappy.parquet\",\"partitionValues\":{},\"size\":429,\"modificationTime\":1587774902000,\"dataChange\":true}}', '{\"add\":{\"path\":\"part-00003-032e011b-2041-4685-a780-252ee8734bd6-c000.snappy.parquet\",\"partitionValues\":{},\"size\":429,\"modificationTime\":1587774903000,\"dataChange\":true}}', '{\"add\":{\"path\":\"part-00004-c9b0845d-8f9b-4800-ac55-dcf51f2d3cc3-c000.snappy.parquet\",\"partitionValues\":{},\"size\":429,\"modificationTime\":1587774902000,\"dataChange\":true}}', '{\"add\":{\"path\":\"part-00006-2ef15d13-ff27-4044-8f79-adcbb3bc1aa7-c000.snappy.parquet\",\"partitionValues\":{},\"size\":429,\"modificationTime\":1587774904000,\"dataChange\":true}}', '{\"add\":{\"path\":\"part-00007-16dc2fc8-7c71-44a7-ac68-2901ecd28b1f-c000.snappy.parquet\",\"partitionValues\":{},\"size\":429,\"modificationTime\":1587774902000,\"dataChange\":true}}', '{\"remove\":{\"path\":\"part-00001-104b0f1c-ec0f-4b45-af2d-8a2a24851881-c000.snappy.parquet\",\"deletionTimestamp\":1587774905262,\"dataChange\":true}}', '{\"remove\":{\"path\":\"part-00000-fd3075c0-15dd-4aca-a68f-039171f1145e-c000.snappy.parquet\",\"deletionTimestamp\":1587774905262,\"dataChange\":true}}', '{\"remove\":{\"path\":\"part-00003-9cf556cb-0588-4a32-b100-d7f3fe71099d-c000.snappy.parquet\",\"deletionTimestamp\":1587774905262,\"dataChange\":true}}', '{\"remove\":{\"path\":\"part-00007-f0c3bfbf-5ca8-49dd-9ae7-1f2c0fbf8807-c000.snappy.parquet\",\"deletionTimestamp\":1587774905262,\"dataChange\":true}}', '{\"remove\":{\"path\":\"part-00006-e027eb9a-ff20-4f92-b6e8-4d0d1afaa242-c000.snappy.parquet\",\"deletionTimestamp\":1587774905262,\"dataChange\":true}}', '{\"remove\":{\"path\":\"part-00004-18e0e41b-04f6-46dd-9604-557272f41f21-c000.snappy.parquet\",\"deletionTimestamp\":1587774905262,\"dataChange\":true}}', '{\"commitInfo\":{\"timestamp\":1587774874100,\"operation\":\"WRITE\",\"operationParameters\":{\"mode\":\"ErrorIfExists\",\"partitionBy\":\"[]\"},\"isBlindAppend\":true}}', '{\"protocol\":{\"minReaderVersion\":1,\"minWriterVersion\":2}}', '{\"metaData\":{\"id\":\"3c38c9c7-0e45-4cc1-86c2-ce61b24cd80a\",\"format\":{\"provider\":\"parquet\",\"options\":{}},\"schemaString\":\"{\\\\\"type\\\\\":\\\\\"struct\\\\\",\\\\\"fields\\\\\":[{\\\\\"name\\\\\":\\\\\"id\\\\\",\\\\\"type\\\\\":\\\\\"long\\\\\",\\\\\"nullable\\\\\":true,\\\\\"metadata\\\\\":{}}]}\",\"partitionColumns\":[],\"configuration\":{},\"createdTime\":1587774867458}}', '{\"add\":{\"path\":\"part-00000-fd3075c0-15dd-4aca-a68f-039171f1145e-c000.snappy.parquet\",\"partitionValues\":{},\"size\":262,\"modificationTime\":1587774873000,\"dataChange\":true}}', '{\"add\":{\"path\":\"part-00001-104b0f1c-ec0f-4b45-af2d-8a2a24851881-c000.snappy.parquet\",\"partitionValues\":{},\"size\":429,\"modificationTime\":1587774872000,\"dataChange\":true}}', '{\"add\":{\"path\":\"part-00003-9cf556cb-0588-4a32-b100-d7f3fe71099d-c000.snappy.parquet\",\"partitionValues\":{},\"size\":429,\"modificationTime\":1587774872000,\"dataChange\":true}}', '{\"add\":{\"path\":\"part-00004-18e0e41b-04f6-46dd-9604-557272f41f21-c000.snappy.parquet\",\"partitionValues\":{},\"size\":429,\"modificationTime\":1587774873000,\"dataChange\":true}}', '{\"add\":{\"path\":\"part-00006-e027eb9a-ff20-4f92-b6e8-4d0d1afaa242-c000.snappy.parquet\",\"partitionValues\":{},\"size\":429,\"modificationTime\":1587774873000,\"dataChange\":true}}', '{\"add\":{\"path\":\"part-00007-f0c3bfbf-5ca8-49dd-9ae7-1f2c0fbf8807-c000.snappy.parquet\",\"partitionValues\":{},\"size\":429,\"modificationTime\":1587774873000,\"dataChange\":true}}']"
          },
          "execution_count": 8,
          "metadata": {}
        }
      ],
      "metadata": {},
      "source": [
        "[log_line.value for log_line in spark.read.text(delta_table_path + \"/_delta_log/\").collect()]"
      ],
      "attachments": {}
    },
    {
      "cell_type": "markdown",
      "metadata": {},
      "source": [
        "## Save as catalog tables\n",
        "\n",
        "Delta Lake can write to managed or external catalog tables."
      ],
      "attachments": {}
    },
    {
      "cell_type": "code",
      "execution_count": 9,
      "outputs": [],
      "metadata": {},
      "source": [
        "# Write data to a new managed catalog table.\n",
        "data.write.format(\"delta\").saveAsTable(\"ManagedDeltaTable\")"
      ],
      "attachments": {}
    },
    {
      "cell_type": "code",
      "execution_count": 10,
      "outputs": [
        {
          "output_type": "execute_result",
          "data": {
            "text/plain": "DataFrame[]"
          },
          "execution_count": 10,
          "metadata": {}
        }
      ],
      "metadata": {},
      "source": [
        "# Define an external catalog table that points to the existing Delta Lake data in storage.\n",
        "spark.sql(\"CREATE TABLE ExternalDeltaTable USING DELTA LOCATION '{0}'\".format(delta_table_path))"
      ],
      "attachments": {}
    },
    {
      "cell_type": "code",
      "execution_count": 11,
      "outputs": [
        {
          "output_type": "execute_result",
          "data": {
            "text/plain": "+--------+------------------+-----------+\n|database|         tableName|isTemporary|\n+--------+------------------+-----------+\n| default|externaldeltatable|      false|\n| default| manageddeltatable|      false|\n+--------+------------------+-----------+\n\n+----------------------------+-------------------------------------------------------------------------------------------------------+-------+\n|col_name                    |data_type                                                                                              |comment|\n+----------------------------+-------------------------------------------------------------------------------------------------------+-------+\n|id                          |bigint                                                                                                 |null   |\n|                            |                                                                                                       |       |\n|# Detailed Table Information|                                                                                                       |       |\n|Database                    |default                                                                                                |       |\n|Table                       |manageddeltatable                                                                                      |       |\n|Owner                       |trusted-service-user                                                                                   |       |\n|Created Time                |Sat Apr 25 00:35:34 UTC 2020                                                                           |       |\n|Last Access                 |Thu Jan 01 00:00:00 UTC 1970                                                                           |       |\n|Created By                  |Spark 2.4.4.2.6.99.201-11401300                                                                        |       |\n|Type                        |MANAGED                                                                                                |       |\n|Provider                    |delta                                                                                                  |       |\n|Table Properties            |[transient_lastDdlTime=1587774934]                                                                     |       |\n|Statistics                  |2407 bytes                                                                                             |       |\n|Location                    |abfss://data@<data lake>.dfs.core.windows.net/synapse/workspaces/<workspace name>/warehouse/manageddeltatable|       |\n|Serde Library               |org.apache.hadoop.hive.serde2.lazy.LazySimpleSerDe                                                     |       |\n|InputFormat                 |org.apache.hadoop.mapred.SequenceFileInputFormat                                                       |       |\n|OutputFormat                |org.apache.hadoop.hive.ql.io.HiveSequenceFileOutputFormat                                              |       |\n|Storage Properties          |[serialization.format=1]                                                                               |       |\n+----------------------------+-------------------------------------------------------------------------------------------------------+-------+\n\n+----------------------------+----------------------------------------------------------------------+-------+\n|col_name                    |data_type                                                             |comment|\n+----------------------------+----------------------------------------------------------------------+-------+\n|id                          |bigint                                                                |null   |\n|                            |                                                                      |       |\n|# Detailed Table Information|                                                                      |       |\n|Database                    |default                                                               |       |\n|Table                       |externaldeltatable                                                    |       |\n|Owner                       |trusted-service-user                                                  |       |\n|Created Time                |Sat Apr 25 00:35:38 UTC 2020                                          |       |\n|Last Access                 |Thu Jan 01 00:00:00 UTC 1970                                          |       |\n|Created By                  |Spark 2.4.4.2.6.99.201-11401300                                       |       |\n|Type                        |EXTERNAL                                                              |       |\n|Provider                    |DELTA                                                                 |       |\n|Table Properties            |[transient_lastDdlTime=1587774938]                                    |       |\n|Location                    |abfss://data@<data lake>.dfs.core.windows.net/delta/delta-table-587152|       |\n|Serde Library               |org.apache.hadoop.hive.serde2.lazy.LazySimpleSerDe                    |       |\n|InputFormat                 |org.apache.hadoop.mapred.SequenceFileInputFormat                      |       |\n|OutputFormat                |org.apache.hadoop.hive.ql.io.HiveSequenceFileOutputFormat             |       |\n|Storage Properties          |[serialization.format=1]                                              |       |\n+----------------------------+----------------------------------------------------------------------+-------+"
          },
          "execution_count": 11,
          "metadata": {}
        }
      ],
      "metadata": {},
      "source": [
        "# List the 2 new tables.\n",
        "spark.sql(\"SHOW TABLES\").show()\n",
        "\n",
        "# Explore their properties.\n",
        "spark.sql(\"DESCRIBE EXTENDED ManagedDeltaTable\").show(truncate=False)\n",
        "spark.sql(\"DESCRIBE EXTENDED ExternalDeltaTable\").show(truncate=False)"
      ],
      "attachments": {}
    },
    {
      "cell_type": "markdown",
      "metadata": {},
      "source": [
        "## Conditional update without overwrite\n",
        "\n",
        "Delta Lake provides programmatic APIs to conditional update, delete, and merge (upsert) data into tables. For more information on these operations, see [Table Deletes, Updates, and Merges](https://docs.delta.io/latest/delta-update.html)."
      ],
      "attachments": {}
    },
    {
      "cell_type": "code",
      "execution_count": 12,
      "outputs": [],
      "metadata": {},
      "source": [
        "from delta.tables import *\n",
        "from pyspark.sql.functions import *\n",
        "\n",
        "delta_table = DeltaTable.forPath(spark, delta_table_path)"
      ],
      "attachments": {}
    },
    {
      "cell_type": "code",
      "execution_count": 13,
      "outputs": [
        {
          "output_type": "execute_result",
          "data": {
            "text/plain": "+---+\n| id|\n+---+\n|106|\n|108|\n|  5|\n|  7|\n|  9|\n+---+"
          },
          "execution_count": 13,
          "metadata": {}
        }
      ],
      "metadata": {},
      "source": [
        "# Update every even value by adding 100 to it\n",
        "delta_table.update(\n",
        "  condition = expr(\"id % 2 == 0\"),\n",
        "  set = { \"id\": expr(\"id + 100\") })\n",
        "delta_table.toDF().show()"
      ],
      "attachments": {}
    },
    {
      "cell_type": "code",
      "execution_count": 14,
      "outputs": [
        {
          "output_type": "execute_result",
          "data": {
            "text/plain": "+---+\n| id|\n+---+\n|  5|\n|  7|\n|  9|\n+---+"
          },
          "execution_count": 14,
          "metadata": {}
        }
      ],
      "metadata": {},
      "source": [
        "# Delete every even value\n",
        "delta_table.delete(\"id % 2 == 0\")\n",
        "delta_table.toDF().show()"
      ],
      "attachments": {}
    },
    {
      "cell_type": "code",
      "execution_count": 15,
      "outputs": [
        {
          "output_type": "execute_result",
          "data": {
            "text/plain": "+---+\n| id|\n+---+\n| 18|\n| 15|\n| 19|\n|  2|\n|  1|\n|  6|\n|  8|\n|  3|\n| -1|\n| 10|\n| 13|\n|  0|\n| 16|\n|  4|\n| -1|\n| 12|\n| 11|\n| 14|\n| -1|\n| 17|\n+---+"
          },
          "execution_count": 15,
          "metadata": {}
        }
      ],
      "metadata": {},
      "source": [
        "# Upsert (merge) new data\n",
        "new_data = spark.range(0,20).alias(\"newData\")\n",
        "\n",
        "delta_table.alias(\"oldData\")\\\n",
        "    .merge(new_data.alias(\"newData\"), \"oldData.id = newData.id\")\\\n",
        "    .whenMatchedUpdate(set = { \"id\": lit(\"-1\")})\\\n",
        "    .whenNotMatchedInsert(values = { \"id\": col(\"newData.id\") })\\\n",
        "    .execute()\n",
        "\n",
        "delta_table.toDF().show(100)"
      ],
      "attachments": {}
    },
    {
      "cell_type": "markdown",
      "metadata": {},
      "source": [
        "## History\n",
        "Delta's most powerful feature is the ability to allow looking into history i.e., the changes that were made to the underlying Delta Table. The cell below shows how simple it is to inspect the history."
      ],
      "attachments": {}
    },
    {
      "cell_type": "code",
      "execution_count": 16,
      "outputs": [
        {
          "output_type": "execute_result",
          "data": {
            "text/plain": "+-------+-------------------+------+--------+---------+-------------------------------------------------------------------+----+--------+---------+-----------+--------------+-------------+\n|version|          timestamp|userId|userName|operation|                                                operationParameters| job|notebook|clusterId|readVersion|isolationLevel|isBlindAppend|\n+-------+-------------------+------+--------+---------+-------------------------------------------------------------------+----+--------+---------+-----------+--------------+-------------+\n|      4|2020-04-25 00:36:27|  null|    null|    MERGE|                       [predicate -> (oldData.`id` = newData.`id`)]|null|    null|     null|          3|          null|        false|\n|      3|2020-04-25 00:36:08|  null|    null|   DELETE|[predicate -> [\"((`id` % CAST(2 AS BIGINT)) = CAST(0 AS BIGINT))\"]]|null|    null|     null|          2|          null|        false|\n|      2|2020-04-25 00:35:51|  null|    null|   UPDATE| [predicate -> ((id#744L % cast(2 as bigint)) = cast(0 as bigint))]|null|    null|     null|          1|          null|        false|\n|      1|2020-04-25 00:35:05|  null|    null|    WRITE|                             [mode -> Overwrite, partitionBy -> []]|null|    null|     null|          0|          null|        false|\n|      0|2020-04-25 00:34:34|  null|    null|    WRITE|                         [mode -> ErrorIfExists, partitionBy -> []]|null|    null|     null|       null|          null|         true|\n+-------+-------------------+------+--------+---------+-------------------------------------------------------------------+----+--------+---------+-----------+--------------+-------------+"
          },
          "execution_count": 16,
          "metadata": {}
        }
      ],
      "metadata": {},
      "source": [
        "delta_table.history().show(20, 1000, False)"
      ],
      "attachments": {}
    },
    {
      "cell_type": "markdown",
      "metadata": {},
      "source": [
        "## Read older versions of data using Time Travel\n",
        "\n",
        "You can query previous snapshots of your Delta Lake table by using a feature called Time Travel. If you want to access the data that you overwrote, you can query a snapshot of the table before you overwrote the first set of data using the versionAsOf option.\n",
        "\n",
        "Once you run the cell below, you should see the first set of data, from before you overwrote it. Time Travel is an extremely powerful feature that takes advantage of the power of the Delta Lake transaction log to access data that is no longer in the table. Removing the version 0 option (or specifying version 1) would let you see the newer data again. For more information, see [Query an older snapshot of a table (time travel)](https://docs.delta.io/latest/delta-batch.html#deltatimetravel)."
      ],
      "attachments": {}
    },
    {
      "cell_type": "code",
      "execution_count": 17,
      "outputs": [
        {
          "output_type": "execute_result",
          "data": {
            "text/plain": "+---+\n| id|\n+---+\n|  0|\n|  1|\n|  4|\n|  3|\n|  2|\n+---+"
          },
          "execution_count": 17,
          "metadata": {}
        }
      ],
      "metadata": {},
      "source": [
        "df = spark.read.format(\"delta\").option(\"versionAsOf\", 0).load(delta_table_path)\n",
        "df.show()"
      ],
      "attachments": {}
    },
    {
      "cell_type": "markdown",
      "metadata": {},
      "source": [
        "## Write a stream of data to a table\n",
        "\n",
        "You can also write to a Delta Lake table using Spark's Structured Streaming. The Delta Lake transaction log guarantees exactly-once processing, even when there are other streams or batch queries running concurrently against the table. By default, streams run in append mode, which adds new records to the table.\n",
        "\n",
        "For more information about Delta Lake integration with Structured Streaming, see [Table Streaming Reads and Writes](https://docs.delta.io/latest/delta-streaming.html).\n",
        "\n",
        "In the cells below, here's what we are doing:\n",
        "\n",
        "1. *Cell 28* Setup a simple Spark Structured Streaming job to generate a sequence and make the job write into our Delta Table\n",
        "2. *Cell 30* Show the newly appended data\n",
        "3. *Cell 31* Inspect history\n",
        "4. *Cell 32* Stop the structured streaming job\n",
        "5. *Cell 33* Inspect history <-- You'll notice appends have stopped"
      ],
      "attachments": {}
    },
    {
      "cell_type": "code",
      "execution_count": 18,
      "outputs": [],
      "metadata": {},
      "source": [
        "streaming_df = spark.readStream.format(\"rate\").load()\n",
        "stream = streaming_df\\\n",
        "    .selectExpr(\"value as id\")\\\n",
        "    .writeStream\\\n",
        "    .format(\"delta\")\\\n",
        "    .option(\"checkpointLocation\", \"/tmp/checkpoint-{0}\".format(session_id))\\\n",
        "    .start(delta_table_path)"
      ],
      "attachments": {}
    },
    {
      "cell_type": "markdown",
      "metadata": {},
      "source": [
        "## Read a stream of changes from a table\n",
        "\n",
        "While the stream is writing to the Delta Lake table, you can also read from that table as streaming source. For example, you can start another streaming query that prints all the changes made to the Delta Lake table."
      ],
      "attachments": {}
    },
    {
      "cell_type": "code",
      "execution_count": 19,
      "outputs": [
        {
          "output_type": "execute_result",
          "data": {
            "text/plain": "+---+\n| id|\n+---+\n| 19|\n| 18|\n| 17|\n| 16|\n| 15|\n| 14|\n| 13|\n| 12|\n| 11|\n| 10|\n|  8|\n|  6|\n|  4|\n|  3|\n|  2|\n|  1|\n|  0|\n| -1|\n| -1|\n| -1|\n+---+"
          },
          "execution_count": 19,
          "metadata": {}
        }
      ],
      "metadata": {},
      "source": [
        "delta_table.toDF().sort(col(\"id\").desc()).show(100)"
      ],
      "attachments": {}
    },
    {
      "cell_type": "code",
      "execution_count": 20,
      "outputs": [
        {
          "output_type": "execute_result",
          "data": {
            "text/plain": "+-------+-------------------+----------------+-------------------------------------------------------------------------------------+-----------+\n|version|          timestamp|       operation|                                                                  operationParameters|readVersion|\n+-------+-------------------+----------------+-------------------------------------------------------------------------------------+-----------+\n|      5|2020-04-25 00:37:09|STREAMING UPDATE|[outputMode -> Append, queryId -> d26b4f8a-7e5a-44f2-a5fb-23a7bd02aef7, epochId -> 0]|          4|\n|      4|2020-04-25 00:36:27|           MERGE|                                         [predicate -> (oldData.`id` = newData.`id`)]|          3|\n|      3|2020-04-25 00:36:08|          DELETE|                  [predicate -> [\"((`id` % CAST(2 AS BIGINT)) = CAST(0 AS BIGINT))\"]]|          2|\n|      2|2020-04-25 00:35:51|          UPDATE|                   [predicate -> ((id#744L % cast(2 as bigint)) = cast(0 as bigint))]|          1|\n|      1|2020-04-25 00:35:05|           WRITE|                                               [mode -> Overwrite, partitionBy -> []]|          0|\n|      0|2020-04-25 00:34:34|           WRITE|                                           [mode -> ErrorIfExists, partitionBy -> []]|       null|\n+-------+-------------------+----------------+-------------------------------------------------------------------------------------+-----------+"
          },
          "execution_count": 20,
          "metadata": {}
        }
      ],
      "metadata": {},
      "source": [
        "delta_table.history().drop(\"userId\", \"userName\", \"job\", \"notebook\", \"clusterId\", \"isolationLevel\", \"isBlindAppend\").show(20, 1000, False)"
      ],
      "attachments": {}
    },
    {
      "cell_type": "code",
      "execution_count": 21,
      "outputs": [],
      "metadata": {},
      "source": [
        "stream.stop()"
      ],
      "attachments": {}
    },
    {
      "cell_type": "code",
      "execution_count": 22,
      "outputs": [
        {
          "output_type": "execute_result",
          "data": {
            "text/plain": "+-------+-------------------+----------------+-------------------------------------------------------------------------------------+-----------+\n|version|          timestamp|       operation|                                                                  operationParameters|readVersion|\n+-------+-------------------+----------------+-------------------------------------------------------------------------------------+-----------+\n|      5|2020-04-25 00:37:09|STREAMING UPDATE|[outputMode -> Append, queryId -> d26b4f8a-7e5a-44f2-a5fb-23a7bd02aef7, epochId -> 0]|          4|\n|      4|2020-04-25 00:36:27|           MERGE|                                         [predicate -> (oldData.`id` = newData.`id`)]|          3|\n|      3|2020-04-25 00:36:08|          DELETE|                  [predicate -> [\"((`id` % CAST(2 AS BIGINT)) = CAST(0 AS BIGINT))\"]]|          2|\n|      2|2020-04-25 00:35:51|          UPDATE|                   [predicate -> ((id#744L % cast(2 as bigint)) = cast(0 as bigint))]|          1|\n|      1|2020-04-25 00:35:05|           WRITE|                                               [mode -> Overwrite, partitionBy -> []]|          0|\n|      0|2020-04-25 00:34:34|           WRITE|                                           [mode -> ErrorIfExists, partitionBy -> []]|       null|\n+-------+-------------------+----------------+-------------------------------------------------------------------------------------+-----------+"
          },
          "execution_count": 22,
          "metadata": {}
        }
      ],
      "metadata": {},
      "source": [
        "delta_table.history().drop(\"userId\", \"userName\", \"job\", \"notebook\", \"clusterId\", \"isolationLevel\", \"isBlindAppend\").show(100, 1000, False)"
      ],
      "attachments": {}
    },
    {
      "cell_type": "markdown",
      "metadata": {},
      "source": [
        "## Convert Parquet to Delta\n",
        "You can do an in-place conversion from the Parquet format to Delta."
      ],
      "attachments": {}
    },
    {
      "cell_type": "code",
      "execution_count": 23,
      "outputs": [
        {
          "output_type": "execute_result",
          "data": {
            "text/plain": "False"
          },
          "execution_count": 23,
          "metadata": {}
        }
      ],
      "metadata": {},
      "source": [
        "parquet_path = \"/parquet/parquet-table-{0}\".format(session_id)\n",
        "\n",
        "data = spark.range(0,5)\n",
        "data.write.parquet(parquet_path)\n",
        "\n",
        "# Confirm that the data isn't in the Delta format\n",
        "DeltaTable.isDeltaTable(spark, parquet_path)"
      ],
      "attachments": {}
    },
    {
      "cell_type": "code",
      "execution_count": 24,
      "outputs": [
        {
          "output_type": "execute_result",
          "data": {
            "text/plain": "True"
          },
          "execution_count": 24,
          "metadata": {}
        }
      ],
      "metadata": {},
      "source": [
        "DeltaTable.convertToDelta(spark, \"parquet.`{0}`\".format(parquet_path))\n",
        "\n",
        "# Confirm that the converted data is now in the Delta format\n",
        "DeltaTable.isDeltaTable(spark, parquet_path)"
      ],
      "attachments": {}
    },
    {
      "cell_type": "markdown",
      "metadata": {},
      "source": [
        "## SQL Support\n",
        "Delta supports table utility commands through SQL.  You can use SQL to:\n",
        "* Get a DeltaTable's history\n",
        "* Vacuum a DeltaTable\n",
        "* Convert a Parquet file to Delta\n",
        ""
      ],
      "attachments": {}
    },
    {
      "cell_type": "code",
      "execution_count": 25,
      "outputs": [
        {
          "output_type": "execute_result",
          "data": {
            "text/plain": "+-------+-------------------+------+--------+----------------+--------------------+----+--------+---------+-----------+--------------+-------------+\n|version|          timestamp|userId|userName|       operation| operationParameters| job|notebook|clusterId|readVersion|isolationLevel|isBlindAppend|\n+-------+-------------------+------+--------+----------------+--------------------+----+--------+---------+-----------+--------------+-------------+\n|      5|2020-04-25 00:37:09|  null|    null|STREAMING UPDATE|[outputMode -> Ap...|null|    null|     null|          4|          null|         true|\n|      4|2020-04-25 00:36:27|  null|    null|           MERGE|[predicate -> (ol...|null|    null|     null|          3|          null|        false|\n|      3|2020-04-25 00:36:08|  null|    null|          DELETE|[predicate -> [\"(...|null|    null|     null|          2|          null|        false|\n|      2|2020-04-25 00:35:51|  null|    null|          UPDATE|[predicate -> ((i...|null|    null|     null|          1|          null|        false|\n|      1|2020-04-25 00:35:05|  null|    null|           WRITE|[mode -> Overwrit...|null|    null|     null|          0|          null|        false|\n|      0|2020-04-25 00:34:34|  null|    null|           WRITE|[mode -> ErrorIfE...|null|    null|     null|       null|          null|         true|\n+-------+-------------------+------+--------+----------------+--------------------+----+--------+---------+-----------+--------------+-------------+"
          },
          "execution_count": 25,
          "metadata": {}
        }
      ],
      "metadata": {},
      "source": [
        "spark.sql(\"DESCRIBE HISTORY delta.`{0}`\".format(delta_table_path)).show()"
      ],
      "attachments": {}
    },
    {
      "cell_type": "code",
      "execution_count": 26,
      "outputs": [
        {
          "output_type": "execute_result",
          "data": {
            "text/plain": "+--------------------+\n|                path|\n+--------------------+\n|abfss://data@arca...|\n+--------------------+"
          },
          "execution_count": 26,
          "metadata": {}
        }
      ],
      "metadata": {},
      "source": [
        "spark.sql(\"VACUUM delta.`{0}`\".format(delta_table_path)).show()"
      ],
      "attachments": {}
    },
    {
      "cell_type": "code",
      "execution_count": 27,
      "outputs": [
        {
          "output_type": "execute_result",
          "data": {
            "text/plain": "True"
          },
          "execution_count": 27,
          "metadata": {}
        }
      ],
      "metadata": {},
      "source": [
        "parquet_id = random.randint(0,1000)\n",
        "parquet_path = \"/parquet/parquet-table-{0}-{1}\".format(session_id, parquet_path)\n",
        "\n",
        "data = spark.range(0,5)\n",
        "data.write.parquet(parquet_path)\n",
        "\n",
        "# Confirm that the data isn't in the Delta format\n",
        "DeltaTable.isDeltaTable(spark, parquet_path)\n",
        "\n",
        "# Use SQL to convert the parquet table to Delta\n",
        "spark.sql(\"CONVERT TO DELTA parquet.`{0}`\".format(parquet_path))\n",
        "\n",
        "DeltaTable.isDeltaTable(spark, parquet_path)"
      ],
      "attachments": {}
    }
  ]
}