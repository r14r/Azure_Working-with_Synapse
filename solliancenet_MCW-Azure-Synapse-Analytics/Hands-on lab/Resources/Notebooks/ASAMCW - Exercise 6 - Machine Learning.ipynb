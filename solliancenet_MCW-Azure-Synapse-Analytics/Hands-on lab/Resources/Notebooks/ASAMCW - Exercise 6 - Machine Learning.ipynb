{
  "metadata": {
    "saveOutput": true,
    "language_info": {
      "name": "python"
    }
  },
  "nbformat": 4,
  "nbformat_minor": 2,
  "cells": [
    {
      "cell_type": "markdown",
      "metadata": {},
      "source": [
        "# Train a classifier to determine product seasonality\n",
        ""
      ],
      "attachments": {}
    },
    {
      "cell_type": "markdown",
      "metadata": {},
      "source": [
        "First, check if XGBoost is properly installed in the Spark environment (shoud have version 1.0.2)\n",
        ""
      ],
      "attachments": {}
    },
    {
      "cell_type": "code",
      "execution_count": null,
      "outputs": [],
      "metadata": {},
      "source": [
        "import pip\n",
        "pip.get_installed_distributions()"
      ],
      "attachments": {}
    },
    {
      "cell_type": "markdown",
      "metadata": {},
      "source": [
        "Import all necessary libraries.\n",
        ""
      ],
      "attachments": {}
    },
    {
      "cell_type": "code",
      "execution_count": null,
      "outputs": [],
      "metadata": {},
      "source": [
        "from sklearn.preprocessing import StandardScaler, MinMaxScaler, Normalizer\n",
        "from sklearn.decomposition import PCA\n",
        "from sklearn.model_selection import train_test_split\n",
        "from sklearn.metrics import accuracy_score\n",
        "\n",
        "from xgboost import XGBClassifier\n",
        "\n",
        "from onnxmltools.convert import convert_xgboost\n",
        "from onnxmltools.convert.common.data_types import FloatTensorType\n",
        "\n",
        "import numpy as np\n",
        "import pandas as pd\n",
        "import matplotlib.pyplot as plt"
      ],
      "attachments": {}
    },
    {
      "cell_type": "markdown",
      "metadata": {},
      "source": [
        "## Exploratory data analysis (basic stats)\n",
        "\n",
        "Create Spark temporary views for sales and products.\n",
        "\n",
        "**IMPORTANT!** Make sure the name of the SQL pool (`SQLPool01` below) matches the name of your SQL pool. In the toolbar, select **Spark(Scala)** as the Language for this cell.\n",
        ""
      ],
      "attachments": {}
    },
    {
      "cell_type": "code",
      "execution_count": null,
      "outputs": [],
      "metadata": {
        "diagram": {
          "activateDiagramType": 2,
          "chartConfig": {
            "category": "bar",
            "keys": [
              "Seasonality"
            ],
            "values": [
              "ProductId"
            ],
            "yLabel": "ProductId",
            "xLabel": "Seasonality",
            "aggregation": "SUM",
            "aggByBackend": false
          },
          "aggData": {
            "ProductId": {
              "1": 703228,
              "2": 267653,
              "3": 220140
            }
          },
          "isSummary": false,
          "previewData": {
            "rows": [
              {
                "ProductId": 1,
                "Seasonality": 1,
                "Price": 34.48,
                "Profit": 12.15
              },
              {
                "ProductId": 2,
                "Seasonality": 3,
                "Price": 39.78,
                "Profit": 10.48
              },
              {
                "ProductId": 3,
                "Seasonality": 2,
                "Price": 7.7,
                "Profit": 2.37
              },
              {
                "ProductId": 4,
                "Seasonality": 3,
                "Price": 27.46,
                "Profit": 7.79
              },
              {
                "ProductId": 5,
                "Seasonality": 1,
                "Price": 25.31,
                "Profit": 7.97
              },
              {
                "ProductId": 6,
                "Seasonality": 1,
                "Price": 28.31,
                "Profit": 8.77
              },
              {
                "ProductId": 7,
                "Seasonality": 3,
                "Price": 21.44,
                "Profit": 7.08
              },
              {
                "ProductId": 8,
                "Seasonality": 2,
                "Price": 23.15,
                "Profit": 6.8
              },
              {
                "ProductId": 9,
                "Seasonality": 3,
                "Price": 28.08,
                "Profit": 7.28
              },
              {
                "ProductId": 10,
                "Seasonality": 2,
                "Price": 9.91,
                "Profit": 3.69
              },
              {
                "ProductId": 11,
                "Seasonality": 1,
                "Price": 26.74,
                "Profit": 7.4
              },
              {
                "ProductId": 12,
                "Seasonality": 3,
                "Price": 26.45,
                "Profit": 7.91
              },
              {
                "ProductId": 13,
                "Seasonality": 3,
                "Price": 35.66,
                "Profit": 11.86
              },
              {
                "ProductId": 14,
                "Seasonality": 2,
                "Price": 31.62,
                "Profit": 8.47
              },
              {
                "ProductId": 15,
                "Seasonality": 1,
                "Price": 22.34,
                "Profit": 6.5
              },
              {
                "ProductId": 16,
                "Seasonality": 1,
                "Price": 24.57,
                "Profit": 8.92
              },
              {
                "ProductId": 17,
                "Seasonality": 3,
                "Price": 17.56,
                "Profit": 5.17
              },
              {
                "ProductId": 18,
                "Seasonality": 1,
                "Price": 33.61,
                "Profit": 10.25
              },
              {
                "ProductId": 19,
                "Seasonality": 2,
                "Price": 23.11,
                "Profit": 5.79
              },
              {
                "ProductId": 20,
                "Seasonality": 1,
                "Price": 22.37,
                "Profit": 5.71
              },
              {
                "ProductId": 21,
                "Seasonality": 2,
                "Price": 30.12,
                "Profit": 9.75
              },
              {
                "ProductId": 22,
                "Seasonality": 1,
                "Price": 25.93,
                "Profit": 6.59
              },
              {
                "ProductId": 23,
                "Seasonality": 2,
                "Price": 31.5,
                "Profit": 10.17
              },
              {
                "ProductId": 24,
                "Seasonality": 3,
                "Price": 22.28,
                "Profit": 7.24
              },
              {
                "ProductId": 25,
                "Seasonality": 1,
                "Price": 18.77,
                "Profit": 5.52
              },
              {
                "ProductId": 26,
                "Seasonality": 3,
                "Price": 34.05,
                "Profit": 10.4
              },
              {
                "ProductId": 27,
                "Seasonality": 1,
                "Price": 31.76,
                "Profit": 10.22
              },
              {
                "ProductId": 28,
                "Seasonality": 2,
                "Price": 18.83,
                "Profit": 7.01
              },
              {
                "ProductId": 29,
                "Seasonality": 1,
                "Price": 27.18,
                "Profit": 10.05
              },
              {
                "ProductId": 30,
                "Seasonality": 1,
                "Price": 20.8,
                "Profit": 5.95
              },
              {
                "ProductId": 31,
                "Seasonality": 1,
                "Price": 22.15,
                "Profit": 8.33
              },
              {
                "ProductId": 32,
                "Seasonality": 1,
                "Price": 38.1,
                "Profit": 11.45
              },
              {
                "ProductId": 33,
                "Seasonality": 1,
                "Price": 27.85,
                "Profit": 7.24
              },
              {
                "ProductId": 34,
                "Seasonality": 1,
                "Price": 22,
                "Profit": 6.26
              },
              {
                "ProductId": 35,
                "Seasonality": 3,
                "Price": 30.49,
                "Profit": 8.18
              },
              {
                "ProductId": 36,
                "Seasonality": 1,
                "Price": 27.1,
                "Profit": 7.86
              },
              {
                "ProductId": 37,
                "Seasonality": 1,
                "Price": 22.77,
                "Profit": 5.32
              },
              {
                "ProductId": 38,
                "Seasonality": 3,
                "Price": 33.22,
                "Profit": 10.79
              },
              {
                "ProductId": 39,
                "Seasonality": 2,
                "Price": 31.48,
                "Profit": 7.31
              },
              {
                "ProductId": 40,
                "Seasonality": 2,
                "Price": 18.23,
                "Profit": 4.89
              },
              {
                "ProductId": 41,
                "Seasonality": 1,
                "Price": 38.15,
                "Profit": 11.76
              },
              {
                "ProductId": 42,
                "Seasonality": 1,
                "Price": 37.1,
                "Profit": 11.79
              },
              {
                "ProductId": 43,
                "Seasonality": 1,
                "Price": 37.48,
                "Profit": 10.89
              },
              {
                "ProductId": 44,
                "Seasonality": 1,
                "Price": 12.6,
                "Profit": 3.74
              },
              {
                "ProductId": 45,
                "Seasonality": 1,
                "Price": 20.25,
                "Profit": 6.84
              },
              {
                "ProductId": 46,
                "Seasonality": 1,
                "Price": 25.91,
                "Profit": 8.8
              },
              {
                "ProductId": 47,
                "Seasonality": 1,
                "Price": 22.06,
                "Profit": 7.14
              },
              {
                "ProductId": 48,
                "Seasonality": 2,
                "Price": 35.55,
                "Profit": 9.75
              },
              {
                "ProductId": 49,
                "Seasonality": 1,
                "Price": 23.3,
                "Profit": 6.85
              },
              {
                "ProductId": 50,
                "Seasonality": 3,
                "Price": 25.46,
                "Profit": 6.73
              },
              {
                "ProductId": 51,
                "Seasonality": 3,
                "Price": 31.37,
                "Profit": 9.56
              },
              {
                "ProductId": 52,
                "Seasonality": 3,
                "Price": 21.76,
                "Profit": 6.75
              },
              {
                "ProductId": 53,
                "Seasonality": 3,
                "Price": 30.18,
                "Profit": 8.04
              },
              {
                "ProductId": 54,
                "Seasonality": 1,
                "Price": 30.64,
                "Profit": 9.57
              },
              {
                "ProductId": 55,
                "Seasonality": 1,
                "Price": 18.96,
                "Profit": 5.85
              },
              {
                "ProductId": 56,
                "Seasonality": 3,
                "Price": 33.3,
                "Profit": 8.92
              },
              {
                "ProductId": 57,
                "Seasonality": 1,
                "Price": 31.44,
                "Profit": 8.53
              },
              {
                "ProductId": 58,
                "Seasonality": 2,
                "Price": 22.1,
                "Profit": 5.83
              },
              {
                "ProductId": 59,
                "Seasonality": 1,
                "Price": 29.03,
                "Profit": 7.27
              },
              {
                "ProductId": 60,
                "Seasonality": 1,
                "Price": 28.11,
                "Profit": 11.04
              },
              {
                "ProductId": 61,
                "Seasonality": 2,
                "Price": 19.76,
                "Profit": 5.57
              },
              {
                "ProductId": 62,
                "Seasonality": 3,
                "Price": 28.11,
                "Profit": 8.94
              },
              {
                "ProductId": 63,
                "Seasonality": 3,
                "Price": 31.67,
                "Profit": 10.18
              },
              {
                "ProductId": 64,
                "Seasonality": 3,
                "Price": 31.28,
                "Profit": 9.69
              },
              {
                "ProductId": 65,
                "Seasonality": 3,
                "Price": 16.98,
                "Profit": 5.32
              },
              {
                "ProductId": 66,
                "Seasonality": 2,
                "Price": 28.73,
                "Profit": 8.89
              },
              {
                "ProductId": 67,
                "Seasonality": 2,
                "Price": 37.59,
                "Profit": 10.96
              },
              {
                "ProductId": 68,
                "Seasonality": 1,
                "Price": 22.94,
                "Profit": 6.74
              },
              {
                "ProductId": 69,
                "Seasonality": 1,
                "Price": 31.06,
                "Profit": 10.07
              },
              {
                "ProductId": 70,
                "Seasonality": 1,
                "Price": 34.32,
                "Profit": 11.08
              },
              {
                "ProductId": 71,
                "Seasonality": 1,
                "Price": 35.74,
                "Profit": 9.57
              },
              {
                "ProductId": 72,
                "Seasonality": 1,
                "Price": 26.03,
                "Profit": 8.24
              },
              {
                "ProductId": 73,
                "Seasonality": 1,
                "Price": 28.67,
                "Profit": 10.69
              },
              {
                "ProductId": 74,
                "Seasonality": 2,
                "Price": 27.01,
                "Profit": 7.83
              },
              {
                "ProductId": 75,
                "Seasonality": 1,
                "Price": 25.36,
                "Profit": 8.06
              },
              {
                "ProductId": 76,
                "Seasonality": 2,
                "Price": 23,
                "Profit": 6.07
              },
              {
                "ProductId": 77,
                "Seasonality": 1,
                "Price": 23.24,
                "Profit": 5.96
              },
              {
                "ProductId": 78,
                "Seasonality": 2,
                "Price": 29.42,
                "Profit": 9.71
              },
              {
                "ProductId": 79,
                "Seasonality": 2,
                "Price": 30.76,
                "Profit": 8.8
              },
              {
                "ProductId": 80,
                "Seasonality": 3,
                "Price": 27.7,
                "Profit": 7.38
              },
              {
                "ProductId": 81,
                "Seasonality": 1,
                "Price": 25.78,
                "Profit": 8.22
              },
              {
                "ProductId": 82,
                "Seasonality": 1,
                "Price": 31.72,
                "Profit": 8.96
              },
              {
                "ProductId": 83,
                "Seasonality": 1,
                "Price": 37.52,
                "Profit": 12.53
              },
              {
                "ProductId": 84,
                "Seasonality": 1,
                "Price": 23.17,
                "Profit": 7.44
              },
              {
                "ProductId": 85,
                "Seasonality": 1,
                "Price": 28.42,
                "Profit": 7.17
              },
              {
                "ProductId": 86,
                "Seasonality": 2,
                "Price": 10.41,
                "Profit": 3.55
              },
              {
                "ProductId": 87,
                "Seasonality": 1,
                "Price": 18.43,
                "Profit": 4.94
              },
              {
                "ProductId": 88,
                "Seasonality": 2,
                "Price": 36.45,
                "Profit": 12.27
              },
              {
                "ProductId": 89,
                "Seasonality": 1,
                "Price": 25.27,
                "Profit": 7.94
              },
              {
                "ProductId": 90,
                "Seasonality": 2,
                "Price": 28.7,
                "Profit": 9
              },
              {
                "ProductId": 91,
                "Seasonality": 1,
                "Price": 31.25,
                "Profit": 9.98
              },
              {
                "ProductId": 92,
                "Seasonality": 3,
                "Price": 15.55,
                "Profit": 4.73
              },
              {
                "ProductId": 93,
                "Seasonality": 1,
                "Price": 19.94,
                "Profit": 4.71
              },
              {
                "ProductId": 94,
                "Seasonality": 1,
                "Price": 28.56,
                "Profit": 8.4
              },
              {
                "ProductId": 95,
                "Seasonality": 1,
                "Price": 32.99,
                "Profit": 11.05
              },
              {
                "ProductId": 96,
                "Seasonality": 3,
                "Price": 42.08,
                "Profit": 13.1
              },
              {
                "ProductId": 97,
                "Seasonality": 1,
                "Price": 17.4,
                "Profit": 5.46
              },
              {
                "ProductId": 98,
                "Seasonality": 3,
                "Price": 27.75,
                "Profit": 7.79
              },
              {
                "ProductId": 99,
                "Seasonality": 2,
                "Price": 28.36,
                "Profit": 7.84
              },
              {
                "ProductId": 100,
                "Seasonality": 2,
                "Price": 26.07,
                "Profit": 8.25
              },
              {
                "ProductId": 101,
                "Seasonality": 1,
                "Price": 42.5,
                "Profit": 12.25
              },
              {
                "ProductId": 102,
                "Seasonality": 1,
                "Price": 23.05,
                "Profit": 5.66
              },
              {
                "ProductId": 103,
                "Seasonality": 1,
                "Price": 25.89,
                "Profit": 7.05
              },
              {
                "ProductId": 104,
                "Seasonality": 1,
                "Price": 35.23,
                "Profit": 10.97
              },
              {
                "ProductId": 105,
                "Seasonality": 1,
                "Price": 34.36,
                "Profit": 10.51
              },
              {
                "ProductId": 106,
                "Seasonality": 3,
                "Price": 30.3,
                "Profit": 9.67
              },
              {
                "ProductId": 107,
                "Seasonality": 1,
                "Price": 21.59,
                "Profit": 6.54
              },
              {
                "ProductId": 108,
                "Seasonality": 1,
                "Price": 11.71,
                "Profit": 3.67
              },
              {
                "ProductId": 109,
                "Seasonality": 3,
                "Price": 25.99,
                "Profit": 6.18
              },
              {
                "ProductId": 110,
                "Seasonality": 1,
                "Price": 28.41,
                "Profit": 10
              },
              {
                "ProductId": 111,
                "Seasonality": 3,
                "Price": 26.35,
                "Profit": 8.08
              },
              {
                "ProductId": 112,
                "Seasonality": 3,
                "Price": 22.75,
                "Profit": 6.24
              },
              {
                "ProductId": 113,
                "Seasonality": 1,
                "Price": 24.99,
                "Profit": 6.43
              },
              {
                "ProductId": 114,
                "Seasonality": 2,
                "Price": 38.48,
                "Profit": 11.09
              },
              {
                "ProductId": 115,
                "Seasonality": 1,
                "Price": 30.79,
                "Profit": 7.83
              },
              {
                "ProductId": 116,
                "Seasonality": 1,
                "Price": 16.46,
                "Profit": 4.21
              },
              {
                "ProductId": 117,
                "Seasonality": 3,
                "Price": 25.5,
                "Profit": 7.83
              },
              {
                "ProductId": 118,
                "Seasonality": 1,
                "Price": 26.75,
                "Profit": 7.82
              },
              {
                "ProductId": 119,
                "Seasonality": 2,
                "Price": 31.21,
                "Profit": 7.3
              },
              {
                "ProductId": 120,
                "Seasonality": 3,
                "Price": 28.11,
                "Profit": 8.68
              },
              {
                "ProductId": 121,
                "Seasonality": 2,
                "Price": 20.91,
                "Profit": 6.51
              },
              {
                "ProductId": 122,
                "Seasonality": 1,
                "Price": 27.01,
                "Profit": 9.06
              },
              {
                "ProductId": 123,
                "Seasonality": 1,
                "Price": 27.99,
                "Profit": 7.7
              },
              {
                "ProductId": 124,
                "Seasonality": 1,
                "Price": 26.15,
                "Profit": 7.04
              },
              {
                "ProductId": 125,
                "Seasonality": 1,
                "Price": 24.62,
                "Profit": 7.32
              },
              {
                "ProductId": 126,
                "Seasonality": 1,
                "Price": 31.37,
                "Profit": 8.77
              },
              {
                "ProductId": 127,
                "Seasonality": 1,
                "Price": 23.23,
                "Profit": 8.22
              },
              {
                "ProductId": 128,
                "Seasonality": 1,
                "Price": 25.06,
                "Profit": 9.28
              },
              {
                "ProductId": 129,
                "Seasonality": 2,
                "Price": 25.69,
                "Profit": 8.75
              },
              {
                "ProductId": 130,
                "Seasonality": 1,
                "Price": 19.9,
                "Profit": 7.25
              },
              {
                "ProductId": 131,
                "Seasonality": 1,
                "Price": 31.11,
                "Profit": 9.59
              },
              {
                "ProductId": 132,
                "Seasonality": 3,
                "Price": 34.18,
                "Profit": 8.24
              },
              {
                "ProductId": 133,
                "Seasonality": 3,
                "Price": 22.63,
                "Profit": 6.56
              },
              {
                "ProductId": 134,
                "Seasonality": 1,
                "Price": 29.16,
                "Profit": 9.13
              },
              {
                "ProductId": 135,
                "Seasonality": 3,
                "Price": 36.24,
                "Profit": 11.82
              },
              {
                "ProductId": 136,
                "Seasonality": 2,
                "Price": 23.44,
                "Profit": 6.72
              },
              {
                "ProductId": 137,
                "Seasonality": 1,
                "Price": 17.97,
                "Profit": 5.16
              },
              {
                "ProductId": 138,
                "Seasonality": 1,
                "Price": 24.72,
                "Profit": 8.06
              },
              {
                "ProductId": 139,
                "Seasonality": 3,
                "Price": 21.32,
                "Profit": 5.94
              },
              {
                "ProductId": 140,
                "Seasonality": 3,
                "Price": 26.26,
                "Profit": 5.79
              },
              {
                "ProductId": 141,
                "Seasonality": 1,
                "Price": 22.13,
                "Profit": 6.12
              },
              {
                "ProductId": 142,
                "Seasonality": 2,
                "Price": 26.62,
                "Profit": 6.75
              },
              {
                "ProductId": 143,
                "Seasonality": 2,
                "Price": 26.63,
                "Profit": 7.81
              },
              {
                "ProductId": 144,
                "Seasonality": 1,
                "Price": 30.48,
                "Profit": 8.09
              },
              {
                "ProductId": 145,
                "Seasonality": 3,
                "Price": 20.58,
                "Profit": 6.09
              },
              {
                "ProductId": 146,
                "Seasonality": 1,
                "Price": 14.52,
                "Profit": 4.59
              },
              {
                "ProductId": 147,
                "Seasonality": 3,
                "Price": 25.15,
                "Profit": 7.31
              },
              {
                "ProductId": 148,
                "Seasonality": 2,
                "Price": 26.65,
                "Profit": 7.14
              },
              {
                "ProductId": 149,
                "Seasonality": 3,
                "Price": 37.76,
                "Profit": 10.1
              },
              {
                "ProductId": 150,
                "Seasonality": 1,
                "Price": 26.35,
                "Profit": 9.07
              },
              {
                "ProductId": 151,
                "Seasonality": 1,
                "Price": 30.41,
                "Profit": 9.75
              },
              {
                "ProductId": 152,
                "Seasonality": 3,
                "Price": 25.29,
                "Profit": 6.78
              },
              {
                "ProductId": 153,
                "Seasonality": 1,
                "Price": 27.43,
                "Profit": 7
              },
              {
                "ProductId": 154,
                "Seasonality": 3,
                "Price": 26.14,
                "Profit": 8.08
              },
              {
                "ProductId": 155,
                "Seasonality": 1,
                "Price": 29.99,
                "Profit": 7.68
              },
              {
                "ProductId": 156,
                "Seasonality": 1,
                "Price": 25.9,
                "Profit": 7.8
              },
              {
                "ProductId": 157,
                "Seasonality": 1,
                "Price": 28.87,
                "Profit": 6.56
              },
              {
                "ProductId": 158,
                "Seasonality": 3,
                "Price": 22.62,
                "Profit": 7.77
              },
              {
                "ProductId": 159,
                "Seasonality": 1,
                "Price": 32.22,
                "Profit": 6.68
              },
              {
                "ProductId": 160,
                "Seasonality": 3,
                "Price": 20.8,
                "Profit": 6.41
              },
              {
                "ProductId": 161,
                "Seasonality": 1,
                "Price": 30.14,
                "Profit": 6.83
              },
              {
                "ProductId": 162,
                "Seasonality": 3,
                "Price": 32.21,
                "Profit": 8.26
              },
              {
                "ProductId": 163,
                "Seasonality": 1,
                "Price": 32.58,
                "Profit": 11.58
              },
              {
                "ProductId": 164,
                "Seasonality": 2,
                "Price": 21.05,
                "Profit": 6.14
              },
              {
                "ProductId": 165,
                "Seasonality": 2,
                "Price": 20,
                "Profit": 6.98
              },
              {
                "ProductId": 166,
                "Seasonality": 1,
                "Price": 24.79,
                "Profit": 7.85
              },
              {
                "ProductId": 167,
                "Seasonality": 1,
                "Price": 28.69,
                "Profit": 9.34
              },
              {
                "ProductId": 168,
                "Seasonality": 1,
                "Price": 14.65,
                "Profit": 4.3
              },
              {
                "ProductId": 169,
                "Seasonality": 1,
                "Price": 38.79,
                "Profit": 13.19
              },
              {
                "ProductId": 170,
                "Seasonality": 1,
                "Price": 27.85,
                "Profit": 6.94
              },
              {
                "ProductId": 171,
                "Seasonality": 2,
                "Price": 24.5,
                "Profit": 8.31
              },
              {
                "ProductId": 172,
                "Seasonality": 2,
                "Price": 36.97,
                "Profit": 8.3
              },
              {
                "ProductId": 173,
                "Seasonality": 1,
                "Price": 23.83,
                "Profit": 7.31
              },
              {
                "ProductId": 174,
                "Seasonality": 1,
                "Price": 20.32,
                "Profit": 5.86
              },
              {
                "ProductId": 175,
                "Seasonality": 1,
                "Price": 33.53,
                "Profit": 11.35
              },
              {
                "ProductId": 176,
                "Seasonality": 2,
                "Price": 20.55,
                "Profit": 7.07
              },
              {
                "ProductId": 177,
                "Seasonality": 3,
                "Price": 22.98,
                "Profit": 8.15
              },
              {
                "ProductId": 178,
                "Seasonality": 3,
                "Price": 35.6,
                "Profit": 10.46
              },
              {
                "ProductId": 179,
                "Seasonality": 2,
                "Price": 26.44,
                "Profit": 6.71
              },
              {
                "ProductId": 180,
                "Seasonality": 1,
                "Price": 25.81,
                "Profit": 8.31
              },
              {
                "ProductId": 181,
                "Seasonality": 2,
                "Price": 9.89,
                "Profit": 2.89
              },
              {
                "ProductId": 182,
                "Seasonality": 2,
                "Price": 38.36,
                "Profit": 12.02
              },
              {
                "ProductId": 183,
                "Seasonality": 3,
                "Price": 33.96,
                "Profit": 9.99
              },
              {
                "ProductId": 184,
                "Seasonality": 1,
                "Price": 26.06,
                "Profit": 7.79
              },
              {
                "ProductId": 185,
                "Seasonality": 2,
                "Price": 25.67,
                "Profit": 6.72
              },
              {
                "ProductId": 186,
                "Seasonality": 1,
                "Price": 23.86,
                "Profit": 6.79
              },
              {
                "ProductId": 187,
                "Seasonality": 1,
                "Price": 31.09,
                "Profit": 8.6
              },
              {
                "ProductId": 188,
                "Seasonality": 2,
                "Price": 30.04,
                "Profit": 9.25
              },
              {
                "ProductId": 189,
                "Seasonality": 1,
                "Price": 27.54,
                "Profit": 9.7
              },
              {
                "ProductId": 190,
                "Seasonality": 2,
                "Price": 24.65,
                "Profit": 6.7
              },
              {
                "ProductId": 191,
                "Seasonality": 3,
                "Price": 29.99,
                "Profit": 9.32
              },
              {
                "ProductId": 192,
                "Seasonality": 1,
                "Price": 30.86,
                "Profit": 9.44
              },
              {
                "ProductId": 193,
                "Seasonality": 1,
                "Price": 37.01,
                "Profit": 11.08
              },
              {
                "ProductId": 194,
                "Seasonality": 1,
                "Price": 28.44,
                "Profit": 9.21
              },
              {
                "ProductId": 195,
                "Seasonality": 2,
                "Price": 24.14,
                "Profit": 7.18
              },
              {
                "ProductId": 196,
                "Seasonality": 1,
                "Price": 23.07,
                "Profit": 7.37
              },
              {
                "ProductId": 197,
                "Seasonality": 1,
                "Price": 21.16,
                "Profit": 5.8
              },
              {
                "ProductId": 198,
                "Seasonality": 3,
                "Price": 30.82,
                "Profit": 10.45
              },
              {
                "ProductId": 199,
                "Seasonality": 1,
                "Price": 33.33,
                "Profit": 9.97
              },
              {
                "ProductId": 200,
                "Seasonality": 2,
                "Price": 24.78,
                "Profit": 7.16
              },
              {
                "ProductId": 201,
                "Seasonality": 1,
                "Price": 34.01,
                "Profit": 8.94
              },
              {
                "ProductId": 202,
                "Seasonality": 1,
                "Price": 24.23,
                "Profit": 6.81
              },
              {
                "ProductId": 203,
                "Seasonality": 3,
                "Price": 31.69,
                "Profit": 9.35
              },
              {
                "ProductId": 204,
                "Seasonality": 1,
                "Price": 31.12,
                "Profit": 8.42
              },
              {
                "ProductId": 205,
                "Seasonality": 1,
                "Price": 39.18,
                "Profit": 13.17
              },
              {
                "ProductId": 206,
                "Seasonality": 2,
                "Price": 31.34,
                "Profit": 9.23
              },
              {
                "ProductId": 207,
                "Seasonality": 3,
                "Price": 18.06,
                "Profit": 5.58
              },
              {
                "ProductId": 208,
                "Seasonality": 3,
                "Price": 31.61,
                "Profit": 10.02
              },
              {
                "ProductId": 209,
                "Seasonality": 2,
                "Price": 33.45,
                "Profit": 9.15
              },
              {
                "ProductId": 210,
                "Seasonality": 3,
                "Price": 28.81,
                "Profit": 10
              },
              {
                "ProductId": 211,
                "Seasonality": 1,
                "Price": 30.64,
                "Profit": 7.34
              },
              {
                "ProductId": 212,
                "Seasonality": 1,
                "Price": 23.89,
                "Profit": 6.96
              },
              {
                "ProductId": 213,
                "Seasonality": 1,
                "Price": 29.07,
                "Profit": 7.32
              },
              {
                "ProductId": 214,
                "Seasonality": 2,
                "Price": 36.24,
                "Profit": 8.4
              },
              {
                "ProductId": 215,
                "Seasonality": 1,
                "Price": 32.65,
                "Profit": 7.63
              },
              {
                "ProductId": 216,
                "Seasonality": 3,
                "Price": 29.66,
                "Profit": 8.22
              },
              {
                "ProductId": 217,
                "Seasonality": 3,
                "Price": 36.63,
                "Profit": 11.29
              },
              {
                "ProductId": 218,
                "Seasonality": 3,
                "Price": 22.25,
                "Profit": 5.16
              },
              {
                "ProductId": 219,
                "Seasonality": 1,
                "Price": 30.75,
                "Profit": 10.25
              },
              {
                "ProductId": 220,
                "Seasonality": 1,
                "Price": 27.6,
                "Profit": 6.98
              },
              {
                "ProductId": 221,
                "Seasonality": 1,
                "Price": 27.35,
                "Profit": 7.8
              },
              {
                "ProductId": 222,
                "Seasonality": 2,
                "Price": 20.95,
                "Profit": 7.19
              },
              {
                "ProductId": 223,
                "Seasonality": 1,
                "Price": 30.23,
                "Profit": 9.39
              },
              {
                "ProductId": 224,
                "Seasonality": 2,
                "Price": 41.99,
                "Profit": 12.93
              },
              {
                "ProductId": 225,
                "Seasonality": 3,
                "Price": 25.16,
                "Profit": 7.11
              },
              {
                "ProductId": 226,
                "Seasonality": 2,
                "Price": 23.93,
                "Profit": 7.44
              },
              {
                "ProductId": 227,
                "Seasonality": 2,
                "Price": 37.82,
                "Profit": 10.57
              },
              {
                "ProductId": 228,
                "Seasonality": 1,
                "Price": 27.17,
                "Profit": 8.92
              },
              {
                "ProductId": 229,
                "Seasonality": 1,
                "Price": 39.6,
                "Profit": 10.14
              },
              {
                "ProductId": 230,
                "Seasonality": 1,
                "Price": 31.95,
                "Profit": 9.32
              },
              {
                "ProductId": 231,
                "Seasonality": 1,
                "Price": 25.58,
                "Profit": 8.34
              },
              {
                "ProductId": 232,
                "Seasonality": 1,
                "Price": 16.92,
                "Profit": 4.11
              },
              {
                "ProductId": 233,
                "Seasonality": 1,
                "Price": 26.92,
                "Profit": 7.54
              },
              {
                "ProductId": 234,
                "Seasonality": 1,
                "Price": 32.07,
                "Profit": 10.39
              },
              {
                "ProductId": 235,
                "Seasonality": 1,
                "Price": 25.18,
                "Profit": 8.51
              },
              {
                "ProductId": 236,
                "Seasonality": 1,
                "Price": 25.24,
                "Profit": 6.8
              },
              {
                "ProductId": 237,
                "Seasonality": 1,
                "Price": 23.09,
                "Profit": 6.29
              },
              {
                "ProductId": 238,
                "Seasonality": 1,
                "Price": 28.09,
                "Profit": 9.94
              },
              {
                "ProductId": 239,
                "Seasonality": 1,
                "Price": 27.55,
                "Profit": 10.2
              },
              {
                "ProductId": 240,
                "Seasonality": 1,
                "Price": 26.43,
                "Profit": 8.03
              },
              {
                "ProductId": 241,
                "Seasonality": 1,
                "Price": 26.56,
                "Profit": 7.99
              },
              {
                "ProductId": 242,
                "Seasonality": 1,
                "Price": 26.14,
                "Profit": 7.16
              },
              {
                "ProductId": 243,
                "Seasonality": 1,
                "Price": 27.26,
                "Profit": 8.53
              },
              {
                "ProductId": 244,
                "Seasonality": 1,
                "Price": 20.99,
                "Profit": 6.93
              },
              {
                "ProductId": 245,
                "Seasonality": 3,
                "Price": 36.86,
                "Profit": 9.88
              },
              {
                "ProductId": 246,
                "Seasonality": 3,
                "Price": 22.08,
                "Profit": 7.34
              },
              {
                "ProductId": 247,
                "Seasonality": 2,
                "Price": 29.12,
                "Profit": 8.14
              },
              {
                "ProductId": 248,
                "Seasonality": 1,
                "Price": 25.49,
                "Profit": 6.67
              },
              {
                "ProductId": 249,
                "Seasonality": 2,
                "Price": 30.04,
                "Profit": 10.37
              },
              {
                "ProductId": 250,
                "Seasonality": 3,
                "Price": 38.31,
                "Profit": 9.34
              },
              {
                "ProductId": 251,
                "Seasonality": 1,
                "Price": 22.98,
                "Profit": 6.21
              },
              {
                "ProductId": 252,
                "Seasonality": 2,
                "Price": 19.54,
                "Profit": 7.39
              },
              {
                "ProductId": 253,
                "Seasonality": 1,
                "Price": 19.49,
                "Profit": 5.94
              },
              {
                "ProductId": 254,
                "Seasonality": 1,
                "Price": 33.47,
                "Profit": 10.31
              },
              {
                "ProductId": 255,
                "Seasonality": 2,
                "Price": 9.43,
                "Profit": 2.4
              },
              {
                "ProductId": 256,
                "Seasonality": 1,
                "Price": 32.4,
                "Profit": 9.63
              },
              {
                "ProductId": 257,
                "Seasonality": 1,
                "Price": 37.91,
                "Profit": 11.05
              },
              {
                "ProductId": 258,
                "Seasonality": 2,
                "Price": 21.17,
                "Profit": 9.01
              },
              {
                "ProductId": 259,
                "Seasonality": 2,
                "Price": 31.52,
                "Profit": 10.01
              },
              {
                "ProductId": 260,
                "Seasonality": 2,
                "Price": 20.32,
                "Profit": 4.41
              },
              {
                "ProductId": 261,
                "Seasonality": 1,
                "Price": 26.57,
                "Profit": 9.4
              },
              {
                "ProductId": 262,
                "Seasonality": 1,
                "Price": 29.74,
                "Profit": 7.3
              },
              {
                "ProductId": 263,
                "Seasonality": 1,
                "Price": 27.2,
                "Profit": 7.97
              },
              {
                "ProductId": 264,
                "Seasonality": 3,
                "Price": 36.99,
                "Profit": 9.46
              },
              {
                "ProductId": 265,
                "Seasonality": 3,
                "Price": 23.64,
                "Profit": 6.4
              },
              {
                "ProductId": 266,
                "Seasonality": 3,
                "Price": 31.46,
                "Profit": 9.65
              },
              {
                "ProductId": 267,
                "Seasonality": 1,
                "Price": 26.92,
                "Profit": 7.42
              },
              {
                "ProductId": 268,
                "Seasonality": 3,
                "Price": 31.51,
                "Profit": 8.62
              },
              {
                "ProductId": 269,
                "Seasonality": 3,
                "Price": 28.11,
                "Profit": 7.63
              },
              {
                "ProductId": 270,
                "Seasonality": 1,
                "Price": 25.17,
                "Profit": 7.06
              },
              {
                "ProductId": 271,
                "Seasonality": 1,
                "Price": 30.09,
                "Profit": 8.72
              },
              {
                "ProductId": 272,
                "Seasonality": 2,
                "Price": 27.05,
                "Profit": 8.42
              },
              {
                "ProductId": 273,
                "Seasonality": 2,
                "Price": 26.99,
                "Profit": 8.27
              },
              {
                "ProductId": 274,
                "Seasonality": 1,
                "Price": 19.5,
                "Profit": 5.79
              },
              {
                "ProductId": 275,
                "Seasonality": 1,
                "Price": 38.1,
                "Profit": 11.03
              },
              {
                "ProductId": 276,
                "Seasonality": 3,
                "Price": 32.6,
                "Profit": 10.85
              },
              {
                "ProductId": 277,
                "Seasonality": 1,
                "Price": 31.01,
                "Profit": 8.24
              },
              {
                "ProductId": 278,
                "Seasonality": 1,
                "Price": 24.5,
                "Profit": 6.01
              },
              {
                "ProductId": 279,
                "Seasonality": 3,
                "Price": 34.2,
                "Profit": 9.89
              },
              {
                "ProductId": 280,
                "Seasonality": 3,
                "Price": 23.04,
                "Profit": 6.97
              },
              {
                "ProductId": 281,
                "Seasonality": 2,
                "Price": 21.92,
                "Profit": 6.18
              },
              {
                "ProductId": 282,
                "Seasonality": 2,
                "Price": 22.85,
                "Profit": 7.13
              },
              {
                "ProductId": 283,
                "Seasonality": 2,
                "Price": 14.55,
                "Profit": 3.46
              },
              {
                "ProductId": 284,
                "Seasonality": 1,
                "Price": 24.91,
                "Profit": 7.23
              },
              {
                "ProductId": 285,
                "Seasonality": 1,
                "Price": 28.34,
                "Profit": 9.04
              },
              {
                "ProductId": 286,
                "Seasonality": 1,
                "Price": 32.76,
                "Profit": 11.79
              },
              {
                "ProductId": 287,
                "Seasonality": 2,
                "Price": 33.7,
                "Profit": 10.13
              },
              {
                "ProductId": 288,
                "Seasonality": 1,
                "Price": 26.47,
                "Profit": 7.01
              },
              {
                "ProductId": 289,
                "Seasonality": 1,
                "Price": 24.67,
                "Profit": 6.7
              },
              {
                "ProductId": 290,
                "Seasonality": 1,
                "Price": 34.23,
                "Profit": 12.15
              },
              {
                "ProductId": 291,
                "Seasonality": 1,
                "Price": 26.71,
                "Profit": 8.4
              },
              {
                "ProductId": 292,
                "Seasonality": 1,
                "Price": 33.74,
                "Profit": 8.12
              },
              {
                "ProductId": 293,
                "Seasonality": 1,
                "Price": 36.71,
                "Profit": 11.82
              },
              {
                "ProductId": 294,
                "Seasonality": 3,
                "Price": 29.22,
                "Profit": 8.44
              },
              {
                "ProductId": 295,
                "Seasonality": 3,
                "Price": 28.68,
                "Profit": 9.5
              },
              {
                "ProductId": 296,
                "Seasonality": 1,
                "Price": 30.85,
                "Profit": 6.79
              },
              {
                "ProductId": 297,
                "Seasonality": 1,
                "Price": 29.55,
                "Profit": 10.81
              },
              {
                "ProductId": 298,
                "Seasonality": 1,
                "Price": 23.46,
                "Profit": 6.92
              },
              {
                "ProductId": 299,
                "Seasonality": 1,
                "Price": 45.5,
                "Profit": 15.44
              },
              {
                "ProductId": 300,
                "Seasonality": 1,
                "Price": 30.01,
                "Profit": 8.02
              },
              {
                "ProductId": 301,
                "Seasonality": 1,
                "Price": 28.79,
                "Profit": 8.48
              },
              {
                "ProductId": 302,
                "Seasonality": 3,
                "Price": 25.83,
                "Profit": 7.64
              },
              {
                "ProductId": 303,
                "Seasonality": 1,
                "Price": 36.9,
                "Profit": 11.08
              },
              {
                "ProductId": 304,
                "Seasonality": 1,
                "Price": 22.8,
                "Profit": 7.58
              },
              {
                "ProductId": 305,
                "Seasonality": 1,
                "Price": 33.63,
                "Profit": 9.6
              },
              {
                "ProductId": 306,
                "Seasonality": 2,
                "Price": 20.62,
                "Profit": 6.61
              },
              {
                "ProductId": 307,
                "Seasonality": 1,
                "Price": 27.74,
                "Profit": 9.32
              },
              {
                "ProductId": 308,
                "Seasonality": 3,
                "Price": 25.72,
                "Profit": 5.94
              },
              {
                "ProductId": 309,
                "Seasonality": 1,
                "Price": 21.81,
                "Profit": 7.34
              },
              {
                "ProductId": 310,
                "Seasonality": 3,
                "Price": 24.47,
                "Profit": 7.24
              },
              {
                "ProductId": 311,
                "Seasonality": 1,
                "Price": 33.57,
                "Profit": 10.15
              },
              {
                "ProductId": 312,
                "Seasonality": 1,
                "Price": 29.37,
                "Profit": 9.04
              },
              {
                "ProductId": 313,
                "Seasonality": 3,
                "Price": 30.17,
                "Profit": 9.49
              },
              {
                "ProductId": 314,
                "Seasonality": 2,
                "Price": 22.07,
                "Profit": 6.07
              },
              {
                "ProductId": 315,
                "Seasonality": 1,
                "Price": 29.72,
                "Profit": 10.32
              },
              {
                "ProductId": 316,
                "Seasonality": 1,
                "Price": 28.06,
                "Profit": 9.22
              },
              {
                "ProductId": 317,
                "Seasonality": 1,
                "Price": 26.88,
                "Profit": 8.53
              },
              {
                "ProductId": 318,
                "Seasonality": 1,
                "Price": 22.15,
                "Profit": 5.99
              },
              {
                "ProductId": 319,
                "Seasonality": 1,
                "Price": 29.38,
                "Profit": 9.87
              },
              {
                "ProductId": 320,
                "Seasonality": 2,
                "Price": 22.53,
                "Profit": 5.94
              },
              {
                "ProductId": 321,
                "Seasonality": 1,
                "Price": 29.57,
                "Profit": 9.67
              },
              {
                "ProductId": 322,
                "Seasonality": 3,
                "Price": 30.55,
                "Profit": 10.27
              },
              {
                "ProductId": 323,
                "Seasonality": 1,
                "Price": 35.38,
                "Profit": 9.9
              },
              {
                "ProductId": 324,
                "Seasonality": 3,
                "Price": 30.84,
                "Profit": 9.45
              },
              {
                "ProductId": 325,
                "Seasonality": 1,
                "Price": 25.04,
                "Profit": 6.57
              },
              {
                "ProductId": 326,
                "Seasonality": 1,
                "Price": 28.99,
                "Profit": 7.93
              },
              {
                "ProductId": 327,
                "Seasonality": 1,
                "Price": 26.41,
                "Profit": 9
              },
              {
                "ProductId": 328,
                "Seasonality": 1,
                "Price": 19.88,
                "Profit": 6.68
              },
              {
                "ProductId": 329,
                "Seasonality": 1,
                "Price": 27.21,
                "Profit": 8.82
              },
              {
                "ProductId": 330,
                "Seasonality": 1,
                "Price": 28.28,
                "Profit": 7.54
              },
              {
                "ProductId": 331,
                "Seasonality": 2,
                "Price": 31.4,
                "Profit": 8.56
              },
              {
                "ProductId": 332,
                "Seasonality": 1,
                "Price": 29.82,
                "Profit": 10
              },
              {
                "ProductId": 333,
                "Seasonality": 3,
                "Price": 27.84,
                "Profit": 9.19
              },
              {
                "ProductId": 334,
                "Seasonality": 2,
                "Price": 27.59,
                "Profit": 9.51
              },
              {
                "ProductId": 335,
                "Seasonality": 1,
                "Price": 30.19,
                "Profit": 9.83
              },
              {
                "ProductId": 336,
                "Seasonality": 2,
                "Price": 31.27,
                "Profit": 7.49
              },
              {
                "ProductId": 337,
                "Seasonality": 1,
                "Price": 24.18,
                "Profit": 7.4
              },
              {
                "ProductId": 338,
                "Seasonality": 2,
                "Price": 29.11,
                "Profit": 8.25
              },
              {
                "ProductId": 339,
                "Seasonality": 3,
                "Price": 26.6,
                "Profit": 7.82
              },
              {
                "ProductId": 340,
                "Seasonality": 2,
                "Price": 29.2,
                "Profit": 10.01
              },
              {
                "ProductId": 341,
                "Seasonality": 3,
                "Price": 34.3,
                "Profit": 10.21
              },
              {
                "ProductId": 342,
                "Seasonality": 2,
                "Price": 28.56,
                "Profit": 8.47
              },
              {
                "ProductId": 343,
                "Seasonality": 1,
                "Price": 29.44,
                "Profit": 9.91
              },
              {
                "ProductId": 344,
                "Seasonality": 3,
                "Price": 32,
                "Profit": 9.06
              },
              {
                "ProductId": 345,
                "Seasonality": 1,
                "Price": 26.48,
                "Profit": 6.89
              },
              {
                "ProductId": 346,
                "Seasonality": 1,
                "Price": 30.59,
                "Profit": 8.16
              },
              {
                "ProductId": 347,
                "Seasonality": 3,
                "Price": 29.59,
                "Profit": 10.02
              },
              {
                "ProductId": 348,
                "Seasonality": 3,
                "Price": 32.12,
                "Profit": 7.97
              },
              {
                "ProductId": 349,
                "Seasonality": 2,
                "Price": 21.33,
                "Profit": 5.95
              },
              {
                "ProductId": 350,
                "Seasonality": 2,
                "Price": 32.81,
                "Profit": 10.11
              },
              {
                "ProductId": 351,
                "Seasonality": 2,
                "Price": 18.58,
                "Profit": 5.95
              },
              {
                "ProductId": 352,
                "Seasonality": 1,
                "Price": 30.18,
                "Profit": 9.37
              },
              {
                "ProductId": 353,
                "Seasonality": 1,
                "Price": 24.49,
                "Profit": 6.28
              },
              {
                "ProductId": 354,
                "Seasonality": 1,
                "Price": 23.88,
                "Profit": 6.52
              },
              {
                "ProductId": 355,
                "Seasonality": 1,
                "Price": 30.54,
                "Profit": 6.77
              },
              {
                "ProductId": 356,
                "Seasonality": 2,
                "Price": 39.02,
                "Profit": 12.8
              },
              {
                "ProductId": 357,
                "Seasonality": 2,
                "Price": 21.47,
                "Profit": 6.28
              },
              {
                "ProductId": 358,
                "Seasonality": 3,
                "Price": 32.94,
                "Profit": 10.65
              },
              {
                "ProductId": 359,
                "Seasonality": 1,
                "Price": 32.47,
                "Profit": 9.57
              },
              {
                "ProductId": 360,
                "Seasonality": 2,
                "Price": 32.16,
                "Profit": 7.47
              },
              {
                "ProductId": 361,
                "Seasonality": 3,
                "Price": 23.73,
                "Profit": 5.97
              },
              {
                "ProductId": 362,
                "Seasonality": 2,
                "Price": 25.38,
                "Profit": 7.36
              },
              {
                "ProductId": 363,
                "Seasonality": 3,
                "Price": 24.9,
                "Profit": 8.58
              },
              {
                "ProductId": 364,
                "Seasonality": 2,
                "Price": 25.32,
                "Profit": 9.08
              },
              {
                "ProductId": 365,
                "Seasonality": 1,
                "Price": 28.38,
                "Profit": 8.95
              },
              {
                "ProductId": 366,
                "Seasonality": 3,
                "Price": 30.33,
                "Profit": 8.47
              },
              {
                "ProductId": 367,
                "Seasonality": 1,
                "Price": 29.25,
                "Profit": 8.62
              },
              {
                "ProductId": 368,
                "Seasonality": 1,
                "Price": 29.11,
                "Profit": 8.23
              },
              {
                "ProductId": 369,
                "Seasonality": 3,
                "Price": 28.61,
                "Profit": 10.05
              },
              {
                "ProductId": 370,
                "Seasonality": 3,
                "Price": 31.39,
                "Profit": 8.49
              },
              {
                "ProductId": 371,
                "Seasonality": 1,
                "Price": 23.13,
                "Profit": 6.28
              },
              {
                "ProductId": 372,
                "Seasonality": 1,
                "Price": 28.29,
                "Profit": 8.74
              },
              {
                "ProductId": 373,
                "Seasonality": 1,
                "Price": 19.18,
                "Profit": 6.09
              },
              {
                "ProductId": 374,
                "Seasonality": 1,
                "Price": 28.53,
                "Profit": 8.97
              },
              {
                "ProductId": 375,
                "Seasonality": 2,
                "Price": 30.03,
                "Profit": 11.02
              },
              {
                "ProductId": 376,
                "Seasonality": 1,
                "Price": 20.53,
                "Profit": 5.39
              },
              {
                "ProductId": 377,
                "Seasonality": 1,
                "Price": 27.44,
                "Profit": 8.28
              },
              {
                "ProductId": 378,
                "Seasonality": 1,
                "Price": 28.78,
                "Profit": 9.07
              },
              {
                "ProductId": 379,
                "Seasonality": 2,
                "Price": 24.8,
                "Profit": 7.09
              },
              {
                "ProductId": 380,
                "Seasonality": 1,
                "Price": 17.67,
                "Profit": 5.2
              },
              {
                "ProductId": 381,
                "Seasonality": 3,
                "Price": 25.11,
                "Profit": 7.8
              },
              {
                "ProductId": 382,
                "Seasonality": 3,
                "Price": 21.25,
                "Profit": 6.93
              },
              {
                "ProductId": 383,
                "Seasonality": 3,
                "Price": 28.6,
                "Profit": 8.49
              },
              {
                "ProductId": 384,
                "Seasonality": 1,
                "Price": 31.61,
                "Profit": 7.33
              },
              {
                "ProductId": 385,
                "Seasonality": 2,
                "Price": 21.52,
                "Profit": 8.12
              },
              {
                "ProductId": 386,
                "Seasonality": 1,
                "Price": 29.5,
                "Profit": 10.08
              },
              {
                "ProductId": 387,
                "Seasonality": 1,
                "Price": 29.67,
                "Profit": 8.52
              },
              {
                "ProductId": 388,
                "Seasonality": 1,
                "Price": 22.31,
                "Profit": 6.97
              },
              {
                "ProductId": 389,
                "Seasonality": 2,
                "Price": 27.96,
                "Profit": 8.47
              },
              {
                "ProductId": 390,
                "Seasonality": 2,
                "Price": 20.32,
                "Profit": 6.68
              },
              {
                "ProductId": 391,
                "Seasonality": 3,
                "Price": 26.76,
                "Profit": 7.59
              },
              {
                "ProductId": 392,
                "Seasonality": 3,
                "Price": 31.68,
                "Profit": 10.46
              },
              {
                "ProductId": 393,
                "Seasonality": 3,
                "Price": 33.66,
                "Profit": 8.39
              },
              {
                "ProductId": 394,
                "Seasonality": 2,
                "Price": 31.98,
                "Profit": 10.37
              },
              {
                "ProductId": 395,
                "Seasonality": 1,
                "Price": 29.73,
                "Profit": 8.34
              },
              {
                "ProductId": 396,
                "Seasonality": 1,
                "Price": 22.01,
                "Profit": 6.23
              },
              {
                "ProductId": 397,
                "Seasonality": 2,
                "Price": 22.1,
                "Profit": 6.54
              },
              {
                "ProductId": 398,
                "Seasonality": 1,
                "Price": 33.47,
                "Profit": 10.8
              },
              {
                "ProductId": 399,
                "Seasonality": 2,
                "Price": 25.4,
                "Profit": 6.15
              },
              {
                "ProductId": 400,
                "Seasonality": 2,
                "Price": 27.29,
                "Profit": 8.06
              },
              {
                "ProductId": 401,
                "Seasonality": 1,
                "Price": 28.37,
                "Profit": 7.94
              },
              {
                "ProductId": 402,
                "Seasonality": 1,
                "Price": 25.09,
                "Profit": 5.84
              },
              {
                "ProductId": 403,
                "Seasonality": 1,
                "Price": 28.95,
                "Profit": 7.76
              },
              {
                "ProductId": 404,
                "Seasonality": 1,
                "Price": 26.89,
                "Profit": 6.56
              },
              {
                "ProductId": 405,
                "Seasonality": 2,
                "Price": 25.35,
                "Profit": 8.13
              },
              {
                "ProductId": 406,
                "Seasonality": 3,
                "Price": 36.59,
                "Profit": 11.57
              },
              {
                "ProductId": 407,
                "Seasonality": 1,
                "Price": 23.39,
                "Profit": 6.66
              },
              {
                "ProductId": 408,
                "Seasonality": 3,
                "Price": 34.29,
                "Profit": 9.6
              },
              {
                "ProductId": 409,
                "Seasonality": 3,
                "Price": 24.63,
                "Profit": 7.03
              },
              {
                "ProductId": 410,
                "Seasonality": 1,
                "Price": 32.21,
                "Profit": 11.02
              },
              {
                "ProductId": 411,
                "Seasonality": 1,
                "Price": 31.34,
                "Profit": 9.68
              },
              {
                "ProductId": 412,
                "Seasonality": 1,
                "Price": 36.38,
                "Profit": 11.19
              },
              {
                "ProductId": 413,
                "Seasonality": 1,
                "Price": 31.59,
                "Profit": 10
              },
              {
                "ProductId": 414,
                "Seasonality": 3,
                "Price": 23.8,
                "Profit": 8.14
              },
              {
                "ProductId": 415,
                "Seasonality": 3,
                "Price": 38.21,
                "Profit": 13.82
              },
              {
                "ProductId": 416,
                "Seasonality": 2,
                "Price": 24.72,
                "Profit": 7.88
              },
              {
                "ProductId": 417,
                "Seasonality": 1,
                "Price": 27.46,
                "Profit": 7.87
              },
              {
                "ProductId": 418,
                "Seasonality": 2,
                "Price": 20.72,
                "Profit": 7.36
              },
              {
                "ProductId": 419,
                "Seasonality": 3,
                "Price": 34.94,
                "Profit": 11.59
              },
              {
                "ProductId": 420,
                "Seasonality": 2,
                "Price": 28.19,
                "Profit": 9.03
              },
              {
                "ProductId": 421,
                "Seasonality": 2,
                "Price": 32.95,
                "Profit": 11.01
              },
              {
                "ProductId": 422,
                "Seasonality": 1,
                "Price": 26.97,
                "Profit": 8.77
              },
              {
                "ProductId": 423,
                "Seasonality": 2,
                "Price": 29.79,
                "Profit": 7.73
              },
              {
                "ProductId": 424,
                "Seasonality": 1,
                "Price": 28.98,
                "Profit": 6.37
              },
              {
                "ProductId": 425,
                "Seasonality": 2,
                "Price": 33.39,
                "Profit": 9.36
              },
              {
                "ProductId": 426,
                "Seasonality": 3,
                "Price": 19.15,
                "Profit": 6.03
              },
              {
                "ProductId": 427,
                "Seasonality": 3,
                "Price": 21.83,
                "Profit": 6.96
              },
              {
                "ProductId": 428,
                "Seasonality": 1,
                "Price": 23.51,
                "Profit": 6.32
              },
              {
                "ProductId": 429,
                "Seasonality": 2,
                "Price": 30.19,
                "Profit": 8.95
              },
              {
                "ProductId": 430,
                "Seasonality": 1,
                "Price": 24.88,
                "Profit": 6.39
              },
              {
                "ProductId": 431,
                "Seasonality": 2,
                "Price": 25.63,
                "Profit": 7.84
              },
              {
                "ProductId": 432,
                "Seasonality": 1,
                "Price": 28.27,
                "Profit": 8.46
              },
              {
                "ProductId": 433,
                "Seasonality": 1,
                "Price": 33.13,
                "Profit": 10.29
              },
              {
                "ProductId": 434,
                "Seasonality": 1,
                "Price": 30.34,
                "Profit": 10.21
              },
              {
                "ProductId": 435,
                "Seasonality": 1,
                "Price": 28.7,
                "Profit": 10.29
              },
              {
                "ProductId": 436,
                "Seasonality": 1,
                "Price": 31.34,
                "Profit": 11.48
              },
              {
                "ProductId": 437,
                "Seasonality": 1,
                "Price": 33.98,
                "Profit": 8.39
              },
              {
                "ProductId": 438,
                "Seasonality": 1,
                "Price": 31.43,
                "Profit": 8.97
              },
              {
                "ProductId": 439,
                "Seasonality": 1,
                "Price": 35.58,
                "Profit": 11.46
              },
              {
                "ProductId": 440,
                "Seasonality": 1,
                "Price": 39.44,
                "Profit": 11.74
              },
              {
                "ProductId": 441,
                "Seasonality": 1,
                "Price": 23.25,
                "Profit": 8.27
              },
              {
                "ProductId": 442,
                "Seasonality": 1,
                "Price": 32.72,
                "Profit": 9.53
              },
              {
                "ProductId": 443,
                "Seasonality": 2,
                "Price": 14.45,
                "Profit": 4.09
              },
              {
                "ProductId": 444,
                "Seasonality": 2,
                "Price": 27.43,
                "Profit": 6.94
              },
              {
                "ProductId": 445,
                "Seasonality": 3,
                "Price": 33.21,
                "Profit": 8.59
              },
              {
                "ProductId": 446,
                "Seasonality": 1,
                "Price": 29.55,
                "Profit": 9.57
              },
              {
                "ProductId": 447,
                "Seasonality": 2,
                "Price": 31.14,
                "Profit": 10.13
              },
              {
                "ProductId": 448,
                "Seasonality": 1,
                "Price": 28.22,
                "Profit": 8.5
              },
              {
                "ProductId": 449,
                "Seasonality": 1,
                "Price": 33.15,
                "Profit": 8.5
              },
              {
                "ProductId": 450,
                "Seasonality": 1,
                "Price": 23.67,
                "Profit": 8.3
              },
              {
                "ProductId": 451,
                "Seasonality": 1,
                "Price": 19.97,
                "Profit": 6.23
              },
              {
                "ProductId": 452,
                "Seasonality": 1,
                "Price": 29.91,
                "Profit": 9.51
              },
              {
                "ProductId": 453,
                "Seasonality": 3,
                "Price": 33.11,
                "Profit": 9.14
              },
              {
                "ProductId": 454,
                "Seasonality": 1,
                "Price": 22.96,
                "Profit": 7.34
              },
              {
                "ProductId": 455,
                "Seasonality": 1,
                "Price": 32.3,
                "Profit": 8.34
              },
              {
                "ProductId": 456,
                "Seasonality": 1,
                "Price": 28.75,
                "Profit": 6.98
              },
              {
                "ProductId": 457,
                "Seasonality": 3,
                "Price": 26.55,
                "Profit": 7.16
              },
              {
                "ProductId": 458,
                "Seasonality": 1,
                "Price": 26.99,
                "Profit": 9.98
              },
              {
                "ProductId": 459,
                "Seasonality": 1,
                "Price": 29.81,
                "Profit": 8.08
              },
              {
                "ProductId": 460,
                "Seasonality": 1,
                "Price": 33.61,
                "Profit": 10.17
              },
              {
                "ProductId": 461,
                "Seasonality": 1,
                "Price": 27.77,
                "Profit": 8.42
              },
              {
                "ProductId": 462,
                "Seasonality": 1,
                "Price": 32.79,
                "Profit": 11.79
              },
              {
                "ProductId": 463,
                "Seasonality": 1,
                "Price": 31.65,
                "Profit": 8.17
              },
              {
                "ProductId": 464,
                "Seasonality": 1,
                "Price": 23.12,
                "Profit": 7.4
              },
              {
                "ProductId": 465,
                "Seasonality": 1,
                "Price": 30.93,
                "Profit": 9.38
              },
              {
                "ProductId": 466,
                "Seasonality": 2,
                "Price": 25.96,
                "Profit": 8.32
              },
              {
                "ProductId": 467,
                "Seasonality": 2,
                "Price": 30.18,
                "Profit": 8.69
              },
              {
                "ProductId": 468,
                "Seasonality": 3,
                "Price": 24.94,
                "Profit": 7.24
              },
              {
                "ProductId": 469,
                "Seasonality": 3,
                "Price": 30.01,
                "Profit": 7.77
              },
              {
                "ProductId": 470,
                "Seasonality": 2,
                "Price": 31.74,
                "Profit": 5.2
              },
              {
                "ProductId": 471,
                "Seasonality": 1,
                "Price": 27.37,
                "Profit": 7.13
              },
              {
                "ProductId": 472,
                "Seasonality": 3,
                "Price": 33.54,
                "Profit": 10.45
              },
              {
                "ProductId": 473,
                "Seasonality": 2,
                "Price": 23.97,
                "Profit": 6.1
              },
              {
                "ProductId": 474,
                "Seasonality": 1,
                "Price": 26.92,
                "Profit": 9.43
              },
              {
                "ProductId": 475,
                "Seasonality": 1,
                "Price": 31.94,
                "Profit": 9.34
              },
              {
                "ProductId": 476,
                "Seasonality": 1,
                "Price": 22.76,
                "Profit": 5.43
              },
              {
                "ProductId": 477,
                "Seasonality": 1,
                "Price": 31.88,
                "Profit": 7.97
              },
              {
                "ProductId": 478,
                "Seasonality": 1,
                "Price": 25.48,
                "Profit": 7.54
              },
              {
                "ProductId": 479,
                "Seasonality": 2,
                "Price": 30.67,
                "Profit": 9.72
              },
              {
                "ProductId": 480,
                "Seasonality": 3,
                "Price": 22.67,
                "Profit": 6.42
              },
              {
                "ProductId": 481,
                "Seasonality": 2,
                "Price": 29.86,
                "Profit": 9.59
              },
              {
                "ProductId": 482,
                "Seasonality": 1,
                "Price": 26.12,
                "Profit": 8.37
              },
              {
                "ProductId": 483,
                "Seasonality": 1,
                "Price": 34.26,
                "Profit": 9.42
              },
              {
                "ProductId": 484,
                "Seasonality": 1,
                "Price": 21.05,
                "Profit": 5.78
              },
              {
                "ProductId": 485,
                "Seasonality": 1,
                "Price": 30.93,
                "Profit": 10.36
              },
              {
                "ProductId": 486,
                "Seasonality": 2,
                "Price": 26.48,
                "Profit": 9.11
              },
              {
                "ProductId": 487,
                "Seasonality": 1,
                "Price": 24.98,
                "Profit": 8.03
              },
              {
                "ProductId": 488,
                "Seasonality": 2,
                "Price": 18.91,
                "Profit": 6.33
              },
              {
                "ProductId": 489,
                "Seasonality": 2,
                "Price": 21.6,
                "Profit": 6.28
              },
              {
                "ProductId": 490,
                "Seasonality": 3,
                "Price": 29.62,
                "Profit": 9.25
              },
              {
                "ProductId": 491,
                "Seasonality": 1,
                "Price": 35.63,
                "Profit": 9.84
              },
              {
                "ProductId": 492,
                "Seasonality": 1,
                "Price": 32.09,
                "Profit": 7.98
              },
              {
                "ProductId": 493,
                "Seasonality": 1,
                "Price": 35.55,
                "Profit": 11.4
              },
              {
                "ProductId": 494,
                "Seasonality": 1,
                "Price": 30.44,
                "Profit": 9.31
              },
              {
                "ProductId": 495,
                "Seasonality": 1,
                "Price": 33.85,
                "Profit": 9.73
              },
              {
                "ProductId": 496,
                "Seasonality": 1,
                "Price": 17.85,
                "Profit": 4.63
              },
              {
                "ProductId": 497,
                "Seasonality": 3,
                "Price": 28.08,
                "Profit": 7.1
              },
              {
                "ProductId": 498,
                "Seasonality": 3,
                "Price": 25.61,
                "Profit": 7.44
              },
              {
                "ProductId": 499,
                "Seasonality": 3,
                "Price": 29.05,
                "Profit": 9.14
              },
              {
                "ProductId": 500,
                "Seasonality": 1,
                "Price": 35.18,
                "Profit": 9.2
              },
              {
                "ProductId": 501,
                "Seasonality": 3,
                "Price": 19.82,
                "Profit": 8.27
              },
              {
                "ProductId": 502,
                "Seasonality": 1,
                "Price": 25.14,
                "Profit": 8.52
              },
              {
                "ProductId": 503,
                "Seasonality": 1,
                "Price": 19.47,
                "Profit": 5.56
              },
              {
                "ProductId": 504,
                "Seasonality": 2,
                "Price": 23.83,
                "Profit": 6.51
              },
              {
                "ProductId": 505,
                "Seasonality": 3,
                "Price": 20.22,
                "Profit": 6.82
              },
              {
                "ProductId": 506,
                "Seasonality": 1,
                "Price": 29.35,
                "Profit": 9.83
              },
              {
                "ProductId": 507,
                "Seasonality": 3,
                "Price": 19.8,
                "Profit": 5.97
              },
              {
                "ProductId": 508,
                "Seasonality": 1,
                "Price": 33.72,
                "Profit": 10.64
              },
              {
                "ProductId": 509,
                "Seasonality": 1,
                "Price": 40.38,
                "Profit": 10.44
              },
              {
                "ProductId": 510,
                "Seasonality": 1,
                "Price": 27.27,
                "Profit": 7.3
              },
              {
                "ProductId": 511,
                "Seasonality": 1,
                "Price": 25.88,
                "Profit": 7.91
              },
              {
                "ProductId": 512,
                "Seasonality": 1,
                "Price": 38.14,
                "Profit": 11.49
              },
              {
                "ProductId": 513,
                "Seasonality": 2,
                "Price": 31.8,
                "Profit": 9.51
              },
              {
                "ProductId": 514,
                "Seasonality": 2,
                "Price": 28.32,
                "Profit": 9.75
              },
              {
                "ProductId": 515,
                "Seasonality": 2,
                "Price": 34.26,
                "Profit": 9.98
              },
              {
                "ProductId": 516,
                "Seasonality": 3,
                "Price": 27.79,
                "Profit": 8
              },
              {
                "ProductId": 517,
                "Seasonality": 3,
                "Price": 26.15,
                "Profit": 8.33
              },
              {
                "ProductId": 518,
                "Seasonality": 1,
                "Price": 35.39,
                "Profit": 11.62
              },
              {
                "ProductId": 519,
                "Seasonality": 1,
                "Price": 22.27,
                "Profit": 5.53
              },
              {
                "ProductId": 520,
                "Seasonality": 2,
                "Price": 26.57,
                "Profit": 8.62
              },
              {
                "ProductId": 521,
                "Seasonality": 1,
                "Price": 29.57,
                "Profit": 8.43
              },
              {
                "ProductId": 522,
                "Seasonality": 1,
                "Price": 23.72,
                "Profit": 8.1
              },
              {
                "ProductId": 523,
                "Seasonality": 1,
                "Price": 26.37,
                "Profit": 9.04
              },
              {
                "ProductId": 524,
                "Seasonality": 1,
                "Price": 17.36,
                "Profit": 5.6
              },
              {
                "ProductId": 525,
                "Seasonality": 1,
                "Price": 34.96,
                "Profit": 11.21
              },
              {
                "ProductId": 526,
                "Seasonality": 1,
                "Price": 22.83,
                "Profit": 7.93
              },
              {
                "ProductId": 527,
                "Seasonality": 2,
                "Price": 28.11,
                "Profit": 11.11
              },
              {
                "ProductId": 528,
                "Seasonality": 1,
                "Price": 33.57,
                "Profit": 10.94
              },
              {
                "ProductId": 529,
                "Seasonality": 1,
                "Price": 24.77,
                "Profit": 6.97
              },
              {
                "ProductId": 530,
                "Seasonality": 3,
                "Price": 39.13,
                "Profit": 10.99
              },
              {
                "ProductId": 531,
                "Seasonality": 1,
                "Price": 28.04,
                "Profit": 8.45
              },
              {
                "ProductId": 532,
                "Seasonality": 2,
                "Price": 28.35,
                "Profit": 7.58
              },
              {
                "ProductId": 533,
                "Seasonality": 1,
                "Price": 35.52,
                "Profit": 6.67
              },
              {
                "ProductId": 534,
                "Seasonality": 3,
                "Price": 28.07,
                "Profit": 7.94
              },
              {
                "ProductId": 535,
                "Seasonality": 3,
                "Price": 21.73,
                "Profit": 6.58
              },
              {
                "ProductId": 536,
                "Seasonality": 1,
                "Price": 27.28,
                "Profit": 6.59
              },
              {
                "ProductId": 537,
                "Seasonality": 3,
                "Price": 23.93,
                "Profit": 7.64
              },
              {
                "ProductId": 538,
                "Seasonality": 2,
                "Price": 28.11,
                "Profit": 6.9
              },
              {
                "ProductId": 539,
                "Seasonality": 1,
                "Price": 26.32,
                "Profit": 8.09
              },
              {
                "ProductId": 540,
                "Seasonality": 1,
                "Price": 24.94,
                "Profit": 7.14
              },
              {
                "ProductId": 541,
                "Seasonality": 3,
                "Price": 26.91,
                "Profit": 6.83
              },
              {
                "ProductId": 542,
                "Seasonality": 1,
                "Price": 23.68,
                "Profit": 7.32
              },
              {
                "ProductId": 543,
                "Seasonality": 1,
                "Price": 22.62,
                "Profit": 7.39
              },
              {
                "ProductId": 544,
                "Seasonality": 3,
                "Price": 24.13,
                "Profit": 7.12
              },
              {
                "ProductId": 545,
                "Seasonality": 1,
                "Price": 29.87,
                "Profit": 10.58
              },
              {
                "ProductId": 546,
                "Seasonality": 3,
                "Price": 35.89,
                "Profit": 10.46
              },
              {
                "ProductId": 547,
                "Seasonality": 2,
                "Price": 31.42,
                "Profit": 10.63
              },
              {
                "ProductId": 548,
                "Seasonality": 1,
                "Price": 33.16,
                "Profit": 10.06
              },
              {
                "ProductId": 549,
                "Seasonality": 1,
                "Price": 29.79,
                "Profit": 8.96
              },
              {
                "ProductId": 550,
                "Seasonality": 3,
                "Price": 23.39,
                "Profit": 6.88
              },
              {
                "ProductId": 551,
                "Seasonality": 1,
                "Price": 30.96,
                "Profit": 8.94
              },
              {
                "ProductId": 552,
                "Seasonality": 1,
                "Price": 28.96,
                "Profit": 8.9
              },
              {
                "ProductId": 553,
                "Seasonality": 1,
                "Price": 26.76,
                "Profit": 5.86
              },
              {
                "ProductId": 554,
                "Seasonality": 1,
                "Price": 34.57,
                "Profit": 9.05
              },
              {
                "ProductId": 555,
                "Seasonality": 2,
                "Price": 24.3,
                "Profit": 7.48
              },
              {
                "ProductId": 556,
                "Seasonality": 3,
                "Price": 27.15,
                "Profit": 7.58
              },
              {
                "ProductId": 557,
                "Seasonality": 1,
                "Price": 36.98,
                "Profit": 11.26
              },
              {
                "ProductId": 558,
                "Seasonality": 1,
                "Price": 29.6,
                "Profit": 9.06
              },
              {
                "ProductId": 559,
                "Seasonality": 1,
                "Price": 32.35,
                "Profit": 10.96
              },
              {
                "ProductId": 560,
                "Seasonality": 1,
                "Price": 26.3,
                "Profit": 7.76
              },
              {
                "ProductId": 561,
                "Seasonality": 1,
                "Price": 24.34,
                "Profit": 6.7
              },
              {
                "ProductId": 562,
                "Seasonality": 1,
                "Price": 15.27,
                "Profit": 5.46
              },
              {
                "ProductId": 563,
                "Seasonality": 2,
                "Price": 27.3,
                "Profit": 10.81
              },
              {
                "ProductId": 564,
                "Seasonality": 1,
                "Price": 18.97,
                "Profit": 5.55
              },
              {
                "ProductId": 565,
                "Seasonality": 3,
                "Price": 36.97,
                "Profit": 12.07
              },
              {
                "ProductId": 566,
                "Seasonality": 1,
                "Price": 28.68,
                "Profit": 7.8
              },
              {
                "ProductId": 567,
                "Seasonality": 1,
                "Price": 22.4,
                "Profit": 6.24
              },
              {
                "ProductId": 568,
                "Seasonality": 1,
                "Price": 29.33,
                "Profit": 9.13
              },
              {
                "ProductId": 569,
                "Seasonality": 2,
                "Price": 25.22,
                "Profit": 7.54
              },
              {
                "ProductId": 570,
                "Seasonality": 1,
                "Price": 25.7,
                "Profit": 7.03
              },
              {
                "ProductId": 571,
                "Seasonality": 2,
                "Price": 25.79,
                "Profit": 8.16
              },
              {
                "ProductId": 572,
                "Seasonality": 1,
                "Price": 29.15,
                "Profit": 9.17
              },
              {
                "ProductId": 573,
                "Seasonality": 2,
                "Price": 32.05,
                "Profit": 10.2
              },
              {
                "ProductId": 574,
                "Seasonality": 1,
                "Price": 27.24,
                "Profit": 9.63
              },
              {
                "ProductId": 575,
                "Seasonality": 2,
                "Price": 30.55,
                "Profit": 8.99
              },
              {
                "ProductId": 576,
                "Seasonality": 2,
                "Price": 22.13,
                "Profit": 6.11
              },
              {
                "ProductId": 577,
                "Seasonality": 1,
                "Price": 32.56,
                "Profit": 9.06
              },
              {
                "ProductId": 578,
                "Seasonality": 2,
                "Price": 16.95,
                "Profit": 4.71
              },
              {
                "ProductId": 579,
                "Seasonality": 1,
                "Price": 31.48,
                "Profit": 7.78
              },
              {
                "ProductId": 580,
                "Seasonality": 3,
                "Price": 23.33,
                "Profit": 4.85
              },
              {
                "ProductId": 581,
                "Seasonality": 2,
                "Price": 28.13,
                "Profit": 6.31
              },
              {
                "ProductId": 582,
                "Seasonality": 1,
                "Price": 34.05,
                "Profit": 8.66
              },
              {
                "ProductId": 583,
                "Seasonality": 1,
                "Price": 33.7,
                "Profit": 9.07
              },
              {
                "ProductId": 584,
                "Seasonality": 3,
                "Price": 41.29,
                "Profit": 11.76
              },
              {
                "ProductId": 585,
                "Seasonality": 1,
                "Price": 29.49,
                "Profit": 9.26
              },
              {
                "ProductId": 586,
                "Seasonality": 1,
                "Price": 34.21,
                "Profit": 9.02
              },
              {
                "ProductId": 587,
                "Seasonality": 1,
                "Price": 34.11,
                "Profit": 11.38
              },
              {
                "ProductId": 588,
                "Seasonality": 2,
                "Price": 24.23,
                "Profit": 8.93
              },
              {
                "ProductId": 589,
                "Seasonality": 1,
                "Price": 28.65,
                "Profit": 7.59
              },
              {
                "ProductId": 590,
                "Seasonality": 1,
                "Price": 24.33,
                "Profit": 6.38
              },
              {
                "ProductId": 591,
                "Seasonality": 1,
                "Price": 29.26,
                "Profit": 10.96
              },
              {
                "ProductId": 592,
                "Seasonality": 2,
                "Price": 40.28,
                "Profit": 11.94
              },
              {
                "ProductId": 593,
                "Seasonality": 1,
                "Price": 32.29,
                "Profit": 9.06
              },
              {
                "ProductId": 594,
                "Seasonality": 1,
                "Price": 28.27,
                "Profit": 7.18
              },
              {
                "ProductId": 595,
                "Seasonality": 1,
                "Price": 30.44,
                "Profit": 10.12
              },
              {
                "ProductId": 596,
                "Seasonality": 3,
                "Price": 29.21,
                "Profit": 8.17
              },
              {
                "ProductId": 597,
                "Seasonality": 3,
                "Price": 25.56,
                "Profit": 8.88
              },
              {
                "ProductId": 598,
                "Seasonality": 1,
                "Price": 31.82,
                "Profit": 10.82
              },
              {
                "ProductId": 599,
                "Seasonality": 1,
                "Price": 42.07,
                "Profit": 13.05
              },
              {
                "ProductId": 600,
                "Seasonality": 2,
                "Price": 24.27,
                "Profit": 4.73
              },
              {
                "ProductId": 601,
                "Seasonality": 1,
                "Price": 29.63,
                "Profit": 9.78
              },
              {
                "ProductId": 602,
                "Seasonality": 2,
                "Price": 24.89,
                "Profit": 7.26
              },
              {
                "ProductId": 603,
                "Seasonality": 2,
                "Price": 11.79,
                "Profit": 3.57
              },
              {
                "ProductId": 604,
                "Seasonality": 1,
                "Price": 34.08,
                "Profit": 9.69
              },
              {
                "ProductId": 605,
                "Seasonality": 1,
                "Price": 29.47,
                "Profit": 9.71
              },
              {
                "ProductId": 606,
                "Seasonality": 3,
                "Price": 24.41,
                "Profit": 7.47
              },
              {
                "ProductId": 607,
                "Seasonality": 1,
                "Price": 37.44,
                "Profit": 12.49
              },
              {
                "ProductId": 608,
                "Seasonality": 3,
                "Price": 32.06,
                "Profit": 11.03
              },
              {
                "ProductId": 609,
                "Seasonality": 1,
                "Price": 23.36,
                "Profit": 8.04
              },
              {
                "ProductId": 610,
                "Seasonality": 1,
                "Price": 35.79,
                "Profit": 12.19
              },
              {
                "ProductId": 611,
                "Seasonality": 3,
                "Price": 23.33,
                "Profit": 6.59
              },
              {
                "ProductId": 612,
                "Seasonality": 1,
                "Price": 34.89,
                "Profit": 9.22
              },
              {
                "ProductId": 613,
                "Seasonality": 2,
                "Price": 28.38,
                "Profit": 6.39
              },
              {
                "ProductId": 614,
                "Seasonality": 2,
                "Price": 26.52,
                "Profit": 7.14
              },
              {
                "ProductId": 615,
                "Seasonality": 2,
                "Price": 26.17,
                "Profit": 8.06
              },
              {
                "ProductId": 616,
                "Seasonality": 3,
                "Price": 28.56,
                "Profit": 9.59
              },
              {
                "ProductId": 617,
                "Seasonality": 1,
                "Price": 25.68,
                "Profit": 9.62
              },
              {
                "ProductId": 618,
                "Seasonality": 1,
                "Price": 24.75,
                "Profit": 5.79
              },
              {
                "ProductId": 619,
                "Seasonality": 1,
                "Price": 26.73,
                "Profit": 7.64
              },
              {
                "ProductId": 620,
                "Seasonality": 3,
                "Price": 21.9,
                "Profit": 5.42
              },
              {
                "ProductId": 621,
                "Seasonality": 2,
                "Price": 25.7,
                "Profit": 6.51
              },
              {
                "ProductId": 622,
                "Seasonality": 2,
                "Price": 28.06,
                "Profit": 6.86
              },
              {
                "ProductId": 623,
                "Seasonality": 3,
                "Price": 32.74,
                "Profit": 8.35
              },
              {
                "ProductId": 624,
                "Seasonality": 1,
                "Price": 27.54,
                "Profit": 6.22
              },
              {
                "ProductId": 625,
                "Seasonality": 2,
                "Price": 21.2,
                "Profit": 4.63
              },
              {
                "ProductId": 626,
                "Seasonality": 1,
                "Price": 25.26,
                "Profit": 8.24
              },
              {
                "ProductId": 627,
                "Seasonality": 1,
                "Price": 25.52,
                "Profit": 7.67
              },
              {
                "ProductId": 628,
                "Seasonality": 2,
                "Price": 31.88,
                "Profit": 9.35
              },
              {
                "ProductId": 629,
                "Seasonality": 3,
                "Price": 29,
                "Profit": 8.56
              },
              {
                "ProductId": 630,
                "Seasonality": 1,
                "Price": 30.8,
                "Profit": 8.57
              },
              {
                "ProductId": 631,
                "Seasonality": 1,
                "Price": 29.7,
                "Profit": 7.63
              },
              {
                "ProductId": 632,
                "Seasonality": 1,
                "Price": 21.23,
                "Profit": 7.15
              },
              {
                "ProductId": 633,
                "Seasonality": 3,
                "Price": 32.66,
                "Profit": 10.2
              },
              {
                "ProductId": 634,
                "Seasonality": 1,
                "Price": 22.77,
                "Profit": 6.86
              },
              {
                "ProductId": 635,
                "Seasonality": 3,
                "Price": 27.94,
                "Profit": 8.39
              },
              {
                "ProductId": 636,
                "Seasonality": 1,
                "Price": 34.52,
                "Profit": 10.31
              },
              {
                "ProductId": 637,
                "Seasonality": 1,
                "Price": 27.48,
                "Profit": 8.42
              },
              {
                "ProductId": 638,
                "Seasonality": 1,
                "Price": 32.26,
                "Profit": 6.47
              },
              {
                "ProductId": 639,
                "Seasonality": 1,
                "Price": 20.92,
                "Profit": 6.93
              },
              {
                "ProductId": 640,
                "Seasonality": 1,
                "Price": 21.05,
                "Profit": 6.62
              },
              {
                "ProductId": 641,
                "Seasonality": 1,
                "Price": 25.72,
                "Profit": 7.04
              },
              {
                "ProductId": 642,
                "Seasonality": 1,
                "Price": 29.52,
                "Profit": 9.08
              },
              {
                "ProductId": 643,
                "Seasonality": 1,
                "Price": 22.13,
                "Profit": 7.55
              },
              {
                "ProductId": 644,
                "Seasonality": 1,
                "Price": 34.47,
                "Profit": 10.2
              },
              {
                "ProductId": 645,
                "Seasonality": 1,
                "Price": 25.71,
                "Profit": 8.08
              },
              {
                "ProductId": 646,
                "Seasonality": 2,
                "Price": 36.14,
                "Profit": 10.71
              },
              {
                "ProductId": 647,
                "Seasonality": 1,
                "Price": 31.71,
                "Profit": 11.77
              },
              {
                "ProductId": 648,
                "Seasonality": 2,
                "Price": 30.67,
                "Profit": 10.14
              },
              {
                "ProductId": 649,
                "Seasonality": 2,
                "Price": 34.85,
                "Profit": 8.9
              },
              {
                "ProductId": 650,
                "Seasonality": 1,
                "Price": 26.97,
                "Profit": 7.99
              },
              {
                "ProductId": 651,
                "Seasonality": 1,
                "Price": 26.46,
                "Profit": 8.51
              },
              {
                "ProductId": 652,
                "Seasonality": 1,
                "Price": 22.44,
                "Profit": 6.81
              },
              {
                "ProductId": 653,
                "Seasonality": 1,
                "Price": 21.83,
                "Profit": 6.22
              },
              {
                "ProductId": 654,
                "Seasonality": 2,
                "Price": 20.57,
                "Profit": 5.4
              },
              {
                "ProductId": 655,
                "Seasonality": 1,
                "Price": 24.39,
                "Profit": 6.59
              },
              {
                "ProductId": 656,
                "Seasonality": 1,
                "Price": 22.87,
                "Profit": 5.3
              },
              {
                "ProductId": 657,
                "Seasonality": 1,
                "Price": 35.73,
                "Profit": 9.62
              },
              {
                "ProductId": 658,
                "Seasonality": 1,
                "Price": 36.88,
                "Profit": 9.52
              },
              {
                "ProductId": 659,
                "Seasonality": 1,
                "Price": 29.06,
                "Profit": 8.11
              },
              {
                "ProductId": 660,
                "Seasonality": 3,
                "Price": 22.4,
                "Profit": 6.75
              },
              {
                "ProductId": 661,
                "Seasonality": 2,
                "Price": 17.51,
                "Profit": 5.41
              },
              {
                "ProductId": 662,
                "Seasonality": 2,
                "Price": 32.23,
                "Profit": 10.82
              },
              {
                "ProductId": 663,
                "Seasonality": 1,
                "Price": 25.06,
                "Profit": 7.41
              },
              {
                "ProductId": 664,
                "Seasonality": 1,
                "Price": 23.23,
                "Profit": 7.92
              },
              {
                "ProductId": 665,
                "Seasonality": 1,
                "Price": 19.66,
                "Profit": 6.94
              },
              {
                "ProductId": 666,
                "Seasonality": 1,
                "Price": 26.84,
                "Profit": 6.67
              },
              {
                "ProductId": 667,
                "Seasonality": 1,
                "Price": 28.58,
                "Profit": 8.73
              },
              {
                "ProductId": 668,
                "Seasonality": 2,
                "Price": 23.17,
                "Profit": 5.41
              },
              {
                "ProductId": 669,
                "Seasonality": 1,
                "Price": 28.25,
                "Profit": 8.41
              },
              {
                "ProductId": 670,
                "Seasonality": 1,
                "Price": 31.88,
                "Profit": 8.65
              },
              {
                "ProductId": 671,
                "Seasonality": 3,
                "Price": 22.54,
                "Profit": 6.29
              },
              {
                "ProductId": 672,
                "Seasonality": 1,
                "Price": 20.38,
                "Profit": 6.08
              },
              {
                "ProductId": 673,
                "Seasonality": 2,
                "Price": 15.06,
                "Profit": 4.41
              },
              {
                "ProductId": 674,
                "Seasonality": 2,
                "Price": 32.03,
                "Profit": 11.09
              },
              {
                "ProductId": 675,
                "Seasonality": 1,
                "Price": 19.59,
                "Profit": 7.02
              },
              {
                "ProductId": 676,
                "Seasonality": 1,
                "Price": 17.22,
                "Profit": 4.77
              },
              {
                "ProductId": 677,
                "Seasonality": 3,
                "Price": 23.35,
                "Profit": 5.84
              },
              {
                "ProductId": 678,
                "Seasonality": 2,
                "Price": 26.78,
                "Profit": 7.7
              },
              {
                "ProductId": 679,
                "Seasonality": 1,
                "Price": 28.14,
                "Profit": 8.07
              },
              {
                "ProductId": 680,
                "Seasonality": 1,
                "Price": 24.06,
                "Profit": 7.25
              },
              {
                "ProductId": 681,
                "Seasonality": 3,
                "Price": 33.67,
                "Profit": 10.45
              },
              {
                "ProductId": 682,
                "Seasonality": 1,
                "Price": 24.76,
                "Profit": 7.45
              },
              {
                "ProductId": 683,
                "Seasonality": 1,
                "Price": 23.06,
                "Profit": 6
              },
              {
                "ProductId": 684,
                "Seasonality": 1,
                "Price": 30.06,
                "Profit": 10.53
              },
              {
                "ProductId": 685,
                "Seasonality": 3,
                "Price": 24.69,
                "Profit": 6.06
              },
              {
                "ProductId": 686,
                "Seasonality": 1,
                "Price": 19.15,
                "Profit": 5.92
              },
              {
                "ProductId": 687,
                "Seasonality": 1,
                "Price": 23.38,
                "Profit": 7.9
              },
              {
                "ProductId": 688,
                "Seasonality": 1,
                "Price": 30.69,
                "Profit": 8.21
              },
              {
                "ProductId": 689,
                "Seasonality": 2,
                "Price": 21.68,
                "Profit": 6.84
              },
              {
                "ProductId": 690,
                "Seasonality": 1,
                "Price": 31.65,
                "Profit": 8.69
              },
              {
                "ProductId": 691,
                "Seasonality": 1,
                "Price": 22.85,
                "Profit": 7.13
              },
              {
                "ProductId": 692,
                "Seasonality": 3,
                "Price": 21.94,
                "Profit": 6.69
              },
              {
                "ProductId": 693,
                "Seasonality": 2,
                "Price": 35.14,
                "Profit": 9.9
              },
              {
                "ProductId": 694,
                "Seasonality": 1,
                "Price": 22.69,
                "Profit": 5.54
              },
              {
                "ProductId": 695,
                "Seasonality": 2,
                "Price": 23.18,
                "Profit": 7.16
              },
              {
                "ProductId": 696,
                "Seasonality": 1,
                "Price": 26.41,
                "Profit": 8.45
              },
              {
                "ProductId": 697,
                "Seasonality": 1,
                "Price": 30.38,
                "Profit": 10.48
              },
              {
                "ProductId": 698,
                "Seasonality": 1,
                "Price": 35.01,
                "Profit": 9.69
              },
              {
                "ProductId": 699,
                "Seasonality": 1,
                "Price": 28.2,
                "Profit": 7.98
              },
              {
                "ProductId": 700,
                "Seasonality": 1,
                "Price": 24.17,
                "Profit": 7.94
              },
              {
                "ProductId": 701,
                "Seasonality": 1,
                "Price": 23.93,
                "Profit": 7.7
              },
              {
                "ProductId": 702,
                "Seasonality": 2,
                "Price": 24.29,
                "Profit": 6.77
              },
              {
                "ProductId": 703,
                "Seasonality": 1,
                "Price": 35.14,
                "Profit": 11.3
              },
              {
                "ProductId": 704,
                "Seasonality": 1,
                "Price": 17.79,
                "Profit": 6.18
              },
              {
                "ProductId": 705,
                "Seasonality": 3,
                "Price": 25.26,
                "Profit": 8.19
              },
              {
                "ProductId": 706,
                "Seasonality": 1,
                "Price": 20.73,
                "Profit": 5.37
              },
              {
                "ProductId": 707,
                "Seasonality": 2,
                "Price": 23.18,
                "Profit": 6.13
              },
              {
                "ProductId": 708,
                "Seasonality": 3,
                "Price": 20.87,
                "Profit": 5.23
              },
              {
                "ProductId": 709,
                "Seasonality": 2,
                "Price": 35.02,
                "Profit": 11.57
              },
              {
                "ProductId": 710,
                "Seasonality": 2,
                "Price": 24.39,
                "Profit": 7.26
              },
              {
                "ProductId": 711,
                "Seasonality": 2,
                "Price": 27.01,
                "Profit": 8.6
              },
              {
                "ProductId": 712,
                "Seasonality": 1,
                "Price": 22.28,
                "Profit": 6.05
              },
              {
                "ProductId": 713,
                "Seasonality": 1,
                "Price": 23.33,
                "Profit": 6.64
              },
              {
                "ProductId": 714,
                "Seasonality": 1,
                "Price": 28.88,
                "Profit": 8.97
              },
              {
                "ProductId": 715,
                "Seasonality": 3,
                "Price": 36.55,
                "Profit": 11.35
              },
              {
                "ProductId": 716,
                "Seasonality": 2,
                "Price": 26.64,
                "Profit": 7.51
              },
              {
                "ProductId": 717,
                "Seasonality": 3,
                "Price": 21.3,
                "Profit": 7.41
              },
              {
                "ProductId": 718,
                "Seasonality": 1,
                "Price": 25.23,
                "Profit": 8.16
              },
              {
                "ProductId": 719,
                "Seasonality": 3,
                "Price": 24.04,
                "Profit": 5.71
              },
              {
                "ProductId": 720,
                "Seasonality": 3,
                "Price": 29.81,
                "Profit": 8.92
              },
              {
                "ProductId": 721,
                "Seasonality": 3,
                "Price": 20.69,
                "Profit": 6.38
              },
              {
                "ProductId": 722,
                "Seasonality": 1,
                "Price": 24.99,
                "Profit": 7.37
              },
              {
                "ProductId": 723,
                "Seasonality": 1,
                "Price": 27.14,
                "Profit": 5.59
              },
              {
                "ProductId": 724,
                "Seasonality": 1,
                "Price": 24.45,
                "Profit": 8.32
              },
              {
                "ProductId": 725,
                "Seasonality": 1,
                "Price": 28.67,
                "Profit": 9.32
              },
              {
                "ProductId": 726,
                "Seasonality": 1,
                "Price": 30.93,
                "Profit": 9.16
              },
              {
                "ProductId": 727,
                "Seasonality": 2,
                "Price": 39.58,
                "Profit": 10.86
              },
              {
                "ProductId": 728,
                "Seasonality": 1,
                "Price": 28.39,
                "Profit": 9.74
              },
              {
                "ProductId": 729,
                "Seasonality": 2,
                "Price": 30.71,
                "Profit": 10.34
              },
              {
                "ProductId": 730,
                "Seasonality": 1,
                "Price": 33.87,
                "Profit": 10.5
              },
              {
                "ProductId": 731,
                "Seasonality": 2,
                "Price": 18.12,
                "Profit": 4.54
              },
              {
                "ProductId": 732,
                "Seasonality": 1,
                "Price": 33.95,
                "Profit": 9.01
              },
              {
                "ProductId": 733,
                "Seasonality": 3,
                "Price": 24.19,
                "Profit": 6.44
              },
              {
                "ProductId": 734,
                "Seasonality": 3,
                "Price": 26.81,
                "Profit": 8.4
              },
              {
                "ProductId": 735,
                "Seasonality": 3,
                "Price": 26.79,
                "Profit": 7.8
              },
              {
                "ProductId": 736,
                "Seasonality": 2,
                "Price": 25.17,
                "Profit": 7.66
              },
              {
                "ProductId": 737,
                "Seasonality": 1,
                "Price": 31.6,
                "Profit": 9.31
              },
              {
                "ProductId": 738,
                "Seasonality": 1,
                "Price": 36.93,
                "Profit": 8.8
              },
              {
                "ProductId": 739,
                "Seasonality": 1,
                "Price": 31.75,
                "Profit": 10.05
              },
              {
                "ProductId": 740,
                "Seasonality": 1,
                "Price": 27.58,
                "Profit": 5.75
              },
              {
                "ProductId": 741,
                "Seasonality": 1,
                "Price": 27.93,
                "Profit": 10.08
              },
              {
                "ProductId": 742,
                "Seasonality": 2,
                "Price": 28.55,
                "Profit": 8.01
              },
              {
                "ProductId": 743,
                "Seasonality": 2,
                "Price": 21.89,
                "Profit": 6.73
              },
              {
                "ProductId": 744,
                "Seasonality": 1,
                "Price": 33.36,
                "Profit": 11.14
              },
              {
                "ProductId": 745,
                "Seasonality": 1,
                "Price": 25.2,
                "Profit": 7.25
              },
              {
                "ProductId": 746,
                "Seasonality": 2,
                "Price": 28.37,
                "Profit": 7.65
              },
              {
                "ProductId": 747,
                "Seasonality": 2,
                "Price": 29.95,
                "Profit": 9.05
              },
              {
                "ProductId": 748,
                "Seasonality": 1,
                "Price": 30.74,
                "Profit": 7.63
              },
              {
                "ProductId": 749,
                "Seasonality": 3,
                "Price": 21.68,
                "Profit": 5.64
              },
              {
                "ProductId": 750,
                "Seasonality": 2,
                "Price": 32.34,
                "Profit": 10.52
              },
              {
                "ProductId": 751,
                "Seasonality": 2,
                "Price": 22.51,
                "Profit": 7.01
              },
              {
                "ProductId": 752,
                "Seasonality": 1,
                "Price": 19.27,
                "Profit": 6.32
              },
              {
                "ProductId": 753,
                "Seasonality": 1,
                "Price": 27.23,
                "Profit": 8.11
              },
              {
                "ProductId": 754,
                "Seasonality": 3,
                "Price": 32.75,
                "Profit": 9.66
              },
              {
                "ProductId": 755,
                "Seasonality": 3,
                "Price": 24.98,
                "Profit": 7.6
              },
              {
                "ProductId": 756,
                "Seasonality": 1,
                "Price": 17.4,
                "Profit": 5.52
              },
              {
                "ProductId": 757,
                "Seasonality": 2,
                "Price": 24.75,
                "Profit": 6.96
              },
              {
                "ProductId": 758,
                "Seasonality": 2,
                "Price": 23.15,
                "Profit": 6.42
              },
              {
                "ProductId": 759,
                "Seasonality": 1,
                "Price": 25,
                "Profit": 7.24
              },
              {
                "ProductId": 760,
                "Seasonality": 2,
                "Price": 35.91,
                "Profit": 11.77
              },
              {
                "ProductId": 761,
                "Seasonality": 2,
                "Price": 26.47,
                "Profit": 7.27
              },
              {
                "ProductId": 762,
                "Seasonality": 2,
                "Price": 19.45,
                "Profit": 4.89
              },
              {
                "ProductId": 763,
                "Seasonality": 1,
                "Price": 31.32,
                "Profit": 8.4
              },
              {
                "ProductId": 764,
                "Seasonality": 2,
                "Price": 24.02,
                "Profit": 8.27
              },
              {
                "ProductId": 765,
                "Seasonality": 1,
                "Price": 24.47,
                "Profit": 7.88
              },
              {
                "ProductId": 766,
                "Seasonality": 1,
                "Price": 33.77,
                "Profit": 10.53
              },
              {
                "ProductId": 767,
                "Seasonality": 1,
                "Price": 31.08,
                "Profit": 8.98
              },
              {
                "ProductId": 768,
                "Seasonality": 3,
                "Price": 31.86,
                "Profit": 9.71
              },
              {
                "ProductId": 769,
                "Seasonality": 1,
                "Price": 33.73,
                "Profit": 10.73
              },
              {
                "ProductId": 770,
                "Seasonality": 1,
                "Price": 18.35,
                "Profit": 5.68
              },
              {
                "ProductId": 771,
                "Seasonality": 3,
                "Price": 20.1,
                "Profit": 5.16
              },
              {
                "ProductId": 772,
                "Seasonality": 3,
                "Price": 20.29,
                "Profit": 5.51
              },
              {
                "ProductId": 773,
                "Seasonality": 3,
                "Price": 33.47,
                "Profit": 7.49
              },
              {
                "ProductId": 774,
                "Seasonality": 1,
                "Price": 16.19,
                "Profit": 4.35
              },
              {
                "ProductId": 775,
                "Seasonality": 1,
                "Price": 30.23,
                "Profit": 8.47
              },
              {
                "ProductId": 776,
                "Seasonality": 1,
                "Price": 29.16,
                "Profit": 7.96
              },
              {
                "ProductId": 777,
                "Seasonality": 3,
                "Price": 24.06,
                "Profit": 5.87
              },
              {
                "ProductId": 778,
                "Seasonality": 1,
                "Price": 26.67,
                "Profit": 6.08
              },
              {
                "ProductId": 779,
                "Seasonality": 1,
                "Price": 29.77,
                "Profit": 7.88
              },
              {
                "ProductId": 780,
                "Seasonality": 1,
                "Price": 22.78,
                "Profit": 6.87
              },
              {
                "ProductId": 3901,
                "Seasonality": 1,
                "Price": 14.08,
                "Profit": 3.57
              },
              {
                "ProductId": 3902,
                "Seasonality": 1,
                "Price": 31.3,
                "Profit": 7.85
              },
              {
                "ProductId": 3903,
                "Seasonality": 1,
                "Price": 29.39,
                "Profit": 7.83
              },
              {
                "ProductId": 3904,
                "Seasonality": 1,
                "Price": 20.64,
                "Profit": 5.92
              },
              {
                "ProductId": 3905,
                "Seasonality": 1,
                "Price": 31.22,
                "Profit": 11.66
              },
              {
                "ProductId": 3906,
                "Seasonality": 1,
                "Price": 23.69,
                "Profit": 6.5
              },
              {
                "ProductId": 3907,
                "Seasonality": 3,
                "Price": 29.05,
                "Profit": 10.1
              },
              {
                "ProductId": 3908,
                "Seasonality": 3,
                "Price": 18.5,
                "Profit": 4.75
              },
              {
                "ProductId": 3909,
                "Seasonality": 1,
                "Price": 26.09,
                "Profit": 7.7
              },
              {
                "ProductId": 3910,
                "Seasonality": 1,
                "Price": 25.87,
                "Profit": 6.74
              },
              {
                "ProductId": 3911,
                "Seasonality": 1,
                "Price": 34.56,
                "Profit": 8.97
              },
              {
                "ProductId": 3912,
                "Seasonality": 3,
                "Price": 21.28,
                "Profit": 4.94
              },
              {
                "ProductId": 3913,
                "Seasonality": 1,
                "Price": 22.16,
                "Profit": 5.72
              },
              {
                "ProductId": 3914,
                "Seasonality": 1,
                "Price": 33.19,
                "Profit": 10.3
              },
              {
                "ProductId": 3915,
                "Seasonality": 1,
                "Price": 36.84,
                "Profit": 10.62
              },
              {
                "ProductId": 3916,
                "Seasonality": 1,
                "Price": 33.23,
                "Profit": 11.25
              },
              {
                "ProductId": 3917,
                "Seasonality": 3,
                "Price": 31.41,
                "Profit": 10.65
              },
              {
                "ProductId": 3918,
                "Seasonality": 3,
                "Price": 24.82,
                "Profit": 6.92
              },
              {
                "ProductId": 3919,
                "Seasonality": 2,
                "Price": 28.91,
                "Profit": 9.54
              },
              {
                "ProductId": 3920,
                "Seasonality": 1,
                "Price": 26.62,
                "Profit": 6.8
              },
              {
                "ProductId": 3921,
                "Seasonality": 1,
                "Price": 20.87,
                "Profit": 7.15
              },
              {
                "ProductId": 3922,
                "Seasonality": 1,
                "Price": 32.73,
                "Profit": 9.29
              },
              {
                "ProductId": 3923,
                "Seasonality": 1,
                "Price": 29.1,
                "Profit": 8.39
              },
              {
                "ProductId": 3924,
                "Seasonality": 1,
                "Price": 19.41,
                "Profit": 6.42
              },
              {
                "ProductId": 3925,
                "Seasonality": 1,
                "Price": 26.35,
                "Profit": 7.71
              },
              {
                "ProductId": 3926,
                "Seasonality": 1,
                "Price": 29.3,
                "Profit": 8.89
              },
              {
                "ProductId": 3927,
                "Seasonality": 1,
                "Price": 34.03,
                "Profit": 10.58
              },
              {
                "ProductId": 3928,
                "Seasonality": 3,
                "Price": 34.3,
                "Profit": 10.1
              },
              {
                "ProductId": 3929,
                "Seasonality": 3,
                "Price": 40,
                "Profit": 14.16
              },
              {
                "ProductId": 3930,
                "Seasonality": 2,
                "Price": 29.02,
                "Profit": 9.99
              },
              {
                "ProductId": 3931,
                "Seasonality": 1,
                "Price": 29.56,
                "Profit": 7.88
              },
              {
                "ProductId": 3932,
                "Seasonality": 1,
                "Price": 28.78,
                "Profit": 7.66
              },
              {
                "ProductId": 3933,
                "Seasonality": 3,
                "Price": 14.68,
                "Profit": 4.46
              },
              {
                "ProductId": 3934,
                "Seasonality": 1,
                "Price": 32.7,
                "Profit": 8.61
              },
              {
                "ProductId": 3935,
                "Seasonality": 1,
                "Price": 28.85,
                "Profit": 12.05
              },
              {
                "ProductId": 3936,
                "Seasonality": 2,
                "Price": 32.01,
                "Profit": 10.46
              },
              {
                "ProductId": 3937,
                "Seasonality": 1,
                "Price": 25.79,
                "Profit": 7.11
              },
              {
                "ProductId": 3938,
                "Seasonality": 3,
                "Price": 26.02,
                "Profit": 6.61
              },
              {
                "ProductId": 3939,
                "Seasonality": 1,
                "Price": 24.57,
                "Profit": 8.04
              },
              {
                "ProductId": 3940,
                "Seasonality": 1,
                "Price": 29.62,
                "Profit": 10.11
              },
              {
                "ProductId": 3941,
                "Seasonality": 2,
                "Price": 27.81,
                "Profit": 10.17
              },
              {
                "ProductId": 3942,
                "Seasonality": 2,
                "Price": 23.74,
                "Profit": 6.94
              },
              {
                "ProductId": 3943,
                "Seasonality": 3,
                "Price": 33.97,
                "Profit": 8.97
              },
              {
                "ProductId": 3944,
                "Seasonality": 3,
                "Price": 31.76,
                "Profit": 9.78
              },
              {
                "ProductId": 3945,
                "Seasonality": 3,
                "Price": 22.96,
                "Profit": 6.1
              },
              {
                "ProductId": 3946,
                "Seasonality": 3,
                "Price": 25.54,
                "Profit": 9.31
              },
              {
                "ProductId": 3947,
                "Seasonality": 1,
                "Price": 30.53,
                "Profit": 9.57
              },
              {
                "ProductId": 3948,
                "Seasonality": 2,
                "Price": 34.92,
                "Profit": 11.5
              },
              {
                "ProductId": 3949,
                "Seasonality": 3,
                "Price": 28.19,
                "Profit": 8.73
              },
              {
                "ProductId": 3950,
                "Seasonality": 1,
                "Price": 32.23,
                "Profit": 7.49
              },
              {
                "ProductId": 3951,
                "Seasonality": 1,
                "Price": 38.73,
                "Profit": 10.36
              },
              {
                "ProductId": 3952,
                "Seasonality": 2,
                "Price": 33.66,
                "Profit": 10.52
              },
              {
                "ProductId": 3953,
                "Seasonality": 1,
                "Price": 28.8,
                "Profit": 8.92
              },
              {
                "ProductId": 3954,
                "Seasonality": 2,
                "Price": 27.88,
                "Profit": 8.4
              },
              {
                "ProductId": 3955,
                "Seasonality": 1,
                "Price": 27.41,
                "Profit": 7.8
              },
              {
                "ProductId": 3956,
                "Seasonality": 1,
                "Price": 26.24,
                "Profit": 8.06
              },
              {
                "ProductId": 3957,
                "Seasonality": 3,
                "Price": 28.33,
                "Profit": 8.28
              },
              {
                "ProductId": 3958,
                "Seasonality": 2,
                "Price": 30.08,
                "Profit": 10.18
              },
              {
                "ProductId": 3959,
                "Seasonality": 1,
                "Price": 25.86,
                "Profit": 8.87
              },
              {
                "ProductId": 3960,
                "Seasonality": 1,
                "Price": 22.99,
                "Profit": 6.31
              },
              {
                "ProductId": 3961,
                "Seasonality": 1,
                "Price": 35.88,
                "Profit": 8.87
              },
              {
                "ProductId": 3962,
                "Seasonality": 2,
                "Price": 20.99,
                "Profit": 6.29
              },
              {
                "ProductId": 3963,
                "Seasonality": 2,
                "Price": 35.53,
                "Profit": 11.97
              },
              {
                "ProductId": 3964,
                "Seasonality": 2,
                "Price": 19.2,
                "Profit": 5.85
              },
              {
                "ProductId": 3965,
                "Seasonality": 2,
                "Price": 31.25,
                "Profit": 9.69
              },
              {
                "ProductId": 3966,
                "Seasonality": 1,
                "Price": 15.17,
                "Profit": 4.75
              },
              {
                "ProductId": 3967,
                "Seasonality": 1,
                "Price": 22.88,
                "Profit": 6.74
              },
              {
                "ProductId": 3968,
                "Seasonality": 2,
                "Price": 27.24,
                "Profit": 8.03
              },
              {
                "ProductId": 3969,
                "Seasonality": 1,
                "Price": 27.36,
                "Profit": 9.11
              },
              {
                "ProductId": 3970,
                "Seasonality": 1,
                "Price": 26.98,
                "Profit": 8.31
              },
              {
                "ProductId": 3971,
                "Seasonality": 1,
                "Price": 31.01,
                "Profit": 11.44
              },
              {
                "ProductId": 3972,
                "Seasonality": 1,
                "Price": 38.22,
                "Profit": 12.1
              },
              {
                "ProductId": 3973,
                "Seasonality": 3,
                "Price": 29.62,
                "Profit": 8.48
              },
              {
                "ProductId": 3974,
                "Seasonality": 1,
                "Price": 32.58,
                "Profit": 10.64
              },
              {
                "ProductId": 3975,
                "Seasonality": 1,
                "Price": 20.42,
                "Profit": 6.95
              },
              {
                "ProductId": 3976,
                "Seasonality": 1,
                "Price": 22.44,
                "Profit": 5.29
              },
              {
                "ProductId": 3977,
                "Seasonality": 3,
                "Price": 31.78,
                "Profit": 8.91
              },
              {
                "ProductId": 3978,
                "Seasonality": 2,
                "Price": 31.51,
                "Profit": 10.99
              },
              {
                "ProductId": 3979,
                "Seasonality": 1,
                "Price": 18.27,
                "Profit": 4.93
              },
              {
                "ProductId": 3980,
                "Seasonality": 1,
                "Price": 34.85,
                "Profit": 13
              },
              {
                "ProductId": 3981,
                "Seasonality": 1,
                "Price": 26.52,
                "Profit": 8.51
              },
              {
                "ProductId": 3982,
                "Seasonality": 1,
                "Price": 21.57,
                "Profit": 6.92
              },
              {
                "ProductId": 3983,
                "Seasonality": 3,
                "Price": 36.37,
                "Profit": 8.92
              },
              {
                "ProductId": 3984,
                "Seasonality": 1,
                "Price": 22.06,
                "Profit": 5.97
              },
              {
                "ProductId": 3985,
                "Seasonality": 1,
                "Price": 25.45,
                "Profit": 6.98
              },
              {
                "ProductId": 3986,
                "Seasonality": 3,
                "Price": 34.64,
                "Profit": 10.53
              },
              {
                "ProductId": 3987,
                "Seasonality": 1,
                "Price": 31.79,
                "Profit": 11.26
              },
              {
                "ProductId": 3988,
                "Seasonality": 1,
                "Price": 21.11,
                "Profit": 6.46
              },
              {
                "ProductId": 3989,
                "Seasonality": 2,
                "Price": 25.26,
                "Profit": 10.47
              },
              {
                "ProductId": 3990,
                "Seasonality": 1,
                "Price": 25.45,
                "Profit": 8.85
              },
              {
                "ProductId": 3991,
                "Seasonality": 2,
                "Price": 23.66,
                "Profit": 8.7
              },
              {
                "ProductId": 3992,
                "Seasonality": 2,
                "Price": 19.87,
                "Profit": 7.18
              },
              {
                "ProductId": 3993,
                "Seasonality": 1,
                "Price": 6.65,
                "Profit": 1.92
              },
              {
                "ProductId": 3994,
                "Seasonality": 1,
                "Price": 22.47,
                "Profit": 6.1
              },
              {
                "ProductId": 3995,
                "Seasonality": 1,
                "Price": 24.84,
                "Profit": 7.51
              },
              {
                "ProductId": 3996,
                "Seasonality": 1,
                "Price": 23.53,
                "Profit": 7.49
              },
              {
                "ProductId": 3997,
                "Seasonality": 1,
                "Price": 40.43,
                "Profit": 13
              },
              {
                "ProductId": 3998,
                "Seasonality": 1,
                "Price": 23.07,
                "Profit": 6.82
              },
              {
                "ProductId": 3999,
                "Seasonality": 2,
                "Price": 23.78,
                "Profit": 6.95
              },
              {
                "ProductId": 4000,
                "Seasonality": 1,
                "Price": 38.94,
                "Profit": 12.87
              },
              {
                "ProductId": 4001,
                "Seasonality": 1,
                "Price": 24.24,
                "Profit": 7.09
              },
              {
                "ProductId": 4002,
                "Seasonality": 1,
                "Price": 20.38,
                "Profit": 6.78
              },
              {
                "ProductId": 4003,
                "Seasonality": 1,
                "Price": 20.45,
                "Profit": 6.54
              },
              {
                "ProductId": 4004,
                "Seasonality": 1,
                "Price": 29.77,
                "Profit": 8.17
              },
              {
                "ProductId": 4005,
                "Seasonality": 3,
                "Price": 25.88,
                "Profit": 8.55
              },
              {
                "ProductId": 4006,
                "Seasonality": 3,
                "Price": 31.34,
                "Profit": 8.3
              },
              {
                "ProductId": 4007,
                "Seasonality": 1,
                "Price": 31.25,
                "Profit": 9.53
              },
              {
                "ProductId": 4008,
                "Seasonality": 1,
                "Price": 26.73,
                "Profit": 8.19
              },
              {
                "ProductId": 4009,
                "Seasonality": 1,
                "Price": 27.57,
                "Profit": 8.38
              },
              {
                "ProductId": 4010,
                "Seasonality": 2,
                "Price": 30.43,
                "Profit": 10.12
              },
              {
                "ProductId": 4011,
                "Seasonality": 3,
                "Price": 36.74,
                "Profit": 12.84
              },
              {
                "ProductId": 4012,
                "Seasonality": 3,
                "Price": 35.92,
                "Profit": 13.01
              },
              {
                "ProductId": 4013,
                "Seasonality": 1,
                "Price": 38.22,
                "Profit": 12.41
              },
              {
                "ProductId": 4014,
                "Seasonality": 2,
                "Price": 29.99,
                "Profit": 6.8
              },
              {
                "ProductId": 4015,
                "Seasonality": 2,
                "Price": 31.72,
                "Profit": 9.86
              },
              {
                "ProductId": 4016,
                "Seasonality": 2,
                "Price": 33.06,
                "Profit": 11.12
              },
              {
                "ProductId": 4017,
                "Seasonality": 1,
                "Price": 31.62,
                "Profit": 10.01
              },
              {
                "ProductId": 4018,
                "Seasonality": 2,
                "Price": 24.94,
                "Profit": 7.03
              },
              {
                "ProductId": 4019,
                "Seasonality": 2,
                "Price": 27.3,
                "Profit": 6.09
              },
              {
                "ProductId": 4020,
                "Seasonality": 1,
                "Price": 19.03,
                "Profit": 6.58
              },
              {
                "ProductId": 4021,
                "Seasonality": 3,
                "Price": 31.12,
                "Profit": 9.37
              },
              {
                "ProductId": 4022,
                "Seasonality": 2,
                "Price": 21.59,
                "Profit": 6.23
              },
              {
                "ProductId": 4023,
                "Seasonality": 1,
                "Price": 36.93,
                "Profit": 7.69
              },
              {
                "ProductId": 4024,
                "Seasonality": 1,
                "Price": 25.97,
                "Profit": 6.98
              },
              {
                "ProductId": 4025,
                "Seasonality": 3,
                "Price": 24.55,
                "Profit": 7.69
              },
              {
                "ProductId": 4026,
                "Seasonality": 3,
                "Price": 30.54,
                "Profit": 11.15
              },
              {
                "ProductId": 4027,
                "Seasonality": 1,
                "Price": 23.3,
                "Profit": 8.01
              },
              {
                "ProductId": 4028,
                "Seasonality": 1,
                "Price": 25.13,
                "Profit": 7.02
              },
              {
                "ProductId": 4029,
                "Seasonality": 1,
                "Price": 31.57,
                "Profit": 9.27
              },
              {
                "ProductId": 4030,
                "Seasonality": 1,
                "Price": 33.55,
                "Profit": 11.43
              },
              {
                "ProductId": 4031,
                "Seasonality": 1,
                "Price": 25.26,
                "Profit": 8.74
              },
              {
                "ProductId": 4032,
                "Seasonality": 3,
                "Price": 24.45,
                "Profit": 6.77
              },
              {
                "ProductId": 4033,
                "Seasonality": 1,
                "Price": 37.14,
                "Profit": 12.28
              },
              {
                "ProductId": 4034,
                "Seasonality": 1,
                "Price": 28.31,
                "Profit": 9.21
              },
              {
                "ProductId": 4035,
                "Seasonality": 1,
                "Price": 33.14,
                "Profit": 8.95
              },
              {
                "ProductId": 4036,
                "Seasonality": 1,
                "Price": 21.53,
                "Profit": 6.8
              },
              {
                "ProductId": 4037,
                "Seasonality": 1,
                "Price": 27.63,
                "Profit": 7.88
              },
              {
                "ProductId": 4038,
                "Seasonality": 2,
                "Price": 26.07,
                "Profit": 7.77
              },
              {
                "ProductId": 4039,
                "Seasonality": 2,
                "Price": 28.3,
                "Profit": 8.5
              },
              {
                "ProductId": 4040,
                "Seasonality": 2,
                "Price": 28.68,
                "Profit": 9.43
              },
              {
                "ProductId": 4041,
                "Seasonality": 3,
                "Price": 28.12,
                "Profit": 8.72
              },
              {
                "ProductId": 4042,
                "Seasonality": 1,
                "Price": 29.38,
                "Profit": 11.07
              },
              {
                "ProductId": 4043,
                "Seasonality": 2,
                "Price": 30.16,
                "Profit": 9.67
              },
              {
                "ProductId": 4044,
                "Seasonality": 1,
                "Price": 12.56,
                "Profit": 3.13
              },
              {
                "ProductId": 4045,
                "Seasonality": 1,
                "Price": 30.86,
                "Profit": 9.3
              },
              {
                "ProductId": 4046,
                "Seasonality": 1,
                "Price": 28.64,
                "Profit": 9.88
              },
              {
                "ProductId": 4047,
                "Seasonality": 1,
                "Price": 25.08,
                "Profit": 6.77
              },
              {
                "ProductId": 4048,
                "Seasonality": 1,
                "Price": 35.11,
                "Profit": 12.22
              },
              {
                "ProductId": 4049,
                "Seasonality": 3,
                "Price": 33.53,
                "Profit": 11.11
              },
              {
                "ProductId": 4050,
                "Seasonality": 1,
                "Price": 22.34,
                "Profit": 6.04
              },
              {
                "ProductId": 4051,
                "Seasonality": 2,
                "Price": 21.06,
                "Profit": 6.48
              },
              {
                "ProductId": 4052,
                "Seasonality": 1,
                "Price": 23.59,
                "Profit": 6.68
              },
              {
                "ProductId": 4053,
                "Seasonality": 1,
                "Price": 30.97,
                "Profit": 9
              },
              {
                "ProductId": 4054,
                "Seasonality": 1,
                "Price": 31.13,
                "Profit": 11.33
              },
              {
                "ProductId": 4055,
                "Seasonality": 1,
                "Price": 22.84,
                "Profit": 7.11
              },
              {
                "ProductId": 4056,
                "Seasonality": 2,
                "Price": 14.72,
                "Profit": 4.87
              },
              {
                "ProductId": 4057,
                "Seasonality": 2,
                "Price": 30.35,
                "Profit": 10.07
              },
              {
                "ProductId": 4058,
                "Seasonality": 2,
                "Price": 25.34,
                "Profit": 7.96
              },
              {
                "ProductId": 4059,
                "Seasonality": 1,
                "Price": 20.42,
                "Profit": 6.4
              },
              {
                "ProductId": 4060,
                "Seasonality": 1,
                "Price": 28.94,
                "Profit": 6.95
              },
              {
                "ProductId": 4061,
                "Seasonality": 1,
                "Price": 28.59,
                "Profit": 8.68
              },
              {
                "ProductId": 4062,
                "Seasonality": 2,
                "Price": 37.98,
                "Profit": 9.94
              },
              {
                "ProductId": 4063,
                "Seasonality": 1,
                "Price": 20.56,
                "Profit": 7
              },
              {
                "ProductId": 4064,
                "Seasonality": 3,
                "Price": 21.99,
                "Profit": 3.8
              },
              {
                "ProductId": 4065,
                "Seasonality": 3,
                "Price": 29.57,
                "Profit": 11.38
              },
              {
                "ProductId": 4066,
                "Seasonality": 2,
                "Price": 19.84,
                "Profit": 4.54
              },
              {
                "ProductId": 4067,
                "Seasonality": 2,
                "Price": 23.66,
                "Profit": 6.86
              },
              {
                "ProductId": 4068,
                "Seasonality": 1,
                "Price": 30.97,
                "Profit": 8.9
              },
              {
                "ProductId": 4069,
                "Seasonality": 3,
                "Price": 29.16,
                "Profit": 7.18
              },
              {
                "ProductId": 4070,
                "Seasonality": 1,
                "Price": 35.76,
                "Profit": 9.16
              },
              {
                "ProductId": 4071,
                "Seasonality": 1,
                "Price": 33.3,
                "Profit": 8.98
              },
              {
                "ProductId": 4072,
                "Seasonality": 1,
                "Price": 27.38,
                "Profit": 9.08
              },
              {
                "ProductId": 4073,
                "Seasonality": 3,
                "Price": 22.3,
                "Profit": 7.57
              },
              {
                "ProductId": 4074,
                "Seasonality": 1,
                "Price": 29.39,
                "Profit": 7.32
              },
              {
                "ProductId": 4075,
                "Seasonality": 1,
                "Price": 15.83,
                "Profit": 4.78
              },
              {
                "ProductId": 4076,
                "Seasonality": 1,
                "Price": 23.02,
                "Profit": 6.43
              },
              {
                "ProductId": 4077,
                "Seasonality": 3,
                "Price": 23.87,
                "Profit": 9.24
              },
              {
                "ProductId": 4078,
                "Seasonality": 1,
                "Price": 25.5,
                "Profit": 8.49
              },
              {
                "ProductId": 4079,
                "Seasonality": 1,
                "Price": 19.04,
                "Profit": 5.94
              },
              {
                "ProductId": 4080,
                "Seasonality": 1,
                "Price": 25.46,
                "Profit": 8.76
              },
              {
                "ProductId": 4081,
                "Seasonality": 1,
                "Price": 19.52,
                "Profit": 5.59
              },
              {
                "ProductId": 4082,
                "Seasonality": 3,
                "Price": 22.39,
                "Profit": 7.1
              },
              {
                "ProductId": 4083,
                "Seasonality": 1,
                "Price": 27.64,
                "Profit": 7.9
              },
              {
                "ProductId": 4084,
                "Seasonality": 3,
                "Price": 36.87,
                "Profit": 11.43
              },
              {
                "ProductId": 4085,
                "Seasonality": 1,
                "Price": 32.75,
                "Profit": 9.92
              },
              {
                "ProductId": 4086,
                "Seasonality": 1,
                "Price": 15.36,
                "Profit": 4.61
              },
              {
                "ProductId": 4087,
                "Seasonality": 2,
                "Price": 24.24,
                "Profit": 6.75
              },
              {
                "ProductId": 4088,
                "Seasonality": 1,
                "Price": 26.96,
                "Profit": 8.67
              },
              {
                "ProductId": 4089,
                "Seasonality": 1,
                "Price": 29.04,
                "Profit": 7.89
              },
              {
                "ProductId": 4090,
                "Seasonality": 1,
                "Price": 26.43,
                "Profit": 6.87
              },
              {
                "ProductId": 4091,
                "Seasonality": 2,
                "Price": 24.96,
                "Profit": 6.61
              },
              {
                "ProductId": 4092,
                "Seasonality": 2,
                "Price": 33.37,
                "Profit": 9.04
              },
              {
                "ProductId": 4093,
                "Seasonality": 1,
                "Price": 26.7,
                "Profit": 8.78
              },
              {
                "ProductId": 4094,
                "Seasonality": 2,
                "Price": 19.49,
                "Profit": 5.13
              },
              {
                "ProductId": 4095,
                "Seasonality": 1,
                "Price": 36.62,
                "Profit": 10.91
              },
              {
                "ProductId": 4096,
                "Seasonality": 2,
                "Price": 25.55,
                "Profit": 8.63
              },
              {
                "ProductId": 4097,
                "Seasonality": 3,
                "Price": 23.33,
                "Profit": 5.65
              },
              {
                "ProductId": 4098,
                "Seasonality": 1,
                "Price": 22.73,
                "Profit": 7.11
              },
              {
                "ProductId": 4099,
                "Seasonality": 1,
                "Price": 31.25,
                "Profit": 8.14
              },
              {
                "ProductId": 4100,
                "Seasonality": 3,
                "Price": 29.86,
                "Profit": 9.02
              },
              {
                "ProductId": 4101,
                "Seasonality": 1,
                "Price": 25.83,
                "Profit": 9.75
              },
              {
                "ProductId": 4102,
                "Seasonality": 2,
                "Price": 18.9,
                "Profit": 6.1
              },
              {
                "ProductId": 4103,
                "Seasonality": 2,
                "Price": 27.02,
                "Profit": 7.43
              },
              {
                "ProductId": 4104,
                "Seasonality": 1,
                "Price": 34.07,
                "Profit": 10.67
              },
              {
                "ProductId": 4105,
                "Seasonality": 2,
                "Price": 28.77,
                "Profit": 7.89
              },
              {
                "ProductId": 4106,
                "Seasonality": 1,
                "Price": 30.14,
                "Profit": 9.56
              },
              {
                "ProductId": 4107,
                "Seasonality": 1,
                "Price": 26,
                "Profit": 6.45
              },
              {
                "ProductId": 4108,
                "Seasonality": 3,
                "Price": 34.83,
                "Profit": 10.46
              },
              {
                "ProductId": 4109,
                "Seasonality": 1,
                "Price": 29.74,
                "Profit": 7.55
              },
              {
                "ProductId": 4110,
                "Seasonality": 1,
                "Price": 23.81,
                "Profit": 6.46
              },
              {
                "ProductId": 4111,
                "Seasonality": 2,
                "Price": 32.06,
                "Profit": 9.27
              },
              {
                "ProductId": 4112,
                "Seasonality": 2,
                "Price": 29.44,
                "Profit": 8.87
              },
              {
                "ProductId": 4113,
                "Seasonality": 1,
                "Price": 23.29,
                "Profit": 6.19
              },
              {
                "ProductId": 4114,
                "Seasonality": 2,
                "Price": 25.17,
                "Profit": 8.9
              },
              {
                "ProductId": 4115,
                "Seasonality": 1,
                "Price": 25.75,
                "Profit": 7.9
              },
              {
                "ProductId": 4116,
                "Seasonality": 3,
                "Price": 25.74,
                "Profit": 8.86
              },
              {
                "ProductId": 4117,
                "Seasonality": 1,
                "Price": 26.15,
                "Profit": 8.84
              },
              {
                "ProductId": 4118,
                "Seasonality": 1,
                "Price": 24.17,
                "Profit": 6.71
              },
              {
                "ProductId": 4119,
                "Seasonality": 1,
                "Price": 28.72,
                "Profit": 9.12
              },
              {
                "ProductId": 4120,
                "Seasonality": 1,
                "Price": 17.63,
                "Profit": 5.58
              },
              {
                "ProductId": 4121,
                "Seasonality": 2,
                "Price": 30.14,
                "Profit": 7.68
              }
            ],
            "schema": {
              "ProductId": "int",
              "Seasonality": "int",
              "Price": "object",
              "Profit": "object"
            },
            "filter": null
          },
          "isSql": false
        }
      },
      "source": [
        "val df = spark.read.sqlanalytics(\"SQLPool01.wwi_mcw.SaleSmall\") \n",
        "df.createOrReplaceTempView(\"sale\")\n",
        "\n",
        "val df2 = spark.read.sqlanalytics(\"SQLPool01.wwi_mcw.Product\") \n",
        "df2.createOrReplaceTempView(\"product\")\n",
        "display(df2)"
      ],
      "attachments": {}
    },
    {
      "cell_type": "markdown",
      "metadata": {},
      "source": [
        "Load daily product sales from the SQL pool.\n",
        "\n",
        "**IMPORTANT!** Switch the language in the top toolbar to **PySpark (Python)**.\n",
        ""
      ],
      "attachments": {}
    },
    {
      "cell_type": "code",
      "execution_count": null,
      "outputs": [],
      "metadata": {},
      "source": [
        "sqlQuery = \"\"\"\n",
        "SELECT\n",
        "    P.ProductId\n",
        "    ,P.Seasonality\n",
        "    ,S.TransactionDateId\n",
        "    ,COUNT(*) as TransactionItemsCount\n",
        "FROM\n",
        "    sale S\n",
        "    JOIN product P ON\n",
        "        S.ProductId = P.ProductId\n",
        "GROUP BY\n",
        "    P.ProductId\n",
        "    ,P.Seasonality\n",
        "    ,S.TransactionDateId\n",
        "\"\"\"\n",
        "\n",
        "prod_df = spark.sql(sqlQuery)\n",
        "prod_df.cache()"
      ],
      "attachments": {}
    },
    {
      "cell_type": "markdown",
      "metadata": {},
      "source": [
        "Check the number of records in the data farame (should be around 2.6 million rows)."
      ],
      "attachments": {}
    },
    {
      "cell_type": "code",
      "execution_count": null,
      "outputs": [],
      "metadata": {},
      "source": [
        "prod_df.count()"
      ],
      "attachments": {}
    },
    {
      "cell_type": "markdown",
      "metadata": {},
      "source": [
        "Display some statistics about the data frame.\n",
        ""
      ],
      "attachments": {}
    },
    {
      "cell_type": "code",
      "execution_count": null,
      "outputs": [],
      "metadata": {
        "diagram": {
          "activateDiagramType": 1,
          "chartConfig": {
            "category": "bar",
            "keys": [
              "summary"
            ],
            "values": [
              "summary"
            ],
            "yLabel": "summary",
            "xLabel": "summary",
            "aggregation": "COUNT",
            "aggByBackend": false
          },
          "aggData": {
            "summary": {
              "count": 1,
              "max": 1,
              "mean": 1,
              "min": 1,
              "stddev": 1
            }
          },
          "isSummary": false,
          "previewData": {
            "rows": [
              {
                "summary": "count",
                "ProductId": "2613911",
                "Seasonality": "2613911",
                "TransactionDateId": "2613911",
                "TransactionItemsCount": "2613911"
              },
              {
                "summary": "mean",
                "ProductId": "2456.2238335582197",
                "Seasonality": "1.2445768046425452",
                "TransactionDateId": "2.0185656041690785E7",
                "TransactionItemsCount": "255.19230379305188"
              },
              {
                "summary": "stddev",
                "ProductId": "1463.5132880570368",
                "Seasonality": "0.5892939292095883",
                "TransactionDateId": "5011.845519111926",
                "TransactionItemsCount": "372.030807920429"
              },
              {
                "summary": "min",
                "ProductId": "1",
                "Seasonality": "1",
                "TransactionDateId": "20180101",
                "TransactionItemsCount": "1"
              },
              {
                "summary": "max",
                "ProductId": "5000",
                "Seasonality": "3",
                "TransactionDateId": "20191231",
                "TransactionItemsCount": "2861"
              }
            ],
            "schema": {
              "summary": "string",
              "ProductId": "string",
              "Seasonality": "string",
              "TransactionDateId": "string",
              "TransactionItemsCount": "string"
            },
            "filter": null
          },
          "isSql": false
        }
      },
      "source": [
        "display(prod_df.describe())"
      ],
      "attachments": {}
    },
    {
      "cell_type": "markdown",
      "metadata": {},
      "source": [
        "Pivot the data frame to make daily sale items counts columns. \n",
        ""
      ],
      "attachments": {}
    },
    {
      "cell_type": "code",
      "execution_count": null,
      "outputs": [],
      "metadata": {},
      "source": [
        "prod_prep_df = prod_df.groupBy(['ProductId', 'Seasonality']).pivot('TransactionDateId').sum('TransactionItemsCount').toPandas()"
      ],
      "attachments": {}
    },
    {
      "cell_type": "markdown",
      "metadata": {},
      "source": [
        "Clean up the nulls and take a look at the result.\n",
        ""
      ],
      "attachments": {}
    },
    {
      "cell_type": "code",
      "execution_count": null,
      "outputs": [],
      "metadata": {},
      "source": [
        "prod_prep_df = prod_prep_df.fillna(0)\n",
        "prod_prep_df.head(10)"
      ],
      "attachments": {}
    },
    {
      "cell_type": "markdown",
      "metadata": {},
      "source": [
        "Isloate features and prediction classes.\n",
        "\n",
        "Standardize features by removing the mean and scaling to unit variance.\n",
        ""
      ],
      "attachments": {}
    },
    {
      "cell_type": "code",
      "execution_count": null,
      "outputs": [],
      "metadata": {},
      "source": [
        "X = prod_prep_df.iloc[:, 2:].values\n",
        "y = prod_prep_df['Seasonality'].values\n",
        "\n",
        "X_scale = StandardScaler().fit_transform(X)"
      ],
      "attachments": {}
    },
    {
      "cell_type": "markdown",
      "metadata": {},
      "source": [
        "## Use PCA for dimensionality reduction\n",
        "\n",
        "Perform dimensionality reduction using Principal Components Analysis and two target components.\n",
        ""
      ],
      "attachments": {}
    },
    {
      "cell_type": "code",
      "execution_count": null,
      "outputs": [],
      "metadata": {},
      "source": [
        "pca = PCA(n_components=2)\n",
        "principal_components = pca.fit_transform(X_scale)\n",
        "principal_components = MinMaxScaler().fit_transform(principal_components)\n",
        "\n",
        "pca_df = pd.DataFrame(data = principal_components, columns = ['pc1', 'pc2'])\n",
        "pca_df = pd.concat([pca_df, prod_prep_df[['Seasonality']]], axis = 1)"
      ],
      "attachments": {}
    },
    {
      "cell_type": "markdown",
      "metadata": {},
      "source": [
        "Display the products data frame in two dimensions (mapped to the two principal components).\n",
        "\n",
        "Note the clear separation of clusters.\n",
        ""
      ],
      "attachments": {}
    },
    {
      "cell_type": "code",
      "execution_count": null,
      "outputs": [],
      "metadata": {},
      "source": [
        "fig = plt.figure(figsize = (6,6))\n",
        "ax = fig.add_subplot(1,1,1) \n",
        "ax.set_xlabel('Principal Component 1', fontsize = 15)\n",
        "ax.set_ylabel('Principal Component 2', fontsize = 15)\n",
        "ax.set_title('2 component PCA', fontsize = 20)\n",
        "targets = [1, 2, 3]\n",
        "colors = ['r', 'g', 'b']\n",
        "for target, color in zip(targets,colors):\n",
        "    indicesToKeep = pca_df['Seasonality'] == target\n",
        "    ax.scatter(pca_df.loc[indicesToKeep, 'pc1']\n",
        "               , pca_df.loc[indicesToKeep, 'pc2']\n",
        "               , c = color\n",
        "               , s = 1)\n",
        "ax.legend(['All Season Products', 'Summer Products', 'Winter Products'])\n",
        "ax.plot([-0.05, 1.05], [0.77, 1.0], linestyle=':', linewidth=1, color='y')\n",
        "ax.plot([-0.05, 1.05], [0.37, 0.6], linestyle=':', linewidth=1, color='y')\n",
        "ax.grid()\n",
        "\n",
        "plt.show()\n",
        "plt.close()"
      ],
      "attachments": {}
    },
    {
      "cell_type": "markdown",
      "metadata": {},
      "source": [
        "Redo the Principal Components Analysis, this time with twenty dimensions.\n",
        ""
      ],
      "attachments": {}
    },
    {
      "cell_type": "code",
      "execution_count": null,
      "outputs": [],
      "metadata": {},
      "source": [
        "def col_name(x):\n",
        "    return f'f{x:02}'\n",
        "\n",
        "pca = PCA(n_components=20)\n",
        "principal_components = pca.fit_transform(X_scale)\n",
        "principal_components = MinMaxScaler().fit_transform(principal_components)\n",
        "\n",
        "X = pd.DataFrame(data = principal_components, columns = list(map(col_name, np.arange(0, 20))))\n",
        "pca_df = pd.concat([X, prod_prep_df[['ProductId']]], axis = 1)\n",
        "pca_automl_df = pd.concat([X, prod_prep_df[['Seasonality']]], axis = 1)\n",
        "\n",
        "X = X[:4500]\n",
        "y = prod_prep_df['Seasonality'][:4500]\n",
        "pca_automl_df = pca_automl_df[:4500]"
      ],
      "attachments": {}
    },
    {
      "cell_type": "markdown",
      "metadata": {},
      "source": [
        "Save the PCA components to the SQL pool (you may ignore any warnings).\n",
        ""
      ],
      "attachments": {}
    },
    {
      "cell_type": "code",
      "execution_count": null,
      "outputs": [],
      "metadata": {},
      "source": [
        "pca_sdf = spark.createDataFrame(pca_df)\n",
        "pca_sdf.createOrReplaceTempView(\"productpca\")"
      ],
      "attachments": {}
    },
    {
      "cell_type": "markdown",
      "metadata": {},
      "source": [
        "**IMPORTANT**: switch the language to **Spark (Scala)**. Also replace `SQLPool01` with the name of your SQL Pool.\n",
        ""
      ],
      "attachments": {}
    },
    {
      "cell_type": "code",
      "execution_count": null,
      "outputs": [],
      "metadata": {},
      "source": [
        "val df = spark.sqlContext.sql(\"select * from productpca\")\n",
        "df.write.sqlanalytics(\"SQLPool01.wwi_mcw.ProductPCA\", Constants.INTERNAL)"
      ],
      "attachments": {}
    },
    {
      "cell_type": "markdown",
      "metadata": {},
      "source": [
        "## Train ensemble of trees classifier (using XGBoost)\n",
        "\n",
        "Split into test and training data sets.\n",
        "\n",
        "**IMPORTANT!** - Switch the language back to **Spark (Python)**.\n",
        ""
      ],
      "attachments": {}
    },
    {
      "cell_type": "code",
      "execution_count": null,
      "outputs": [],
      "metadata": {},
      "source": [
        "X_train, X_test, y_train, y_test = train_test_split(X, y, test_size=0.25, random_state=123)"
      ],
      "attachments": {}
    },
    {
      "cell_type": "markdown",
      "metadata": {},
      "source": [
        "Train the ensemble classifier using XGBoost.\n",
        ""
      ],
      "attachments": {}
    },
    {
      "cell_type": "code",
      "execution_count": null,
      "outputs": [],
      "metadata": {},
      "source": [
        "model = XGBClassifier()\n",
        "model.fit(X_train, y_train)"
      ],
      "attachments": {}
    },
    {
      "cell_type": "markdown",
      "metadata": {},
      "source": [
        "Perform predictions with the newly trained model.\n",
        ""
      ],
      "attachments": {}
    },
    {
      "cell_type": "code",
      "execution_count": null,
      "outputs": [],
      "metadata": {},
      "source": [
        "y_pred = model.predict(X_test)"
      ],
      "attachments": {}
    },
    {
      "cell_type": "markdown",
      "metadata": {},
      "source": [
        "Calculate the accuracy of the model using test data.\n",
        ""
      ],
      "attachments": {}
    },
    {
      "cell_type": "code",
      "execution_count": null,
      "outputs": [],
      "metadata": {},
      "source": [
        "accuracy = accuracy_score(y_test, y_pred)\n",
        "print(\"Accuracy: %.2f%%\" % (accuracy * 100.0))"
      ],
      "attachments": {}
    },
    {
      "cell_type": "markdown",
      "metadata": {},
      "source": [
        "Convert trained model to ONNX format.\n",
        ""
      ],
      "attachments": {}
    },
    {
      "cell_type": "code",
      "execution_count": null,
      "outputs": [],
      "metadata": {},
      "source": [
        "initial_types = [\n",
        "    ('input', FloatTensorType([1, 20]))\n",
        "]\n",
        "\n",
        "onnx_model = convert_xgboost(model, initial_types=initial_types)"
      ],
      "attachments": {}
    },
    {
      "cell_type": "markdown",
      "metadata": {},
      "source": [
        "## Train classifier using Auto ML\n",
        ""
      ],
      "attachments": {}
    },
    {
      "cell_type": "code",
      "execution_count": null,
      "outputs": [],
      "metadata": {},
      "source": [
        "from azureml.core.experiment import Experiment\n",
        "from azureml.core.workspace import Workspace\n",
        "from azureml.train.automl.run import AutoMLRun\n",
        "from azureml.train.automl import AutoMLConfig\n",
        "from azureml.automl.runtime.onnx_convert import OnnxConverter"
      ],
      "attachments": {}
    },
    {
      "cell_type": "markdown",
      "metadata": {},
      "source": [
        "Configure the connection to the Azure Machine Learning workspace. The Azure portal provides all the values below.\n",
        ""
      ],
      "attachments": {}
    },
    {
      "cell_type": "code",
      "execution_count": null,
      "outputs": [],
      "metadata": {},
      "source": [
        "subscription_id= '<subscription_id>'         # replace with your Azure subscription id\n",
        "resource_group= '<resource_group_name>'      # replace with your resource group name\n",
        "workspace_name= '<aml_workspace_name>'       # replace with your Azure Machine Learning workspace name\n",
        "ws = Workspace(subscription_id = subscription_id, resource_group = resource_group, workspace_name = workspace_name)\n",
        "ws.write_config()\n",
        "ws = Workspace.from_config()\n",
        "experiment = Experiment(ws, \"ASAMCW_Product_Seasonality\")"
      ],
      "attachments": {}
    },
    {
      "cell_type": "markdown",
      "metadata": {},
      "source": [
        "Configure the Automated Machine Learning experiment and start it (will run on local compute resources).\n",
        ""
      ],
      "attachments": {}
    },
    {
      "cell_type": "code",
      "execution_count": null,
      "outputs": [],
      "metadata": {},
      "source": [
        "automl_classifier_config = AutoMLConfig(\n",
        "        task='classification',\n",
        "        #experiment_exit_score = 0.995,\n",
        "        experiment_timeout_minutes=3,\n",
        "        enable_onnx_compatible_models=True,\n",
        "        training_data=pca_automl_df,\n",
        "        label_column_name='Seasonality',\n",
        "        n_cross_validations=5,\n",
        "        enable_voting_ensemble=False,\n",
        "        enable_stack_ensemble=False\n",
        "        )\n",
        "\n",
        "local_run = experiment.submit(automl_classifier_config, show_output=True)"
      ],
      "attachments": {}
    },
    {
      "cell_type": "markdown",
      "metadata": {},
      "source": [
        "Retrieve the best model directly in ONNX format and take a look at it.\n",
        ""
      ],
      "attachments": {}
    },
    {
      "cell_type": "code",
      "execution_count": null,
      "outputs": [],
      "metadata": {},
      "source": [
        "best_run, onnx_model2 = local_run.get_output(return_onnx_model=True)"
      ],
      "attachments": {}
    },
    {
      "cell_type": "markdown",
      "metadata": {},
      "source": [
        "Replace below the placeholders with the name of the primary data lake account and one of it's security keys."
      ],
      "attachments": {}
    },
    {
      "cell_type": "code",
      "execution_count": null,
      "outputs": [],
      "metadata": {},
      "source": [
        "from azure.storage.blob import BlockBlobService\n",
        "\n",
        "block_blob_service = BlockBlobService(\n",
        "    account_name='<primary data lake account>', account_key='<account key>') \n",
        "\n",
        "block_blob_service.create_blob_from_text('wwi-02', '/ml/onnx/product_seasonality_classifier.onnx', onnx_model2.SerializeToString())"
      ],
      "attachments": {}
    }
  ]
}