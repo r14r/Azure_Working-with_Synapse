{
  "metadata": {
    "saveOutput": true,
    "language_info": {
      "name": "python"
    }
  },
  "nbformat": 4,
  "nbformat_minor": 2,
  "cells": [
    {
      "cell_type": "code",
      "execution_count": null,
      "outputs": [],
      "metadata": {},
      "source": [
        "import codecs\n",
        "\n",
        "session = spark.builder.getOrCreate();\n",
        "\n",
        "storage_account_name = \"#STORAGE_ACCOUNT_NAME#\"\n",
        "storage_account_access_key = \"#STORAGE_ACCOUNT_KEY#\"\n",
        "\n",
        "session.conf.set(\n",
        "\t\"fs.azure.account.key.#STORAGE_ACCOUNT_NAME#.blob.core.windows.net\",\n",
        "\t\"#STORAGE_ACCOUNT_KEY#\"\n",
        ")\n",
        "\n",
        "sdf = session.read.text(\n",
        "\t\"wasbs://wwi-02@#STORAGE_ACCOUNT_NAME#.blob.core.windows.net/ml/product_seasonality_classifier.onnx\"\n",
        ")\n",
        "\n",
        "def compare(a, b, encoding=\"utf8\"):\n",
        "    if isinstance(a, bytes):\n",
        "        a = a.decode(encoding)\n",
        "    if isinstance(b, bytes):\n",
        "        b = b.decode(encoding)\n",
        "    return a == b\n",
        "\n",
        "for xs in sdf.take(sdf.count()):\n",
        "    for x in xs:\n",
        "        for l in x:\n",
        "            try:\n",
        "                arr = bytes(l, 'utf-8')\n",
        "\n",
        "                newArr = codecs.getencoder('hex')(arr)[0]\n",
        "\n",
        "                if compare(newArr, b'efbfbd'):\n",
        "                    newArr = b'b4'\n",
        "\n",
        "                str3 = str3 + newArr.decode(\"utf-8\")\n",
        "                \n",
        "            except:\n",
        "                print('Skipping' + l)\n",
        "\n",
        "print(str3)\n",
        "\n",
        "from azure.storage.blob import BlockBlobService\n",
        "\n",
        "block_blob_service = BlockBlobService(storage_account_name, storage_account_access_key) \n",
        "block_blob_service.create_blob_from_text('wwi-02', '/ml/onnx/model.onnx.hex', str3)\n"
      ],
      "attachments": {}
    }
  ]
}