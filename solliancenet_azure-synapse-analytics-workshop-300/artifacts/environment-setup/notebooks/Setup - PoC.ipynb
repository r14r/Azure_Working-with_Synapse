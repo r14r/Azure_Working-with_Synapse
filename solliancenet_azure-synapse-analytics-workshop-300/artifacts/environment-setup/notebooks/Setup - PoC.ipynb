{
  "metadata": {
    "saveOutput": true,
    "language_info": {
      "name": "python"
    }
  },
  "nbformat": 4,
  "nbformat_minor": 2,
  "cells": [
    {
      "cell_type": "code",
      "execution_count": 6,
      "outputs": [],
      "metadata": {},
      "source": [
        "from azure.storage.blob import BlockBlobService\n",
        "\n",
        "block_blob_service = BlockBlobService(\n",
        "    account_name='asadatalake176496', account_key='1XM/nC/u7/JAC+FRHhFoyNeo1n3ipBY86quFoY9D3ITmPRoDFx8EMdjWwdCmN6Yg3RCsm7AFESDiaszF9VTxPw==') "
      ],
      "attachments": {}
    },
    {
      "cell_type": "code",
      "execution_count": 9,
      "outputs": [
        {
          "output_type": "execute_result",
          "execution_count": 9,
          "data": {
            "text/plain": "abfss://wwi-02@asadatalake176496.dfs.core.windows.net/sale-small/Year=2017/Quarter=Q2/Month=5/Day=20170501/sale-small-20170501-snappy.parquet\n<azure.storage.blob.models.ResourceProperties object at 0x7fe804bca160>\nabfss://wwi-02@asadatalake176496.dfs.core.windows.net/sale-small/Year=2017/Quarter=Q2/Month=5/Day=20170502/sale-small-20170502-snappy.parquet\n<azure.storage.blob.models.ResourceProperties object at 0x7fe81b5519e8>\nabfss://wwi-02@asadatalake176496.dfs.core.windows.net/sale-small/Year=2017/Quarter=Q2/Month=5/Day=20170503/sale-small-20170503-snappy.parquet\n<azure.storage.blob.models.ResourceProperties object at 0x7fe81b5e02b0>\nabfss://wwi-02@asadatalake176496.dfs.core.windows.net/sale-small/Year=2017/Quarter=Q2/Month=5/Day=20170504/sale-small-20170504-snappy.parquet\n<azure.storage.blob.models.ResourceProperties object at 0x7fe804ba9f60>\nabfss://wwi-02@asadatalake176496.dfs.core.windows.net/sale-small/Year=2017/Quarter=Q2/Month=5/Day=20170505/sale-small-20170505-snappy.parquet\n<azure.storage.blob.models.ResourceProperties object at 0x7fe7f427f160>\nabfss://wwi-02@asadatalake176496.dfs.core.windows.net/sale-small/Year=2017/Quarter=Q2/Month=5/Day=20170506/sale-small-20170506-snappy.parquet\n<azure.storage.blob.models.ResourceProperties object at 0x7fe804bca8d0>\nabfss://wwi-02@asadatalake176496.dfs.core.windows.net/sale-small/Year=2017/Quarter=Q2/Month=5/Day=20170507/sale-small-20170507-snappy.parquet\n<azure.storage.blob.models.ResourceProperties object at 0x7fe7f425f9e8>\nabfss://wwi-02@asadatalake176496.dfs.core.windows.net/sale-small/Year=2017/Quarter=Q2/Month=5/Day=20170508/sale-small-20170508-snappy.parquet\n<azure.storage.blob.models.ResourceProperties object at 0x7fe81b5dad68>\nabfss://wwi-02@asadatalake176496.dfs.core.windows.net/sale-small/Year=2017/Quarter=Q2/Month=5/Day=20170509/sale-small-20170509-snappy.parquet\n<azure.storage.blob.models.ResourceProperties object at 0x7fe7f425f710>\nabfss://wwi-02@asadatalake176496.dfs.core.windows.net/sale-small/Year=2017/Quarter=Q2/Month=5/Day=20170510/sale-small-20170510-snappy.parquet\n<azure.storage.blob.models.ResourceProperties object at 0x7fe804bca470>\nabfss://wwi-02@asadatalake176496.dfs.core.windows.net/sale-small/Year=2017/Quarter=Q2/Month=5/Day=20170511/sale-small-20170511-snappy.parquet\n<azure.storage.blob.models.ResourceProperties object at 0x7fe7f42535c0>\nabfss://wwi-02@asadatalake176496.dfs.core.windows.net/sale-small/Year=2017/Quarter=Q2/Month=5/Day=20170512/sale-small-20170512-snappy.parquet\n<azure.storage.blob.models.ResourceProperties object at 0x7fe7f427f588>\nabfss://wwi-02@asadatalake176496.dfs.core.windows.net/sale-small/Year=2017/Quarter=Q2/Month=5/Day=20170513/sale-small-20170513-snappy.parquet\n<azure.storage.blob.models.ResourceProperties object at 0x7fe7f427fc18>\nabfss://wwi-02@asadatalake176496.dfs.core.windows.net/sale-small/Year=2017/Quarter=Q2/Month=5/Day=20170514/sale-small-20170514-snappy.parquet\n<azure.storage.blob.models.ResourceProperties object at 0x7fe804bca1d0>\nabfss://wwi-02@asadatalake176496.dfs.core.windows.net/sale-small/Year=2017/Quarter=Q2/Month=5/Day=20170515/sale-small-20170515-snappy.parquet\n<azure.storage.blob.models.ResourceProperties object at 0x7fe81b5dae48>\nabfss://wwi-02@asadatalake176496.dfs.core.windows.net/sale-small/Year=2017/Quarter=Q2/Month=5/Day=20170516/sale-small-20170516-snappy.parquet\n<azure.storage.blob.models.ResourceProperties object at 0x7fe81b5e0358>\nabfss://wwi-02@asadatalake176496.dfs.core.windows.net/sale-small/Year=2017/Quarter=Q2/Month=5/Day=20170517/sale-small-20170517-snappy.parquet\n<azure.storage.blob.models.ResourceProperties object at 0x7fe804bca8d0>\nabfss://wwi-02@asadatalake176496.dfs.core.windows.net/sale-small/Year=2017/Quarter=Q2/Month=5/Day=20170518/sale-small-20170518-snappy.parquet\n<azure.storage.blob.models.ResourceProperties object at 0x7fe81b554550>\nabfss://wwi-02@asadatalake176496.dfs.core.windows.net/sale-small/Year=2017/Quarter=Q2/Month=5/Day=20170519/sale-small-20170519-snappy.parquet\n<azure.storage.blob.models.ResourceProperties object at 0x7fe7f425feb8>\nabfss://wwi-02@asadatalake176496.dfs.core.windows.net/sale-small/Year=2017/Quarter=Q2/Month=5/Day=20170520/sale-small-20170520-snappy.parquet\n<azure.storage.blob.models.ResourceProperties object at 0x7fe81b5541d0>\nabfss://wwi-02@asadatalake176496.dfs.core.windows.net/sale-small/Year=2017/Quarter=Q2/Month=5/Day=20170521/sale-small-20170521-snappy.parquet\n<azure.storage.blob.models.ResourceProperties object at 0x7fe81b554780>\nabfss://wwi-02@asadatalake176496.dfs.core.windows.net/sale-small/Year=2017/Quarter=Q2/Month=5/Day=20170522/sale-small-20170522-snappy.parquet\n<azure.storage.blob.models.ResourceProperties object at 0x7fe7f425fc50>\nabfss://wwi-02@asadatalake176496.dfs.core.windows.net/sale-small/Year=2017/Quarter=Q2/Month=5/Day=20170523/sale-small-20170523-snappy.parquet\n<azure.storage.blob.models.ResourceProperties object at 0x7fe804bcaeb8>\nabfss://wwi-02@asadatalake176496.dfs.core.windows.net/sale-small/Year=2017/Quarter=Q2/Month=5/Day=20170524/sale-small-20170524-snappy.parquet\n<azure.storage.blob.models.ResourceProperties object at 0x7fe7f425fd30>\nabfss://wwi-02@asadatalake176496.dfs.core.windows.net/sale-small/Year=2017/Quarter=Q2/Month=5/Day=20170525/sale-small-20170525-snappy.parquet\n<azure.storage.blob.models.ResourceProperties object at 0x7fe81b5549b0>\nabfss://wwi-02@asadatalake176496.dfs.core.windows.net/sale-small/Year=2017/Quarter=Q2/Month=5/Day=20170526/sale-small-20170526-snappy.parquet\n<azure.storage.blob.models.ResourceProperties object at 0x7fe81b554048>\nabfss://wwi-02@asadatalake176496.dfs.core.windows.net/sale-small/Year=2017/Quarter=Q2/Month=5/Day=20170527/sale-small-20170527-snappy.parquet\n<azure.storage.blob.models.ResourceProperties object at 0x7fe7f427f278>\nabfss://wwi-02@asadatalake176496.dfs.core.windows.net/sale-small/Year=2017/Quarter=Q2/Month=5/Day=20170528/sale-small-20170528-snappy.parquet\n<azure.storage.blob.models.ResourceProperties object at 0x7fe7f427feb8>\nabfss://wwi-02@asadatalake176496.dfs.core.windows.net/sale-small/Year=2017/Quarter=Q2/Month=5/Day=20170529/sale-small-20170529-snappy.parquet\n<azure.storage.blob.models.ResourceProperties object at 0x7fe81b5daeb8>\nabfss://wwi-02@asadatalake176496.dfs.core.windows.net/sale-small/Year=2017/Quarter=Q2/Month=5/Day=20170530/sale-small-20170530-snappy.parquet\n<azure.storage.blob.models.ResourceProperties object at 0x7fe7f425fd68>\nabfss://wwi-02@asadatalake176496.dfs.core.windows.net/sale-small/Year=2017/Quarter=Q2/Month=5/Day=20170531/sale-small-20170531-snappy.parquet\n<azure.storage.blob.models.ResourceProperties object at 0x7fe7f4253f28>"
          },
          "metadata": {}
        }
      ],
      "metadata": {
        "outputCollapsed": true
      },
      "source": [
        "import numpy as np\n",
        "\n",
        "for i in np.arange(1, 32):\n",
        "\n",
        "    file_path = f'abfss://wwi-02@asadatalake176496.dfs.core.windows.net/sale-small/Year=2017/Quarter=Q2/Month=5/Day=201705{i:02}/sale-small-201705{i:02}-snappy.parquet'\n",
        "    print(file_path)\n",
        "\n",
        "    data_path = spark.read.load(file_path, format='parquet')\n",
        "    sale_df = data_path.toPandas()\n",
        "    block_blob_service.create_blob_from_text('wwi-02', f'sale-poc-v2/sale-201705{i:02}.csv', sale_df.to_csv(quotechar='\\'', index=False, header=True, escapechar='\\\\', doublequote=False))"
      ],
      "attachments": {}
    },
    {
      "cell_type": "code",
      "execution_count": 10,
      "outputs": [
        {
          "output_type": "execute_result",
          "execution_count": 10,
          "data": {
            "text/plain": "<azure.storage.blob.models.ResourceProperties object at 0x7fe802c17dd8>"
          },
          "metadata": {}
        }
      ],
      "metadata": {},
      "source": [
        "data_path = spark.read.load('abfss://wwi-02@asadatalake176496.dfs.core.windows.net/sale-small/Year=2017/Quarter=Q2/Month=5/Day=20170501/sale-small-20170501-snappy.parquet', format='parquet')\n",
        "sale_df = data_path.toPandas()\n",
        "\n",
        "from decimal import *\n",
        "\n",
        "sale_df['TotalAmount'] = sale_df['TotalAmount'] * Decimal(1.1)\n",
        "sale_df['ProfitAmount'] = sale_df['ProfitAmount'] * Decimal(1.1)\n",
        "\n",
        "block_blob_service.create_blob_from_text('wwi-02', 'sale-poc-v2/sale-20170501.csv', sale_df.to_csv(quotechar='\\'', index=False, header=True, escapechar='\\\\', doublequote=False))"
      ],
      "attachments": {}
    },
    {
      "cell_type": "code",
      "execution_count": 11,
      "outputs": [
        {
          "output_type": "execute_result",
          "execution_count": 11,
          "data": {
            "text/plain": "<azure.storage.blob.models.ResourceProperties object at 0x7fe802c17e80>\n/home/trusted-service-user/cluster-env/env/lib/python3.6/site-packages/pyarrow/__init__.py:152: UserWarning: pyarrow.open_stream is deprecated, please use pyarrow.ipc.open_stream\n  warnings.warn(\"pyarrow.open_stream is deprecated, please use \""
          },
          "metadata": {}
        }
      ],
      "metadata": {},
      "source": [
        "data_path = spark.read.load('abfss://wwi-02@asadatalake176496.dfs.core.windows.net/sale-small/Year=2017/Quarter=Q2/Month=5/Day=20170502/sale-small-20170502-snappy.parquet', format='parquet')\n",
        "sale_df = data_path.toPandas()\n",
        "\n",
        "from decimal import *\n",
        "\n",
        "sale_df['TotalAmount'] = sale_df['TotalAmount'] * Decimal(1.1)\n",
        "sale_df['ProfitAmount'] = sale_df['ProfitAmount'] * Decimal(1.1)\n",
        "\n",
        "block_blob_service.create_blob_from_text('wwi-02', 'sale-poc-v2/sale-20170502.csv', sale_df.to_csv(quotechar='\\'', index=False, header=False, escapechar='\\\\', doublequote=False, line_terminator=','))"
      ],
      "attachments": {}
    },
    {
      "cell_type": "code",
      "execution_count": 3,
      "outputs": [
        {
          "output_type": "execute_result",
          "execution_count": 3,
          "data": {
            "text/plain": "Found 10573487 tokens in content."
          },
          "metadata": {}
        }
      ],
      "metadata": {},
      "source": [
        "from azure.storage.blob import BlockBlobService\n",
        "\n",
        "block_blob_service = BlockBlobService(\n",
        "    account_name='asadatalake176496', account_key='1XM/nC/u7/JAC+FRHhFoyNeo1n3ipBY86quFoY9D3ITmPRoDFx8EMdjWwdCmN6Yg3RCsm7AFESDiaszF9VTxPw==') \n",
        "\n",
        "file_content = block_blob_service.get_blob_to_text('wwi-02', 'sale-poc-v2/sale-20170502.csv')\n",
        "\n",
        "tokens = file_content.content.split(',')\n",
        "\n",
        "print(f'Found {len(tokens)} tokens in content.')"
      ],
      "attachments": {}
    },
    {
      "cell_type": "code",
      "execution_count": null,
      "outputs": [],
      "metadata": {},
      "source": [
        "[tokens[i] for i in np.arange(0, 10)] "
      ],
      "attachments": {}
    },
    {
      "cell_type": "code",
      "execution_count": 7,
      "outputs": [],
      "metadata": {},
      "source": [
        "import numpy as np\n",
        "import pandas as pd\n",
        "\n",
        "row_list = []\n",
        "\n",
        "max_index = 11\n",
        "while max_index <= len(tokens):\n",
        "\n",
        "    row = [tokens[i] for i in np.arange(max_index - 11, max_index)] \n",
        "    row_list.append(row)\n",
        "\n",
        "    max_index += 11\n",
        "\n",
        ""
      ],
      "attachments": {}
    },
    {
      "cell_type": "code",
      "execution_count": 10,
      "outputs": [
        {
          "output_type": "execute_result",
          "execution_count": 10,
          "data": {
            "text/plain": "TransactionId CustomerId   ...   Minute StoreId\n0   586682a8-db73-4e45-a376-c7553a44b248          2   ...       17    9559\n1   586682a8-db73-4e45-a376-c7553a44b248          2   ...       17    9559\n2   586682a8-db73-4e45-a376-c7553a44b248          2   ...       17    9559\n3   586682a8-db73-4e45-a376-c7553a44b248          2   ...       17    9559\n4   586682a8-db73-4e45-a376-c7553a44b248          2   ...       17    9559\n5   586682a8-db73-4e45-a376-c7553a44b248          2   ...       17    9559\n6   586682a8-db73-4e45-a376-c7553a44b248          2   ...       17    9559\n7   586682a8-db73-4e45-a376-c7553a44b248          2   ...       17    9559\n8   586682a8-db73-4e45-a376-c7553a44b248          2   ...       17    9559\n9   586682a8-db73-4e45-a376-c7553a44b248          2   ...       17    9559\n10  586682a8-db73-4e45-a376-c7553a44b248          2   ...       17    9559\n11  21cacd35-336f-442e-8afd-8cb637678c56          4   ...       25    5286\n12  21cacd35-336f-442e-8afd-8cb637678c56          4   ...       25    5286\n13  21cacd35-336f-442e-8afd-8cb637678c56          4   ...       25    5286\n14  21cacd35-336f-442e-8afd-8cb637678c56          4   ...       25    5286\n15  21cacd35-336f-442e-8afd-8cb637678c56          4   ...       25    5286\n16  21cacd35-336f-442e-8afd-8cb637678c56          4   ...       25    5286\n17  21cacd35-336f-442e-8afd-8cb637678c56          4   ...       25    5286\n18  21cacd35-336f-442e-8afd-8cb637678c56          4   ...       25    5286\n19  21cacd35-336f-442e-8afd-8cb637678c56          4   ...       25    5286\n20  8482d371-90d8-45f2-b31e-990119f7c129         15   ...       20    6231\n21  8482d371-90d8-45f2-b31e-990119f7c129         15   ...       20    6231\n22  8482d371-90d8-45f2-b31e-990119f7c129         15   ...       20    6231\n23  8482d371-90d8-45f2-b31e-990119f7c129         15   ...       20    6231\n24  8482d371-90d8-45f2-b31e-990119f7c129         15   ...       20    6231\n25  8482d371-90d8-45f2-b31e-990119f7c129         15   ...       20    6231\n26  8482d371-90d8-45f2-b31e-990119f7c129         15   ...       20    6231\n27  8482d371-90d8-45f2-b31e-990119f7c129         15   ...       20    6231\n28  8482d371-90d8-45f2-b31e-990119f7c129         15   ...       20    6231\n29  a4a58e85-c753-4c96-9bf7-dccf207445ca         18   ...       36    3957\n..                                   ...        ...   ...      ...     ...\n70  f2db6005-f5d3-4e16-acfd-83d325800a90         63   ...       34    9649\n71  f2db6005-f5d3-4e16-acfd-83d325800a90         63   ...       34    9649\n72  f2db6005-f5d3-4e16-acfd-83d325800a90         63   ...       34    9649\n73  f2db6005-f5d3-4e16-acfd-83d325800a90         63   ...       34    9649\n74  f2db6005-f5d3-4e16-acfd-83d325800a90         63   ...       34    9649\n75  f2db6005-f5d3-4e16-acfd-83d325800a90         63   ...       34    9649\n76  f2db6005-f5d3-4e16-acfd-83d325800a90         63   ...       34    9649\n77  f2db6005-f5d3-4e16-acfd-83d325800a90         63   ...       34    9649\n78  1a7a913d-c50b-4b49-9302-b4a6629c81e1         71   ...        6    2736\n79  1a7a913d-c50b-4b49-9302-b4a6629c81e1         71   ...        6    2736\n80  1a7a913d-c50b-4b49-9302-b4a6629c81e1         71   ...        6    2736\n81  1a7a913d-c50b-4b49-9302-b4a6629c81e1         71   ...        6    2736\n82  1a7a913d-c50b-4b49-9302-b4a6629c81e1         71   ...        6    2736\n83  1a7a913d-c50b-4b49-9302-b4a6629c81e1         71   ...        6    2736\n84  1a7a913d-c50b-4b49-9302-b4a6629c81e1         71   ...        6    2736\n85  1a7a913d-c50b-4b49-9302-b4a6629c81e1         71   ...        6    2736\n86  1a7a913d-c50b-4b49-9302-b4a6629c81e1         71   ...        6    2736\n87  1f673cd3-0982-44b0-a3e8-f17dd3c40059         73   ...        0     706\n88  1f673cd3-0982-44b0-a3e8-f17dd3c40059         73   ...        0     706\n89  1f673cd3-0982-44b0-a3e8-f17dd3c40059         73   ...        0     706\n90  1f673cd3-0982-44b0-a3e8-f17dd3c40059         73   ...        0     706\n91  1f673cd3-0982-44b0-a3e8-f17dd3c40059         73   ...        0     706\n92  1f673cd3-0982-44b0-a3e8-f17dd3c40059         73   ...        0     706\n93  1f673cd3-0982-44b0-a3e8-f17dd3c40059         73   ...        0     706\n94  1f673cd3-0982-44b0-a3e8-f17dd3c40059         73   ...        0     706\n95  1f673cd3-0982-44b0-a3e8-f17dd3c40059         73   ...        0     706\n96  1f673cd3-0982-44b0-a3e8-f17dd3c40059         73   ...        0     706\n97  1f673cd3-0982-44b0-a3e8-f17dd3c40059         73   ...        0     706\n98  1f673cd3-0982-44b0-a3e8-f17dd3c40059         73   ...        0     706\n99  4a582346-d47a-413d-bc04-149f0354033e         83   ...       19     371\n\n[100 rows x 11 columns]"
          },
          "metadata": {}
        }
      ],
      "metadata": {
        "outputCollapsed": true
      },
      "source": [
        "df = pd.DataFrame(row_list, columns = ['TransactionId', 'CustomerId', 'ProductId', 'Quantity', 'Price', 'TotalAmount', 'TransactionDateId', 'ProfitAmount', 'Hour', 'Minute', 'StoreId'])\n",
        "df.head(100)"
      ],
      "attachments": {}
    },
    {
      "cell_type": "code",
      "execution_count": 8,
      "outputs": [],
      "metadata": {},
      "source": [
        "import numpy as np\n",
        "import pandas as pd\n",
        "\n",
        "data_path = spark.read.load('abfss://wwi-02@asadatalake176496.dfs.core.windows.net/data-generators/generator-customer.csv', format='CSV', header=True, quote='\\'')\n",
        "df = data_path.toPandas()\n",
        "df.columns"
      ],
      "attachments": {}
    },
    {
      "cell_type": "code",
      "execution_count": 15,
      "outputs": [
        {
          "output_type": "execute_result",
          "execution_count": 15,
          "data": {
            "text/plain": "0                  [26130 Jayden Prairie,  Mazieton Guyana]\n1                [77811 Berenice Mall,  Ziemeborough Nauru]\n2                [52204 Devan Valley,  West Nadia Slovenia]\n3                    [71108 Skye Light,  Libbiefort Taiwan]\n4            [66561 Vaughn Parks,  West Paolofort Dominica]\n5                 [48444 Keshawn Wells,  Lake Ebony Taiwan]\n6         [41088 Jakayla Wells,  East Cristianview Reunion]\n7                       [40865 Stephon Way,  Janport Malta]\n8         [13354 Thad Via,  Jakaylashire Syrian Arab Rep...\n9           [25612 Ethyl Divide,  Pansyhaven Liechtenstein]\n10            [90377 Prosacco Knolls,  Lake Hector Morocco]\n11        [43369 Waelchi Freeway,  Isabelleburgh Lao Peo...\n12               [17600 Tanner Vista,  New Nonaberg Angola]\n13        [90452 Abraham Drives,  Port Lesterborough Arm...\n14        [69582 Jaydon Streets,  New Kacie Heard Island...\n15        [56329 Simonis Passage,  Olsonmouth United Sta...\n16            [95892 Nyasia Union,  Alessandraview Romania]\n17        [89025 Liliana Court,  East Chyna Brunei Darus...\n18         [54801 Pascale Mills,  Brooklynborough Tanzania]\n19            [87802 Weimann Manor,  New Lizamouth Tunisia]\n20             [92907 Kraig Ferry,  New Kianside Australia]\n21        [39990 Walter Club,  Port Jadenchester French ...\n22            [50466 Aubrey Mill,  Port Janellemouth Palau]\n23                   [29264 Jon Ridge,  Lake Kavon Estonia]\n24                [44036 Marilyne Row,  Cecileborough Chad]\n25        [32640 Torphy Divide,  Port Lisafort South Afr...\n26          [43658 Francesco Street,  Isadorehaven Nigeria]\n27        [51582 Hulda Way,  East Angelaside Holy See (V...\n28        [26220 Ebert Ridges,  North Myrtismouth Saint ...\n29                     [42989 Zita Place,  Letastad Latvia]\n                                ...                        \n999970      [12013 Emelia Throughway,  Deetown Netherlands]\n999971         [21363 Otha Common,  Genovevaberg Indonesia]\n999972             [52239 Mills Creek,  Prestonview Poland]\n999973                [48135 Angie Row,  Daisyshire France]\n999974     [45195 Vivien Plain,  Port Chynaberg Kazakhstan]\n999975         [86585 Isadore Camp,  East Laylaland Gambia]\n999976     [64548 Aiyana Springs,  Camyllemouth Bangladesh]\n999977        [77614 Brekke Cliffs,  Heaneyburgh Hong Kong]\n999978    [60784 Janice Estates,  Rosenbaumfort Madagascar]\n999979    [34246 Silas Mountains,  South Lola Russian Fe...\n999980       [82016 Verla Skyway,  East Rosalee Kazakhstan]\n999981    [60257 Columbus Bridge,  East Marlenborough Tu...\n999982          [11892 Gonzalo Manor,  Aaronfurt Australia]\n999983    [23346 Cleo Corners,  South Lewmouth French Po...\n999984    [21480 Zaria Mountain,  West Hattie Kyrgyz Rep...\n999985                 [17903 Ima Loaf,  Quincystad Zambia]\n999986    [92148 Bartholome Rest,  Krajcikton Turkmenistan]\n999987     [62418 Colten Union,  West Josefina Netherlands]\n999988    [42486 Calista Overpass,  West Gunnerfort Indo...\n999989    [99791 Elena Gardens,  Port Nonaport Saint Hel...\n999990    [87339 Carmelo Mission,  New Mackenzie Madagas...\n999991            [17373 Mazie Plains,  Flatleyside Cyprus]\n999992      [54293 Evelyn Cliff,  Port Virgieville Vanuatu]\n999993    [10565 Jamir Manors,  North Alana Central Afri...\n999994          [60986 Nichole Lights,  Ernaville Pakistan]\n999995       [12678 Margret Avenue,  New Roosevelt Somalia]\n999996               [47591 Fahey Coves,  Port Hank Turkey]\n999997       [27451 Burnice Falls,  New Pierreberg Uruguay]\n999998    [27746 Harold Lane,  Cliffordville American Sa...\n999999             [58331 Bailee View,  Lake Catalina Cuba]\nName: Address, Length: 1000000, dtype: object"
          },
          "metadata": {}
        }
      ],
      "metadata": {},
      "source": [
        "df.Address.str.split(',')"
      ],
      "attachments": {}
    },
    {
      "cell_type": "code",
      "execution_count": null,
      "outputs": [],
      "metadata": {},
      "source": [],
      "attachments": {}
    }
  ]
}